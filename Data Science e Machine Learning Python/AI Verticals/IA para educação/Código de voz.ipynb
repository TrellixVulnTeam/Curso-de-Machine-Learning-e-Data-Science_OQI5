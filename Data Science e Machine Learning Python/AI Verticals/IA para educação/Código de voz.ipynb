{
 "cells": [
  {
   "cell_type": "code",
   "execution_count": 9,
   "metadata": {},
   "outputs": [],
   "source": [
    "import speech_recognition as sr\n",
    "# Função responsavel por ouvir e reconhecer a fala"
   ]
  },
  {
   "cell_type": "code",
   "execution_count": 11,
   "metadata": {},
   "outputs": [
    {
     "name": "stdout",
     "output_type": "stream",
     "text": [
      "Diga alguma coisa: \n",
      "Você disse: primeiro teste de voz do modo a biblioteca Speech recognition\n"
     ]
    }
   ],
   "source": [
    "def ouvir_microfone():\n",
    "    # Habilita o microfone para ouvir o usuário\n",
    "    microfone = sr.Recognizer()\n",
    "    with sr.Microphone() as source:\n",
    "        # chama a função de redução de ruído disponível na biblioteca\n",
    "        microfone.adjust_for_ambient_noise(source) \n",
    "        print('Diga alguma coisa: ')\n",
    "        # Armazena a informação de áudio na variável\n",
    "        audio = microfone.listen(source)\n",
    "        \n",
    "        \n",
    "    try:\n",
    "        # Passa o áudio para o reconhecedor de padrões do speech_recognition\n",
    "        frase = microfone.recognize_google(audio, language='pt-BR')\n",
    "        # Após alguns segundos, retorna a frase falada\n",
    "        print('Você disse: '+ frase)\n",
    "        \n",
    "        \n",
    "    except sr.UnkownValueError:\n",
    "        print('Não entendi!')\n",
    "        \n",
    "    return frase\n",
    "\n",
    "frase = ouvir_microfone()"
   ]
  },
  {
   "cell_type": "code",
   "execution_count": null,
   "metadata": {},
   "outputs": [],
   "source": [
    "# pip install SpeechRecognition\n",
    "# pip install C:\\Users\\Asus\\Downloads\\PyAudio-0.2.11-cp38-cp38-win_amd64.whl"
   ]
  }
 ],
 "metadata": {
  "kernelspec": {
   "display_name": "Python 3",
   "language": "python",
   "name": "python3"
  },
  "language_info": {
   "codemirror_mode": {
    "name": "ipython",
    "version": 3
   },
   "file_extension": ".py",
   "mimetype": "text/x-python",
   "name": "python",
   "nbconvert_exporter": "python",
   "pygments_lexer": "ipython3",
   "version": "3.8.5"
  }
 },
 "nbformat": 4,
 "nbformat_minor": 4
}
