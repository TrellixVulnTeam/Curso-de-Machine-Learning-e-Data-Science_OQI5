{
 "cells": [
  {
   "cell_type": "markdown",
   "metadata": {},
   "source": [
    "# Plotly e Cufflinks"
   ]
  },
  {
   "cell_type": "markdown",
   "metadata": {},
   "source": [
    "O Plotly é uma biblioteca que permite criar gráficos interativos que você pode usar em painéis ou sites (você pode salvá-los como arquivos html ou imagens estáticas).\n",
    "\n",
    "## Instalação\n",
    "\n",
    "Para que tudo funcione, você precisará instalar plotly e cufflinks para chamar plots diretamente de um DataFrame pandas. Essas bibliotecas não estão atualmente disponíveis através de ** conda **, mas estão disponíveis através de ** pip **. Instale as bibliotecas em sua linha de comando / terminal usando:\n",
    "\n",
    "    pip install plotly\n",
    "    pip install cufflinks\n",
    "\n",
    "** NOTA: Certifique-se de ter apenas uma instalação do Python no seu computador quando faz isso, caso contrário, a instalação pode não funcionar. **\n",
    "\n",
    "## Importações e Configuração"
   ]
  },
  {
   "cell_type": "code",
   "execution_count": 12,
   "metadata": {},
   "outputs": [],
   "source": [
    "import pandas as pd\n",
    "import numpy as np\n",
    "%matplotlib inline"
   ]
  },
  {
   "cell_type": "code",
   "execution_count": 13,
   "metadata": {},
   "outputs": [
    {
     "name": "stdout",
     "output_type": "stream",
     "text": [
      "4.14.3\n"
     ]
    }
   ],
   "source": [
    "from plotly import __version__\n",
    "from plotly.offline import download_plotlyjs, init_notebook_mode, plot, iplot\n",
    "\n",
    "print(__version__)"
   ]
  },
  {
   "cell_type": "code",
   "execution_count": 14,
   "metadata": {},
   "outputs": [],
   "source": [
    "import cufflinks as cf"
   ]
  },
  {
   "cell_type": "code",
   "execution_count": 15,
   "metadata": {},
   "outputs": [
    {
     "data": {
      "text/html": [
       "        <script type=\"text/javascript\">\n",
       "        window.PlotlyConfig = {MathJaxConfig: 'local'};\n",
       "        if (window.MathJax) {MathJax.Hub.Config({SVG: {font: \"STIX-Web\"}});}\n",
       "        if (typeof require !== 'undefined') {\n",
       "        require.undef(\"plotly\");\n",
       "        requirejs.config({\n",
       "            paths: {\n",
       "                'plotly': ['https://cdn.plot.ly/plotly-latest.min']\n",
       "            }\n",
       "        });\n",
       "        require(['plotly'], function(Plotly) {\n",
       "            window._Plotly = Plotly;\n",
       "        });\n",
       "        }\n",
       "        </script>\n",
       "        "
      ]
     },
     "metadata": {},
     "output_type": "display_data"
    }
   ],
   "source": [
    "# Para Notebooks\n",
    "init_notebook_mode(connected=True)"
   ]
  },
  {
   "cell_type": "code",
   "execution_count": 16,
   "metadata": {},
   "outputs": [
    {
     "data": {
      "text/html": [
       "        <script type=\"text/javascript\">\n",
       "        window.PlotlyConfig = {MathJaxConfig: 'local'};\n",
       "        if (window.MathJax) {MathJax.Hub.Config({SVG: {font: \"STIX-Web\"}});}\n",
       "        if (typeof require !== 'undefined') {\n",
       "        require.undef(\"plotly\");\n",
       "        requirejs.config({\n",
       "            paths: {\n",
       "                'plotly': ['https://cdn.plot.ly/plotly-latest.min']\n",
       "            }\n",
       "        });\n",
       "        require(['plotly'], function(Plotly) {\n",
       "            window._Plotly = Plotly;\n",
       "        });\n",
       "        }\n",
       "        </script>\n",
       "        "
      ]
     },
     "metadata": {},
     "output_type": "display_data"
    }
   ],
   "source": [
    "# For offline use\n",
    "cf.go_offline()"
   ]
  },
  {
   "cell_type": "markdown",
   "metadata": {},
   "source": [
    "### Dados forjados"
   ]
  },
  {
   "cell_type": "code",
   "execution_count": 6,
   "metadata": {},
   "outputs": [],
   "source": [
    "df = pd.DataFrame(np.random.randn(100,4),columns='A B C D'.split())"
   ]
  },
  {
   "cell_type": "code",
   "execution_count": 7,
   "metadata": {},
   "outputs": [
    {
     "data": {
      "text/html": [
       "<div>\n",
       "<style scoped>\n",
       "    .dataframe tbody tr th:only-of-type {\n",
       "        vertical-align: middle;\n",
       "    }\n",
       "\n",
       "    .dataframe tbody tr th {\n",
       "        vertical-align: top;\n",
       "    }\n",
       "\n",
       "    .dataframe thead th {\n",
       "        text-align: right;\n",
       "    }\n",
       "</style>\n",
       "<table border=\"1\" class=\"dataframe\">\n",
       "  <thead>\n",
       "    <tr style=\"text-align: right;\">\n",
       "      <th></th>\n",
       "      <th>A</th>\n",
       "      <th>B</th>\n",
       "      <th>C</th>\n",
       "      <th>D</th>\n",
       "    </tr>\n",
       "  </thead>\n",
       "  <tbody>\n",
       "    <tr>\n",
       "      <th>0</th>\n",
       "      <td>-1.040129</td>\n",
       "      <td>-0.289833</td>\n",
       "      <td>-0.394491</td>\n",
       "      <td>0.835890</td>\n",
       "    </tr>\n",
       "    <tr>\n",
       "      <th>1</th>\n",
       "      <td>0.754084</td>\n",
       "      <td>-0.816948</td>\n",
       "      <td>-1.121248</td>\n",
       "      <td>2.808938</td>\n",
       "    </tr>\n",
       "    <tr>\n",
       "      <th>2</th>\n",
       "      <td>0.475453</td>\n",
       "      <td>-0.101484</td>\n",
       "      <td>-0.115110</td>\n",
       "      <td>-1.499198</td>\n",
       "    </tr>\n",
       "    <tr>\n",
       "      <th>3</th>\n",
       "      <td>-0.674887</td>\n",
       "      <td>-0.748494</td>\n",
       "      <td>-0.969120</td>\n",
       "      <td>0.568436</td>\n",
       "    </tr>\n",
       "    <tr>\n",
       "      <th>4</th>\n",
       "      <td>-0.502868</td>\n",
       "      <td>-0.558265</td>\n",
       "      <td>0.002665</td>\n",
       "      <td>0.233104</td>\n",
       "    </tr>\n",
       "  </tbody>\n",
       "</table>\n",
       "</div>"
      ],
      "text/plain": [
       "          A         B         C         D\n",
       "0 -1.040129 -0.289833 -0.394491  0.835890\n",
       "1  0.754084 -0.816948 -1.121248  2.808938\n",
       "2  0.475453 -0.101484 -0.115110 -1.499198\n",
       "3 -0.674887 -0.748494 -0.969120  0.568436\n",
       "4 -0.502868 -0.558265  0.002665  0.233104"
      ]
     },
     "execution_count": 7,
     "metadata": {},
     "output_type": "execute_result"
    }
   ],
   "source": [
    "df.head()"
   ]
  },
  {
   "cell_type": "code",
   "execution_count": 8,
   "metadata": {},
   "outputs": [],
   "source": [
    "df2 = pd.DataFrame({'Categoria':['A','B','C'],'Valores':[32,43,50]})"
   ]
  },
  {
   "cell_type": "code",
   "execution_count": 9,
   "metadata": {},
   "outputs": [
    {
     "data": {
      "text/html": [
       "<div>\n",
       "<style scoped>\n",
       "    .dataframe tbody tr th:only-of-type {\n",
       "        vertical-align: middle;\n",
       "    }\n",
       "\n",
       "    .dataframe tbody tr th {\n",
       "        vertical-align: top;\n",
       "    }\n",
       "\n",
       "    .dataframe thead th {\n",
       "        text-align: right;\n",
       "    }\n",
       "</style>\n",
       "<table border=\"1\" class=\"dataframe\">\n",
       "  <thead>\n",
       "    <tr style=\"text-align: right;\">\n",
       "      <th></th>\n",
       "      <th>Categoria</th>\n",
       "      <th>Valores</th>\n",
       "    </tr>\n",
       "  </thead>\n",
       "  <tbody>\n",
       "    <tr>\n",
       "      <th>0</th>\n",
       "      <td>A</td>\n",
       "      <td>32</td>\n",
       "    </tr>\n",
       "    <tr>\n",
       "      <th>1</th>\n",
       "      <td>B</td>\n",
       "      <td>43</td>\n",
       "    </tr>\n",
       "    <tr>\n",
       "      <th>2</th>\n",
       "      <td>C</td>\n",
       "      <td>50</td>\n",
       "    </tr>\n",
       "  </tbody>\n",
       "</table>\n",
       "</div>"
      ],
      "text/plain": [
       "  Categoria  Valores\n",
       "0         A       32\n",
       "1         B       43\n",
       "2         C       50"
      ]
     },
     "execution_count": 9,
     "metadata": {},
     "output_type": "execute_result"
    }
   ],
   "source": [
    "df2.head()"
   ]
  },
  {
   "cell_type": "markdown",
   "metadata": {},
   "source": [
    "## Usando Cufflinks e iplot ()\n",
    "\n",
    "* Dispersão\n",
    "* Barras\n",
    "* BoxPlot\n",
    "* Spreads\n",
    "* Proporção\n",
    "* Mapa de calor\n",
    "* Superfícies 3D\n",
    "* Histograma\n",
    "* Bolha"
   ]
  },
  {
   "cell_type": "markdown",
   "metadata": {},
   "source": [
    "## Dispersão"
   ]
  },
  {
   "cell_type": "code",
   "execution_count": 10,
   "metadata": {},
   "outputs": [
    {
     "data": {
      "application/vnd.plotly.v1+json": {
       "config": {
        "linkText": "Export to plot.ly",
        "plotlyServerURL": "https://plot.ly",
        "showLink": true
       },
       "data": [
        {
         "line": {
          "color": "rgba(255, 153, 51, 1.0)",
          "dash": "solid",
          "shape": "linear",
          "width": 1.3
         },
         "marker": {
          "size": 10,
          "symbol": "circle"
         },
         "mode": "markers",
         "name": "B",
         "text": "",
         "type": "scatter",
         "x": [
          -1.0401294919952173,
          0.7540837883764145,
          0.4754525425630791,
          -0.6748870908287362,
          -0.5028681633354075,
          -1.545115592118102,
          0.4385873914218319,
          -0.7448993761396681,
          -2.272601378304192,
          2.348290149001387,
          -1.022242282050554,
          0.8280023223996548,
          0.07873141198557396,
          0.3087675608543512,
          1.0224283350187533,
          0.030720145282387472,
          -0.2119176158627523,
          -0.01599653212318083,
          -0.3913616364448441,
          -1.5795751106802804,
          1.1468288620565958,
          0.4973159033981794,
          -1.9013472528155446,
          -0.5322510410406922,
          0.4354083236982135,
          -0.8389836603309918,
          0.63250625191439,
          0.8020108286089704,
          0.1680001474329182,
          -0.03635115506012781,
          0.7159382576697422,
          0.5170952942994798,
          -0.4208887962003864,
          -0.852854444728073,
          0.03488494145210682,
          0.8707420113945227,
          -0.8621551581638811,
          0.34881145129166286,
          1.246164830050418,
          -0.4040670984432969,
          -0.16999960651721618,
          0.7702826270683759,
          -1.2465484743701372,
          1.0235240301432829,
          -0.9827310746533008,
          -1.3685359084453448,
          -1.555762514576057,
          -0.310412608073586,
          0.42784058214450094,
          0.7393591528414503,
          -0.17894082395310795,
          0.6490665839701796,
          -1.7845153300317413,
          0.5660054718136256,
          0.17895378642966125,
          0.028668596465502034,
          1.0984437009662795,
          1.0455101311924233,
          -0.07431303549503826,
          -0.012992158379034034,
          -0.1995304624066606,
          -0.2089848698983806,
          0.19457954135750175,
          1.3084467308939345,
          0.5846810561081601,
          -1.8397556931868735,
          -0.4890604222210714,
          -0.18499169606906368,
          -0.2973274305624725,
          -0.37909874978065117,
          1.4957987559756598,
          -0.6159986573181273,
          -0.24547663960831673,
          0.8259588546671423,
          0.2320018286227506,
          1.3860756506482823,
          -2.2969088365772,
          0.24270405862187572,
          -1.1735508353664528,
          -1.0854695474455966,
          0.4117828045133673,
          0.6980938976610915,
          -0.27703893620018377,
          0.44158644700903005,
          2.315900696039003,
          1.4760766316818896,
          0.6430545479341668,
          -0.5639279890784357,
          -1.200084558711711,
          -0.399970533777103,
          -0.48409637049958826,
          -0.11350869752556553,
          -0.5766176383523768,
          -0.2656149677596483,
          1.0680910339652843,
          -0.07807128816360841,
          -0.487754719734934,
          0.7330459724530421,
          -1.9161367158436546,
          1.6667640983996523
         ],
         "y": [
          -0.28983263678314597,
          -0.8169479361435581,
          -0.10148378188004077,
          -0.748494262256059,
          -0.5582652244502774,
          -0.36037903955588957,
          1.149895074698171,
          0.7016714440003219,
          -0.6863796647750956,
          1.3173593602387879,
          0.4866044910224147,
          -0.4653742100271251,
          -0.529699977871896,
          -0.40869937377654775,
          -2.5486499754974177,
          -0.9708773273169615,
          2.211548076913994,
          1.7765620092543595,
          -1.626097838237145,
          0.6692050254926118,
          -0.28721583356763475,
          0.302370011128094,
          0.2669949468236153,
          -0.38319982574182027,
          0.42646825629144214,
          -0.973178217530246,
          -0.8943184281411931,
          -0.21444633380224432,
          -1.4671503193874726,
          0.006132854065390305,
          -1.0220666887123597,
          1.643679383050032,
          0.8488020578950584,
          0.3410977483909045,
          0.7690744664331666,
          0.47223610763359697,
          0.9454017733692817,
          0.4347132784174497,
          0.4132931203526399,
          -0.7549841153565662,
          -0.583277796242386,
          -0.4547913169903659,
          -1.909722692901202,
          0.8602880805375047,
          1.2668509733843005,
          0.38921315419857755,
          -1.3058390007042817,
          0.0560880420088437,
          -0.7611504778718097,
          0.22427842178547364,
          0.6393896711477389,
          -0.23361690153326356,
          -1.0582332446307636,
          -0.2825496147287078,
          -0.24937584295088627,
          1.364049630086341,
          0.44841212493836835,
          0.7502743814027157,
          0.4632782338732586,
          -0.2081764792567062,
          -1.001357325235659,
          0.9907842309268651,
          1.5148089221476722,
          0.09189998885551912,
          -0.14822349816325553,
          -2.130692330840538,
          -0.5431104712437145,
          -2.3513178539124264,
          0.03760037350303423,
          2.5321954035573055,
          -0.8608566121890182,
          -0.8769362278876279,
          1.4037734093709349,
          0.32147341252819217,
          1.6447883170195194,
          -1.2543325345516667,
          1.6138535011035184,
          0.14627716689842465,
          -2.783897219711481,
          0.7129828324340545,
          -1.127320315035124,
          0.172624432355655,
          1.4667699454462124,
          -0.06254038227601047,
          1.065437358461133,
          -1.4383208553553297,
          -1.880693547475329,
          -0.277768247581571,
          -0.17205887198272193,
          -0.03581563684461571,
          0.8717079352780598,
          -0.5885613208085732,
          -0.9489155164081639,
          -1.17905984924152,
          0.13361371606619776,
          0.9991281270155986,
          0.5770007730157847,
          -0.5925585897114811,
          -0.5497414754879314,
          -0.7332407145505224
         ]
        }
       ],
       "layout": {
        "legend": {
         "bgcolor": "#F5F6F9",
         "font": {
          "color": "#4D5663"
         }
        },
        "paper_bgcolor": "#F5F6F9",
        "plot_bgcolor": "#F5F6F9",
        "template": {
         "data": {
          "bar": [
           {
            "error_x": {
             "color": "#2a3f5f"
            },
            "error_y": {
             "color": "#2a3f5f"
            },
            "marker": {
             "line": {
              "color": "#E5ECF6",
              "width": 0.5
             }
            },
            "type": "bar"
           }
          ],
          "barpolar": [
           {
            "marker": {
             "line": {
              "color": "#E5ECF6",
              "width": 0.5
             }
            },
            "type": "barpolar"
           }
          ],
          "carpet": [
           {
            "aaxis": {
             "endlinecolor": "#2a3f5f",
             "gridcolor": "white",
             "linecolor": "white",
             "minorgridcolor": "white",
             "startlinecolor": "#2a3f5f"
            },
            "baxis": {
             "endlinecolor": "#2a3f5f",
             "gridcolor": "white",
             "linecolor": "white",
             "minorgridcolor": "white",
             "startlinecolor": "#2a3f5f"
            },
            "type": "carpet"
           }
          ],
          "choropleth": [
           {
            "colorbar": {
             "outlinewidth": 0,
             "ticks": ""
            },
            "type": "choropleth"
           }
          ],
          "contour": [
           {
            "colorbar": {
             "outlinewidth": 0,
             "ticks": ""
            },
            "colorscale": [
             [
              0,
              "#0d0887"
             ],
             [
              0.1111111111111111,
              "#46039f"
             ],
             [
              0.2222222222222222,
              "#7201a8"
             ],
             [
              0.3333333333333333,
              "#9c179e"
             ],
             [
              0.4444444444444444,
              "#bd3786"
             ],
             [
              0.5555555555555556,
              "#d8576b"
             ],
             [
              0.6666666666666666,
              "#ed7953"
             ],
             [
              0.7777777777777778,
              "#fb9f3a"
             ],
             [
              0.8888888888888888,
              "#fdca26"
             ],
             [
              1,
              "#f0f921"
             ]
            ],
            "type": "contour"
           }
          ],
          "contourcarpet": [
           {
            "colorbar": {
             "outlinewidth": 0,
             "ticks": ""
            },
            "type": "contourcarpet"
           }
          ],
          "heatmap": [
           {
            "colorbar": {
             "outlinewidth": 0,
             "ticks": ""
            },
            "colorscale": [
             [
              0,
              "#0d0887"
             ],
             [
              0.1111111111111111,
              "#46039f"
             ],
             [
              0.2222222222222222,
              "#7201a8"
             ],
             [
              0.3333333333333333,
              "#9c179e"
             ],
             [
              0.4444444444444444,
              "#bd3786"
             ],
             [
              0.5555555555555556,
              "#d8576b"
             ],
             [
              0.6666666666666666,
              "#ed7953"
             ],
             [
              0.7777777777777778,
              "#fb9f3a"
             ],
             [
              0.8888888888888888,
              "#fdca26"
             ],
             [
              1,
              "#f0f921"
             ]
            ],
            "type": "heatmap"
           }
          ],
          "heatmapgl": [
           {
            "colorbar": {
             "outlinewidth": 0,
             "ticks": ""
            },
            "colorscale": [
             [
              0,
              "#0d0887"
             ],
             [
              0.1111111111111111,
              "#46039f"
             ],
             [
              0.2222222222222222,
              "#7201a8"
             ],
             [
              0.3333333333333333,
              "#9c179e"
             ],
             [
              0.4444444444444444,
              "#bd3786"
             ],
             [
              0.5555555555555556,
              "#d8576b"
             ],
             [
              0.6666666666666666,
              "#ed7953"
             ],
             [
              0.7777777777777778,
              "#fb9f3a"
             ],
             [
              0.8888888888888888,
              "#fdca26"
             ],
             [
              1,
              "#f0f921"
             ]
            ],
            "type": "heatmapgl"
           }
          ],
          "histogram": [
           {
            "marker": {
             "colorbar": {
              "outlinewidth": 0,
              "ticks": ""
             }
            },
            "type": "histogram"
           }
          ],
          "histogram2d": [
           {
            "colorbar": {
             "outlinewidth": 0,
             "ticks": ""
            },
            "colorscale": [
             [
              0,
              "#0d0887"
             ],
             [
              0.1111111111111111,
              "#46039f"
             ],
             [
              0.2222222222222222,
              "#7201a8"
             ],
             [
              0.3333333333333333,
              "#9c179e"
             ],
             [
              0.4444444444444444,
              "#bd3786"
             ],
             [
              0.5555555555555556,
              "#d8576b"
             ],
             [
              0.6666666666666666,
              "#ed7953"
             ],
             [
              0.7777777777777778,
              "#fb9f3a"
             ],
             [
              0.8888888888888888,
              "#fdca26"
             ],
             [
              1,
              "#f0f921"
             ]
            ],
            "type": "histogram2d"
           }
          ],
          "histogram2dcontour": [
           {
            "colorbar": {
             "outlinewidth": 0,
             "ticks": ""
            },
            "colorscale": [
             [
              0,
              "#0d0887"
             ],
             [
              0.1111111111111111,
              "#46039f"
             ],
             [
              0.2222222222222222,
              "#7201a8"
             ],
             [
              0.3333333333333333,
              "#9c179e"
             ],
             [
              0.4444444444444444,
              "#bd3786"
             ],
             [
              0.5555555555555556,
              "#d8576b"
             ],
             [
              0.6666666666666666,
              "#ed7953"
             ],
             [
              0.7777777777777778,
              "#fb9f3a"
             ],
             [
              0.8888888888888888,
              "#fdca26"
             ],
             [
              1,
              "#f0f921"
             ]
            ],
            "type": "histogram2dcontour"
           }
          ],
          "mesh3d": [
           {
            "colorbar": {
             "outlinewidth": 0,
             "ticks": ""
            },
            "type": "mesh3d"
           }
          ],
          "parcoords": [
           {
            "line": {
             "colorbar": {
              "outlinewidth": 0,
              "ticks": ""
             }
            },
            "type": "parcoords"
           }
          ],
          "pie": [
           {
            "automargin": true,
            "type": "pie"
           }
          ],
          "scatter": [
           {
            "marker": {
             "colorbar": {
              "outlinewidth": 0,
              "ticks": ""
             }
            },
            "type": "scatter"
           }
          ],
          "scatter3d": [
           {
            "line": {
             "colorbar": {
              "outlinewidth": 0,
              "ticks": ""
             }
            },
            "marker": {
             "colorbar": {
              "outlinewidth": 0,
              "ticks": ""
             }
            },
            "type": "scatter3d"
           }
          ],
          "scattercarpet": [
           {
            "marker": {
             "colorbar": {
              "outlinewidth": 0,
              "ticks": ""
             }
            },
            "type": "scattercarpet"
           }
          ],
          "scattergeo": [
           {
            "marker": {
             "colorbar": {
              "outlinewidth": 0,
              "ticks": ""
             }
            },
            "type": "scattergeo"
           }
          ],
          "scattergl": [
           {
            "marker": {
             "colorbar": {
              "outlinewidth": 0,
              "ticks": ""
             }
            },
            "type": "scattergl"
           }
          ],
          "scattermapbox": [
           {
            "marker": {
             "colorbar": {
              "outlinewidth": 0,
              "ticks": ""
             }
            },
            "type": "scattermapbox"
           }
          ],
          "scatterpolar": [
           {
            "marker": {
             "colorbar": {
              "outlinewidth": 0,
              "ticks": ""
             }
            },
            "type": "scatterpolar"
           }
          ],
          "scatterpolargl": [
           {
            "marker": {
             "colorbar": {
              "outlinewidth": 0,
              "ticks": ""
             }
            },
            "type": "scatterpolargl"
           }
          ],
          "scatterternary": [
           {
            "marker": {
             "colorbar": {
              "outlinewidth": 0,
              "ticks": ""
             }
            },
            "type": "scatterternary"
           }
          ],
          "surface": [
           {
            "colorbar": {
             "outlinewidth": 0,
             "ticks": ""
            },
            "colorscale": [
             [
              0,
              "#0d0887"
             ],
             [
              0.1111111111111111,
              "#46039f"
             ],
             [
              0.2222222222222222,
              "#7201a8"
             ],
             [
              0.3333333333333333,
              "#9c179e"
             ],
             [
              0.4444444444444444,
              "#bd3786"
             ],
             [
              0.5555555555555556,
              "#d8576b"
             ],
             [
              0.6666666666666666,
              "#ed7953"
             ],
             [
              0.7777777777777778,
              "#fb9f3a"
             ],
             [
              0.8888888888888888,
              "#fdca26"
             ],
             [
              1,
              "#f0f921"
             ]
            ],
            "type": "surface"
           }
          ],
          "table": [
           {
            "cells": {
             "fill": {
              "color": "#EBF0F8"
             },
             "line": {
              "color": "white"
             }
            },
            "header": {
             "fill": {
              "color": "#C8D4E3"
             },
             "line": {
              "color": "white"
             }
            },
            "type": "table"
           }
          ]
         },
         "layout": {
          "annotationdefaults": {
           "arrowcolor": "#2a3f5f",
           "arrowhead": 0,
           "arrowwidth": 1
          },
          "autotypenumbers": "strict",
          "coloraxis": {
           "colorbar": {
            "outlinewidth": 0,
            "ticks": ""
           }
          },
          "colorscale": {
           "diverging": [
            [
             0,
             "#8e0152"
            ],
            [
             0.1,
             "#c51b7d"
            ],
            [
             0.2,
             "#de77ae"
            ],
            [
             0.3,
             "#f1b6da"
            ],
            [
             0.4,
             "#fde0ef"
            ],
            [
             0.5,
             "#f7f7f7"
            ],
            [
             0.6,
             "#e6f5d0"
            ],
            [
             0.7,
             "#b8e186"
            ],
            [
             0.8,
             "#7fbc41"
            ],
            [
             0.9,
             "#4d9221"
            ],
            [
             1,
             "#276419"
            ]
           ],
           "sequential": [
            [
             0,
             "#0d0887"
            ],
            [
             0.1111111111111111,
             "#46039f"
            ],
            [
             0.2222222222222222,
             "#7201a8"
            ],
            [
             0.3333333333333333,
             "#9c179e"
            ],
            [
             0.4444444444444444,
             "#bd3786"
            ],
            [
             0.5555555555555556,
             "#d8576b"
            ],
            [
             0.6666666666666666,
             "#ed7953"
            ],
            [
             0.7777777777777778,
             "#fb9f3a"
            ],
            [
             0.8888888888888888,
             "#fdca26"
            ],
            [
             1,
             "#f0f921"
            ]
           ],
           "sequentialminus": [
            [
             0,
             "#0d0887"
            ],
            [
             0.1111111111111111,
             "#46039f"
            ],
            [
             0.2222222222222222,
             "#7201a8"
            ],
            [
             0.3333333333333333,
             "#9c179e"
            ],
            [
             0.4444444444444444,
             "#bd3786"
            ],
            [
             0.5555555555555556,
             "#d8576b"
            ],
            [
             0.6666666666666666,
             "#ed7953"
            ],
            [
             0.7777777777777778,
             "#fb9f3a"
            ],
            [
             0.8888888888888888,
             "#fdca26"
            ],
            [
             1,
             "#f0f921"
            ]
           ]
          },
          "colorway": [
           "#636efa",
           "#EF553B",
           "#00cc96",
           "#ab63fa",
           "#FFA15A",
           "#19d3f3",
           "#FF6692",
           "#B6E880",
           "#FF97FF",
           "#FECB52"
          ],
          "font": {
           "color": "#2a3f5f"
          },
          "geo": {
           "bgcolor": "white",
           "lakecolor": "white",
           "landcolor": "#E5ECF6",
           "showlakes": true,
           "showland": true,
           "subunitcolor": "white"
          },
          "hoverlabel": {
           "align": "left"
          },
          "hovermode": "closest",
          "mapbox": {
           "style": "light"
          },
          "paper_bgcolor": "white",
          "plot_bgcolor": "#E5ECF6",
          "polar": {
           "angularaxis": {
            "gridcolor": "white",
            "linecolor": "white",
            "ticks": ""
           },
           "bgcolor": "#E5ECF6",
           "radialaxis": {
            "gridcolor": "white",
            "linecolor": "white",
            "ticks": ""
           }
          },
          "scene": {
           "xaxis": {
            "backgroundcolor": "#E5ECF6",
            "gridcolor": "white",
            "gridwidth": 2,
            "linecolor": "white",
            "showbackground": true,
            "ticks": "",
            "zerolinecolor": "white"
           },
           "yaxis": {
            "backgroundcolor": "#E5ECF6",
            "gridcolor": "white",
            "gridwidth": 2,
            "linecolor": "white",
            "showbackground": true,
            "ticks": "",
            "zerolinecolor": "white"
           },
           "zaxis": {
            "backgroundcolor": "#E5ECF6",
            "gridcolor": "white",
            "gridwidth": 2,
            "linecolor": "white",
            "showbackground": true,
            "ticks": "",
            "zerolinecolor": "white"
           }
          },
          "shapedefaults": {
           "line": {
            "color": "#2a3f5f"
           }
          },
          "ternary": {
           "aaxis": {
            "gridcolor": "white",
            "linecolor": "white",
            "ticks": ""
           },
           "baxis": {
            "gridcolor": "white",
            "linecolor": "white",
            "ticks": ""
           },
           "bgcolor": "#E5ECF6",
           "caxis": {
            "gridcolor": "white",
            "linecolor": "white",
            "ticks": ""
           }
          },
          "title": {
           "x": 0.05
          },
          "xaxis": {
           "automargin": true,
           "gridcolor": "white",
           "linecolor": "white",
           "ticks": "",
           "title": {
            "standoff": 15
           },
           "zerolinecolor": "white",
           "zerolinewidth": 2
          },
          "yaxis": {
           "automargin": true,
           "gridcolor": "white",
           "linecolor": "white",
           "ticks": "",
           "title": {
            "standoff": 15
           },
           "zerolinecolor": "white",
           "zerolinewidth": 2
          }
         }
        },
        "title": {
         "font": {
          "color": "#4D5663"
         }
        },
        "xaxis": {
         "gridcolor": "#E1E5ED",
         "showgrid": true,
         "tickfont": {
          "color": "#4D5663"
         },
         "title": {
          "font": {
           "color": "#4D5663"
          },
          "text": ""
         },
         "zerolinecolor": "#E1E5ED"
        },
        "yaxis": {
         "gridcolor": "#E1E5ED",
         "showgrid": true,
         "tickfont": {
          "color": "#4D5663"
         },
         "title": {
          "font": {
           "color": "#4D5663"
          },
          "text": ""
         },
         "zerolinecolor": "#E1E5ED"
        }
       }
      },
      "text/html": [
       "<div>                            <div id=\"869827c6-1717-4e25-b856-24fab242c661\" class=\"plotly-graph-div\" style=\"height:525px; width:100%;\"></div>            <script type=\"text/javascript\">                require([\"plotly\"], function(Plotly) {                    window.PLOTLYENV=window.PLOTLYENV || {};\n",
       "                    window.PLOTLYENV.BASE_URL='https://plot.ly';                                    if (document.getElementById(\"869827c6-1717-4e25-b856-24fab242c661\")) {                    Plotly.newPlot(                        \"869827c6-1717-4e25-b856-24fab242c661\",                        [{\"line\": {\"color\": \"rgba(255, 153, 51, 1.0)\", \"dash\": \"solid\", \"shape\": \"linear\", \"width\": 1.3}, \"marker\": {\"size\": 10, \"symbol\": \"circle\"}, \"mode\": \"markers\", \"name\": \"B\", \"text\": \"\", \"type\": \"scatter\", \"x\": [-1.0401294919952173, 0.7540837883764145, 0.4754525425630791, -0.6748870908287362, -0.5028681633354075, -1.545115592118102, 0.4385873914218319, -0.7448993761396681, -2.272601378304192, 2.348290149001387, -1.022242282050554, 0.8280023223996548, 0.07873141198557396, 0.3087675608543512, 1.0224283350187533, 0.030720145282387472, -0.2119176158627523, -0.01599653212318083, -0.3913616364448441, -1.5795751106802804, 1.1468288620565958, 0.4973159033981794, -1.9013472528155446, -0.5322510410406922, 0.4354083236982135, -0.8389836603309918, 0.63250625191439, 0.8020108286089704, 0.1680001474329182, -0.03635115506012781, 0.7159382576697422, 0.5170952942994798, -0.4208887962003864, -0.852854444728073, 0.03488494145210682, 0.8707420113945227, -0.8621551581638811, 0.34881145129166286, 1.246164830050418, -0.4040670984432969, -0.16999960651721618, 0.7702826270683759, -1.2465484743701372, 1.0235240301432829, -0.9827310746533008, -1.3685359084453448, -1.555762514576057, -0.310412608073586, 0.42784058214450094, 0.7393591528414503, -0.17894082395310795, 0.6490665839701796, -1.7845153300317413, 0.5660054718136256, 0.17895378642966125, 0.028668596465502034, 1.0984437009662795, 1.0455101311924233, -0.07431303549503826, -0.012992158379034034, -0.1995304624066606, -0.2089848698983806, 0.19457954135750175, 1.3084467308939345, 0.5846810561081601, -1.8397556931868735, -0.4890604222210714, -0.18499169606906368, -0.2973274305624725, -0.37909874978065117, 1.4957987559756598, -0.6159986573181273, -0.24547663960831673, 0.8259588546671423, 0.2320018286227506, 1.3860756506482823, -2.2969088365772, 0.24270405862187572, -1.1735508353664528, -1.0854695474455966, 0.4117828045133673, 0.6980938976610915, -0.27703893620018377, 0.44158644700903005, 2.315900696039003, 1.4760766316818896, 0.6430545479341668, -0.5639279890784357, -1.200084558711711, -0.399970533777103, -0.48409637049958826, -0.11350869752556553, -0.5766176383523768, -0.2656149677596483, 1.0680910339652843, -0.07807128816360841, -0.487754719734934, 0.7330459724530421, -1.9161367158436546, 1.6667640983996523], \"y\": [-0.28983263678314597, -0.8169479361435581, -0.10148378188004077, -0.748494262256059, -0.5582652244502774, -0.36037903955588957, 1.149895074698171, 0.7016714440003219, -0.6863796647750956, 1.3173593602387879, 0.4866044910224147, -0.4653742100271251, -0.529699977871896, -0.40869937377654775, -2.5486499754974177, -0.9708773273169615, 2.211548076913994, 1.7765620092543595, -1.626097838237145, 0.6692050254926118, -0.28721583356763475, 0.302370011128094, 0.2669949468236153, -0.38319982574182027, 0.42646825629144214, -0.973178217530246, -0.8943184281411931, -0.21444633380224432, -1.4671503193874726, 0.006132854065390305, -1.0220666887123597, 1.643679383050032, 0.8488020578950584, 0.3410977483909045, 0.7690744664331666, 0.47223610763359697, 0.9454017733692817, 0.4347132784174497, 0.4132931203526399, -0.7549841153565662, -0.583277796242386, -0.4547913169903659, -1.909722692901202, 0.8602880805375047, 1.2668509733843005, 0.38921315419857755, -1.3058390007042817, 0.0560880420088437, -0.7611504778718097, 0.22427842178547364, 0.6393896711477389, -0.23361690153326356, -1.0582332446307636, -0.2825496147287078, -0.24937584295088627, 1.364049630086341, 0.44841212493836835, 0.7502743814027157, 0.4632782338732586, -0.2081764792567062, -1.001357325235659, 0.9907842309268651, 1.5148089221476722, 0.09189998885551912, -0.14822349816325553, -2.130692330840538, -0.5431104712437145, -2.3513178539124264, 0.03760037350303423, 2.5321954035573055, -0.8608566121890182, -0.8769362278876279, 1.4037734093709349, 0.32147341252819217, 1.6447883170195194, -1.2543325345516667, 1.6138535011035184, 0.14627716689842465, -2.783897219711481, 0.7129828324340545, -1.127320315035124, 0.172624432355655, 1.4667699454462124, -0.06254038227601047, 1.065437358461133, -1.4383208553553297, -1.880693547475329, -0.277768247581571, -0.17205887198272193, -0.03581563684461571, 0.8717079352780598, -0.5885613208085732, -0.9489155164081639, -1.17905984924152, 0.13361371606619776, 0.9991281270155986, 0.5770007730157847, -0.5925585897114811, -0.5497414754879314, -0.7332407145505224]}],                        {\"legend\": {\"bgcolor\": \"#F5F6F9\", \"font\": {\"color\": \"#4D5663\"}}, \"paper_bgcolor\": \"#F5F6F9\", \"plot_bgcolor\": \"#F5F6F9\", \"template\": {\"data\": {\"bar\": [{\"error_x\": {\"color\": \"#2a3f5f\"}, \"error_y\": {\"color\": \"#2a3f5f\"}, \"marker\": {\"line\": {\"color\": \"#E5ECF6\", \"width\": 0.5}}, \"type\": \"bar\"}], \"barpolar\": [{\"marker\": {\"line\": {\"color\": \"#E5ECF6\", \"width\": 0.5}}, \"type\": \"barpolar\"}], \"carpet\": [{\"aaxis\": {\"endlinecolor\": \"#2a3f5f\", \"gridcolor\": \"white\", \"linecolor\": \"white\", \"minorgridcolor\": \"white\", \"startlinecolor\": \"#2a3f5f\"}, \"baxis\": {\"endlinecolor\": \"#2a3f5f\", \"gridcolor\": \"white\", \"linecolor\": \"white\", \"minorgridcolor\": \"white\", \"startlinecolor\": \"#2a3f5f\"}, \"type\": \"carpet\"}], \"choropleth\": [{\"colorbar\": {\"outlinewidth\": 0, \"ticks\": \"\"}, \"type\": \"choropleth\"}], \"contour\": [{\"colorbar\": {\"outlinewidth\": 0, \"ticks\": \"\"}, \"colorscale\": [[0.0, \"#0d0887\"], [0.1111111111111111, \"#46039f\"], [0.2222222222222222, \"#7201a8\"], [0.3333333333333333, \"#9c179e\"], [0.4444444444444444, \"#bd3786\"], [0.5555555555555556, \"#d8576b\"], [0.6666666666666666, \"#ed7953\"], [0.7777777777777778, \"#fb9f3a\"], [0.8888888888888888, \"#fdca26\"], [1.0, \"#f0f921\"]], \"type\": \"contour\"}], \"contourcarpet\": [{\"colorbar\": {\"outlinewidth\": 0, \"ticks\": \"\"}, \"type\": \"contourcarpet\"}], \"heatmap\": [{\"colorbar\": {\"outlinewidth\": 0, \"ticks\": \"\"}, \"colorscale\": [[0.0, \"#0d0887\"], [0.1111111111111111, \"#46039f\"], [0.2222222222222222, \"#7201a8\"], [0.3333333333333333, \"#9c179e\"], [0.4444444444444444, \"#bd3786\"], [0.5555555555555556, \"#d8576b\"], [0.6666666666666666, \"#ed7953\"], [0.7777777777777778, \"#fb9f3a\"], [0.8888888888888888, \"#fdca26\"], [1.0, \"#f0f921\"]], \"type\": \"heatmap\"}], \"heatmapgl\": [{\"colorbar\": {\"outlinewidth\": 0, \"ticks\": \"\"}, \"colorscale\": [[0.0, \"#0d0887\"], [0.1111111111111111, \"#46039f\"], [0.2222222222222222, \"#7201a8\"], [0.3333333333333333, \"#9c179e\"], [0.4444444444444444, \"#bd3786\"], [0.5555555555555556, \"#d8576b\"], [0.6666666666666666, \"#ed7953\"], [0.7777777777777778, \"#fb9f3a\"], [0.8888888888888888, \"#fdca26\"], [1.0, \"#f0f921\"]], \"type\": \"heatmapgl\"}], \"histogram\": [{\"marker\": {\"colorbar\": {\"outlinewidth\": 0, \"ticks\": \"\"}}, \"type\": \"histogram\"}], \"histogram2d\": [{\"colorbar\": {\"outlinewidth\": 0, \"ticks\": \"\"}, \"colorscale\": [[0.0, \"#0d0887\"], [0.1111111111111111, \"#46039f\"], [0.2222222222222222, \"#7201a8\"], [0.3333333333333333, \"#9c179e\"], [0.4444444444444444, \"#bd3786\"], [0.5555555555555556, \"#d8576b\"], [0.6666666666666666, \"#ed7953\"], [0.7777777777777778, \"#fb9f3a\"], [0.8888888888888888, \"#fdca26\"], [1.0, \"#f0f921\"]], \"type\": \"histogram2d\"}], \"histogram2dcontour\": [{\"colorbar\": {\"outlinewidth\": 0, \"ticks\": \"\"}, \"colorscale\": [[0.0, \"#0d0887\"], [0.1111111111111111, \"#46039f\"], [0.2222222222222222, \"#7201a8\"], [0.3333333333333333, \"#9c179e\"], [0.4444444444444444, \"#bd3786\"], [0.5555555555555556, \"#d8576b\"], [0.6666666666666666, \"#ed7953\"], [0.7777777777777778, \"#fb9f3a\"], [0.8888888888888888, \"#fdca26\"], [1.0, \"#f0f921\"]], \"type\": \"histogram2dcontour\"}], \"mesh3d\": [{\"colorbar\": {\"outlinewidth\": 0, \"ticks\": \"\"}, \"type\": \"mesh3d\"}], \"parcoords\": [{\"line\": {\"colorbar\": {\"outlinewidth\": 0, \"ticks\": \"\"}}, \"type\": \"parcoords\"}], \"pie\": [{\"automargin\": true, \"type\": \"pie\"}], \"scatter\": [{\"marker\": {\"colorbar\": {\"outlinewidth\": 0, \"ticks\": \"\"}}, \"type\": \"scatter\"}], \"scatter3d\": [{\"line\": {\"colorbar\": {\"outlinewidth\": 0, \"ticks\": \"\"}}, \"marker\": {\"colorbar\": {\"outlinewidth\": 0, \"ticks\": \"\"}}, \"type\": \"scatter3d\"}], \"scattercarpet\": [{\"marker\": {\"colorbar\": {\"outlinewidth\": 0, \"ticks\": \"\"}}, \"type\": \"scattercarpet\"}], \"scattergeo\": [{\"marker\": {\"colorbar\": {\"outlinewidth\": 0, \"ticks\": \"\"}}, \"type\": \"scattergeo\"}], \"scattergl\": [{\"marker\": {\"colorbar\": {\"outlinewidth\": 0, \"ticks\": \"\"}}, \"type\": \"scattergl\"}], \"scattermapbox\": [{\"marker\": {\"colorbar\": {\"outlinewidth\": 0, \"ticks\": \"\"}}, \"type\": \"scattermapbox\"}], \"scatterpolar\": [{\"marker\": {\"colorbar\": {\"outlinewidth\": 0, \"ticks\": \"\"}}, \"type\": \"scatterpolar\"}], \"scatterpolargl\": [{\"marker\": {\"colorbar\": {\"outlinewidth\": 0, \"ticks\": \"\"}}, \"type\": \"scatterpolargl\"}], \"scatterternary\": [{\"marker\": {\"colorbar\": {\"outlinewidth\": 0, \"ticks\": \"\"}}, \"type\": \"scatterternary\"}], \"surface\": [{\"colorbar\": {\"outlinewidth\": 0, \"ticks\": \"\"}, \"colorscale\": [[0.0, \"#0d0887\"], [0.1111111111111111, \"#46039f\"], [0.2222222222222222, \"#7201a8\"], [0.3333333333333333, \"#9c179e\"], [0.4444444444444444, \"#bd3786\"], [0.5555555555555556, \"#d8576b\"], [0.6666666666666666, \"#ed7953\"], [0.7777777777777778, \"#fb9f3a\"], [0.8888888888888888, \"#fdca26\"], [1.0, \"#f0f921\"]], \"type\": \"surface\"}], \"table\": [{\"cells\": {\"fill\": {\"color\": \"#EBF0F8\"}, \"line\": {\"color\": \"white\"}}, \"header\": {\"fill\": {\"color\": \"#C8D4E3\"}, \"line\": {\"color\": \"white\"}}, \"type\": \"table\"}]}, \"layout\": {\"annotationdefaults\": {\"arrowcolor\": \"#2a3f5f\", \"arrowhead\": 0, \"arrowwidth\": 1}, \"autotypenumbers\": \"strict\", \"coloraxis\": {\"colorbar\": {\"outlinewidth\": 0, \"ticks\": \"\"}}, \"colorscale\": {\"diverging\": [[0, \"#8e0152\"], [0.1, \"#c51b7d\"], [0.2, \"#de77ae\"], [0.3, \"#f1b6da\"], [0.4, \"#fde0ef\"], [0.5, \"#f7f7f7\"], [0.6, \"#e6f5d0\"], [0.7, \"#b8e186\"], [0.8, \"#7fbc41\"], [0.9, \"#4d9221\"], [1, \"#276419\"]], \"sequential\": [[0.0, \"#0d0887\"], [0.1111111111111111, \"#46039f\"], [0.2222222222222222, \"#7201a8\"], [0.3333333333333333, \"#9c179e\"], [0.4444444444444444, \"#bd3786\"], [0.5555555555555556, \"#d8576b\"], [0.6666666666666666, \"#ed7953\"], [0.7777777777777778, \"#fb9f3a\"], [0.8888888888888888, \"#fdca26\"], [1.0, \"#f0f921\"]], \"sequentialminus\": [[0.0, \"#0d0887\"], [0.1111111111111111, \"#46039f\"], [0.2222222222222222, \"#7201a8\"], [0.3333333333333333, \"#9c179e\"], [0.4444444444444444, \"#bd3786\"], [0.5555555555555556, \"#d8576b\"], [0.6666666666666666, \"#ed7953\"], [0.7777777777777778, \"#fb9f3a\"], [0.8888888888888888, \"#fdca26\"], [1.0, \"#f0f921\"]]}, \"colorway\": [\"#636efa\", \"#EF553B\", \"#00cc96\", \"#ab63fa\", \"#FFA15A\", \"#19d3f3\", \"#FF6692\", \"#B6E880\", \"#FF97FF\", \"#FECB52\"], \"font\": {\"color\": \"#2a3f5f\"}, \"geo\": {\"bgcolor\": \"white\", \"lakecolor\": \"white\", \"landcolor\": \"#E5ECF6\", \"showlakes\": true, \"showland\": true, \"subunitcolor\": \"white\"}, \"hoverlabel\": {\"align\": \"left\"}, \"hovermode\": \"closest\", \"mapbox\": {\"style\": \"light\"}, \"paper_bgcolor\": \"white\", \"plot_bgcolor\": \"#E5ECF6\", \"polar\": {\"angularaxis\": {\"gridcolor\": \"white\", \"linecolor\": \"white\", \"ticks\": \"\"}, \"bgcolor\": \"#E5ECF6\", \"radialaxis\": {\"gridcolor\": \"white\", \"linecolor\": \"white\", \"ticks\": \"\"}}, \"scene\": {\"xaxis\": {\"backgroundcolor\": \"#E5ECF6\", \"gridcolor\": \"white\", \"gridwidth\": 2, \"linecolor\": \"white\", \"showbackground\": true, \"ticks\": \"\", \"zerolinecolor\": \"white\"}, \"yaxis\": {\"backgroundcolor\": \"#E5ECF6\", \"gridcolor\": \"white\", \"gridwidth\": 2, \"linecolor\": \"white\", \"showbackground\": true, \"ticks\": \"\", \"zerolinecolor\": \"white\"}, \"zaxis\": {\"backgroundcolor\": \"#E5ECF6\", \"gridcolor\": \"white\", \"gridwidth\": 2, \"linecolor\": \"white\", \"showbackground\": true, \"ticks\": \"\", \"zerolinecolor\": \"white\"}}, \"shapedefaults\": {\"line\": {\"color\": \"#2a3f5f\"}}, \"ternary\": {\"aaxis\": {\"gridcolor\": \"white\", \"linecolor\": \"white\", \"ticks\": \"\"}, \"baxis\": {\"gridcolor\": \"white\", \"linecolor\": \"white\", \"ticks\": \"\"}, \"bgcolor\": \"#E5ECF6\", \"caxis\": {\"gridcolor\": \"white\", \"linecolor\": \"white\", \"ticks\": \"\"}}, \"title\": {\"x\": 0.05}, \"xaxis\": {\"automargin\": true, \"gridcolor\": \"white\", \"linecolor\": \"white\", \"ticks\": \"\", \"title\": {\"standoff\": 15}, \"zerolinecolor\": \"white\", \"zerolinewidth\": 2}, \"yaxis\": {\"automargin\": true, \"gridcolor\": \"white\", \"linecolor\": \"white\", \"ticks\": \"\", \"title\": {\"standoff\": 15}, \"zerolinecolor\": \"white\", \"zerolinewidth\": 2}}}, \"title\": {\"font\": {\"color\": \"#4D5663\"}}, \"xaxis\": {\"gridcolor\": \"#E1E5ED\", \"showgrid\": true, \"tickfont\": {\"color\": \"#4D5663\"}, \"title\": {\"font\": {\"color\": \"#4D5663\"}, \"text\": \"\"}, \"zerolinecolor\": \"#E1E5ED\"}, \"yaxis\": {\"gridcolor\": \"#E1E5ED\", \"showgrid\": true, \"tickfont\": {\"color\": \"#4D5663\"}, \"title\": {\"font\": {\"color\": \"#4D5663\"}, \"text\": \"\"}, \"zerolinecolor\": \"#E1E5ED\"}},                        {\"showLink\": true, \"linkText\": \"Export to plot.ly\", \"plotlyServerURL\": \"https://plot.ly\", \"responsive\": true}                    ).then(function(){\n",
       "                            \n",
       "var gd = document.getElementById('869827c6-1717-4e25-b856-24fab242c661');\n",
       "var x = new MutationObserver(function (mutations, observer) {{\n",
       "        var display = window.getComputedStyle(gd).display;\n",
       "        if (!display || display === 'none') {{\n",
       "            console.log([gd, 'removed!']);\n",
       "            Plotly.purge(gd);\n",
       "            observer.disconnect();\n",
       "        }}\n",
       "}});\n",
       "\n",
       "// Listen for the removal of the full notebook cells\n",
       "var notebookContainer = gd.closest('#notebook-container');\n",
       "if (notebookContainer) {{\n",
       "    x.observe(notebookContainer, {childList: true});\n",
       "}}\n",
       "\n",
       "// Listen for the clearing of the current output cell\n",
       "var outputEl = gd.closest('.output');\n",
       "if (outputEl) {{\n",
       "    x.observe(outputEl, {childList: true});\n",
       "}}\n",
       "\n",
       "                        })                };                });            </script>        </div>"
      ]
     },
     "metadata": {},
     "output_type": "display_data"
    }
   ],
   "source": [
    "df.iplot(kind='scatter',x='A',y='B',mode='markers',size=10)"
   ]
  },
  {
   "cell_type": "markdown",
   "metadata": {},
   "source": [
    "## Plots de barra"
   ]
  },
  {
   "cell_type": "code",
   "execution_count": 11,
   "metadata": {},
   "outputs": [
    {
     "data": {
      "application/vnd.plotly.v1+json": {
       "config": {
        "linkText": "Export to plot.ly",
        "plotlyServerURL": "https://plot.ly",
        "showLink": true
       },
       "data": [
        {
         "marker": {
          "color": "rgba(255, 153, 51, 0.6)",
          "line": {
           "color": "rgba(255, 153, 51, 1.0)",
           "width": 1
          }
         },
         "name": "Valores",
         "orientation": "v",
         "text": "",
         "type": "bar",
         "x": [
          "A",
          "B",
          "C"
         ],
         "y": [
          32,
          43,
          50
         ]
        }
       ],
       "layout": {
        "legend": {
         "bgcolor": "#F5F6F9",
         "font": {
          "color": "#4D5663"
         }
        },
        "paper_bgcolor": "#F5F6F9",
        "plot_bgcolor": "#F5F6F9",
        "template": {
         "data": {
          "bar": [
           {
            "error_x": {
             "color": "#2a3f5f"
            },
            "error_y": {
             "color": "#2a3f5f"
            },
            "marker": {
             "line": {
              "color": "#E5ECF6",
              "width": 0.5
             }
            },
            "type": "bar"
           }
          ],
          "barpolar": [
           {
            "marker": {
             "line": {
              "color": "#E5ECF6",
              "width": 0.5
             }
            },
            "type": "barpolar"
           }
          ],
          "carpet": [
           {
            "aaxis": {
             "endlinecolor": "#2a3f5f",
             "gridcolor": "white",
             "linecolor": "white",
             "minorgridcolor": "white",
             "startlinecolor": "#2a3f5f"
            },
            "baxis": {
             "endlinecolor": "#2a3f5f",
             "gridcolor": "white",
             "linecolor": "white",
             "minorgridcolor": "white",
             "startlinecolor": "#2a3f5f"
            },
            "type": "carpet"
           }
          ],
          "choropleth": [
           {
            "colorbar": {
             "outlinewidth": 0,
             "ticks": ""
            },
            "type": "choropleth"
           }
          ],
          "contour": [
           {
            "colorbar": {
             "outlinewidth": 0,
             "ticks": ""
            },
            "colorscale": [
             [
              0,
              "#0d0887"
             ],
             [
              0.1111111111111111,
              "#46039f"
             ],
             [
              0.2222222222222222,
              "#7201a8"
             ],
             [
              0.3333333333333333,
              "#9c179e"
             ],
             [
              0.4444444444444444,
              "#bd3786"
             ],
             [
              0.5555555555555556,
              "#d8576b"
             ],
             [
              0.6666666666666666,
              "#ed7953"
             ],
             [
              0.7777777777777778,
              "#fb9f3a"
             ],
             [
              0.8888888888888888,
              "#fdca26"
             ],
             [
              1,
              "#f0f921"
             ]
            ],
            "type": "contour"
           }
          ],
          "contourcarpet": [
           {
            "colorbar": {
             "outlinewidth": 0,
             "ticks": ""
            },
            "type": "contourcarpet"
           }
          ],
          "heatmap": [
           {
            "colorbar": {
             "outlinewidth": 0,
             "ticks": ""
            },
            "colorscale": [
             [
              0,
              "#0d0887"
             ],
             [
              0.1111111111111111,
              "#46039f"
             ],
             [
              0.2222222222222222,
              "#7201a8"
             ],
             [
              0.3333333333333333,
              "#9c179e"
             ],
             [
              0.4444444444444444,
              "#bd3786"
             ],
             [
              0.5555555555555556,
              "#d8576b"
             ],
             [
              0.6666666666666666,
              "#ed7953"
             ],
             [
              0.7777777777777778,
              "#fb9f3a"
             ],
             [
              0.8888888888888888,
              "#fdca26"
             ],
             [
              1,
              "#f0f921"
             ]
            ],
            "type": "heatmap"
           }
          ],
          "heatmapgl": [
           {
            "colorbar": {
             "outlinewidth": 0,
             "ticks": ""
            },
            "colorscale": [
             [
              0,
              "#0d0887"
             ],
             [
              0.1111111111111111,
              "#46039f"
             ],
             [
              0.2222222222222222,
              "#7201a8"
             ],
             [
              0.3333333333333333,
              "#9c179e"
             ],
             [
              0.4444444444444444,
              "#bd3786"
             ],
             [
              0.5555555555555556,
              "#d8576b"
             ],
             [
              0.6666666666666666,
              "#ed7953"
             ],
             [
              0.7777777777777778,
              "#fb9f3a"
             ],
             [
              0.8888888888888888,
              "#fdca26"
             ],
             [
              1,
              "#f0f921"
             ]
            ],
            "type": "heatmapgl"
           }
          ],
          "histogram": [
           {
            "marker": {
             "colorbar": {
              "outlinewidth": 0,
              "ticks": ""
             }
            },
            "type": "histogram"
           }
          ],
          "histogram2d": [
           {
            "colorbar": {
             "outlinewidth": 0,
             "ticks": ""
            },
            "colorscale": [
             [
              0,
              "#0d0887"
             ],
             [
              0.1111111111111111,
              "#46039f"
             ],
             [
              0.2222222222222222,
              "#7201a8"
             ],
             [
              0.3333333333333333,
              "#9c179e"
             ],
             [
              0.4444444444444444,
              "#bd3786"
             ],
             [
              0.5555555555555556,
              "#d8576b"
             ],
             [
              0.6666666666666666,
              "#ed7953"
             ],
             [
              0.7777777777777778,
              "#fb9f3a"
             ],
             [
              0.8888888888888888,
              "#fdca26"
             ],
             [
              1,
              "#f0f921"
             ]
            ],
            "type": "histogram2d"
           }
          ],
          "histogram2dcontour": [
           {
            "colorbar": {
             "outlinewidth": 0,
             "ticks": ""
            },
            "colorscale": [
             [
              0,
              "#0d0887"
             ],
             [
              0.1111111111111111,
              "#46039f"
             ],
             [
              0.2222222222222222,
              "#7201a8"
             ],
             [
              0.3333333333333333,
              "#9c179e"
             ],
             [
              0.4444444444444444,
              "#bd3786"
             ],
             [
              0.5555555555555556,
              "#d8576b"
             ],
             [
              0.6666666666666666,
              "#ed7953"
             ],
             [
              0.7777777777777778,
              "#fb9f3a"
             ],
             [
              0.8888888888888888,
              "#fdca26"
             ],
             [
              1,
              "#f0f921"
             ]
            ],
            "type": "histogram2dcontour"
           }
          ],
          "mesh3d": [
           {
            "colorbar": {
             "outlinewidth": 0,
             "ticks": ""
            },
            "type": "mesh3d"
           }
          ],
          "parcoords": [
           {
            "line": {
             "colorbar": {
              "outlinewidth": 0,
              "ticks": ""
             }
            },
            "type": "parcoords"
           }
          ],
          "pie": [
           {
            "automargin": true,
            "type": "pie"
           }
          ],
          "scatter": [
           {
            "marker": {
             "colorbar": {
              "outlinewidth": 0,
              "ticks": ""
             }
            },
            "type": "scatter"
           }
          ],
          "scatter3d": [
           {
            "line": {
             "colorbar": {
              "outlinewidth": 0,
              "ticks": ""
             }
            },
            "marker": {
             "colorbar": {
              "outlinewidth": 0,
              "ticks": ""
             }
            },
            "type": "scatter3d"
           }
          ],
          "scattercarpet": [
           {
            "marker": {
             "colorbar": {
              "outlinewidth": 0,
              "ticks": ""
             }
            },
            "type": "scattercarpet"
           }
          ],
          "scattergeo": [
           {
            "marker": {
             "colorbar": {
              "outlinewidth": 0,
              "ticks": ""
             }
            },
            "type": "scattergeo"
           }
          ],
          "scattergl": [
           {
            "marker": {
             "colorbar": {
              "outlinewidth": 0,
              "ticks": ""
             }
            },
            "type": "scattergl"
           }
          ],
          "scattermapbox": [
           {
            "marker": {
             "colorbar": {
              "outlinewidth": 0,
              "ticks": ""
             }
            },
            "type": "scattermapbox"
           }
          ],
          "scatterpolar": [
           {
            "marker": {
             "colorbar": {
              "outlinewidth": 0,
              "ticks": ""
             }
            },
            "type": "scatterpolar"
           }
          ],
          "scatterpolargl": [
           {
            "marker": {
             "colorbar": {
              "outlinewidth": 0,
              "ticks": ""
             }
            },
            "type": "scatterpolargl"
           }
          ],
          "scatterternary": [
           {
            "marker": {
             "colorbar": {
              "outlinewidth": 0,
              "ticks": ""
             }
            },
            "type": "scatterternary"
           }
          ],
          "surface": [
           {
            "colorbar": {
             "outlinewidth": 0,
             "ticks": ""
            },
            "colorscale": [
             [
              0,
              "#0d0887"
             ],
             [
              0.1111111111111111,
              "#46039f"
             ],
             [
              0.2222222222222222,
              "#7201a8"
             ],
             [
              0.3333333333333333,
              "#9c179e"
             ],
             [
              0.4444444444444444,
              "#bd3786"
             ],
             [
              0.5555555555555556,
              "#d8576b"
             ],
             [
              0.6666666666666666,
              "#ed7953"
             ],
             [
              0.7777777777777778,
              "#fb9f3a"
             ],
             [
              0.8888888888888888,
              "#fdca26"
             ],
             [
              1,
              "#f0f921"
             ]
            ],
            "type": "surface"
           }
          ],
          "table": [
           {
            "cells": {
             "fill": {
              "color": "#EBF0F8"
             },
             "line": {
              "color": "white"
             }
            },
            "header": {
             "fill": {
              "color": "#C8D4E3"
             },
             "line": {
              "color": "white"
             }
            },
            "type": "table"
           }
          ]
         },
         "layout": {
          "annotationdefaults": {
           "arrowcolor": "#2a3f5f",
           "arrowhead": 0,
           "arrowwidth": 1
          },
          "autotypenumbers": "strict",
          "coloraxis": {
           "colorbar": {
            "outlinewidth": 0,
            "ticks": ""
           }
          },
          "colorscale": {
           "diverging": [
            [
             0,
             "#8e0152"
            ],
            [
             0.1,
             "#c51b7d"
            ],
            [
             0.2,
             "#de77ae"
            ],
            [
             0.3,
             "#f1b6da"
            ],
            [
             0.4,
             "#fde0ef"
            ],
            [
             0.5,
             "#f7f7f7"
            ],
            [
             0.6,
             "#e6f5d0"
            ],
            [
             0.7,
             "#b8e186"
            ],
            [
             0.8,
             "#7fbc41"
            ],
            [
             0.9,
             "#4d9221"
            ],
            [
             1,
             "#276419"
            ]
           ],
           "sequential": [
            [
             0,
             "#0d0887"
            ],
            [
             0.1111111111111111,
             "#46039f"
            ],
            [
             0.2222222222222222,
             "#7201a8"
            ],
            [
             0.3333333333333333,
             "#9c179e"
            ],
            [
             0.4444444444444444,
             "#bd3786"
            ],
            [
             0.5555555555555556,
             "#d8576b"
            ],
            [
             0.6666666666666666,
             "#ed7953"
            ],
            [
             0.7777777777777778,
             "#fb9f3a"
            ],
            [
             0.8888888888888888,
             "#fdca26"
            ],
            [
             1,
             "#f0f921"
            ]
           ],
           "sequentialminus": [
            [
             0,
             "#0d0887"
            ],
            [
             0.1111111111111111,
             "#46039f"
            ],
            [
             0.2222222222222222,
             "#7201a8"
            ],
            [
             0.3333333333333333,
             "#9c179e"
            ],
            [
             0.4444444444444444,
             "#bd3786"
            ],
            [
             0.5555555555555556,
             "#d8576b"
            ],
            [
             0.6666666666666666,
             "#ed7953"
            ],
            [
             0.7777777777777778,
             "#fb9f3a"
            ],
            [
             0.8888888888888888,
             "#fdca26"
            ],
            [
             1,
             "#f0f921"
            ]
           ]
          },
          "colorway": [
           "#636efa",
           "#EF553B",
           "#00cc96",
           "#ab63fa",
           "#FFA15A",
           "#19d3f3",
           "#FF6692",
           "#B6E880",
           "#FF97FF",
           "#FECB52"
          ],
          "font": {
           "color": "#2a3f5f"
          },
          "geo": {
           "bgcolor": "white",
           "lakecolor": "white",
           "landcolor": "#E5ECF6",
           "showlakes": true,
           "showland": true,
           "subunitcolor": "white"
          },
          "hoverlabel": {
           "align": "left"
          },
          "hovermode": "closest",
          "mapbox": {
           "style": "light"
          },
          "paper_bgcolor": "white",
          "plot_bgcolor": "#E5ECF6",
          "polar": {
           "angularaxis": {
            "gridcolor": "white",
            "linecolor": "white",
            "ticks": ""
           },
           "bgcolor": "#E5ECF6",
           "radialaxis": {
            "gridcolor": "white",
            "linecolor": "white",
            "ticks": ""
           }
          },
          "scene": {
           "xaxis": {
            "backgroundcolor": "#E5ECF6",
            "gridcolor": "white",
            "gridwidth": 2,
            "linecolor": "white",
            "showbackground": true,
            "ticks": "",
            "zerolinecolor": "white"
           },
           "yaxis": {
            "backgroundcolor": "#E5ECF6",
            "gridcolor": "white",
            "gridwidth": 2,
            "linecolor": "white",
            "showbackground": true,
            "ticks": "",
            "zerolinecolor": "white"
           },
           "zaxis": {
            "backgroundcolor": "#E5ECF6",
            "gridcolor": "white",
            "gridwidth": 2,
            "linecolor": "white",
            "showbackground": true,
            "ticks": "",
            "zerolinecolor": "white"
           }
          },
          "shapedefaults": {
           "line": {
            "color": "#2a3f5f"
           }
          },
          "ternary": {
           "aaxis": {
            "gridcolor": "white",
            "linecolor": "white",
            "ticks": ""
           },
           "baxis": {
            "gridcolor": "white",
            "linecolor": "white",
            "ticks": ""
           },
           "bgcolor": "#E5ECF6",
           "caxis": {
            "gridcolor": "white",
            "linecolor": "white",
            "ticks": ""
           }
          },
          "title": {
           "x": 0.05
          },
          "xaxis": {
           "automargin": true,
           "gridcolor": "white",
           "linecolor": "white",
           "ticks": "",
           "title": {
            "standoff": 15
           },
           "zerolinecolor": "white",
           "zerolinewidth": 2
          },
          "yaxis": {
           "automargin": true,
           "gridcolor": "white",
           "linecolor": "white",
           "ticks": "",
           "title": {
            "standoff": 15
           },
           "zerolinecolor": "white",
           "zerolinewidth": 2
          }
         }
        },
        "title": {
         "font": {
          "color": "#4D5663"
         }
        },
        "xaxis": {
         "gridcolor": "#E1E5ED",
         "showgrid": true,
         "tickfont": {
          "color": "#4D5663"
         },
         "title": {
          "font": {
           "color": "#4D5663"
          },
          "text": ""
         },
         "zerolinecolor": "#E1E5ED"
        },
        "yaxis": {
         "gridcolor": "#E1E5ED",
         "showgrid": true,
         "tickfont": {
          "color": "#4D5663"
         },
         "title": {
          "font": {
           "color": "#4D5663"
          },
          "text": ""
         },
         "zerolinecolor": "#E1E5ED"
        }
       }
      },
      "text/html": [
       "<div>                            <div id=\"757ef50e-4679-4c39-8db4-e2aba073e54a\" class=\"plotly-graph-div\" style=\"height:525px; width:100%;\"></div>            <script type=\"text/javascript\">                require([\"plotly\"], function(Plotly) {                    window.PLOTLYENV=window.PLOTLYENV || {};\n",
       "                    window.PLOTLYENV.BASE_URL='https://plot.ly';                                    if (document.getElementById(\"757ef50e-4679-4c39-8db4-e2aba073e54a\")) {                    Plotly.newPlot(                        \"757ef50e-4679-4c39-8db4-e2aba073e54a\",                        [{\"marker\": {\"color\": \"rgba(255, 153, 51, 0.6)\", \"line\": {\"color\": \"rgba(255, 153, 51, 1.0)\", \"width\": 1}}, \"name\": \"Valores\", \"orientation\": \"v\", \"text\": \"\", \"type\": \"bar\", \"x\": [\"A\", \"B\", \"C\"], \"y\": [32, 43, 50]}],                        {\"legend\": {\"bgcolor\": \"#F5F6F9\", \"font\": {\"color\": \"#4D5663\"}}, \"paper_bgcolor\": \"#F5F6F9\", \"plot_bgcolor\": \"#F5F6F9\", \"template\": {\"data\": {\"bar\": [{\"error_x\": {\"color\": \"#2a3f5f\"}, \"error_y\": {\"color\": \"#2a3f5f\"}, \"marker\": {\"line\": {\"color\": \"#E5ECF6\", \"width\": 0.5}}, \"type\": \"bar\"}], \"barpolar\": [{\"marker\": {\"line\": {\"color\": \"#E5ECF6\", \"width\": 0.5}}, \"type\": \"barpolar\"}], \"carpet\": [{\"aaxis\": {\"endlinecolor\": \"#2a3f5f\", \"gridcolor\": \"white\", \"linecolor\": \"white\", \"minorgridcolor\": \"white\", \"startlinecolor\": \"#2a3f5f\"}, \"baxis\": {\"endlinecolor\": \"#2a3f5f\", \"gridcolor\": \"white\", \"linecolor\": \"white\", \"minorgridcolor\": \"white\", \"startlinecolor\": \"#2a3f5f\"}, \"type\": \"carpet\"}], \"choropleth\": [{\"colorbar\": {\"outlinewidth\": 0, \"ticks\": \"\"}, \"type\": \"choropleth\"}], \"contour\": [{\"colorbar\": {\"outlinewidth\": 0, \"ticks\": \"\"}, \"colorscale\": [[0.0, \"#0d0887\"], [0.1111111111111111, \"#46039f\"], [0.2222222222222222, \"#7201a8\"], [0.3333333333333333, \"#9c179e\"], [0.4444444444444444, \"#bd3786\"], [0.5555555555555556, \"#d8576b\"], [0.6666666666666666, \"#ed7953\"], [0.7777777777777778, \"#fb9f3a\"], [0.8888888888888888, \"#fdca26\"], [1.0, \"#f0f921\"]], \"type\": \"contour\"}], \"contourcarpet\": [{\"colorbar\": {\"outlinewidth\": 0, \"ticks\": \"\"}, \"type\": \"contourcarpet\"}], \"heatmap\": [{\"colorbar\": {\"outlinewidth\": 0, \"ticks\": \"\"}, \"colorscale\": [[0.0, \"#0d0887\"], [0.1111111111111111, \"#46039f\"], [0.2222222222222222, \"#7201a8\"], [0.3333333333333333, \"#9c179e\"], [0.4444444444444444, \"#bd3786\"], [0.5555555555555556, \"#d8576b\"], [0.6666666666666666, \"#ed7953\"], [0.7777777777777778, \"#fb9f3a\"], [0.8888888888888888, \"#fdca26\"], [1.0, \"#f0f921\"]], \"type\": \"heatmap\"}], \"heatmapgl\": [{\"colorbar\": {\"outlinewidth\": 0, \"ticks\": \"\"}, \"colorscale\": [[0.0, \"#0d0887\"], [0.1111111111111111, \"#46039f\"], [0.2222222222222222, \"#7201a8\"], [0.3333333333333333, \"#9c179e\"], [0.4444444444444444, \"#bd3786\"], [0.5555555555555556, \"#d8576b\"], [0.6666666666666666, \"#ed7953\"], [0.7777777777777778, \"#fb9f3a\"], [0.8888888888888888, \"#fdca26\"], [1.0, \"#f0f921\"]], \"type\": \"heatmapgl\"}], \"histogram\": [{\"marker\": {\"colorbar\": {\"outlinewidth\": 0, \"ticks\": \"\"}}, \"type\": \"histogram\"}], \"histogram2d\": [{\"colorbar\": {\"outlinewidth\": 0, \"ticks\": \"\"}, \"colorscale\": [[0.0, \"#0d0887\"], [0.1111111111111111, \"#46039f\"], [0.2222222222222222, \"#7201a8\"], [0.3333333333333333, \"#9c179e\"], [0.4444444444444444, \"#bd3786\"], [0.5555555555555556, \"#d8576b\"], [0.6666666666666666, \"#ed7953\"], [0.7777777777777778, \"#fb9f3a\"], [0.8888888888888888, \"#fdca26\"], [1.0, \"#f0f921\"]], \"type\": \"histogram2d\"}], \"histogram2dcontour\": [{\"colorbar\": {\"outlinewidth\": 0, \"ticks\": \"\"}, \"colorscale\": [[0.0, \"#0d0887\"], [0.1111111111111111, \"#46039f\"], [0.2222222222222222, \"#7201a8\"], [0.3333333333333333, \"#9c179e\"], [0.4444444444444444, \"#bd3786\"], [0.5555555555555556, \"#d8576b\"], [0.6666666666666666, \"#ed7953\"], [0.7777777777777778, \"#fb9f3a\"], [0.8888888888888888, \"#fdca26\"], [1.0, \"#f0f921\"]], \"type\": \"histogram2dcontour\"}], \"mesh3d\": [{\"colorbar\": {\"outlinewidth\": 0, \"ticks\": \"\"}, \"type\": \"mesh3d\"}], \"parcoords\": [{\"line\": {\"colorbar\": {\"outlinewidth\": 0, \"ticks\": \"\"}}, \"type\": \"parcoords\"}], \"pie\": [{\"automargin\": true, \"type\": \"pie\"}], \"scatter\": [{\"marker\": {\"colorbar\": {\"outlinewidth\": 0, \"ticks\": \"\"}}, \"type\": \"scatter\"}], \"scatter3d\": [{\"line\": {\"colorbar\": {\"outlinewidth\": 0, \"ticks\": \"\"}}, \"marker\": {\"colorbar\": {\"outlinewidth\": 0, \"ticks\": \"\"}}, \"type\": \"scatter3d\"}], \"scattercarpet\": [{\"marker\": {\"colorbar\": {\"outlinewidth\": 0, \"ticks\": \"\"}}, \"type\": \"scattercarpet\"}], \"scattergeo\": [{\"marker\": {\"colorbar\": {\"outlinewidth\": 0, \"ticks\": \"\"}}, \"type\": \"scattergeo\"}], \"scattergl\": [{\"marker\": {\"colorbar\": {\"outlinewidth\": 0, \"ticks\": \"\"}}, \"type\": \"scattergl\"}], \"scattermapbox\": [{\"marker\": {\"colorbar\": {\"outlinewidth\": 0, \"ticks\": \"\"}}, \"type\": \"scattermapbox\"}], \"scatterpolar\": [{\"marker\": {\"colorbar\": {\"outlinewidth\": 0, \"ticks\": \"\"}}, \"type\": \"scatterpolar\"}], \"scatterpolargl\": [{\"marker\": {\"colorbar\": {\"outlinewidth\": 0, \"ticks\": \"\"}}, \"type\": \"scatterpolargl\"}], \"scatterternary\": [{\"marker\": {\"colorbar\": {\"outlinewidth\": 0, \"ticks\": \"\"}}, \"type\": \"scatterternary\"}], \"surface\": [{\"colorbar\": {\"outlinewidth\": 0, \"ticks\": \"\"}, \"colorscale\": [[0.0, \"#0d0887\"], [0.1111111111111111, \"#46039f\"], [0.2222222222222222, \"#7201a8\"], [0.3333333333333333, \"#9c179e\"], [0.4444444444444444, \"#bd3786\"], [0.5555555555555556, \"#d8576b\"], [0.6666666666666666, \"#ed7953\"], [0.7777777777777778, \"#fb9f3a\"], [0.8888888888888888, \"#fdca26\"], [1.0, \"#f0f921\"]], \"type\": \"surface\"}], \"table\": [{\"cells\": {\"fill\": {\"color\": \"#EBF0F8\"}, \"line\": {\"color\": \"white\"}}, \"header\": {\"fill\": {\"color\": \"#C8D4E3\"}, \"line\": {\"color\": \"white\"}}, \"type\": \"table\"}]}, \"layout\": {\"annotationdefaults\": {\"arrowcolor\": \"#2a3f5f\", \"arrowhead\": 0, \"arrowwidth\": 1}, \"autotypenumbers\": \"strict\", \"coloraxis\": {\"colorbar\": {\"outlinewidth\": 0, \"ticks\": \"\"}}, \"colorscale\": {\"diverging\": [[0, \"#8e0152\"], [0.1, \"#c51b7d\"], [0.2, \"#de77ae\"], [0.3, \"#f1b6da\"], [0.4, \"#fde0ef\"], [0.5, \"#f7f7f7\"], [0.6, \"#e6f5d0\"], [0.7, \"#b8e186\"], [0.8, \"#7fbc41\"], [0.9, \"#4d9221\"], [1, \"#276419\"]], \"sequential\": [[0.0, \"#0d0887\"], [0.1111111111111111, \"#46039f\"], [0.2222222222222222, \"#7201a8\"], [0.3333333333333333, \"#9c179e\"], [0.4444444444444444, \"#bd3786\"], [0.5555555555555556, \"#d8576b\"], [0.6666666666666666, \"#ed7953\"], [0.7777777777777778, \"#fb9f3a\"], [0.8888888888888888, \"#fdca26\"], [1.0, \"#f0f921\"]], \"sequentialminus\": [[0.0, \"#0d0887\"], [0.1111111111111111, \"#46039f\"], [0.2222222222222222, \"#7201a8\"], [0.3333333333333333, \"#9c179e\"], [0.4444444444444444, \"#bd3786\"], [0.5555555555555556, \"#d8576b\"], [0.6666666666666666, \"#ed7953\"], [0.7777777777777778, \"#fb9f3a\"], [0.8888888888888888, \"#fdca26\"], [1.0, \"#f0f921\"]]}, \"colorway\": [\"#636efa\", \"#EF553B\", \"#00cc96\", \"#ab63fa\", \"#FFA15A\", \"#19d3f3\", \"#FF6692\", \"#B6E880\", \"#FF97FF\", \"#FECB52\"], \"font\": {\"color\": \"#2a3f5f\"}, \"geo\": {\"bgcolor\": \"white\", \"lakecolor\": \"white\", \"landcolor\": \"#E5ECF6\", \"showlakes\": true, \"showland\": true, \"subunitcolor\": \"white\"}, \"hoverlabel\": {\"align\": \"left\"}, \"hovermode\": \"closest\", \"mapbox\": {\"style\": \"light\"}, \"paper_bgcolor\": \"white\", \"plot_bgcolor\": \"#E5ECF6\", \"polar\": {\"angularaxis\": {\"gridcolor\": \"white\", \"linecolor\": \"white\", \"ticks\": \"\"}, \"bgcolor\": \"#E5ECF6\", \"radialaxis\": {\"gridcolor\": \"white\", \"linecolor\": \"white\", \"ticks\": \"\"}}, \"scene\": {\"xaxis\": {\"backgroundcolor\": \"#E5ECF6\", \"gridcolor\": \"white\", \"gridwidth\": 2, \"linecolor\": \"white\", \"showbackground\": true, \"ticks\": \"\", \"zerolinecolor\": \"white\"}, \"yaxis\": {\"backgroundcolor\": \"#E5ECF6\", \"gridcolor\": \"white\", \"gridwidth\": 2, \"linecolor\": \"white\", \"showbackground\": true, \"ticks\": \"\", \"zerolinecolor\": \"white\"}, \"zaxis\": {\"backgroundcolor\": \"#E5ECF6\", \"gridcolor\": \"white\", \"gridwidth\": 2, \"linecolor\": \"white\", \"showbackground\": true, \"ticks\": \"\", \"zerolinecolor\": \"white\"}}, \"shapedefaults\": {\"line\": {\"color\": \"#2a3f5f\"}}, \"ternary\": {\"aaxis\": {\"gridcolor\": \"white\", \"linecolor\": \"white\", \"ticks\": \"\"}, \"baxis\": {\"gridcolor\": \"white\", \"linecolor\": \"white\", \"ticks\": \"\"}, \"bgcolor\": \"#E5ECF6\", \"caxis\": {\"gridcolor\": \"white\", \"linecolor\": \"white\", \"ticks\": \"\"}}, \"title\": {\"x\": 0.05}, \"xaxis\": {\"automargin\": true, \"gridcolor\": \"white\", \"linecolor\": \"white\", \"ticks\": \"\", \"title\": {\"standoff\": 15}, \"zerolinecolor\": \"white\", \"zerolinewidth\": 2}, \"yaxis\": {\"automargin\": true, \"gridcolor\": \"white\", \"linecolor\": \"white\", \"ticks\": \"\", \"title\": {\"standoff\": 15}, \"zerolinecolor\": \"white\", \"zerolinewidth\": 2}}}, \"title\": {\"font\": {\"color\": \"#4D5663\"}}, \"xaxis\": {\"gridcolor\": \"#E1E5ED\", \"showgrid\": true, \"tickfont\": {\"color\": \"#4D5663\"}, \"title\": {\"font\": {\"color\": \"#4D5663\"}, \"text\": \"\"}, \"zerolinecolor\": \"#E1E5ED\"}, \"yaxis\": {\"gridcolor\": \"#E1E5ED\", \"showgrid\": true, \"tickfont\": {\"color\": \"#4D5663\"}, \"title\": {\"font\": {\"color\": \"#4D5663\"}, \"text\": \"\"}, \"zerolinecolor\": \"#E1E5ED\"}},                        {\"showLink\": true, \"linkText\": \"Export to plot.ly\", \"plotlyServerURL\": \"https://plot.ly\", \"responsive\": true}                    ).then(function(){\n",
       "                            \n",
       "var gd = document.getElementById('757ef50e-4679-4c39-8db4-e2aba073e54a');\n",
       "var x = new MutationObserver(function (mutations, observer) {{\n",
       "        var display = window.getComputedStyle(gd).display;\n",
       "        if (!display || display === 'none') {{\n",
       "            console.log([gd, 'removed!']);\n",
       "            Plotly.purge(gd);\n",
       "            observer.disconnect();\n",
       "        }}\n",
       "}});\n",
       "\n",
       "// Listen for the removal of the full notebook cells\n",
       "var notebookContainer = gd.closest('#notebook-container');\n",
       "if (notebookContainer) {{\n",
       "    x.observe(notebookContainer, {childList: true});\n",
       "}}\n",
       "\n",
       "// Listen for the clearing of the current output cell\n",
       "var outputEl = gd.closest('.output');\n",
       "if (outputEl) {{\n",
       "    x.observe(outputEl, {childList: true});\n",
       "}}\n",
       "\n",
       "                        })                };                });            </script>        </div>"
      ]
     },
     "metadata": {},
     "output_type": "display_data"
    }
   ],
   "source": [
    "df2.iplot(kind='bar',x='Categoria',y='Valores')"
   ]
  },
  {
   "cell_type": "code",
   "execution_count": 12,
   "metadata": {},
   "outputs": [
    {
     "data": {
      "application/vnd.plotly.v1+json": {
       "config": {
        "linkText": "Export to plot.ly",
        "plotlyServerURL": "https://plot.ly",
        "showLink": true
       },
       "data": [
        {
         "marker": {
          "color": "rgba(255, 153, 51, 0.6)",
          "line": {
           "color": "rgba(255, 153, 51, 1.0)",
           "width": 1
          }
         },
         "name": "None",
         "orientation": "v",
         "text": "",
         "type": "bar",
         "x": [
          "A",
          "B",
          "C",
          "D"
         ],
         "y": [
          100,
          100,
          100,
          100
         ]
        }
       ],
       "layout": {
        "legend": {
         "bgcolor": "#F5F6F9",
         "font": {
          "color": "#4D5663"
         }
        },
        "paper_bgcolor": "#F5F6F9",
        "plot_bgcolor": "#F5F6F9",
        "template": {
         "data": {
          "bar": [
           {
            "error_x": {
             "color": "#2a3f5f"
            },
            "error_y": {
             "color": "#2a3f5f"
            },
            "marker": {
             "line": {
              "color": "#E5ECF6",
              "width": 0.5
             }
            },
            "type": "bar"
           }
          ],
          "barpolar": [
           {
            "marker": {
             "line": {
              "color": "#E5ECF6",
              "width": 0.5
             }
            },
            "type": "barpolar"
           }
          ],
          "carpet": [
           {
            "aaxis": {
             "endlinecolor": "#2a3f5f",
             "gridcolor": "white",
             "linecolor": "white",
             "minorgridcolor": "white",
             "startlinecolor": "#2a3f5f"
            },
            "baxis": {
             "endlinecolor": "#2a3f5f",
             "gridcolor": "white",
             "linecolor": "white",
             "minorgridcolor": "white",
             "startlinecolor": "#2a3f5f"
            },
            "type": "carpet"
           }
          ],
          "choropleth": [
           {
            "colorbar": {
             "outlinewidth": 0,
             "ticks": ""
            },
            "type": "choropleth"
           }
          ],
          "contour": [
           {
            "colorbar": {
             "outlinewidth": 0,
             "ticks": ""
            },
            "colorscale": [
             [
              0,
              "#0d0887"
             ],
             [
              0.1111111111111111,
              "#46039f"
             ],
             [
              0.2222222222222222,
              "#7201a8"
             ],
             [
              0.3333333333333333,
              "#9c179e"
             ],
             [
              0.4444444444444444,
              "#bd3786"
             ],
             [
              0.5555555555555556,
              "#d8576b"
             ],
             [
              0.6666666666666666,
              "#ed7953"
             ],
             [
              0.7777777777777778,
              "#fb9f3a"
             ],
             [
              0.8888888888888888,
              "#fdca26"
             ],
             [
              1,
              "#f0f921"
             ]
            ],
            "type": "contour"
           }
          ],
          "contourcarpet": [
           {
            "colorbar": {
             "outlinewidth": 0,
             "ticks": ""
            },
            "type": "contourcarpet"
           }
          ],
          "heatmap": [
           {
            "colorbar": {
             "outlinewidth": 0,
             "ticks": ""
            },
            "colorscale": [
             [
              0,
              "#0d0887"
             ],
             [
              0.1111111111111111,
              "#46039f"
             ],
             [
              0.2222222222222222,
              "#7201a8"
             ],
             [
              0.3333333333333333,
              "#9c179e"
             ],
             [
              0.4444444444444444,
              "#bd3786"
             ],
             [
              0.5555555555555556,
              "#d8576b"
             ],
             [
              0.6666666666666666,
              "#ed7953"
             ],
             [
              0.7777777777777778,
              "#fb9f3a"
             ],
             [
              0.8888888888888888,
              "#fdca26"
             ],
             [
              1,
              "#f0f921"
             ]
            ],
            "type": "heatmap"
           }
          ],
          "heatmapgl": [
           {
            "colorbar": {
             "outlinewidth": 0,
             "ticks": ""
            },
            "colorscale": [
             [
              0,
              "#0d0887"
             ],
             [
              0.1111111111111111,
              "#46039f"
             ],
             [
              0.2222222222222222,
              "#7201a8"
             ],
             [
              0.3333333333333333,
              "#9c179e"
             ],
             [
              0.4444444444444444,
              "#bd3786"
             ],
             [
              0.5555555555555556,
              "#d8576b"
             ],
             [
              0.6666666666666666,
              "#ed7953"
             ],
             [
              0.7777777777777778,
              "#fb9f3a"
             ],
             [
              0.8888888888888888,
              "#fdca26"
             ],
             [
              1,
              "#f0f921"
             ]
            ],
            "type": "heatmapgl"
           }
          ],
          "histogram": [
           {
            "marker": {
             "colorbar": {
              "outlinewidth": 0,
              "ticks": ""
             }
            },
            "type": "histogram"
           }
          ],
          "histogram2d": [
           {
            "colorbar": {
             "outlinewidth": 0,
             "ticks": ""
            },
            "colorscale": [
             [
              0,
              "#0d0887"
             ],
             [
              0.1111111111111111,
              "#46039f"
             ],
             [
              0.2222222222222222,
              "#7201a8"
             ],
             [
              0.3333333333333333,
              "#9c179e"
             ],
             [
              0.4444444444444444,
              "#bd3786"
             ],
             [
              0.5555555555555556,
              "#d8576b"
             ],
             [
              0.6666666666666666,
              "#ed7953"
             ],
             [
              0.7777777777777778,
              "#fb9f3a"
             ],
             [
              0.8888888888888888,
              "#fdca26"
             ],
             [
              1,
              "#f0f921"
             ]
            ],
            "type": "histogram2d"
           }
          ],
          "histogram2dcontour": [
           {
            "colorbar": {
             "outlinewidth": 0,
             "ticks": ""
            },
            "colorscale": [
             [
              0,
              "#0d0887"
             ],
             [
              0.1111111111111111,
              "#46039f"
             ],
             [
              0.2222222222222222,
              "#7201a8"
             ],
             [
              0.3333333333333333,
              "#9c179e"
             ],
             [
              0.4444444444444444,
              "#bd3786"
             ],
             [
              0.5555555555555556,
              "#d8576b"
             ],
             [
              0.6666666666666666,
              "#ed7953"
             ],
             [
              0.7777777777777778,
              "#fb9f3a"
             ],
             [
              0.8888888888888888,
              "#fdca26"
             ],
             [
              1,
              "#f0f921"
             ]
            ],
            "type": "histogram2dcontour"
           }
          ],
          "mesh3d": [
           {
            "colorbar": {
             "outlinewidth": 0,
             "ticks": ""
            },
            "type": "mesh3d"
           }
          ],
          "parcoords": [
           {
            "line": {
             "colorbar": {
              "outlinewidth": 0,
              "ticks": ""
             }
            },
            "type": "parcoords"
           }
          ],
          "pie": [
           {
            "automargin": true,
            "type": "pie"
           }
          ],
          "scatter": [
           {
            "marker": {
             "colorbar": {
              "outlinewidth": 0,
              "ticks": ""
             }
            },
            "type": "scatter"
           }
          ],
          "scatter3d": [
           {
            "line": {
             "colorbar": {
              "outlinewidth": 0,
              "ticks": ""
             }
            },
            "marker": {
             "colorbar": {
              "outlinewidth": 0,
              "ticks": ""
             }
            },
            "type": "scatter3d"
           }
          ],
          "scattercarpet": [
           {
            "marker": {
             "colorbar": {
              "outlinewidth": 0,
              "ticks": ""
             }
            },
            "type": "scattercarpet"
           }
          ],
          "scattergeo": [
           {
            "marker": {
             "colorbar": {
              "outlinewidth": 0,
              "ticks": ""
             }
            },
            "type": "scattergeo"
           }
          ],
          "scattergl": [
           {
            "marker": {
             "colorbar": {
              "outlinewidth": 0,
              "ticks": ""
             }
            },
            "type": "scattergl"
           }
          ],
          "scattermapbox": [
           {
            "marker": {
             "colorbar": {
              "outlinewidth": 0,
              "ticks": ""
             }
            },
            "type": "scattermapbox"
           }
          ],
          "scatterpolar": [
           {
            "marker": {
             "colorbar": {
              "outlinewidth": 0,
              "ticks": ""
             }
            },
            "type": "scatterpolar"
           }
          ],
          "scatterpolargl": [
           {
            "marker": {
             "colorbar": {
              "outlinewidth": 0,
              "ticks": ""
             }
            },
            "type": "scatterpolargl"
           }
          ],
          "scatterternary": [
           {
            "marker": {
             "colorbar": {
              "outlinewidth": 0,
              "ticks": ""
             }
            },
            "type": "scatterternary"
           }
          ],
          "surface": [
           {
            "colorbar": {
             "outlinewidth": 0,
             "ticks": ""
            },
            "colorscale": [
             [
              0,
              "#0d0887"
             ],
             [
              0.1111111111111111,
              "#46039f"
             ],
             [
              0.2222222222222222,
              "#7201a8"
             ],
             [
              0.3333333333333333,
              "#9c179e"
             ],
             [
              0.4444444444444444,
              "#bd3786"
             ],
             [
              0.5555555555555556,
              "#d8576b"
             ],
             [
              0.6666666666666666,
              "#ed7953"
             ],
             [
              0.7777777777777778,
              "#fb9f3a"
             ],
             [
              0.8888888888888888,
              "#fdca26"
             ],
             [
              1,
              "#f0f921"
             ]
            ],
            "type": "surface"
           }
          ],
          "table": [
           {
            "cells": {
             "fill": {
              "color": "#EBF0F8"
             },
             "line": {
              "color": "white"
             }
            },
            "header": {
             "fill": {
              "color": "#C8D4E3"
             },
             "line": {
              "color": "white"
             }
            },
            "type": "table"
           }
          ]
         },
         "layout": {
          "annotationdefaults": {
           "arrowcolor": "#2a3f5f",
           "arrowhead": 0,
           "arrowwidth": 1
          },
          "autotypenumbers": "strict",
          "coloraxis": {
           "colorbar": {
            "outlinewidth": 0,
            "ticks": ""
           }
          },
          "colorscale": {
           "diverging": [
            [
             0,
             "#8e0152"
            ],
            [
             0.1,
             "#c51b7d"
            ],
            [
             0.2,
             "#de77ae"
            ],
            [
             0.3,
             "#f1b6da"
            ],
            [
             0.4,
             "#fde0ef"
            ],
            [
             0.5,
             "#f7f7f7"
            ],
            [
             0.6,
             "#e6f5d0"
            ],
            [
             0.7,
             "#b8e186"
            ],
            [
             0.8,
             "#7fbc41"
            ],
            [
             0.9,
             "#4d9221"
            ],
            [
             1,
             "#276419"
            ]
           ],
           "sequential": [
            [
             0,
             "#0d0887"
            ],
            [
             0.1111111111111111,
             "#46039f"
            ],
            [
             0.2222222222222222,
             "#7201a8"
            ],
            [
             0.3333333333333333,
             "#9c179e"
            ],
            [
             0.4444444444444444,
             "#bd3786"
            ],
            [
             0.5555555555555556,
             "#d8576b"
            ],
            [
             0.6666666666666666,
             "#ed7953"
            ],
            [
             0.7777777777777778,
             "#fb9f3a"
            ],
            [
             0.8888888888888888,
             "#fdca26"
            ],
            [
             1,
             "#f0f921"
            ]
           ],
           "sequentialminus": [
            [
             0,
             "#0d0887"
            ],
            [
             0.1111111111111111,
             "#46039f"
            ],
            [
             0.2222222222222222,
             "#7201a8"
            ],
            [
             0.3333333333333333,
             "#9c179e"
            ],
            [
             0.4444444444444444,
             "#bd3786"
            ],
            [
             0.5555555555555556,
             "#d8576b"
            ],
            [
             0.6666666666666666,
             "#ed7953"
            ],
            [
             0.7777777777777778,
             "#fb9f3a"
            ],
            [
             0.8888888888888888,
             "#fdca26"
            ],
            [
             1,
             "#f0f921"
            ]
           ]
          },
          "colorway": [
           "#636efa",
           "#EF553B",
           "#00cc96",
           "#ab63fa",
           "#FFA15A",
           "#19d3f3",
           "#FF6692",
           "#B6E880",
           "#FF97FF",
           "#FECB52"
          ],
          "font": {
           "color": "#2a3f5f"
          },
          "geo": {
           "bgcolor": "white",
           "lakecolor": "white",
           "landcolor": "#E5ECF6",
           "showlakes": true,
           "showland": true,
           "subunitcolor": "white"
          },
          "hoverlabel": {
           "align": "left"
          },
          "hovermode": "closest",
          "mapbox": {
           "style": "light"
          },
          "paper_bgcolor": "white",
          "plot_bgcolor": "#E5ECF6",
          "polar": {
           "angularaxis": {
            "gridcolor": "white",
            "linecolor": "white",
            "ticks": ""
           },
           "bgcolor": "#E5ECF6",
           "radialaxis": {
            "gridcolor": "white",
            "linecolor": "white",
            "ticks": ""
           }
          },
          "scene": {
           "xaxis": {
            "backgroundcolor": "#E5ECF6",
            "gridcolor": "white",
            "gridwidth": 2,
            "linecolor": "white",
            "showbackground": true,
            "ticks": "",
            "zerolinecolor": "white"
           },
           "yaxis": {
            "backgroundcolor": "#E5ECF6",
            "gridcolor": "white",
            "gridwidth": 2,
            "linecolor": "white",
            "showbackground": true,
            "ticks": "",
            "zerolinecolor": "white"
           },
           "zaxis": {
            "backgroundcolor": "#E5ECF6",
            "gridcolor": "white",
            "gridwidth": 2,
            "linecolor": "white",
            "showbackground": true,
            "ticks": "",
            "zerolinecolor": "white"
           }
          },
          "shapedefaults": {
           "line": {
            "color": "#2a3f5f"
           }
          },
          "ternary": {
           "aaxis": {
            "gridcolor": "white",
            "linecolor": "white",
            "ticks": ""
           },
           "baxis": {
            "gridcolor": "white",
            "linecolor": "white",
            "ticks": ""
           },
           "bgcolor": "#E5ECF6",
           "caxis": {
            "gridcolor": "white",
            "linecolor": "white",
            "ticks": ""
           }
          },
          "title": {
           "x": 0.05
          },
          "xaxis": {
           "automargin": true,
           "gridcolor": "white",
           "linecolor": "white",
           "ticks": "",
           "title": {
            "standoff": 15
           },
           "zerolinecolor": "white",
           "zerolinewidth": 2
          },
          "yaxis": {
           "automargin": true,
           "gridcolor": "white",
           "linecolor": "white",
           "ticks": "",
           "title": {
            "standoff": 15
           },
           "zerolinecolor": "white",
           "zerolinewidth": 2
          }
         }
        },
        "title": {
         "font": {
          "color": "#4D5663"
         }
        },
        "xaxis": {
         "gridcolor": "#E1E5ED",
         "showgrid": true,
         "tickfont": {
          "color": "#4D5663"
         },
         "title": {
          "font": {
           "color": "#4D5663"
          },
          "text": ""
         },
         "zerolinecolor": "#E1E5ED"
        },
        "yaxis": {
         "gridcolor": "#E1E5ED",
         "showgrid": true,
         "tickfont": {
          "color": "#4D5663"
         },
         "title": {
          "font": {
           "color": "#4D5663"
          },
          "text": ""
         },
         "zerolinecolor": "#E1E5ED"
        }
       }
      },
      "text/html": [
       "<div>                            <div id=\"a610253e-a826-4ce1-b3d3-28917cda98bd\" class=\"plotly-graph-div\" style=\"height:525px; width:100%;\"></div>            <script type=\"text/javascript\">                require([\"plotly\"], function(Plotly) {                    window.PLOTLYENV=window.PLOTLYENV || {};\n",
       "                    window.PLOTLYENV.BASE_URL='https://plot.ly';                                    if (document.getElementById(\"a610253e-a826-4ce1-b3d3-28917cda98bd\")) {                    Plotly.newPlot(                        \"a610253e-a826-4ce1-b3d3-28917cda98bd\",                        [{\"marker\": {\"color\": \"rgba(255, 153, 51, 0.6)\", \"line\": {\"color\": \"rgba(255, 153, 51, 1.0)\", \"width\": 1}}, \"name\": \"None\", \"orientation\": \"v\", \"text\": \"\", \"type\": \"bar\", \"x\": [\"A\", \"B\", \"C\", \"D\"], \"y\": [100, 100, 100, 100]}],                        {\"legend\": {\"bgcolor\": \"#F5F6F9\", \"font\": {\"color\": \"#4D5663\"}}, \"paper_bgcolor\": \"#F5F6F9\", \"plot_bgcolor\": \"#F5F6F9\", \"template\": {\"data\": {\"bar\": [{\"error_x\": {\"color\": \"#2a3f5f\"}, \"error_y\": {\"color\": \"#2a3f5f\"}, \"marker\": {\"line\": {\"color\": \"#E5ECF6\", \"width\": 0.5}}, \"type\": \"bar\"}], \"barpolar\": [{\"marker\": {\"line\": {\"color\": \"#E5ECF6\", \"width\": 0.5}}, \"type\": \"barpolar\"}], \"carpet\": [{\"aaxis\": {\"endlinecolor\": \"#2a3f5f\", \"gridcolor\": \"white\", \"linecolor\": \"white\", \"minorgridcolor\": \"white\", \"startlinecolor\": \"#2a3f5f\"}, \"baxis\": {\"endlinecolor\": \"#2a3f5f\", \"gridcolor\": \"white\", \"linecolor\": \"white\", \"minorgridcolor\": \"white\", \"startlinecolor\": \"#2a3f5f\"}, \"type\": \"carpet\"}], \"choropleth\": [{\"colorbar\": {\"outlinewidth\": 0, \"ticks\": \"\"}, \"type\": \"choropleth\"}], \"contour\": [{\"colorbar\": {\"outlinewidth\": 0, \"ticks\": \"\"}, \"colorscale\": [[0.0, \"#0d0887\"], [0.1111111111111111, \"#46039f\"], [0.2222222222222222, \"#7201a8\"], [0.3333333333333333, \"#9c179e\"], [0.4444444444444444, \"#bd3786\"], [0.5555555555555556, \"#d8576b\"], [0.6666666666666666, \"#ed7953\"], [0.7777777777777778, \"#fb9f3a\"], [0.8888888888888888, \"#fdca26\"], [1.0, \"#f0f921\"]], \"type\": \"contour\"}], \"contourcarpet\": [{\"colorbar\": {\"outlinewidth\": 0, \"ticks\": \"\"}, \"type\": \"contourcarpet\"}], \"heatmap\": [{\"colorbar\": {\"outlinewidth\": 0, \"ticks\": \"\"}, \"colorscale\": [[0.0, \"#0d0887\"], [0.1111111111111111, \"#46039f\"], [0.2222222222222222, \"#7201a8\"], [0.3333333333333333, \"#9c179e\"], [0.4444444444444444, \"#bd3786\"], [0.5555555555555556, \"#d8576b\"], [0.6666666666666666, \"#ed7953\"], [0.7777777777777778, \"#fb9f3a\"], [0.8888888888888888, \"#fdca26\"], [1.0, \"#f0f921\"]], \"type\": \"heatmap\"}], \"heatmapgl\": [{\"colorbar\": {\"outlinewidth\": 0, \"ticks\": \"\"}, \"colorscale\": [[0.0, \"#0d0887\"], [0.1111111111111111, \"#46039f\"], [0.2222222222222222, \"#7201a8\"], [0.3333333333333333, \"#9c179e\"], [0.4444444444444444, \"#bd3786\"], [0.5555555555555556, \"#d8576b\"], [0.6666666666666666, \"#ed7953\"], [0.7777777777777778, \"#fb9f3a\"], [0.8888888888888888, \"#fdca26\"], [1.0, \"#f0f921\"]], \"type\": \"heatmapgl\"}], \"histogram\": [{\"marker\": {\"colorbar\": {\"outlinewidth\": 0, \"ticks\": \"\"}}, \"type\": \"histogram\"}], \"histogram2d\": [{\"colorbar\": {\"outlinewidth\": 0, \"ticks\": \"\"}, \"colorscale\": [[0.0, \"#0d0887\"], [0.1111111111111111, \"#46039f\"], [0.2222222222222222, \"#7201a8\"], [0.3333333333333333, \"#9c179e\"], [0.4444444444444444, \"#bd3786\"], [0.5555555555555556, \"#d8576b\"], [0.6666666666666666, \"#ed7953\"], [0.7777777777777778, \"#fb9f3a\"], [0.8888888888888888, \"#fdca26\"], [1.0, \"#f0f921\"]], \"type\": \"histogram2d\"}], \"histogram2dcontour\": [{\"colorbar\": {\"outlinewidth\": 0, \"ticks\": \"\"}, \"colorscale\": [[0.0, \"#0d0887\"], [0.1111111111111111, \"#46039f\"], [0.2222222222222222, \"#7201a8\"], [0.3333333333333333, \"#9c179e\"], [0.4444444444444444, \"#bd3786\"], [0.5555555555555556, \"#d8576b\"], [0.6666666666666666, \"#ed7953\"], [0.7777777777777778, \"#fb9f3a\"], [0.8888888888888888, \"#fdca26\"], [1.0, \"#f0f921\"]], \"type\": \"histogram2dcontour\"}], \"mesh3d\": [{\"colorbar\": {\"outlinewidth\": 0, \"ticks\": \"\"}, \"type\": \"mesh3d\"}], \"parcoords\": [{\"line\": {\"colorbar\": {\"outlinewidth\": 0, \"ticks\": \"\"}}, \"type\": \"parcoords\"}], \"pie\": [{\"automargin\": true, \"type\": \"pie\"}], \"scatter\": [{\"marker\": {\"colorbar\": {\"outlinewidth\": 0, \"ticks\": \"\"}}, \"type\": \"scatter\"}], \"scatter3d\": [{\"line\": {\"colorbar\": {\"outlinewidth\": 0, \"ticks\": \"\"}}, \"marker\": {\"colorbar\": {\"outlinewidth\": 0, \"ticks\": \"\"}}, \"type\": \"scatter3d\"}], \"scattercarpet\": [{\"marker\": {\"colorbar\": {\"outlinewidth\": 0, \"ticks\": \"\"}}, \"type\": \"scattercarpet\"}], \"scattergeo\": [{\"marker\": {\"colorbar\": {\"outlinewidth\": 0, \"ticks\": \"\"}}, \"type\": \"scattergeo\"}], \"scattergl\": [{\"marker\": {\"colorbar\": {\"outlinewidth\": 0, \"ticks\": \"\"}}, \"type\": \"scattergl\"}], \"scattermapbox\": [{\"marker\": {\"colorbar\": {\"outlinewidth\": 0, \"ticks\": \"\"}}, \"type\": \"scattermapbox\"}], \"scatterpolar\": [{\"marker\": {\"colorbar\": {\"outlinewidth\": 0, \"ticks\": \"\"}}, \"type\": \"scatterpolar\"}], \"scatterpolargl\": [{\"marker\": {\"colorbar\": {\"outlinewidth\": 0, \"ticks\": \"\"}}, \"type\": \"scatterpolargl\"}], \"scatterternary\": [{\"marker\": {\"colorbar\": {\"outlinewidth\": 0, \"ticks\": \"\"}}, \"type\": \"scatterternary\"}], \"surface\": [{\"colorbar\": {\"outlinewidth\": 0, \"ticks\": \"\"}, \"colorscale\": [[0.0, \"#0d0887\"], [0.1111111111111111, \"#46039f\"], [0.2222222222222222, \"#7201a8\"], [0.3333333333333333, \"#9c179e\"], [0.4444444444444444, \"#bd3786\"], [0.5555555555555556, \"#d8576b\"], [0.6666666666666666, \"#ed7953\"], [0.7777777777777778, \"#fb9f3a\"], [0.8888888888888888, \"#fdca26\"], [1.0, \"#f0f921\"]], \"type\": \"surface\"}], \"table\": [{\"cells\": {\"fill\": {\"color\": \"#EBF0F8\"}, \"line\": {\"color\": \"white\"}}, \"header\": {\"fill\": {\"color\": \"#C8D4E3\"}, \"line\": {\"color\": \"white\"}}, \"type\": \"table\"}]}, \"layout\": {\"annotationdefaults\": {\"arrowcolor\": \"#2a3f5f\", \"arrowhead\": 0, \"arrowwidth\": 1}, \"autotypenumbers\": \"strict\", \"coloraxis\": {\"colorbar\": {\"outlinewidth\": 0, \"ticks\": \"\"}}, \"colorscale\": {\"diverging\": [[0, \"#8e0152\"], [0.1, \"#c51b7d\"], [0.2, \"#de77ae\"], [0.3, \"#f1b6da\"], [0.4, \"#fde0ef\"], [0.5, \"#f7f7f7\"], [0.6, \"#e6f5d0\"], [0.7, \"#b8e186\"], [0.8, \"#7fbc41\"], [0.9, \"#4d9221\"], [1, \"#276419\"]], \"sequential\": [[0.0, \"#0d0887\"], [0.1111111111111111, \"#46039f\"], [0.2222222222222222, \"#7201a8\"], [0.3333333333333333, \"#9c179e\"], [0.4444444444444444, \"#bd3786\"], [0.5555555555555556, \"#d8576b\"], [0.6666666666666666, \"#ed7953\"], [0.7777777777777778, \"#fb9f3a\"], [0.8888888888888888, \"#fdca26\"], [1.0, \"#f0f921\"]], \"sequentialminus\": [[0.0, \"#0d0887\"], [0.1111111111111111, \"#46039f\"], [0.2222222222222222, \"#7201a8\"], [0.3333333333333333, \"#9c179e\"], [0.4444444444444444, \"#bd3786\"], [0.5555555555555556, \"#d8576b\"], [0.6666666666666666, \"#ed7953\"], [0.7777777777777778, \"#fb9f3a\"], [0.8888888888888888, \"#fdca26\"], [1.0, \"#f0f921\"]]}, \"colorway\": [\"#636efa\", \"#EF553B\", \"#00cc96\", \"#ab63fa\", \"#FFA15A\", \"#19d3f3\", \"#FF6692\", \"#B6E880\", \"#FF97FF\", \"#FECB52\"], \"font\": {\"color\": \"#2a3f5f\"}, \"geo\": {\"bgcolor\": \"white\", \"lakecolor\": \"white\", \"landcolor\": \"#E5ECF6\", \"showlakes\": true, \"showland\": true, \"subunitcolor\": \"white\"}, \"hoverlabel\": {\"align\": \"left\"}, \"hovermode\": \"closest\", \"mapbox\": {\"style\": \"light\"}, \"paper_bgcolor\": \"white\", \"plot_bgcolor\": \"#E5ECF6\", \"polar\": {\"angularaxis\": {\"gridcolor\": \"white\", \"linecolor\": \"white\", \"ticks\": \"\"}, \"bgcolor\": \"#E5ECF6\", \"radialaxis\": {\"gridcolor\": \"white\", \"linecolor\": \"white\", \"ticks\": \"\"}}, \"scene\": {\"xaxis\": {\"backgroundcolor\": \"#E5ECF6\", \"gridcolor\": \"white\", \"gridwidth\": 2, \"linecolor\": \"white\", \"showbackground\": true, \"ticks\": \"\", \"zerolinecolor\": \"white\"}, \"yaxis\": {\"backgroundcolor\": \"#E5ECF6\", \"gridcolor\": \"white\", \"gridwidth\": 2, \"linecolor\": \"white\", \"showbackground\": true, \"ticks\": \"\", \"zerolinecolor\": \"white\"}, \"zaxis\": {\"backgroundcolor\": \"#E5ECF6\", \"gridcolor\": \"white\", \"gridwidth\": 2, \"linecolor\": \"white\", \"showbackground\": true, \"ticks\": \"\", \"zerolinecolor\": \"white\"}}, \"shapedefaults\": {\"line\": {\"color\": \"#2a3f5f\"}}, \"ternary\": {\"aaxis\": {\"gridcolor\": \"white\", \"linecolor\": \"white\", \"ticks\": \"\"}, \"baxis\": {\"gridcolor\": \"white\", \"linecolor\": \"white\", \"ticks\": \"\"}, \"bgcolor\": \"#E5ECF6\", \"caxis\": {\"gridcolor\": \"white\", \"linecolor\": \"white\", \"ticks\": \"\"}}, \"title\": {\"x\": 0.05}, \"xaxis\": {\"automargin\": true, \"gridcolor\": \"white\", \"linecolor\": \"white\", \"ticks\": \"\", \"title\": {\"standoff\": 15}, \"zerolinecolor\": \"white\", \"zerolinewidth\": 2}, \"yaxis\": {\"automargin\": true, \"gridcolor\": \"white\", \"linecolor\": \"white\", \"ticks\": \"\", \"title\": {\"standoff\": 15}, \"zerolinecolor\": \"white\", \"zerolinewidth\": 2}}}, \"title\": {\"font\": {\"color\": \"#4D5663\"}}, \"xaxis\": {\"gridcolor\": \"#E1E5ED\", \"showgrid\": true, \"tickfont\": {\"color\": \"#4D5663\"}, \"title\": {\"font\": {\"color\": \"#4D5663\"}, \"text\": \"\"}, \"zerolinecolor\": \"#E1E5ED\"}, \"yaxis\": {\"gridcolor\": \"#E1E5ED\", \"showgrid\": true, \"tickfont\": {\"color\": \"#4D5663\"}, \"title\": {\"font\": {\"color\": \"#4D5663\"}, \"text\": \"\"}, \"zerolinecolor\": \"#E1E5ED\"}},                        {\"showLink\": true, \"linkText\": \"Export to plot.ly\", \"plotlyServerURL\": \"https://plot.ly\", \"responsive\": true}                    ).then(function(){\n",
       "                            \n",
       "var gd = document.getElementById('a610253e-a826-4ce1-b3d3-28917cda98bd');\n",
       "var x = new MutationObserver(function (mutations, observer) {{\n",
       "        var display = window.getComputedStyle(gd).display;\n",
       "        if (!display || display === 'none') {{\n",
       "            console.log([gd, 'removed!']);\n",
       "            Plotly.purge(gd);\n",
       "            observer.disconnect();\n",
       "        }}\n",
       "}});\n",
       "\n",
       "// Listen for the removal of the full notebook cells\n",
       "var notebookContainer = gd.closest('#notebook-container');\n",
       "if (notebookContainer) {{\n",
       "    x.observe(notebookContainer, {childList: true});\n",
       "}}\n",
       "\n",
       "// Listen for the clearing of the current output cell\n",
       "var outputEl = gd.closest('.output');\n",
       "if (outputEl) {{\n",
       "    x.observe(outputEl, {childList: true});\n",
       "}}\n",
       "\n",
       "                        })                };                });            </script>        </div>"
      ]
     },
     "metadata": {},
     "output_type": "display_data"
    }
   ],
   "source": [
    "df.count().iplot(kind='bar')"
   ]
  },
  {
   "cell_type": "markdown",
   "metadata": {},
   "source": [
    "## Boxplots"
   ]
  },
  {
   "cell_type": "code",
   "execution_count": 13,
   "metadata": {},
   "outputs": [
    {
     "data": {
      "application/vnd.plotly.v1+json": {
       "config": {
        "linkText": "Export to plot.ly",
        "plotlyServerURL": "https://plot.ly",
        "showLink": true
       },
       "data": [
        {
         "boxpoints": false,
         "line": {
          "width": 1.3
         },
         "marker": {
          "color": "rgba(255, 153, 51, 1.0)"
         },
         "name": "A",
         "orientation": "v",
         "type": "box",
         "y": [
          -1.0401294919952173,
          0.7540837883764145,
          0.4754525425630791,
          -0.6748870908287362,
          -0.5028681633354075,
          -1.545115592118102,
          0.4385873914218319,
          -0.7448993761396681,
          -2.272601378304192,
          2.348290149001387,
          -1.022242282050554,
          0.8280023223996548,
          0.07873141198557396,
          0.3087675608543512,
          1.0224283350187533,
          0.030720145282387472,
          -0.2119176158627523,
          -0.01599653212318083,
          -0.3913616364448441,
          -1.5795751106802804,
          1.1468288620565958,
          0.4973159033981794,
          -1.9013472528155446,
          -0.5322510410406922,
          0.4354083236982135,
          -0.8389836603309918,
          0.63250625191439,
          0.8020108286089704,
          0.1680001474329182,
          -0.03635115506012781,
          0.7159382576697422,
          0.5170952942994798,
          -0.4208887962003864,
          -0.852854444728073,
          0.03488494145210682,
          0.8707420113945227,
          -0.8621551581638811,
          0.34881145129166286,
          1.246164830050418,
          -0.4040670984432969,
          -0.16999960651721618,
          0.7702826270683759,
          -1.2465484743701372,
          1.0235240301432829,
          -0.9827310746533008,
          -1.3685359084453448,
          -1.555762514576057,
          -0.310412608073586,
          0.42784058214450094,
          0.7393591528414503,
          -0.17894082395310795,
          0.6490665839701796,
          -1.7845153300317413,
          0.5660054718136256,
          0.17895378642966125,
          0.028668596465502034,
          1.0984437009662795,
          1.0455101311924233,
          -0.07431303549503826,
          -0.012992158379034034,
          -0.1995304624066606,
          -0.2089848698983806,
          0.19457954135750175,
          1.3084467308939345,
          0.5846810561081601,
          -1.8397556931868735,
          -0.4890604222210714,
          -0.18499169606906368,
          -0.2973274305624725,
          -0.37909874978065117,
          1.4957987559756598,
          -0.6159986573181273,
          -0.24547663960831673,
          0.8259588546671423,
          0.2320018286227506,
          1.3860756506482823,
          -2.2969088365772,
          0.24270405862187572,
          -1.1735508353664528,
          -1.0854695474455966,
          0.4117828045133673,
          0.6980938976610915,
          -0.27703893620018377,
          0.44158644700903005,
          2.315900696039003,
          1.4760766316818896,
          0.6430545479341668,
          -0.5639279890784357,
          -1.200084558711711,
          -0.399970533777103,
          -0.48409637049958826,
          -0.11350869752556553,
          -0.5766176383523768,
          -0.2656149677596483,
          1.0680910339652843,
          -0.07807128816360841,
          -0.487754719734934,
          0.7330459724530421,
          -1.9161367158436546,
          1.6667640983996523
         ]
        },
        {
         "boxpoints": false,
         "line": {
          "width": 1.3
         },
         "marker": {
          "color": "rgba(55, 128, 191, 1.0)"
         },
         "name": "B",
         "orientation": "v",
         "type": "box",
         "y": [
          -0.28983263678314597,
          -0.8169479361435581,
          -0.10148378188004077,
          -0.748494262256059,
          -0.5582652244502774,
          -0.36037903955588957,
          1.149895074698171,
          0.7016714440003219,
          -0.6863796647750956,
          1.3173593602387879,
          0.4866044910224147,
          -0.4653742100271251,
          -0.529699977871896,
          -0.40869937377654775,
          -2.5486499754974177,
          -0.9708773273169615,
          2.211548076913994,
          1.7765620092543595,
          -1.626097838237145,
          0.6692050254926118,
          -0.28721583356763475,
          0.302370011128094,
          0.2669949468236153,
          -0.38319982574182027,
          0.42646825629144214,
          -0.973178217530246,
          -0.8943184281411931,
          -0.21444633380224432,
          -1.4671503193874726,
          0.006132854065390305,
          -1.0220666887123597,
          1.643679383050032,
          0.8488020578950584,
          0.3410977483909045,
          0.7690744664331666,
          0.47223610763359697,
          0.9454017733692817,
          0.4347132784174497,
          0.4132931203526399,
          -0.7549841153565662,
          -0.583277796242386,
          -0.4547913169903659,
          -1.909722692901202,
          0.8602880805375047,
          1.2668509733843005,
          0.38921315419857755,
          -1.3058390007042817,
          0.0560880420088437,
          -0.7611504778718097,
          0.22427842178547364,
          0.6393896711477389,
          -0.23361690153326356,
          -1.0582332446307636,
          -0.2825496147287078,
          -0.24937584295088627,
          1.364049630086341,
          0.44841212493836835,
          0.7502743814027157,
          0.4632782338732586,
          -0.2081764792567062,
          -1.001357325235659,
          0.9907842309268651,
          1.5148089221476722,
          0.09189998885551912,
          -0.14822349816325553,
          -2.130692330840538,
          -0.5431104712437145,
          -2.3513178539124264,
          0.03760037350303423,
          2.5321954035573055,
          -0.8608566121890182,
          -0.8769362278876279,
          1.4037734093709349,
          0.32147341252819217,
          1.6447883170195194,
          -1.2543325345516667,
          1.6138535011035184,
          0.14627716689842465,
          -2.783897219711481,
          0.7129828324340545,
          -1.127320315035124,
          0.172624432355655,
          1.4667699454462124,
          -0.06254038227601047,
          1.065437358461133,
          -1.4383208553553297,
          -1.880693547475329,
          -0.277768247581571,
          -0.17205887198272193,
          -0.03581563684461571,
          0.8717079352780598,
          -0.5885613208085732,
          -0.9489155164081639,
          -1.17905984924152,
          0.13361371606619776,
          0.9991281270155986,
          0.5770007730157847,
          -0.5925585897114811,
          -0.5497414754879314,
          -0.7332407145505224
         ]
        },
        {
         "boxpoints": false,
         "line": {
          "width": 1.3
         },
         "marker": {
          "color": "rgba(50, 171, 96, 1.0)"
         },
         "name": "C",
         "orientation": "v",
         "type": "box",
         "y": [
          -0.39449112315210116,
          -1.1212484928116981,
          -0.11511045548335645,
          -0.9691200961435577,
          0.0026646785481831783,
          0.7775350927810528,
          -0.141799214164426,
          0.06251552959152215,
          -0.9123240764464698,
          -1.32049226673257,
          1.0209834505535818,
          0.03353814444706474,
          -0.36263317862899097,
          1.0799029133101594,
          0.5488355449715403,
          -0.17780741430264266,
          -1.0005066291642464,
          0.8442796504148201,
          -0.018769824139416632,
          -0.3278303212245403,
          2.326656055647813,
          2.077836072423538,
          1.1868809960490683,
          -0.2995962917918889,
          -1.101428111034344,
          0.6552933094637778,
          -0.7342775081334816,
          -0.02113882570913636,
          -0.9316840641457759,
          -1.1127466219103468,
          0.22394846819848918,
          0.7672173579994838,
          0.259175286242782,
          0.06508815772497668,
          1.8421935174451778,
          -0.14044157442108454,
          0.9860580470835705,
          0.5396083363412992,
          -0.11594466300963847,
          0.008806974202786672,
          -0.4639502774848081,
          0.3330017110579172,
          0.575634178744929,
          -0.18843324872121228,
          0.0972865835770349,
          -1.423273354054789,
          1.7300041547046228,
          0.08354131107304794,
          1.4660575943308496,
          0.2852846080560252,
          -0.20729929946952697,
          -0.32676068868360525,
          -0.34143606274468435,
          0.16662155629698341,
          -1.1770475697217184,
          -1.415856081362965,
          -0.9790861331727484,
          0.2982736361374957,
          -0.7433120170324022,
          -0.369887690278907,
          0.1405008326830257,
          0.1506898356699573,
          0.2612834210213473,
          -0.3953507547051282,
          0.9195183947399077,
          -0.14856546169910426,
          0.18142473356123331,
          1.7114488494449998,
          1.031711620401327,
          -2.0941516407574805,
          -0.08648071156833642,
          0.5522774286261719,
          -0.008753649549855615,
          -0.6887924719487085,
          -0.4886046230152795,
          0.28965280886014344,
          0.31086680716582016,
          -0.628950032088841,
          -2.9035410364377405,
          0.560549127072546,
          -1.0207551111513908,
          -0.5992630633903885,
          1.7104838526248434,
          -0.18265339812095063,
          0.827355988262312,
          0.6051388640212662,
          0.08601510364835871,
          0.8737957711827707,
          0.7340467938178823,
          0.929733671714851,
          -0.34383580958552656,
          -0.4331014517501853,
          0.36818604095503965,
          -0.758738373118303,
          0.1847171187438878,
          0.06493816718688149,
          0.2065681403828763,
          -2.4092025245809605,
          0.5501799473388332,
          0.25260773029084094
         ]
        },
        {
         "boxpoints": false,
         "line": {
          "width": 1.3
         },
         "marker": {
          "color": "rgba(128, 0, 128, 1.0)"
         },
         "name": "D",
         "orientation": "v",
         "type": "box",
         "y": [
          0.8358904022127795,
          2.808937900356927,
          -1.4991977318331835,
          0.5684355313333193,
          0.23310368435620082,
          1.9211727389531776,
          1.3886014132863176,
          -1.028149218163869,
          -0.22499831608299156,
          1.1460286767393078,
          0.6474369170804646,
          0.0684361959164644,
          1.0888890191969411,
          2.672144706140232,
          0.38091416707364184,
          -0.5367725893511329,
          -0.88934302250755,
          0.17067528579360977,
          -1.0149577463785453,
          -0.7418628236857662,
          0.25267446597065096,
          0.776246117711896,
          0.26606364938872534,
          0.7844112864244464,
          -0.922500729401434,
          -3.404401460927005,
          -0.8799905245655284,
          -0.6944849330767167,
          -0.9091477770135895,
          -0.32269805129703116,
          -1.077846671397077,
          0.30751181102894865,
          0.7973998336086224,
          0.11194544605401993,
          -0.984056235073791,
          0.6928759146875341,
          0.09604496877157467,
          -1.3276236679985045,
          -0.6844989545773975,
          1.3276766939607527,
          -1.2641936094574768,
          0.6848607679863661,
          -1.4183735330980474,
          -1.9780885884306907,
          -1.9984766520540924,
          0.24706309852187702,
          -2.4913063691566655,
          0.6101313058757692,
          0.5671028633842811,
          -0.725984621748018,
          -0.1910221237008867,
          0.7950638148371976,
          0.3244501236102624,
          -0.5870172068519863,
          1.5749500555780758,
          -0.6146397792740326,
          -0.7906886583107036,
          -1.7216416388805738,
          -0.7872797544723416,
          1.5582839479482433,
          0.3356465038431936,
          1.020893116495629,
          -0.8794195588206934,
          0.739897405337708,
          -0.5712865500341279,
          0.026620420162464662,
          -3.0803992969578484,
          -0.6045396307619787,
          -0.29944332653536604,
          -0.9679134742287175,
          0.1494414225483479,
          0.8388028092237695,
          0.9137539238276352,
          1.1850378884216017,
          1.2239190986789192,
          -0.8432264418389523,
          -0.2294007397181265,
          0.14908569166228788,
          -1.2489354291913144,
          -1.1049828040795124,
          -0.07079198492568171,
          -1.016017122760885,
          0.18190325517082614,
          -0.9602501474710243,
          -1.231123037318867,
          0.4773103996861225,
          0.393807305391927,
          0.844880693586435,
          0.5336027332339879,
          -1.9200840332679325,
          0.7300441418197431,
          1.1167520247457252,
          -1.2149971190830546,
          0.002576909029410683,
          0.8849780261407387,
          1.6910902555987406,
          0.8010887427706511,
          0.6138885929785809,
          -0.3652223373885456,
          -0.5335245715775491
         ]
        }
       ],
       "layout": {
        "legend": {
         "bgcolor": "#F5F6F9",
         "font": {
          "color": "#4D5663"
         }
        },
        "paper_bgcolor": "#F5F6F9",
        "plot_bgcolor": "#F5F6F9",
        "template": {
         "data": {
          "bar": [
           {
            "error_x": {
             "color": "#2a3f5f"
            },
            "error_y": {
             "color": "#2a3f5f"
            },
            "marker": {
             "line": {
              "color": "#E5ECF6",
              "width": 0.5
             }
            },
            "type": "bar"
           }
          ],
          "barpolar": [
           {
            "marker": {
             "line": {
              "color": "#E5ECF6",
              "width": 0.5
             }
            },
            "type": "barpolar"
           }
          ],
          "carpet": [
           {
            "aaxis": {
             "endlinecolor": "#2a3f5f",
             "gridcolor": "white",
             "linecolor": "white",
             "minorgridcolor": "white",
             "startlinecolor": "#2a3f5f"
            },
            "baxis": {
             "endlinecolor": "#2a3f5f",
             "gridcolor": "white",
             "linecolor": "white",
             "minorgridcolor": "white",
             "startlinecolor": "#2a3f5f"
            },
            "type": "carpet"
           }
          ],
          "choropleth": [
           {
            "colorbar": {
             "outlinewidth": 0,
             "ticks": ""
            },
            "type": "choropleth"
           }
          ],
          "contour": [
           {
            "colorbar": {
             "outlinewidth": 0,
             "ticks": ""
            },
            "colorscale": [
             [
              0,
              "#0d0887"
             ],
             [
              0.1111111111111111,
              "#46039f"
             ],
             [
              0.2222222222222222,
              "#7201a8"
             ],
             [
              0.3333333333333333,
              "#9c179e"
             ],
             [
              0.4444444444444444,
              "#bd3786"
             ],
             [
              0.5555555555555556,
              "#d8576b"
             ],
             [
              0.6666666666666666,
              "#ed7953"
             ],
             [
              0.7777777777777778,
              "#fb9f3a"
             ],
             [
              0.8888888888888888,
              "#fdca26"
             ],
             [
              1,
              "#f0f921"
             ]
            ],
            "type": "contour"
           }
          ],
          "contourcarpet": [
           {
            "colorbar": {
             "outlinewidth": 0,
             "ticks": ""
            },
            "type": "contourcarpet"
           }
          ],
          "heatmap": [
           {
            "colorbar": {
             "outlinewidth": 0,
             "ticks": ""
            },
            "colorscale": [
             [
              0,
              "#0d0887"
             ],
             [
              0.1111111111111111,
              "#46039f"
             ],
             [
              0.2222222222222222,
              "#7201a8"
             ],
             [
              0.3333333333333333,
              "#9c179e"
             ],
             [
              0.4444444444444444,
              "#bd3786"
             ],
             [
              0.5555555555555556,
              "#d8576b"
             ],
             [
              0.6666666666666666,
              "#ed7953"
             ],
             [
              0.7777777777777778,
              "#fb9f3a"
             ],
             [
              0.8888888888888888,
              "#fdca26"
             ],
             [
              1,
              "#f0f921"
             ]
            ],
            "type": "heatmap"
           }
          ],
          "heatmapgl": [
           {
            "colorbar": {
             "outlinewidth": 0,
             "ticks": ""
            },
            "colorscale": [
             [
              0,
              "#0d0887"
             ],
             [
              0.1111111111111111,
              "#46039f"
             ],
             [
              0.2222222222222222,
              "#7201a8"
             ],
             [
              0.3333333333333333,
              "#9c179e"
             ],
             [
              0.4444444444444444,
              "#bd3786"
             ],
             [
              0.5555555555555556,
              "#d8576b"
             ],
             [
              0.6666666666666666,
              "#ed7953"
             ],
             [
              0.7777777777777778,
              "#fb9f3a"
             ],
             [
              0.8888888888888888,
              "#fdca26"
             ],
             [
              1,
              "#f0f921"
             ]
            ],
            "type": "heatmapgl"
           }
          ],
          "histogram": [
           {
            "marker": {
             "colorbar": {
              "outlinewidth": 0,
              "ticks": ""
             }
            },
            "type": "histogram"
           }
          ],
          "histogram2d": [
           {
            "colorbar": {
             "outlinewidth": 0,
             "ticks": ""
            },
            "colorscale": [
             [
              0,
              "#0d0887"
             ],
             [
              0.1111111111111111,
              "#46039f"
             ],
             [
              0.2222222222222222,
              "#7201a8"
             ],
             [
              0.3333333333333333,
              "#9c179e"
             ],
             [
              0.4444444444444444,
              "#bd3786"
             ],
             [
              0.5555555555555556,
              "#d8576b"
             ],
             [
              0.6666666666666666,
              "#ed7953"
             ],
             [
              0.7777777777777778,
              "#fb9f3a"
             ],
             [
              0.8888888888888888,
              "#fdca26"
             ],
             [
              1,
              "#f0f921"
             ]
            ],
            "type": "histogram2d"
           }
          ],
          "histogram2dcontour": [
           {
            "colorbar": {
             "outlinewidth": 0,
             "ticks": ""
            },
            "colorscale": [
             [
              0,
              "#0d0887"
             ],
             [
              0.1111111111111111,
              "#46039f"
             ],
             [
              0.2222222222222222,
              "#7201a8"
             ],
             [
              0.3333333333333333,
              "#9c179e"
             ],
             [
              0.4444444444444444,
              "#bd3786"
             ],
             [
              0.5555555555555556,
              "#d8576b"
             ],
             [
              0.6666666666666666,
              "#ed7953"
             ],
             [
              0.7777777777777778,
              "#fb9f3a"
             ],
             [
              0.8888888888888888,
              "#fdca26"
             ],
             [
              1,
              "#f0f921"
             ]
            ],
            "type": "histogram2dcontour"
           }
          ],
          "mesh3d": [
           {
            "colorbar": {
             "outlinewidth": 0,
             "ticks": ""
            },
            "type": "mesh3d"
           }
          ],
          "parcoords": [
           {
            "line": {
             "colorbar": {
              "outlinewidth": 0,
              "ticks": ""
             }
            },
            "type": "parcoords"
           }
          ],
          "pie": [
           {
            "automargin": true,
            "type": "pie"
           }
          ],
          "scatter": [
           {
            "marker": {
             "colorbar": {
              "outlinewidth": 0,
              "ticks": ""
             }
            },
            "type": "scatter"
           }
          ],
          "scatter3d": [
           {
            "line": {
             "colorbar": {
              "outlinewidth": 0,
              "ticks": ""
             }
            },
            "marker": {
             "colorbar": {
              "outlinewidth": 0,
              "ticks": ""
             }
            },
            "type": "scatter3d"
           }
          ],
          "scattercarpet": [
           {
            "marker": {
             "colorbar": {
              "outlinewidth": 0,
              "ticks": ""
             }
            },
            "type": "scattercarpet"
           }
          ],
          "scattergeo": [
           {
            "marker": {
             "colorbar": {
              "outlinewidth": 0,
              "ticks": ""
             }
            },
            "type": "scattergeo"
           }
          ],
          "scattergl": [
           {
            "marker": {
             "colorbar": {
              "outlinewidth": 0,
              "ticks": ""
             }
            },
            "type": "scattergl"
           }
          ],
          "scattermapbox": [
           {
            "marker": {
             "colorbar": {
              "outlinewidth": 0,
              "ticks": ""
             }
            },
            "type": "scattermapbox"
           }
          ],
          "scatterpolar": [
           {
            "marker": {
             "colorbar": {
              "outlinewidth": 0,
              "ticks": ""
             }
            },
            "type": "scatterpolar"
           }
          ],
          "scatterpolargl": [
           {
            "marker": {
             "colorbar": {
              "outlinewidth": 0,
              "ticks": ""
             }
            },
            "type": "scatterpolargl"
           }
          ],
          "scatterternary": [
           {
            "marker": {
             "colorbar": {
              "outlinewidth": 0,
              "ticks": ""
             }
            },
            "type": "scatterternary"
           }
          ],
          "surface": [
           {
            "colorbar": {
             "outlinewidth": 0,
             "ticks": ""
            },
            "colorscale": [
             [
              0,
              "#0d0887"
             ],
             [
              0.1111111111111111,
              "#46039f"
             ],
             [
              0.2222222222222222,
              "#7201a8"
             ],
             [
              0.3333333333333333,
              "#9c179e"
             ],
             [
              0.4444444444444444,
              "#bd3786"
             ],
             [
              0.5555555555555556,
              "#d8576b"
             ],
             [
              0.6666666666666666,
              "#ed7953"
             ],
             [
              0.7777777777777778,
              "#fb9f3a"
             ],
             [
              0.8888888888888888,
              "#fdca26"
             ],
             [
              1,
              "#f0f921"
             ]
            ],
            "type": "surface"
           }
          ],
          "table": [
           {
            "cells": {
             "fill": {
              "color": "#EBF0F8"
             },
             "line": {
              "color": "white"
             }
            },
            "header": {
             "fill": {
              "color": "#C8D4E3"
             },
             "line": {
              "color": "white"
             }
            },
            "type": "table"
           }
          ]
         },
         "layout": {
          "annotationdefaults": {
           "arrowcolor": "#2a3f5f",
           "arrowhead": 0,
           "arrowwidth": 1
          },
          "autotypenumbers": "strict",
          "coloraxis": {
           "colorbar": {
            "outlinewidth": 0,
            "ticks": ""
           }
          },
          "colorscale": {
           "diverging": [
            [
             0,
             "#8e0152"
            ],
            [
             0.1,
             "#c51b7d"
            ],
            [
             0.2,
             "#de77ae"
            ],
            [
             0.3,
             "#f1b6da"
            ],
            [
             0.4,
             "#fde0ef"
            ],
            [
             0.5,
             "#f7f7f7"
            ],
            [
             0.6,
             "#e6f5d0"
            ],
            [
             0.7,
             "#b8e186"
            ],
            [
             0.8,
             "#7fbc41"
            ],
            [
             0.9,
             "#4d9221"
            ],
            [
             1,
             "#276419"
            ]
           ],
           "sequential": [
            [
             0,
             "#0d0887"
            ],
            [
             0.1111111111111111,
             "#46039f"
            ],
            [
             0.2222222222222222,
             "#7201a8"
            ],
            [
             0.3333333333333333,
             "#9c179e"
            ],
            [
             0.4444444444444444,
             "#bd3786"
            ],
            [
             0.5555555555555556,
             "#d8576b"
            ],
            [
             0.6666666666666666,
             "#ed7953"
            ],
            [
             0.7777777777777778,
             "#fb9f3a"
            ],
            [
             0.8888888888888888,
             "#fdca26"
            ],
            [
             1,
             "#f0f921"
            ]
           ],
           "sequentialminus": [
            [
             0,
             "#0d0887"
            ],
            [
             0.1111111111111111,
             "#46039f"
            ],
            [
             0.2222222222222222,
             "#7201a8"
            ],
            [
             0.3333333333333333,
             "#9c179e"
            ],
            [
             0.4444444444444444,
             "#bd3786"
            ],
            [
             0.5555555555555556,
             "#d8576b"
            ],
            [
             0.6666666666666666,
             "#ed7953"
            ],
            [
             0.7777777777777778,
             "#fb9f3a"
            ],
            [
             0.8888888888888888,
             "#fdca26"
            ],
            [
             1,
             "#f0f921"
            ]
           ]
          },
          "colorway": [
           "#636efa",
           "#EF553B",
           "#00cc96",
           "#ab63fa",
           "#FFA15A",
           "#19d3f3",
           "#FF6692",
           "#B6E880",
           "#FF97FF",
           "#FECB52"
          ],
          "font": {
           "color": "#2a3f5f"
          },
          "geo": {
           "bgcolor": "white",
           "lakecolor": "white",
           "landcolor": "#E5ECF6",
           "showlakes": true,
           "showland": true,
           "subunitcolor": "white"
          },
          "hoverlabel": {
           "align": "left"
          },
          "hovermode": "closest",
          "mapbox": {
           "style": "light"
          },
          "paper_bgcolor": "white",
          "plot_bgcolor": "#E5ECF6",
          "polar": {
           "angularaxis": {
            "gridcolor": "white",
            "linecolor": "white",
            "ticks": ""
           },
           "bgcolor": "#E5ECF6",
           "radialaxis": {
            "gridcolor": "white",
            "linecolor": "white",
            "ticks": ""
           }
          },
          "scene": {
           "xaxis": {
            "backgroundcolor": "#E5ECF6",
            "gridcolor": "white",
            "gridwidth": 2,
            "linecolor": "white",
            "showbackground": true,
            "ticks": "",
            "zerolinecolor": "white"
           },
           "yaxis": {
            "backgroundcolor": "#E5ECF6",
            "gridcolor": "white",
            "gridwidth": 2,
            "linecolor": "white",
            "showbackground": true,
            "ticks": "",
            "zerolinecolor": "white"
           },
           "zaxis": {
            "backgroundcolor": "#E5ECF6",
            "gridcolor": "white",
            "gridwidth": 2,
            "linecolor": "white",
            "showbackground": true,
            "ticks": "",
            "zerolinecolor": "white"
           }
          },
          "shapedefaults": {
           "line": {
            "color": "#2a3f5f"
           }
          },
          "ternary": {
           "aaxis": {
            "gridcolor": "white",
            "linecolor": "white",
            "ticks": ""
           },
           "baxis": {
            "gridcolor": "white",
            "linecolor": "white",
            "ticks": ""
           },
           "bgcolor": "#E5ECF6",
           "caxis": {
            "gridcolor": "white",
            "linecolor": "white",
            "ticks": ""
           }
          },
          "title": {
           "x": 0.05
          },
          "xaxis": {
           "automargin": true,
           "gridcolor": "white",
           "linecolor": "white",
           "ticks": "",
           "title": {
            "standoff": 15
           },
           "zerolinecolor": "white",
           "zerolinewidth": 2
          },
          "yaxis": {
           "automargin": true,
           "gridcolor": "white",
           "linecolor": "white",
           "ticks": "",
           "title": {
            "standoff": 15
           },
           "zerolinecolor": "white",
           "zerolinewidth": 2
          }
         }
        },
        "title": {
         "font": {
          "color": "#4D5663"
         }
        },
        "xaxis": {
         "gridcolor": "#E1E5ED",
         "showgrid": true,
         "tickfont": {
          "color": "#4D5663"
         },
         "title": {
          "font": {
           "color": "#4D5663"
          },
          "text": ""
         },
         "zerolinecolor": "#E1E5ED"
        },
        "yaxis": {
         "gridcolor": "#E1E5ED",
         "showgrid": true,
         "tickfont": {
          "color": "#4D5663"
         },
         "title": {
          "font": {
           "color": "#4D5663"
          },
          "text": ""
         },
         "zerolinecolor": "#E1E5ED"
        }
       }
      },
      "text/html": [
       "<div>                            <div id=\"11056032-cc22-4cc3-a891-260b9bd2cb7d\" class=\"plotly-graph-div\" style=\"height:525px; width:100%;\"></div>            <script type=\"text/javascript\">                require([\"plotly\"], function(Plotly) {                    window.PLOTLYENV=window.PLOTLYENV || {};\n",
       "                    window.PLOTLYENV.BASE_URL='https://plot.ly';                                    if (document.getElementById(\"11056032-cc22-4cc3-a891-260b9bd2cb7d\")) {                    Plotly.newPlot(                        \"11056032-cc22-4cc3-a891-260b9bd2cb7d\",                        [{\"boxpoints\": false, \"line\": {\"width\": 1.3}, \"marker\": {\"color\": \"rgba(255, 153, 51, 1.0)\"}, \"name\": \"A\", \"orientation\": \"v\", \"type\": \"box\", \"y\": [-1.0401294919952173, 0.7540837883764145, 0.4754525425630791, -0.6748870908287362, -0.5028681633354075, -1.545115592118102, 0.4385873914218319, -0.7448993761396681, -2.272601378304192, 2.348290149001387, -1.022242282050554, 0.8280023223996548, 0.07873141198557396, 0.3087675608543512, 1.0224283350187533, 0.030720145282387472, -0.2119176158627523, -0.01599653212318083, -0.3913616364448441, -1.5795751106802804, 1.1468288620565958, 0.4973159033981794, -1.9013472528155446, -0.5322510410406922, 0.4354083236982135, -0.8389836603309918, 0.63250625191439, 0.8020108286089704, 0.1680001474329182, -0.03635115506012781, 0.7159382576697422, 0.5170952942994798, -0.4208887962003864, -0.852854444728073, 0.03488494145210682, 0.8707420113945227, -0.8621551581638811, 0.34881145129166286, 1.246164830050418, -0.4040670984432969, -0.16999960651721618, 0.7702826270683759, -1.2465484743701372, 1.0235240301432829, -0.9827310746533008, -1.3685359084453448, -1.555762514576057, -0.310412608073586, 0.42784058214450094, 0.7393591528414503, -0.17894082395310795, 0.6490665839701796, -1.7845153300317413, 0.5660054718136256, 0.17895378642966125, 0.028668596465502034, 1.0984437009662795, 1.0455101311924233, -0.07431303549503826, -0.012992158379034034, -0.1995304624066606, -0.2089848698983806, 0.19457954135750175, 1.3084467308939345, 0.5846810561081601, -1.8397556931868735, -0.4890604222210714, -0.18499169606906368, -0.2973274305624725, -0.37909874978065117, 1.4957987559756598, -0.6159986573181273, -0.24547663960831673, 0.8259588546671423, 0.2320018286227506, 1.3860756506482823, -2.2969088365772, 0.24270405862187572, -1.1735508353664528, -1.0854695474455966, 0.4117828045133673, 0.6980938976610915, -0.27703893620018377, 0.44158644700903005, 2.315900696039003, 1.4760766316818896, 0.6430545479341668, -0.5639279890784357, -1.200084558711711, -0.399970533777103, -0.48409637049958826, -0.11350869752556553, -0.5766176383523768, -0.2656149677596483, 1.0680910339652843, -0.07807128816360841, -0.487754719734934, 0.7330459724530421, -1.9161367158436546, 1.6667640983996523]}, {\"boxpoints\": false, \"line\": {\"width\": 1.3}, \"marker\": {\"color\": \"rgba(55, 128, 191, 1.0)\"}, \"name\": \"B\", \"orientation\": \"v\", \"type\": \"box\", \"y\": [-0.28983263678314597, -0.8169479361435581, -0.10148378188004077, -0.748494262256059, -0.5582652244502774, -0.36037903955588957, 1.149895074698171, 0.7016714440003219, -0.6863796647750956, 1.3173593602387879, 0.4866044910224147, -0.4653742100271251, -0.529699977871896, -0.40869937377654775, -2.5486499754974177, -0.9708773273169615, 2.211548076913994, 1.7765620092543595, -1.626097838237145, 0.6692050254926118, -0.28721583356763475, 0.302370011128094, 0.2669949468236153, -0.38319982574182027, 0.42646825629144214, -0.973178217530246, -0.8943184281411931, -0.21444633380224432, -1.4671503193874726, 0.006132854065390305, -1.0220666887123597, 1.643679383050032, 0.8488020578950584, 0.3410977483909045, 0.7690744664331666, 0.47223610763359697, 0.9454017733692817, 0.4347132784174497, 0.4132931203526399, -0.7549841153565662, -0.583277796242386, -0.4547913169903659, -1.909722692901202, 0.8602880805375047, 1.2668509733843005, 0.38921315419857755, -1.3058390007042817, 0.0560880420088437, -0.7611504778718097, 0.22427842178547364, 0.6393896711477389, -0.23361690153326356, -1.0582332446307636, -0.2825496147287078, -0.24937584295088627, 1.364049630086341, 0.44841212493836835, 0.7502743814027157, 0.4632782338732586, -0.2081764792567062, -1.001357325235659, 0.9907842309268651, 1.5148089221476722, 0.09189998885551912, -0.14822349816325553, -2.130692330840538, -0.5431104712437145, -2.3513178539124264, 0.03760037350303423, 2.5321954035573055, -0.8608566121890182, -0.8769362278876279, 1.4037734093709349, 0.32147341252819217, 1.6447883170195194, -1.2543325345516667, 1.6138535011035184, 0.14627716689842465, -2.783897219711481, 0.7129828324340545, -1.127320315035124, 0.172624432355655, 1.4667699454462124, -0.06254038227601047, 1.065437358461133, -1.4383208553553297, -1.880693547475329, -0.277768247581571, -0.17205887198272193, -0.03581563684461571, 0.8717079352780598, -0.5885613208085732, -0.9489155164081639, -1.17905984924152, 0.13361371606619776, 0.9991281270155986, 0.5770007730157847, -0.5925585897114811, -0.5497414754879314, -0.7332407145505224]}, {\"boxpoints\": false, \"line\": {\"width\": 1.3}, \"marker\": {\"color\": \"rgba(50, 171, 96, 1.0)\"}, \"name\": \"C\", \"orientation\": \"v\", \"type\": \"box\", \"y\": [-0.39449112315210116, -1.1212484928116981, -0.11511045548335645, -0.9691200961435577, 0.0026646785481831783, 0.7775350927810528, -0.141799214164426, 0.06251552959152215, -0.9123240764464698, -1.32049226673257, 1.0209834505535818, 0.03353814444706474, -0.36263317862899097, 1.0799029133101594, 0.5488355449715403, -0.17780741430264266, -1.0005066291642464, 0.8442796504148201, -0.018769824139416632, -0.3278303212245403, 2.326656055647813, 2.077836072423538, 1.1868809960490683, -0.2995962917918889, -1.101428111034344, 0.6552933094637778, -0.7342775081334816, -0.02113882570913636, -0.9316840641457759, -1.1127466219103468, 0.22394846819848918, 0.7672173579994838, 0.259175286242782, 0.06508815772497668, 1.8421935174451778, -0.14044157442108454, 0.9860580470835705, 0.5396083363412992, -0.11594466300963847, 0.008806974202786672, -0.4639502774848081, 0.3330017110579172, 0.575634178744929, -0.18843324872121228, 0.0972865835770349, -1.423273354054789, 1.7300041547046228, 0.08354131107304794, 1.4660575943308496, 0.2852846080560252, -0.20729929946952697, -0.32676068868360525, -0.34143606274468435, 0.16662155629698341, -1.1770475697217184, -1.415856081362965, -0.9790861331727484, 0.2982736361374957, -0.7433120170324022, -0.369887690278907, 0.1405008326830257, 0.1506898356699573, 0.2612834210213473, -0.3953507547051282, 0.9195183947399077, -0.14856546169910426, 0.18142473356123331, 1.7114488494449998, 1.031711620401327, -2.0941516407574805, -0.08648071156833642, 0.5522774286261719, -0.008753649549855615, -0.6887924719487085, -0.4886046230152795, 0.28965280886014344, 0.31086680716582016, -0.628950032088841, -2.9035410364377405, 0.560549127072546, -1.0207551111513908, -0.5992630633903885, 1.7104838526248434, -0.18265339812095063, 0.827355988262312, 0.6051388640212662, 0.08601510364835871, 0.8737957711827707, 0.7340467938178823, 0.929733671714851, -0.34383580958552656, -0.4331014517501853, 0.36818604095503965, -0.758738373118303, 0.1847171187438878, 0.06493816718688149, 0.2065681403828763, -2.4092025245809605, 0.5501799473388332, 0.25260773029084094]}, {\"boxpoints\": false, \"line\": {\"width\": 1.3}, \"marker\": {\"color\": \"rgba(128, 0, 128, 1.0)\"}, \"name\": \"D\", \"orientation\": \"v\", \"type\": \"box\", \"y\": [0.8358904022127795, 2.808937900356927, -1.4991977318331835, 0.5684355313333193, 0.23310368435620082, 1.9211727389531776, 1.3886014132863176, -1.028149218163869, -0.22499831608299156, 1.1460286767393078, 0.6474369170804646, 0.0684361959164644, 1.0888890191969411, 2.672144706140232, 0.38091416707364184, -0.5367725893511329, -0.88934302250755, 0.17067528579360977, -1.0149577463785453, -0.7418628236857662, 0.25267446597065096, 0.776246117711896, 0.26606364938872534, 0.7844112864244464, -0.922500729401434, -3.404401460927005, -0.8799905245655284, -0.6944849330767167, -0.9091477770135895, -0.32269805129703116, -1.077846671397077, 0.30751181102894865, 0.7973998336086224, 0.11194544605401993, -0.984056235073791, 0.6928759146875341, 0.09604496877157467, -1.3276236679985045, -0.6844989545773975, 1.3276766939607527, -1.2641936094574768, 0.6848607679863661, -1.4183735330980474, -1.9780885884306907, -1.9984766520540924, 0.24706309852187702, -2.4913063691566655, 0.6101313058757692, 0.5671028633842811, -0.725984621748018, -0.1910221237008867, 0.7950638148371976, 0.3244501236102624, -0.5870172068519863, 1.5749500555780758, -0.6146397792740326, -0.7906886583107036, -1.7216416388805738, -0.7872797544723416, 1.5582839479482433, 0.3356465038431936, 1.020893116495629, -0.8794195588206934, 0.739897405337708, -0.5712865500341279, 0.026620420162464662, -3.0803992969578484, -0.6045396307619787, -0.29944332653536604, -0.9679134742287175, 0.1494414225483479, 0.8388028092237695, 0.9137539238276352, 1.1850378884216017, 1.2239190986789192, -0.8432264418389523, -0.2294007397181265, 0.14908569166228788, -1.2489354291913144, -1.1049828040795124, -0.07079198492568171, -1.016017122760885, 0.18190325517082614, -0.9602501474710243, -1.231123037318867, 0.4773103996861225, 0.393807305391927, 0.844880693586435, 0.5336027332339879, -1.9200840332679325, 0.7300441418197431, 1.1167520247457252, -1.2149971190830546, 0.002576909029410683, 0.8849780261407387, 1.6910902555987406, 0.8010887427706511, 0.6138885929785809, -0.3652223373885456, -0.5335245715775491]}],                        {\"legend\": {\"bgcolor\": \"#F5F6F9\", \"font\": {\"color\": \"#4D5663\"}}, \"paper_bgcolor\": \"#F5F6F9\", \"plot_bgcolor\": \"#F5F6F9\", \"template\": {\"data\": {\"bar\": [{\"error_x\": {\"color\": \"#2a3f5f\"}, \"error_y\": {\"color\": \"#2a3f5f\"}, \"marker\": {\"line\": {\"color\": \"#E5ECF6\", \"width\": 0.5}}, \"type\": \"bar\"}], \"barpolar\": [{\"marker\": {\"line\": {\"color\": \"#E5ECF6\", \"width\": 0.5}}, \"type\": \"barpolar\"}], \"carpet\": [{\"aaxis\": {\"endlinecolor\": \"#2a3f5f\", \"gridcolor\": \"white\", \"linecolor\": \"white\", \"minorgridcolor\": \"white\", \"startlinecolor\": \"#2a3f5f\"}, \"baxis\": {\"endlinecolor\": \"#2a3f5f\", \"gridcolor\": \"white\", \"linecolor\": \"white\", \"minorgridcolor\": \"white\", \"startlinecolor\": \"#2a3f5f\"}, \"type\": \"carpet\"}], \"choropleth\": [{\"colorbar\": {\"outlinewidth\": 0, \"ticks\": \"\"}, \"type\": \"choropleth\"}], \"contour\": [{\"colorbar\": {\"outlinewidth\": 0, \"ticks\": \"\"}, \"colorscale\": [[0.0, \"#0d0887\"], [0.1111111111111111, \"#46039f\"], [0.2222222222222222, \"#7201a8\"], [0.3333333333333333, \"#9c179e\"], [0.4444444444444444, \"#bd3786\"], [0.5555555555555556, \"#d8576b\"], [0.6666666666666666, \"#ed7953\"], [0.7777777777777778, \"#fb9f3a\"], [0.8888888888888888, \"#fdca26\"], [1.0, \"#f0f921\"]], \"type\": \"contour\"}], \"contourcarpet\": [{\"colorbar\": {\"outlinewidth\": 0, \"ticks\": \"\"}, \"type\": \"contourcarpet\"}], \"heatmap\": [{\"colorbar\": {\"outlinewidth\": 0, \"ticks\": \"\"}, \"colorscale\": [[0.0, \"#0d0887\"], [0.1111111111111111, \"#46039f\"], [0.2222222222222222, \"#7201a8\"], [0.3333333333333333, \"#9c179e\"], [0.4444444444444444, \"#bd3786\"], [0.5555555555555556, \"#d8576b\"], [0.6666666666666666, \"#ed7953\"], [0.7777777777777778, \"#fb9f3a\"], [0.8888888888888888, \"#fdca26\"], [1.0, \"#f0f921\"]], \"type\": \"heatmap\"}], \"heatmapgl\": [{\"colorbar\": {\"outlinewidth\": 0, \"ticks\": \"\"}, \"colorscale\": [[0.0, \"#0d0887\"], [0.1111111111111111, \"#46039f\"], [0.2222222222222222, \"#7201a8\"], [0.3333333333333333, \"#9c179e\"], [0.4444444444444444, \"#bd3786\"], [0.5555555555555556, \"#d8576b\"], [0.6666666666666666, \"#ed7953\"], [0.7777777777777778, \"#fb9f3a\"], [0.8888888888888888, \"#fdca26\"], [1.0, \"#f0f921\"]], \"type\": \"heatmapgl\"}], \"histogram\": [{\"marker\": {\"colorbar\": {\"outlinewidth\": 0, \"ticks\": \"\"}}, \"type\": \"histogram\"}], \"histogram2d\": [{\"colorbar\": {\"outlinewidth\": 0, \"ticks\": \"\"}, \"colorscale\": [[0.0, \"#0d0887\"], [0.1111111111111111, \"#46039f\"], [0.2222222222222222, \"#7201a8\"], [0.3333333333333333, \"#9c179e\"], [0.4444444444444444, \"#bd3786\"], [0.5555555555555556, \"#d8576b\"], [0.6666666666666666, \"#ed7953\"], [0.7777777777777778, \"#fb9f3a\"], [0.8888888888888888, \"#fdca26\"], [1.0, \"#f0f921\"]], \"type\": \"histogram2d\"}], \"histogram2dcontour\": [{\"colorbar\": {\"outlinewidth\": 0, \"ticks\": \"\"}, \"colorscale\": [[0.0, \"#0d0887\"], [0.1111111111111111, \"#46039f\"], [0.2222222222222222, \"#7201a8\"], [0.3333333333333333, \"#9c179e\"], [0.4444444444444444, \"#bd3786\"], [0.5555555555555556, \"#d8576b\"], [0.6666666666666666, \"#ed7953\"], [0.7777777777777778, \"#fb9f3a\"], [0.8888888888888888, \"#fdca26\"], [1.0, \"#f0f921\"]], \"type\": \"histogram2dcontour\"}], \"mesh3d\": [{\"colorbar\": {\"outlinewidth\": 0, \"ticks\": \"\"}, \"type\": \"mesh3d\"}], \"parcoords\": [{\"line\": {\"colorbar\": {\"outlinewidth\": 0, \"ticks\": \"\"}}, \"type\": \"parcoords\"}], \"pie\": [{\"automargin\": true, \"type\": \"pie\"}], \"scatter\": [{\"marker\": {\"colorbar\": {\"outlinewidth\": 0, \"ticks\": \"\"}}, \"type\": \"scatter\"}], \"scatter3d\": [{\"line\": {\"colorbar\": {\"outlinewidth\": 0, \"ticks\": \"\"}}, \"marker\": {\"colorbar\": {\"outlinewidth\": 0, \"ticks\": \"\"}}, \"type\": \"scatter3d\"}], \"scattercarpet\": [{\"marker\": {\"colorbar\": {\"outlinewidth\": 0, \"ticks\": \"\"}}, \"type\": \"scattercarpet\"}], \"scattergeo\": [{\"marker\": {\"colorbar\": {\"outlinewidth\": 0, \"ticks\": \"\"}}, \"type\": \"scattergeo\"}], \"scattergl\": [{\"marker\": {\"colorbar\": {\"outlinewidth\": 0, \"ticks\": \"\"}}, \"type\": \"scattergl\"}], \"scattermapbox\": [{\"marker\": {\"colorbar\": {\"outlinewidth\": 0, \"ticks\": \"\"}}, \"type\": \"scattermapbox\"}], \"scatterpolar\": [{\"marker\": {\"colorbar\": {\"outlinewidth\": 0, \"ticks\": \"\"}}, \"type\": \"scatterpolar\"}], \"scatterpolargl\": [{\"marker\": {\"colorbar\": {\"outlinewidth\": 0, \"ticks\": \"\"}}, \"type\": \"scatterpolargl\"}], \"scatterternary\": [{\"marker\": {\"colorbar\": {\"outlinewidth\": 0, \"ticks\": \"\"}}, \"type\": \"scatterternary\"}], \"surface\": [{\"colorbar\": {\"outlinewidth\": 0, \"ticks\": \"\"}, \"colorscale\": [[0.0, \"#0d0887\"], [0.1111111111111111, \"#46039f\"], [0.2222222222222222, \"#7201a8\"], [0.3333333333333333, \"#9c179e\"], [0.4444444444444444, \"#bd3786\"], [0.5555555555555556, \"#d8576b\"], [0.6666666666666666, \"#ed7953\"], [0.7777777777777778, \"#fb9f3a\"], [0.8888888888888888, \"#fdca26\"], [1.0, \"#f0f921\"]], \"type\": \"surface\"}], \"table\": [{\"cells\": {\"fill\": {\"color\": \"#EBF0F8\"}, \"line\": {\"color\": \"white\"}}, \"header\": {\"fill\": {\"color\": \"#C8D4E3\"}, \"line\": {\"color\": \"white\"}}, \"type\": \"table\"}]}, \"layout\": {\"annotationdefaults\": {\"arrowcolor\": \"#2a3f5f\", \"arrowhead\": 0, \"arrowwidth\": 1}, \"autotypenumbers\": \"strict\", \"coloraxis\": {\"colorbar\": {\"outlinewidth\": 0, \"ticks\": \"\"}}, \"colorscale\": {\"diverging\": [[0, \"#8e0152\"], [0.1, \"#c51b7d\"], [0.2, \"#de77ae\"], [0.3, \"#f1b6da\"], [0.4, \"#fde0ef\"], [0.5, \"#f7f7f7\"], [0.6, \"#e6f5d0\"], [0.7, \"#b8e186\"], [0.8, \"#7fbc41\"], [0.9, \"#4d9221\"], [1, \"#276419\"]], \"sequential\": [[0.0, \"#0d0887\"], [0.1111111111111111, \"#46039f\"], [0.2222222222222222, \"#7201a8\"], [0.3333333333333333, \"#9c179e\"], [0.4444444444444444, \"#bd3786\"], [0.5555555555555556, \"#d8576b\"], [0.6666666666666666, \"#ed7953\"], [0.7777777777777778, \"#fb9f3a\"], [0.8888888888888888, \"#fdca26\"], [1.0, \"#f0f921\"]], \"sequentialminus\": [[0.0, \"#0d0887\"], [0.1111111111111111, \"#46039f\"], [0.2222222222222222, \"#7201a8\"], [0.3333333333333333, \"#9c179e\"], [0.4444444444444444, \"#bd3786\"], [0.5555555555555556, \"#d8576b\"], [0.6666666666666666, \"#ed7953\"], [0.7777777777777778, \"#fb9f3a\"], [0.8888888888888888, \"#fdca26\"], [1.0, \"#f0f921\"]]}, \"colorway\": [\"#636efa\", \"#EF553B\", \"#00cc96\", \"#ab63fa\", \"#FFA15A\", \"#19d3f3\", \"#FF6692\", \"#B6E880\", \"#FF97FF\", \"#FECB52\"], \"font\": {\"color\": \"#2a3f5f\"}, \"geo\": {\"bgcolor\": \"white\", \"lakecolor\": \"white\", \"landcolor\": \"#E5ECF6\", \"showlakes\": true, \"showland\": true, \"subunitcolor\": \"white\"}, \"hoverlabel\": {\"align\": \"left\"}, \"hovermode\": \"closest\", \"mapbox\": {\"style\": \"light\"}, \"paper_bgcolor\": \"white\", \"plot_bgcolor\": \"#E5ECF6\", \"polar\": {\"angularaxis\": {\"gridcolor\": \"white\", \"linecolor\": \"white\", \"ticks\": \"\"}, \"bgcolor\": \"#E5ECF6\", \"radialaxis\": {\"gridcolor\": \"white\", \"linecolor\": \"white\", \"ticks\": \"\"}}, \"scene\": {\"xaxis\": {\"backgroundcolor\": \"#E5ECF6\", \"gridcolor\": \"white\", \"gridwidth\": 2, \"linecolor\": \"white\", \"showbackground\": true, \"ticks\": \"\", \"zerolinecolor\": \"white\"}, \"yaxis\": {\"backgroundcolor\": \"#E5ECF6\", \"gridcolor\": \"white\", \"gridwidth\": 2, \"linecolor\": \"white\", \"showbackground\": true, \"ticks\": \"\", \"zerolinecolor\": \"white\"}, \"zaxis\": {\"backgroundcolor\": \"#E5ECF6\", \"gridcolor\": \"white\", \"gridwidth\": 2, \"linecolor\": \"white\", \"showbackground\": true, \"ticks\": \"\", \"zerolinecolor\": \"white\"}}, \"shapedefaults\": {\"line\": {\"color\": \"#2a3f5f\"}}, \"ternary\": {\"aaxis\": {\"gridcolor\": \"white\", \"linecolor\": \"white\", \"ticks\": \"\"}, \"baxis\": {\"gridcolor\": \"white\", \"linecolor\": \"white\", \"ticks\": \"\"}, \"bgcolor\": \"#E5ECF6\", \"caxis\": {\"gridcolor\": \"white\", \"linecolor\": \"white\", \"ticks\": \"\"}}, \"title\": {\"x\": 0.05}, \"xaxis\": {\"automargin\": true, \"gridcolor\": \"white\", \"linecolor\": \"white\", \"ticks\": \"\", \"title\": {\"standoff\": 15}, \"zerolinecolor\": \"white\", \"zerolinewidth\": 2}, \"yaxis\": {\"automargin\": true, \"gridcolor\": \"white\", \"linecolor\": \"white\", \"ticks\": \"\", \"title\": {\"standoff\": 15}, \"zerolinecolor\": \"white\", \"zerolinewidth\": 2}}}, \"title\": {\"font\": {\"color\": \"#4D5663\"}}, \"xaxis\": {\"gridcolor\": \"#E1E5ED\", \"showgrid\": true, \"tickfont\": {\"color\": \"#4D5663\"}, \"title\": {\"font\": {\"color\": \"#4D5663\"}, \"text\": \"\"}, \"zerolinecolor\": \"#E1E5ED\"}, \"yaxis\": {\"gridcolor\": \"#E1E5ED\", \"showgrid\": true, \"tickfont\": {\"color\": \"#4D5663\"}, \"title\": {\"font\": {\"color\": \"#4D5663\"}, \"text\": \"\"}, \"zerolinecolor\": \"#E1E5ED\"}},                        {\"showLink\": true, \"linkText\": \"Export to plot.ly\", \"plotlyServerURL\": \"https://plot.ly\", \"responsive\": true}                    ).then(function(){\n",
       "                            \n",
       "var gd = document.getElementById('11056032-cc22-4cc3-a891-260b9bd2cb7d');\n",
       "var x = new MutationObserver(function (mutations, observer) {{\n",
       "        var display = window.getComputedStyle(gd).display;\n",
       "        if (!display || display === 'none') {{\n",
       "            console.log([gd, 'removed!']);\n",
       "            Plotly.purge(gd);\n",
       "            observer.disconnect();\n",
       "        }}\n",
       "}});\n",
       "\n",
       "// Listen for the removal of the full notebook cells\n",
       "var notebookContainer = gd.closest('#notebook-container');\n",
       "if (notebookContainer) {{\n",
       "    x.observe(notebookContainer, {childList: true});\n",
       "}}\n",
       "\n",
       "// Listen for the clearing of the current output cell\n",
       "var outputEl = gd.closest('.output');\n",
       "if (outputEl) {{\n",
       "    x.observe(outputEl, {childList: true});\n",
       "}}\n",
       "\n",
       "                        })                };                });            </script>        </div>"
      ]
     },
     "metadata": {},
     "output_type": "display_data"
    }
   ],
   "source": [
    "df.iplot(kind='box')"
   ]
  },
  {
   "cell_type": "markdown",
   "metadata": {},
   "source": [
    "## Superfícies 3D"
   ]
  },
  {
   "cell_type": "code",
   "execution_count": 18,
   "metadata": {},
   "outputs": [
    {
     "data": {
      "application/vnd.plotly.v1+json": {
       "config": {
        "linkText": "Export to plot.ly",
        "plotlyServerURL": "https://plot.ly",
        "showLink": true
       },
       "data": [
        {
         "colorscale": [
          [
           0,
           "rgb(165,0,38)"
          ],
          [
           0.1,
           "rgb(215,48,39)"
          ],
          [
           0.2,
           "rgb(244,109,67)"
          ],
          [
           0.3,
           "rgb(253,174,97)"
          ],
          [
           0.4,
           "rgb(254,224,144)"
          ],
          [
           0.5,
           "rgb(255,255,191)"
          ],
          [
           0.6,
           "rgb(224,243,248)"
          ],
          [
           0.7,
           "rgb(171,217,233)"
          ],
          [
           0.8,
           "rgb(116,173,209)"
          ],
          [
           0.9,
           "rgb(69,117,180)"
          ],
          [
           1,
           "rgb(49,54,149)"
          ]
         ],
         "type": "surface",
         "x": [
          0,
          1,
          2,
          3,
          4,
          5,
          6
         ],
         "y": [
          "x",
          "y",
          "z"
         ],
         "z": [
          [
           1,
           2,
           3,
           4,
           5,
           6,
           7
          ],
          [
           10,
           20,
           30,
           20,
           5,
           10,
           20
          ],
          [
           7,
           6,
           5,
           4,
           3,
           2,
           1
          ]
         ]
        }
       ],
       "layout": {
        "legend": {
         "bgcolor": "#F5F6F9",
         "font": {
          "color": "#4D5663"
         }
        },
        "paper_bgcolor": "#F5F6F9",
        "plot_bgcolor": "#F5F6F9",
        "template": {
         "data": {
          "bar": [
           {
            "error_x": {
             "color": "#2a3f5f"
            },
            "error_y": {
             "color": "#2a3f5f"
            },
            "marker": {
             "line": {
              "color": "#E5ECF6",
              "width": 0.5
             }
            },
            "type": "bar"
           }
          ],
          "barpolar": [
           {
            "marker": {
             "line": {
              "color": "#E5ECF6",
              "width": 0.5
             }
            },
            "type": "barpolar"
           }
          ],
          "carpet": [
           {
            "aaxis": {
             "endlinecolor": "#2a3f5f",
             "gridcolor": "white",
             "linecolor": "white",
             "minorgridcolor": "white",
             "startlinecolor": "#2a3f5f"
            },
            "baxis": {
             "endlinecolor": "#2a3f5f",
             "gridcolor": "white",
             "linecolor": "white",
             "minorgridcolor": "white",
             "startlinecolor": "#2a3f5f"
            },
            "type": "carpet"
           }
          ],
          "choropleth": [
           {
            "colorbar": {
             "outlinewidth": 0,
             "ticks": ""
            },
            "type": "choropleth"
           }
          ],
          "contour": [
           {
            "colorbar": {
             "outlinewidth": 0,
             "ticks": ""
            },
            "colorscale": [
             [
              0,
              "#0d0887"
             ],
             [
              0.1111111111111111,
              "#46039f"
             ],
             [
              0.2222222222222222,
              "#7201a8"
             ],
             [
              0.3333333333333333,
              "#9c179e"
             ],
             [
              0.4444444444444444,
              "#bd3786"
             ],
             [
              0.5555555555555556,
              "#d8576b"
             ],
             [
              0.6666666666666666,
              "#ed7953"
             ],
             [
              0.7777777777777778,
              "#fb9f3a"
             ],
             [
              0.8888888888888888,
              "#fdca26"
             ],
             [
              1,
              "#f0f921"
             ]
            ],
            "type": "contour"
           }
          ],
          "contourcarpet": [
           {
            "colorbar": {
             "outlinewidth": 0,
             "ticks": ""
            },
            "type": "contourcarpet"
           }
          ],
          "heatmap": [
           {
            "colorbar": {
             "outlinewidth": 0,
             "ticks": ""
            },
            "colorscale": [
             [
              0,
              "#0d0887"
             ],
             [
              0.1111111111111111,
              "#46039f"
             ],
             [
              0.2222222222222222,
              "#7201a8"
             ],
             [
              0.3333333333333333,
              "#9c179e"
             ],
             [
              0.4444444444444444,
              "#bd3786"
             ],
             [
              0.5555555555555556,
              "#d8576b"
             ],
             [
              0.6666666666666666,
              "#ed7953"
             ],
             [
              0.7777777777777778,
              "#fb9f3a"
             ],
             [
              0.8888888888888888,
              "#fdca26"
             ],
             [
              1,
              "#f0f921"
             ]
            ],
            "type": "heatmap"
           }
          ],
          "heatmapgl": [
           {
            "colorbar": {
             "outlinewidth": 0,
             "ticks": ""
            },
            "colorscale": [
             [
              0,
              "#0d0887"
             ],
             [
              0.1111111111111111,
              "#46039f"
             ],
             [
              0.2222222222222222,
              "#7201a8"
             ],
             [
              0.3333333333333333,
              "#9c179e"
             ],
             [
              0.4444444444444444,
              "#bd3786"
             ],
             [
              0.5555555555555556,
              "#d8576b"
             ],
             [
              0.6666666666666666,
              "#ed7953"
             ],
             [
              0.7777777777777778,
              "#fb9f3a"
             ],
             [
              0.8888888888888888,
              "#fdca26"
             ],
             [
              1,
              "#f0f921"
             ]
            ],
            "type": "heatmapgl"
           }
          ],
          "histogram": [
           {
            "marker": {
             "colorbar": {
              "outlinewidth": 0,
              "ticks": ""
             }
            },
            "type": "histogram"
           }
          ],
          "histogram2d": [
           {
            "colorbar": {
             "outlinewidth": 0,
             "ticks": ""
            },
            "colorscale": [
             [
              0,
              "#0d0887"
             ],
             [
              0.1111111111111111,
              "#46039f"
             ],
             [
              0.2222222222222222,
              "#7201a8"
             ],
             [
              0.3333333333333333,
              "#9c179e"
             ],
             [
              0.4444444444444444,
              "#bd3786"
             ],
             [
              0.5555555555555556,
              "#d8576b"
             ],
             [
              0.6666666666666666,
              "#ed7953"
             ],
             [
              0.7777777777777778,
              "#fb9f3a"
             ],
             [
              0.8888888888888888,
              "#fdca26"
             ],
             [
              1,
              "#f0f921"
             ]
            ],
            "type": "histogram2d"
           }
          ],
          "histogram2dcontour": [
           {
            "colorbar": {
             "outlinewidth": 0,
             "ticks": ""
            },
            "colorscale": [
             [
              0,
              "#0d0887"
             ],
             [
              0.1111111111111111,
              "#46039f"
             ],
             [
              0.2222222222222222,
              "#7201a8"
             ],
             [
              0.3333333333333333,
              "#9c179e"
             ],
             [
              0.4444444444444444,
              "#bd3786"
             ],
             [
              0.5555555555555556,
              "#d8576b"
             ],
             [
              0.6666666666666666,
              "#ed7953"
             ],
             [
              0.7777777777777778,
              "#fb9f3a"
             ],
             [
              0.8888888888888888,
              "#fdca26"
             ],
             [
              1,
              "#f0f921"
             ]
            ],
            "type": "histogram2dcontour"
           }
          ],
          "mesh3d": [
           {
            "colorbar": {
             "outlinewidth": 0,
             "ticks": ""
            },
            "type": "mesh3d"
           }
          ],
          "parcoords": [
           {
            "line": {
             "colorbar": {
              "outlinewidth": 0,
              "ticks": ""
             }
            },
            "type": "parcoords"
           }
          ],
          "pie": [
           {
            "automargin": true,
            "type": "pie"
           }
          ],
          "scatter": [
           {
            "marker": {
             "colorbar": {
              "outlinewidth": 0,
              "ticks": ""
             }
            },
            "type": "scatter"
           }
          ],
          "scatter3d": [
           {
            "line": {
             "colorbar": {
              "outlinewidth": 0,
              "ticks": ""
             }
            },
            "marker": {
             "colorbar": {
              "outlinewidth": 0,
              "ticks": ""
             }
            },
            "type": "scatter3d"
           }
          ],
          "scattercarpet": [
           {
            "marker": {
             "colorbar": {
              "outlinewidth": 0,
              "ticks": ""
             }
            },
            "type": "scattercarpet"
           }
          ],
          "scattergeo": [
           {
            "marker": {
             "colorbar": {
              "outlinewidth": 0,
              "ticks": ""
             }
            },
            "type": "scattergeo"
           }
          ],
          "scattergl": [
           {
            "marker": {
             "colorbar": {
              "outlinewidth": 0,
              "ticks": ""
             }
            },
            "type": "scattergl"
           }
          ],
          "scattermapbox": [
           {
            "marker": {
             "colorbar": {
              "outlinewidth": 0,
              "ticks": ""
             }
            },
            "type": "scattermapbox"
           }
          ],
          "scatterpolar": [
           {
            "marker": {
             "colorbar": {
              "outlinewidth": 0,
              "ticks": ""
             }
            },
            "type": "scatterpolar"
           }
          ],
          "scatterpolargl": [
           {
            "marker": {
             "colorbar": {
              "outlinewidth": 0,
              "ticks": ""
             }
            },
            "type": "scatterpolargl"
           }
          ],
          "scatterternary": [
           {
            "marker": {
             "colorbar": {
              "outlinewidth": 0,
              "ticks": ""
             }
            },
            "type": "scatterternary"
           }
          ],
          "surface": [
           {
            "colorbar": {
             "outlinewidth": 0,
             "ticks": ""
            },
            "colorscale": [
             [
              0,
              "#0d0887"
             ],
             [
              0.1111111111111111,
              "#46039f"
             ],
             [
              0.2222222222222222,
              "#7201a8"
             ],
             [
              0.3333333333333333,
              "#9c179e"
             ],
             [
              0.4444444444444444,
              "#bd3786"
             ],
             [
              0.5555555555555556,
              "#d8576b"
             ],
             [
              0.6666666666666666,
              "#ed7953"
             ],
             [
              0.7777777777777778,
              "#fb9f3a"
             ],
             [
              0.8888888888888888,
              "#fdca26"
             ],
             [
              1,
              "#f0f921"
             ]
            ],
            "type": "surface"
           }
          ],
          "table": [
           {
            "cells": {
             "fill": {
              "color": "#EBF0F8"
             },
             "line": {
              "color": "white"
             }
            },
            "header": {
             "fill": {
              "color": "#C8D4E3"
             },
             "line": {
              "color": "white"
             }
            },
            "type": "table"
           }
          ]
         },
         "layout": {
          "annotationdefaults": {
           "arrowcolor": "#2a3f5f",
           "arrowhead": 0,
           "arrowwidth": 1
          },
          "autotypenumbers": "strict",
          "coloraxis": {
           "colorbar": {
            "outlinewidth": 0,
            "ticks": ""
           }
          },
          "colorscale": {
           "diverging": [
            [
             0,
             "#8e0152"
            ],
            [
             0.1,
             "#c51b7d"
            ],
            [
             0.2,
             "#de77ae"
            ],
            [
             0.3,
             "#f1b6da"
            ],
            [
             0.4,
             "#fde0ef"
            ],
            [
             0.5,
             "#f7f7f7"
            ],
            [
             0.6,
             "#e6f5d0"
            ],
            [
             0.7,
             "#b8e186"
            ],
            [
             0.8,
             "#7fbc41"
            ],
            [
             0.9,
             "#4d9221"
            ],
            [
             1,
             "#276419"
            ]
           ],
           "sequential": [
            [
             0,
             "#0d0887"
            ],
            [
             0.1111111111111111,
             "#46039f"
            ],
            [
             0.2222222222222222,
             "#7201a8"
            ],
            [
             0.3333333333333333,
             "#9c179e"
            ],
            [
             0.4444444444444444,
             "#bd3786"
            ],
            [
             0.5555555555555556,
             "#d8576b"
            ],
            [
             0.6666666666666666,
             "#ed7953"
            ],
            [
             0.7777777777777778,
             "#fb9f3a"
            ],
            [
             0.8888888888888888,
             "#fdca26"
            ],
            [
             1,
             "#f0f921"
            ]
           ],
           "sequentialminus": [
            [
             0,
             "#0d0887"
            ],
            [
             0.1111111111111111,
             "#46039f"
            ],
            [
             0.2222222222222222,
             "#7201a8"
            ],
            [
             0.3333333333333333,
             "#9c179e"
            ],
            [
             0.4444444444444444,
             "#bd3786"
            ],
            [
             0.5555555555555556,
             "#d8576b"
            ],
            [
             0.6666666666666666,
             "#ed7953"
            ],
            [
             0.7777777777777778,
             "#fb9f3a"
            ],
            [
             0.8888888888888888,
             "#fdca26"
            ],
            [
             1,
             "#f0f921"
            ]
           ]
          },
          "colorway": [
           "#636efa",
           "#EF553B",
           "#00cc96",
           "#ab63fa",
           "#FFA15A",
           "#19d3f3",
           "#FF6692",
           "#B6E880",
           "#FF97FF",
           "#FECB52"
          ],
          "font": {
           "color": "#2a3f5f"
          },
          "geo": {
           "bgcolor": "white",
           "lakecolor": "white",
           "landcolor": "#E5ECF6",
           "showlakes": true,
           "showland": true,
           "subunitcolor": "white"
          },
          "hoverlabel": {
           "align": "left"
          },
          "hovermode": "closest",
          "mapbox": {
           "style": "light"
          },
          "paper_bgcolor": "white",
          "plot_bgcolor": "#E5ECF6",
          "polar": {
           "angularaxis": {
            "gridcolor": "white",
            "linecolor": "white",
            "ticks": ""
           },
           "bgcolor": "#E5ECF6",
           "radialaxis": {
            "gridcolor": "white",
            "linecolor": "white",
            "ticks": ""
           }
          },
          "scene": {
           "xaxis": {
            "backgroundcolor": "#E5ECF6",
            "gridcolor": "white",
            "gridwidth": 2,
            "linecolor": "white",
            "showbackground": true,
            "ticks": "",
            "zerolinecolor": "white"
           },
           "yaxis": {
            "backgroundcolor": "#E5ECF6",
            "gridcolor": "white",
            "gridwidth": 2,
            "linecolor": "white",
            "showbackground": true,
            "ticks": "",
            "zerolinecolor": "white"
           },
           "zaxis": {
            "backgroundcolor": "#E5ECF6",
            "gridcolor": "white",
            "gridwidth": 2,
            "linecolor": "white",
            "showbackground": true,
            "ticks": "",
            "zerolinecolor": "white"
           }
          },
          "shapedefaults": {
           "line": {
            "color": "#2a3f5f"
           }
          },
          "ternary": {
           "aaxis": {
            "gridcolor": "white",
            "linecolor": "white",
            "ticks": ""
           },
           "baxis": {
            "gridcolor": "white",
            "linecolor": "white",
            "ticks": ""
           },
           "bgcolor": "#E5ECF6",
           "caxis": {
            "gridcolor": "white",
            "linecolor": "white",
            "ticks": ""
           }
          },
          "title": {
           "x": 0.05
          },
          "xaxis": {
           "automargin": true,
           "gridcolor": "white",
           "linecolor": "white",
           "ticks": "",
           "title": {
            "standoff": 15
           },
           "zerolinecolor": "white",
           "zerolinewidth": 2
          },
          "yaxis": {
           "automargin": true,
           "gridcolor": "white",
           "linecolor": "white",
           "ticks": "",
           "title": {
            "standoff": 15
           },
           "zerolinecolor": "white",
           "zerolinewidth": 2
          }
         }
        },
        "title": {
         "font": {
          "color": "#4D5663"
         }
        },
        "xaxis": {
         "gridcolor": "#E1E5ED",
         "showgrid": true,
         "tickfont": {
          "color": "#4D5663"
         },
         "title": {
          "font": {
           "color": "#4D5663"
          },
          "text": ""
         },
         "zerolinecolor": "#E1E5ED"
        },
        "yaxis": {
         "gridcolor": "#E1E5ED",
         "showgrid": true,
         "tickfont": {
          "color": "#4D5663"
         },
         "title": {
          "font": {
           "color": "#4D5663"
          },
          "text": ""
         },
         "zerolinecolor": "#E1E5ED"
        }
       }
      },
      "text/html": [
       "<div>                            <div id=\"63c319e4-d00a-46b3-8351-00f396e718ba\" class=\"plotly-graph-div\" style=\"height:525px; width:100%;\"></div>            <script type=\"text/javascript\">                require([\"plotly\"], function(Plotly) {                    window.PLOTLYENV=window.PLOTLYENV || {};\n",
       "                    window.PLOTLYENV.BASE_URL='https://plot.ly';                                    if (document.getElementById(\"63c319e4-d00a-46b3-8351-00f396e718ba\")) {                    Plotly.newPlot(                        \"63c319e4-d00a-46b3-8351-00f396e718ba\",                        [{\"colorscale\": [[0.0, \"rgb(165,0,38)\"], [0.1, \"rgb(215,48,39)\"], [0.2, \"rgb(244,109,67)\"], [0.3, \"rgb(253,174,97)\"], [0.4, \"rgb(254,224,144)\"], [0.5, \"rgb(255,255,191)\"], [0.6, \"rgb(224,243,248)\"], [0.7, \"rgb(171,217,233)\"], [0.8, \"rgb(116,173,209)\"], [0.9, \"rgb(69,117,180)\"], [1.0, \"rgb(49,54,149)\"]], \"type\": \"surface\", \"x\": [0, 1, 2, 3, 4, 5, 6], \"y\": [\"x\", \"y\", \"z\"], \"z\": [[1, 2, 3, 4, 5, 6, 7], [10, 20, 30, 20, 5, 10, 20], [7, 6, 5, 4, 3, 2, 1]]}],                        {\"legend\": {\"bgcolor\": \"#F5F6F9\", \"font\": {\"color\": \"#4D5663\"}}, \"paper_bgcolor\": \"#F5F6F9\", \"plot_bgcolor\": \"#F5F6F9\", \"template\": {\"data\": {\"bar\": [{\"error_x\": {\"color\": \"#2a3f5f\"}, \"error_y\": {\"color\": \"#2a3f5f\"}, \"marker\": {\"line\": {\"color\": \"#E5ECF6\", \"width\": 0.5}}, \"type\": \"bar\"}], \"barpolar\": [{\"marker\": {\"line\": {\"color\": \"#E5ECF6\", \"width\": 0.5}}, \"type\": \"barpolar\"}], \"carpet\": [{\"aaxis\": {\"endlinecolor\": \"#2a3f5f\", \"gridcolor\": \"white\", \"linecolor\": \"white\", \"minorgridcolor\": \"white\", \"startlinecolor\": \"#2a3f5f\"}, \"baxis\": {\"endlinecolor\": \"#2a3f5f\", \"gridcolor\": \"white\", \"linecolor\": \"white\", \"minorgridcolor\": \"white\", \"startlinecolor\": \"#2a3f5f\"}, \"type\": \"carpet\"}], \"choropleth\": [{\"colorbar\": {\"outlinewidth\": 0, \"ticks\": \"\"}, \"type\": \"choropleth\"}], \"contour\": [{\"colorbar\": {\"outlinewidth\": 0, \"ticks\": \"\"}, \"colorscale\": [[0.0, \"#0d0887\"], [0.1111111111111111, \"#46039f\"], [0.2222222222222222, \"#7201a8\"], [0.3333333333333333, \"#9c179e\"], [0.4444444444444444, \"#bd3786\"], [0.5555555555555556, \"#d8576b\"], [0.6666666666666666, \"#ed7953\"], [0.7777777777777778, \"#fb9f3a\"], [0.8888888888888888, \"#fdca26\"], [1.0, \"#f0f921\"]], \"type\": \"contour\"}], \"contourcarpet\": [{\"colorbar\": {\"outlinewidth\": 0, \"ticks\": \"\"}, \"type\": \"contourcarpet\"}], \"heatmap\": [{\"colorbar\": {\"outlinewidth\": 0, \"ticks\": \"\"}, \"colorscale\": [[0.0, \"#0d0887\"], [0.1111111111111111, \"#46039f\"], [0.2222222222222222, \"#7201a8\"], [0.3333333333333333, \"#9c179e\"], [0.4444444444444444, \"#bd3786\"], [0.5555555555555556, \"#d8576b\"], [0.6666666666666666, \"#ed7953\"], [0.7777777777777778, \"#fb9f3a\"], [0.8888888888888888, \"#fdca26\"], [1.0, \"#f0f921\"]], \"type\": \"heatmap\"}], \"heatmapgl\": [{\"colorbar\": {\"outlinewidth\": 0, \"ticks\": \"\"}, \"colorscale\": [[0.0, \"#0d0887\"], [0.1111111111111111, \"#46039f\"], [0.2222222222222222, \"#7201a8\"], [0.3333333333333333, \"#9c179e\"], [0.4444444444444444, \"#bd3786\"], [0.5555555555555556, \"#d8576b\"], [0.6666666666666666, \"#ed7953\"], [0.7777777777777778, \"#fb9f3a\"], [0.8888888888888888, \"#fdca26\"], [1.0, \"#f0f921\"]], \"type\": \"heatmapgl\"}], \"histogram\": [{\"marker\": {\"colorbar\": {\"outlinewidth\": 0, \"ticks\": \"\"}}, \"type\": \"histogram\"}], \"histogram2d\": [{\"colorbar\": {\"outlinewidth\": 0, \"ticks\": \"\"}, \"colorscale\": [[0.0, \"#0d0887\"], [0.1111111111111111, \"#46039f\"], [0.2222222222222222, \"#7201a8\"], [0.3333333333333333, \"#9c179e\"], [0.4444444444444444, \"#bd3786\"], [0.5555555555555556, \"#d8576b\"], [0.6666666666666666, \"#ed7953\"], [0.7777777777777778, \"#fb9f3a\"], [0.8888888888888888, \"#fdca26\"], [1.0, \"#f0f921\"]], \"type\": \"histogram2d\"}], \"histogram2dcontour\": [{\"colorbar\": {\"outlinewidth\": 0, \"ticks\": \"\"}, \"colorscale\": [[0.0, \"#0d0887\"], [0.1111111111111111, \"#46039f\"], [0.2222222222222222, \"#7201a8\"], [0.3333333333333333, \"#9c179e\"], [0.4444444444444444, \"#bd3786\"], [0.5555555555555556, \"#d8576b\"], [0.6666666666666666, \"#ed7953\"], [0.7777777777777778, \"#fb9f3a\"], [0.8888888888888888, \"#fdca26\"], [1.0, \"#f0f921\"]], \"type\": \"histogram2dcontour\"}], \"mesh3d\": [{\"colorbar\": {\"outlinewidth\": 0, \"ticks\": \"\"}, \"type\": \"mesh3d\"}], \"parcoords\": [{\"line\": {\"colorbar\": {\"outlinewidth\": 0, \"ticks\": \"\"}}, \"type\": \"parcoords\"}], \"pie\": [{\"automargin\": true, \"type\": \"pie\"}], \"scatter\": [{\"marker\": {\"colorbar\": {\"outlinewidth\": 0, \"ticks\": \"\"}}, \"type\": \"scatter\"}], \"scatter3d\": [{\"line\": {\"colorbar\": {\"outlinewidth\": 0, \"ticks\": \"\"}}, \"marker\": {\"colorbar\": {\"outlinewidth\": 0, \"ticks\": \"\"}}, \"type\": \"scatter3d\"}], \"scattercarpet\": [{\"marker\": {\"colorbar\": {\"outlinewidth\": 0, \"ticks\": \"\"}}, \"type\": \"scattercarpet\"}], \"scattergeo\": [{\"marker\": {\"colorbar\": {\"outlinewidth\": 0, \"ticks\": \"\"}}, \"type\": \"scattergeo\"}], \"scattergl\": [{\"marker\": {\"colorbar\": {\"outlinewidth\": 0, \"ticks\": \"\"}}, \"type\": \"scattergl\"}], \"scattermapbox\": [{\"marker\": {\"colorbar\": {\"outlinewidth\": 0, \"ticks\": \"\"}}, \"type\": \"scattermapbox\"}], \"scatterpolar\": [{\"marker\": {\"colorbar\": {\"outlinewidth\": 0, \"ticks\": \"\"}}, \"type\": \"scatterpolar\"}], \"scatterpolargl\": [{\"marker\": {\"colorbar\": {\"outlinewidth\": 0, \"ticks\": \"\"}}, \"type\": \"scatterpolargl\"}], \"scatterternary\": [{\"marker\": {\"colorbar\": {\"outlinewidth\": 0, \"ticks\": \"\"}}, \"type\": \"scatterternary\"}], \"surface\": [{\"colorbar\": {\"outlinewidth\": 0, \"ticks\": \"\"}, \"colorscale\": [[0.0, \"#0d0887\"], [0.1111111111111111, \"#46039f\"], [0.2222222222222222, \"#7201a8\"], [0.3333333333333333, \"#9c179e\"], [0.4444444444444444, \"#bd3786\"], [0.5555555555555556, \"#d8576b\"], [0.6666666666666666, \"#ed7953\"], [0.7777777777777778, \"#fb9f3a\"], [0.8888888888888888, \"#fdca26\"], [1.0, \"#f0f921\"]], \"type\": \"surface\"}], \"table\": [{\"cells\": {\"fill\": {\"color\": \"#EBF0F8\"}, \"line\": {\"color\": \"white\"}}, \"header\": {\"fill\": {\"color\": \"#C8D4E3\"}, \"line\": {\"color\": \"white\"}}, \"type\": \"table\"}]}, \"layout\": {\"annotationdefaults\": {\"arrowcolor\": \"#2a3f5f\", \"arrowhead\": 0, \"arrowwidth\": 1}, \"autotypenumbers\": \"strict\", \"coloraxis\": {\"colorbar\": {\"outlinewidth\": 0, \"ticks\": \"\"}}, \"colorscale\": {\"diverging\": [[0, \"#8e0152\"], [0.1, \"#c51b7d\"], [0.2, \"#de77ae\"], [0.3, \"#f1b6da\"], [0.4, \"#fde0ef\"], [0.5, \"#f7f7f7\"], [0.6, \"#e6f5d0\"], [0.7, \"#b8e186\"], [0.8, \"#7fbc41\"], [0.9, \"#4d9221\"], [1, \"#276419\"]], \"sequential\": [[0.0, \"#0d0887\"], [0.1111111111111111, \"#46039f\"], [0.2222222222222222, \"#7201a8\"], [0.3333333333333333, \"#9c179e\"], [0.4444444444444444, \"#bd3786\"], [0.5555555555555556, \"#d8576b\"], [0.6666666666666666, \"#ed7953\"], [0.7777777777777778, \"#fb9f3a\"], [0.8888888888888888, \"#fdca26\"], [1.0, \"#f0f921\"]], \"sequentialminus\": [[0.0, \"#0d0887\"], [0.1111111111111111, \"#46039f\"], [0.2222222222222222, \"#7201a8\"], [0.3333333333333333, \"#9c179e\"], [0.4444444444444444, \"#bd3786\"], [0.5555555555555556, \"#d8576b\"], [0.6666666666666666, \"#ed7953\"], [0.7777777777777778, \"#fb9f3a\"], [0.8888888888888888, \"#fdca26\"], [1.0, \"#f0f921\"]]}, \"colorway\": [\"#636efa\", \"#EF553B\", \"#00cc96\", \"#ab63fa\", \"#FFA15A\", \"#19d3f3\", \"#FF6692\", \"#B6E880\", \"#FF97FF\", \"#FECB52\"], \"font\": {\"color\": \"#2a3f5f\"}, \"geo\": {\"bgcolor\": \"white\", \"lakecolor\": \"white\", \"landcolor\": \"#E5ECF6\", \"showlakes\": true, \"showland\": true, \"subunitcolor\": \"white\"}, \"hoverlabel\": {\"align\": \"left\"}, \"hovermode\": \"closest\", \"mapbox\": {\"style\": \"light\"}, \"paper_bgcolor\": \"white\", \"plot_bgcolor\": \"#E5ECF6\", \"polar\": {\"angularaxis\": {\"gridcolor\": \"white\", \"linecolor\": \"white\", \"ticks\": \"\"}, \"bgcolor\": \"#E5ECF6\", \"radialaxis\": {\"gridcolor\": \"white\", \"linecolor\": \"white\", \"ticks\": \"\"}}, \"scene\": {\"xaxis\": {\"backgroundcolor\": \"#E5ECF6\", \"gridcolor\": \"white\", \"gridwidth\": 2, \"linecolor\": \"white\", \"showbackground\": true, \"ticks\": \"\", \"zerolinecolor\": \"white\"}, \"yaxis\": {\"backgroundcolor\": \"#E5ECF6\", \"gridcolor\": \"white\", \"gridwidth\": 2, \"linecolor\": \"white\", \"showbackground\": true, \"ticks\": \"\", \"zerolinecolor\": \"white\"}, \"zaxis\": {\"backgroundcolor\": \"#E5ECF6\", \"gridcolor\": \"white\", \"gridwidth\": 2, \"linecolor\": \"white\", \"showbackground\": true, \"ticks\": \"\", \"zerolinecolor\": \"white\"}}, \"shapedefaults\": {\"line\": {\"color\": \"#2a3f5f\"}}, \"ternary\": {\"aaxis\": {\"gridcolor\": \"white\", \"linecolor\": \"white\", \"ticks\": \"\"}, \"baxis\": {\"gridcolor\": \"white\", \"linecolor\": \"white\", \"ticks\": \"\"}, \"bgcolor\": \"#E5ECF6\", \"caxis\": {\"gridcolor\": \"white\", \"linecolor\": \"white\", \"ticks\": \"\"}}, \"title\": {\"x\": 0.05}, \"xaxis\": {\"automargin\": true, \"gridcolor\": \"white\", \"linecolor\": \"white\", \"ticks\": \"\", \"title\": {\"standoff\": 15}, \"zerolinecolor\": \"white\", \"zerolinewidth\": 2}, \"yaxis\": {\"automargin\": true, \"gridcolor\": \"white\", \"linecolor\": \"white\", \"ticks\": \"\", \"title\": {\"standoff\": 15}, \"zerolinecolor\": \"white\", \"zerolinewidth\": 2}}}, \"title\": {\"font\": {\"color\": \"#4D5663\"}}, \"xaxis\": {\"gridcolor\": \"#E1E5ED\", \"showgrid\": true, \"tickfont\": {\"color\": \"#4D5663\"}, \"title\": {\"font\": {\"color\": \"#4D5663\"}, \"text\": \"\"}, \"zerolinecolor\": \"#E1E5ED\"}, \"yaxis\": {\"gridcolor\": \"#E1E5ED\", \"showgrid\": true, \"tickfont\": {\"color\": \"#4D5663\"}, \"title\": {\"font\": {\"color\": \"#4D5663\"}, \"text\": \"\"}, \"zerolinecolor\": \"#E1E5ED\"}},                        {\"showLink\": true, \"linkText\": \"Export to plot.ly\", \"plotlyServerURL\": \"https://plot.ly\", \"responsive\": true}                    ).then(function(){\n",
       "                            \n",
       "var gd = document.getElementById('63c319e4-d00a-46b3-8351-00f396e718ba');\n",
       "var x = new MutationObserver(function (mutations, observer) {{\n",
       "        var display = window.getComputedStyle(gd).display;\n",
       "        if (!display || display === 'none') {{\n",
       "            console.log([gd, 'removed!']);\n",
       "            Plotly.purge(gd);\n",
       "            observer.disconnect();\n",
       "        }}\n",
       "}});\n",
       "\n",
       "// Listen for the removal of the full notebook cells\n",
       "var notebookContainer = gd.closest('#notebook-container');\n",
       "if (notebookContainer) {{\n",
       "    x.observe(notebookContainer, {childList: true});\n",
       "}}\n",
       "\n",
       "// Listen for the clearing of the current output cell\n",
       "var outputEl = gd.closest('.output');\n",
       "if (outputEl) {{\n",
       "    x.observe(outputEl, {childList: true});\n",
       "}}\n",
       "\n",
       "                        })                };                });            </script>        </div>"
      ]
     },
     "metadata": {},
     "output_type": "display_data"
    }
   ],
   "source": [
    "df3 = pd.DataFrame({'x':[1,2,3,4,5,6,7],'y':[10,20,30,20,5,10,20],'z':[7,6,5,4,3,2,1]})\n",
    "df3.iplot(kind='surface',colorscale='rdylbu')"
   ]
  },
  {
   "cell_type": "markdown",
   "metadata": {},
   "source": [
    "## Spread"
   ]
  },
  {
   "cell_type": "code",
   "execution_count": 15,
   "metadata": {},
   "outputs": [
    {
     "name": "stderr",
     "output_type": "stream",
     "text": [
      "D:\\Jupyter\\lib\\site-packages\\cufflinks\\plotlytools.py:849: FutureWarning:\n",
      "\n",
      "The pandas.np module is deprecated and will be removed from pandas in a future version. Import numpy directly instead\n",
      "\n",
      "D:\\Jupyter\\lib\\site-packages\\cufflinks\\plotlytools.py:850: FutureWarning:\n",
      "\n",
      "The pandas.np module is deprecated and will be removed from pandas in a future version. Import numpy directly instead\n",
      "\n"
     ]
    },
    {
     "data": {
      "application/vnd.plotly.v1+json": {
       "config": {
        "linkText": "Export to plot.ly",
        "plotlyServerURL": "https://plot.ly",
        "showLink": true
       },
       "data": [
        {
         "line": {
          "color": "rgba(255, 153, 51, 1.0)",
          "dash": "solid",
          "shape": "linear",
          "width": 1.3
         },
         "mode": "lines",
         "name": "A",
         "text": "",
         "type": "scatter",
         "x": [
          0,
          1,
          2,
          3,
          4,
          5,
          6,
          7,
          8,
          9,
          10,
          11,
          12,
          13,
          14,
          15,
          16,
          17,
          18,
          19,
          20,
          21,
          22,
          23,
          24,
          25,
          26,
          27,
          28,
          29,
          30,
          31,
          32,
          33,
          34,
          35,
          36,
          37,
          38,
          39,
          40,
          41,
          42,
          43,
          44,
          45,
          46,
          47,
          48,
          49,
          50,
          51,
          52,
          53,
          54,
          55,
          56,
          57,
          58,
          59,
          60,
          61,
          62,
          63,
          64,
          65,
          66,
          67,
          68,
          69,
          70,
          71,
          72,
          73,
          74,
          75,
          76,
          77,
          78,
          79,
          80,
          81,
          82,
          83,
          84,
          85,
          86,
          87,
          88,
          89,
          90,
          91,
          92,
          93,
          94,
          95,
          96,
          97,
          98,
          99
         ],
         "y": [
          -1.0401294919952173,
          0.7540837883764145,
          0.4754525425630791,
          -0.6748870908287362,
          -0.5028681633354075,
          -1.545115592118102,
          0.4385873914218319,
          -0.7448993761396681,
          -2.272601378304192,
          2.348290149001387,
          -1.022242282050554,
          0.8280023223996548,
          0.07873141198557396,
          0.3087675608543512,
          1.0224283350187533,
          0.030720145282387472,
          -0.2119176158627523,
          -0.01599653212318083,
          -0.3913616364448441,
          -1.5795751106802804,
          1.1468288620565958,
          0.4973159033981794,
          -1.9013472528155446,
          -0.5322510410406922,
          0.4354083236982135,
          -0.8389836603309918,
          0.63250625191439,
          0.8020108286089704,
          0.1680001474329182,
          -0.03635115506012781,
          0.7159382576697422,
          0.5170952942994798,
          -0.4208887962003864,
          -0.852854444728073,
          0.03488494145210682,
          0.8707420113945227,
          -0.8621551581638811,
          0.34881145129166286,
          1.246164830050418,
          -0.4040670984432969,
          -0.16999960651721618,
          0.7702826270683759,
          -1.2465484743701372,
          1.0235240301432829,
          -0.9827310746533008,
          -1.3685359084453448,
          -1.555762514576057,
          -0.310412608073586,
          0.42784058214450094,
          0.7393591528414503,
          -0.17894082395310795,
          0.6490665839701796,
          -1.7845153300317413,
          0.5660054718136256,
          0.17895378642966125,
          0.028668596465502034,
          1.0984437009662795,
          1.0455101311924233,
          -0.07431303549503826,
          -0.012992158379034034,
          -0.1995304624066606,
          -0.2089848698983806,
          0.19457954135750175,
          1.3084467308939345,
          0.5846810561081601,
          -1.8397556931868735,
          -0.4890604222210714,
          -0.18499169606906368,
          -0.2973274305624725,
          -0.37909874978065117,
          1.4957987559756598,
          -0.6159986573181273,
          -0.24547663960831673,
          0.8259588546671423,
          0.2320018286227506,
          1.3860756506482823,
          -2.2969088365772,
          0.24270405862187572,
          -1.1735508353664528,
          -1.0854695474455966,
          0.4117828045133673,
          0.6980938976610915,
          -0.27703893620018377,
          0.44158644700903005,
          2.315900696039003,
          1.4760766316818896,
          0.6430545479341668,
          -0.5639279890784357,
          -1.200084558711711,
          -0.399970533777103,
          -0.48409637049958826,
          -0.11350869752556553,
          -0.5766176383523768,
          -0.2656149677596483,
          1.0680910339652843,
          -0.07807128816360841,
          -0.487754719734934,
          0.7330459724530421,
          -1.9161367158436546,
          1.6667640983996523
         ]
        },
        {
         "line": {
          "color": "rgba(55, 128, 191, 1.0)",
          "dash": "solid",
          "shape": "linear",
          "width": 1.3
         },
         "mode": "lines",
         "name": "B",
         "text": "",
         "type": "scatter",
         "x": [
          0,
          1,
          2,
          3,
          4,
          5,
          6,
          7,
          8,
          9,
          10,
          11,
          12,
          13,
          14,
          15,
          16,
          17,
          18,
          19,
          20,
          21,
          22,
          23,
          24,
          25,
          26,
          27,
          28,
          29,
          30,
          31,
          32,
          33,
          34,
          35,
          36,
          37,
          38,
          39,
          40,
          41,
          42,
          43,
          44,
          45,
          46,
          47,
          48,
          49,
          50,
          51,
          52,
          53,
          54,
          55,
          56,
          57,
          58,
          59,
          60,
          61,
          62,
          63,
          64,
          65,
          66,
          67,
          68,
          69,
          70,
          71,
          72,
          73,
          74,
          75,
          76,
          77,
          78,
          79,
          80,
          81,
          82,
          83,
          84,
          85,
          86,
          87,
          88,
          89,
          90,
          91,
          92,
          93,
          94,
          95,
          96,
          97,
          98,
          99
         ],
         "y": [
          -0.28983263678314597,
          -0.8169479361435581,
          -0.10148378188004077,
          -0.748494262256059,
          -0.5582652244502774,
          -0.36037903955588957,
          1.149895074698171,
          0.7016714440003219,
          -0.6863796647750956,
          1.3173593602387879,
          0.4866044910224147,
          -0.4653742100271251,
          -0.529699977871896,
          -0.40869937377654775,
          -2.5486499754974177,
          -0.9708773273169615,
          2.211548076913994,
          1.7765620092543595,
          -1.626097838237145,
          0.6692050254926118,
          -0.28721583356763475,
          0.302370011128094,
          0.2669949468236153,
          -0.38319982574182027,
          0.42646825629144214,
          -0.973178217530246,
          -0.8943184281411931,
          -0.21444633380224432,
          -1.4671503193874726,
          0.006132854065390305,
          -1.0220666887123597,
          1.643679383050032,
          0.8488020578950584,
          0.3410977483909045,
          0.7690744664331666,
          0.47223610763359697,
          0.9454017733692817,
          0.4347132784174497,
          0.4132931203526399,
          -0.7549841153565662,
          -0.583277796242386,
          -0.4547913169903659,
          -1.909722692901202,
          0.8602880805375047,
          1.2668509733843005,
          0.38921315419857755,
          -1.3058390007042817,
          0.0560880420088437,
          -0.7611504778718097,
          0.22427842178547364,
          0.6393896711477389,
          -0.23361690153326356,
          -1.0582332446307636,
          -0.2825496147287078,
          -0.24937584295088627,
          1.364049630086341,
          0.44841212493836835,
          0.7502743814027157,
          0.4632782338732586,
          -0.2081764792567062,
          -1.001357325235659,
          0.9907842309268651,
          1.5148089221476722,
          0.09189998885551912,
          -0.14822349816325553,
          -2.130692330840538,
          -0.5431104712437145,
          -2.3513178539124264,
          0.03760037350303423,
          2.5321954035573055,
          -0.8608566121890182,
          -0.8769362278876279,
          1.4037734093709349,
          0.32147341252819217,
          1.6447883170195194,
          -1.2543325345516667,
          1.6138535011035184,
          0.14627716689842465,
          -2.783897219711481,
          0.7129828324340545,
          -1.127320315035124,
          0.172624432355655,
          1.4667699454462124,
          -0.06254038227601047,
          1.065437358461133,
          -1.4383208553553297,
          -1.880693547475329,
          -0.277768247581571,
          -0.17205887198272193,
          -0.03581563684461571,
          0.8717079352780598,
          -0.5885613208085732,
          -0.9489155164081639,
          -1.17905984924152,
          0.13361371606619776,
          0.9991281270155986,
          0.5770007730157847,
          -0.5925585897114811,
          -0.5497414754879314,
          -0.7332407145505224
         ]
        },
        {
         "connectgaps": false,
         "fill": "tozeroy",
         "line": {
          "color": "green",
          "dash": "solid",
          "shape": "linear",
          "width": 0.5
         },
         "mode": "lines",
         "name": "Spread",
         "showlegend": false,
         "type": "scatter",
         "x": [
          0,
          1,
          2,
          3,
          4,
          5,
          6,
          7,
          8,
          9,
          10,
          11,
          12,
          13,
          14,
          15,
          16,
          17,
          18,
          19,
          20,
          21,
          22,
          23,
          24,
          25,
          26,
          27,
          28,
          29,
          30,
          31,
          32,
          33,
          34,
          35,
          36,
          37,
          38,
          39,
          40,
          41,
          42,
          43,
          44,
          45,
          46,
          47,
          48,
          49,
          50,
          51,
          52,
          53,
          54,
          55,
          56,
          57,
          58,
          59,
          60,
          61,
          62,
          63,
          64,
          65,
          66,
          67,
          68,
          69,
          70,
          71,
          72,
          73,
          74,
          75,
          76,
          77,
          78,
          79,
          80,
          81,
          82,
          83,
          84,
          85,
          86,
          87,
          88,
          89,
          90,
          91,
          92,
          93,
          94,
          95,
          96,
          97,
          98,
          99
         ],
         "xaxis": "x2",
         "y": [
          "",
          1.5710317245199725,
          0.5769363244431199,
          0.07360717142732276,
          0.05539706111486986,
          "",
          "",
          "",
          "",
          1.0309307887625994,
          "",
          1.2933765324267799,
          0.60843138985747,
          0.717466934630899,
          3.571078310516171,
          1.001597472599349,
          "",
          "",
          1.234736201792301,
          "",
          1.4340446956242305,
          0.1949458922700854,
          "",
          "",
          0.008940067406771335,
          0.13419455719925422,
          1.5268246800555831,
          1.0164571624112146,
          1.635150466820391,
          "",
          1.738004946382102,
          "",
          "",
          "",
          "",
          0.3985059037609257,
          "",
          "",
          0.8328717096977781,
          0.35091701691326926,
          0.4132781897251698,
          1.225073944058742,
          0.6631742185310647,
          0.16323594960577814,
          "",
          "",
          "",
          "",
          1.1889910600163107,
          0.5150807310559766,
          "",
          0.8826834855034431,
          "",
          0.8485550865423335,
          0.4283296293805475,
          "",
          0.6500315760279112,
          0.29523574978970757,
          "",
          0.19518432087767218,
          0.8018268628289983,
          "",
          "",
          1.2165467420384153,
          0.7329045542714157,
          0.2909366376536644,
          0.0540500490226431,
          2.1663261578433626,
          "",
          "",
          2.3566553681646782,
          0.2609375705695006,
          "",
          0.5044854421389501,
          "",
          2.640408185199949,
          "",
          0.09642689172345106,
          1.6103463843450283,
          "",
          1.5391031195484914,
          0.5254694653054366,
          "",
          0.5041268292850405,
          1.25046333757787,
          2.9143974870372196,
          2.5237480954094957,
          "",
          "",
          "",
          "",
          0.4750526232830076,
          0.37229787805578707,
          0.9134448814818718,
          0.9344773178990865,
          "",
          "",
          1.3256045621645232,
          "",
          2.4000048129501748
         ],
         "yaxis": "y2"
        },
        {
         "connectgaps": false,
         "fill": "tozeroy",
         "line": {
          "color": "red",
          "dash": "solid",
          "shape": "linear",
          "width": 0.5
         },
         "mode": "lines",
         "name": "Spread",
         "showlegend": false,
         "type": "scatter",
         "x": [
          0,
          1,
          2,
          3,
          4,
          5,
          6,
          7,
          8,
          9,
          10,
          11,
          12,
          13,
          14,
          15,
          16,
          17,
          18,
          19,
          20,
          21,
          22,
          23,
          24,
          25,
          26,
          27,
          28,
          29,
          30,
          31,
          32,
          33,
          34,
          35,
          36,
          37,
          38,
          39,
          40,
          41,
          42,
          43,
          44,
          45,
          46,
          47,
          48,
          49,
          50,
          51,
          52,
          53,
          54,
          55,
          56,
          57,
          58,
          59,
          60,
          61,
          62,
          63,
          64,
          65,
          66,
          67,
          68,
          69,
          70,
          71,
          72,
          73,
          74,
          75,
          76,
          77,
          78,
          79,
          80,
          81,
          82,
          83,
          84,
          85,
          86,
          87,
          88,
          89,
          90,
          91,
          92,
          93,
          94,
          95,
          96,
          97,
          98,
          99
         ],
         "xaxis": "x2",
         "y": [
          -0.7502968552120713,
          "",
          "",
          "",
          "",
          -1.1847365525622124,
          -0.7113076832763392,
          -1.44657082013999,
          -1.5862217135290964,
          "",
          -1.5088467730729687,
          "",
          "",
          "",
          "",
          "",
          -2.4234656927767464,
          -1.7925585413775402,
          "",
          -2.2487801361728925,
          "",
          "",
          -2.16834219963916,
          -0.14905121529887194,
          "",
          "",
          "",
          "",
          "",
          -0.04248400912551811,
          "",
          -1.1265840887505523,
          -1.2696908540954448,
          -1.1939521931189776,
          -0.7341895249810597,
          "",
          -1.8075569315331628,
          -0.08590182712578687,
          "",
          "",
          "",
          "",
          "",
          "",
          -2.249582048037601,
          -1.7577490626439223,
          -0.24992351387177525,
          -0.3665006500824297,
          "",
          "",
          -0.8183304951008469,
          "",
          -0.7262820854009777,
          "",
          "",
          -1.335381033620839,
          "",
          "",
          -0.5375912693682969,
          "",
          "",
          -1.1997691008252458,
          -1.3202293807901704,
          "",
          "",
          "",
          "",
          "",
          -0.33492780406550676,
          -2.911294153337957,
          "",
          "",
          -1.6492500489792516,
          "",
          -1.412786488396769,
          "",
          -3.9107623376807186,
          "",
          "",
          -1.798452379879651,
          "",
          "",
          -1.7438088816463961,
          "",
          "",
          "",
          "",
          -0.2861597414968647,
          -1.0280256867289892,
          -0.3641548969324873,
          -1.355804305777648,
          "",
          "",
          "",
          "",
          -1.077199415179207,
          -1.0647554927507188,
          "",
          -1.3663952403557231,
          ""
         ],
         "yaxis": "y2"
        }
       ],
       "layout": {
        "hovermode": "x",
        "legend": {
         "bgcolor": "#F5F6F9",
         "font": {
          "color": "#4D5663"
         }
        },
        "paper_bgcolor": "#F5F6F9",
        "plot_bgcolor": "#F5F6F9",
        "template": {
         "data": {
          "bar": [
           {
            "error_x": {
             "color": "#2a3f5f"
            },
            "error_y": {
             "color": "#2a3f5f"
            },
            "marker": {
             "line": {
              "color": "#E5ECF6",
              "width": 0.5
             }
            },
            "type": "bar"
           }
          ],
          "barpolar": [
           {
            "marker": {
             "line": {
              "color": "#E5ECF6",
              "width": 0.5
             }
            },
            "type": "barpolar"
           }
          ],
          "carpet": [
           {
            "aaxis": {
             "endlinecolor": "#2a3f5f",
             "gridcolor": "white",
             "linecolor": "white",
             "minorgridcolor": "white",
             "startlinecolor": "#2a3f5f"
            },
            "baxis": {
             "endlinecolor": "#2a3f5f",
             "gridcolor": "white",
             "linecolor": "white",
             "minorgridcolor": "white",
             "startlinecolor": "#2a3f5f"
            },
            "type": "carpet"
           }
          ],
          "choropleth": [
           {
            "colorbar": {
             "outlinewidth": 0,
             "ticks": ""
            },
            "type": "choropleth"
           }
          ],
          "contour": [
           {
            "colorbar": {
             "outlinewidth": 0,
             "ticks": ""
            },
            "colorscale": [
             [
              0,
              "#0d0887"
             ],
             [
              0.1111111111111111,
              "#46039f"
             ],
             [
              0.2222222222222222,
              "#7201a8"
             ],
             [
              0.3333333333333333,
              "#9c179e"
             ],
             [
              0.4444444444444444,
              "#bd3786"
             ],
             [
              0.5555555555555556,
              "#d8576b"
             ],
             [
              0.6666666666666666,
              "#ed7953"
             ],
             [
              0.7777777777777778,
              "#fb9f3a"
             ],
             [
              0.8888888888888888,
              "#fdca26"
             ],
             [
              1,
              "#f0f921"
             ]
            ],
            "type": "contour"
           }
          ],
          "contourcarpet": [
           {
            "colorbar": {
             "outlinewidth": 0,
             "ticks": ""
            },
            "type": "contourcarpet"
           }
          ],
          "heatmap": [
           {
            "colorbar": {
             "outlinewidth": 0,
             "ticks": ""
            },
            "colorscale": [
             [
              0,
              "#0d0887"
             ],
             [
              0.1111111111111111,
              "#46039f"
             ],
             [
              0.2222222222222222,
              "#7201a8"
             ],
             [
              0.3333333333333333,
              "#9c179e"
             ],
             [
              0.4444444444444444,
              "#bd3786"
             ],
             [
              0.5555555555555556,
              "#d8576b"
             ],
             [
              0.6666666666666666,
              "#ed7953"
             ],
             [
              0.7777777777777778,
              "#fb9f3a"
             ],
             [
              0.8888888888888888,
              "#fdca26"
             ],
             [
              1,
              "#f0f921"
             ]
            ],
            "type": "heatmap"
           }
          ],
          "heatmapgl": [
           {
            "colorbar": {
             "outlinewidth": 0,
             "ticks": ""
            },
            "colorscale": [
             [
              0,
              "#0d0887"
             ],
             [
              0.1111111111111111,
              "#46039f"
             ],
             [
              0.2222222222222222,
              "#7201a8"
             ],
             [
              0.3333333333333333,
              "#9c179e"
             ],
             [
              0.4444444444444444,
              "#bd3786"
             ],
             [
              0.5555555555555556,
              "#d8576b"
             ],
             [
              0.6666666666666666,
              "#ed7953"
             ],
             [
              0.7777777777777778,
              "#fb9f3a"
             ],
             [
              0.8888888888888888,
              "#fdca26"
             ],
             [
              1,
              "#f0f921"
             ]
            ],
            "type": "heatmapgl"
           }
          ],
          "histogram": [
           {
            "marker": {
             "colorbar": {
              "outlinewidth": 0,
              "ticks": ""
             }
            },
            "type": "histogram"
           }
          ],
          "histogram2d": [
           {
            "colorbar": {
             "outlinewidth": 0,
             "ticks": ""
            },
            "colorscale": [
             [
              0,
              "#0d0887"
             ],
             [
              0.1111111111111111,
              "#46039f"
             ],
             [
              0.2222222222222222,
              "#7201a8"
             ],
             [
              0.3333333333333333,
              "#9c179e"
             ],
             [
              0.4444444444444444,
              "#bd3786"
             ],
             [
              0.5555555555555556,
              "#d8576b"
             ],
             [
              0.6666666666666666,
              "#ed7953"
             ],
             [
              0.7777777777777778,
              "#fb9f3a"
             ],
             [
              0.8888888888888888,
              "#fdca26"
             ],
             [
              1,
              "#f0f921"
             ]
            ],
            "type": "histogram2d"
           }
          ],
          "histogram2dcontour": [
           {
            "colorbar": {
             "outlinewidth": 0,
             "ticks": ""
            },
            "colorscale": [
             [
              0,
              "#0d0887"
             ],
             [
              0.1111111111111111,
              "#46039f"
             ],
             [
              0.2222222222222222,
              "#7201a8"
             ],
             [
              0.3333333333333333,
              "#9c179e"
             ],
             [
              0.4444444444444444,
              "#bd3786"
             ],
             [
              0.5555555555555556,
              "#d8576b"
             ],
             [
              0.6666666666666666,
              "#ed7953"
             ],
             [
              0.7777777777777778,
              "#fb9f3a"
             ],
             [
              0.8888888888888888,
              "#fdca26"
             ],
             [
              1,
              "#f0f921"
             ]
            ],
            "type": "histogram2dcontour"
           }
          ],
          "mesh3d": [
           {
            "colorbar": {
             "outlinewidth": 0,
             "ticks": ""
            },
            "type": "mesh3d"
           }
          ],
          "parcoords": [
           {
            "line": {
             "colorbar": {
              "outlinewidth": 0,
              "ticks": ""
             }
            },
            "type": "parcoords"
           }
          ],
          "pie": [
           {
            "automargin": true,
            "type": "pie"
           }
          ],
          "scatter": [
           {
            "marker": {
             "colorbar": {
              "outlinewidth": 0,
              "ticks": ""
             }
            },
            "type": "scatter"
           }
          ],
          "scatter3d": [
           {
            "line": {
             "colorbar": {
              "outlinewidth": 0,
              "ticks": ""
             }
            },
            "marker": {
             "colorbar": {
              "outlinewidth": 0,
              "ticks": ""
             }
            },
            "type": "scatter3d"
           }
          ],
          "scattercarpet": [
           {
            "marker": {
             "colorbar": {
              "outlinewidth": 0,
              "ticks": ""
             }
            },
            "type": "scattercarpet"
           }
          ],
          "scattergeo": [
           {
            "marker": {
             "colorbar": {
              "outlinewidth": 0,
              "ticks": ""
             }
            },
            "type": "scattergeo"
           }
          ],
          "scattergl": [
           {
            "marker": {
             "colorbar": {
              "outlinewidth": 0,
              "ticks": ""
             }
            },
            "type": "scattergl"
           }
          ],
          "scattermapbox": [
           {
            "marker": {
             "colorbar": {
              "outlinewidth": 0,
              "ticks": ""
             }
            },
            "type": "scattermapbox"
           }
          ],
          "scatterpolar": [
           {
            "marker": {
             "colorbar": {
              "outlinewidth": 0,
              "ticks": ""
             }
            },
            "type": "scatterpolar"
           }
          ],
          "scatterpolargl": [
           {
            "marker": {
             "colorbar": {
              "outlinewidth": 0,
              "ticks": ""
             }
            },
            "type": "scatterpolargl"
           }
          ],
          "scatterternary": [
           {
            "marker": {
             "colorbar": {
              "outlinewidth": 0,
              "ticks": ""
             }
            },
            "type": "scatterternary"
           }
          ],
          "surface": [
           {
            "colorbar": {
             "outlinewidth": 0,
             "ticks": ""
            },
            "colorscale": [
             [
              0,
              "#0d0887"
             ],
             [
              0.1111111111111111,
              "#46039f"
             ],
             [
              0.2222222222222222,
              "#7201a8"
             ],
             [
              0.3333333333333333,
              "#9c179e"
             ],
             [
              0.4444444444444444,
              "#bd3786"
             ],
             [
              0.5555555555555556,
              "#d8576b"
             ],
             [
              0.6666666666666666,
              "#ed7953"
             ],
             [
              0.7777777777777778,
              "#fb9f3a"
             ],
             [
              0.8888888888888888,
              "#fdca26"
             ],
             [
              1,
              "#f0f921"
             ]
            ],
            "type": "surface"
           }
          ],
          "table": [
           {
            "cells": {
             "fill": {
              "color": "#EBF0F8"
             },
             "line": {
              "color": "white"
             }
            },
            "header": {
             "fill": {
              "color": "#C8D4E3"
             },
             "line": {
              "color": "white"
             }
            },
            "type": "table"
           }
          ]
         },
         "layout": {
          "annotationdefaults": {
           "arrowcolor": "#2a3f5f",
           "arrowhead": 0,
           "arrowwidth": 1
          },
          "autotypenumbers": "strict",
          "coloraxis": {
           "colorbar": {
            "outlinewidth": 0,
            "ticks": ""
           }
          },
          "colorscale": {
           "diverging": [
            [
             0,
             "#8e0152"
            ],
            [
             0.1,
             "#c51b7d"
            ],
            [
             0.2,
             "#de77ae"
            ],
            [
             0.3,
             "#f1b6da"
            ],
            [
             0.4,
             "#fde0ef"
            ],
            [
             0.5,
             "#f7f7f7"
            ],
            [
             0.6,
             "#e6f5d0"
            ],
            [
             0.7,
             "#b8e186"
            ],
            [
             0.8,
             "#7fbc41"
            ],
            [
             0.9,
             "#4d9221"
            ],
            [
             1,
             "#276419"
            ]
           ],
           "sequential": [
            [
             0,
             "#0d0887"
            ],
            [
             0.1111111111111111,
             "#46039f"
            ],
            [
             0.2222222222222222,
             "#7201a8"
            ],
            [
             0.3333333333333333,
             "#9c179e"
            ],
            [
             0.4444444444444444,
             "#bd3786"
            ],
            [
             0.5555555555555556,
             "#d8576b"
            ],
            [
             0.6666666666666666,
             "#ed7953"
            ],
            [
             0.7777777777777778,
             "#fb9f3a"
            ],
            [
             0.8888888888888888,
             "#fdca26"
            ],
            [
             1,
             "#f0f921"
            ]
           ],
           "sequentialminus": [
            [
             0,
             "#0d0887"
            ],
            [
             0.1111111111111111,
             "#46039f"
            ],
            [
             0.2222222222222222,
             "#7201a8"
            ],
            [
             0.3333333333333333,
             "#9c179e"
            ],
            [
             0.4444444444444444,
             "#bd3786"
            ],
            [
             0.5555555555555556,
             "#d8576b"
            ],
            [
             0.6666666666666666,
             "#ed7953"
            ],
            [
             0.7777777777777778,
             "#fb9f3a"
            ],
            [
             0.8888888888888888,
             "#fdca26"
            ],
            [
             1,
             "#f0f921"
            ]
           ]
          },
          "colorway": [
           "#636efa",
           "#EF553B",
           "#00cc96",
           "#ab63fa",
           "#FFA15A",
           "#19d3f3",
           "#FF6692",
           "#B6E880",
           "#FF97FF",
           "#FECB52"
          ],
          "font": {
           "color": "#2a3f5f"
          },
          "geo": {
           "bgcolor": "white",
           "lakecolor": "white",
           "landcolor": "#E5ECF6",
           "showlakes": true,
           "showland": true,
           "subunitcolor": "white"
          },
          "hoverlabel": {
           "align": "left"
          },
          "hovermode": "closest",
          "mapbox": {
           "style": "light"
          },
          "paper_bgcolor": "white",
          "plot_bgcolor": "#E5ECF6",
          "polar": {
           "angularaxis": {
            "gridcolor": "white",
            "linecolor": "white",
            "ticks": ""
           },
           "bgcolor": "#E5ECF6",
           "radialaxis": {
            "gridcolor": "white",
            "linecolor": "white",
            "ticks": ""
           }
          },
          "scene": {
           "xaxis": {
            "backgroundcolor": "#E5ECF6",
            "gridcolor": "white",
            "gridwidth": 2,
            "linecolor": "white",
            "showbackground": true,
            "ticks": "",
            "zerolinecolor": "white"
           },
           "yaxis": {
            "backgroundcolor": "#E5ECF6",
            "gridcolor": "white",
            "gridwidth": 2,
            "linecolor": "white",
            "showbackground": true,
            "ticks": "",
            "zerolinecolor": "white"
           },
           "zaxis": {
            "backgroundcolor": "#E5ECF6",
            "gridcolor": "white",
            "gridwidth": 2,
            "linecolor": "white",
            "showbackground": true,
            "ticks": "",
            "zerolinecolor": "white"
           }
          },
          "shapedefaults": {
           "line": {
            "color": "#2a3f5f"
           }
          },
          "ternary": {
           "aaxis": {
            "gridcolor": "white",
            "linecolor": "white",
            "ticks": ""
           },
           "baxis": {
            "gridcolor": "white",
            "linecolor": "white",
            "ticks": ""
           },
           "bgcolor": "#E5ECF6",
           "caxis": {
            "gridcolor": "white",
            "linecolor": "white",
            "ticks": ""
           }
          },
          "title": {
           "x": 0.05
          },
          "xaxis": {
           "automargin": true,
           "gridcolor": "white",
           "linecolor": "white",
           "ticks": "",
           "title": {
            "standoff": 15
           },
           "zerolinecolor": "white",
           "zerolinewidth": 2
          },
          "yaxis": {
           "automargin": true,
           "gridcolor": "white",
           "linecolor": "white",
           "ticks": "",
           "title": {
            "standoff": 15
           },
           "zerolinecolor": "white",
           "zerolinewidth": 2
          }
         }
        },
        "title": {
         "font": {
          "color": "#4D5663"
         }
        },
        "xaxis": {
         "gridcolor": "#E1E5ED",
         "showgrid": true,
         "tickfont": {
          "color": "#4D5663"
         },
         "title": {
          "font": {
           "color": "#4D5663"
          },
          "text": ""
         },
         "zerolinecolor": "#E1E5ED"
        },
        "xaxis2": {
         "anchor": "y2",
         "gridcolor": "#E1E5ED",
         "showgrid": true,
         "showticklabels": false,
         "tickfont": {
          "color": "#4D5663"
         },
         "title": {
          "font": {
           "color": "#4D5663"
          },
          "text": ""
         },
         "zerolinecolor": "#E1E5ED"
        },
        "yaxis": {
         "domain": [
          0.3,
          1
         ],
         "gridcolor": "#E1E5ED",
         "showgrid": true,
         "tickfont": {
          "color": "#4D5663"
         },
         "title": {
          "font": {
           "color": "#4D5663"
          },
          "text": ""
         },
         "zerolinecolor": "#E1E5ED"
        },
        "yaxis2": {
         "domain": [
          0,
          0.25
         ],
         "gridcolor": "#E1E5ED",
         "showgrid": true,
         "tickfont": {
          "color": "#4D5663"
         },
         "title": {
          "font": {
           "color": "#4D5663"
          },
          "text": "Spread"
         },
         "zerolinecolor": "#E1E5ED"
        }
       }
      },
      "text/html": [
       "<div>                            <div id=\"539a337b-6f79-497b-8caa-365f4008983f\" class=\"plotly-graph-div\" style=\"height:525px; width:100%;\"></div>            <script type=\"text/javascript\">                require([\"plotly\"], function(Plotly) {                    window.PLOTLYENV=window.PLOTLYENV || {};\n",
       "                    window.PLOTLYENV.BASE_URL='https://plot.ly';                                    if (document.getElementById(\"539a337b-6f79-497b-8caa-365f4008983f\")) {                    Plotly.newPlot(                        \"539a337b-6f79-497b-8caa-365f4008983f\",                        [{\"line\": {\"color\": \"rgba(255, 153, 51, 1.0)\", \"dash\": \"solid\", \"shape\": \"linear\", \"width\": 1.3}, \"mode\": \"lines\", \"name\": \"A\", \"text\": \"\", \"type\": \"scatter\", \"x\": [0, 1, 2, 3, 4, 5, 6, 7, 8, 9, 10, 11, 12, 13, 14, 15, 16, 17, 18, 19, 20, 21, 22, 23, 24, 25, 26, 27, 28, 29, 30, 31, 32, 33, 34, 35, 36, 37, 38, 39, 40, 41, 42, 43, 44, 45, 46, 47, 48, 49, 50, 51, 52, 53, 54, 55, 56, 57, 58, 59, 60, 61, 62, 63, 64, 65, 66, 67, 68, 69, 70, 71, 72, 73, 74, 75, 76, 77, 78, 79, 80, 81, 82, 83, 84, 85, 86, 87, 88, 89, 90, 91, 92, 93, 94, 95, 96, 97, 98, 99], \"y\": [-1.0401294919952173, 0.7540837883764145, 0.4754525425630791, -0.6748870908287362, -0.5028681633354075, -1.545115592118102, 0.4385873914218319, -0.7448993761396681, -2.272601378304192, 2.348290149001387, -1.022242282050554, 0.8280023223996548, 0.07873141198557396, 0.3087675608543512, 1.0224283350187533, 0.030720145282387472, -0.2119176158627523, -0.01599653212318083, -0.3913616364448441, -1.5795751106802804, 1.1468288620565958, 0.4973159033981794, -1.9013472528155446, -0.5322510410406922, 0.4354083236982135, -0.8389836603309918, 0.63250625191439, 0.8020108286089704, 0.1680001474329182, -0.03635115506012781, 0.7159382576697422, 0.5170952942994798, -0.4208887962003864, -0.852854444728073, 0.03488494145210682, 0.8707420113945227, -0.8621551581638811, 0.34881145129166286, 1.246164830050418, -0.4040670984432969, -0.16999960651721618, 0.7702826270683759, -1.2465484743701372, 1.0235240301432829, -0.9827310746533008, -1.3685359084453448, -1.555762514576057, -0.310412608073586, 0.42784058214450094, 0.7393591528414503, -0.17894082395310795, 0.6490665839701796, -1.7845153300317413, 0.5660054718136256, 0.17895378642966125, 0.028668596465502034, 1.0984437009662795, 1.0455101311924233, -0.07431303549503826, -0.012992158379034034, -0.1995304624066606, -0.2089848698983806, 0.19457954135750175, 1.3084467308939345, 0.5846810561081601, -1.8397556931868735, -0.4890604222210714, -0.18499169606906368, -0.2973274305624725, -0.37909874978065117, 1.4957987559756598, -0.6159986573181273, -0.24547663960831673, 0.8259588546671423, 0.2320018286227506, 1.3860756506482823, -2.2969088365772, 0.24270405862187572, -1.1735508353664528, -1.0854695474455966, 0.4117828045133673, 0.6980938976610915, -0.27703893620018377, 0.44158644700903005, 2.315900696039003, 1.4760766316818896, 0.6430545479341668, -0.5639279890784357, -1.200084558711711, -0.399970533777103, -0.48409637049958826, -0.11350869752556553, -0.5766176383523768, -0.2656149677596483, 1.0680910339652843, -0.07807128816360841, -0.487754719734934, 0.7330459724530421, -1.9161367158436546, 1.6667640983996523]}, {\"line\": {\"color\": \"rgba(55, 128, 191, 1.0)\", \"dash\": \"solid\", \"shape\": \"linear\", \"width\": 1.3}, \"mode\": \"lines\", \"name\": \"B\", \"text\": \"\", \"type\": \"scatter\", \"x\": [0, 1, 2, 3, 4, 5, 6, 7, 8, 9, 10, 11, 12, 13, 14, 15, 16, 17, 18, 19, 20, 21, 22, 23, 24, 25, 26, 27, 28, 29, 30, 31, 32, 33, 34, 35, 36, 37, 38, 39, 40, 41, 42, 43, 44, 45, 46, 47, 48, 49, 50, 51, 52, 53, 54, 55, 56, 57, 58, 59, 60, 61, 62, 63, 64, 65, 66, 67, 68, 69, 70, 71, 72, 73, 74, 75, 76, 77, 78, 79, 80, 81, 82, 83, 84, 85, 86, 87, 88, 89, 90, 91, 92, 93, 94, 95, 96, 97, 98, 99], \"y\": [-0.28983263678314597, -0.8169479361435581, -0.10148378188004077, -0.748494262256059, -0.5582652244502774, -0.36037903955588957, 1.149895074698171, 0.7016714440003219, -0.6863796647750956, 1.3173593602387879, 0.4866044910224147, -0.4653742100271251, -0.529699977871896, -0.40869937377654775, -2.5486499754974177, -0.9708773273169615, 2.211548076913994, 1.7765620092543595, -1.626097838237145, 0.6692050254926118, -0.28721583356763475, 0.302370011128094, 0.2669949468236153, -0.38319982574182027, 0.42646825629144214, -0.973178217530246, -0.8943184281411931, -0.21444633380224432, -1.4671503193874726, 0.006132854065390305, -1.0220666887123597, 1.643679383050032, 0.8488020578950584, 0.3410977483909045, 0.7690744664331666, 0.47223610763359697, 0.9454017733692817, 0.4347132784174497, 0.4132931203526399, -0.7549841153565662, -0.583277796242386, -0.4547913169903659, -1.909722692901202, 0.8602880805375047, 1.2668509733843005, 0.38921315419857755, -1.3058390007042817, 0.0560880420088437, -0.7611504778718097, 0.22427842178547364, 0.6393896711477389, -0.23361690153326356, -1.0582332446307636, -0.2825496147287078, -0.24937584295088627, 1.364049630086341, 0.44841212493836835, 0.7502743814027157, 0.4632782338732586, -0.2081764792567062, -1.001357325235659, 0.9907842309268651, 1.5148089221476722, 0.09189998885551912, -0.14822349816325553, -2.130692330840538, -0.5431104712437145, -2.3513178539124264, 0.03760037350303423, 2.5321954035573055, -0.8608566121890182, -0.8769362278876279, 1.4037734093709349, 0.32147341252819217, 1.6447883170195194, -1.2543325345516667, 1.6138535011035184, 0.14627716689842465, -2.783897219711481, 0.7129828324340545, -1.127320315035124, 0.172624432355655, 1.4667699454462124, -0.06254038227601047, 1.065437358461133, -1.4383208553553297, -1.880693547475329, -0.277768247581571, -0.17205887198272193, -0.03581563684461571, 0.8717079352780598, -0.5885613208085732, -0.9489155164081639, -1.17905984924152, 0.13361371606619776, 0.9991281270155986, 0.5770007730157847, -0.5925585897114811, -0.5497414754879314, -0.7332407145505224]}, {\"connectgaps\": false, \"fill\": \"tozeroy\", \"line\": {\"color\": \"green\", \"dash\": \"solid\", \"shape\": \"linear\", \"width\": 0.5}, \"mode\": \"lines\", \"name\": \"Spread\", \"showlegend\": false, \"type\": \"scatter\", \"x\": [0, 1, 2, 3, 4, 5, 6, 7, 8, 9, 10, 11, 12, 13, 14, 15, 16, 17, 18, 19, 20, 21, 22, 23, 24, 25, 26, 27, 28, 29, 30, 31, 32, 33, 34, 35, 36, 37, 38, 39, 40, 41, 42, 43, 44, 45, 46, 47, 48, 49, 50, 51, 52, 53, 54, 55, 56, 57, 58, 59, 60, 61, 62, 63, 64, 65, 66, 67, 68, 69, 70, 71, 72, 73, 74, 75, 76, 77, 78, 79, 80, 81, 82, 83, 84, 85, 86, 87, 88, 89, 90, 91, 92, 93, 94, 95, 96, 97, 98, 99], \"xaxis\": \"x2\", \"y\": [\"\", 1.5710317245199725, 0.5769363244431199, 0.07360717142732276, 0.05539706111486986, \"\", \"\", \"\", \"\", 1.0309307887625994, \"\", 1.2933765324267799, 0.60843138985747, 0.717466934630899, 3.571078310516171, 1.001597472599349, \"\", \"\", 1.234736201792301, \"\", 1.4340446956242305, 0.1949458922700854, \"\", \"\", 0.008940067406771335, 0.13419455719925422, 1.5268246800555831, 1.0164571624112146, 1.635150466820391, \"\", 1.738004946382102, \"\", \"\", \"\", \"\", 0.3985059037609257, \"\", \"\", 0.8328717096977781, 0.35091701691326926, 0.4132781897251698, 1.225073944058742, 0.6631742185310647, 0.16323594960577814, \"\", \"\", \"\", \"\", 1.1889910600163107, 0.5150807310559766, \"\", 0.8826834855034431, \"\", 0.8485550865423335, 0.4283296293805475, \"\", 0.6500315760279112, 0.29523574978970757, \"\", 0.19518432087767218, 0.8018268628289983, \"\", \"\", 1.2165467420384153, 0.7329045542714157, 0.2909366376536644, 0.0540500490226431, 2.1663261578433626, \"\", \"\", 2.3566553681646782, 0.2609375705695006, \"\", 0.5044854421389501, \"\", 2.640408185199949, \"\", 0.09642689172345106, 1.6103463843450283, \"\", 1.5391031195484914, 0.5254694653054366, \"\", 0.5041268292850405, 1.25046333757787, 2.9143974870372196, 2.5237480954094957, \"\", \"\", \"\", \"\", 0.4750526232830076, 0.37229787805578707, 0.9134448814818718, 0.9344773178990865, \"\", \"\", 1.3256045621645232, \"\", 2.4000048129501748], \"yaxis\": \"y2\"}, {\"connectgaps\": false, \"fill\": \"tozeroy\", \"line\": {\"color\": \"red\", \"dash\": \"solid\", \"shape\": \"linear\", \"width\": 0.5}, \"mode\": \"lines\", \"name\": \"Spread\", \"showlegend\": false, \"type\": \"scatter\", \"x\": [0, 1, 2, 3, 4, 5, 6, 7, 8, 9, 10, 11, 12, 13, 14, 15, 16, 17, 18, 19, 20, 21, 22, 23, 24, 25, 26, 27, 28, 29, 30, 31, 32, 33, 34, 35, 36, 37, 38, 39, 40, 41, 42, 43, 44, 45, 46, 47, 48, 49, 50, 51, 52, 53, 54, 55, 56, 57, 58, 59, 60, 61, 62, 63, 64, 65, 66, 67, 68, 69, 70, 71, 72, 73, 74, 75, 76, 77, 78, 79, 80, 81, 82, 83, 84, 85, 86, 87, 88, 89, 90, 91, 92, 93, 94, 95, 96, 97, 98, 99], \"xaxis\": \"x2\", \"y\": [-0.7502968552120713, \"\", \"\", \"\", \"\", -1.1847365525622124, -0.7113076832763392, -1.44657082013999, -1.5862217135290964, \"\", -1.5088467730729687, \"\", \"\", \"\", \"\", \"\", -2.4234656927767464, -1.7925585413775402, \"\", -2.2487801361728925, \"\", \"\", -2.16834219963916, -0.14905121529887194, \"\", \"\", \"\", \"\", \"\", -0.04248400912551811, \"\", -1.1265840887505523, -1.2696908540954448, -1.1939521931189776, -0.7341895249810597, \"\", -1.8075569315331628, -0.08590182712578687, \"\", \"\", \"\", \"\", \"\", \"\", -2.249582048037601, -1.7577490626439223, -0.24992351387177525, -0.3665006500824297, \"\", \"\", -0.8183304951008469, \"\", -0.7262820854009777, \"\", \"\", -1.335381033620839, \"\", \"\", -0.5375912693682969, \"\", \"\", -1.1997691008252458, -1.3202293807901704, \"\", \"\", \"\", \"\", \"\", -0.33492780406550676, -2.911294153337957, \"\", \"\", -1.6492500489792516, \"\", -1.412786488396769, \"\", -3.9107623376807186, \"\", \"\", -1.798452379879651, \"\", \"\", -1.7438088816463961, \"\", \"\", \"\", \"\", -0.2861597414968647, -1.0280256867289892, -0.3641548969324873, -1.355804305777648, \"\", \"\", \"\", \"\", -1.077199415179207, -1.0647554927507188, \"\", -1.3663952403557231, \"\"], \"yaxis\": \"y2\"}],                        {\"hovermode\": \"x\", \"legend\": {\"bgcolor\": \"#F5F6F9\", \"font\": {\"color\": \"#4D5663\"}}, \"paper_bgcolor\": \"#F5F6F9\", \"plot_bgcolor\": \"#F5F6F9\", \"template\": {\"data\": {\"bar\": [{\"error_x\": {\"color\": \"#2a3f5f\"}, \"error_y\": {\"color\": \"#2a3f5f\"}, \"marker\": {\"line\": {\"color\": \"#E5ECF6\", \"width\": 0.5}}, \"type\": \"bar\"}], \"barpolar\": [{\"marker\": {\"line\": {\"color\": \"#E5ECF6\", \"width\": 0.5}}, \"type\": \"barpolar\"}], \"carpet\": [{\"aaxis\": {\"endlinecolor\": \"#2a3f5f\", \"gridcolor\": \"white\", \"linecolor\": \"white\", \"minorgridcolor\": \"white\", \"startlinecolor\": \"#2a3f5f\"}, \"baxis\": {\"endlinecolor\": \"#2a3f5f\", \"gridcolor\": \"white\", \"linecolor\": \"white\", \"minorgridcolor\": \"white\", \"startlinecolor\": \"#2a3f5f\"}, \"type\": \"carpet\"}], \"choropleth\": [{\"colorbar\": {\"outlinewidth\": 0, \"ticks\": \"\"}, \"type\": \"choropleth\"}], \"contour\": [{\"colorbar\": {\"outlinewidth\": 0, \"ticks\": \"\"}, \"colorscale\": [[0.0, \"#0d0887\"], [0.1111111111111111, \"#46039f\"], [0.2222222222222222, \"#7201a8\"], [0.3333333333333333, \"#9c179e\"], [0.4444444444444444, \"#bd3786\"], [0.5555555555555556, \"#d8576b\"], [0.6666666666666666, \"#ed7953\"], [0.7777777777777778, \"#fb9f3a\"], [0.8888888888888888, \"#fdca26\"], [1.0, \"#f0f921\"]], \"type\": \"contour\"}], \"contourcarpet\": [{\"colorbar\": {\"outlinewidth\": 0, \"ticks\": \"\"}, \"type\": \"contourcarpet\"}], \"heatmap\": [{\"colorbar\": {\"outlinewidth\": 0, \"ticks\": \"\"}, \"colorscale\": [[0.0, \"#0d0887\"], [0.1111111111111111, \"#46039f\"], [0.2222222222222222, \"#7201a8\"], [0.3333333333333333, \"#9c179e\"], [0.4444444444444444, \"#bd3786\"], [0.5555555555555556, \"#d8576b\"], [0.6666666666666666, \"#ed7953\"], [0.7777777777777778, \"#fb9f3a\"], [0.8888888888888888, \"#fdca26\"], [1.0, \"#f0f921\"]], \"type\": \"heatmap\"}], \"heatmapgl\": [{\"colorbar\": {\"outlinewidth\": 0, \"ticks\": \"\"}, \"colorscale\": [[0.0, \"#0d0887\"], [0.1111111111111111, \"#46039f\"], [0.2222222222222222, \"#7201a8\"], [0.3333333333333333, \"#9c179e\"], [0.4444444444444444, \"#bd3786\"], [0.5555555555555556, \"#d8576b\"], [0.6666666666666666, \"#ed7953\"], [0.7777777777777778, \"#fb9f3a\"], [0.8888888888888888, \"#fdca26\"], [1.0, \"#f0f921\"]], \"type\": \"heatmapgl\"}], \"histogram\": [{\"marker\": {\"colorbar\": {\"outlinewidth\": 0, \"ticks\": \"\"}}, \"type\": \"histogram\"}], \"histogram2d\": [{\"colorbar\": {\"outlinewidth\": 0, \"ticks\": \"\"}, \"colorscale\": [[0.0, \"#0d0887\"], [0.1111111111111111, \"#46039f\"], [0.2222222222222222, \"#7201a8\"], [0.3333333333333333, \"#9c179e\"], [0.4444444444444444, \"#bd3786\"], [0.5555555555555556, \"#d8576b\"], [0.6666666666666666, \"#ed7953\"], [0.7777777777777778, \"#fb9f3a\"], [0.8888888888888888, \"#fdca26\"], [1.0, \"#f0f921\"]], \"type\": \"histogram2d\"}], \"histogram2dcontour\": [{\"colorbar\": {\"outlinewidth\": 0, \"ticks\": \"\"}, \"colorscale\": [[0.0, \"#0d0887\"], [0.1111111111111111, \"#46039f\"], [0.2222222222222222, \"#7201a8\"], [0.3333333333333333, \"#9c179e\"], [0.4444444444444444, \"#bd3786\"], [0.5555555555555556, \"#d8576b\"], [0.6666666666666666, \"#ed7953\"], [0.7777777777777778, \"#fb9f3a\"], [0.8888888888888888, \"#fdca26\"], [1.0, \"#f0f921\"]], \"type\": \"histogram2dcontour\"}], \"mesh3d\": [{\"colorbar\": {\"outlinewidth\": 0, \"ticks\": \"\"}, \"type\": \"mesh3d\"}], \"parcoords\": [{\"line\": {\"colorbar\": {\"outlinewidth\": 0, \"ticks\": \"\"}}, \"type\": \"parcoords\"}], \"pie\": [{\"automargin\": true, \"type\": \"pie\"}], \"scatter\": [{\"marker\": {\"colorbar\": {\"outlinewidth\": 0, \"ticks\": \"\"}}, \"type\": \"scatter\"}], \"scatter3d\": [{\"line\": {\"colorbar\": {\"outlinewidth\": 0, \"ticks\": \"\"}}, \"marker\": {\"colorbar\": {\"outlinewidth\": 0, \"ticks\": \"\"}}, \"type\": \"scatter3d\"}], \"scattercarpet\": [{\"marker\": {\"colorbar\": {\"outlinewidth\": 0, \"ticks\": \"\"}}, \"type\": \"scattercarpet\"}], \"scattergeo\": [{\"marker\": {\"colorbar\": {\"outlinewidth\": 0, \"ticks\": \"\"}}, \"type\": \"scattergeo\"}], \"scattergl\": [{\"marker\": {\"colorbar\": {\"outlinewidth\": 0, \"ticks\": \"\"}}, \"type\": \"scattergl\"}], \"scattermapbox\": [{\"marker\": {\"colorbar\": {\"outlinewidth\": 0, \"ticks\": \"\"}}, \"type\": \"scattermapbox\"}], \"scatterpolar\": [{\"marker\": {\"colorbar\": {\"outlinewidth\": 0, \"ticks\": \"\"}}, \"type\": \"scatterpolar\"}], \"scatterpolargl\": [{\"marker\": {\"colorbar\": {\"outlinewidth\": 0, \"ticks\": \"\"}}, \"type\": \"scatterpolargl\"}], \"scatterternary\": [{\"marker\": {\"colorbar\": {\"outlinewidth\": 0, \"ticks\": \"\"}}, \"type\": \"scatterternary\"}], \"surface\": [{\"colorbar\": {\"outlinewidth\": 0, \"ticks\": \"\"}, \"colorscale\": [[0.0, \"#0d0887\"], [0.1111111111111111, \"#46039f\"], [0.2222222222222222, \"#7201a8\"], [0.3333333333333333, \"#9c179e\"], [0.4444444444444444, \"#bd3786\"], [0.5555555555555556, \"#d8576b\"], [0.6666666666666666, \"#ed7953\"], [0.7777777777777778, \"#fb9f3a\"], [0.8888888888888888, \"#fdca26\"], [1.0, \"#f0f921\"]], \"type\": \"surface\"}], \"table\": [{\"cells\": {\"fill\": {\"color\": \"#EBF0F8\"}, \"line\": {\"color\": \"white\"}}, \"header\": {\"fill\": {\"color\": \"#C8D4E3\"}, \"line\": {\"color\": \"white\"}}, \"type\": \"table\"}]}, \"layout\": {\"annotationdefaults\": {\"arrowcolor\": \"#2a3f5f\", \"arrowhead\": 0, \"arrowwidth\": 1}, \"autotypenumbers\": \"strict\", \"coloraxis\": {\"colorbar\": {\"outlinewidth\": 0, \"ticks\": \"\"}}, \"colorscale\": {\"diverging\": [[0, \"#8e0152\"], [0.1, \"#c51b7d\"], [0.2, \"#de77ae\"], [0.3, \"#f1b6da\"], [0.4, \"#fde0ef\"], [0.5, \"#f7f7f7\"], [0.6, \"#e6f5d0\"], [0.7, \"#b8e186\"], [0.8, \"#7fbc41\"], [0.9, \"#4d9221\"], [1, \"#276419\"]], \"sequential\": [[0.0, \"#0d0887\"], [0.1111111111111111, \"#46039f\"], [0.2222222222222222, \"#7201a8\"], [0.3333333333333333, \"#9c179e\"], [0.4444444444444444, \"#bd3786\"], [0.5555555555555556, \"#d8576b\"], [0.6666666666666666, \"#ed7953\"], [0.7777777777777778, \"#fb9f3a\"], [0.8888888888888888, \"#fdca26\"], [1.0, \"#f0f921\"]], \"sequentialminus\": [[0.0, \"#0d0887\"], [0.1111111111111111, \"#46039f\"], [0.2222222222222222, \"#7201a8\"], [0.3333333333333333, \"#9c179e\"], [0.4444444444444444, \"#bd3786\"], [0.5555555555555556, \"#d8576b\"], [0.6666666666666666, \"#ed7953\"], [0.7777777777777778, \"#fb9f3a\"], [0.8888888888888888, \"#fdca26\"], [1.0, \"#f0f921\"]]}, \"colorway\": [\"#636efa\", \"#EF553B\", \"#00cc96\", \"#ab63fa\", \"#FFA15A\", \"#19d3f3\", \"#FF6692\", \"#B6E880\", \"#FF97FF\", \"#FECB52\"], \"font\": {\"color\": \"#2a3f5f\"}, \"geo\": {\"bgcolor\": \"white\", \"lakecolor\": \"white\", \"landcolor\": \"#E5ECF6\", \"showlakes\": true, \"showland\": true, \"subunitcolor\": \"white\"}, \"hoverlabel\": {\"align\": \"left\"}, \"hovermode\": \"closest\", \"mapbox\": {\"style\": \"light\"}, \"paper_bgcolor\": \"white\", \"plot_bgcolor\": \"#E5ECF6\", \"polar\": {\"angularaxis\": {\"gridcolor\": \"white\", \"linecolor\": \"white\", \"ticks\": \"\"}, \"bgcolor\": \"#E5ECF6\", \"radialaxis\": {\"gridcolor\": \"white\", \"linecolor\": \"white\", \"ticks\": \"\"}}, \"scene\": {\"xaxis\": {\"backgroundcolor\": \"#E5ECF6\", \"gridcolor\": \"white\", \"gridwidth\": 2, \"linecolor\": \"white\", \"showbackground\": true, \"ticks\": \"\", \"zerolinecolor\": \"white\"}, \"yaxis\": {\"backgroundcolor\": \"#E5ECF6\", \"gridcolor\": \"white\", \"gridwidth\": 2, \"linecolor\": \"white\", \"showbackground\": true, \"ticks\": \"\", \"zerolinecolor\": \"white\"}, \"zaxis\": {\"backgroundcolor\": \"#E5ECF6\", \"gridcolor\": \"white\", \"gridwidth\": 2, \"linecolor\": \"white\", \"showbackground\": true, \"ticks\": \"\", \"zerolinecolor\": \"white\"}}, \"shapedefaults\": {\"line\": {\"color\": \"#2a3f5f\"}}, \"ternary\": {\"aaxis\": {\"gridcolor\": \"white\", \"linecolor\": \"white\", \"ticks\": \"\"}, \"baxis\": {\"gridcolor\": \"white\", \"linecolor\": \"white\", \"ticks\": \"\"}, \"bgcolor\": \"#E5ECF6\", \"caxis\": {\"gridcolor\": \"white\", \"linecolor\": \"white\", \"ticks\": \"\"}}, \"title\": {\"x\": 0.05}, \"xaxis\": {\"automargin\": true, \"gridcolor\": \"white\", \"linecolor\": \"white\", \"ticks\": \"\", \"title\": {\"standoff\": 15}, \"zerolinecolor\": \"white\", \"zerolinewidth\": 2}, \"yaxis\": {\"automargin\": true, \"gridcolor\": \"white\", \"linecolor\": \"white\", \"ticks\": \"\", \"title\": {\"standoff\": 15}, \"zerolinecolor\": \"white\", \"zerolinewidth\": 2}}}, \"title\": {\"font\": {\"color\": \"#4D5663\"}}, \"xaxis\": {\"gridcolor\": \"#E1E5ED\", \"showgrid\": true, \"tickfont\": {\"color\": \"#4D5663\"}, \"title\": {\"font\": {\"color\": \"#4D5663\"}, \"text\": \"\"}, \"zerolinecolor\": \"#E1E5ED\"}, \"xaxis2\": {\"anchor\": \"y2\", \"gridcolor\": \"#E1E5ED\", \"showgrid\": true, \"showticklabels\": false, \"tickfont\": {\"color\": \"#4D5663\"}, \"title\": {\"font\": {\"color\": \"#4D5663\"}, \"text\": \"\"}, \"zerolinecolor\": \"#E1E5ED\"}, \"yaxis\": {\"domain\": [0.3, 1], \"gridcolor\": \"#E1E5ED\", \"showgrid\": true, \"tickfont\": {\"color\": \"#4D5663\"}, \"title\": {\"font\": {\"color\": \"#4D5663\"}, \"text\": \"\"}, \"zerolinecolor\": \"#E1E5ED\"}, \"yaxis2\": {\"domain\": [0, 0.25], \"gridcolor\": \"#E1E5ED\", \"showgrid\": true, \"tickfont\": {\"color\": \"#4D5663\"}, \"title\": {\"font\": {\"color\": \"#4D5663\"}, \"text\": \"Spread\"}, \"zerolinecolor\": \"#E1E5ED\"}},                        {\"showLink\": true, \"linkText\": \"Export to plot.ly\", \"plotlyServerURL\": \"https://plot.ly\", \"responsive\": true}                    ).then(function(){\n",
       "                            \n",
       "var gd = document.getElementById('539a337b-6f79-497b-8caa-365f4008983f');\n",
       "var x = new MutationObserver(function (mutations, observer) {{\n",
       "        var display = window.getComputedStyle(gd).display;\n",
       "        if (!display || display === 'none') {{\n",
       "            console.log([gd, 'removed!']);\n",
       "            Plotly.purge(gd);\n",
       "            observer.disconnect();\n",
       "        }}\n",
       "}});\n",
       "\n",
       "// Listen for the removal of the full notebook cells\n",
       "var notebookContainer = gd.closest('#notebook-container');\n",
       "if (notebookContainer) {{\n",
       "    x.observe(notebookContainer, {childList: true});\n",
       "}}\n",
       "\n",
       "// Listen for the clearing of the current output cell\n",
       "var outputEl = gd.closest('.output');\n",
       "if (outputEl) {{\n",
       "    x.observe(outputEl, {childList: true});\n",
       "}}\n",
       "\n",
       "                        })                };                });            </script>        </div>"
      ]
     },
     "metadata": {},
     "output_type": "display_data"
    }
   ],
   "source": [
    "df[['A','B']].iplot(kind='spread')"
   ]
  },
  {
   "cell_type": "markdown",
   "metadata": {},
   "source": [
    "## Histograma"
   ]
  },
  {
   "cell_type": "code",
   "execution_count": 16,
   "metadata": {},
   "outputs": [
    {
     "data": {
      "application/vnd.plotly.v1+json": {
       "config": {
        "linkText": "Export to plot.ly",
        "plotlyServerURL": "https://plot.ly",
        "showLink": true
       },
       "data": [
        {
         "histfunc": "count",
         "histnorm": "",
         "marker": {
          "color": "rgba(255, 153, 51, 1.0)",
          "line": {
           "color": "#4D5663",
           "width": 1.3
          }
         },
         "name": "A",
         "nbinsx": 25,
         "opacity": 0.8,
         "orientation": "v",
         "type": "histogram",
         "x": [
          -1.0401294919952173,
          0.7540837883764145,
          0.4754525425630791,
          -0.6748870908287362,
          -0.5028681633354075,
          -1.545115592118102,
          0.4385873914218319,
          -0.7448993761396681,
          -2.272601378304192,
          2.348290149001387,
          -1.022242282050554,
          0.8280023223996548,
          0.07873141198557396,
          0.3087675608543512,
          1.0224283350187533,
          0.030720145282387472,
          -0.2119176158627523,
          -0.01599653212318083,
          -0.3913616364448441,
          -1.5795751106802804,
          1.1468288620565958,
          0.4973159033981794,
          -1.9013472528155446,
          -0.5322510410406922,
          0.4354083236982135,
          -0.8389836603309918,
          0.63250625191439,
          0.8020108286089704,
          0.1680001474329182,
          -0.03635115506012781,
          0.7159382576697422,
          0.5170952942994798,
          -0.4208887962003864,
          -0.852854444728073,
          0.03488494145210682,
          0.8707420113945227,
          -0.8621551581638811,
          0.34881145129166286,
          1.246164830050418,
          -0.4040670984432969,
          -0.16999960651721618,
          0.7702826270683759,
          -1.2465484743701372,
          1.0235240301432829,
          -0.9827310746533008,
          -1.3685359084453448,
          -1.555762514576057,
          -0.310412608073586,
          0.42784058214450094,
          0.7393591528414503,
          -0.17894082395310795,
          0.6490665839701796,
          -1.7845153300317413,
          0.5660054718136256,
          0.17895378642966125,
          0.028668596465502034,
          1.0984437009662795,
          1.0455101311924233,
          -0.07431303549503826,
          -0.012992158379034034,
          -0.1995304624066606,
          -0.2089848698983806,
          0.19457954135750175,
          1.3084467308939345,
          0.5846810561081601,
          -1.8397556931868735,
          -0.4890604222210714,
          -0.18499169606906368,
          -0.2973274305624725,
          -0.37909874978065117,
          1.4957987559756598,
          -0.6159986573181273,
          -0.24547663960831673,
          0.8259588546671423,
          0.2320018286227506,
          1.3860756506482823,
          -2.2969088365772,
          0.24270405862187572,
          -1.1735508353664528,
          -1.0854695474455966,
          0.4117828045133673,
          0.6980938976610915,
          -0.27703893620018377,
          0.44158644700903005,
          2.315900696039003,
          1.4760766316818896,
          0.6430545479341668,
          -0.5639279890784357,
          -1.200084558711711,
          -0.399970533777103,
          -0.48409637049958826,
          -0.11350869752556553,
          -0.5766176383523768,
          -0.2656149677596483,
          1.0680910339652843,
          -0.07807128816360841,
          -0.487754719734934,
          0.7330459724530421,
          -1.9161367158436546,
          1.6667640983996523
         ]
        }
       ],
       "layout": {
        "barmode": "overlay",
        "legend": {
         "bgcolor": "#F5F6F9",
         "font": {
          "color": "#4D5663"
         }
        },
        "paper_bgcolor": "#F5F6F9",
        "plot_bgcolor": "#F5F6F9",
        "template": {
         "data": {
          "bar": [
           {
            "error_x": {
             "color": "#2a3f5f"
            },
            "error_y": {
             "color": "#2a3f5f"
            },
            "marker": {
             "line": {
              "color": "#E5ECF6",
              "width": 0.5
             }
            },
            "type": "bar"
           }
          ],
          "barpolar": [
           {
            "marker": {
             "line": {
              "color": "#E5ECF6",
              "width": 0.5
             }
            },
            "type": "barpolar"
           }
          ],
          "carpet": [
           {
            "aaxis": {
             "endlinecolor": "#2a3f5f",
             "gridcolor": "white",
             "linecolor": "white",
             "minorgridcolor": "white",
             "startlinecolor": "#2a3f5f"
            },
            "baxis": {
             "endlinecolor": "#2a3f5f",
             "gridcolor": "white",
             "linecolor": "white",
             "minorgridcolor": "white",
             "startlinecolor": "#2a3f5f"
            },
            "type": "carpet"
           }
          ],
          "choropleth": [
           {
            "colorbar": {
             "outlinewidth": 0,
             "ticks": ""
            },
            "type": "choropleth"
           }
          ],
          "contour": [
           {
            "colorbar": {
             "outlinewidth": 0,
             "ticks": ""
            },
            "colorscale": [
             [
              0,
              "#0d0887"
             ],
             [
              0.1111111111111111,
              "#46039f"
             ],
             [
              0.2222222222222222,
              "#7201a8"
             ],
             [
              0.3333333333333333,
              "#9c179e"
             ],
             [
              0.4444444444444444,
              "#bd3786"
             ],
             [
              0.5555555555555556,
              "#d8576b"
             ],
             [
              0.6666666666666666,
              "#ed7953"
             ],
             [
              0.7777777777777778,
              "#fb9f3a"
             ],
             [
              0.8888888888888888,
              "#fdca26"
             ],
             [
              1,
              "#f0f921"
             ]
            ],
            "type": "contour"
           }
          ],
          "contourcarpet": [
           {
            "colorbar": {
             "outlinewidth": 0,
             "ticks": ""
            },
            "type": "contourcarpet"
           }
          ],
          "heatmap": [
           {
            "colorbar": {
             "outlinewidth": 0,
             "ticks": ""
            },
            "colorscale": [
             [
              0,
              "#0d0887"
             ],
             [
              0.1111111111111111,
              "#46039f"
             ],
             [
              0.2222222222222222,
              "#7201a8"
             ],
             [
              0.3333333333333333,
              "#9c179e"
             ],
             [
              0.4444444444444444,
              "#bd3786"
             ],
             [
              0.5555555555555556,
              "#d8576b"
             ],
             [
              0.6666666666666666,
              "#ed7953"
             ],
             [
              0.7777777777777778,
              "#fb9f3a"
             ],
             [
              0.8888888888888888,
              "#fdca26"
             ],
             [
              1,
              "#f0f921"
             ]
            ],
            "type": "heatmap"
           }
          ],
          "heatmapgl": [
           {
            "colorbar": {
             "outlinewidth": 0,
             "ticks": ""
            },
            "colorscale": [
             [
              0,
              "#0d0887"
             ],
             [
              0.1111111111111111,
              "#46039f"
             ],
             [
              0.2222222222222222,
              "#7201a8"
             ],
             [
              0.3333333333333333,
              "#9c179e"
             ],
             [
              0.4444444444444444,
              "#bd3786"
             ],
             [
              0.5555555555555556,
              "#d8576b"
             ],
             [
              0.6666666666666666,
              "#ed7953"
             ],
             [
              0.7777777777777778,
              "#fb9f3a"
             ],
             [
              0.8888888888888888,
              "#fdca26"
             ],
             [
              1,
              "#f0f921"
             ]
            ],
            "type": "heatmapgl"
           }
          ],
          "histogram": [
           {
            "marker": {
             "colorbar": {
              "outlinewidth": 0,
              "ticks": ""
             }
            },
            "type": "histogram"
           }
          ],
          "histogram2d": [
           {
            "colorbar": {
             "outlinewidth": 0,
             "ticks": ""
            },
            "colorscale": [
             [
              0,
              "#0d0887"
             ],
             [
              0.1111111111111111,
              "#46039f"
             ],
             [
              0.2222222222222222,
              "#7201a8"
             ],
             [
              0.3333333333333333,
              "#9c179e"
             ],
             [
              0.4444444444444444,
              "#bd3786"
             ],
             [
              0.5555555555555556,
              "#d8576b"
             ],
             [
              0.6666666666666666,
              "#ed7953"
             ],
             [
              0.7777777777777778,
              "#fb9f3a"
             ],
             [
              0.8888888888888888,
              "#fdca26"
             ],
             [
              1,
              "#f0f921"
             ]
            ],
            "type": "histogram2d"
           }
          ],
          "histogram2dcontour": [
           {
            "colorbar": {
             "outlinewidth": 0,
             "ticks": ""
            },
            "colorscale": [
             [
              0,
              "#0d0887"
             ],
             [
              0.1111111111111111,
              "#46039f"
             ],
             [
              0.2222222222222222,
              "#7201a8"
             ],
             [
              0.3333333333333333,
              "#9c179e"
             ],
             [
              0.4444444444444444,
              "#bd3786"
             ],
             [
              0.5555555555555556,
              "#d8576b"
             ],
             [
              0.6666666666666666,
              "#ed7953"
             ],
             [
              0.7777777777777778,
              "#fb9f3a"
             ],
             [
              0.8888888888888888,
              "#fdca26"
             ],
             [
              1,
              "#f0f921"
             ]
            ],
            "type": "histogram2dcontour"
           }
          ],
          "mesh3d": [
           {
            "colorbar": {
             "outlinewidth": 0,
             "ticks": ""
            },
            "type": "mesh3d"
           }
          ],
          "parcoords": [
           {
            "line": {
             "colorbar": {
              "outlinewidth": 0,
              "ticks": ""
             }
            },
            "type": "parcoords"
           }
          ],
          "pie": [
           {
            "automargin": true,
            "type": "pie"
           }
          ],
          "scatter": [
           {
            "marker": {
             "colorbar": {
              "outlinewidth": 0,
              "ticks": ""
             }
            },
            "type": "scatter"
           }
          ],
          "scatter3d": [
           {
            "line": {
             "colorbar": {
              "outlinewidth": 0,
              "ticks": ""
             }
            },
            "marker": {
             "colorbar": {
              "outlinewidth": 0,
              "ticks": ""
             }
            },
            "type": "scatter3d"
           }
          ],
          "scattercarpet": [
           {
            "marker": {
             "colorbar": {
              "outlinewidth": 0,
              "ticks": ""
             }
            },
            "type": "scattercarpet"
           }
          ],
          "scattergeo": [
           {
            "marker": {
             "colorbar": {
              "outlinewidth": 0,
              "ticks": ""
             }
            },
            "type": "scattergeo"
           }
          ],
          "scattergl": [
           {
            "marker": {
             "colorbar": {
              "outlinewidth": 0,
              "ticks": ""
             }
            },
            "type": "scattergl"
           }
          ],
          "scattermapbox": [
           {
            "marker": {
             "colorbar": {
              "outlinewidth": 0,
              "ticks": ""
             }
            },
            "type": "scattermapbox"
           }
          ],
          "scatterpolar": [
           {
            "marker": {
             "colorbar": {
              "outlinewidth": 0,
              "ticks": ""
             }
            },
            "type": "scatterpolar"
           }
          ],
          "scatterpolargl": [
           {
            "marker": {
             "colorbar": {
              "outlinewidth": 0,
              "ticks": ""
             }
            },
            "type": "scatterpolargl"
           }
          ],
          "scatterternary": [
           {
            "marker": {
             "colorbar": {
              "outlinewidth": 0,
              "ticks": ""
             }
            },
            "type": "scatterternary"
           }
          ],
          "surface": [
           {
            "colorbar": {
             "outlinewidth": 0,
             "ticks": ""
            },
            "colorscale": [
             [
              0,
              "#0d0887"
             ],
             [
              0.1111111111111111,
              "#46039f"
             ],
             [
              0.2222222222222222,
              "#7201a8"
             ],
             [
              0.3333333333333333,
              "#9c179e"
             ],
             [
              0.4444444444444444,
              "#bd3786"
             ],
             [
              0.5555555555555556,
              "#d8576b"
             ],
             [
              0.6666666666666666,
              "#ed7953"
             ],
             [
              0.7777777777777778,
              "#fb9f3a"
             ],
             [
              0.8888888888888888,
              "#fdca26"
             ],
             [
              1,
              "#f0f921"
             ]
            ],
            "type": "surface"
           }
          ],
          "table": [
           {
            "cells": {
             "fill": {
              "color": "#EBF0F8"
             },
             "line": {
              "color": "white"
             }
            },
            "header": {
             "fill": {
              "color": "#C8D4E3"
             },
             "line": {
              "color": "white"
             }
            },
            "type": "table"
           }
          ]
         },
         "layout": {
          "annotationdefaults": {
           "arrowcolor": "#2a3f5f",
           "arrowhead": 0,
           "arrowwidth": 1
          },
          "autotypenumbers": "strict",
          "coloraxis": {
           "colorbar": {
            "outlinewidth": 0,
            "ticks": ""
           }
          },
          "colorscale": {
           "diverging": [
            [
             0,
             "#8e0152"
            ],
            [
             0.1,
             "#c51b7d"
            ],
            [
             0.2,
             "#de77ae"
            ],
            [
             0.3,
             "#f1b6da"
            ],
            [
             0.4,
             "#fde0ef"
            ],
            [
             0.5,
             "#f7f7f7"
            ],
            [
             0.6,
             "#e6f5d0"
            ],
            [
             0.7,
             "#b8e186"
            ],
            [
             0.8,
             "#7fbc41"
            ],
            [
             0.9,
             "#4d9221"
            ],
            [
             1,
             "#276419"
            ]
           ],
           "sequential": [
            [
             0,
             "#0d0887"
            ],
            [
             0.1111111111111111,
             "#46039f"
            ],
            [
             0.2222222222222222,
             "#7201a8"
            ],
            [
             0.3333333333333333,
             "#9c179e"
            ],
            [
             0.4444444444444444,
             "#bd3786"
            ],
            [
             0.5555555555555556,
             "#d8576b"
            ],
            [
             0.6666666666666666,
             "#ed7953"
            ],
            [
             0.7777777777777778,
             "#fb9f3a"
            ],
            [
             0.8888888888888888,
             "#fdca26"
            ],
            [
             1,
             "#f0f921"
            ]
           ],
           "sequentialminus": [
            [
             0,
             "#0d0887"
            ],
            [
             0.1111111111111111,
             "#46039f"
            ],
            [
             0.2222222222222222,
             "#7201a8"
            ],
            [
             0.3333333333333333,
             "#9c179e"
            ],
            [
             0.4444444444444444,
             "#bd3786"
            ],
            [
             0.5555555555555556,
             "#d8576b"
            ],
            [
             0.6666666666666666,
             "#ed7953"
            ],
            [
             0.7777777777777778,
             "#fb9f3a"
            ],
            [
             0.8888888888888888,
             "#fdca26"
            ],
            [
             1,
             "#f0f921"
            ]
           ]
          },
          "colorway": [
           "#636efa",
           "#EF553B",
           "#00cc96",
           "#ab63fa",
           "#FFA15A",
           "#19d3f3",
           "#FF6692",
           "#B6E880",
           "#FF97FF",
           "#FECB52"
          ],
          "font": {
           "color": "#2a3f5f"
          },
          "geo": {
           "bgcolor": "white",
           "lakecolor": "white",
           "landcolor": "#E5ECF6",
           "showlakes": true,
           "showland": true,
           "subunitcolor": "white"
          },
          "hoverlabel": {
           "align": "left"
          },
          "hovermode": "closest",
          "mapbox": {
           "style": "light"
          },
          "paper_bgcolor": "white",
          "plot_bgcolor": "#E5ECF6",
          "polar": {
           "angularaxis": {
            "gridcolor": "white",
            "linecolor": "white",
            "ticks": ""
           },
           "bgcolor": "#E5ECF6",
           "radialaxis": {
            "gridcolor": "white",
            "linecolor": "white",
            "ticks": ""
           }
          },
          "scene": {
           "xaxis": {
            "backgroundcolor": "#E5ECF6",
            "gridcolor": "white",
            "gridwidth": 2,
            "linecolor": "white",
            "showbackground": true,
            "ticks": "",
            "zerolinecolor": "white"
           },
           "yaxis": {
            "backgroundcolor": "#E5ECF6",
            "gridcolor": "white",
            "gridwidth": 2,
            "linecolor": "white",
            "showbackground": true,
            "ticks": "",
            "zerolinecolor": "white"
           },
           "zaxis": {
            "backgroundcolor": "#E5ECF6",
            "gridcolor": "white",
            "gridwidth": 2,
            "linecolor": "white",
            "showbackground": true,
            "ticks": "",
            "zerolinecolor": "white"
           }
          },
          "shapedefaults": {
           "line": {
            "color": "#2a3f5f"
           }
          },
          "ternary": {
           "aaxis": {
            "gridcolor": "white",
            "linecolor": "white",
            "ticks": ""
           },
           "baxis": {
            "gridcolor": "white",
            "linecolor": "white",
            "ticks": ""
           },
           "bgcolor": "#E5ECF6",
           "caxis": {
            "gridcolor": "white",
            "linecolor": "white",
            "ticks": ""
           }
          },
          "title": {
           "x": 0.05
          },
          "xaxis": {
           "automargin": true,
           "gridcolor": "white",
           "linecolor": "white",
           "ticks": "",
           "title": {
            "standoff": 15
           },
           "zerolinecolor": "white",
           "zerolinewidth": 2
          },
          "yaxis": {
           "automargin": true,
           "gridcolor": "white",
           "linecolor": "white",
           "ticks": "",
           "title": {
            "standoff": 15
           },
           "zerolinecolor": "white",
           "zerolinewidth": 2
          }
         }
        },
        "title": {
         "font": {
          "color": "#4D5663"
         }
        },
        "xaxis": {
         "gridcolor": "#E1E5ED",
         "showgrid": true,
         "tickfont": {
          "color": "#4D5663"
         },
         "title": {
          "font": {
           "color": "#4D5663"
          },
          "text": ""
         },
         "zerolinecolor": "#E1E5ED"
        },
        "yaxis": {
         "gridcolor": "#E1E5ED",
         "showgrid": true,
         "tickfont": {
          "color": "#4D5663"
         },
         "title": {
          "font": {
           "color": "#4D5663"
          },
          "text": ""
         },
         "zerolinecolor": "#E1E5ED"
        }
       }
      },
      "text/html": [
       "<div>                            <div id=\"0b2578ce-df70-47f3-b247-ebbf91f433fa\" class=\"plotly-graph-div\" style=\"height:525px; width:100%;\"></div>            <script type=\"text/javascript\">                require([\"plotly\"], function(Plotly) {                    window.PLOTLYENV=window.PLOTLYENV || {};\n",
       "                    window.PLOTLYENV.BASE_URL='https://plot.ly';                                    if (document.getElementById(\"0b2578ce-df70-47f3-b247-ebbf91f433fa\")) {                    Plotly.newPlot(                        \"0b2578ce-df70-47f3-b247-ebbf91f433fa\",                        [{\"histfunc\": \"count\", \"histnorm\": \"\", \"marker\": {\"color\": \"rgba(255, 153, 51, 1.0)\", \"line\": {\"color\": \"#4D5663\", \"width\": 1.3}}, \"name\": \"A\", \"nbinsx\": 25, \"opacity\": 0.8, \"orientation\": \"v\", \"type\": \"histogram\", \"x\": [-1.0401294919952173, 0.7540837883764145, 0.4754525425630791, -0.6748870908287362, -0.5028681633354075, -1.545115592118102, 0.4385873914218319, -0.7448993761396681, -2.272601378304192, 2.348290149001387, -1.022242282050554, 0.8280023223996548, 0.07873141198557396, 0.3087675608543512, 1.0224283350187533, 0.030720145282387472, -0.2119176158627523, -0.01599653212318083, -0.3913616364448441, -1.5795751106802804, 1.1468288620565958, 0.4973159033981794, -1.9013472528155446, -0.5322510410406922, 0.4354083236982135, -0.8389836603309918, 0.63250625191439, 0.8020108286089704, 0.1680001474329182, -0.03635115506012781, 0.7159382576697422, 0.5170952942994798, -0.4208887962003864, -0.852854444728073, 0.03488494145210682, 0.8707420113945227, -0.8621551581638811, 0.34881145129166286, 1.246164830050418, -0.4040670984432969, -0.16999960651721618, 0.7702826270683759, -1.2465484743701372, 1.0235240301432829, -0.9827310746533008, -1.3685359084453448, -1.555762514576057, -0.310412608073586, 0.42784058214450094, 0.7393591528414503, -0.17894082395310795, 0.6490665839701796, -1.7845153300317413, 0.5660054718136256, 0.17895378642966125, 0.028668596465502034, 1.0984437009662795, 1.0455101311924233, -0.07431303549503826, -0.012992158379034034, -0.1995304624066606, -0.2089848698983806, 0.19457954135750175, 1.3084467308939345, 0.5846810561081601, -1.8397556931868735, -0.4890604222210714, -0.18499169606906368, -0.2973274305624725, -0.37909874978065117, 1.4957987559756598, -0.6159986573181273, -0.24547663960831673, 0.8259588546671423, 0.2320018286227506, 1.3860756506482823, -2.2969088365772, 0.24270405862187572, -1.1735508353664528, -1.0854695474455966, 0.4117828045133673, 0.6980938976610915, -0.27703893620018377, 0.44158644700903005, 2.315900696039003, 1.4760766316818896, 0.6430545479341668, -0.5639279890784357, -1.200084558711711, -0.399970533777103, -0.48409637049958826, -0.11350869752556553, -0.5766176383523768, -0.2656149677596483, 1.0680910339652843, -0.07807128816360841, -0.487754719734934, 0.7330459724530421, -1.9161367158436546, 1.6667640983996523]}],                        {\"barmode\": \"overlay\", \"legend\": {\"bgcolor\": \"#F5F6F9\", \"font\": {\"color\": \"#4D5663\"}}, \"paper_bgcolor\": \"#F5F6F9\", \"plot_bgcolor\": \"#F5F6F9\", \"template\": {\"data\": {\"bar\": [{\"error_x\": {\"color\": \"#2a3f5f\"}, \"error_y\": {\"color\": \"#2a3f5f\"}, \"marker\": {\"line\": {\"color\": \"#E5ECF6\", \"width\": 0.5}}, \"type\": \"bar\"}], \"barpolar\": [{\"marker\": {\"line\": {\"color\": \"#E5ECF6\", \"width\": 0.5}}, \"type\": \"barpolar\"}], \"carpet\": [{\"aaxis\": {\"endlinecolor\": \"#2a3f5f\", \"gridcolor\": \"white\", \"linecolor\": \"white\", \"minorgridcolor\": \"white\", \"startlinecolor\": \"#2a3f5f\"}, \"baxis\": {\"endlinecolor\": \"#2a3f5f\", \"gridcolor\": \"white\", \"linecolor\": \"white\", \"minorgridcolor\": \"white\", \"startlinecolor\": \"#2a3f5f\"}, \"type\": \"carpet\"}], \"choropleth\": [{\"colorbar\": {\"outlinewidth\": 0, \"ticks\": \"\"}, \"type\": \"choropleth\"}], \"contour\": [{\"colorbar\": {\"outlinewidth\": 0, \"ticks\": \"\"}, \"colorscale\": [[0.0, \"#0d0887\"], [0.1111111111111111, \"#46039f\"], [0.2222222222222222, \"#7201a8\"], [0.3333333333333333, \"#9c179e\"], [0.4444444444444444, \"#bd3786\"], [0.5555555555555556, \"#d8576b\"], [0.6666666666666666, \"#ed7953\"], [0.7777777777777778, \"#fb9f3a\"], [0.8888888888888888, \"#fdca26\"], [1.0, \"#f0f921\"]], \"type\": \"contour\"}], \"contourcarpet\": [{\"colorbar\": {\"outlinewidth\": 0, \"ticks\": \"\"}, \"type\": \"contourcarpet\"}], \"heatmap\": [{\"colorbar\": {\"outlinewidth\": 0, \"ticks\": \"\"}, \"colorscale\": [[0.0, \"#0d0887\"], [0.1111111111111111, \"#46039f\"], [0.2222222222222222, \"#7201a8\"], [0.3333333333333333, \"#9c179e\"], [0.4444444444444444, \"#bd3786\"], [0.5555555555555556, \"#d8576b\"], [0.6666666666666666, \"#ed7953\"], [0.7777777777777778, \"#fb9f3a\"], [0.8888888888888888, \"#fdca26\"], [1.0, \"#f0f921\"]], \"type\": \"heatmap\"}], \"heatmapgl\": [{\"colorbar\": {\"outlinewidth\": 0, \"ticks\": \"\"}, \"colorscale\": [[0.0, \"#0d0887\"], [0.1111111111111111, \"#46039f\"], [0.2222222222222222, \"#7201a8\"], [0.3333333333333333, \"#9c179e\"], [0.4444444444444444, \"#bd3786\"], [0.5555555555555556, \"#d8576b\"], [0.6666666666666666, \"#ed7953\"], [0.7777777777777778, \"#fb9f3a\"], [0.8888888888888888, \"#fdca26\"], [1.0, \"#f0f921\"]], \"type\": \"heatmapgl\"}], \"histogram\": [{\"marker\": {\"colorbar\": {\"outlinewidth\": 0, \"ticks\": \"\"}}, \"type\": \"histogram\"}], \"histogram2d\": [{\"colorbar\": {\"outlinewidth\": 0, \"ticks\": \"\"}, \"colorscale\": [[0.0, \"#0d0887\"], [0.1111111111111111, \"#46039f\"], [0.2222222222222222, \"#7201a8\"], [0.3333333333333333, \"#9c179e\"], [0.4444444444444444, \"#bd3786\"], [0.5555555555555556, \"#d8576b\"], [0.6666666666666666, \"#ed7953\"], [0.7777777777777778, \"#fb9f3a\"], [0.8888888888888888, \"#fdca26\"], [1.0, \"#f0f921\"]], \"type\": \"histogram2d\"}], \"histogram2dcontour\": [{\"colorbar\": {\"outlinewidth\": 0, \"ticks\": \"\"}, \"colorscale\": [[0.0, \"#0d0887\"], [0.1111111111111111, \"#46039f\"], [0.2222222222222222, \"#7201a8\"], [0.3333333333333333, \"#9c179e\"], [0.4444444444444444, \"#bd3786\"], [0.5555555555555556, \"#d8576b\"], [0.6666666666666666, \"#ed7953\"], [0.7777777777777778, \"#fb9f3a\"], [0.8888888888888888, \"#fdca26\"], [1.0, \"#f0f921\"]], \"type\": \"histogram2dcontour\"}], \"mesh3d\": [{\"colorbar\": {\"outlinewidth\": 0, \"ticks\": \"\"}, \"type\": \"mesh3d\"}], \"parcoords\": [{\"line\": {\"colorbar\": {\"outlinewidth\": 0, \"ticks\": \"\"}}, \"type\": \"parcoords\"}], \"pie\": [{\"automargin\": true, \"type\": \"pie\"}], \"scatter\": [{\"marker\": {\"colorbar\": {\"outlinewidth\": 0, \"ticks\": \"\"}}, \"type\": \"scatter\"}], \"scatter3d\": [{\"line\": {\"colorbar\": {\"outlinewidth\": 0, \"ticks\": \"\"}}, \"marker\": {\"colorbar\": {\"outlinewidth\": 0, \"ticks\": \"\"}}, \"type\": \"scatter3d\"}], \"scattercarpet\": [{\"marker\": {\"colorbar\": {\"outlinewidth\": 0, \"ticks\": \"\"}}, \"type\": \"scattercarpet\"}], \"scattergeo\": [{\"marker\": {\"colorbar\": {\"outlinewidth\": 0, \"ticks\": \"\"}}, \"type\": \"scattergeo\"}], \"scattergl\": [{\"marker\": {\"colorbar\": {\"outlinewidth\": 0, \"ticks\": \"\"}}, \"type\": \"scattergl\"}], \"scattermapbox\": [{\"marker\": {\"colorbar\": {\"outlinewidth\": 0, \"ticks\": \"\"}}, \"type\": \"scattermapbox\"}], \"scatterpolar\": [{\"marker\": {\"colorbar\": {\"outlinewidth\": 0, \"ticks\": \"\"}}, \"type\": \"scatterpolar\"}], \"scatterpolargl\": [{\"marker\": {\"colorbar\": {\"outlinewidth\": 0, \"ticks\": \"\"}}, \"type\": \"scatterpolargl\"}], \"scatterternary\": [{\"marker\": {\"colorbar\": {\"outlinewidth\": 0, \"ticks\": \"\"}}, \"type\": \"scatterternary\"}], \"surface\": [{\"colorbar\": {\"outlinewidth\": 0, \"ticks\": \"\"}, \"colorscale\": [[0.0, \"#0d0887\"], [0.1111111111111111, \"#46039f\"], [0.2222222222222222, \"#7201a8\"], [0.3333333333333333, \"#9c179e\"], [0.4444444444444444, \"#bd3786\"], [0.5555555555555556, \"#d8576b\"], [0.6666666666666666, \"#ed7953\"], [0.7777777777777778, \"#fb9f3a\"], [0.8888888888888888, \"#fdca26\"], [1.0, \"#f0f921\"]], \"type\": \"surface\"}], \"table\": [{\"cells\": {\"fill\": {\"color\": \"#EBF0F8\"}, \"line\": {\"color\": \"white\"}}, \"header\": {\"fill\": {\"color\": \"#C8D4E3\"}, \"line\": {\"color\": \"white\"}}, \"type\": \"table\"}]}, \"layout\": {\"annotationdefaults\": {\"arrowcolor\": \"#2a3f5f\", \"arrowhead\": 0, \"arrowwidth\": 1}, \"autotypenumbers\": \"strict\", \"coloraxis\": {\"colorbar\": {\"outlinewidth\": 0, \"ticks\": \"\"}}, \"colorscale\": {\"diverging\": [[0, \"#8e0152\"], [0.1, \"#c51b7d\"], [0.2, \"#de77ae\"], [0.3, \"#f1b6da\"], [0.4, \"#fde0ef\"], [0.5, \"#f7f7f7\"], [0.6, \"#e6f5d0\"], [0.7, \"#b8e186\"], [0.8, \"#7fbc41\"], [0.9, \"#4d9221\"], [1, \"#276419\"]], \"sequential\": [[0.0, \"#0d0887\"], [0.1111111111111111, \"#46039f\"], [0.2222222222222222, \"#7201a8\"], [0.3333333333333333, \"#9c179e\"], [0.4444444444444444, \"#bd3786\"], [0.5555555555555556, \"#d8576b\"], [0.6666666666666666, \"#ed7953\"], [0.7777777777777778, \"#fb9f3a\"], [0.8888888888888888, \"#fdca26\"], [1.0, \"#f0f921\"]], \"sequentialminus\": [[0.0, \"#0d0887\"], [0.1111111111111111, \"#46039f\"], [0.2222222222222222, \"#7201a8\"], [0.3333333333333333, \"#9c179e\"], [0.4444444444444444, \"#bd3786\"], [0.5555555555555556, \"#d8576b\"], [0.6666666666666666, \"#ed7953\"], [0.7777777777777778, \"#fb9f3a\"], [0.8888888888888888, \"#fdca26\"], [1.0, \"#f0f921\"]]}, \"colorway\": [\"#636efa\", \"#EF553B\", \"#00cc96\", \"#ab63fa\", \"#FFA15A\", \"#19d3f3\", \"#FF6692\", \"#B6E880\", \"#FF97FF\", \"#FECB52\"], \"font\": {\"color\": \"#2a3f5f\"}, \"geo\": {\"bgcolor\": \"white\", \"lakecolor\": \"white\", \"landcolor\": \"#E5ECF6\", \"showlakes\": true, \"showland\": true, \"subunitcolor\": \"white\"}, \"hoverlabel\": {\"align\": \"left\"}, \"hovermode\": \"closest\", \"mapbox\": {\"style\": \"light\"}, \"paper_bgcolor\": \"white\", \"plot_bgcolor\": \"#E5ECF6\", \"polar\": {\"angularaxis\": {\"gridcolor\": \"white\", \"linecolor\": \"white\", \"ticks\": \"\"}, \"bgcolor\": \"#E5ECF6\", \"radialaxis\": {\"gridcolor\": \"white\", \"linecolor\": \"white\", \"ticks\": \"\"}}, \"scene\": {\"xaxis\": {\"backgroundcolor\": \"#E5ECF6\", \"gridcolor\": \"white\", \"gridwidth\": 2, \"linecolor\": \"white\", \"showbackground\": true, \"ticks\": \"\", \"zerolinecolor\": \"white\"}, \"yaxis\": {\"backgroundcolor\": \"#E5ECF6\", \"gridcolor\": \"white\", \"gridwidth\": 2, \"linecolor\": \"white\", \"showbackground\": true, \"ticks\": \"\", \"zerolinecolor\": \"white\"}, \"zaxis\": {\"backgroundcolor\": \"#E5ECF6\", \"gridcolor\": \"white\", \"gridwidth\": 2, \"linecolor\": \"white\", \"showbackground\": true, \"ticks\": \"\", \"zerolinecolor\": \"white\"}}, \"shapedefaults\": {\"line\": {\"color\": \"#2a3f5f\"}}, \"ternary\": {\"aaxis\": {\"gridcolor\": \"white\", \"linecolor\": \"white\", \"ticks\": \"\"}, \"baxis\": {\"gridcolor\": \"white\", \"linecolor\": \"white\", \"ticks\": \"\"}, \"bgcolor\": \"#E5ECF6\", \"caxis\": {\"gridcolor\": \"white\", \"linecolor\": \"white\", \"ticks\": \"\"}}, \"title\": {\"x\": 0.05}, \"xaxis\": {\"automargin\": true, \"gridcolor\": \"white\", \"linecolor\": \"white\", \"ticks\": \"\", \"title\": {\"standoff\": 15}, \"zerolinecolor\": \"white\", \"zerolinewidth\": 2}, \"yaxis\": {\"automargin\": true, \"gridcolor\": \"white\", \"linecolor\": \"white\", \"ticks\": \"\", \"title\": {\"standoff\": 15}, \"zerolinecolor\": \"white\", \"zerolinewidth\": 2}}}, \"title\": {\"font\": {\"color\": \"#4D5663\"}}, \"xaxis\": {\"gridcolor\": \"#E1E5ED\", \"showgrid\": true, \"tickfont\": {\"color\": \"#4D5663\"}, \"title\": {\"font\": {\"color\": \"#4D5663\"}, \"text\": \"\"}, \"zerolinecolor\": \"#E1E5ED\"}, \"yaxis\": {\"gridcolor\": \"#E1E5ED\", \"showgrid\": true, \"tickfont\": {\"color\": \"#4D5663\"}, \"title\": {\"font\": {\"color\": \"#4D5663\"}, \"text\": \"\"}, \"zerolinecolor\": \"#E1E5ED\"}},                        {\"showLink\": true, \"linkText\": \"Export to plot.ly\", \"plotlyServerURL\": \"https://plot.ly\", \"responsive\": true}                    ).then(function(){\n",
       "                            \n",
       "var gd = document.getElementById('0b2578ce-df70-47f3-b247-ebbf91f433fa');\n",
       "var x = new MutationObserver(function (mutations, observer) {{\n",
       "        var display = window.getComputedStyle(gd).display;\n",
       "        if (!display || display === 'none') {{\n",
       "            console.log([gd, 'removed!']);\n",
       "            Plotly.purge(gd);\n",
       "            observer.disconnect();\n",
       "        }}\n",
       "}});\n",
       "\n",
       "// Listen for the removal of the full notebook cells\n",
       "var notebookContainer = gd.closest('#notebook-container');\n",
       "if (notebookContainer) {{\n",
       "    x.observe(notebookContainer, {childList: true});\n",
       "}}\n",
       "\n",
       "// Listen for the clearing of the current output cell\n",
       "var outputEl = gd.closest('.output');\n",
       "if (outputEl) {{\n",
       "    x.observe(outputEl, {childList: true});\n",
       "}}\n",
       "\n",
       "                        })                };                });            </script>        </div>"
      ]
     },
     "metadata": {},
     "output_type": "display_data"
    }
   ],
   "source": [
    "df['A'].iplot(kind='hist',bins=25)"
   ]
  },
  {
   "cell_type": "markdown",
   "metadata": {},
   "source": [
    "## Bolha"
   ]
  },
  {
   "cell_type": "code",
   "execution_count": 17,
   "metadata": {},
   "outputs": [
    {
     "data": {
      "application/vnd.plotly.v1+json": {
       "config": {
        "linkText": "Export to plot.ly",
        "plotlyServerURL": "https://plot.ly",
        "showLink": true
       },
       "data": [
        {
         "marker": {
          "color": [
           "rgb(255, 153, 51)",
           "rgb(55, 128, 191)",
           "rgb(50, 171, 96)",
           "rgb(128, 0, 128)",
           "rgb(219, 64, 82)",
           "rgb(0, 128, 128)",
           "rgb(255, 255, 51)",
           "rgb(128, 128, 0)",
           "rgb(251, 128, 114)",
           "rgb(128, 177, 211)"
          ],
          "line": {
           "width": 1.3
          },
          "size": [
           59,
           46,
           65,
           48,
           67,
           82,
           64,
           68,
           50,
           42,
           87,
           68,
           60,
           88,
           78,
           64,
           48,
           83,
           67,
           61,
           112,
           107,
           90,
           61,
           46,
           80,
           53,
           67,
           49,
           46,
           71,
           82,
           72,
           68,
           102,
           64,
           86,
           77,
           65,
           67,
           58,
           73,
           78,
           63,
           69,
           40,
           100,
           69,
           95,
           72,
           63,
           61,
           60,
           70,
           45,
           40,
           48,
           73,
           53,
           60,
           70,
           70,
           72,
           59,
           85,
           64,
           70,
           100,
           87,
           27,
           65,
           78,
           67,
           54,
           58,
           73,
           73,
           55,
           12,
           78,
           47,
           56,
           100,
           64,
           83,
           79,
           69,
           84,
           81,
           85,
           60,
           59,
           74,
           53,
           71,
           68,
           71,
           21,
           78,
           72
          ],
          "symbol": "circle"
         },
         "mode": "markers",
         "text": "",
         "type": "scatter",
         "x": [
          -1.0401294919952173,
          0.7540837883764145,
          0.4754525425630791,
          -0.6748870908287362,
          -0.5028681633354075,
          -1.545115592118102,
          0.4385873914218319,
          -0.7448993761396681,
          -2.272601378304192,
          2.348290149001387,
          -1.022242282050554,
          0.8280023223996548,
          0.07873141198557396,
          0.3087675608543512,
          1.0224283350187533,
          0.030720145282387472,
          -0.2119176158627523,
          -0.01599653212318083,
          -0.3913616364448441,
          -1.5795751106802804,
          1.1468288620565958,
          0.4973159033981794,
          -1.9013472528155446,
          -0.5322510410406922,
          0.4354083236982135,
          -0.8389836603309918,
          0.63250625191439,
          0.8020108286089704,
          0.1680001474329182,
          -0.03635115506012781,
          0.7159382576697422,
          0.5170952942994798,
          -0.4208887962003864,
          -0.852854444728073,
          0.03488494145210682,
          0.8707420113945227,
          -0.8621551581638811,
          0.34881145129166286,
          1.246164830050418,
          -0.4040670984432969,
          -0.16999960651721618,
          0.7702826270683759,
          -1.2465484743701372,
          1.0235240301432829,
          -0.9827310746533008,
          -1.3685359084453448,
          -1.555762514576057,
          -0.310412608073586,
          0.42784058214450094,
          0.7393591528414503,
          -0.17894082395310795,
          0.6490665839701796,
          -1.7845153300317413,
          0.5660054718136256,
          0.17895378642966125,
          0.028668596465502034,
          1.0984437009662795,
          1.0455101311924233,
          -0.07431303549503826,
          -0.012992158379034034,
          -0.1995304624066606,
          -0.2089848698983806,
          0.19457954135750175,
          1.3084467308939345,
          0.5846810561081601,
          -1.8397556931868735,
          -0.4890604222210714,
          -0.18499169606906368,
          -0.2973274305624725,
          -0.37909874978065117,
          1.4957987559756598,
          -0.6159986573181273,
          -0.24547663960831673,
          0.8259588546671423,
          0.2320018286227506,
          1.3860756506482823,
          -2.2969088365772,
          0.24270405862187572,
          -1.1735508353664528,
          -1.0854695474455966,
          0.4117828045133673,
          0.6980938976610915,
          -0.27703893620018377,
          0.44158644700903005,
          2.315900696039003,
          1.4760766316818896,
          0.6430545479341668,
          -0.5639279890784357,
          -1.200084558711711,
          -0.399970533777103,
          -0.48409637049958826,
          -0.11350869752556553,
          -0.5766176383523768,
          -0.2656149677596483,
          1.0680910339652843,
          -0.07807128816360841,
          -0.487754719734934,
          0.7330459724530421,
          -1.9161367158436546,
          1.6667640983996523
         ],
         "y": [
          -0.28983263678314597,
          -0.8169479361435581,
          -0.10148378188004077,
          -0.748494262256059,
          -0.5582652244502774,
          -0.36037903955588957,
          1.149895074698171,
          0.7016714440003219,
          -0.6863796647750956,
          1.3173593602387879,
          0.4866044910224147,
          -0.4653742100271251,
          -0.529699977871896,
          -0.40869937377654775,
          -2.5486499754974177,
          -0.9708773273169615,
          2.211548076913994,
          1.7765620092543595,
          -1.626097838237145,
          0.6692050254926118,
          -0.28721583356763475,
          0.302370011128094,
          0.2669949468236153,
          -0.38319982574182027,
          0.42646825629144214,
          -0.973178217530246,
          -0.8943184281411931,
          -0.21444633380224432,
          -1.4671503193874726,
          0.006132854065390305,
          -1.0220666887123597,
          1.643679383050032,
          0.8488020578950584,
          0.3410977483909045,
          0.7690744664331666,
          0.47223610763359697,
          0.9454017733692817,
          0.4347132784174497,
          0.4132931203526399,
          -0.7549841153565662,
          -0.583277796242386,
          -0.4547913169903659,
          -1.909722692901202,
          0.8602880805375047,
          1.2668509733843005,
          0.38921315419857755,
          -1.3058390007042817,
          0.0560880420088437,
          -0.7611504778718097,
          0.22427842178547364,
          0.6393896711477389,
          -0.23361690153326356,
          -1.0582332446307636,
          -0.2825496147287078,
          -0.24937584295088627,
          1.364049630086341,
          0.44841212493836835,
          0.7502743814027157,
          0.4632782338732586,
          -0.2081764792567062,
          -1.001357325235659,
          0.9907842309268651,
          1.5148089221476722,
          0.09189998885551912,
          -0.14822349816325553,
          -2.130692330840538,
          -0.5431104712437145,
          -2.3513178539124264,
          0.03760037350303423,
          2.5321954035573055,
          -0.8608566121890182,
          -0.8769362278876279,
          1.4037734093709349,
          0.32147341252819217,
          1.6447883170195194,
          -1.2543325345516667,
          1.6138535011035184,
          0.14627716689842465,
          -2.783897219711481,
          0.7129828324340545,
          -1.127320315035124,
          0.172624432355655,
          1.4667699454462124,
          -0.06254038227601047,
          1.065437358461133,
          -1.4383208553553297,
          -1.880693547475329,
          -0.277768247581571,
          -0.17205887198272193,
          -0.03581563684461571,
          0.8717079352780598,
          -0.5885613208085732,
          -0.9489155164081639,
          -1.17905984924152,
          0.13361371606619776,
          0.9991281270155986,
          0.5770007730157847,
          -0.5925585897114811,
          -0.5497414754879314,
          -0.7332407145505224
         ]
        }
       ],
       "layout": {
        "legend": {
         "bgcolor": "#F5F6F9",
         "font": {
          "color": "#4D5663"
         }
        },
        "paper_bgcolor": "#F5F6F9",
        "plot_bgcolor": "#F5F6F9",
        "template": {
         "data": {
          "bar": [
           {
            "error_x": {
             "color": "#2a3f5f"
            },
            "error_y": {
             "color": "#2a3f5f"
            },
            "marker": {
             "line": {
              "color": "#E5ECF6",
              "width": 0.5
             }
            },
            "type": "bar"
           }
          ],
          "barpolar": [
           {
            "marker": {
             "line": {
              "color": "#E5ECF6",
              "width": 0.5
             }
            },
            "type": "barpolar"
           }
          ],
          "carpet": [
           {
            "aaxis": {
             "endlinecolor": "#2a3f5f",
             "gridcolor": "white",
             "linecolor": "white",
             "minorgridcolor": "white",
             "startlinecolor": "#2a3f5f"
            },
            "baxis": {
             "endlinecolor": "#2a3f5f",
             "gridcolor": "white",
             "linecolor": "white",
             "minorgridcolor": "white",
             "startlinecolor": "#2a3f5f"
            },
            "type": "carpet"
           }
          ],
          "choropleth": [
           {
            "colorbar": {
             "outlinewidth": 0,
             "ticks": ""
            },
            "type": "choropleth"
           }
          ],
          "contour": [
           {
            "colorbar": {
             "outlinewidth": 0,
             "ticks": ""
            },
            "colorscale": [
             [
              0,
              "#0d0887"
             ],
             [
              0.1111111111111111,
              "#46039f"
             ],
             [
              0.2222222222222222,
              "#7201a8"
             ],
             [
              0.3333333333333333,
              "#9c179e"
             ],
             [
              0.4444444444444444,
              "#bd3786"
             ],
             [
              0.5555555555555556,
              "#d8576b"
             ],
             [
              0.6666666666666666,
              "#ed7953"
             ],
             [
              0.7777777777777778,
              "#fb9f3a"
             ],
             [
              0.8888888888888888,
              "#fdca26"
             ],
             [
              1,
              "#f0f921"
             ]
            ],
            "type": "contour"
           }
          ],
          "contourcarpet": [
           {
            "colorbar": {
             "outlinewidth": 0,
             "ticks": ""
            },
            "type": "contourcarpet"
           }
          ],
          "heatmap": [
           {
            "colorbar": {
             "outlinewidth": 0,
             "ticks": ""
            },
            "colorscale": [
             [
              0,
              "#0d0887"
             ],
             [
              0.1111111111111111,
              "#46039f"
             ],
             [
              0.2222222222222222,
              "#7201a8"
             ],
             [
              0.3333333333333333,
              "#9c179e"
             ],
             [
              0.4444444444444444,
              "#bd3786"
             ],
             [
              0.5555555555555556,
              "#d8576b"
             ],
             [
              0.6666666666666666,
              "#ed7953"
             ],
             [
              0.7777777777777778,
              "#fb9f3a"
             ],
             [
              0.8888888888888888,
              "#fdca26"
             ],
             [
              1,
              "#f0f921"
             ]
            ],
            "type": "heatmap"
           }
          ],
          "heatmapgl": [
           {
            "colorbar": {
             "outlinewidth": 0,
             "ticks": ""
            },
            "colorscale": [
             [
              0,
              "#0d0887"
             ],
             [
              0.1111111111111111,
              "#46039f"
             ],
             [
              0.2222222222222222,
              "#7201a8"
             ],
             [
              0.3333333333333333,
              "#9c179e"
             ],
             [
              0.4444444444444444,
              "#bd3786"
             ],
             [
              0.5555555555555556,
              "#d8576b"
             ],
             [
              0.6666666666666666,
              "#ed7953"
             ],
             [
              0.7777777777777778,
              "#fb9f3a"
             ],
             [
              0.8888888888888888,
              "#fdca26"
             ],
             [
              1,
              "#f0f921"
             ]
            ],
            "type": "heatmapgl"
           }
          ],
          "histogram": [
           {
            "marker": {
             "colorbar": {
              "outlinewidth": 0,
              "ticks": ""
             }
            },
            "type": "histogram"
           }
          ],
          "histogram2d": [
           {
            "colorbar": {
             "outlinewidth": 0,
             "ticks": ""
            },
            "colorscale": [
             [
              0,
              "#0d0887"
             ],
             [
              0.1111111111111111,
              "#46039f"
             ],
             [
              0.2222222222222222,
              "#7201a8"
             ],
             [
              0.3333333333333333,
              "#9c179e"
             ],
             [
              0.4444444444444444,
              "#bd3786"
             ],
             [
              0.5555555555555556,
              "#d8576b"
             ],
             [
              0.6666666666666666,
              "#ed7953"
             ],
             [
              0.7777777777777778,
              "#fb9f3a"
             ],
             [
              0.8888888888888888,
              "#fdca26"
             ],
             [
              1,
              "#f0f921"
             ]
            ],
            "type": "histogram2d"
           }
          ],
          "histogram2dcontour": [
           {
            "colorbar": {
             "outlinewidth": 0,
             "ticks": ""
            },
            "colorscale": [
             [
              0,
              "#0d0887"
             ],
             [
              0.1111111111111111,
              "#46039f"
             ],
             [
              0.2222222222222222,
              "#7201a8"
             ],
             [
              0.3333333333333333,
              "#9c179e"
             ],
             [
              0.4444444444444444,
              "#bd3786"
             ],
             [
              0.5555555555555556,
              "#d8576b"
             ],
             [
              0.6666666666666666,
              "#ed7953"
             ],
             [
              0.7777777777777778,
              "#fb9f3a"
             ],
             [
              0.8888888888888888,
              "#fdca26"
             ],
             [
              1,
              "#f0f921"
             ]
            ],
            "type": "histogram2dcontour"
           }
          ],
          "mesh3d": [
           {
            "colorbar": {
             "outlinewidth": 0,
             "ticks": ""
            },
            "type": "mesh3d"
           }
          ],
          "parcoords": [
           {
            "line": {
             "colorbar": {
              "outlinewidth": 0,
              "ticks": ""
             }
            },
            "type": "parcoords"
           }
          ],
          "pie": [
           {
            "automargin": true,
            "type": "pie"
           }
          ],
          "scatter": [
           {
            "marker": {
             "colorbar": {
              "outlinewidth": 0,
              "ticks": ""
             }
            },
            "type": "scatter"
           }
          ],
          "scatter3d": [
           {
            "line": {
             "colorbar": {
              "outlinewidth": 0,
              "ticks": ""
             }
            },
            "marker": {
             "colorbar": {
              "outlinewidth": 0,
              "ticks": ""
             }
            },
            "type": "scatter3d"
           }
          ],
          "scattercarpet": [
           {
            "marker": {
             "colorbar": {
              "outlinewidth": 0,
              "ticks": ""
             }
            },
            "type": "scattercarpet"
           }
          ],
          "scattergeo": [
           {
            "marker": {
             "colorbar": {
              "outlinewidth": 0,
              "ticks": ""
             }
            },
            "type": "scattergeo"
           }
          ],
          "scattergl": [
           {
            "marker": {
             "colorbar": {
              "outlinewidth": 0,
              "ticks": ""
             }
            },
            "type": "scattergl"
           }
          ],
          "scattermapbox": [
           {
            "marker": {
             "colorbar": {
              "outlinewidth": 0,
              "ticks": ""
             }
            },
            "type": "scattermapbox"
           }
          ],
          "scatterpolar": [
           {
            "marker": {
             "colorbar": {
              "outlinewidth": 0,
              "ticks": ""
             }
            },
            "type": "scatterpolar"
           }
          ],
          "scatterpolargl": [
           {
            "marker": {
             "colorbar": {
              "outlinewidth": 0,
              "ticks": ""
             }
            },
            "type": "scatterpolargl"
           }
          ],
          "scatterternary": [
           {
            "marker": {
             "colorbar": {
              "outlinewidth": 0,
              "ticks": ""
             }
            },
            "type": "scatterternary"
           }
          ],
          "surface": [
           {
            "colorbar": {
             "outlinewidth": 0,
             "ticks": ""
            },
            "colorscale": [
             [
              0,
              "#0d0887"
             ],
             [
              0.1111111111111111,
              "#46039f"
             ],
             [
              0.2222222222222222,
              "#7201a8"
             ],
             [
              0.3333333333333333,
              "#9c179e"
             ],
             [
              0.4444444444444444,
              "#bd3786"
             ],
             [
              0.5555555555555556,
              "#d8576b"
             ],
             [
              0.6666666666666666,
              "#ed7953"
             ],
             [
              0.7777777777777778,
              "#fb9f3a"
             ],
             [
              0.8888888888888888,
              "#fdca26"
             ],
             [
              1,
              "#f0f921"
             ]
            ],
            "type": "surface"
           }
          ],
          "table": [
           {
            "cells": {
             "fill": {
              "color": "#EBF0F8"
             },
             "line": {
              "color": "white"
             }
            },
            "header": {
             "fill": {
              "color": "#C8D4E3"
             },
             "line": {
              "color": "white"
             }
            },
            "type": "table"
           }
          ]
         },
         "layout": {
          "annotationdefaults": {
           "arrowcolor": "#2a3f5f",
           "arrowhead": 0,
           "arrowwidth": 1
          },
          "autotypenumbers": "strict",
          "coloraxis": {
           "colorbar": {
            "outlinewidth": 0,
            "ticks": ""
           }
          },
          "colorscale": {
           "diverging": [
            [
             0,
             "#8e0152"
            ],
            [
             0.1,
             "#c51b7d"
            ],
            [
             0.2,
             "#de77ae"
            ],
            [
             0.3,
             "#f1b6da"
            ],
            [
             0.4,
             "#fde0ef"
            ],
            [
             0.5,
             "#f7f7f7"
            ],
            [
             0.6,
             "#e6f5d0"
            ],
            [
             0.7,
             "#b8e186"
            ],
            [
             0.8,
             "#7fbc41"
            ],
            [
             0.9,
             "#4d9221"
            ],
            [
             1,
             "#276419"
            ]
           ],
           "sequential": [
            [
             0,
             "#0d0887"
            ],
            [
             0.1111111111111111,
             "#46039f"
            ],
            [
             0.2222222222222222,
             "#7201a8"
            ],
            [
             0.3333333333333333,
             "#9c179e"
            ],
            [
             0.4444444444444444,
             "#bd3786"
            ],
            [
             0.5555555555555556,
             "#d8576b"
            ],
            [
             0.6666666666666666,
             "#ed7953"
            ],
            [
             0.7777777777777778,
             "#fb9f3a"
            ],
            [
             0.8888888888888888,
             "#fdca26"
            ],
            [
             1,
             "#f0f921"
            ]
           ],
           "sequentialminus": [
            [
             0,
             "#0d0887"
            ],
            [
             0.1111111111111111,
             "#46039f"
            ],
            [
             0.2222222222222222,
             "#7201a8"
            ],
            [
             0.3333333333333333,
             "#9c179e"
            ],
            [
             0.4444444444444444,
             "#bd3786"
            ],
            [
             0.5555555555555556,
             "#d8576b"
            ],
            [
             0.6666666666666666,
             "#ed7953"
            ],
            [
             0.7777777777777778,
             "#fb9f3a"
            ],
            [
             0.8888888888888888,
             "#fdca26"
            ],
            [
             1,
             "#f0f921"
            ]
           ]
          },
          "colorway": [
           "#636efa",
           "#EF553B",
           "#00cc96",
           "#ab63fa",
           "#FFA15A",
           "#19d3f3",
           "#FF6692",
           "#B6E880",
           "#FF97FF",
           "#FECB52"
          ],
          "font": {
           "color": "#2a3f5f"
          },
          "geo": {
           "bgcolor": "white",
           "lakecolor": "white",
           "landcolor": "#E5ECF6",
           "showlakes": true,
           "showland": true,
           "subunitcolor": "white"
          },
          "hoverlabel": {
           "align": "left"
          },
          "hovermode": "closest",
          "mapbox": {
           "style": "light"
          },
          "paper_bgcolor": "white",
          "plot_bgcolor": "#E5ECF6",
          "polar": {
           "angularaxis": {
            "gridcolor": "white",
            "linecolor": "white",
            "ticks": ""
           },
           "bgcolor": "#E5ECF6",
           "radialaxis": {
            "gridcolor": "white",
            "linecolor": "white",
            "ticks": ""
           }
          },
          "scene": {
           "xaxis": {
            "backgroundcolor": "#E5ECF6",
            "gridcolor": "white",
            "gridwidth": 2,
            "linecolor": "white",
            "showbackground": true,
            "ticks": "",
            "zerolinecolor": "white"
           },
           "yaxis": {
            "backgroundcolor": "#E5ECF6",
            "gridcolor": "white",
            "gridwidth": 2,
            "linecolor": "white",
            "showbackground": true,
            "ticks": "",
            "zerolinecolor": "white"
           },
           "zaxis": {
            "backgroundcolor": "#E5ECF6",
            "gridcolor": "white",
            "gridwidth": 2,
            "linecolor": "white",
            "showbackground": true,
            "ticks": "",
            "zerolinecolor": "white"
           }
          },
          "shapedefaults": {
           "line": {
            "color": "#2a3f5f"
           }
          },
          "ternary": {
           "aaxis": {
            "gridcolor": "white",
            "linecolor": "white",
            "ticks": ""
           },
           "baxis": {
            "gridcolor": "white",
            "linecolor": "white",
            "ticks": ""
           },
           "bgcolor": "#E5ECF6",
           "caxis": {
            "gridcolor": "white",
            "linecolor": "white",
            "ticks": ""
           }
          },
          "title": {
           "x": 0.05
          },
          "xaxis": {
           "automargin": true,
           "gridcolor": "white",
           "linecolor": "white",
           "ticks": "",
           "title": {
            "standoff": 15
           },
           "zerolinecolor": "white",
           "zerolinewidth": 2
          },
          "yaxis": {
           "automargin": true,
           "gridcolor": "white",
           "linecolor": "white",
           "ticks": "",
           "title": {
            "standoff": 15
           },
           "zerolinecolor": "white",
           "zerolinewidth": 2
          }
         }
        },
        "title": {
         "font": {
          "color": "#4D5663"
         }
        },
        "xaxis": {
         "gridcolor": "#E1E5ED",
         "showgrid": true,
         "tickfont": {
          "color": "#4D5663"
         },
         "title": {
          "font": {
           "color": "#4D5663"
          },
          "text": ""
         },
         "zerolinecolor": "#E1E5ED"
        },
        "yaxis": {
         "gridcolor": "#E1E5ED",
         "showgrid": true,
         "tickfont": {
          "color": "#4D5663"
         },
         "title": {
          "font": {
           "color": "#4D5663"
          },
          "text": ""
         },
         "zerolinecolor": "#E1E5ED"
        }
       }
      },
      "text/html": [
       "<div>                            <div id=\"35219f60-2a4d-43fc-8ba6-9b9e1ad9a7e7\" class=\"plotly-graph-div\" style=\"height:525px; width:100%;\"></div>            <script type=\"text/javascript\">                require([\"plotly\"], function(Plotly) {                    window.PLOTLYENV=window.PLOTLYENV || {};\n",
       "                    window.PLOTLYENV.BASE_URL='https://plot.ly';                                    if (document.getElementById(\"35219f60-2a4d-43fc-8ba6-9b9e1ad9a7e7\")) {                    Plotly.newPlot(                        \"35219f60-2a4d-43fc-8ba6-9b9e1ad9a7e7\",                        [{\"marker\": {\"color\": [\"rgb(255, 153, 51)\", \"rgb(55, 128, 191)\", \"rgb(50, 171, 96)\", \"rgb(128, 0, 128)\", \"rgb(219, 64, 82)\", \"rgb(0, 128, 128)\", \"rgb(255, 255, 51)\", \"rgb(128, 128, 0)\", \"rgb(251, 128, 114)\", \"rgb(128, 177, 211)\"], \"line\": {\"width\": 1.3}, \"size\": [59, 46, 65, 48, 67, 82, 64, 68, 50, 42, 87, 68, 60, 88, 78, 64, 48, 83, 67, 61, 112, 107, 90, 61, 46, 80, 53, 67, 49, 46, 71, 82, 72, 68, 102, 64, 86, 77, 65, 67, 58, 73, 78, 63, 69, 40, 100, 69, 95, 72, 63, 61, 60, 70, 45, 40, 48, 73, 53, 60, 70, 70, 72, 59, 85, 64, 70, 100, 87, 27, 65, 78, 67, 54, 58, 73, 73, 55, 12, 78, 47, 56, 100, 64, 83, 79, 69, 84, 81, 85, 60, 59, 74, 53, 71, 68, 71, 21, 78, 72], \"symbol\": \"circle\"}, \"mode\": \"markers\", \"text\": \"\", \"type\": \"scatter\", \"x\": [-1.0401294919952173, 0.7540837883764145, 0.4754525425630791, -0.6748870908287362, -0.5028681633354075, -1.545115592118102, 0.4385873914218319, -0.7448993761396681, -2.272601378304192, 2.348290149001387, -1.022242282050554, 0.8280023223996548, 0.07873141198557396, 0.3087675608543512, 1.0224283350187533, 0.030720145282387472, -0.2119176158627523, -0.01599653212318083, -0.3913616364448441, -1.5795751106802804, 1.1468288620565958, 0.4973159033981794, -1.9013472528155446, -0.5322510410406922, 0.4354083236982135, -0.8389836603309918, 0.63250625191439, 0.8020108286089704, 0.1680001474329182, -0.03635115506012781, 0.7159382576697422, 0.5170952942994798, -0.4208887962003864, -0.852854444728073, 0.03488494145210682, 0.8707420113945227, -0.8621551581638811, 0.34881145129166286, 1.246164830050418, -0.4040670984432969, -0.16999960651721618, 0.7702826270683759, -1.2465484743701372, 1.0235240301432829, -0.9827310746533008, -1.3685359084453448, -1.555762514576057, -0.310412608073586, 0.42784058214450094, 0.7393591528414503, -0.17894082395310795, 0.6490665839701796, -1.7845153300317413, 0.5660054718136256, 0.17895378642966125, 0.028668596465502034, 1.0984437009662795, 1.0455101311924233, -0.07431303549503826, -0.012992158379034034, -0.1995304624066606, -0.2089848698983806, 0.19457954135750175, 1.3084467308939345, 0.5846810561081601, -1.8397556931868735, -0.4890604222210714, -0.18499169606906368, -0.2973274305624725, -0.37909874978065117, 1.4957987559756598, -0.6159986573181273, -0.24547663960831673, 0.8259588546671423, 0.2320018286227506, 1.3860756506482823, -2.2969088365772, 0.24270405862187572, -1.1735508353664528, -1.0854695474455966, 0.4117828045133673, 0.6980938976610915, -0.27703893620018377, 0.44158644700903005, 2.315900696039003, 1.4760766316818896, 0.6430545479341668, -0.5639279890784357, -1.200084558711711, -0.399970533777103, -0.48409637049958826, -0.11350869752556553, -0.5766176383523768, -0.2656149677596483, 1.0680910339652843, -0.07807128816360841, -0.487754719734934, 0.7330459724530421, -1.9161367158436546, 1.6667640983996523], \"y\": [-0.28983263678314597, -0.8169479361435581, -0.10148378188004077, -0.748494262256059, -0.5582652244502774, -0.36037903955588957, 1.149895074698171, 0.7016714440003219, -0.6863796647750956, 1.3173593602387879, 0.4866044910224147, -0.4653742100271251, -0.529699977871896, -0.40869937377654775, -2.5486499754974177, -0.9708773273169615, 2.211548076913994, 1.7765620092543595, -1.626097838237145, 0.6692050254926118, -0.28721583356763475, 0.302370011128094, 0.2669949468236153, -0.38319982574182027, 0.42646825629144214, -0.973178217530246, -0.8943184281411931, -0.21444633380224432, -1.4671503193874726, 0.006132854065390305, -1.0220666887123597, 1.643679383050032, 0.8488020578950584, 0.3410977483909045, 0.7690744664331666, 0.47223610763359697, 0.9454017733692817, 0.4347132784174497, 0.4132931203526399, -0.7549841153565662, -0.583277796242386, -0.4547913169903659, -1.909722692901202, 0.8602880805375047, 1.2668509733843005, 0.38921315419857755, -1.3058390007042817, 0.0560880420088437, -0.7611504778718097, 0.22427842178547364, 0.6393896711477389, -0.23361690153326356, -1.0582332446307636, -0.2825496147287078, -0.24937584295088627, 1.364049630086341, 0.44841212493836835, 0.7502743814027157, 0.4632782338732586, -0.2081764792567062, -1.001357325235659, 0.9907842309268651, 1.5148089221476722, 0.09189998885551912, -0.14822349816325553, -2.130692330840538, -0.5431104712437145, -2.3513178539124264, 0.03760037350303423, 2.5321954035573055, -0.8608566121890182, -0.8769362278876279, 1.4037734093709349, 0.32147341252819217, 1.6447883170195194, -1.2543325345516667, 1.6138535011035184, 0.14627716689842465, -2.783897219711481, 0.7129828324340545, -1.127320315035124, 0.172624432355655, 1.4667699454462124, -0.06254038227601047, 1.065437358461133, -1.4383208553553297, -1.880693547475329, -0.277768247581571, -0.17205887198272193, -0.03581563684461571, 0.8717079352780598, -0.5885613208085732, -0.9489155164081639, -1.17905984924152, 0.13361371606619776, 0.9991281270155986, 0.5770007730157847, -0.5925585897114811, -0.5497414754879314, -0.7332407145505224]}],                        {\"legend\": {\"bgcolor\": \"#F5F6F9\", \"font\": {\"color\": \"#4D5663\"}}, \"paper_bgcolor\": \"#F5F6F9\", \"plot_bgcolor\": \"#F5F6F9\", \"template\": {\"data\": {\"bar\": [{\"error_x\": {\"color\": \"#2a3f5f\"}, \"error_y\": {\"color\": \"#2a3f5f\"}, \"marker\": {\"line\": {\"color\": \"#E5ECF6\", \"width\": 0.5}}, \"type\": \"bar\"}], \"barpolar\": [{\"marker\": {\"line\": {\"color\": \"#E5ECF6\", \"width\": 0.5}}, \"type\": \"barpolar\"}], \"carpet\": [{\"aaxis\": {\"endlinecolor\": \"#2a3f5f\", \"gridcolor\": \"white\", \"linecolor\": \"white\", \"minorgridcolor\": \"white\", \"startlinecolor\": \"#2a3f5f\"}, \"baxis\": {\"endlinecolor\": \"#2a3f5f\", \"gridcolor\": \"white\", \"linecolor\": \"white\", \"minorgridcolor\": \"white\", \"startlinecolor\": \"#2a3f5f\"}, \"type\": \"carpet\"}], \"choropleth\": [{\"colorbar\": {\"outlinewidth\": 0, \"ticks\": \"\"}, \"type\": \"choropleth\"}], \"contour\": [{\"colorbar\": {\"outlinewidth\": 0, \"ticks\": \"\"}, \"colorscale\": [[0.0, \"#0d0887\"], [0.1111111111111111, \"#46039f\"], [0.2222222222222222, \"#7201a8\"], [0.3333333333333333, \"#9c179e\"], [0.4444444444444444, \"#bd3786\"], [0.5555555555555556, \"#d8576b\"], [0.6666666666666666, \"#ed7953\"], [0.7777777777777778, \"#fb9f3a\"], [0.8888888888888888, \"#fdca26\"], [1.0, \"#f0f921\"]], \"type\": \"contour\"}], \"contourcarpet\": [{\"colorbar\": {\"outlinewidth\": 0, \"ticks\": \"\"}, \"type\": \"contourcarpet\"}], \"heatmap\": [{\"colorbar\": {\"outlinewidth\": 0, \"ticks\": \"\"}, \"colorscale\": [[0.0, \"#0d0887\"], [0.1111111111111111, \"#46039f\"], [0.2222222222222222, \"#7201a8\"], [0.3333333333333333, \"#9c179e\"], [0.4444444444444444, \"#bd3786\"], [0.5555555555555556, \"#d8576b\"], [0.6666666666666666, \"#ed7953\"], [0.7777777777777778, \"#fb9f3a\"], [0.8888888888888888, \"#fdca26\"], [1.0, \"#f0f921\"]], \"type\": \"heatmap\"}], \"heatmapgl\": [{\"colorbar\": {\"outlinewidth\": 0, \"ticks\": \"\"}, \"colorscale\": [[0.0, \"#0d0887\"], [0.1111111111111111, \"#46039f\"], [0.2222222222222222, \"#7201a8\"], [0.3333333333333333, \"#9c179e\"], [0.4444444444444444, \"#bd3786\"], [0.5555555555555556, \"#d8576b\"], [0.6666666666666666, \"#ed7953\"], [0.7777777777777778, \"#fb9f3a\"], [0.8888888888888888, \"#fdca26\"], [1.0, \"#f0f921\"]], \"type\": \"heatmapgl\"}], \"histogram\": [{\"marker\": {\"colorbar\": {\"outlinewidth\": 0, \"ticks\": \"\"}}, \"type\": \"histogram\"}], \"histogram2d\": [{\"colorbar\": {\"outlinewidth\": 0, \"ticks\": \"\"}, \"colorscale\": [[0.0, \"#0d0887\"], [0.1111111111111111, \"#46039f\"], [0.2222222222222222, \"#7201a8\"], [0.3333333333333333, \"#9c179e\"], [0.4444444444444444, \"#bd3786\"], [0.5555555555555556, \"#d8576b\"], [0.6666666666666666, \"#ed7953\"], [0.7777777777777778, \"#fb9f3a\"], [0.8888888888888888, \"#fdca26\"], [1.0, \"#f0f921\"]], \"type\": \"histogram2d\"}], \"histogram2dcontour\": [{\"colorbar\": {\"outlinewidth\": 0, \"ticks\": \"\"}, \"colorscale\": [[0.0, \"#0d0887\"], [0.1111111111111111, \"#46039f\"], [0.2222222222222222, \"#7201a8\"], [0.3333333333333333, \"#9c179e\"], [0.4444444444444444, \"#bd3786\"], [0.5555555555555556, \"#d8576b\"], [0.6666666666666666, \"#ed7953\"], [0.7777777777777778, \"#fb9f3a\"], [0.8888888888888888, \"#fdca26\"], [1.0, \"#f0f921\"]], \"type\": \"histogram2dcontour\"}], \"mesh3d\": [{\"colorbar\": {\"outlinewidth\": 0, \"ticks\": \"\"}, \"type\": \"mesh3d\"}], \"parcoords\": [{\"line\": {\"colorbar\": {\"outlinewidth\": 0, \"ticks\": \"\"}}, \"type\": \"parcoords\"}], \"pie\": [{\"automargin\": true, \"type\": \"pie\"}], \"scatter\": [{\"marker\": {\"colorbar\": {\"outlinewidth\": 0, \"ticks\": \"\"}}, \"type\": \"scatter\"}], \"scatter3d\": [{\"line\": {\"colorbar\": {\"outlinewidth\": 0, \"ticks\": \"\"}}, \"marker\": {\"colorbar\": {\"outlinewidth\": 0, \"ticks\": \"\"}}, \"type\": \"scatter3d\"}], \"scattercarpet\": [{\"marker\": {\"colorbar\": {\"outlinewidth\": 0, \"ticks\": \"\"}}, \"type\": \"scattercarpet\"}], \"scattergeo\": [{\"marker\": {\"colorbar\": {\"outlinewidth\": 0, \"ticks\": \"\"}}, \"type\": \"scattergeo\"}], \"scattergl\": [{\"marker\": {\"colorbar\": {\"outlinewidth\": 0, \"ticks\": \"\"}}, \"type\": \"scattergl\"}], \"scattermapbox\": [{\"marker\": {\"colorbar\": {\"outlinewidth\": 0, \"ticks\": \"\"}}, \"type\": \"scattermapbox\"}], \"scatterpolar\": [{\"marker\": {\"colorbar\": {\"outlinewidth\": 0, \"ticks\": \"\"}}, \"type\": \"scatterpolar\"}], \"scatterpolargl\": [{\"marker\": {\"colorbar\": {\"outlinewidth\": 0, \"ticks\": \"\"}}, \"type\": \"scatterpolargl\"}], \"scatterternary\": [{\"marker\": {\"colorbar\": {\"outlinewidth\": 0, \"ticks\": \"\"}}, \"type\": \"scatterternary\"}], \"surface\": [{\"colorbar\": {\"outlinewidth\": 0, \"ticks\": \"\"}, \"colorscale\": [[0.0, \"#0d0887\"], [0.1111111111111111, \"#46039f\"], [0.2222222222222222, \"#7201a8\"], [0.3333333333333333, \"#9c179e\"], [0.4444444444444444, \"#bd3786\"], [0.5555555555555556, \"#d8576b\"], [0.6666666666666666, \"#ed7953\"], [0.7777777777777778, \"#fb9f3a\"], [0.8888888888888888, \"#fdca26\"], [1.0, \"#f0f921\"]], \"type\": \"surface\"}], \"table\": [{\"cells\": {\"fill\": {\"color\": \"#EBF0F8\"}, \"line\": {\"color\": \"white\"}}, \"header\": {\"fill\": {\"color\": \"#C8D4E3\"}, \"line\": {\"color\": \"white\"}}, \"type\": \"table\"}]}, \"layout\": {\"annotationdefaults\": {\"arrowcolor\": \"#2a3f5f\", \"arrowhead\": 0, \"arrowwidth\": 1}, \"autotypenumbers\": \"strict\", \"coloraxis\": {\"colorbar\": {\"outlinewidth\": 0, \"ticks\": \"\"}}, \"colorscale\": {\"diverging\": [[0, \"#8e0152\"], [0.1, \"#c51b7d\"], [0.2, \"#de77ae\"], [0.3, \"#f1b6da\"], [0.4, \"#fde0ef\"], [0.5, \"#f7f7f7\"], [0.6, \"#e6f5d0\"], [0.7, \"#b8e186\"], [0.8, \"#7fbc41\"], [0.9, \"#4d9221\"], [1, \"#276419\"]], \"sequential\": [[0.0, \"#0d0887\"], [0.1111111111111111, \"#46039f\"], [0.2222222222222222, \"#7201a8\"], [0.3333333333333333, \"#9c179e\"], [0.4444444444444444, \"#bd3786\"], [0.5555555555555556, \"#d8576b\"], [0.6666666666666666, \"#ed7953\"], [0.7777777777777778, \"#fb9f3a\"], [0.8888888888888888, \"#fdca26\"], [1.0, \"#f0f921\"]], \"sequentialminus\": [[0.0, \"#0d0887\"], [0.1111111111111111, \"#46039f\"], [0.2222222222222222, \"#7201a8\"], [0.3333333333333333, \"#9c179e\"], [0.4444444444444444, \"#bd3786\"], [0.5555555555555556, \"#d8576b\"], [0.6666666666666666, \"#ed7953\"], [0.7777777777777778, \"#fb9f3a\"], [0.8888888888888888, \"#fdca26\"], [1.0, \"#f0f921\"]]}, \"colorway\": [\"#636efa\", \"#EF553B\", \"#00cc96\", \"#ab63fa\", \"#FFA15A\", \"#19d3f3\", \"#FF6692\", \"#B6E880\", \"#FF97FF\", \"#FECB52\"], \"font\": {\"color\": \"#2a3f5f\"}, \"geo\": {\"bgcolor\": \"white\", \"lakecolor\": \"white\", \"landcolor\": \"#E5ECF6\", \"showlakes\": true, \"showland\": true, \"subunitcolor\": \"white\"}, \"hoverlabel\": {\"align\": \"left\"}, \"hovermode\": \"closest\", \"mapbox\": {\"style\": \"light\"}, \"paper_bgcolor\": \"white\", \"plot_bgcolor\": \"#E5ECF6\", \"polar\": {\"angularaxis\": {\"gridcolor\": \"white\", \"linecolor\": \"white\", \"ticks\": \"\"}, \"bgcolor\": \"#E5ECF6\", \"radialaxis\": {\"gridcolor\": \"white\", \"linecolor\": \"white\", \"ticks\": \"\"}}, \"scene\": {\"xaxis\": {\"backgroundcolor\": \"#E5ECF6\", \"gridcolor\": \"white\", \"gridwidth\": 2, \"linecolor\": \"white\", \"showbackground\": true, \"ticks\": \"\", \"zerolinecolor\": \"white\"}, \"yaxis\": {\"backgroundcolor\": \"#E5ECF6\", \"gridcolor\": \"white\", \"gridwidth\": 2, \"linecolor\": \"white\", \"showbackground\": true, \"ticks\": \"\", \"zerolinecolor\": \"white\"}, \"zaxis\": {\"backgroundcolor\": \"#E5ECF6\", \"gridcolor\": \"white\", \"gridwidth\": 2, \"linecolor\": \"white\", \"showbackground\": true, \"ticks\": \"\", \"zerolinecolor\": \"white\"}}, \"shapedefaults\": {\"line\": {\"color\": \"#2a3f5f\"}}, \"ternary\": {\"aaxis\": {\"gridcolor\": \"white\", \"linecolor\": \"white\", \"ticks\": \"\"}, \"baxis\": {\"gridcolor\": \"white\", \"linecolor\": \"white\", \"ticks\": \"\"}, \"bgcolor\": \"#E5ECF6\", \"caxis\": {\"gridcolor\": \"white\", \"linecolor\": \"white\", \"ticks\": \"\"}}, \"title\": {\"x\": 0.05}, \"xaxis\": {\"automargin\": true, \"gridcolor\": \"white\", \"linecolor\": \"white\", \"ticks\": \"\", \"title\": {\"standoff\": 15}, \"zerolinecolor\": \"white\", \"zerolinewidth\": 2}, \"yaxis\": {\"automargin\": true, \"gridcolor\": \"white\", \"linecolor\": \"white\", \"ticks\": \"\", \"title\": {\"standoff\": 15}, \"zerolinecolor\": \"white\", \"zerolinewidth\": 2}}}, \"title\": {\"font\": {\"color\": \"#4D5663\"}}, \"xaxis\": {\"gridcolor\": \"#E1E5ED\", \"showgrid\": true, \"tickfont\": {\"color\": \"#4D5663\"}, \"title\": {\"font\": {\"color\": \"#4D5663\"}, \"text\": \"\"}, \"zerolinecolor\": \"#E1E5ED\"}, \"yaxis\": {\"gridcolor\": \"#E1E5ED\", \"showgrid\": true, \"tickfont\": {\"color\": \"#4D5663\"}, \"title\": {\"font\": {\"color\": \"#4D5663\"}, \"text\": \"\"}, \"zerolinecolor\": \"#E1E5ED\"}},                        {\"showLink\": true, \"linkText\": \"Export to plot.ly\", \"plotlyServerURL\": \"https://plot.ly\", \"responsive\": true}                    ).then(function(){\n",
       "                            \n",
       "var gd = document.getElementById('35219f60-2a4d-43fc-8ba6-9b9e1ad9a7e7');\n",
       "var x = new MutationObserver(function (mutations, observer) {{\n",
       "        var display = window.getComputedStyle(gd).display;\n",
       "        if (!display || display === 'none') {{\n",
       "            console.log([gd, 'removed!']);\n",
       "            Plotly.purge(gd);\n",
       "            observer.disconnect();\n",
       "        }}\n",
       "}});\n",
       "\n",
       "// Listen for the removal of the full notebook cells\n",
       "var notebookContainer = gd.closest('#notebook-container');\n",
       "if (notebookContainer) {{\n",
       "    x.observe(notebookContainer, {childList: true});\n",
       "}}\n",
       "\n",
       "// Listen for the clearing of the current output cell\n",
       "var outputEl = gd.closest('.output');\n",
       "if (outputEl) {{\n",
       "    x.observe(outputEl, {childList: true});\n",
       "}}\n",
       "\n",
       "                        })                };                });            </script>        </div>"
      ]
     },
     "metadata": {},
     "output_type": "display_data"
    }
   ],
   "source": [
    "df.iplot(kind='bubble',x='A',y='B',size='C')"
   ]
  },
  {
   "cell_type": "markdown",
   "metadata": {},
   "source": [
    "## scatter_matrix()\n",
    "\n",
    "Similar à sns.pairplot()"
   ]
  },
  {
   "cell_type": "code",
   "execution_count": 18,
   "metadata": {},
   "outputs": [
    {
     "data": {
      "application/vnd.plotly.v1+json": {
       "config": {
        "linkText": "Export to plot.ly",
        "plotlyServerURL": "https://plot.ly",
        "showLink": true
       },
       "data": [
        {
         "histfunc": "count",
         "histnorm": "",
         "marker": {
          "color": "rgba(255, 153, 51, 1.0)",
          "line": {
           "color": "#4D5663",
           "width": 1.3
          }
         },
         "name": "A",
         "nbinsx": 10,
         "opacity": 0.8,
         "orientation": "v",
         "type": "histogram",
         "x": [
          -1.0401294919952173,
          0.7540837883764145,
          0.4754525425630791,
          -0.6748870908287362,
          -0.5028681633354075,
          -1.545115592118102,
          0.4385873914218319,
          -0.7448993761396681,
          -2.272601378304192,
          2.348290149001387,
          -1.022242282050554,
          0.8280023223996548,
          0.07873141198557396,
          0.3087675608543512,
          1.0224283350187533,
          0.030720145282387472,
          -0.2119176158627523,
          -0.01599653212318083,
          -0.3913616364448441,
          -1.5795751106802804,
          1.1468288620565958,
          0.4973159033981794,
          -1.9013472528155446,
          -0.5322510410406922,
          0.4354083236982135,
          -0.8389836603309918,
          0.63250625191439,
          0.8020108286089704,
          0.1680001474329182,
          -0.03635115506012781,
          0.7159382576697422,
          0.5170952942994798,
          -0.4208887962003864,
          -0.852854444728073,
          0.03488494145210682,
          0.8707420113945227,
          -0.8621551581638811,
          0.34881145129166286,
          1.246164830050418,
          -0.4040670984432969,
          -0.16999960651721618,
          0.7702826270683759,
          -1.2465484743701372,
          1.0235240301432829,
          -0.9827310746533008,
          -1.3685359084453448,
          -1.555762514576057,
          -0.310412608073586,
          0.42784058214450094,
          0.7393591528414503,
          -0.17894082395310795,
          0.6490665839701796,
          -1.7845153300317413,
          0.5660054718136256,
          0.17895378642966125,
          0.028668596465502034,
          1.0984437009662795,
          1.0455101311924233,
          -0.07431303549503826,
          -0.012992158379034034,
          -0.1995304624066606,
          -0.2089848698983806,
          0.19457954135750175,
          1.3084467308939345,
          0.5846810561081601,
          -1.8397556931868735,
          -0.4890604222210714,
          -0.18499169606906368,
          -0.2973274305624725,
          -0.37909874978065117,
          1.4957987559756598,
          -0.6159986573181273,
          -0.24547663960831673,
          0.8259588546671423,
          0.2320018286227506,
          1.3860756506482823,
          -2.2969088365772,
          0.24270405862187572,
          -1.1735508353664528,
          -1.0854695474455966,
          0.4117828045133673,
          0.6980938976610915,
          -0.27703893620018377,
          0.44158644700903005,
          2.315900696039003,
          1.4760766316818896,
          0.6430545479341668,
          -0.5639279890784357,
          -1.200084558711711,
          -0.399970533777103,
          -0.48409637049958826,
          -0.11350869752556553,
          -0.5766176383523768,
          -0.2656149677596483,
          1.0680910339652843,
          -0.07807128816360841,
          -0.487754719734934,
          0.7330459724530421,
          -1.9161367158436546,
          1.6667640983996523
         ],
         "xaxis": "x",
         "yaxis": "y"
        },
        {
         "line": {
          "color": "rgba(128, 128, 128, 1.0)",
          "dash": "solid",
          "shape": "linear",
          "width": 1.3
         },
         "marker": {
          "size": 2,
          "symbol": "circle"
         },
         "mode": "markers",
         "name": "A",
         "text": "",
         "type": "scatter",
         "x": [
          -0.28983263678314597,
          -0.8169479361435581,
          -0.10148378188004077,
          -0.748494262256059,
          -0.5582652244502774,
          -0.36037903955588957,
          1.149895074698171,
          0.7016714440003219,
          -0.6863796647750956,
          1.3173593602387879,
          0.4866044910224147,
          -0.4653742100271251,
          -0.529699977871896,
          -0.40869937377654775,
          -2.5486499754974177,
          -0.9708773273169615,
          2.211548076913994,
          1.7765620092543595,
          -1.626097838237145,
          0.6692050254926118,
          -0.28721583356763475,
          0.302370011128094,
          0.2669949468236153,
          -0.38319982574182027,
          0.42646825629144214,
          -0.973178217530246,
          -0.8943184281411931,
          -0.21444633380224432,
          -1.4671503193874726,
          0.006132854065390305,
          -1.0220666887123597,
          1.643679383050032,
          0.8488020578950584,
          0.3410977483909045,
          0.7690744664331666,
          0.47223610763359697,
          0.9454017733692817,
          0.4347132784174497,
          0.4132931203526399,
          -0.7549841153565662,
          -0.583277796242386,
          -0.4547913169903659,
          -1.909722692901202,
          0.8602880805375047,
          1.2668509733843005,
          0.38921315419857755,
          -1.3058390007042817,
          0.0560880420088437,
          -0.7611504778718097,
          0.22427842178547364,
          0.6393896711477389,
          -0.23361690153326356,
          -1.0582332446307636,
          -0.2825496147287078,
          -0.24937584295088627,
          1.364049630086341,
          0.44841212493836835,
          0.7502743814027157,
          0.4632782338732586,
          -0.2081764792567062,
          -1.001357325235659,
          0.9907842309268651,
          1.5148089221476722,
          0.09189998885551912,
          -0.14822349816325553,
          -2.130692330840538,
          -0.5431104712437145,
          -2.3513178539124264,
          0.03760037350303423,
          2.5321954035573055,
          -0.8608566121890182,
          -0.8769362278876279,
          1.4037734093709349,
          0.32147341252819217,
          1.6447883170195194,
          -1.2543325345516667,
          1.6138535011035184,
          0.14627716689842465,
          -2.783897219711481,
          0.7129828324340545,
          -1.127320315035124,
          0.172624432355655,
          1.4667699454462124,
          -0.06254038227601047,
          1.065437358461133,
          -1.4383208553553297,
          -1.880693547475329,
          -0.277768247581571,
          -0.17205887198272193,
          -0.03581563684461571,
          0.8717079352780598,
          -0.5885613208085732,
          -0.9489155164081639,
          -1.17905984924152,
          0.13361371606619776,
          0.9991281270155986,
          0.5770007730157847,
          -0.5925585897114811,
          -0.5497414754879314,
          -0.7332407145505224
         ],
         "xaxis": "x2",
         "y": [
          -1.0401294919952173,
          0.7540837883764145,
          0.4754525425630791,
          -0.6748870908287362,
          -0.5028681633354075,
          -1.545115592118102,
          0.4385873914218319,
          -0.7448993761396681,
          -2.272601378304192,
          2.348290149001387,
          -1.022242282050554,
          0.8280023223996548,
          0.07873141198557396,
          0.3087675608543512,
          1.0224283350187533,
          0.030720145282387472,
          -0.2119176158627523,
          -0.01599653212318083,
          -0.3913616364448441,
          -1.5795751106802804,
          1.1468288620565958,
          0.4973159033981794,
          -1.9013472528155446,
          -0.5322510410406922,
          0.4354083236982135,
          -0.8389836603309918,
          0.63250625191439,
          0.8020108286089704,
          0.1680001474329182,
          -0.03635115506012781,
          0.7159382576697422,
          0.5170952942994798,
          -0.4208887962003864,
          -0.852854444728073,
          0.03488494145210682,
          0.8707420113945227,
          -0.8621551581638811,
          0.34881145129166286,
          1.246164830050418,
          -0.4040670984432969,
          -0.16999960651721618,
          0.7702826270683759,
          -1.2465484743701372,
          1.0235240301432829,
          -0.9827310746533008,
          -1.3685359084453448,
          -1.555762514576057,
          -0.310412608073586,
          0.42784058214450094,
          0.7393591528414503,
          -0.17894082395310795,
          0.6490665839701796,
          -1.7845153300317413,
          0.5660054718136256,
          0.17895378642966125,
          0.028668596465502034,
          1.0984437009662795,
          1.0455101311924233,
          -0.07431303549503826,
          -0.012992158379034034,
          -0.1995304624066606,
          -0.2089848698983806,
          0.19457954135750175,
          1.3084467308939345,
          0.5846810561081601,
          -1.8397556931868735,
          -0.4890604222210714,
          -0.18499169606906368,
          -0.2973274305624725,
          -0.37909874978065117,
          1.4957987559756598,
          -0.6159986573181273,
          -0.24547663960831673,
          0.8259588546671423,
          0.2320018286227506,
          1.3860756506482823,
          -2.2969088365772,
          0.24270405862187572,
          -1.1735508353664528,
          -1.0854695474455966,
          0.4117828045133673,
          0.6980938976610915,
          -0.27703893620018377,
          0.44158644700903005,
          2.315900696039003,
          1.4760766316818896,
          0.6430545479341668,
          -0.5639279890784357,
          -1.200084558711711,
          -0.399970533777103,
          -0.48409637049958826,
          -0.11350869752556553,
          -0.5766176383523768,
          -0.2656149677596483,
          1.0680910339652843,
          -0.07807128816360841,
          -0.487754719734934,
          0.7330459724530421,
          -1.9161367158436546,
          1.6667640983996523
         ],
         "yaxis": "y2"
        },
        {
         "line": {
          "color": "rgba(128, 128, 128, 1.0)",
          "dash": "solid",
          "shape": "linear",
          "width": 1.3
         },
         "marker": {
          "size": 2,
          "symbol": "circle"
         },
         "mode": "markers",
         "name": "A",
         "text": "",
         "type": "scatter",
         "x": [
          -0.39449112315210116,
          -1.1212484928116981,
          -0.11511045548335645,
          -0.9691200961435577,
          0.0026646785481831783,
          0.7775350927810528,
          -0.141799214164426,
          0.06251552959152215,
          -0.9123240764464698,
          -1.32049226673257,
          1.0209834505535818,
          0.03353814444706474,
          -0.36263317862899097,
          1.0799029133101594,
          0.5488355449715403,
          -0.17780741430264266,
          -1.0005066291642464,
          0.8442796504148201,
          -0.018769824139416632,
          -0.3278303212245403,
          2.326656055647813,
          2.077836072423538,
          1.1868809960490683,
          -0.2995962917918889,
          -1.101428111034344,
          0.6552933094637778,
          -0.7342775081334816,
          -0.02113882570913636,
          -0.9316840641457759,
          -1.1127466219103468,
          0.22394846819848918,
          0.7672173579994838,
          0.259175286242782,
          0.06508815772497668,
          1.8421935174451778,
          -0.14044157442108454,
          0.9860580470835705,
          0.5396083363412992,
          -0.11594466300963847,
          0.008806974202786672,
          -0.4639502774848081,
          0.3330017110579172,
          0.575634178744929,
          -0.18843324872121228,
          0.0972865835770349,
          -1.423273354054789,
          1.7300041547046228,
          0.08354131107304794,
          1.4660575943308496,
          0.2852846080560252,
          -0.20729929946952697,
          -0.32676068868360525,
          -0.34143606274468435,
          0.16662155629698341,
          -1.1770475697217184,
          -1.415856081362965,
          -0.9790861331727484,
          0.2982736361374957,
          -0.7433120170324022,
          -0.369887690278907,
          0.1405008326830257,
          0.1506898356699573,
          0.2612834210213473,
          -0.3953507547051282,
          0.9195183947399077,
          -0.14856546169910426,
          0.18142473356123331,
          1.7114488494449998,
          1.031711620401327,
          -2.0941516407574805,
          -0.08648071156833642,
          0.5522774286261719,
          -0.008753649549855615,
          -0.6887924719487085,
          -0.4886046230152795,
          0.28965280886014344,
          0.31086680716582016,
          -0.628950032088841,
          -2.9035410364377405,
          0.560549127072546,
          -1.0207551111513908,
          -0.5992630633903885,
          1.7104838526248434,
          -0.18265339812095063,
          0.827355988262312,
          0.6051388640212662,
          0.08601510364835871,
          0.8737957711827707,
          0.7340467938178823,
          0.929733671714851,
          -0.34383580958552656,
          -0.4331014517501853,
          0.36818604095503965,
          -0.758738373118303,
          0.1847171187438878,
          0.06493816718688149,
          0.2065681403828763,
          -2.4092025245809605,
          0.5501799473388332,
          0.25260773029084094
         ],
         "xaxis": "x3",
         "y": [
          -1.0401294919952173,
          0.7540837883764145,
          0.4754525425630791,
          -0.6748870908287362,
          -0.5028681633354075,
          -1.545115592118102,
          0.4385873914218319,
          -0.7448993761396681,
          -2.272601378304192,
          2.348290149001387,
          -1.022242282050554,
          0.8280023223996548,
          0.07873141198557396,
          0.3087675608543512,
          1.0224283350187533,
          0.030720145282387472,
          -0.2119176158627523,
          -0.01599653212318083,
          -0.3913616364448441,
          -1.5795751106802804,
          1.1468288620565958,
          0.4973159033981794,
          -1.9013472528155446,
          -0.5322510410406922,
          0.4354083236982135,
          -0.8389836603309918,
          0.63250625191439,
          0.8020108286089704,
          0.1680001474329182,
          -0.03635115506012781,
          0.7159382576697422,
          0.5170952942994798,
          -0.4208887962003864,
          -0.852854444728073,
          0.03488494145210682,
          0.8707420113945227,
          -0.8621551581638811,
          0.34881145129166286,
          1.246164830050418,
          -0.4040670984432969,
          -0.16999960651721618,
          0.7702826270683759,
          -1.2465484743701372,
          1.0235240301432829,
          -0.9827310746533008,
          -1.3685359084453448,
          -1.555762514576057,
          -0.310412608073586,
          0.42784058214450094,
          0.7393591528414503,
          -0.17894082395310795,
          0.6490665839701796,
          -1.7845153300317413,
          0.5660054718136256,
          0.17895378642966125,
          0.028668596465502034,
          1.0984437009662795,
          1.0455101311924233,
          -0.07431303549503826,
          -0.012992158379034034,
          -0.1995304624066606,
          -0.2089848698983806,
          0.19457954135750175,
          1.3084467308939345,
          0.5846810561081601,
          -1.8397556931868735,
          -0.4890604222210714,
          -0.18499169606906368,
          -0.2973274305624725,
          -0.37909874978065117,
          1.4957987559756598,
          -0.6159986573181273,
          -0.24547663960831673,
          0.8259588546671423,
          0.2320018286227506,
          1.3860756506482823,
          -2.2969088365772,
          0.24270405862187572,
          -1.1735508353664528,
          -1.0854695474455966,
          0.4117828045133673,
          0.6980938976610915,
          -0.27703893620018377,
          0.44158644700903005,
          2.315900696039003,
          1.4760766316818896,
          0.6430545479341668,
          -0.5639279890784357,
          -1.200084558711711,
          -0.399970533777103,
          -0.48409637049958826,
          -0.11350869752556553,
          -0.5766176383523768,
          -0.2656149677596483,
          1.0680910339652843,
          -0.07807128816360841,
          -0.487754719734934,
          0.7330459724530421,
          -1.9161367158436546,
          1.6667640983996523
         ],
         "yaxis": "y3"
        },
        {
         "line": {
          "color": "rgba(128, 128, 128, 1.0)",
          "dash": "solid",
          "shape": "linear",
          "width": 1.3
         },
         "marker": {
          "size": 2,
          "symbol": "circle"
         },
         "mode": "markers",
         "name": "A",
         "text": "",
         "type": "scatter",
         "x": [
          0.8358904022127795,
          2.808937900356927,
          -1.4991977318331835,
          0.5684355313333193,
          0.23310368435620082,
          1.9211727389531776,
          1.3886014132863176,
          -1.028149218163869,
          -0.22499831608299156,
          1.1460286767393078,
          0.6474369170804646,
          0.0684361959164644,
          1.0888890191969411,
          2.672144706140232,
          0.38091416707364184,
          -0.5367725893511329,
          -0.88934302250755,
          0.17067528579360977,
          -1.0149577463785453,
          -0.7418628236857662,
          0.25267446597065096,
          0.776246117711896,
          0.26606364938872534,
          0.7844112864244464,
          -0.922500729401434,
          -3.404401460927005,
          -0.8799905245655284,
          -0.6944849330767167,
          -0.9091477770135895,
          -0.32269805129703116,
          -1.077846671397077,
          0.30751181102894865,
          0.7973998336086224,
          0.11194544605401993,
          -0.984056235073791,
          0.6928759146875341,
          0.09604496877157467,
          -1.3276236679985045,
          -0.6844989545773975,
          1.3276766939607527,
          -1.2641936094574768,
          0.6848607679863661,
          -1.4183735330980474,
          -1.9780885884306907,
          -1.9984766520540924,
          0.24706309852187702,
          -2.4913063691566655,
          0.6101313058757692,
          0.5671028633842811,
          -0.725984621748018,
          -0.1910221237008867,
          0.7950638148371976,
          0.3244501236102624,
          -0.5870172068519863,
          1.5749500555780758,
          -0.6146397792740326,
          -0.7906886583107036,
          -1.7216416388805738,
          -0.7872797544723416,
          1.5582839479482433,
          0.3356465038431936,
          1.020893116495629,
          -0.8794195588206934,
          0.739897405337708,
          -0.5712865500341279,
          0.026620420162464662,
          -3.0803992969578484,
          -0.6045396307619787,
          -0.29944332653536604,
          -0.9679134742287175,
          0.1494414225483479,
          0.8388028092237695,
          0.9137539238276352,
          1.1850378884216017,
          1.2239190986789192,
          -0.8432264418389523,
          -0.2294007397181265,
          0.14908569166228788,
          -1.2489354291913144,
          -1.1049828040795124,
          -0.07079198492568171,
          -1.016017122760885,
          0.18190325517082614,
          -0.9602501474710243,
          -1.231123037318867,
          0.4773103996861225,
          0.393807305391927,
          0.844880693586435,
          0.5336027332339879,
          -1.9200840332679325,
          0.7300441418197431,
          1.1167520247457252,
          -1.2149971190830546,
          0.002576909029410683,
          0.8849780261407387,
          1.6910902555987406,
          0.8010887427706511,
          0.6138885929785809,
          -0.3652223373885456,
          -0.5335245715775491
         ],
         "xaxis": "x4",
         "y": [
          -1.0401294919952173,
          0.7540837883764145,
          0.4754525425630791,
          -0.6748870908287362,
          -0.5028681633354075,
          -1.545115592118102,
          0.4385873914218319,
          -0.7448993761396681,
          -2.272601378304192,
          2.348290149001387,
          -1.022242282050554,
          0.8280023223996548,
          0.07873141198557396,
          0.3087675608543512,
          1.0224283350187533,
          0.030720145282387472,
          -0.2119176158627523,
          -0.01599653212318083,
          -0.3913616364448441,
          -1.5795751106802804,
          1.1468288620565958,
          0.4973159033981794,
          -1.9013472528155446,
          -0.5322510410406922,
          0.4354083236982135,
          -0.8389836603309918,
          0.63250625191439,
          0.8020108286089704,
          0.1680001474329182,
          -0.03635115506012781,
          0.7159382576697422,
          0.5170952942994798,
          -0.4208887962003864,
          -0.852854444728073,
          0.03488494145210682,
          0.8707420113945227,
          -0.8621551581638811,
          0.34881145129166286,
          1.246164830050418,
          -0.4040670984432969,
          -0.16999960651721618,
          0.7702826270683759,
          -1.2465484743701372,
          1.0235240301432829,
          -0.9827310746533008,
          -1.3685359084453448,
          -1.555762514576057,
          -0.310412608073586,
          0.42784058214450094,
          0.7393591528414503,
          -0.17894082395310795,
          0.6490665839701796,
          -1.7845153300317413,
          0.5660054718136256,
          0.17895378642966125,
          0.028668596465502034,
          1.0984437009662795,
          1.0455101311924233,
          -0.07431303549503826,
          -0.012992158379034034,
          -0.1995304624066606,
          -0.2089848698983806,
          0.19457954135750175,
          1.3084467308939345,
          0.5846810561081601,
          -1.8397556931868735,
          -0.4890604222210714,
          -0.18499169606906368,
          -0.2973274305624725,
          -0.37909874978065117,
          1.4957987559756598,
          -0.6159986573181273,
          -0.24547663960831673,
          0.8259588546671423,
          0.2320018286227506,
          1.3860756506482823,
          -2.2969088365772,
          0.24270405862187572,
          -1.1735508353664528,
          -1.0854695474455966,
          0.4117828045133673,
          0.6980938976610915,
          -0.27703893620018377,
          0.44158644700903005,
          2.315900696039003,
          1.4760766316818896,
          0.6430545479341668,
          -0.5639279890784357,
          -1.200084558711711,
          -0.399970533777103,
          -0.48409637049958826,
          -0.11350869752556553,
          -0.5766176383523768,
          -0.2656149677596483,
          1.0680910339652843,
          -0.07807128816360841,
          -0.487754719734934,
          0.7330459724530421,
          -1.9161367158436546,
          1.6667640983996523
         ],
         "yaxis": "y4"
        },
        {
         "line": {
          "color": "rgba(128, 128, 128, 1.0)",
          "dash": "solid",
          "shape": "linear",
          "width": 1.3
         },
         "marker": {
          "size": 2,
          "symbol": "circle"
         },
         "mode": "markers",
         "name": "B",
         "text": "",
         "type": "scatter",
         "x": [
          -1.0401294919952173,
          0.7540837883764145,
          0.4754525425630791,
          -0.6748870908287362,
          -0.5028681633354075,
          -1.545115592118102,
          0.4385873914218319,
          -0.7448993761396681,
          -2.272601378304192,
          2.348290149001387,
          -1.022242282050554,
          0.8280023223996548,
          0.07873141198557396,
          0.3087675608543512,
          1.0224283350187533,
          0.030720145282387472,
          -0.2119176158627523,
          -0.01599653212318083,
          -0.3913616364448441,
          -1.5795751106802804,
          1.1468288620565958,
          0.4973159033981794,
          -1.9013472528155446,
          -0.5322510410406922,
          0.4354083236982135,
          -0.8389836603309918,
          0.63250625191439,
          0.8020108286089704,
          0.1680001474329182,
          -0.03635115506012781,
          0.7159382576697422,
          0.5170952942994798,
          -0.4208887962003864,
          -0.852854444728073,
          0.03488494145210682,
          0.8707420113945227,
          -0.8621551581638811,
          0.34881145129166286,
          1.246164830050418,
          -0.4040670984432969,
          -0.16999960651721618,
          0.7702826270683759,
          -1.2465484743701372,
          1.0235240301432829,
          -0.9827310746533008,
          -1.3685359084453448,
          -1.555762514576057,
          -0.310412608073586,
          0.42784058214450094,
          0.7393591528414503,
          -0.17894082395310795,
          0.6490665839701796,
          -1.7845153300317413,
          0.5660054718136256,
          0.17895378642966125,
          0.028668596465502034,
          1.0984437009662795,
          1.0455101311924233,
          -0.07431303549503826,
          -0.012992158379034034,
          -0.1995304624066606,
          -0.2089848698983806,
          0.19457954135750175,
          1.3084467308939345,
          0.5846810561081601,
          -1.8397556931868735,
          -0.4890604222210714,
          -0.18499169606906368,
          -0.2973274305624725,
          -0.37909874978065117,
          1.4957987559756598,
          -0.6159986573181273,
          -0.24547663960831673,
          0.8259588546671423,
          0.2320018286227506,
          1.3860756506482823,
          -2.2969088365772,
          0.24270405862187572,
          -1.1735508353664528,
          -1.0854695474455966,
          0.4117828045133673,
          0.6980938976610915,
          -0.27703893620018377,
          0.44158644700903005,
          2.315900696039003,
          1.4760766316818896,
          0.6430545479341668,
          -0.5639279890784357,
          -1.200084558711711,
          -0.399970533777103,
          -0.48409637049958826,
          -0.11350869752556553,
          -0.5766176383523768,
          -0.2656149677596483,
          1.0680910339652843,
          -0.07807128816360841,
          -0.487754719734934,
          0.7330459724530421,
          -1.9161367158436546,
          1.6667640983996523
         ],
         "xaxis": "x5",
         "y": [
          -0.28983263678314597,
          -0.8169479361435581,
          -0.10148378188004077,
          -0.748494262256059,
          -0.5582652244502774,
          -0.36037903955588957,
          1.149895074698171,
          0.7016714440003219,
          -0.6863796647750956,
          1.3173593602387879,
          0.4866044910224147,
          -0.4653742100271251,
          -0.529699977871896,
          -0.40869937377654775,
          -2.5486499754974177,
          -0.9708773273169615,
          2.211548076913994,
          1.7765620092543595,
          -1.626097838237145,
          0.6692050254926118,
          -0.28721583356763475,
          0.302370011128094,
          0.2669949468236153,
          -0.38319982574182027,
          0.42646825629144214,
          -0.973178217530246,
          -0.8943184281411931,
          -0.21444633380224432,
          -1.4671503193874726,
          0.006132854065390305,
          -1.0220666887123597,
          1.643679383050032,
          0.8488020578950584,
          0.3410977483909045,
          0.7690744664331666,
          0.47223610763359697,
          0.9454017733692817,
          0.4347132784174497,
          0.4132931203526399,
          -0.7549841153565662,
          -0.583277796242386,
          -0.4547913169903659,
          -1.909722692901202,
          0.8602880805375047,
          1.2668509733843005,
          0.38921315419857755,
          -1.3058390007042817,
          0.0560880420088437,
          -0.7611504778718097,
          0.22427842178547364,
          0.6393896711477389,
          -0.23361690153326356,
          -1.0582332446307636,
          -0.2825496147287078,
          -0.24937584295088627,
          1.364049630086341,
          0.44841212493836835,
          0.7502743814027157,
          0.4632782338732586,
          -0.2081764792567062,
          -1.001357325235659,
          0.9907842309268651,
          1.5148089221476722,
          0.09189998885551912,
          -0.14822349816325553,
          -2.130692330840538,
          -0.5431104712437145,
          -2.3513178539124264,
          0.03760037350303423,
          2.5321954035573055,
          -0.8608566121890182,
          -0.8769362278876279,
          1.4037734093709349,
          0.32147341252819217,
          1.6447883170195194,
          -1.2543325345516667,
          1.6138535011035184,
          0.14627716689842465,
          -2.783897219711481,
          0.7129828324340545,
          -1.127320315035124,
          0.172624432355655,
          1.4667699454462124,
          -0.06254038227601047,
          1.065437358461133,
          -1.4383208553553297,
          -1.880693547475329,
          -0.277768247581571,
          -0.17205887198272193,
          -0.03581563684461571,
          0.8717079352780598,
          -0.5885613208085732,
          -0.9489155164081639,
          -1.17905984924152,
          0.13361371606619776,
          0.9991281270155986,
          0.5770007730157847,
          -0.5925585897114811,
          -0.5497414754879314,
          -0.7332407145505224
         ],
         "yaxis": "y5"
        },
        {
         "histfunc": "count",
         "histnorm": "",
         "marker": {
          "color": "rgba(55, 128, 191, 1.0)",
          "line": {
           "color": "#4D5663",
           "width": 1.3
          }
         },
         "name": "B",
         "nbinsx": 10,
         "opacity": 0.8,
         "orientation": "v",
         "type": "histogram",
         "x": [
          -0.28983263678314597,
          -0.8169479361435581,
          -0.10148378188004077,
          -0.748494262256059,
          -0.5582652244502774,
          -0.36037903955588957,
          1.149895074698171,
          0.7016714440003219,
          -0.6863796647750956,
          1.3173593602387879,
          0.4866044910224147,
          -0.4653742100271251,
          -0.529699977871896,
          -0.40869937377654775,
          -2.5486499754974177,
          -0.9708773273169615,
          2.211548076913994,
          1.7765620092543595,
          -1.626097838237145,
          0.6692050254926118,
          -0.28721583356763475,
          0.302370011128094,
          0.2669949468236153,
          -0.38319982574182027,
          0.42646825629144214,
          -0.973178217530246,
          -0.8943184281411931,
          -0.21444633380224432,
          -1.4671503193874726,
          0.006132854065390305,
          -1.0220666887123597,
          1.643679383050032,
          0.8488020578950584,
          0.3410977483909045,
          0.7690744664331666,
          0.47223610763359697,
          0.9454017733692817,
          0.4347132784174497,
          0.4132931203526399,
          -0.7549841153565662,
          -0.583277796242386,
          -0.4547913169903659,
          -1.909722692901202,
          0.8602880805375047,
          1.2668509733843005,
          0.38921315419857755,
          -1.3058390007042817,
          0.0560880420088437,
          -0.7611504778718097,
          0.22427842178547364,
          0.6393896711477389,
          -0.23361690153326356,
          -1.0582332446307636,
          -0.2825496147287078,
          -0.24937584295088627,
          1.364049630086341,
          0.44841212493836835,
          0.7502743814027157,
          0.4632782338732586,
          -0.2081764792567062,
          -1.001357325235659,
          0.9907842309268651,
          1.5148089221476722,
          0.09189998885551912,
          -0.14822349816325553,
          -2.130692330840538,
          -0.5431104712437145,
          -2.3513178539124264,
          0.03760037350303423,
          2.5321954035573055,
          -0.8608566121890182,
          -0.8769362278876279,
          1.4037734093709349,
          0.32147341252819217,
          1.6447883170195194,
          -1.2543325345516667,
          1.6138535011035184,
          0.14627716689842465,
          -2.783897219711481,
          0.7129828324340545,
          -1.127320315035124,
          0.172624432355655,
          1.4667699454462124,
          -0.06254038227601047,
          1.065437358461133,
          -1.4383208553553297,
          -1.880693547475329,
          -0.277768247581571,
          -0.17205887198272193,
          -0.03581563684461571,
          0.8717079352780598,
          -0.5885613208085732,
          -0.9489155164081639,
          -1.17905984924152,
          0.13361371606619776,
          0.9991281270155986,
          0.5770007730157847,
          -0.5925585897114811,
          -0.5497414754879314,
          -0.7332407145505224
         ],
         "xaxis": "x6",
         "yaxis": "y6"
        },
        {
         "line": {
          "color": "rgba(128, 128, 128, 1.0)",
          "dash": "solid",
          "shape": "linear",
          "width": 1.3
         },
         "marker": {
          "size": 2,
          "symbol": "circle"
         },
         "mode": "markers",
         "name": "B",
         "text": "",
         "type": "scatter",
         "x": [
          -0.39449112315210116,
          -1.1212484928116981,
          -0.11511045548335645,
          -0.9691200961435577,
          0.0026646785481831783,
          0.7775350927810528,
          -0.141799214164426,
          0.06251552959152215,
          -0.9123240764464698,
          -1.32049226673257,
          1.0209834505535818,
          0.03353814444706474,
          -0.36263317862899097,
          1.0799029133101594,
          0.5488355449715403,
          -0.17780741430264266,
          -1.0005066291642464,
          0.8442796504148201,
          -0.018769824139416632,
          -0.3278303212245403,
          2.326656055647813,
          2.077836072423538,
          1.1868809960490683,
          -0.2995962917918889,
          -1.101428111034344,
          0.6552933094637778,
          -0.7342775081334816,
          -0.02113882570913636,
          -0.9316840641457759,
          -1.1127466219103468,
          0.22394846819848918,
          0.7672173579994838,
          0.259175286242782,
          0.06508815772497668,
          1.8421935174451778,
          -0.14044157442108454,
          0.9860580470835705,
          0.5396083363412992,
          -0.11594466300963847,
          0.008806974202786672,
          -0.4639502774848081,
          0.3330017110579172,
          0.575634178744929,
          -0.18843324872121228,
          0.0972865835770349,
          -1.423273354054789,
          1.7300041547046228,
          0.08354131107304794,
          1.4660575943308496,
          0.2852846080560252,
          -0.20729929946952697,
          -0.32676068868360525,
          -0.34143606274468435,
          0.16662155629698341,
          -1.1770475697217184,
          -1.415856081362965,
          -0.9790861331727484,
          0.2982736361374957,
          -0.7433120170324022,
          -0.369887690278907,
          0.1405008326830257,
          0.1506898356699573,
          0.2612834210213473,
          -0.3953507547051282,
          0.9195183947399077,
          -0.14856546169910426,
          0.18142473356123331,
          1.7114488494449998,
          1.031711620401327,
          -2.0941516407574805,
          -0.08648071156833642,
          0.5522774286261719,
          -0.008753649549855615,
          -0.6887924719487085,
          -0.4886046230152795,
          0.28965280886014344,
          0.31086680716582016,
          -0.628950032088841,
          -2.9035410364377405,
          0.560549127072546,
          -1.0207551111513908,
          -0.5992630633903885,
          1.7104838526248434,
          -0.18265339812095063,
          0.827355988262312,
          0.6051388640212662,
          0.08601510364835871,
          0.8737957711827707,
          0.7340467938178823,
          0.929733671714851,
          -0.34383580958552656,
          -0.4331014517501853,
          0.36818604095503965,
          -0.758738373118303,
          0.1847171187438878,
          0.06493816718688149,
          0.2065681403828763,
          -2.4092025245809605,
          0.5501799473388332,
          0.25260773029084094
         ],
         "xaxis": "x7",
         "y": [
          -0.28983263678314597,
          -0.8169479361435581,
          -0.10148378188004077,
          -0.748494262256059,
          -0.5582652244502774,
          -0.36037903955588957,
          1.149895074698171,
          0.7016714440003219,
          -0.6863796647750956,
          1.3173593602387879,
          0.4866044910224147,
          -0.4653742100271251,
          -0.529699977871896,
          -0.40869937377654775,
          -2.5486499754974177,
          -0.9708773273169615,
          2.211548076913994,
          1.7765620092543595,
          -1.626097838237145,
          0.6692050254926118,
          -0.28721583356763475,
          0.302370011128094,
          0.2669949468236153,
          -0.38319982574182027,
          0.42646825629144214,
          -0.973178217530246,
          -0.8943184281411931,
          -0.21444633380224432,
          -1.4671503193874726,
          0.006132854065390305,
          -1.0220666887123597,
          1.643679383050032,
          0.8488020578950584,
          0.3410977483909045,
          0.7690744664331666,
          0.47223610763359697,
          0.9454017733692817,
          0.4347132784174497,
          0.4132931203526399,
          -0.7549841153565662,
          -0.583277796242386,
          -0.4547913169903659,
          -1.909722692901202,
          0.8602880805375047,
          1.2668509733843005,
          0.38921315419857755,
          -1.3058390007042817,
          0.0560880420088437,
          -0.7611504778718097,
          0.22427842178547364,
          0.6393896711477389,
          -0.23361690153326356,
          -1.0582332446307636,
          -0.2825496147287078,
          -0.24937584295088627,
          1.364049630086341,
          0.44841212493836835,
          0.7502743814027157,
          0.4632782338732586,
          -0.2081764792567062,
          -1.001357325235659,
          0.9907842309268651,
          1.5148089221476722,
          0.09189998885551912,
          -0.14822349816325553,
          -2.130692330840538,
          -0.5431104712437145,
          -2.3513178539124264,
          0.03760037350303423,
          2.5321954035573055,
          -0.8608566121890182,
          -0.8769362278876279,
          1.4037734093709349,
          0.32147341252819217,
          1.6447883170195194,
          -1.2543325345516667,
          1.6138535011035184,
          0.14627716689842465,
          -2.783897219711481,
          0.7129828324340545,
          -1.127320315035124,
          0.172624432355655,
          1.4667699454462124,
          -0.06254038227601047,
          1.065437358461133,
          -1.4383208553553297,
          -1.880693547475329,
          -0.277768247581571,
          -0.17205887198272193,
          -0.03581563684461571,
          0.8717079352780598,
          -0.5885613208085732,
          -0.9489155164081639,
          -1.17905984924152,
          0.13361371606619776,
          0.9991281270155986,
          0.5770007730157847,
          -0.5925585897114811,
          -0.5497414754879314,
          -0.7332407145505224
         ],
         "yaxis": "y7"
        },
        {
         "line": {
          "color": "rgba(128, 128, 128, 1.0)",
          "dash": "solid",
          "shape": "linear",
          "width": 1.3
         },
         "marker": {
          "size": 2,
          "symbol": "circle"
         },
         "mode": "markers",
         "name": "B",
         "text": "",
         "type": "scatter",
         "x": [
          0.8358904022127795,
          2.808937900356927,
          -1.4991977318331835,
          0.5684355313333193,
          0.23310368435620082,
          1.9211727389531776,
          1.3886014132863176,
          -1.028149218163869,
          -0.22499831608299156,
          1.1460286767393078,
          0.6474369170804646,
          0.0684361959164644,
          1.0888890191969411,
          2.672144706140232,
          0.38091416707364184,
          -0.5367725893511329,
          -0.88934302250755,
          0.17067528579360977,
          -1.0149577463785453,
          -0.7418628236857662,
          0.25267446597065096,
          0.776246117711896,
          0.26606364938872534,
          0.7844112864244464,
          -0.922500729401434,
          -3.404401460927005,
          -0.8799905245655284,
          -0.6944849330767167,
          -0.9091477770135895,
          -0.32269805129703116,
          -1.077846671397077,
          0.30751181102894865,
          0.7973998336086224,
          0.11194544605401993,
          -0.984056235073791,
          0.6928759146875341,
          0.09604496877157467,
          -1.3276236679985045,
          -0.6844989545773975,
          1.3276766939607527,
          -1.2641936094574768,
          0.6848607679863661,
          -1.4183735330980474,
          -1.9780885884306907,
          -1.9984766520540924,
          0.24706309852187702,
          -2.4913063691566655,
          0.6101313058757692,
          0.5671028633842811,
          -0.725984621748018,
          -0.1910221237008867,
          0.7950638148371976,
          0.3244501236102624,
          -0.5870172068519863,
          1.5749500555780758,
          -0.6146397792740326,
          -0.7906886583107036,
          -1.7216416388805738,
          -0.7872797544723416,
          1.5582839479482433,
          0.3356465038431936,
          1.020893116495629,
          -0.8794195588206934,
          0.739897405337708,
          -0.5712865500341279,
          0.026620420162464662,
          -3.0803992969578484,
          -0.6045396307619787,
          -0.29944332653536604,
          -0.9679134742287175,
          0.1494414225483479,
          0.8388028092237695,
          0.9137539238276352,
          1.1850378884216017,
          1.2239190986789192,
          -0.8432264418389523,
          -0.2294007397181265,
          0.14908569166228788,
          -1.2489354291913144,
          -1.1049828040795124,
          -0.07079198492568171,
          -1.016017122760885,
          0.18190325517082614,
          -0.9602501474710243,
          -1.231123037318867,
          0.4773103996861225,
          0.393807305391927,
          0.844880693586435,
          0.5336027332339879,
          -1.9200840332679325,
          0.7300441418197431,
          1.1167520247457252,
          -1.2149971190830546,
          0.002576909029410683,
          0.8849780261407387,
          1.6910902555987406,
          0.8010887427706511,
          0.6138885929785809,
          -0.3652223373885456,
          -0.5335245715775491
         ],
         "xaxis": "x8",
         "y": [
          -0.28983263678314597,
          -0.8169479361435581,
          -0.10148378188004077,
          -0.748494262256059,
          -0.5582652244502774,
          -0.36037903955588957,
          1.149895074698171,
          0.7016714440003219,
          -0.6863796647750956,
          1.3173593602387879,
          0.4866044910224147,
          -0.4653742100271251,
          -0.529699977871896,
          -0.40869937377654775,
          -2.5486499754974177,
          -0.9708773273169615,
          2.211548076913994,
          1.7765620092543595,
          -1.626097838237145,
          0.6692050254926118,
          -0.28721583356763475,
          0.302370011128094,
          0.2669949468236153,
          -0.38319982574182027,
          0.42646825629144214,
          -0.973178217530246,
          -0.8943184281411931,
          -0.21444633380224432,
          -1.4671503193874726,
          0.006132854065390305,
          -1.0220666887123597,
          1.643679383050032,
          0.8488020578950584,
          0.3410977483909045,
          0.7690744664331666,
          0.47223610763359697,
          0.9454017733692817,
          0.4347132784174497,
          0.4132931203526399,
          -0.7549841153565662,
          -0.583277796242386,
          -0.4547913169903659,
          -1.909722692901202,
          0.8602880805375047,
          1.2668509733843005,
          0.38921315419857755,
          -1.3058390007042817,
          0.0560880420088437,
          -0.7611504778718097,
          0.22427842178547364,
          0.6393896711477389,
          -0.23361690153326356,
          -1.0582332446307636,
          -0.2825496147287078,
          -0.24937584295088627,
          1.364049630086341,
          0.44841212493836835,
          0.7502743814027157,
          0.4632782338732586,
          -0.2081764792567062,
          -1.001357325235659,
          0.9907842309268651,
          1.5148089221476722,
          0.09189998885551912,
          -0.14822349816325553,
          -2.130692330840538,
          -0.5431104712437145,
          -2.3513178539124264,
          0.03760037350303423,
          2.5321954035573055,
          -0.8608566121890182,
          -0.8769362278876279,
          1.4037734093709349,
          0.32147341252819217,
          1.6447883170195194,
          -1.2543325345516667,
          1.6138535011035184,
          0.14627716689842465,
          -2.783897219711481,
          0.7129828324340545,
          -1.127320315035124,
          0.172624432355655,
          1.4667699454462124,
          -0.06254038227601047,
          1.065437358461133,
          -1.4383208553553297,
          -1.880693547475329,
          -0.277768247581571,
          -0.17205887198272193,
          -0.03581563684461571,
          0.8717079352780598,
          -0.5885613208085732,
          -0.9489155164081639,
          -1.17905984924152,
          0.13361371606619776,
          0.9991281270155986,
          0.5770007730157847,
          -0.5925585897114811,
          -0.5497414754879314,
          -0.7332407145505224
         ],
         "yaxis": "y8"
        },
        {
         "line": {
          "color": "rgba(128, 128, 128, 1.0)",
          "dash": "solid",
          "shape": "linear",
          "width": 1.3
         },
         "marker": {
          "size": 2,
          "symbol": "circle"
         },
         "mode": "markers",
         "name": "C",
         "text": "",
         "type": "scatter",
         "x": [
          -1.0401294919952173,
          0.7540837883764145,
          0.4754525425630791,
          -0.6748870908287362,
          -0.5028681633354075,
          -1.545115592118102,
          0.4385873914218319,
          -0.7448993761396681,
          -2.272601378304192,
          2.348290149001387,
          -1.022242282050554,
          0.8280023223996548,
          0.07873141198557396,
          0.3087675608543512,
          1.0224283350187533,
          0.030720145282387472,
          -0.2119176158627523,
          -0.01599653212318083,
          -0.3913616364448441,
          -1.5795751106802804,
          1.1468288620565958,
          0.4973159033981794,
          -1.9013472528155446,
          -0.5322510410406922,
          0.4354083236982135,
          -0.8389836603309918,
          0.63250625191439,
          0.8020108286089704,
          0.1680001474329182,
          -0.03635115506012781,
          0.7159382576697422,
          0.5170952942994798,
          -0.4208887962003864,
          -0.852854444728073,
          0.03488494145210682,
          0.8707420113945227,
          -0.8621551581638811,
          0.34881145129166286,
          1.246164830050418,
          -0.4040670984432969,
          -0.16999960651721618,
          0.7702826270683759,
          -1.2465484743701372,
          1.0235240301432829,
          -0.9827310746533008,
          -1.3685359084453448,
          -1.555762514576057,
          -0.310412608073586,
          0.42784058214450094,
          0.7393591528414503,
          -0.17894082395310795,
          0.6490665839701796,
          -1.7845153300317413,
          0.5660054718136256,
          0.17895378642966125,
          0.028668596465502034,
          1.0984437009662795,
          1.0455101311924233,
          -0.07431303549503826,
          -0.012992158379034034,
          -0.1995304624066606,
          -0.2089848698983806,
          0.19457954135750175,
          1.3084467308939345,
          0.5846810561081601,
          -1.8397556931868735,
          -0.4890604222210714,
          -0.18499169606906368,
          -0.2973274305624725,
          -0.37909874978065117,
          1.4957987559756598,
          -0.6159986573181273,
          -0.24547663960831673,
          0.8259588546671423,
          0.2320018286227506,
          1.3860756506482823,
          -2.2969088365772,
          0.24270405862187572,
          -1.1735508353664528,
          -1.0854695474455966,
          0.4117828045133673,
          0.6980938976610915,
          -0.27703893620018377,
          0.44158644700903005,
          2.315900696039003,
          1.4760766316818896,
          0.6430545479341668,
          -0.5639279890784357,
          -1.200084558711711,
          -0.399970533777103,
          -0.48409637049958826,
          -0.11350869752556553,
          -0.5766176383523768,
          -0.2656149677596483,
          1.0680910339652843,
          -0.07807128816360841,
          -0.487754719734934,
          0.7330459724530421,
          -1.9161367158436546,
          1.6667640983996523
         ],
         "xaxis": "x9",
         "y": [
          -0.39449112315210116,
          -1.1212484928116981,
          -0.11511045548335645,
          -0.9691200961435577,
          0.0026646785481831783,
          0.7775350927810528,
          -0.141799214164426,
          0.06251552959152215,
          -0.9123240764464698,
          -1.32049226673257,
          1.0209834505535818,
          0.03353814444706474,
          -0.36263317862899097,
          1.0799029133101594,
          0.5488355449715403,
          -0.17780741430264266,
          -1.0005066291642464,
          0.8442796504148201,
          -0.018769824139416632,
          -0.3278303212245403,
          2.326656055647813,
          2.077836072423538,
          1.1868809960490683,
          -0.2995962917918889,
          -1.101428111034344,
          0.6552933094637778,
          -0.7342775081334816,
          -0.02113882570913636,
          -0.9316840641457759,
          -1.1127466219103468,
          0.22394846819848918,
          0.7672173579994838,
          0.259175286242782,
          0.06508815772497668,
          1.8421935174451778,
          -0.14044157442108454,
          0.9860580470835705,
          0.5396083363412992,
          -0.11594466300963847,
          0.008806974202786672,
          -0.4639502774848081,
          0.3330017110579172,
          0.575634178744929,
          -0.18843324872121228,
          0.0972865835770349,
          -1.423273354054789,
          1.7300041547046228,
          0.08354131107304794,
          1.4660575943308496,
          0.2852846080560252,
          -0.20729929946952697,
          -0.32676068868360525,
          -0.34143606274468435,
          0.16662155629698341,
          -1.1770475697217184,
          -1.415856081362965,
          -0.9790861331727484,
          0.2982736361374957,
          -0.7433120170324022,
          -0.369887690278907,
          0.1405008326830257,
          0.1506898356699573,
          0.2612834210213473,
          -0.3953507547051282,
          0.9195183947399077,
          -0.14856546169910426,
          0.18142473356123331,
          1.7114488494449998,
          1.031711620401327,
          -2.0941516407574805,
          -0.08648071156833642,
          0.5522774286261719,
          -0.008753649549855615,
          -0.6887924719487085,
          -0.4886046230152795,
          0.28965280886014344,
          0.31086680716582016,
          -0.628950032088841,
          -2.9035410364377405,
          0.560549127072546,
          -1.0207551111513908,
          -0.5992630633903885,
          1.7104838526248434,
          -0.18265339812095063,
          0.827355988262312,
          0.6051388640212662,
          0.08601510364835871,
          0.8737957711827707,
          0.7340467938178823,
          0.929733671714851,
          -0.34383580958552656,
          -0.4331014517501853,
          0.36818604095503965,
          -0.758738373118303,
          0.1847171187438878,
          0.06493816718688149,
          0.2065681403828763,
          -2.4092025245809605,
          0.5501799473388332,
          0.25260773029084094
         ],
         "yaxis": "y9"
        },
        {
         "line": {
          "color": "rgba(128, 128, 128, 1.0)",
          "dash": "solid",
          "shape": "linear",
          "width": 1.3
         },
         "marker": {
          "size": 2,
          "symbol": "circle"
         },
         "mode": "markers",
         "name": "C",
         "text": "",
         "type": "scatter",
         "x": [
          -0.28983263678314597,
          -0.8169479361435581,
          -0.10148378188004077,
          -0.748494262256059,
          -0.5582652244502774,
          -0.36037903955588957,
          1.149895074698171,
          0.7016714440003219,
          -0.6863796647750956,
          1.3173593602387879,
          0.4866044910224147,
          -0.4653742100271251,
          -0.529699977871896,
          -0.40869937377654775,
          -2.5486499754974177,
          -0.9708773273169615,
          2.211548076913994,
          1.7765620092543595,
          -1.626097838237145,
          0.6692050254926118,
          -0.28721583356763475,
          0.302370011128094,
          0.2669949468236153,
          -0.38319982574182027,
          0.42646825629144214,
          -0.973178217530246,
          -0.8943184281411931,
          -0.21444633380224432,
          -1.4671503193874726,
          0.006132854065390305,
          -1.0220666887123597,
          1.643679383050032,
          0.8488020578950584,
          0.3410977483909045,
          0.7690744664331666,
          0.47223610763359697,
          0.9454017733692817,
          0.4347132784174497,
          0.4132931203526399,
          -0.7549841153565662,
          -0.583277796242386,
          -0.4547913169903659,
          -1.909722692901202,
          0.8602880805375047,
          1.2668509733843005,
          0.38921315419857755,
          -1.3058390007042817,
          0.0560880420088437,
          -0.7611504778718097,
          0.22427842178547364,
          0.6393896711477389,
          -0.23361690153326356,
          -1.0582332446307636,
          -0.2825496147287078,
          -0.24937584295088627,
          1.364049630086341,
          0.44841212493836835,
          0.7502743814027157,
          0.4632782338732586,
          -0.2081764792567062,
          -1.001357325235659,
          0.9907842309268651,
          1.5148089221476722,
          0.09189998885551912,
          -0.14822349816325553,
          -2.130692330840538,
          -0.5431104712437145,
          -2.3513178539124264,
          0.03760037350303423,
          2.5321954035573055,
          -0.8608566121890182,
          -0.8769362278876279,
          1.4037734093709349,
          0.32147341252819217,
          1.6447883170195194,
          -1.2543325345516667,
          1.6138535011035184,
          0.14627716689842465,
          -2.783897219711481,
          0.7129828324340545,
          -1.127320315035124,
          0.172624432355655,
          1.4667699454462124,
          -0.06254038227601047,
          1.065437358461133,
          -1.4383208553553297,
          -1.880693547475329,
          -0.277768247581571,
          -0.17205887198272193,
          -0.03581563684461571,
          0.8717079352780598,
          -0.5885613208085732,
          -0.9489155164081639,
          -1.17905984924152,
          0.13361371606619776,
          0.9991281270155986,
          0.5770007730157847,
          -0.5925585897114811,
          -0.5497414754879314,
          -0.7332407145505224
         ],
         "xaxis": "x10",
         "y": [
          -0.39449112315210116,
          -1.1212484928116981,
          -0.11511045548335645,
          -0.9691200961435577,
          0.0026646785481831783,
          0.7775350927810528,
          -0.141799214164426,
          0.06251552959152215,
          -0.9123240764464698,
          -1.32049226673257,
          1.0209834505535818,
          0.03353814444706474,
          -0.36263317862899097,
          1.0799029133101594,
          0.5488355449715403,
          -0.17780741430264266,
          -1.0005066291642464,
          0.8442796504148201,
          -0.018769824139416632,
          -0.3278303212245403,
          2.326656055647813,
          2.077836072423538,
          1.1868809960490683,
          -0.2995962917918889,
          -1.101428111034344,
          0.6552933094637778,
          -0.7342775081334816,
          -0.02113882570913636,
          -0.9316840641457759,
          -1.1127466219103468,
          0.22394846819848918,
          0.7672173579994838,
          0.259175286242782,
          0.06508815772497668,
          1.8421935174451778,
          -0.14044157442108454,
          0.9860580470835705,
          0.5396083363412992,
          -0.11594466300963847,
          0.008806974202786672,
          -0.4639502774848081,
          0.3330017110579172,
          0.575634178744929,
          -0.18843324872121228,
          0.0972865835770349,
          -1.423273354054789,
          1.7300041547046228,
          0.08354131107304794,
          1.4660575943308496,
          0.2852846080560252,
          -0.20729929946952697,
          -0.32676068868360525,
          -0.34143606274468435,
          0.16662155629698341,
          -1.1770475697217184,
          -1.415856081362965,
          -0.9790861331727484,
          0.2982736361374957,
          -0.7433120170324022,
          -0.369887690278907,
          0.1405008326830257,
          0.1506898356699573,
          0.2612834210213473,
          -0.3953507547051282,
          0.9195183947399077,
          -0.14856546169910426,
          0.18142473356123331,
          1.7114488494449998,
          1.031711620401327,
          -2.0941516407574805,
          -0.08648071156833642,
          0.5522774286261719,
          -0.008753649549855615,
          -0.6887924719487085,
          -0.4886046230152795,
          0.28965280886014344,
          0.31086680716582016,
          -0.628950032088841,
          -2.9035410364377405,
          0.560549127072546,
          -1.0207551111513908,
          -0.5992630633903885,
          1.7104838526248434,
          -0.18265339812095063,
          0.827355988262312,
          0.6051388640212662,
          0.08601510364835871,
          0.8737957711827707,
          0.7340467938178823,
          0.929733671714851,
          -0.34383580958552656,
          -0.4331014517501853,
          0.36818604095503965,
          -0.758738373118303,
          0.1847171187438878,
          0.06493816718688149,
          0.2065681403828763,
          -2.4092025245809605,
          0.5501799473388332,
          0.25260773029084094
         ],
         "yaxis": "y10"
        },
        {
         "histfunc": "count",
         "histnorm": "",
         "marker": {
          "color": "rgba(50, 171, 96, 1.0)",
          "line": {
           "color": "#4D5663",
           "width": 1.3
          }
         },
         "name": "C",
         "nbinsx": 10,
         "opacity": 0.8,
         "orientation": "v",
         "type": "histogram",
         "x": [
          -0.39449112315210116,
          -1.1212484928116981,
          -0.11511045548335645,
          -0.9691200961435577,
          0.0026646785481831783,
          0.7775350927810528,
          -0.141799214164426,
          0.06251552959152215,
          -0.9123240764464698,
          -1.32049226673257,
          1.0209834505535818,
          0.03353814444706474,
          -0.36263317862899097,
          1.0799029133101594,
          0.5488355449715403,
          -0.17780741430264266,
          -1.0005066291642464,
          0.8442796504148201,
          -0.018769824139416632,
          -0.3278303212245403,
          2.326656055647813,
          2.077836072423538,
          1.1868809960490683,
          -0.2995962917918889,
          -1.101428111034344,
          0.6552933094637778,
          -0.7342775081334816,
          -0.02113882570913636,
          -0.9316840641457759,
          -1.1127466219103468,
          0.22394846819848918,
          0.7672173579994838,
          0.259175286242782,
          0.06508815772497668,
          1.8421935174451778,
          -0.14044157442108454,
          0.9860580470835705,
          0.5396083363412992,
          -0.11594466300963847,
          0.008806974202786672,
          -0.4639502774848081,
          0.3330017110579172,
          0.575634178744929,
          -0.18843324872121228,
          0.0972865835770349,
          -1.423273354054789,
          1.7300041547046228,
          0.08354131107304794,
          1.4660575943308496,
          0.2852846080560252,
          -0.20729929946952697,
          -0.32676068868360525,
          -0.34143606274468435,
          0.16662155629698341,
          -1.1770475697217184,
          -1.415856081362965,
          -0.9790861331727484,
          0.2982736361374957,
          -0.7433120170324022,
          -0.369887690278907,
          0.1405008326830257,
          0.1506898356699573,
          0.2612834210213473,
          -0.3953507547051282,
          0.9195183947399077,
          -0.14856546169910426,
          0.18142473356123331,
          1.7114488494449998,
          1.031711620401327,
          -2.0941516407574805,
          -0.08648071156833642,
          0.5522774286261719,
          -0.008753649549855615,
          -0.6887924719487085,
          -0.4886046230152795,
          0.28965280886014344,
          0.31086680716582016,
          -0.628950032088841,
          -2.9035410364377405,
          0.560549127072546,
          -1.0207551111513908,
          -0.5992630633903885,
          1.7104838526248434,
          -0.18265339812095063,
          0.827355988262312,
          0.6051388640212662,
          0.08601510364835871,
          0.8737957711827707,
          0.7340467938178823,
          0.929733671714851,
          -0.34383580958552656,
          -0.4331014517501853,
          0.36818604095503965,
          -0.758738373118303,
          0.1847171187438878,
          0.06493816718688149,
          0.2065681403828763,
          -2.4092025245809605,
          0.5501799473388332,
          0.25260773029084094
         ],
         "xaxis": "x11",
         "yaxis": "y11"
        },
        {
         "line": {
          "color": "rgba(128, 128, 128, 1.0)",
          "dash": "solid",
          "shape": "linear",
          "width": 1.3
         },
         "marker": {
          "size": 2,
          "symbol": "circle"
         },
         "mode": "markers",
         "name": "C",
         "text": "",
         "type": "scatter",
         "x": [
          0.8358904022127795,
          2.808937900356927,
          -1.4991977318331835,
          0.5684355313333193,
          0.23310368435620082,
          1.9211727389531776,
          1.3886014132863176,
          -1.028149218163869,
          -0.22499831608299156,
          1.1460286767393078,
          0.6474369170804646,
          0.0684361959164644,
          1.0888890191969411,
          2.672144706140232,
          0.38091416707364184,
          -0.5367725893511329,
          -0.88934302250755,
          0.17067528579360977,
          -1.0149577463785453,
          -0.7418628236857662,
          0.25267446597065096,
          0.776246117711896,
          0.26606364938872534,
          0.7844112864244464,
          -0.922500729401434,
          -3.404401460927005,
          -0.8799905245655284,
          -0.6944849330767167,
          -0.9091477770135895,
          -0.32269805129703116,
          -1.077846671397077,
          0.30751181102894865,
          0.7973998336086224,
          0.11194544605401993,
          -0.984056235073791,
          0.6928759146875341,
          0.09604496877157467,
          -1.3276236679985045,
          -0.6844989545773975,
          1.3276766939607527,
          -1.2641936094574768,
          0.6848607679863661,
          -1.4183735330980474,
          -1.9780885884306907,
          -1.9984766520540924,
          0.24706309852187702,
          -2.4913063691566655,
          0.6101313058757692,
          0.5671028633842811,
          -0.725984621748018,
          -0.1910221237008867,
          0.7950638148371976,
          0.3244501236102624,
          -0.5870172068519863,
          1.5749500555780758,
          -0.6146397792740326,
          -0.7906886583107036,
          -1.7216416388805738,
          -0.7872797544723416,
          1.5582839479482433,
          0.3356465038431936,
          1.020893116495629,
          -0.8794195588206934,
          0.739897405337708,
          -0.5712865500341279,
          0.026620420162464662,
          -3.0803992969578484,
          -0.6045396307619787,
          -0.29944332653536604,
          -0.9679134742287175,
          0.1494414225483479,
          0.8388028092237695,
          0.9137539238276352,
          1.1850378884216017,
          1.2239190986789192,
          -0.8432264418389523,
          -0.2294007397181265,
          0.14908569166228788,
          -1.2489354291913144,
          -1.1049828040795124,
          -0.07079198492568171,
          -1.016017122760885,
          0.18190325517082614,
          -0.9602501474710243,
          -1.231123037318867,
          0.4773103996861225,
          0.393807305391927,
          0.844880693586435,
          0.5336027332339879,
          -1.9200840332679325,
          0.7300441418197431,
          1.1167520247457252,
          -1.2149971190830546,
          0.002576909029410683,
          0.8849780261407387,
          1.6910902555987406,
          0.8010887427706511,
          0.6138885929785809,
          -0.3652223373885456,
          -0.5335245715775491
         ],
         "xaxis": "x12",
         "y": [
          -0.39449112315210116,
          -1.1212484928116981,
          -0.11511045548335645,
          -0.9691200961435577,
          0.0026646785481831783,
          0.7775350927810528,
          -0.141799214164426,
          0.06251552959152215,
          -0.9123240764464698,
          -1.32049226673257,
          1.0209834505535818,
          0.03353814444706474,
          -0.36263317862899097,
          1.0799029133101594,
          0.5488355449715403,
          -0.17780741430264266,
          -1.0005066291642464,
          0.8442796504148201,
          -0.018769824139416632,
          -0.3278303212245403,
          2.326656055647813,
          2.077836072423538,
          1.1868809960490683,
          -0.2995962917918889,
          -1.101428111034344,
          0.6552933094637778,
          -0.7342775081334816,
          -0.02113882570913636,
          -0.9316840641457759,
          -1.1127466219103468,
          0.22394846819848918,
          0.7672173579994838,
          0.259175286242782,
          0.06508815772497668,
          1.8421935174451778,
          -0.14044157442108454,
          0.9860580470835705,
          0.5396083363412992,
          -0.11594466300963847,
          0.008806974202786672,
          -0.4639502774848081,
          0.3330017110579172,
          0.575634178744929,
          -0.18843324872121228,
          0.0972865835770349,
          -1.423273354054789,
          1.7300041547046228,
          0.08354131107304794,
          1.4660575943308496,
          0.2852846080560252,
          -0.20729929946952697,
          -0.32676068868360525,
          -0.34143606274468435,
          0.16662155629698341,
          -1.1770475697217184,
          -1.415856081362965,
          -0.9790861331727484,
          0.2982736361374957,
          -0.7433120170324022,
          -0.369887690278907,
          0.1405008326830257,
          0.1506898356699573,
          0.2612834210213473,
          -0.3953507547051282,
          0.9195183947399077,
          -0.14856546169910426,
          0.18142473356123331,
          1.7114488494449998,
          1.031711620401327,
          -2.0941516407574805,
          -0.08648071156833642,
          0.5522774286261719,
          -0.008753649549855615,
          -0.6887924719487085,
          -0.4886046230152795,
          0.28965280886014344,
          0.31086680716582016,
          -0.628950032088841,
          -2.9035410364377405,
          0.560549127072546,
          -1.0207551111513908,
          -0.5992630633903885,
          1.7104838526248434,
          -0.18265339812095063,
          0.827355988262312,
          0.6051388640212662,
          0.08601510364835871,
          0.8737957711827707,
          0.7340467938178823,
          0.929733671714851,
          -0.34383580958552656,
          -0.4331014517501853,
          0.36818604095503965,
          -0.758738373118303,
          0.1847171187438878,
          0.06493816718688149,
          0.2065681403828763,
          -2.4092025245809605,
          0.5501799473388332,
          0.25260773029084094
         ],
         "yaxis": "y12"
        },
        {
         "line": {
          "color": "rgba(128, 128, 128, 1.0)",
          "dash": "solid",
          "shape": "linear",
          "width": 1.3
         },
         "marker": {
          "size": 2,
          "symbol": "circle"
         },
         "mode": "markers",
         "name": "D",
         "text": "",
         "type": "scatter",
         "x": [
          -1.0401294919952173,
          0.7540837883764145,
          0.4754525425630791,
          -0.6748870908287362,
          -0.5028681633354075,
          -1.545115592118102,
          0.4385873914218319,
          -0.7448993761396681,
          -2.272601378304192,
          2.348290149001387,
          -1.022242282050554,
          0.8280023223996548,
          0.07873141198557396,
          0.3087675608543512,
          1.0224283350187533,
          0.030720145282387472,
          -0.2119176158627523,
          -0.01599653212318083,
          -0.3913616364448441,
          -1.5795751106802804,
          1.1468288620565958,
          0.4973159033981794,
          -1.9013472528155446,
          -0.5322510410406922,
          0.4354083236982135,
          -0.8389836603309918,
          0.63250625191439,
          0.8020108286089704,
          0.1680001474329182,
          -0.03635115506012781,
          0.7159382576697422,
          0.5170952942994798,
          -0.4208887962003864,
          -0.852854444728073,
          0.03488494145210682,
          0.8707420113945227,
          -0.8621551581638811,
          0.34881145129166286,
          1.246164830050418,
          -0.4040670984432969,
          -0.16999960651721618,
          0.7702826270683759,
          -1.2465484743701372,
          1.0235240301432829,
          -0.9827310746533008,
          -1.3685359084453448,
          -1.555762514576057,
          -0.310412608073586,
          0.42784058214450094,
          0.7393591528414503,
          -0.17894082395310795,
          0.6490665839701796,
          -1.7845153300317413,
          0.5660054718136256,
          0.17895378642966125,
          0.028668596465502034,
          1.0984437009662795,
          1.0455101311924233,
          -0.07431303549503826,
          -0.012992158379034034,
          -0.1995304624066606,
          -0.2089848698983806,
          0.19457954135750175,
          1.3084467308939345,
          0.5846810561081601,
          -1.8397556931868735,
          -0.4890604222210714,
          -0.18499169606906368,
          -0.2973274305624725,
          -0.37909874978065117,
          1.4957987559756598,
          -0.6159986573181273,
          -0.24547663960831673,
          0.8259588546671423,
          0.2320018286227506,
          1.3860756506482823,
          -2.2969088365772,
          0.24270405862187572,
          -1.1735508353664528,
          -1.0854695474455966,
          0.4117828045133673,
          0.6980938976610915,
          -0.27703893620018377,
          0.44158644700903005,
          2.315900696039003,
          1.4760766316818896,
          0.6430545479341668,
          -0.5639279890784357,
          -1.200084558711711,
          -0.399970533777103,
          -0.48409637049958826,
          -0.11350869752556553,
          -0.5766176383523768,
          -0.2656149677596483,
          1.0680910339652843,
          -0.07807128816360841,
          -0.487754719734934,
          0.7330459724530421,
          -1.9161367158436546,
          1.6667640983996523
         ],
         "xaxis": "x13",
         "y": [
          0.8358904022127795,
          2.808937900356927,
          -1.4991977318331835,
          0.5684355313333193,
          0.23310368435620082,
          1.9211727389531776,
          1.3886014132863176,
          -1.028149218163869,
          -0.22499831608299156,
          1.1460286767393078,
          0.6474369170804646,
          0.0684361959164644,
          1.0888890191969411,
          2.672144706140232,
          0.38091416707364184,
          -0.5367725893511329,
          -0.88934302250755,
          0.17067528579360977,
          -1.0149577463785453,
          -0.7418628236857662,
          0.25267446597065096,
          0.776246117711896,
          0.26606364938872534,
          0.7844112864244464,
          -0.922500729401434,
          -3.404401460927005,
          -0.8799905245655284,
          -0.6944849330767167,
          -0.9091477770135895,
          -0.32269805129703116,
          -1.077846671397077,
          0.30751181102894865,
          0.7973998336086224,
          0.11194544605401993,
          -0.984056235073791,
          0.6928759146875341,
          0.09604496877157467,
          -1.3276236679985045,
          -0.6844989545773975,
          1.3276766939607527,
          -1.2641936094574768,
          0.6848607679863661,
          -1.4183735330980474,
          -1.9780885884306907,
          -1.9984766520540924,
          0.24706309852187702,
          -2.4913063691566655,
          0.6101313058757692,
          0.5671028633842811,
          -0.725984621748018,
          -0.1910221237008867,
          0.7950638148371976,
          0.3244501236102624,
          -0.5870172068519863,
          1.5749500555780758,
          -0.6146397792740326,
          -0.7906886583107036,
          -1.7216416388805738,
          -0.7872797544723416,
          1.5582839479482433,
          0.3356465038431936,
          1.020893116495629,
          -0.8794195588206934,
          0.739897405337708,
          -0.5712865500341279,
          0.026620420162464662,
          -3.0803992969578484,
          -0.6045396307619787,
          -0.29944332653536604,
          -0.9679134742287175,
          0.1494414225483479,
          0.8388028092237695,
          0.9137539238276352,
          1.1850378884216017,
          1.2239190986789192,
          -0.8432264418389523,
          -0.2294007397181265,
          0.14908569166228788,
          -1.2489354291913144,
          -1.1049828040795124,
          -0.07079198492568171,
          -1.016017122760885,
          0.18190325517082614,
          -0.9602501474710243,
          -1.231123037318867,
          0.4773103996861225,
          0.393807305391927,
          0.844880693586435,
          0.5336027332339879,
          -1.9200840332679325,
          0.7300441418197431,
          1.1167520247457252,
          -1.2149971190830546,
          0.002576909029410683,
          0.8849780261407387,
          1.6910902555987406,
          0.8010887427706511,
          0.6138885929785809,
          -0.3652223373885456,
          -0.5335245715775491
         ],
         "yaxis": "y13"
        },
        {
         "line": {
          "color": "rgba(128, 128, 128, 1.0)",
          "dash": "solid",
          "shape": "linear",
          "width": 1.3
         },
         "marker": {
          "size": 2,
          "symbol": "circle"
         },
         "mode": "markers",
         "name": "D",
         "text": "",
         "type": "scatter",
         "x": [
          -0.28983263678314597,
          -0.8169479361435581,
          -0.10148378188004077,
          -0.748494262256059,
          -0.5582652244502774,
          -0.36037903955588957,
          1.149895074698171,
          0.7016714440003219,
          -0.6863796647750956,
          1.3173593602387879,
          0.4866044910224147,
          -0.4653742100271251,
          -0.529699977871896,
          -0.40869937377654775,
          -2.5486499754974177,
          -0.9708773273169615,
          2.211548076913994,
          1.7765620092543595,
          -1.626097838237145,
          0.6692050254926118,
          -0.28721583356763475,
          0.302370011128094,
          0.2669949468236153,
          -0.38319982574182027,
          0.42646825629144214,
          -0.973178217530246,
          -0.8943184281411931,
          -0.21444633380224432,
          -1.4671503193874726,
          0.006132854065390305,
          -1.0220666887123597,
          1.643679383050032,
          0.8488020578950584,
          0.3410977483909045,
          0.7690744664331666,
          0.47223610763359697,
          0.9454017733692817,
          0.4347132784174497,
          0.4132931203526399,
          -0.7549841153565662,
          -0.583277796242386,
          -0.4547913169903659,
          -1.909722692901202,
          0.8602880805375047,
          1.2668509733843005,
          0.38921315419857755,
          -1.3058390007042817,
          0.0560880420088437,
          -0.7611504778718097,
          0.22427842178547364,
          0.6393896711477389,
          -0.23361690153326356,
          -1.0582332446307636,
          -0.2825496147287078,
          -0.24937584295088627,
          1.364049630086341,
          0.44841212493836835,
          0.7502743814027157,
          0.4632782338732586,
          -0.2081764792567062,
          -1.001357325235659,
          0.9907842309268651,
          1.5148089221476722,
          0.09189998885551912,
          -0.14822349816325553,
          -2.130692330840538,
          -0.5431104712437145,
          -2.3513178539124264,
          0.03760037350303423,
          2.5321954035573055,
          -0.8608566121890182,
          -0.8769362278876279,
          1.4037734093709349,
          0.32147341252819217,
          1.6447883170195194,
          -1.2543325345516667,
          1.6138535011035184,
          0.14627716689842465,
          -2.783897219711481,
          0.7129828324340545,
          -1.127320315035124,
          0.172624432355655,
          1.4667699454462124,
          -0.06254038227601047,
          1.065437358461133,
          -1.4383208553553297,
          -1.880693547475329,
          -0.277768247581571,
          -0.17205887198272193,
          -0.03581563684461571,
          0.8717079352780598,
          -0.5885613208085732,
          -0.9489155164081639,
          -1.17905984924152,
          0.13361371606619776,
          0.9991281270155986,
          0.5770007730157847,
          -0.5925585897114811,
          -0.5497414754879314,
          -0.7332407145505224
         ],
         "xaxis": "x14",
         "y": [
          0.8358904022127795,
          2.808937900356927,
          -1.4991977318331835,
          0.5684355313333193,
          0.23310368435620082,
          1.9211727389531776,
          1.3886014132863176,
          -1.028149218163869,
          -0.22499831608299156,
          1.1460286767393078,
          0.6474369170804646,
          0.0684361959164644,
          1.0888890191969411,
          2.672144706140232,
          0.38091416707364184,
          -0.5367725893511329,
          -0.88934302250755,
          0.17067528579360977,
          -1.0149577463785453,
          -0.7418628236857662,
          0.25267446597065096,
          0.776246117711896,
          0.26606364938872534,
          0.7844112864244464,
          -0.922500729401434,
          -3.404401460927005,
          -0.8799905245655284,
          -0.6944849330767167,
          -0.9091477770135895,
          -0.32269805129703116,
          -1.077846671397077,
          0.30751181102894865,
          0.7973998336086224,
          0.11194544605401993,
          -0.984056235073791,
          0.6928759146875341,
          0.09604496877157467,
          -1.3276236679985045,
          -0.6844989545773975,
          1.3276766939607527,
          -1.2641936094574768,
          0.6848607679863661,
          -1.4183735330980474,
          -1.9780885884306907,
          -1.9984766520540924,
          0.24706309852187702,
          -2.4913063691566655,
          0.6101313058757692,
          0.5671028633842811,
          -0.725984621748018,
          -0.1910221237008867,
          0.7950638148371976,
          0.3244501236102624,
          -0.5870172068519863,
          1.5749500555780758,
          -0.6146397792740326,
          -0.7906886583107036,
          -1.7216416388805738,
          -0.7872797544723416,
          1.5582839479482433,
          0.3356465038431936,
          1.020893116495629,
          -0.8794195588206934,
          0.739897405337708,
          -0.5712865500341279,
          0.026620420162464662,
          -3.0803992969578484,
          -0.6045396307619787,
          -0.29944332653536604,
          -0.9679134742287175,
          0.1494414225483479,
          0.8388028092237695,
          0.9137539238276352,
          1.1850378884216017,
          1.2239190986789192,
          -0.8432264418389523,
          -0.2294007397181265,
          0.14908569166228788,
          -1.2489354291913144,
          -1.1049828040795124,
          -0.07079198492568171,
          -1.016017122760885,
          0.18190325517082614,
          -0.9602501474710243,
          -1.231123037318867,
          0.4773103996861225,
          0.393807305391927,
          0.844880693586435,
          0.5336027332339879,
          -1.9200840332679325,
          0.7300441418197431,
          1.1167520247457252,
          -1.2149971190830546,
          0.002576909029410683,
          0.8849780261407387,
          1.6910902555987406,
          0.8010887427706511,
          0.6138885929785809,
          -0.3652223373885456,
          -0.5335245715775491
         ],
         "yaxis": "y14"
        },
        {
         "line": {
          "color": "rgba(128, 128, 128, 1.0)",
          "dash": "solid",
          "shape": "linear",
          "width": 1.3
         },
         "marker": {
          "size": 2,
          "symbol": "circle"
         },
         "mode": "markers",
         "name": "D",
         "text": "",
         "type": "scatter",
         "x": [
          -0.39449112315210116,
          -1.1212484928116981,
          -0.11511045548335645,
          -0.9691200961435577,
          0.0026646785481831783,
          0.7775350927810528,
          -0.141799214164426,
          0.06251552959152215,
          -0.9123240764464698,
          -1.32049226673257,
          1.0209834505535818,
          0.03353814444706474,
          -0.36263317862899097,
          1.0799029133101594,
          0.5488355449715403,
          -0.17780741430264266,
          -1.0005066291642464,
          0.8442796504148201,
          -0.018769824139416632,
          -0.3278303212245403,
          2.326656055647813,
          2.077836072423538,
          1.1868809960490683,
          -0.2995962917918889,
          -1.101428111034344,
          0.6552933094637778,
          -0.7342775081334816,
          -0.02113882570913636,
          -0.9316840641457759,
          -1.1127466219103468,
          0.22394846819848918,
          0.7672173579994838,
          0.259175286242782,
          0.06508815772497668,
          1.8421935174451778,
          -0.14044157442108454,
          0.9860580470835705,
          0.5396083363412992,
          -0.11594466300963847,
          0.008806974202786672,
          -0.4639502774848081,
          0.3330017110579172,
          0.575634178744929,
          -0.18843324872121228,
          0.0972865835770349,
          -1.423273354054789,
          1.7300041547046228,
          0.08354131107304794,
          1.4660575943308496,
          0.2852846080560252,
          -0.20729929946952697,
          -0.32676068868360525,
          -0.34143606274468435,
          0.16662155629698341,
          -1.1770475697217184,
          -1.415856081362965,
          -0.9790861331727484,
          0.2982736361374957,
          -0.7433120170324022,
          -0.369887690278907,
          0.1405008326830257,
          0.1506898356699573,
          0.2612834210213473,
          -0.3953507547051282,
          0.9195183947399077,
          -0.14856546169910426,
          0.18142473356123331,
          1.7114488494449998,
          1.031711620401327,
          -2.0941516407574805,
          -0.08648071156833642,
          0.5522774286261719,
          -0.008753649549855615,
          -0.6887924719487085,
          -0.4886046230152795,
          0.28965280886014344,
          0.31086680716582016,
          -0.628950032088841,
          -2.9035410364377405,
          0.560549127072546,
          -1.0207551111513908,
          -0.5992630633903885,
          1.7104838526248434,
          -0.18265339812095063,
          0.827355988262312,
          0.6051388640212662,
          0.08601510364835871,
          0.8737957711827707,
          0.7340467938178823,
          0.929733671714851,
          -0.34383580958552656,
          -0.4331014517501853,
          0.36818604095503965,
          -0.758738373118303,
          0.1847171187438878,
          0.06493816718688149,
          0.2065681403828763,
          -2.4092025245809605,
          0.5501799473388332,
          0.25260773029084094
         ],
         "xaxis": "x15",
         "y": [
          0.8358904022127795,
          2.808937900356927,
          -1.4991977318331835,
          0.5684355313333193,
          0.23310368435620082,
          1.9211727389531776,
          1.3886014132863176,
          -1.028149218163869,
          -0.22499831608299156,
          1.1460286767393078,
          0.6474369170804646,
          0.0684361959164644,
          1.0888890191969411,
          2.672144706140232,
          0.38091416707364184,
          -0.5367725893511329,
          -0.88934302250755,
          0.17067528579360977,
          -1.0149577463785453,
          -0.7418628236857662,
          0.25267446597065096,
          0.776246117711896,
          0.26606364938872534,
          0.7844112864244464,
          -0.922500729401434,
          -3.404401460927005,
          -0.8799905245655284,
          -0.6944849330767167,
          -0.9091477770135895,
          -0.32269805129703116,
          -1.077846671397077,
          0.30751181102894865,
          0.7973998336086224,
          0.11194544605401993,
          -0.984056235073791,
          0.6928759146875341,
          0.09604496877157467,
          -1.3276236679985045,
          -0.6844989545773975,
          1.3276766939607527,
          -1.2641936094574768,
          0.6848607679863661,
          -1.4183735330980474,
          -1.9780885884306907,
          -1.9984766520540924,
          0.24706309852187702,
          -2.4913063691566655,
          0.6101313058757692,
          0.5671028633842811,
          -0.725984621748018,
          -0.1910221237008867,
          0.7950638148371976,
          0.3244501236102624,
          -0.5870172068519863,
          1.5749500555780758,
          -0.6146397792740326,
          -0.7906886583107036,
          -1.7216416388805738,
          -0.7872797544723416,
          1.5582839479482433,
          0.3356465038431936,
          1.020893116495629,
          -0.8794195588206934,
          0.739897405337708,
          -0.5712865500341279,
          0.026620420162464662,
          -3.0803992969578484,
          -0.6045396307619787,
          -0.29944332653536604,
          -0.9679134742287175,
          0.1494414225483479,
          0.8388028092237695,
          0.9137539238276352,
          1.1850378884216017,
          1.2239190986789192,
          -0.8432264418389523,
          -0.2294007397181265,
          0.14908569166228788,
          -1.2489354291913144,
          -1.1049828040795124,
          -0.07079198492568171,
          -1.016017122760885,
          0.18190325517082614,
          -0.9602501474710243,
          -1.231123037318867,
          0.4773103996861225,
          0.393807305391927,
          0.844880693586435,
          0.5336027332339879,
          -1.9200840332679325,
          0.7300441418197431,
          1.1167520247457252,
          -1.2149971190830546,
          0.002576909029410683,
          0.8849780261407387,
          1.6910902555987406,
          0.8010887427706511,
          0.6138885929785809,
          -0.3652223373885456,
          -0.5335245715775491
         ],
         "yaxis": "y15"
        },
        {
         "histfunc": "count",
         "histnorm": "",
         "marker": {
          "color": "rgba(128, 0, 128, 1.0)",
          "line": {
           "color": "#4D5663",
           "width": 1.3
          }
         },
         "name": "D",
         "nbinsx": 10,
         "opacity": 0.8,
         "orientation": "v",
         "type": "histogram",
         "x": [
          0.8358904022127795,
          2.808937900356927,
          -1.4991977318331835,
          0.5684355313333193,
          0.23310368435620082,
          1.9211727389531776,
          1.3886014132863176,
          -1.028149218163869,
          -0.22499831608299156,
          1.1460286767393078,
          0.6474369170804646,
          0.0684361959164644,
          1.0888890191969411,
          2.672144706140232,
          0.38091416707364184,
          -0.5367725893511329,
          -0.88934302250755,
          0.17067528579360977,
          -1.0149577463785453,
          -0.7418628236857662,
          0.25267446597065096,
          0.776246117711896,
          0.26606364938872534,
          0.7844112864244464,
          -0.922500729401434,
          -3.404401460927005,
          -0.8799905245655284,
          -0.6944849330767167,
          -0.9091477770135895,
          -0.32269805129703116,
          -1.077846671397077,
          0.30751181102894865,
          0.7973998336086224,
          0.11194544605401993,
          -0.984056235073791,
          0.6928759146875341,
          0.09604496877157467,
          -1.3276236679985045,
          -0.6844989545773975,
          1.3276766939607527,
          -1.2641936094574768,
          0.6848607679863661,
          -1.4183735330980474,
          -1.9780885884306907,
          -1.9984766520540924,
          0.24706309852187702,
          -2.4913063691566655,
          0.6101313058757692,
          0.5671028633842811,
          -0.725984621748018,
          -0.1910221237008867,
          0.7950638148371976,
          0.3244501236102624,
          -0.5870172068519863,
          1.5749500555780758,
          -0.6146397792740326,
          -0.7906886583107036,
          -1.7216416388805738,
          -0.7872797544723416,
          1.5582839479482433,
          0.3356465038431936,
          1.020893116495629,
          -0.8794195588206934,
          0.739897405337708,
          -0.5712865500341279,
          0.026620420162464662,
          -3.0803992969578484,
          -0.6045396307619787,
          -0.29944332653536604,
          -0.9679134742287175,
          0.1494414225483479,
          0.8388028092237695,
          0.9137539238276352,
          1.1850378884216017,
          1.2239190986789192,
          -0.8432264418389523,
          -0.2294007397181265,
          0.14908569166228788,
          -1.2489354291913144,
          -1.1049828040795124,
          -0.07079198492568171,
          -1.016017122760885,
          0.18190325517082614,
          -0.9602501474710243,
          -1.231123037318867,
          0.4773103996861225,
          0.393807305391927,
          0.844880693586435,
          0.5336027332339879,
          -1.9200840332679325,
          0.7300441418197431,
          1.1167520247457252,
          -1.2149971190830546,
          0.002576909029410683,
          0.8849780261407387,
          1.6910902555987406,
          0.8010887427706511,
          0.6138885929785809,
          -0.3652223373885456,
          -0.5335245715775491
         ],
         "xaxis": "x16",
         "yaxis": "y16"
        }
       ],
       "layout": {
        "bargap": 0.02,
        "legend": {
         "bgcolor": "#F5F6F9",
         "font": {
          "color": "#4D5663"
         }
        },
        "paper_bgcolor": "#F5F6F9",
        "plot_bgcolor": "#F5F6F9",
        "showlegend": false,
        "template": {
         "data": {
          "bar": [
           {
            "error_x": {
             "color": "#2a3f5f"
            },
            "error_y": {
             "color": "#2a3f5f"
            },
            "marker": {
             "line": {
              "color": "#E5ECF6",
              "width": 0.5
             }
            },
            "type": "bar"
           }
          ],
          "barpolar": [
           {
            "marker": {
             "line": {
              "color": "#E5ECF6",
              "width": 0.5
             }
            },
            "type": "barpolar"
           }
          ],
          "carpet": [
           {
            "aaxis": {
             "endlinecolor": "#2a3f5f",
             "gridcolor": "white",
             "linecolor": "white",
             "minorgridcolor": "white",
             "startlinecolor": "#2a3f5f"
            },
            "baxis": {
             "endlinecolor": "#2a3f5f",
             "gridcolor": "white",
             "linecolor": "white",
             "minorgridcolor": "white",
             "startlinecolor": "#2a3f5f"
            },
            "type": "carpet"
           }
          ],
          "choropleth": [
           {
            "colorbar": {
             "outlinewidth": 0,
             "ticks": ""
            },
            "type": "choropleth"
           }
          ],
          "contour": [
           {
            "colorbar": {
             "outlinewidth": 0,
             "ticks": ""
            },
            "colorscale": [
             [
              0,
              "#0d0887"
             ],
             [
              0.1111111111111111,
              "#46039f"
             ],
             [
              0.2222222222222222,
              "#7201a8"
             ],
             [
              0.3333333333333333,
              "#9c179e"
             ],
             [
              0.4444444444444444,
              "#bd3786"
             ],
             [
              0.5555555555555556,
              "#d8576b"
             ],
             [
              0.6666666666666666,
              "#ed7953"
             ],
             [
              0.7777777777777778,
              "#fb9f3a"
             ],
             [
              0.8888888888888888,
              "#fdca26"
             ],
             [
              1,
              "#f0f921"
             ]
            ],
            "type": "contour"
           }
          ],
          "contourcarpet": [
           {
            "colorbar": {
             "outlinewidth": 0,
             "ticks": ""
            },
            "type": "contourcarpet"
           }
          ],
          "heatmap": [
           {
            "colorbar": {
             "outlinewidth": 0,
             "ticks": ""
            },
            "colorscale": [
             [
              0,
              "#0d0887"
             ],
             [
              0.1111111111111111,
              "#46039f"
             ],
             [
              0.2222222222222222,
              "#7201a8"
             ],
             [
              0.3333333333333333,
              "#9c179e"
             ],
             [
              0.4444444444444444,
              "#bd3786"
             ],
             [
              0.5555555555555556,
              "#d8576b"
             ],
             [
              0.6666666666666666,
              "#ed7953"
             ],
             [
              0.7777777777777778,
              "#fb9f3a"
             ],
             [
              0.8888888888888888,
              "#fdca26"
             ],
             [
              1,
              "#f0f921"
             ]
            ],
            "type": "heatmap"
           }
          ],
          "heatmapgl": [
           {
            "colorbar": {
             "outlinewidth": 0,
             "ticks": ""
            },
            "colorscale": [
             [
              0,
              "#0d0887"
             ],
             [
              0.1111111111111111,
              "#46039f"
             ],
             [
              0.2222222222222222,
              "#7201a8"
             ],
             [
              0.3333333333333333,
              "#9c179e"
             ],
             [
              0.4444444444444444,
              "#bd3786"
             ],
             [
              0.5555555555555556,
              "#d8576b"
             ],
             [
              0.6666666666666666,
              "#ed7953"
             ],
             [
              0.7777777777777778,
              "#fb9f3a"
             ],
             [
              0.8888888888888888,
              "#fdca26"
             ],
             [
              1,
              "#f0f921"
             ]
            ],
            "type": "heatmapgl"
           }
          ],
          "histogram": [
           {
            "marker": {
             "colorbar": {
              "outlinewidth": 0,
              "ticks": ""
             }
            },
            "type": "histogram"
           }
          ],
          "histogram2d": [
           {
            "colorbar": {
             "outlinewidth": 0,
             "ticks": ""
            },
            "colorscale": [
             [
              0,
              "#0d0887"
             ],
             [
              0.1111111111111111,
              "#46039f"
             ],
             [
              0.2222222222222222,
              "#7201a8"
             ],
             [
              0.3333333333333333,
              "#9c179e"
             ],
             [
              0.4444444444444444,
              "#bd3786"
             ],
             [
              0.5555555555555556,
              "#d8576b"
             ],
             [
              0.6666666666666666,
              "#ed7953"
             ],
             [
              0.7777777777777778,
              "#fb9f3a"
             ],
             [
              0.8888888888888888,
              "#fdca26"
             ],
             [
              1,
              "#f0f921"
             ]
            ],
            "type": "histogram2d"
           }
          ],
          "histogram2dcontour": [
           {
            "colorbar": {
             "outlinewidth": 0,
             "ticks": ""
            },
            "colorscale": [
             [
              0,
              "#0d0887"
             ],
             [
              0.1111111111111111,
              "#46039f"
             ],
             [
              0.2222222222222222,
              "#7201a8"
             ],
             [
              0.3333333333333333,
              "#9c179e"
             ],
             [
              0.4444444444444444,
              "#bd3786"
             ],
             [
              0.5555555555555556,
              "#d8576b"
             ],
             [
              0.6666666666666666,
              "#ed7953"
             ],
             [
              0.7777777777777778,
              "#fb9f3a"
             ],
             [
              0.8888888888888888,
              "#fdca26"
             ],
             [
              1,
              "#f0f921"
             ]
            ],
            "type": "histogram2dcontour"
           }
          ],
          "mesh3d": [
           {
            "colorbar": {
             "outlinewidth": 0,
             "ticks": ""
            },
            "type": "mesh3d"
           }
          ],
          "parcoords": [
           {
            "line": {
             "colorbar": {
              "outlinewidth": 0,
              "ticks": ""
             }
            },
            "type": "parcoords"
           }
          ],
          "pie": [
           {
            "automargin": true,
            "type": "pie"
           }
          ],
          "scatter": [
           {
            "marker": {
             "colorbar": {
              "outlinewidth": 0,
              "ticks": ""
             }
            },
            "type": "scatter"
           }
          ],
          "scatter3d": [
           {
            "line": {
             "colorbar": {
              "outlinewidth": 0,
              "ticks": ""
             }
            },
            "marker": {
             "colorbar": {
              "outlinewidth": 0,
              "ticks": ""
             }
            },
            "type": "scatter3d"
           }
          ],
          "scattercarpet": [
           {
            "marker": {
             "colorbar": {
              "outlinewidth": 0,
              "ticks": ""
             }
            },
            "type": "scattercarpet"
           }
          ],
          "scattergeo": [
           {
            "marker": {
             "colorbar": {
              "outlinewidth": 0,
              "ticks": ""
             }
            },
            "type": "scattergeo"
           }
          ],
          "scattergl": [
           {
            "marker": {
             "colorbar": {
              "outlinewidth": 0,
              "ticks": ""
             }
            },
            "type": "scattergl"
           }
          ],
          "scattermapbox": [
           {
            "marker": {
             "colorbar": {
              "outlinewidth": 0,
              "ticks": ""
             }
            },
            "type": "scattermapbox"
           }
          ],
          "scatterpolar": [
           {
            "marker": {
             "colorbar": {
              "outlinewidth": 0,
              "ticks": ""
             }
            },
            "type": "scatterpolar"
           }
          ],
          "scatterpolargl": [
           {
            "marker": {
             "colorbar": {
              "outlinewidth": 0,
              "ticks": ""
             }
            },
            "type": "scatterpolargl"
           }
          ],
          "scatterternary": [
           {
            "marker": {
             "colorbar": {
              "outlinewidth": 0,
              "ticks": ""
             }
            },
            "type": "scatterternary"
           }
          ],
          "surface": [
           {
            "colorbar": {
             "outlinewidth": 0,
             "ticks": ""
            },
            "colorscale": [
             [
              0,
              "#0d0887"
             ],
             [
              0.1111111111111111,
              "#46039f"
             ],
             [
              0.2222222222222222,
              "#7201a8"
             ],
             [
              0.3333333333333333,
              "#9c179e"
             ],
             [
              0.4444444444444444,
              "#bd3786"
             ],
             [
              0.5555555555555556,
              "#d8576b"
             ],
             [
              0.6666666666666666,
              "#ed7953"
             ],
             [
              0.7777777777777778,
              "#fb9f3a"
             ],
             [
              0.8888888888888888,
              "#fdca26"
             ],
             [
              1,
              "#f0f921"
             ]
            ],
            "type": "surface"
           }
          ],
          "table": [
           {
            "cells": {
             "fill": {
              "color": "#EBF0F8"
             },
             "line": {
              "color": "white"
             }
            },
            "header": {
             "fill": {
              "color": "#C8D4E3"
             },
             "line": {
              "color": "white"
             }
            },
            "type": "table"
           }
          ]
         },
         "layout": {
          "annotationdefaults": {
           "arrowcolor": "#2a3f5f",
           "arrowhead": 0,
           "arrowwidth": 1
          },
          "autotypenumbers": "strict",
          "coloraxis": {
           "colorbar": {
            "outlinewidth": 0,
            "ticks": ""
           }
          },
          "colorscale": {
           "diverging": [
            [
             0,
             "#8e0152"
            ],
            [
             0.1,
             "#c51b7d"
            ],
            [
             0.2,
             "#de77ae"
            ],
            [
             0.3,
             "#f1b6da"
            ],
            [
             0.4,
             "#fde0ef"
            ],
            [
             0.5,
             "#f7f7f7"
            ],
            [
             0.6,
             "#e6f5d0"
            ],
            [
             0.7,
             "#b8e186"
            ],
            [
             0.8,
             "#7fbc41"
            ],
            [
             0.9,
             "#4d9221"
            ],
            [
             1,
             "#276419"
            ]
           ],
           "sequential": [
            [
             0,
             "#0d0887"
            ],
            [
             0.1111111111111111,
             "#46039f"
            ],
            [
             0.2222222222222222,
             "#7201a8"
            ],
            [
             0.3333333333333333,
             "#9c179e"
            ],
            [
             0.4444444444444444,
             "#bd3786"
            ],
            [
             0.5555555555555556,
             "#d8576b"
            ],
            [
             0.6666666666666666,
             "#ed7953"
            ],
            [
             0.7777777777777778,
             "#fb9f3a"
            ],
            [
             0.8888888888888888,
             "#fdca26"
            ],
            [
             1,
             "#f0f921"
            ]
           ],
           "sequentialminus": [
            [
             0,
             "#0d0887"
            ],
            [
             0.1111111111111111,
             "#46039f"
            ],
            [
             0.2222222222222222,
             "#7201a8"
            ],
            [
             0.3333333333333333,
             "#9c179e"
            ],
            [
             0.4444444444444444,
             "#bd3786"
            ],
            [
             0.5555555555555556,
             "#d8576b"
            ],
            [
             0.6666666666666666,
             "#ed7953"
            ],
            [
             0.7777777777777778,
             "#fb9f3a"
            ],
            [
             0.8888888888888888,
             "#fdca26"
            ],
            [
             1,
             "#f0f921"
            ]
           ]
          },
          "colorway": [
           "#636efa",
           "#EF553B",
           "#00cc96",
           "#ab63fa",
           "#FFA15A",
           "#19d3f3",
           "#FF6692",
           "#B6E880",
           "#FF97FF",
           "#FECB52"
          ],
          "font": {
           "color": "#2a3f5f"
          },
          "geo": {
           "bgcolor": "white",
           "lakecolor": "white",
           "landcolor": "#E5ECF6",
           "showlakes": true,
           "showland": true,
           "subunitcolor": "white"
          },
          "hoverlabel": {
           "align": "left"
          },
          "hovermode": "closest",
          "mapbox": {
           "style": "light"
          },
          "paper_bgcolor": "white",
          "plot_bgcolor": "#E5ECF6",
          "polar": {
           "angularaxis": {
            "gridcolor": "white",
            "linecolor": "white",
            "ticks": ""
           },
           "bgcolor": "#E5ECF6",
           "radialaxis": {
            "gridcolor": "white",
            "linecolor": "white",
            "ticks": ""
           }
          },
          "scene": {
           "xaxis": {
            "backgroundcolor": "#E5ECF6",
            "gridcolor": "white",
            "gridwidth": 2,
            "linecolor": "white",
            "showbackground": true,
            "ticks": "",
            "zerolinecolor": "white"
           },
           "yaxis": {
            "backgroundcolor": "#E5ECF6",
            "gridcolor": "white",
            "gridwidth": 2,
            "linecolor": "white",
            "showbackground": true,
            "ticks": "",
            "zerolinecolor": "white"
           },
           "zaxis": {
            "backgroundcolor": "#E5ECF6",
            "gridcolor": "white",
            "gridwidth": 2,
            "linecolor": "white",
            "showbackground": true,
            "ticks": "",
            "zerolinecolor": "white"
           }
          },
          "shapedefaults": {
           "line": {
            "color": "#2a3f5f"
           }
          },
          "ternary": {
           "aaxis": {
            "gridcolor": "white",
            "linecolor": "white",
            "ticks": ""
           },
           "baxis": {
            "gridcolor": "white",
            "linecolor": "white",
            "ticks": ""
           },
           "bgcolor": "#E5ECF6",
           "caxis": {
            "gridcolor": "white",
            "linecolor": "white",
            "ticks": ""
           }
          },
          "title": {
           "x": 0.05
          },
          "xaxis": {
           "automargin": true,
           "gridcolor": "white",
           "linecolor": "white",
           "ticks": "",
           "title": {
            "standoff": 15
           },
           "zerolinecolor": "white",
           "zerolinewidth": 2
          },
          "yaxis": {
           "automargin": true,
           "gridcolor": "white",
           "linecolor": "white",
           "ticks": "",
           "title": {
            "standoff": 15
           },
           "zerolinecolor": "white",
           "zerolinewidth": 2
          }
         }
        },
        "title": {
         "font": {
          "color": "#4D5663"
         }
        },
        "xaxis": {
         "anchor": "y",
         "domain": [
          0,
          0.2125
         ],
         "gridcolor": "#E1E5ED",
         "showgrid": false,
         "tickfont": {
          "color": "#4D5663"
         },
         "title": {
          "font": {
           "color": "#4D5663"
          },
          "text": ""
         },
         "zerolinecolor": "#E1E5ED"
        },
        "xaxis10": {
         "anchor": "y10",
         "domain": [
          0.2625,
          0.475
         ],
         "gridcolor": "#E1E5ED",
         "showgrid": false,
         "tickfont": {
          "color": "#4D5663"
         },
         "title": {
          "font": {
           "color": "#4D5663"
          },
          "text": ""
         },
         "zerolinecolor": "#E1E5ED"
        },
        "xaxis11": {
         "anchor": "y11",
         "domain": [
          0.525,
          0.7375
         ],
         "gridcolor": "#E1E5ED",
         "showgrid": false,
         "tickfont": {
          "color": "#4D5663"
         },
         "title": {
          "font": {
           "color": "#4D5663"
          },
          "text": ""
         },
         "zerolinecolor": "#E1E5ED"
        },
        "xaxis12": {
         "anchor": "y12",
         "domain": [
          0.7875,
          1
         ],
         "gridcolor": "#E1E5ED",
         "showgrid": false,
         "tickfont": {
          "color": "#4D5663"
         },
         "title": {
          "font": {
           "color": "#4D5663"
          },
          "text": ""
         },
         "zerolinecolor": "#E1E5ED"
        },
        "xaxis13": {
         "anchor": "y13",
         "domain": [
          0,
          0.2125
         ],
         "gridcolor": "#E1E5ED",
         "showgrid": false,
         "tickfont": {
          "color": "#4D5663"
         },
         "title": {
          "font": {
           "color": "#4D5663"
          },
          "text": ""
         },
         "zerolinecolor": "#E1E5ED"
        },
        "xaxis14": {
         "anchor": "y14",
         "domain": [
          0.2625,
          0.475
         ],
         "gridcolor": "#E1E5ED",
         "showgrid": false,
         "tickfont": {
          "color": "#4D5663"
         },
         "title": {
          "font": {
           "color": "#4D5663"
          },
          "text": ""
         },
         "zerolinecolor": "#E1E5ED"
        },
        "xaxis15": {
         "anchor": "y15",
         "domain": [
          0.525,
          0.7375
         ],
         "gridcolor": "#E1E5ED",
         "showgrid": false,
         "tickfont": {
          "color": "#4D5663"
         },
         "title": {
          "font": {
           "color": "#4D5663"
          },
          "text": ""
         },
         "zerolinecolor": "#E1E5ED"
        },
        "xaxis16": {
         "anchor": "y16",
         "domain": [
          0.7875,
          1
         ],
         "gridcolor": "#E1E5ED",
         "showgrid": false,
         "tickfont": {
          "color": "#4D5663"
         },
         "title": {
          "font": {
           "color": "#4D5663"
          },
          "text": ""
         },
         "zerolinecolor": "#E1E5ED"
        },
        "xaxis2": {
         "anchor": "y2",
         "domain": [
          0.2625,
          0.475
         ],
         "gridcolor": "#E1E5ED",
         "showgrid": false,
         "tickfont": {
          "color": "#4D5663"
         },
         "title": {
          "font": {
           "color": "#4D5663"
          },
          "text": ""
         },
         "zerolinecolor": "#E1E5ED"
        },
        "xaxis3": {
         "anchor": "y3",
         "domain": [
          0.525,
          0.7375
         ],
         "gridcolor": "#E1E5ED",
         "showgrid": false,
         "tickfont": {
          "color": "#4D5663"
         },
         "title": {
          "font": {
           "color": "#4D5663"
          },
          "text": ""
         },
         "zerolinecolor": "#E1E5ED"
        },
        "xaxis4": {
         "anchor": "y4",
         "domain": [
          0.7875,
          1
         ],
         "gridcolor": "#E1E5ED",
         "showgrid": false,
         "tickfont": {
          "color": "#4D5663"
         },
         "title": {
          "font": {
           "color": "#4D5663"
          },
          "text": ""
         },
         "zerolinecolor": "#E1E5ED"
        },
        "xaxis5": {
         "anchor": "y5",
         "domain": [
          0,
          0.2125
         ],
         "gridcolor": "#E1E5ED",
         "showgrid": false,
         "tickfont": {
          "color": "#4D5663"
         },
         "title": {
          "font": {
           "color": "#4D5663"
          },
          "text": ""
         },
         "zerolinecolor": "#E1E5ED"
        },
        "xaxis6": {
         "anchor": "y6",
         "domain": [
          0.2625,
          0.475
         ],
         "gridcolor": "#E1E5ED",
         "showgrid": false,
         "tickfont": {
          "color": "#4D5663"
         },
         "title": {
          "font": {
           "color": "#4D5663"
          },
          "text": ""
         },
         "zerolinecolor": "#E1E5ED"
        },
        "xaxis7": {
         "anchor": "y7",
         "domain": [
          0.525,
          0.7375
         ],
         "gridcolor": "#E1E5ED",
         "showgrid": false,
         "tickfont": {
          "color": "#4D5663"
         },
         "title": {
          "font": {
           "color": "#4D5663"
          },
          "text": ""
         },
         "zerolinecolor": "#E1E5ED"
        },
        "xaxis8": {
         "anchor": "y8",
         "domain": [
          0.7875,
          1
         ],
         "gridcolor": "#E1E5ED",
         "showgrid": false,
         "tickfont": {
          "color": "#4D5663"
         },
         "title": {
          "font": {
           "color": "#4D5663"
          },
          "text": ""
         },
         "zerolinecolor": "#E1E5ED"
        },
        "xaxis9": {
         "anchor": "y9",
         "domain": [
          0,
          0.2125
         ],
         "gridcolor": "#E1E5ED",
         "showgrid": false,
         "tickfont": {
          "color": "#4D5663"
         },
         "title": {
          "font": {
           "color": "#4D5663"
          },
          "text": ""
         },
         "zerolinecolor": "#E1E5ED"
        },
        "yaxis": {
         "anchor": "x",
         "domain": [
          0.8025,
          1
         ],
         "gridcolor": "#E1E5ED",
         "showgrid": false,
         "tickfont": {
          "color": "#4D5663"
         },
         "title": {
          "font": {
           "color": "#4D5663"
          },
          "text": ""
         },
         "zerolinecolor": "#E1E5ED"
        },
        "yaxis10": {
         "anchor": "x10",
         "domain": [
          0.2675,
          0.465
         ],
         "gridcolor": "#E1E5ED",
         "showgrid": false,
         "tickfont": {
          "color": "#4D5663"
         },
         "title": {
          "font": {
           "color": "#4D5663"
          },
          "text": ""
         },
         "zerolinecolor": "#E1E5ED"
        },
        "yaxis11": {
         "anchor": "x11",
         "domain": [
          0.2675,
          0.465
         ],
         "gridcolor": "#E1E5ED",
         "showgrid": false,
         "tickfont": {
          "color": "#4D5663"
         },
         "title": {
          "font": {
           "color": "#4D5663"
          },
          "text": ""
         },
         "zerolinecolor": "#E1E5ED"
        },
        "yaxis12": {
         "anchor": "x12",
         "domain": [
          0.2675,
          0.465
         ],
         "gridcolor": "#E1E5ED",
         "showgrid": false,
         "tickfont": {
          "color": "#4D5663"
         },
         "title": {
          "font": {
           "color": "#4D5663"
          },
          "text": ""
         },
         "zerolinecolor": "#E1E5ED"
        },
        "yaxis13": {
         "anchor": "x13",
         "domain": [
          0,
          0.1975
         ],
         "gridcolor": "#E1E5ED",
         "showgrid": false,
         "tickfont": {
          "color": "#4D5663"
         },
         "title": {
          "font": {
           "color": "#4D5663"
          },
          "text": ""
         },
         "zerolinecolor": "#E1E5ED"
        },
        "yaxis14": {
         "anchor": "x14",
         "domain": [
          0,
          0.1975
         ],
         "gridcolor": "#E1E5ED",
         "showgrid": false,
         "tickfont": {
          "color": "#4D5663"
         },
         "title": {
          "font": {
           "color": "#4D5663"
          },
          "text": ""
         },
         "zerolinecolor": "#E1E5ED"
        },
        "yaxis15": {
         "anchor": "x15",
         "domain": [
          0,
          0.1975
         ],
         "gridcolor": "#E1E5ED",
         "showgrid": false,
         "tickfont": {
          "color": "#4D5663"
         },
         "title": {
          "font": {
           "color": "#4D5663"
          },
          "text": ""
         },
         "zerolinecolor": "#E1E5ED"
        },
        "yaxis16": {
         "anchor": "x16",
         "domain": [
          0,
          0.1975
         ],
         "gridcolor": "#E1E5ED",
         "showgrid": false,
         "tickfont": {
          "color": "#4D5663"
         },
         "title": {
          "font": {
           "color": "#4D5663"
          },
          "text": ""
         },
         "zerolinecolor": "#E1E5ED"
        },
        "yaxis2": {
         "anchor": "x2",
         "domain": [
          0.8025,
          1
         ],
         "gridcolor": "#E1E5ED",
         "showgrid": false,
         "tickfont": {
          "color": "#4D5663"
         },
         "title": {
          "font": {
           "color": "#4D5663"
          },
          "text": ""
         },
         "zerolinecolor": "#E1E5ED"
        },
        "yaxis3": {
         "anchor": "x3",
         "domain": [
          0.8025,
          1
         ],
         "gridcolor": "#E1E5ED",
         "showgrid": false,
         "tickfont": {
          "color": "#4D5663"
         },
         "title": {
          "font": {
           "color": "#4D5663"
          },
          "text": ""
         },
         "zerolinecolor": "#E1E5ED"
        },
        "yaxis4": {
         "anchor": "x4",
         "domain": [
          0.8025,
          1
         ],
         "gridcolor": "#E1E5ED",
         "showgrid": false,
         "tickfont": {
          "color": "#4D5663"
         },
         "title": {
          "font": {
           "color": "#4D5663"
          },
          "text": ""
         },
         "zerolinecolor": "#E1E5ED"
        },
        "yaxis5": {
         "anchor": "x5",
         "domain": [
          0.535,
          0.7325
         ],
         "gridcolor": "#E1E5ED",
         "showgrid": false,
         "tickfont": {
          "color": "#4D5663"
         },
         "title": {
          "font": {
           "color": "#4D5663"
          },
          "text": ""
         },
         "zerolinecolor": "#E1E5ED"
        },
        "yaxis6": {
         "anchor": "x6",
         "domain": [
          0.535,
          0.7325
         ],
         "gridcolor": "#E1E5ED",
         "showgrid": false,
         "tickfont": {
          "color": "#4D5663"
         },
         "title": {
          "font": {
           "color": "#4D5663"
          },
          "text": ""
         },
         "zerolinecolor": "#E1E5ED"
        },
        "yaxis7": {
         "anchor": "x7",
         "domain": [
          0.535,
          0.7325
         ],
         "gridcolor": "#E1E5ED",
         "showgrid": false,
         "tickfont": {
          "color": "#4D5663"
         },
         "title": {
          "font": {
           "color": "#4D5663"
          },
          "text": ""
         },
         "zerolinecolor": "#E1E5ED"
        },
        "yaxis8": {
         "anchor": "x8",
         "domain": [
          0.535,
          0.7325
         ],
         "gridcolor": "#E1E5ED",
         "showgrid": false,
         "tickfont": {
          "color": "#4D5663"
         },
         "title": {
          "font": {
           "color": "#4D5663"
          },
          "text": ""
         },
         "zerolinecolor": "#E1E5ED"
        },
        "yaxis9": {
         "anchor": "x9",
         "domain": [
          0.2675,
          0.465
         ],
         "gridcolor": "#E1E5ED",
         "showgrid": false,
         "tickfont": {
          "color": "#4D5663"
         },
         "title": {
          "font": {
           "color": "#4D5663"
          },
          "text": ""
         },
         "zerolinecolor": "#E1E5ED"
        }
       }
      },
      "text/html": [
       "<div>                            <div id=\"20bb3475-5cf1-4d8b-a3e2-53354d242036\" class=\"plotly-graph-div\" style=\"height:525px; width:100%;\"></div>            <script type=\"text/javascript\">                require([\"plotly\"], function(Plotly) {                    window.PLOTLYENV=window.PLOTLYENV || {};\n",
       "                    window.PLOTLYENV.BASE_URL='https://plot.ly';                                    if (document.getElementById(\"20bb3475-5cf1-4d8b-a3e2-53354d242036\")) {                    Plotly.newPlot(                        \"20bb3475-5cf1-4d8b-a3e2-53354d242036\",                        [{\"histfunc\": \"count\", \"histnorm\": \"\", \"marker\": {\"color\": \"rgba(255, 153, 51, 1.0)\", \"line\": {\"color\": \"#4D5663\", \"width\": 1.3}}, \"name\": \"A\", \"nbinsx\": 10, \"opacity\": 0.8, \"orientation\": \"v\", \"type\": \"histogram\", \"x\": [-1.0401294919952173, 0.7540837883764145, 0.4754525425630791, -0.6748870908287362, -0.5028681633354075, -1.545115592118102, 0.4385873914218319, -0.7448993761396681, -2.272601378304192, 2.348290149001387, -1.022242282050554, 0.8280023223996548, 0.07873141198557396, 0.3087675608543512, 1.0224283350187533, 0.030720145282387472, -0.2119176158627523, -0.01599653212318083, -0.3913616364448441, -1.5795751106802804, 1.1468288620565958, 0.4973159033981794, -1.9013472528155446, -0.5322510410406922, 0.4354083236982135, -0.8389836603309918, 0.63250625191439, 0.8020108286089704, 0.1680001474329182, -0.03635115506012781, 0.7159382576697422, 0.5170952942994798, -0.4208887962003864, -0.852854444728073, 0.03488494145210682, 0.8707420113945227, -0.8621551581638811, 0.34881145129166286, 1.246164830050418, -0.4040670984432969, -0.16999960651721618, 0.7702826270683759, -1.2465484743701372, 1.0235240301432829, -0.9827310746533008, -1.3685359084453448, -1.555762514576057, -0.310412608073586, 0.42784058214450094, 0.7393591528414503, -0.17894082395310795, 0.6490665839701796, -1.7845153300317413, 0.5660054718136256, 0.17895378642966125, 0.028668596465502034, 1.0984437009662795, 1.0455101311924233, -0.07431303549503826, -0.012992158379034034, -0.1995304624066606, -0.2089848698983806, 0.19457954135750175, 1.3084467308939345, 0.5846810561081601, -1.8397556931868735, -0.4890604222210714, -0.18499169606906368, -0.2973274305624725, -0.37909874978065117, 1.4957987559756598, -0.6159986573181273, -0.24547663960831673, 0.8259588546671423, 0.2320018286227506, 1.3860756506482823, -2.2969088365772, 0.24270405862187572, -1.1735508353664528, -1.0854695474455966, 0.4117828045133673, 0.6980938976610915, -0.27703893620018377, 0.44158644700903005, 2.315900696039003, 1.4760766316818896, 0.6430545479341668, -0.5639279890784357, -1.200084558711711, -0.399970533777103, -0.48409637049958826, -0.11350869752556553, -0.5766176383523768, -0.2656149677596483, 1.0680910339652843, -0.07807128816360841, -0.487754719734934, 0.7330459724530421, -1.9161367158436546, 1.6667640983996523], \"xaxis\": \"x\", \"yaxis\": \"y\"}, {\"line\": {\"color\": \"rgba(128, 128, 128, 1.0)\", \"dash\": \"solid\", \"shape\": \"linear\", \"width\": 1.3}, \"marker\": {\"size\": 2, \"symbol\": \"circle\"}, \"mode\": \"markers\", \"name\": \"A\", \"text\": \"\", \"type\": \"scatter\", \"x\": [-0.28983263678314597, -0.8169479361435581, -0.10148378188004077, -0.748494262256059, -0.5582652244502774, -0.36037903955588957, 1.149895074698171, 0.7016714440003219, -0.6863796647750956, 1.3173593602387879, 0.4866044910224147, -0.4653742100271251, -0.529699977871896, -0.40869937377654775, -2.5486499754974177, -0.9708773273169615, 2.211548076913994, 1.7765620092543595, -1.626097838237145, 0.6692050254926118, -0.28721583356763475, 0.302370011128094, 0.2669949468236153, -0.38319982574182027, 0.42646825629144214, -0.973178217530246, -0.8943184281411931, -0.21444633380224432, -1.4671503193874726, 0.006132854065390305, -1.0220666887123597, 1.643679383050032, 0.8488020578950584, 0.3410977483909045, 0.7690744664331666, 0.47223610763359697, 0.9454017733692817, 0.4347132784174497, 0.4132931203526399, -0.7549841153565662, -0.583277796242386, -0.4547913169903659, -1.909722692901202, 0.8602880805375047, 1.2668509733843005, 0.38921315419857755, -1.3058390007042817, 0.0560880420088437, -0.7611504778718097, 0.22427842178547364, 0.6393896711477389, -0.23361690153326356, -1.0582332446307636, -0.2825496147287078, -0.24937584295088627, 1.364049630086341, 0.44841212493836835, 0.7502743814027157, 0.4632782338732586, -0.2081764792567062, -1.001357325235659, 0.9907842309268651, 1.5148089221476722, 0.09189998885551912, -0.14822349816325553, -2.130692330840538, -0.5431104712437145, -2.3513178539124264, 0.03760037350303423, 2.5321954035573055, -0.8608566121890182, -0.8769362278876279, 1.4037734093709349, 0.32147341252819217, 1.6447883170195194, -1.2543325345516667, 1.6138535011035184, 0.14627716689842465, -2.783897219711481, 0.7129828324340545, -1.127320315035124, 0.172624432355655, 1.4667699454462124, -0.06254038227601047, 1.065437358461133, -1.4383208553553297, -1.880693547475329, -0.277768247581571, -0.17205887198272193, -0.03581563684461571, 0.8717079352780598, -0.5885613208085732, -0.9489155164081639, -1.17905984924152, 0.13361371606619776, 0.9991281270155986, 0.5770007730157847, -0.5925585897114811, -0.5497414754879314, -0.7332407145505224], \"xaxis\": \"x2\", \"y\": [-1.0401294919952173, 0.7540837883764145, 0.4754525425630791, -0.6748870908287362, -0.5028681633354075, -1.545115592118102, 0.4385873914218319, -0.7448993761396681, -2.272601378304192, 2.348290149001387, -1.022242282050554, 0.8280023223996548, 0.07873141198557396, 0.3087675608543512, 1.0224283350187533, 0.030720145282387472, -0.2119176158627523, -0.01599653212318083, -0.3913616364448441, -1.5795751106802804, 1.1468288620565958, 0.4973159033981794, -1.9013472528155446, -0.5322510410406922, 0.4354083236982135, -0.8389836603309918, 0.63250625191439, 0.8020108286089704, 0.1680001474329182, -0.03635115506012781, 0.7159382576697422, 0.5170952942994798, -0.4208887962003864, -0.852854444728073, 0.03488494145210682, 0.8707420113945227, -0.8621551581638811, 0.34881145129166286, 1.246164830050418, -0.4040670984432969, -0.16999960651721618, 0.7702826270683759, -1.2465484743701372, 1.0235240301432829, -0.9827310746533008, -1.3685359084453448, -1.555762514576057, -0.310412608073586, 0.42784058214450094, 0.7393591528414503, -0.17894082395310795, 0.6490665839701796, -1.7845153300317413, 0.5660054718136256, 0.17895378642966125, 0.028668596465502034, 1.0984437009662795, 1.0455101311924233, -0.07431303549503826, -0.012992158379034034, -0.1995304624066606, -0.2089848698983806, 0.19457954135750175, 1.3084467308939345, 0.5846810561081601, -1.8397556931868735, -0.4890604222210714, -0.18499169606906368, -0.2973274305624725, -0.37909874978065117, 1.4957987559756598, -0.6159986573181273, -0.24547663960831673, 0.8259588546671423, 0.2320018286227506, 1.3860756506482823, -2.2969088365772, 0.24270405862187572, -1.1735508353664528, -1.0854695474455966, 0.4117828045133673, 0.6980938976610915, -0.27703893620018377, 0.44158644700903005, 2.315900696039003, 1.4760766316818896, 0.6430545479341668, -0.5639279890784357, -1.200084558711711, -0.399970533777103, -0.48409637049958826, -0.11350869752556553, -0.5766176383523768, -0.2656149677596483, 1.0680910339652843, -0.07807128816360841, -0.487754719734934, 0.7330459724530421, -1.9161367158436546, 1.6667640983996523], \"yaxis\": \"y2\"}, {\"line\": {\"color\": \"rgba(128, 128, 128, 1.0)\", \"dash\": \"solid\", \"shape\": \"linear\", \"width\": 1.3}, \"marker\": {\"size\": 2, \"symbol\": \"circle\"}, \"mode\": \"markers\", \"name\": \"A\", \"text\": \"\", \"type\": \"scatter\", \"x\": [-0.39449112315210116, -1.1212484928116981, -0.11511045548335645, -0.9691200961435577, 0.0026646785481831783, 0.7775350927810528, -0.141799214164426, 0.06251552959152215, -0.9123240764464698, -1.32049226673257, 1.0209834505535818, 0.03353814444706474, -0.36263317862899097, 1.0799029133101594, 0.5488355449715403, -0.17780741430264266, -1.0005066291642464, 0.8442796504148201, -0.018769824139416632, -0.3278303212245403, 2.326656055647813, 2.077836072423538, 1.1868809960490683, -0.2995962917918889, -1.101428111034344, 0.6552933094637778, -0.7342775081334816, -0.02113882570913636, -0.9316840641457759, -1.1127466219103468, 0.22394846819848918, 0.7672173579994838, 0.259175286242782, 0.06508815772497668, 1.8421935174451778, -0.14044157442108454, 0.9860580470835705, 0.5396083363412992, -0.11594466300963847, 0.008806974202786672, -0.4639502774848081, 0.3330017110579172, 0.575634178744929, -0.18843324872121228, 0.0972865835770349, -1.423273354054789, 1.7300041547046228, 0.08354131107304794, 1.4660575943308496, 0.2852846080560252, -0.20729929946952697, -0.32676068868360525, -0.34143606274468435, 0.16662155629698341, -1.1770475697217184, -1.415856081362965, -0.9790861331727484, 0.2982736361374957, -0.7433120170324022, -0.369887690278907, 0.1405008326830257, 0.1506898356699573, 0.2612834210213473, -0.3953507547051282, 0.9195183947399077, -0.14856546169910426, 0.18142473356123331, 1.7114488494449998, 1.031711620401327, -2.0941516407574805, -0.08648071156833642, 0.5522774286261719, -0.008753649549855615, -0.6887924719487085, -0.4886046230152795, 0.28965280886014344, 0.31086680716582016, -0.628950032088841, -2.9035410364377405, 0.560549127072546, -1.0207551111513908, -0.5992630633903885, 1.7104838526248434, -0.18265339812095063, 0.827355988262312, 0.6051388640212662, 0.08601510364835871, 0.8737957711827707, 0.7340467938178823, 0.929733671714851, -0.34383580958552656, -0.4331014517501853, 0.36818604095503965, -0.758738373118303, 0.1847171187438878, 0.06493816718688149, 0.2065681403828763, -2.4092025245809605, 0.5501799473388332, 0.25260773029084094], \"xaxis\": \"x3\", \"y\": [-1.0401294919952173, 0.7540837883764145, 0.4754525425630791, -0.6748870908287362, -0.5028681633354075, -1.545115592118102, 0.4385873914218319, -0.7448993761396681, -2.272601378304192, 2.348290149001387, -1.022242282050554, 0.8280023223996548, 0.07873141198557396, 0.3087675608543512, 1.0224283350187533, 0.030720145282387472, -0.2119176158627523, -0.01599653212318083, -0.3913616364448441, -1.5795751106802804, 1.1468288620565958, 0.4973159033981794, -1.9013472528155446, -0.5322510410406922, 0.4354083236982135, -0.8389836603309918, 0.63250625191439, 0.8020108286089704, 0.1680001474329182, -0.03635115506012781, 0.7159382576697422, 0.5170952942994798, -0.4208887962003864, -0.852854444728073, 0.03488494145210682, 0.8707420113945227, -0.8621551581638811, 0.34881145129166286, 1.246164830050418, -0.4040670984432969, -0.16999960651721618, 0.7702826270683759, -1.2465484743701372, 1.0235240301432829, -0.9827310746533008, -1.3685359084453448, -1.555762514576057, -0.310412608073586, 0.42784058214450094, 0.7393591528414503, -0.17894082395310795, 0.6490665839701796, -1.7845153300317413, 0.5660054718136256, 0.17895378642966125, 0.028668596465502034, 1.0984437009662795, 1.0455101311924233, -0.07431303549503826, -0.012992158379034034, -0.1995304624066606, -0.2089848698983806, 0.19457954135750175, 1.3084467308939345, 0.5846810561081601, -1.8397556931868735, -0.4890604222210714, -0.18499169606906368, -0.2973274305624725, -0.37909874978065117, 1.4957987559756598, -0.6159986573181273, -0.24547663960831673, 0.8259588546671423, 0.2320018286227506, 1.3860756506482823, -2.2969088365772, 0.24270405862187572, -1.1735508353664528, -1.0854695474455966, 0.4117828045133673, 0.6980938976610915, -0.27703893620018377, 0.44158644700903005, 2.315900696039003, 1.4760766316818896, 0.6430545479341668, -0.5639279890784357, -1.200084558711711, -0.399970533777103, -0.48409637049958826, -0.11350869752556553, -0.5766176383523768, -0.2656149677596483, 1.0680910339652843, -0.07807128816360841, -0.487754719734934, 0.7330459724530421, -1.9161367158436546, 1.6667640983996523], \"yaxis\": \"y3\"}, {\"line\": {\"color\": \"rgba(128, 128, 128, 1.0)\", \"dash\": \"solid\", \"shape\": \"linear\", \"width\": 1.3}, \"marker\": {\"size\": 2, \"symbol\": \"circle\"}, \"mode\": \"markers\", \"name\": \"A\", \"text\": \"\", \"type\": \"scatter\", \"x\": [0.8358904022127795, 2.808937900356927, -1.4991977318331835, 0.5684355313333193, 0.23310368435620082, 1.9211727389531776, 1.3886014132863176, -1.028149218163869, -0.22499831608299156, 1.1460286767393078, 0.6474369170804646, 0.0684361959164644, 1.0888890191969411, 2.672144706140232, 0.38091416707364184, -0.5367725893511329, -0.88934302250755, 0.17067528579360977, -1.0149577463785453, -0.7418628236857662, 0.25267446597065096, 0.776246117711896, 0.26606364938872534, 0.7844112864244464, -0.922500729401434, -3.404401460927005, -0.8799905245655284, -0.6944849330767167, -0.9091477770135895, -0.32269805129703116, -1.077846671397077, 0.30751181102894865, 0.7973998336086224, 0.11194544605401993, -0.984056235073791, 0.6928759146875341, 0.09604496877157467, -1.3276236679985045, -0.6844989545773975, 1.3276766939607527, -1.2641936094574768, 0.6848607679863661, -1.4183735330980474, -1.9780885884306907, -1.9984766520540924, 0.24706309852187702, -2.4913063691566655, 0.6101313058757692, 0.5671028633842811, -0.725984621748018, -0.1910221237008867, 0.7950638148371976, 0.3244501236102624, -0.5870172068519863, 1.5749500555780758, -0.6146397792740326, -0.7906886583107036, -1.7216416388805738, -0.7872797544723416, 1.5582839479482433, 0.3356465038431936, 1.020893116495629, -0.8794195588206934, 0.739897405337708, -0.5712865500341279, 0.026620420162464662, -3.0803992969578484, -0.6045396307619787, -0.29944332653536604, -0.9679134742287175, 0.1494414225483479, 0.8388028092237695, 0.9137539238276352, 1.1850378884216017, 1.2239190986789192, -0.8432264418389523, -0.2294007397181265, 0.14908569166228788, -1.2489354291913144, -1.1049828040795124, -0.07079198492568171, -1.016017122760885, 0.18190325517082614, -0.9602501474710243, -1.231123037318867, 0.4773103996861225, 0.393807305391927, 0.844880693586435, 0.5336027332339879, -1.9200840332679325, 0.7300441418197431, 1.1167520247457252, -1.2149971190830546, 0.002576909029410683, 0.8849780261407387, 1.6910902555987406, 0.8010887427706511, 0.6138885929785809, -0.3652223373885456, -0.5335245715775491], \"xaxis\": \"x4\", \"y\": [-1.0401294919952173, 0.7540837883764145, 0.4754525425630791, -0.6748870908287362, -0.5028681633354075, -1.545115592118102, 0.4385873914218319, -0.7448993761396681, -2.272601378304192, 2.348290149001387, -1.022242282050554, 0.8280023223996548, 0.07873141198557396, 0.3087675608543512, 1.0224283350187533, 0.030720145282387472, -0.2119176158627523, -0.01599653212318083, -0.3913616364448441, -1.5795751106802804, 1.1468288620565958, 0.4973159033981794, -1.9013472528155446, -0.5322510410406922, 0.4354083236982135, -0.8389836603309918, 0.63250625191439, 0.8020108286089704, 0.1680001474329182, -0.03635115506012781, 0.7159382576697422, 0.5170952942994798, -0.4208887962003864, -0.852854444728073, 0.03488494145210682, 0.8707420113945227, -0.8621551581638811, 0.34881145129166286, 1.246164830050418, -0.4040670984432969, -0.16999960651721618, 0.7702826270683759, -1.2465484743701372, 1.0235240301432829, -0.9827310746533008, -1.3685359084453448, -1.555762514576057, -0.310412608073586, 0.42784058214450094, 0.7393591528414503, -0.17894082395310795, 0.6490665839701796, -1.7845153300317413, 0.5660054718136256, 0.17895378642966125, 0.028668596465502034, 1.0984437009662795, 1.0455101311924233, -0.07431303549503826, -0.012992158379034034, -0.1995304624066606, -0.2089848698983806, 0.19457954135750175, 1.3084467308939345, 0.5846810561081601, -1.8397556931868735, -0.4890604222210714, -0.18499169606906368, -0.2973274305624725, -0.37909874978065117, 1.4957987559756598, -0.6159986573181273, -0.24547663960831673, 0.8259588546671423, 0.2320018286227506, 1.3860756506482823, -2.2969088365772, 0.24270405862187572, -1.1735508353664528, -1.0854695474455966, 0.4117828045133673, 0.6980938976610915, -0.27703893620018377, 0.44158644700903005, 2.315900696039003, 1.4760766316818896, 0.6430545479341668, -0.5639279890784357, -1.200084558711711, -0.399970533777103, -0.48409637049958826, -0.11350869752556553, -0.5766176383523768, -0.2656149677596483, 1.0680910339652843, -0.07807128816360841, -0.487754719734934, 0.7330459724530421, -1.9161367158436546, 1.6667640983996523], \"yaxis\": \"y4\"}, {\"line\": {\"color\": \"rgba(128, 128, 128, 1.0)\", \"dash\": \"solid\", \"shape\": \"linear\", \"width\": 1.3}, \"marker\": {\"size\": 2, \"symbol\": \"circle\"}, \"mode\": \"markers\", \"name\": \"B\", \"text\": \"\", \"type\": \"scatter\", \"x\": [-1.0401294919952173, 0.7540837883764145, 0.4754525425630791, -0.6748870908287362, -0.5028681633354075, -1.545115592118102, 0.4385873914218319, -0.7448993761396681, -2.272601378304192, 2.348290149001387, -1.022242282050554, 0.8280023223996548, 0.07873141198557396, 0.3087675608543512, 1.0224283350187533, 0.030720145282387472, -0.2119176158627523, -0.01599653212318083, -0.3913616364448441, -1.5795751106802804, 1.1468288620565958, 0.4973159033981794, -1.9013472528155446, -0.5322510410406922, 0.4354083236982135, -0.8389836603309918, 0.63250625191439, 0.8020108286089704, 0.1680001474329182, -0.03635115506012781, 0.7159382576697422, 0.5170952942994798, -0.4208887962003864, -0.852854444728073, 0.03488494145210682, 0.8707420113945227, -0.8621551581638811, 0.34881145129166286, 1.246164830050418, -0.4040670984432969, -0.16999960651721618, 0.7702826270683759, -1.2465484743701372, 1.0235240301432829, -0.9827310746533008, -1.3685359084453448, -1.555762514576057, -0.310412608073586, 0.42784058214450094, 0.7393591528414503, -0.17894082395310795, 0.6490665839701796, -1.7845153300317413, 0.5660054718136256, 0.17895378642966125, 0.028668596465502034, 1.0984437009662795, 1.0455101311924233, -0.07431303549503826, -0.012992158379034034, -0.1995304624066606, -0.2089848698983806, 0.19457954135750175, 1.3084467308939345, 0.5846810561081601, -1.8397556931868735, -0.4890604222210714, -0.18499169606906368, -0.2973274305624725, -0.37909874978065117, 1.4957987559756598, -0.6159986573181273, -0.24547663960831673, 0.8259588546671423, 0.2320018286227506, 1.3860756506482823, -2.2969088365772, 0.24270405862187572, -1.1735508353664528, -1.0854695474455966, 0.4117828045133673, 0.6980938976610915, -0.27703893620018377, 0.44158644700903005, 2.315900696039003, 1.4760766316818896, 0.6430545479341668, -0.5639279890784357, -1.200084558711711, -0.399970533777103, -0.48409637049958826, -0.11350869752556553, -0.5766176383523768, -0.2656149677596483, 1.0680910339652843, -0.07807128816360841, -0.487754719734934, 0.7330459724530421, -1.9161367158436546, 1.6667640983996523], \"xaxis\": \"x5\", \"y\": [-0.28983263678314597, -0.8169479361435581, -0.10148378188004077, -0.748494262256059, -0.5582652244502774, -0.36037903955588957, 1.149895074698171, 0.7016714440003219, -0.6863796647750956, 1.3173593602387879, 0.4866044910224147, -0.4653742100271251, -0.529699977871896, -0.40869937377654775, -2.5486499754974177, -0.9708773273169615, 2.211548076913994, 1.7765620092543595, -1.626097838237145, 0.6692050254926118, -0.28721583356763475, 0.302370011128094, 0.2669949468236153, -0.38319982574182027, 0.42646825629144214, -0.973178217530246, -0.8943184281411931, -0.21444633380224432, -1.4671503193874726, 0.006132854065390305, -1.0220666887123597, 1.643679383050032, 0.8488020578950584, 0.3410977483909045, 0.7690744664331666, 0.47223610763359697, 0.9454017733692817, 0.4347132784174497, 0.4132931203526399, -0.7549841153565662, -0.583277796242386, -0.4547913169903659, -1.909722692901202, 0.8602880805375047, 1.2668509733843005, 0.38921315419857755, -1.3058390007042817, 0.0560880420088437, -0.7611504778718097, 0.22427842178547364, 0.6393896711477389, -0.23361690153326356, -1.0582332446307636, -0.2825496147287078, -0.24937584295088627, 1.364049630086341, 0.44841212493836835, 0.7502743814027157, 0.4632782338732586, -0.2081764792567062, -1.001357325235659, 0.9907842309268651, 1.5148089221476722, 0.09189998885551912, -0.14822349816325553, -2.130692330840538, -0.5431104712437145, -2.3513178539124264, 0.03760037350303423, 2.5321954035573055, -0.8608566121890182, -0.8769362278876279, 1.4037734093709349, 0.32147341252819217, 1.6447883170195194, -1.2543325345516667, 1.6138535011035184, 0.14627716689842465, -2.783897219711481, 0.7129828324340545, -1.127320315035124, 0.172624432355655, 1.4667699454462124, -0.06254038227601047, 1.065437358461133, -1.4383208553553297, -1.880693547475329, -0.277768247581571, -0.17205887198272193, -0.03581563684461571, 0.8717079352780598, -0.5885613208085732, -0.9489155164081639, -1.17905984924152, 0.13361371606619776, 0.9991281270155986, 0.5770007730157847, -0.5925585897114811, -0.5497414754879314, -0.7332407145505224], \"yaxis\": \"y5\"}, {\"histfunc\": \"count\", \"histnorm\": \"\", \"marker\": {\"color\": \"rgba(55, 128, 191, 1.0)\", \"line\": {\"color\": \"#4D5663\", \"width\": 1.3}}, \"name\": \"B\", \"nbinsx\": 10, \"opacity\": 0.8, \"orientation\": \"v\", \"type\": \"histogram\", \"x\": [-0.28983263678314597, -0.8169479361435581, -0.10148378188004077, -0.748494262256059, -0.5582652244502774, -0.36037903955588957, 1.149895074698171, 0.7016714440003219, -0.6863796647750956, 1.3173593602387879, 0.4866044910224147, -0.4653742100271251, -0.529699977871896, -0.40869937377654775, -2.5486499754974177, -0.9708773273169615, 2.211548076913994, 1.7765620092543595, -1.626097838237145, 0.6692050254926118, -0.28721583356763475, 0.302370011128094, 0.2669949468236153, -0.38319982574182027, 0.42646825629144214, -0.973178217530246, -0.8943184281411931, -0.21444633380224432, -1.4671503193874726, 0.006132854065390305, -1.0220666887123597, 1.643679383050032, 0.8488020578950584, 0.3410977483909045, 0.7690744664331666, 0.47223610763359697, 0.9454017733692817, 0.4347132784174497, 0.4132931203526399, -0.7549841153565662, -0.583277796242386, -0.4547913169903659, -1.909722692901202, 0.8602880805375047, 1.2668509733843005, 0.38921315419857755, -1.3058390007042817, 0.0560880420088437, -0.7611504778718097, 0.22427842178547364, 0.6393896711477389, -0.23361690153326356, -1.0582332446307636, -0.2825496147287078, -0.24937584295088627, 1.364049630086341, 0.44841212493836835, 0.7502743814027157, 0.4632782338732586, -0.2081764792567062, -1.001357325235659, 0.9907842309268651, 1.5148089221476722, 0.09189998885551912, -0.14822349816325553, -2.130692330840538, -0.5431104712437145, -2.3513178539124264, 0.03760037350303423, 2.5321954035573055, -0.8608566121890182, -0.8769362278876279, 1.4037734093709349, 0.32147341252819217, 1.6447883170195194, -1.2543325345516667, 1.6138535011035184, 0.14627716689842465, -2.783897219711481, 0.7129828324340545, -1.127320315035124, 0.172624432355655, 1.4667699454462124, -0.06254038227601047, 1.065437358461133, -1.4383208553553297, -1.880693547475329, -0.277768247581571, -0.17205887198272193, -0.03581563684461571, 0.8717079352780598, -0.5885613208085732, -0.9489155164081639, -1.17905984924152, 0.13361371606619776, 0.9991281270155986, 0.5770007730157847, -0.5925585897114811, -0.5497414754879314, -0.7332407145505224], \"xaxis\": \"x6\", \"yaxis\": \"y6\"}, {\"line\": {\"color\": \"rgba(128, 128, 128, 1.0)\", \"dash\": \"solid\", \"shape\": \"linear\", \"width\": 1.3}, \"marker\": {\"size\": 2, \"symbol\": \"circle\"}, \"mode\": \"markers\", \"name\": \"B\", \"text\": \"\", \"type\": \"scatter\", \"x\": [-0.39449112315210116, -1.1212484928116981, -0.11511045548335645, -0.9691200961435577, 0.0026646785481831783, 0.7775350927810528, -0.141799214164426, 0.06251552959152215, -0.9123240764464698, -1.32049226673257, 1.0209834505535818, 0.03353814444706474, -0.36263317862899097, 1.0799029133101594, 0.5488355449715403, -0.17780741430264266, -1.0005066291642464, 0.8442796504148201, -0.018769824139416632, -0.3278303212245403, 2.326656055647813, 2.077836072423538, 1.1868809960490683, -0.2995962917918889, -1.101428111034344, 0.6552933094637778, -0.7342775081334816, -0.02113882570913636, -0.9316840641457759, -1.1127466219103468, 0.22394846819848918, 0.7672173579994838, 0.259175286242782, 0.06508815772497668, 1.8421935174451778, -0.14044157442108454, 0.9860580470835705, 0.5396083363412992, -0.11594466300963847, 0.008806974202786672, -0.4639502774848081, 0.3330017110579172, 0.575634178744929, -0.18843324872121228, 0.0972865835770349, -1.423273354054789, 1.7300041547046228, 0.08354131107304794, 1.4660575943308496, 0.2852846080560252, -0.20729929946952697, -0.32676068868360525, -0.34143606274468435, 0.16662155629698341, -1.1770475697217184, -1.415856081362965, -0.9790861331727484, 0.2982736361374957, -0.7433120170324022, -0.369887690278907, 0.1405008326830257, 0.1506898356699573, 0.2612834210213473, -0.3953507547051282, 0.9195183947399077, -0.14856546169910426, 0.18142473356123331, 1.7114488494449998, 1.031711620401327, -2.0941516407574805, -0.08648071156833642, 0.5522774286261719, -0.008753649549855615, -0.6887924719487085, -0.4886046230152795, 0.28965280886014344, 0.31086680716582016, -0.628950032088841, -2.9035410364377405, 0.560549127072546, -1.0207551111513908, -0.5992630633903885, 1.7104838526248434, -0.18265339812095063, 0.827355988262312, 0.6051388640212662, 0.08601510364835871, 0.8737957711827707, 0.7340467938178823, 0.929733671714851, -0.34383580958552656, -0.4331014517501853, 0.36818604095503965, -0.758738373118303, 0.1847171187438878, 0.06493816718688149, 0.2065681403828763, -2.4092025245809605, 0.5501799473388332, 0.25260773029084094], \"xaxis\": \"x7\", \"y\": [-0.28983263678314597, -0.8169479361435581, -0.10148378188004077, -0.748494262256059, -0.5582652244502774, -0.36037903955588957, 1.149895074698171, 0.7016714440003219, -0.6863796647750956, 1.3173593602387879, 0.4866044910224147, -0.4653742100271251, -0.529699977871896, -0.40869937377654775, -2.5486499754974177, -0.9708773273169615, 2.211548076913994, 1.7765620092543595, -1.626097838237145, 0.6692050254926118, -0.28721583356763475, 0.302370011128094, 0.2669949468236153, -0.38319982574182027, 0.42646825629144214, -0.973178217530246, -0.8943184281411931, -0.21444633380224432, -1.4671503193874726, 0.006132854065390305, -1.0220666887123597, 1.643679383050032, 0.8488020578950584, 0.3410977483909045, 0.7690744664331666, 0.47223610763359697, 0.9454017733692817, 0.4347132784174497, 0.4132931203526399, -0.7549841153565662, -0.583277796242386, -0.4547913169903659, -1.909722692901202, 0.8602880805375047, 1.2668509733843005, 0.38921315419857755, -1.3058390007042817, 0.0560880420088437, -0.7611504778718097, 0.22427842178547364, 0.6393896711477389, -0.23361690153326356, -1.0582332446307636, -0.2825496147287078, -0.24937584295088627, 1.364049630086341, 0.44841212493836835, 0.7502743814027157, 0.4632782338732586, -0.2081764792567062, -1.001357325235659, 0.9907842309268651, 1.5148089221476722, 0.09189998885551912, -0.14822349816325553, -2.130692330840538, -0.5431104712437145, -2.3513178539124264, 0.03760037350303423, 2.5321954035573055, -0.8608566121890182, -0.8769362278876279, 1.4037734093709349, 0.32147341252819217, 1.6447883170195194, -1.2543325345516667, 1.6138535011035184, 0.14627716689842465, -2.783897219711481, 0.7129828324340545, -1.127320315035124, 0.172624432355655, 1.4667699454462124, -0.06254038227601047, 1.065437358461133, -1.4383208553553297, -1.880693547475329, -0.277768247581571, -0.17205887198272193, -0.03581563684461571, 0.8717079352780598, -0.5885613208085732, -0.9489155164081639, -1.17905984924152, 0.13361371606619776, 0.9991281270155986, 0.5770007730157847, -0.5925585897114811, -0.5497414754879314, -0.7332407145505224], \"yaxis\": \"y7\"}, {\"line\": {\"color\": \"rgba(128, 128, 128, 1.0)\", \"dash\": \"solid\", \"shape\": \"linear\", \"width\": 1.3}, \"marker\": {\"size\": 2, \"symbol\": \"circle\"}, \"mode\": \"markers\", \"name\": \"B\", \"text\": \"\", \"type\": \"scatter\", \"x\": [0.8358904022127795, 2.808937900356927, -1.4991977318331835, 0.5684355313333193, 0.23310368435620082, 1.9211727389531776, 1.3886014132863176, -1.028149218163869, -0.22499831608299156, 1.1460286767393078, 0.6474369170804646, 0.0684361959164644, 1.0888890191969411, 2.672144706140232, 0.38091416707364184, -0.5367725893511329, -0.88934302250755, 0.17067528579360977, -1.0149577463785453, -0.7418628236857662, 0.25267446597065096, 0.776246117711896, 0.26606364938872534, 0.7844112864244464, -0.922500729401434, -3.404401460927005, -0.8799905245655284, -0.6944849330767167, -0.9091477770135895, -0.32269805129703116, -1.077846671397077, 0.30751181102894865, 0.7973998336086224, 0.11194544605401993, -0.984056235073791, 0.6928759146875341, 0.09604496877157467, -1.3276236679985045, -0.6844989545773975, 1.3276766939607527, -1.2641936094574768, 0.6848607679863661, -1.4183735330980474, -1.9780885884306907, -1.9984766520540924, 0.24706309852187702, -2.4913063691566655, 0.6101313058757692, 0.5671028633842811, -0.725984621748018, -0.1910221237008867, 0.7950638148371976, 0.3244501236102624, -0.5870172068519863, 1.5749500555780758, -0.6146397792740326, -0.7906886583107036, -1.7216416388805738, -0.7872797544723416, 1.5582839479482433, 0.3356465038431936, 1.020893116495629, -0.8794195588206934, 0.739897405337708, -0.5712865500341279, 0.026620420162464662, -3.0803992969578484, -0.6045396307619787, -0.29944332653536604, -0.9679134742287175, 0.1494414225483479, 0.8388028092237695, 0.9137539238276352, 1.1850378884216017, 1.2239190986789192, -0.8432264418389523, -0.2294007397181265, 0.14908569166228788, -1.2489354291913144, -1.1049828040795124, -0.07079198492568171, -1.016017122760885, 0.18190325517082614, -0.9602501474710243, -1.231123037318867, 0.4773103996861225, 0.393807305391927, 0.844880693586435, 0.5336027332339879, -1.9200840332679325, 0.7300441418197431, 1.1167520247457252, -1.2149971190830546, 0.002576909029410683, 0.8849780261407387, 1.6910902555987406, 0.8010887427706511, 0.6138885929785809, -0.3652223373885456, -0.5335245715775491], \"xaxis\": \"x8\", \"y\": [-0.28983263678314597, -0.8169479361435581, -0.10148378188004077, -0.748494262256059, -0.5582652244502774, -0.36037903955588957, 1.149895074698171, 0.7016714440003219, -0.6863796647750956, 1.3173593602387879, 0.4866044910224147, -0.4653742100271251, -0.529699977871896, -0.40869937377654775, -2.5486499754974177, -0.9708773273169615, 2.211548076913994, 1.7765620092543595, -1.626097838237145, 0.6692050254926118, -0.28721583356763475, 0.302370011128094, 0.2669949468236153, -0.38319982574182027, 0.42646825629144214, -0.973178217530246, -0.8943184281411931, -0.21444633380224432, -1.4671503193874726, 0.006132854065390305, -1.0220666887123597, 1.643679383050032, 0.8488020578950584, 0.3410977483909045, 0.7690744664331666, 0.47223610763359697, 0.9454017733692817, 0.4347132784174497, 0.4132931203526399, -0.7549841153565662, -0.583277796242386, -0.4547913169903659, -1.909722692901202, 0.8602880805375047, 1.2668509733843005, 0.38921315419857755, -1.3058390007042817, 0.0560880420088437, -0.7611504778718097, 0.22427842178547364, 0.6393896711477389, -0.23361690153326356, -1.0582332446307636, -0.2825496147287078, -0.24937584295088627, 1.364049630086341, 0.44841212493836835, 0.7502743814027157, 0.4632782338732586, -0.2081764792567062, -1.001357325235659, 0.9907842309268651, 1.5148089221476722, 0.09189998885551912, -0.14822349816325553, -2.130692330840538, -0.5431104712437145, -2.3513178539124264, 0.03760037350303423, 2.5321954035573055, -0.8608566121890182, -0.8769362278876279, 1.4037734093709349, 0.32147341252819217, 1.6447883170195194, -1.2543325345516667, 1.6138535011035184, 0.14627716689842465, -2.783897219711481, 0.7129828324340545, -1.127320315035124, 0.172624432355655, 1.4667699454462124, -0.06254038227601047, 1.065437358461133, -1.4383208553553297, -1.880693547475329, -0.277768247581571, -0.17205887198272193, -0.03581563684461571, 0.8717079352780598, -0.5885613208085732, -0.9489155164081639, -1.17905984924152, 0.13361371606619776, 0.9991281270155986, 0.5770007730157847, -0.5925585897114811, -0.5497414754879314, -0.7332407145505224], \"yaxis\": \"y8\"}, {\"line\": {\"color\": \"rgba(128, 128, 128, 1.0)\", \"dash\": \"solid\", \"shape\": \"linear\", \"width\": 1.3}, \"marker\": {\"size\": 2, \"symbol\": \"circle\"}, \"mode\": \"markers\", \"name\": \"C\", \"text\": \"\", \"type\": \"scatter\", \"x\": [-1.0401294919952173, 0.7540837883764145, 0.4754525425630791, -0.6748870908287362, -0.5028681633354075, -1.545115592118102, 0.4385873914218319, -0.7448993761396681, -2.272601378304192, 2.348290149001387, -1.022242282050554, 0.8280023223996548, 0.07873141198557396, 0.3087675608543512, 1.0224283350187533, 0.030720145282387472, -0.2119176158627523, -0.01599653212318083, -0.3913616364448441, -1.5795751106802804, 1.1468288620565958, 0.4973159033981794, -1.9013472528155446, -0.5322510410406922, 0.4354083236982135, -0.8389836603309918, 0.63250625191439, 0.8020108286089704, 0.1680001474329182, -0.03635115506012781, 0.7159382576697422, 0.5170952942994798, -0.4208887962003864, -0.852854444728073, 0.03488494145210682, 0.8707420113945227, -0.8621551581638811, 0.34881145129166286, 1.246164830050418, -0.4040670984432969, -0.16999960651721618, 0.7702826270683759, -1.2465484743701372, 1.0235240301432829, -0.9827310746533008, -1.3685359084453448, -1.555762514576057, -0.310412608073586, 0.42784058214450094, 0.7393591528414503, -0.17894082395310795, 0.6490665839701796, -1.7845153300317413, 0.5660054718136256, 0.17895378642966125, 0.028668596465502034, 1.0984437009662795, 1.0455101311924233, -0.07431303549503826, -0.012992158379034034, -0.1995304624066606, -0.2089848698983806, 0.19457954135750175, 1.3084467308939345, 0.5846810561081601, -1.8397556931868735, -0.4890604222210714, -0.18499169606906368, -0.2973274305624725, -0.37909874978065117, 1.4957987559756598, -0.6159986573181273, -0.24547663960831673, 0.8259588546671423, 0.2320018286227506, 1.3860756506482823, -2.2969088365772, 0.24270405862187572, -1.1735508353664528, -1.0854695474455966, 0.4117828045133673, 0.6980938976610915, -0.27703893620018377, 0.44158644700903005, 2.315900696039003, 1.4760766316818896, 0.6430545479341668, -0.5639279890784357, -1.200084558711711, -0.399970533777103, -0.48409637049958826, -0.11350869752556553, -0.5766176383523768, -0.2656149677596483, 1.0680910339652843, -0.07807128816360841, -0.487754719734934, 0.7330459724530421, -1.9161367158436546, 1.6667640983996523], \"xaxis\": \"x9\", \"y\": [-0.39449112315210116, -1.1212484928116981, -0.11511045548335645, -0.9691200961435577, 0.0026646785481831783, 0.7775350927810528, -0.141799214164426, 0.06251552959152215, -0.9123240764464698, -1.32049226673257, 1.0209834505535818, 0.03353814444706474, -0.36263317862899097, 1.0799029133101594, 0.5488355449715403, -0.17780741430264266, -1.0005066291642464, 0.8442796504148201, -0.018769824139416632, -0.3278303212245403, 2.326656055647813, 2.077836072423538, 1.1868809960490683, -0.2995962917918889, -1.101428111034344, 0.6552933094637778, -0.7342775081334816, -0.02113882570913636, -0.9316840641457759, -1.1127466219103468, 0.22394846819848918, 0.7672173579994838, 0.259175286242782, 0.06508815772497668, 1.8421935174451778, -0.14044157442108454, 0.9860580470835705, 0.5396083363412992, -0.11594466300963847, 0.008806974202786672, -0.4639502774848081, 0.3330017110579172, 0.575634178744929, -0.18843324872121228, 0.0972865835770349, -1.423273354054789, 1.7300041547046228, 0.08354131107304794, 1.4660575943308496, 0.2852846080560252, -0.20729929946952697, -0.32676068868360525, -0.34143606274468435, 0.16662155629698341, -1.1770475697217184, -1.415856081362965, -0.9790861331727484, 0.2982736361374957, -0.7433120170324022, -0.369887690278907, 0.1405008326830257, 0.1506898356699573, 0.2612834210213473, -0.3953507547051282, 0.9195183947399077, -0.14856546169910426, 0.18142473356123331, 1.7114488494449998, 1.031711620401327, -2.0941516407574805, -0.08648071156833642, 0.5522774286261719, -0.008753649549855615, -0.6887924719487085, -0.4886046230152795, 0.28965280886014344, 0.31086680716582016, -0.628950032088841, -2.9035410364377405, 0.560549127072546, -1.0207551111513908, -0.5992630633903885, 1.7104838526248434, -0.18265339812095063, 0.827355988262312, 0.6051388640212662, 0.08601510364835871, 0.8737957711827707, 0.7340467938178823, 0.929733671714851, -0.34383580958552656, -0.4331014517501853, 0.36818604095503965, -0.758738373118303, 0.1847171187438878, 0.06493816718688149, 0.2065681403828763, -2.4092025245809605, 0.5501799473388332, 0.25260773029084094], \"yaxis\": \"y9\"}, {\"line\": {\"color\": \"rgba(128, 128, 128, 1.0)\", \"dash\": \"solid\", \"shape\": \"linear\", \"width\": 1.3}, \"marker\": {\"size\": 2, \"symbol\": \"circle\"}, \"mode\": \"markers\", \"name\": \"C\", \"text\": \"\", \"type\": \"scatter\", \"x\": [-0.28983263678314597, -0.8169479361435581, -0.10148378188004077, -0.748494262256059, -0.5582652244502774, -0.36037903955588957, 1.149895074698171, 0.7016714440003219, -0.6863796647750956, 1.3173593602387879, 0.4866044910224147, -0.4653742100271251, -0.529699977871896, -0.40869937377654775, -2.5486499754974177, -0.9708773273169615, 2.211548076913994, 1.7765620092543595, -1.626097838237145, 0.6692050254926118, -0.28721583356763475, 0.302370011128094, 0.2669949468236153, -0.38319982574182027, 0.42646825629144214, -0.973178217530246, -0.8943184281411931, -0.21444633380224432, -1.4671503193874726, 0.006132854065390305, -1.0220666887123597, 1.643679383050032, 0.8488020578950584, 0.3410977483909045, 0.7690744664331666, 0.47223610763359697, 0.9454017733692817, 0.4347132784174497, 0.4132931203526399, -0.7549841153565662, -0.583277796242386, -0.4547913169903659, -1.909722692901202, 0.8602880805375047, 1.2668509733843005, 0.38921315419857755, -1.3058390007042817, 0.0560880420088437, -0.7611504778718097, 0.22427842178547364, 0.6393896711477389, -0.23361690153326356, -1.0582332446307636, -0.2825496147287078, -0.24937584295088627, 1.364049630086341, 0.44841212493836835, 0.7502743814027157, 0.4632782338732586, -0.2081764792567062, -1.001357325235659, 0.9907842309268651, 1.5148089221476722, 0.09189998885551912, -0.14822349816325553, -2.130692330840538, -0.5431104712437145, -2.3513178539124264, 0.03760037350303423, 2.5321954035573055, -0.8608566121890182, -0.8769362278876279, 1.4037734093709349, 0.32147341252819217, 1.6447883170195194, -1.2543325345516667, 1.6138535011035184, 0.14627716689842465, -2.783897219711481, 0.7129828324340545, -1.127320315035124, 0.172624432355655, 1.4667699454462124, -0.06254038227601047, 1.065437358461133, -1.4383208553553297, -1.880693547475329, -0.277768247581571, -0.17205887198272193, -0.03581563684461571, 0.8717079352780598, -0.5885613208085732, -0.9489155164081639, -1.17905984924152, 0.13361371606619776, 0.9991281270155986, 0.5770007730157847, -0.5925585897114811, -0.5497414754879314, -0.7332407145505224], \"xaxis\": \"x10\", \"y\": [-0.39449112315210116, -1.1212484928116981, -0.11511045548335645, -0.9691200961435577, 0.0026646785481831783, 0.7775350927810528, -0.141799214164426, 0.06251552959152215, -0.9123240764464698, -1.32049226673257, 1.0209834505535818, 0.03353814444706474, -0.36263317862899097, 1.0799029133101594, 0.5488355449715403, -0.17780741430264266, -1.0005066291642464, 0.8442796504148201, -0.018769824139416632, -0.3278303212245403, 2.326656055647813, 2.077836072423538, 1.1868809960490683, -0.2995962917918889, -1.101428111034344, 0.6552933094637778, -0.7342775081334816, -0.02113882570913636, -0.9316840641457759, -1.1127466219103468, 0.22394846819848918, 0.7672173579994838, 0.259175286242782, 0.06508815772497668, 1.8421935174451778, -0.14044157442108454, 0.9860580470835705, 0.5396083363412992, -0.11594466300963847, 0.008806974202786672, -0.4639502774848081, 0.3330017110579172, 0.575634178744929, -0.18843324872121228, 0.0972865835770349, -1.423273354054789, 1.7300041547046228, 0.08354131107304794, 1.4660575943308496, 0.2852846080560252, -0.20729929946952697, -0.32676068868360525, -0.34143606274468435, 0.16662155629698341, -1.1770475697217184, -1.415856081362965, -0.9790861331727484, 0.2982736361374957, -0.7433120170324022, -0.369887690278907, 0.1405008326830257, 0.1506898356699573, 0.2612834210213473, -0.3953507547051282, 0.9195183947399077, -0.14856546169910426, 0.18142473356123331, 1.7114488494449998, 1.031711620401327, -2.0941516407574805, -0.08648071156833642, 0.5522774286261719, -0.008753649549855615, -0.6887924719487085, -0.4886046230152795, 0.28965280886014344, 0.31086680716582016, -0.628950032088841, -2.9035410364377405, 0.560549127072546, -1.0207551111513908, -0.5992630633903885, 1.7104838526248434, -0.18265339812095063, 0.827355988262312, 0.6051388640212662, 0.08601510364835871, 0.8737957711827707, 0.7340467938178823, 0.929733671714851, -0.34383580958552656, -0.4331014517501853, 0.36818604095503965, -0.758738373118303, 0.1847171187438878, 0.06493816718688149, 0.2065681403828763, -2.4092025245809605, 0.5501799473388332, 0.25260773029084094], \"yaxis\": \"y10\"}, {\"histfunc\": \"count\", \"histnorm\": \"\", \"marker\": {\"color\": \"rgba(50, 171, 96, 1.0)\", \"line\": {\"color\": \"#4D5663\", \"width\": 1.3}}, \"name\": \"C\", \"nbinsx\": 10, \"opacity\": 0.8, \"orientation\": \"v\", \"type\": \"histogram\", \"x\": [-0.39449112315210116, -1.1212484928116981, -0.11511045548335645, -0.9691200961435577, 0.0026646785481831783, 0.7775350927810528, -0.141799214164426, 0.06251552959152215, -0.9123240764464698, -1.32049226673257, 1.0209834505535818, 0.03353814444706474, -0.36263317862899097, 1.0799029133101594, 0.5488355449715403, -0.17780741430264266, -1.0005066291642464, 0.8442796504148201, -0.018769824139416632, -0.3278303212245403, 2.326656055647813, 2.077836072423538, 1.1868809960490683, -0.2995962917918889, -1.101428111034344, 0.6552933094637778, -0.7342775081334816, -0.02113882570913636, -0.9316840641457759, -1.1127466219103468, 0.22394846819848918, 0.7672173579994838, 0.259175286242782, 0.06508815772497668, 1.8421935174451778, -0.14044157442108454, 0.9860580470835705, 0.5396083363412992, -0.11594466300963847, 0.008806974202786672, -0.4639502774848081, 0.3330017110579172, 0.575634178744929, -0.18843324872121228, 0.0972865835770349, -1.423273354054789, 1.7300041547046228, 0.08354131107304794, 1.4660575943308496, 0.2852846080560252, -0.20729929946952697, -0.32676068868360525, -0.34143606274468435, 0.16662155629698341, -1.1770475697217184, -1.415856081362965, -0.9790861331727484, 0.2982736361374957, -0.7433120170324022, -0.369887690278907, 0.1405008326830257, 0.1506898356699573, 0.2612834210213473, -0.3953507547051282, 0.9195183947399077, -0.14856546169910426, 0.18142473356123331, 1.7114488494449998, 1.031711620401327, -2.0941516407574805, -0.08648071156833642, 0.5522774286261719, -0.008753649549855615, -0.6887924719487085, -0.4886046230152795, 0.28965280886014344, 0.31086680716582016, -0.628950032088841, -2.9035410364377405, 0.560549127072546, -1.0207551111513908, -0.5992630633903885, 1.7104838526248434, -0.18265339812095063, 0.827355988262312, 0.6051388640212662, 0.08601510364835871, 0.8737957711827707, 0.7340467938178823, 0.929733671714851, -0.34383580958552656, -0.4331014517501853, 0.36818604095503965, -0.758738373118303, 0.1847171187438878, 0.06493816718688149, 0.2065681403828763, -2.4092025245809605, 0.5501799473388332, 0.25260773029084094], \"xaxis\": \"x11\", \"yaxis\": \"y11\"}, {\"line\": {\"color\": \"rgba(128, 128, 128, 1.0)\", \"dash\": \"solid\", \"shape\": \"linear\", \"width\": 1.3}, \"marker\": {\"size\": 2, \"symbol\": \"circle\"}, \"mode\": \"markers\", \"name\": \"C\", \"text\": \"\", \"type\": \"scatter\", \"x\": [0.8358904022127795, 2.808937900356927, -1.4991977318331835, 0.5684355313333193, 0.23310368435620082, 1.9211727389531776, 1.3886014132863176, -1.028149218163869, -0.22499831608299156, 1.1460286767393078, 0.6474369170804646, 0.0684361959164644, 1.0888890191969411, 2.672144706140232, 0.38091416707364184, -0.5367725893511329, -0.88934302250755, 0.17067528579360977, -1.0149577463785453, -0.7418628236857662, 0.25267446597065096, 0.776246117711896, 0.26606364938872534, 0.7844112864244464, -0.922500729401434, -3.404401460927005, -0.8799905245655284, -0.6944849330767167, -0.9091477770135895, -0.32269805129703116, -1.077846671397077, 0.30751181102894865, 0.7973998336086224, 0.11194544605401993, -0.984056235073791, 0.6928759146875341, 0.09604496877157467, -1.3276236679985045, -0.6844989545773975, 1.3276766939607527, -1.2641936094574768, 0.6848607679863661, -1.4183735330980474, -1.9780885884306907, -1.9984766520540924, 0.24706309852187702, -2.4913063691566655, 0.6101313058757692, 0.5671028633842811, -0.725984621748018, -0.1910221237008867, 0.7950638148371976, 0.3244501236102624, -0.5870172068519863, 1.5749500555780758, -0.6146397792740326, -0.7906886583107036, -1.7216416388805738, -0.7872797544723416, 1.5582839479482433, 0.3356465038431936, 1.020893116495629, -0.8794195588206934, 0.739897405337708, -0.5712865500341279, 0.026620420162464662, -3.0803992969578484, -0.6045396307619787, -0.29944332653536604, -0.9679134742287175, 0.1494414225483479, 0.8388028092237695, 0.9137539238276352, 1.1850378884216017, 1.2239190986789192, -0.8432264418389523, -0.2294007397181265, 0.14908569166228788, -1.2489354291913144, -1.1049828040795124, -0.07079198492568171, -1.016017122760885, 0.18190325517082614, -0.9602501474710243, -1.231123037318867, 0.4773103996861225, 0.393807305391927, 0.844880693586435, 0.5336027332339879, -1.9200840332679325, 0.7300441418197431, 1.1167520247457252, -1.2149971190830546, 0.002576909029410683, 0.8849780261407387, 1.6910902555987406, 0.8010887427706511, 0.6138885929785809, -0.3652223373885456, -0.5335245715775491], \"xaxis\": \"x12\", \"y\": [-0.39449112315210116, -1.1212484928116981, -0.11511045548335645, -0.9691200961435577, 0.0026646785481831783, 0.7775350927810528, -0.141799214164426, 0.06251552959152215, -0.9123240764464698, -1.32049226673257, 1.0209834505535818, 0.03353814444706474, -0.36263317862899097, 1.0799029133101594, 0.5488355449715403, -0.17780741430264266, -1.0005066291642464, 0.8442796504148201, -0.018769824139416632, -0.3278303212245403, 2.326656055647813, 2.077836072423538, 1.1868809960490683, -0.2995962917918889, -1.101428111034344, 0.6552933094637778, -0.7342775081334816, -0.02113882570913636, -0.9316840641457759, -1.1127466219103468, 0.22394846819848918, 0.7672173579994838, 0.259175286242782, 0.06508815772497668, 1.8421935174451778, -0.14044157442108454, 0.9860580470835705, 0.5396083363412992, -0.11594466300963847, 0.008806974202786672, -0.4639502774848081, 0.3330017110579172, 0.575634178744929, -0.18843324872121228, 0.0972865835770349, -1.423273354054789, 1.7300041547046228, 0.08354131107304794, 1.4660575943308496, 0.2852846080560252, -0.20729929946952697, -0.32676068868360525, -0.34143606274468435, 0.16662155629698341, -1.1770475697217184, -1.415856081362965, -0.9790861331727484, 0.2982736361374957, -0.7433120170324022, -0.369887690278907, 0.1405008326830257, 0.1506898356699573, 0.2612834210213473, -0.3953507547051282, 0.9195183947399077, -0.14856546169910426, 0.18142473356123331, 1.7114488494449998, 1.031711620401327, -2.0941516407574805, -0.08648071156833642, 0.5522774286261719, -0.008753649549855615, -0.6887924719487085, -0.4886046230152795, 0.28965280886014344, 0.31086680716582016, -0.628950032088841, -2.9035410364377405, 0.560549127072546, -1.0207551111513908, -0.5992630633903885, 1.7104838526248434, -0.18265339812095063, 0.827355988262312, 0.6051388640212662, 0.08601510364835871, 0.8737957711827707, 0.7340467938178823, 0.929733671714851, -0.34383580958552656, -0.4331014517501853, 0.36818604095503965, -0.758738373118303, 0.1847171187438878, 0.06493816718688149, 0.2065681403828763, -2.4092025245809605, 0.5501799473388332, 0.25260773029084094], \"yaxis\": \"y12\"}, {\"line\": {\"color\": \"rgba(128, 128, 128, 1.0)\", \"dash\": \"solid\", \"shape\": \"linear\", \"width\": 1.3}, \"marker\": {\"size\": 2, \"symbol\": \"circle\"}, \"mode\": \"markers\", \"name\": \"D\", \"text\": \"\", \"type\": \"scatter\", \"x\": [-1.0401294919952173, 0.7540837883764145, 0.4754525425630791, -0.6748870908287362, -0.5028681633354075, -1.545115592118102, 0.4385873914218319, -0.7448993761396681, -2.272601378304192, 2.348290149001387, -1.022242282050554, 0.8280023223996548, 0.07873141198557396, 0.3087675608543512, 1.0224283350187533, 0.030720145282387472, -0.2119176158627523, -0.01599653212318083, -0.3913616364448441, -1.5795751106802804, 1.1468288620565958, 0.4973159033981794, -1.9013472528155446, -0.5322510410406922, 0.4354083236982135, -0.8389836603309918, 0.63250625191439, 0.8020108286089704, 0.1680001474329182, -0.03635115506012781, 0.7159382576697422, 0.5170952942994798, -0.4208887962003864, -0.852854444728073, 0.03488494145210682, 0.8707420113945227, -0.8621551581638811, 0.34881145129166286, 1.246164830050418, -0.4040670984432969, -0.16999960651721618, 0.7702826270683759, -1.2465484743701372, 1.0235240301432829, -0.9827310746533008, -1.3685359084453448, -1.555762514576057, -0.310412608073586, 0.42784058214450094, 0.7393591528414503, -0.17894082395310795, 0.6490665839701796, -1.7845153300317413, 0.5660054718136256, 0.17895378642966125, 0.028668596465502034, 1.0984437009662795, 1.0455101311924233, -0.07431303549503826, -0.012992158379034034, -0.1995304624066606, -0.2089848698983806, 0.19457954135750175, 1.3084467308939345, 0.5846810561081601, -1.8397556931868735, -0.4890604222210714, -0.18499169606906368, -0.2973274305624725, -0.37909874978065117, 1.4957987559756598, -0.6159986573181273, -0.24547663960831673, 0.8259588546671423, 0.2320018286227506, 1.3860756506482823, -2.2969088365772, 0.24270405862187572, -1.1735508353664528, -1.0854695474455966, 0.4117828045133673, 0.6980938976610915, -0.27703893620018377, 0.44158644700903005, 2.315900696039003, 1.4760766316818896, 0.6430545479341668, -0.5639279890784357, -1.200084558711711, -0.399970533777103, -0.48409637049958826, -0.11350869752556553, -0.5766176383523768, -0.2656149677596483, 1.0680910339652843, -0.07807128816360841, -0.487754719734934, 0.7330459724530421, -1.9161367158436546, 1.6667640983996523], \"xaxis\": \"x13\", \"y\": [0.8358904022127795, 2.808937900356927, -1.4991977318331835, 0.5684355313333193, 0.23310368435620082, 1.9211727389531776, 1.3886014132863176, -1.028149218163869, -0.22499831608299156, 1.1460286767393078, 0.6474369170804646, 0.0684361959164644, 1.0888890191969411, 2.672144706140232, 0.38091416707364184, -0.5367725893511329, -0.88934302250755, 0.17067528579360977, -1.0149577463785453, -0.7418628236857662, 0.25267446597065096, 0.776246117711896, 0.26606364938872534, 0.7844112864244464, -0.922500729401434, -3.404401460927005, -0.8799905245655284, -0.6944849330767167, -0.9091477770135895, -0.32269805129703116, -1.077846671397077, 0.30751181102894865, 0.7973998336086224, 0.11194544605401993, -0.984056235073791, 0.6928759146875341, 0.09604496877157467, -1.3276236679985045, -0.6844989545773975, 1.3276766939607527, -1.2641936094574768, 0.6848607679863661, -1.4183735330980474, -1.9780885884306907, -1.9984766520540924, 0.24706309852187702, -2.4913063691566655, 0.6101313058757692, 0.5671028633842811, -0.725984621748018, -0.1910221237008867, 0.7950638148371976, 0.3244501236102624, -0.5870172068519863, 1.5749500555780758, -0.6146397792740326, -0.7906886583107036, -1.7216416388805738, -0.7872797544723416, 1.5582839479482433, 0.3356465038431936, 1.020893116495629, -0.8794195588206934, 0.739897405337708, -0.5712865500341279, 0.026620420162464662, -3.0803992969578484, -0.6045396307619787, -0.29944332653536604, -0.9679134742287175, 0.1494414225483479, 0.8388028092237695, 0.9137539238276352, 1.1850378884216017, 1.2239190986789192, -0.8432264418389523, -0.2294007397181265, 0.14908569166228788, -1.2489354291913144, -1.1049828040795124, -0.07079198492568171, -1.016017122760885, 0.18190325517082614, -0.9602501474710243, -1.231123037318867, 0.4773103996861225, 0.393807305391927, 0.844880693586435, 0.5336027332339879, -1.9200840332679325, 0.7300441418197431, 1.1167520247457252, -1.2149971190830546, 0.002576909029410683, 0.8849780261407387, 1.6910902555987406, 0.8010887427706511, 0.6138885929785809, -0.3652223373885456, -0.5335245715775491], \"yaxis\": \"y13\"}, {\"line\": {\"color\": \"rgba(128, 128, 128, 1.0)\", \"dash\": \"solid\", \"shape\": \"linear\", \"width\": 1.3}, \"marker\": {\"size\": 2, \"symbol\": \"circle\"}, \"mode\": \"markers\", \"name\": \"D\", \"text\": \"\", \"type\": \"scatter\", \"x\": [-0.28983263678314597, -0.8169479361435581, -0.10148378188004077, -0.748494262256059, -0.5582652244502774, -0.36037903955588957, 1.149895074698171, 0.7016714440003219, -0.6863796647750956, 1.3173593602387879, 0.4866044910224147, -0.4653742100271251, -0.529699977871896, -0.40869937377654775, -2.5486499754974177, -0.9708773273169615, 2.211548076913994, 1.7765620092543595, -1.626097838237145, 0.6692050254926118, -0.28721583356763475, 0.302370011128094, 0.2669949468236153, -0.38319982574182027, 0.42646825629144214, -0.973178217530246, -0.8943184281411931, -0.21444633380224432, -1.4671503193874726, 0.006132854065390305, -1.0220666887123597, 1.643679383050032, 0.8488020578950584, 0.3410977483909045, 0.7690744664331666, 0.47223610763359697, 0.9454017733692817, 0.4347132784174497, 0.4132931203526399, -0.7549841153565662, -0.583277796242386, -0.4547913169903659, -1.909722692901202, 0.8602880805375047, 1.2668509733843005, 0.38921315419857755, -1.3058390007042817, 0.0560880420088437, -0.7611504778718097, 0.22427842178547364, 0.6393896711477389, -0.23361690153326356, -1.0582332446307636, -0.2825496147287078, -0.24937584295088627, 1.364049630086341, 0.44841212493836835, 0.7502743814027157, 0.4632782338732586, -0.2081764792567062, -1.001357325235659, 0.9907842309268651, 1.5148089221476722, 0.09189998885551912, -0.14822349816325553, -2.130692330840538, -0.5431104712437145, -2.3513178539124264, 0.03760037350303423, 2.5321954035573055, -0.8608566121890182, -0.8769362278876279, 1.4037734093709349, 0.32147341252819217, 1.6447883170195194, -1.2543325345516667, 1.6138535011035184, 0.14627716689842465, -2.783897219711481, 0.7129828324340545, -1.127320315035124, 0.172624432355655, 1.4667699454462124, -0.06254038227601047, 1.065437358461133, -1.4383208553553297, -1.880693547475329, -0.277768247581571, -0.17205887198272193, -0.03581563684461571, 0.8717079352780598, -0.5885613208085732, -0.9489155164081639, -1.17905984924152, 0.13361371606619776, 0.9991281270155986, 0.5770007730157847, -0.5925585897114811, -0.5497414754879314, -0.7332407145505224], \"xaxis\": \"x14\", \"y\": [0.8358904022127795, 2.808937900356927, -1.4991977318331835, 0.5684355313333193, 0.23310368435620082, 1.9211727389531776, 1.3886014132863176, -1.028149218163869, -0.22499831608299156, 1.1460286767393078, 0.6474369170804646, 0.0684361959164644, 1.0888890191969411, 2.672144706140232, 0.38091416707364184, -0.5367725893511329, -0.88934302250755, 0.17067528579360977, -1.0149577463785453, -0.7418628236857662, 0.25267446597065096, 0.776246117711896, 0.26606364938872534, 0.7844112864244464, -0.922500729401434, -3.404401460927005, -0.8799905245655284, -0.6944849330767167, -0.9091477770135895, -0.32269805129703116, -1.077846671397077, 0.30751181102894865, 0.7973998336086224, 0.11194544605401993, -0.984056235073791, 0.6928759146875341, 0.09604496877157467, -1.3276236679985045, -0.6844989545773975, 1.3276766939607527, -1.2641936094574768, 0.6848607679863661, -1.4183735330980474, -1.9780885884306907, -1.9984766520540924, 0.24706309852187702, -2.4913063691566655, 0.6101313058757692, 0.5671028633842811, -0.725984621748018, -0.1910221237008867, 0.7950638148371976, 0.3244501236102624, -0.5870172068519863, 1.5749500555780758, -0.6146397792740326, -0.7906886583107036, -1.7216416388805738, -0.7872797544723416, 1.5582839479482433, 0.3356465038431936, 1.020893116495629, -0.8794195588206934, 0.739897405337708, -0.5712865500341279, 0.026620420162464662, -3.0803992969578484, -0.6045396307619787, -0.29944332653536604, -0.9679134742287175, 0.1494414225483479, 0.8388028092237695, 0.9137539238276352, 1.1850378884216017, 1.2239190986789192, -0.8432264418389523, -0.2294007397181265, 0.14908569166228788, -1.2489354291913144, -1.1049828040795124, -0.07079198492568171, -1.016017122760885, 0.18190325517082614, -0.9602501474710243, -1.231123037318867, 0.4773103996861225, 0.393807305391927, 0.844880693586435, 0.5336027332339879, -1.9200840332679325, 0.7300441418197431, 1.1167520247457252, -1.2149971190830546, 0.002576909029410683, 0.8849780261407387, 1.6910902555987406, 0.8010887427706511, 0.6138885929785809, -0.3652223373885456, -0.5335245715775491], \"yaxis\": \"y14\"}, {\"line\": {\"color\": \"rgba(128, 128, 128, 1.0)\", \"dash\": \"solid\", \"shape\": \"linear\", \"width\": 1.3}, \"marker\": {\"size\": 2, \"symbol\": \"circle\"}, \"mode\": \"markers\", \"name\": \"D\", \"text\": \"\", \"type\": \"scatter\", \"x\": [-0.39449112315210116, -1.1212484928116981, -0.11511045548335645, -0.9691200961435577, 0.0026646785481831783, 0.7775350927810528, -0.141799214164426, 0.06251552959152215, -0.9123240764464698, -1.32049226673257, 1.0209834505535818, 0.03353814444706474, -0.36263317862899097, 1.0799029133101594, 0.5488355449715403, -0.17780741430264266, -1.0005066291642464, 0.8442796504148201, -0.018769824139416632, -0.3278303212245403, 2.326656055647813, 2.077836072423538, 1.1868809960490683, -0.2995962917918889, -1.101428111034344, 0.6552933094637778, -0.7342775081334816, -0.02113882570913636, -0.9316840641457759, -1.1127466219103468, 0.22394846819848918, 0.7672173579994838, 0.259175286242782, 0.06508815772497668, 1.8421935174451778, -0.14044157442108454, 0.9860580470835705, 0.5396083363412992, -0.11594466300963847, 0.008806974202786672, -0.4639502774848081, 0.3330017110579172, 0.575634178744929, -0.18843324872121228, 0.0972865835770349, -1.423273354054789, 1.7300041547046228, 0.08354131107304794, 1.4660575943308496, 0.2852846080560252, -0.20729929946952697, -0.32676068868360525, -0.34143606274468435, 0.16662155629698341, -1.1770475697217184, -1.415856081362965, -0.9790861331727484, 0.2982736361374957, -0.7433120170324022, -0.369887690278907, 0.1405008326830257, 0.1506898356699573, 0.2612834210213473, -0.3953507547051282, 0.9195183947399077, -0.14856546169910426, 0.18142473356123331, 1.7114488494449998, 1.031711620401327, -2.0941516407574805, -0.08648071156833642, 0.5522774286261719, -0.008753649549855615, -0.6887924719487085, -0.4886046230152795, 0.28965280886014344, 0.31086680716582016, -0.628950032088841, -2.9035410364377405, 0.560549127072546, -1.0207551111513908, -0.5992630633903885, 1.7104838526248434, -0.18265339812095063, 0.827355988262312, 0.6051388640212662, 0.08601510364835871, 0.8737957711827707, 0.7340467938178823, 0.929733671714851, -0.34383580958552656, -0.4331014517501853, 0.36818604095503965, -0.758738373118303, 0.1847171187438878, 0.06493816718688149, 0.2065681403828763, -2.4092025245809605, 0.5501799473388332, 0.25260773029084094], \"xaxis\": \"x15\", \"y\": [0.8358904022127795, 2.808937900356927, -1.4991977318331835, 0.5684355313333193, 0.23310368435620082, 1.9211727389531776, 1.3886014132863176, -1.028149218163869, -0.22499831608299156, 1.1460286767393078, 0.6474369170804646, 0.0684361959164644, 1.0888890191969411, 2.672144706140232, 0.38091416707364184, -0.5367725893511329, -0.88934302250755, 0.17067528579360977, -1.0149577463785453, -0.7418628236857662, 0.25267446597065096, 0.776246117711896, 0.26606364938872534, 0.7844112864244464, -0.922500729401434, -3.404401460927005, -0.8799905245655284, -0.6944849330767167, -0.9091477770135895, -0.32269805129703116, -1.077846671397077, 0.30751181102894865, 0.7973998336086224, 0.11194544605401993, -0.984056235073791, 0.6928759146875341, 0.09604496877157467, -1.3276236679985045, -0.6844989545773975, 1.3276766939607527, -1.2641936094574768, 0.6848607679863661, -1.4183735330980474, -1.9780885884306907, -1.9984766520540924, 0.24706309852187702, -2.4913063691566655, 0.6101313058757692, 0.5671028633842811, -0.725984621748018, -0.1910221237008867, 0.7950638148371976, 0.3244501236102624, -0.5870172068519863, 1.5749500555780758, -0.6146397792740326, -0.7906886583107036, -1.7216416388805738, -0.7872797544723416, 1.5582839479482433, 0.3356465038431936, 1.020893116495629, -0.8794195588206934, 0.739897405337708, -0.5712865500341279, 0.026620420162464662, -3.0803992969578484, -0.6045396307619787, -0.29944332653536604, -0.9679134742287175, 0.1494414225483479, 0.8388028092237695, 0.9137539238276352, 1.1850378884216017, 1.2239190986789192, -0.8432264418389523, -0.2294007397181265, 0.14908569166228788, -1.2489354291913144, -1.1049828040795124, -0.07079198492568171, -1.016017122760885, 0.18190325517082614, -0.9602501474710243, -1.231123037318867, 0.4773103996861225, 0.393807305391927, 0.844880693586435, 0.5336027332339879, -1.9200840332679325, 0.7300441418197431, 1.1167520247457252, -1.2149971190830546, 0.002576909029410683, 0.8849780261407387, 1.6910902555987406, 0.8010887427706511, 0.6138885929785809, -0.3652223373885456, -0.5335245715775491], \"yaxis\": \"y15\"}, {\"histfunc\": \"count\", \"histnorm\": \"\", \"marker\": {\"color\": \"rgba(128, 0, 128, 1.0)\", \"line\": {\"color\": \"#4D5663\", \"width\": 1.3}}, \"name\": \"D\", \"nbinsx\": 10, \"opacity\": 0.8, \"orientation\": \"v\", \"type\": \"histogram\", \"x\": [0.8358904022127795, 2.808937900356927, -1.4991977318331835, 0.5684355313333193, 0.23310368435620082, 1.9211727389531776, 1.3886014132863176, -1.028149218163869, -0.22499831608299156, 1.1460286767393078, 0.6474369170804646, 0.0684361959164644, 1.0888890191969411, 2.672144706140232, 0.38091416707364184, -0.5367725893511329, -0.88934302250755, 0.17067528579360977, -1.0149577463785453, -0.7418628236857662, 0.25267446597065096, 0.776246117711896, 0.26606364938872534, 0.7844112864244464, -0.922500729401434, -3.404401460927005, -0.8799905245655284, -0.6944849330767167, -0.9091477770135895, -0.32269805129703116, -1.077846671397077, 0.30751181102894865, 0.7973998336086224, 0.11194544605401993, -0.984056235073791, 0.6928759146875341, 0.09604496877157467, -1.3276236679985045, -0.6844989545773975, 1.3276766939607527, -1.2641936094574768, 0.6848607679863661, -1.4183735330980474, -1.9780885884306907, -1.9984766520540924, 0.24706309852187702, -2.4913063691566655, 0.6101313058757692, 0.5671028633842811, -0.725984621748018, -0.1910221237008867, 0.7950638148371976, 0.3244501236102624, -0.5870172068519863, 1.5749500555780758, -0.6146397792740326, -0.7906886583107036, -1.7216416388805738, -0.7872797544723416, 1.5582839479482433, 0.3356465038431936, 1.020893116495629, -0.8794195588206934, 0.739897405337708, -0.5712865500341279, 0.026620420162464662, -3.0803992969578484, -0.6045396307619787, -0.29944332653536604, -0.9679134742287175, 0.1494414225483479, 0.8388028092237695, 0.9137539238276352, 1.1850378884216017, 1.2239190986789192, -0.8432264418389523, -0.2294007397181265, 0.14908569166228788, -1.2489354291913144, -1.1049828040795124, -0.07079198492568171, -1.016017122760885, 0.18190325517082614, -0.9602501474710243, -1.231123037318867, 0.4773103996861225, 0.393807305391927, 0.844880693586435, 0.5336027332339879, -1.9200840332679325, 0.7300441418197431, 1.1167520247457252, -1.2149971190830546, 0.002576909029410683, 0.8849780261407387, 1.6910902555987406, 0.8010887427706511, 0.6138885929785809, -0.3652223373885456, -0.5335245715775491], \"xaxis\": \"x16\", \"yaxis\": \"y16\"}],                        {\"bargap\": 0.02, \"legend\": {\"bgcolor\": \"#F5F6F9\", \"font\": {\"color\": \"#4D5663\"}}, \"paper_bgcolor\": \"#F5F6F9\", \"plot_bgcolor\": \"#F5F6F9\", \"showlegend\": false, \"template\": {\"data\": {\"bar\": [{\"error_x\": {\"color\": \"#2a3f5f\"}, \"error_y\": {\"color\": \"#2a3f5f\"}, \"marker\": {\"line\": {\"color\": \"#E5ECF6\", \"width\": 0.5}}, \"type\": \"bar\"}], \"barpolar\": [{\"marker\": {\"line\": {\"color\": \"#E5ECF6\", \"width\": 0.5}}, \"type\": \"barpolar\"}], \"carpet\": [{\"aaxis\": {\"endlinecolor\": \"#2a3f5f\", \"gridcolor\": \"white\", \"linecolor\": \"white\", \"minorgridcolor\": \"white\", \"startlinecolor\": \"#2a3f5f\"}, \"baxis\": {\"endlinecolor\": \"#2a3f5f\", \"gridcolor\": \"white\", \"linecolor\": \"white\", \"minorgridcolor\": \"white\", \"startlinecolor\": \"#2a3f5f\"}, \"type\": \"carpet\"}], \"choropleth\": [{\"colorbar\": {\"outlinewidth\": 0, \"ticks\": \"\"}, \"type\": \"choropleth\"}], \"contour\": [{\"colorbar\": {\"outlinewidth\": 0, \"ticks\": \"\"}, \"colorscale\": [[0.0, \"#0d0887\"], [0.1111111111111111, \"#46039f\"], [0.2222222222222222, \"#7201a8\"], [0.3333333333333333, \"#9c179e\"], [0.4444444444444444, \"#bd3786\"], [0.5555555555555556, \"#d8576b\"], [0.6666666666666666, \"#ed7953\"], [0.7777777777777778, \"#fb9f3a\"], [0.8888888888888888, \"#fdca26\"], [1.0, \"#f0f921\"]], \"type\": \"contour\"}], \"contourcarpet\": [{\"colorbar\": {\"outlinewidth\": 0, \"ticks\": \"\"}, \"type\": \"contourcarpet\"}], \"heatmap\": [{\"colorbar\": {\"outlinewidth\": 0, \"ticks\": \"\"}, \"colorscale\": [[0.0, \"#0d0887\"], [0.1111111111111111, \"#46039f\"], [0.2222222222222222, \"#7201a8\"], [0.3333333333333333, \"#9c179e\"], [0.4444444444444444, \"#bd3786\"], [0.5555555555555556, \"#d8576b\"], [0.6666666666666666, \"#ed7953\"], [0.7777777777777778, \"#fb9f3a\"], [0.8888888888888888, \"#fdca26\"], [1.0, \"#f0f921\"]], \"type\": \"heatmap\"}], \"heatmapgl\": [{\"colorbar\": {\"outlinewidth\": 0, \"ticks\": \"\"}, \"colorscale\": [[0.0, \"#0d0887\"], [0.1111111111111111, \"#46039f\"], [0.2222222222222222, \"#7201a8\"], [0.3333333333333333, \"#9c179e\"], [0.4444444444444444, \"#bd3786\"], [0.5555555555555556, \"#d8576b\"], [0.6666666666666666, \"#ed7953\"], [0.7777777777777778, \"#fb9f3a\"], [0.8888888888888888, \"#fdca26\"], [1.0, \"#f0f921\"]], \"type\": \"heatmapgl\"}], \"histogram\": [{\"marker\": {\"colorbar\": {\"outlinewidth\": 0, \"ticks\": \"\"}}, \"type\": \"histogram\"}], \"histogram2d\": [{\"colorbar\": {\"outlinewidth\": 0, \"ticks\": \"\"}, \"colorscale\": [[0.0, \"#0d0887\"], [0.1111111111111111, \"#46039f\"], [0.2222222222222222, \"#7201a8\"], [0.3333333333333333, \"#9c179e\"], [0.4444444444444444, \"#bd3786\"], [0.5555555555555556, \"#d8576b\"], [0.6666666666666666, \"#ed7953\"], [0.7777777777777778, \"#fb9f3a\"], [0.8888888888888888, \"#fdca26\"], [1.0, \"#f0f921\"]], \"type\": \"histogram2d\"}], \"histogram2dcontour\": [{\"colorbar\": {\"outlinewidth\": 0, \"ticks\": \"\"}, \"colorscale\": [[0.0, \"#0d0887\"], [0.1111111111111111, \"#46039f\"], [0.2222222222222222, \"#7201a8\"], [0.3333333333333333, \"#9c179e\"], [0.4444444444444444, \"#bd3786\"], [0.5555555555555556, \"#d8576b\"], [0.6666666666666666, \"#ed7953\"], [0.7777777777777778, \"#fb9f3a\"], [0.8888888888888888, \"#fdca26\"], [1.0, \"#f0f921\"]], \"type\": \"histogram2dcontour\"}], \"mesh3d\": [{\"colorbar\": {\"outlinewidth\": 0, \"ticks\": \"\"}, \"type\": \"mesh3d\"}], \"parcoords\": [{\"line\": {\"colorbar\": {\"outlinewidth\": 0, \"ticks\": \"\"}}, \"type\": \"parcoords\"}], \"pie\": [{\"automargin\": true, \"type\": \"pie\"}], \"scatter\": [{\"marker\": {\"colorbar\": {\"outlinewidth\": 0, \"ticks\": \"\"}}, \"type\": \"scatter\"}], \"scatter3d\": [{\"line\": {\"colorbar\": {\"outlinewidth\": 0, \"ticks\": \"\"}}, \"marker\": {\"colorbar\": {\"outlinewidth\": 0, \"ticks\": \"\"}}, \"type\": \"scatter3d\"}], \"scattercarpet\": [{\"marker\": {\"colorbar\": {\"outlinewidth\": 0, \"ticks\": \"\"}}, \"type\": \"scattercarpet\"}], \"scattergeo\": [{\"marker\": {\"colorbar\": {\"outlinewidth\": 0, \"ticks\": \"\"}}, \"type\": \"scattergeo\"}], \"scattergl\": [{\"marker\": {\"colorbar\": {\"outlinewidth\": 0, \"ticks\": \"\"}}, \"type\": \"scattergl\"}], \"scattermapbox\": [{\"marker\": {\"colorbar\": {\"outlinewidth\": 0, \"ticks\": \"\"}}, \"type\": \"scattermapbox\"}], \"scatterpolar\": [{\"marker\": {\"colorbar\": {\"outlinewidth\": 0, \"ticks\": \"\"}}, \"type\": \"scatterpolar\"}], \"scatterpolargl\": [{\"marker\": {\"colorbar\": {\"outlinewidth\": 0, \"ticks\": \"\"}}, \"type\": \"scatterpolargl\"}], \"scatterternary\": [{\"marker\": {\"colorbar\": {\"outlinewidth\": 0, \"ticks\": \"\"}}, \"type\": \"scatterternary\"}], \"surface\": [{\"colorbar\": {\"outlinewidth\": 0, \"ticks\": \"\"}, \"colorscale\": [[0.0, \"#0d0887\"], [0.1111111111111111, \"#46039f\"], [0.2222222222222222, \"#7201a8\"], [0.3333333333333333, \"#9c179e\"], [0.4444444444444444, \"#bd3786\"], [0.5555555555555556, \"#d8576b\"], [0.6666666666666666, \"#ed7953\"], [0.7777777777777778, \"#fb9f3a\"], [0.8888888888888888, \"#fdca26\"], [1.0, \"#f0f921\"]], \"type\": \"surface\"}], \"table\": [{\"cells\": {\"fill\": {\"color\": \"#EBF0F8\"}, \"line\": {\"color\": \"white\"}}, \"header\": {\"fill\": {\"color\": \"#C8D4E3\"}, \"line\": {\"color\": \"white\"}}, \"type\": \"table\"}]}, \"layout\": {\"annotationdefaults\": {\"arrowcolor\": \"#2a3f5f\", \"arrowhead\": 0, \"arrowwidth\": 1}, \"autotypenumbers\": \"strict\", \"coloraxis\": {\"colorbar\": {\"outlinewidth\": 0, \"ticks\": \"\"}}, \"colorscale\": {\"diverging\": [[0, \"#8e0152\"], [0.1, \"#c51b7d\"], [0.2, \"#de77ae\"], [0.3, \"#f1b6da\"], [0.4, \"#fde0ef\"], [0.5, \"#f7f7f7\"], [0.6, \"#e6f5d0\"], [0.7, \"#b8e186\"], [0.8, \"#7fbc41\"], [0.9, \"#4d9221\"], [1, \"#276419\"]], \"sequential\": [[0.0, \"#0d0887\"], [0.1111111111111111, \"#46039f\"], [0.2222222222222222, \"#7201a8\"], [0.3333333333333333, \"#9c179e\"], [0.4444444444444444, \"#bd3786\"], [0.5555555555555556, \"#d8576b\"], [0.6666666666666666, \"#ed7953\"], [0.7777777777777778, \"#fb9f3a\"], [0.8888888888888888, \"#fdca26\"], [1.0, \"#f0f921\"]], \"sequentialminus\": [[0.0, \"#0d0887\"], [0.1111111111111111, \"#46039f\"], [0.2222222222222222, \"#7201a8\"], [0.3333333333333333, \"#9c179e\"], [0.4444444444444444, \"#bd3786\"], [0.5555555555555556, \"#d8576b\"], [0.6666666666666666, \"#ed7953\"], [0.7777777777777778, \"#fb9f3a\"], [0.8888888888888888, \"#fdca26\"], [1.0, \"#f0f921\"]]}, \"colorway\": [\"#636efa\", \"#EF553B\", \"#00cc96\", \"#ab63fa\", \"#FFA15A\", \"#19d3f3\", \"#FF6692\", \"#B6E880\", \"#FF97FF\", \"#FECB52\"], \"font\": {\"color\": \"#2a3f5f\"}, \"geo\": {\"bgcolor\": \"white\", \"lakecolor\": \"white\", \"landcolor\": \"#E5ECF6\", \"showlakes\": true, \"showland\": true, \"subunitcolor\": \"white\"}, \"hoverlabel\": {\"align\": \"left\"}, \"hovermode\": \"closest\", \"mapbox\": {\"style\": \"light\"}, \"paper_bgcolor\": \"white\", \"plot_bgcolor\": \"#E5ECF6\", \"polar\": {\"angularaxis\": {\"gridcolor\": \"white\", \"linecolor\": \"white\", \"ticks\": \"\"}, \"bgcolor\": \"#E5ECF6\", \"radialaxis\": {\"gridcolor\": \"white\", \"linecolor\": \"white\", \"ticks\": \"\"}}, \"scene\": {\"xaxis\": {\"backgroundcolor\": \"#E5ECF6\", \"gridcolor\": \"white\", \"gridwidth\": 2, \"linecolor\": \"white\", \"showbackground\": true, \"ticks\": \"\", \"zerolinecolor\": \"white\"}, \"yaxis\": {\"backgroundcolor\": \"#E5ECF6\", \"gridcolor\": \"white\", \"gridwidth\": 2, \"linecolor\": \"white\", \"showbackground\": true, \"ticks\": \"\", \"zerolinecolor\": \"white\"}, \"zaxis\": {\"backgroundcolor\": \"#E5ECF6\", \"gridcolor\": \"white\", \"gridwidth\": 2, \"linecolor\": \"white\", \"showbackground\": true, \"ticks\": \"\", \"zerolinecolor\": \"white\"}}, \"shapedefaults\": {\"line\": {\"color\": \"#2a3f5f\"}}, \"ternary\": {\"aaxis\": {\"gridcolor\": \"white\", \"linecolor\": \"white\", \"ticks\": \"\"}, \"baxis\": {\"gridcolor\": \"white\", \"linecolor\": \"white\", \"ticks\": \"\"}, \"bgcolor\": \"#E5ECF6\", \"caxis\": {\"gridcolor\": \"white\", \"linecolor\": \"white\", \"ticks\": \"\"}}, \"title\": {\"x\": 0.05}, \"xaxis\": {\"automargin\": true, \"gridcolor\": \"white\", \"linecolor\": \"white\", \"ticks\": \"\", \"title\": {\"standoff\": 15}, \"zerolinecolor\": \"white\", \"zerolinewidth\": 2}, \"yaxis\": {\"automargin\": true, \"gridcolor\": \"white\", \"linecolor\": \"white\", \"ticks\": \"\", \"title\": {\"standoff\": 15}, \"zerolinecolor\": \"white\", \"zerolinewidth\": 2}}}, \"title\": {\"font\": {\"color\": \"#4D5663\"}}, \"xaxis\": {\"anchor\": \"y\", \"domain\": [0.0, 0.2125], \"gridcolor\": \"#E1E5ED\", \"showgrid\": false, \"tickfont\": {\"color\": \"#4D5663\"}, \"title\": {\"font\": {\"color\": \"#4D5663\"}, \"text\": \"\"}, \"zerolinecolor\": \"#E1E5ED\"}, \"xaxis10\": {\"anchor\": \"y10\", \"domain\": [0.2625, 0.475], \"gridcolor\": \"#E1E5ED\", \"showgrid\": false, \"tickfont\": {\"color\": \"#4D5663\"}, \"title\": {\"font\": {\"color\": \"#4D5663\"}, \"text\": \"\"}, \"zerolinecolor\": \"#E1E5ED\"}, \"xaxis11\": {\"anchor\": \"y11\", \"domain\": [0.525, 0.7375], \"gridcolor\": \"#E1E5ED\", \"showgrid\": false, \"tickfont\": {\"color\": \"#4D5663\"}, \"title\": {\"font\": {\"color\": \"#4D5663\"}, \"text\": \"\"}, \"zerolinecolor\": \"#E1E5ED\"}, \"xaxis12\": {\"anchor\": \"y12\", \"domain\": [0.7875, 1.0], \"gridcolor\": \"#E1E5ED\", \"showgrid\": false, \"tickfont\": {\"color\": \"#4D5663\"}, \"title\": {\"font\": {\"color\": \"#4D5663\"}, \"text\": \"\"}, \"zerolinecolor\": \"#E1E5ED\"}, \"xaxis13\": {\"anchor\": \"y13\", \"domain\": [0.0, 0.2125], \"gridcolor\": \"#E1E5ED\", \"showgrid\": false, \"tickfont\": {\"color\": \"#4D5663\"}, \"title\": {\"font\": {\"color\": \"#4D5663\"}, \"text\": \"\"}, \"zerolinecolor\": \"#E1E5ED\"}, \"xaxis14\": {\"anchor\": \"y14\", \"domain\": [0.2625, 0.475], \"gridcolor\": \"#E1E5ED\", \"showgrid\": false, \"tickfont\": {\"color\": \"#4D5663\"}, \"title\": {\"font\": {\"color\": \"#4D5663\"}, \"text\": \"\"}, \"zerolinecolor\": \"#E1E5ED\"}, \"xaxis15\": {\"anchor\": \"y15\", \"domain\": [0.525, 0.7375], \"gridcolor\": \"#E1E5ED\", \"showgrid\": false, \"tickfont\": {\"color\": \"#4D5663\"}, \"title\": {\"font\": {\"color\": \"#4D5663\"}, \"text\": \"\"}, \"zerolinecolor\": \"#E1E5ED\"}, \"xaxis16\": {\"anchor\": \"y16\", \"domain\": [0.7875, 1.0], \"gridcolor\": \"#E1E5ED\", \"showgrid\": false, \"tickfont\": {\"color\": \"#4D5663\"}, \"title\": {\"font\": {\"color\": \"#4D5663\"}, \"text\": \"\"}, \"zerolinecolor\": \"#E1E5ED\"}, \"xaxis2\": {\"anchor\": \"y2\", \"domain\": [0.2625, 0.475], \"gridcolor\": \"#E1E5ED\", \"showgrid\": false, \"tickfont\": {\"color\": \"#4D5663\"}, \"title\": {\"font\": {\"color\": \"#4D5663\"}, \"text\": \"\"}, \"zerolinecolor\": \"#E1E5ED\"}, \"xaxis3\": {\"anchor\": \"y3\", \"domain\": [0.525, 0.7375], \"gridcolor\": \"#E1E5ED\", \"showgrid\": false, \"tickfont\": {\"color\": \"#4D5663\"}, \"title\": {\"font\": {\"color\": \"#4D5663\"}, \"text\": \"\"}, \"zerolinecolor\": \"#E1E5ED\"}, \"xaxis4\": {\"anchor\": \"y4\", \"domain\": [0.7875, 1.0], \"gridcolor\": \"#E1E5ED\", \"showgrid\": false, \"tickfont\": {\"color\": \"#4D5663\"}, \"title\": {\"font\": {\"color\": \"#4D5663\"}, \"text\": \"\"}, \"zerolinecolor\": \"#E1E5ED\"}, \"xaxis5\": {\"anchor\": \"y5\", \"domain\": [0.0, 0.2125], \"gridcolor\": \"#E1E5ED\", \"showgrid\": false, \"tickfont\": {\"color\": \"#4D5663\"}, \"title\": {\"font\": {\"color\": \"#4D5663\"}, \"text\": \"\"}, \"zerolinecolor\": \"#E1E5ED\"}, \"xaxis6\": {\"anchor\": \"y6\", \"domain\": [0.2625, 0.475], \"gridcolor\": \"#E1E5ED\", \"showgrid\": false, \"tickfont\": {\"color\": \"#4D5663\"}, \"title\": {\"font\": {\"color\": \"#4D5663\"}, \"text\": \"\"}, \"zerolinecolor\": \"#E1E5ED\"}, \"xaxis7\": {\"anchor\": \"y7\", \"domain\": [0.525, 0.7375], \"gridcolor\": \"#E1E5ED\", \"showgrid\": false, \"tickfont\": {\"color\": \"#4D5663\"}, \"title\": {\"font\": {\"color\": \"#4D5663\"}, \"text\": \"\"}, \"zerolinecolor\": \"#E1E5ED\"}, \"xaxis8\": {\"anchor\": \"y8\", \"domain\": [0.7875, 1.0], \"gridcolor\": \"#E1E5ED\", \"showgrid\": false, \"tickfont\": {\"color\": \"#4D5663\"}, \"title\": {\"font\": {\"color\": \"#4D5663\"}, \"text\": \"\"}, \"zerolinecolor\": \"#E1E5ED\"}, \"xaxis9\": {\"anchor\": \"y9\", \"domain\": [0.0, 0.2125], \"gridcolor\": \"#E1E5ED\", \"showgrid\": false, \"tickfont\": {\"color\": \"#4D5663\"}, \"title\": {\"font\": {\"color\": \"#4D5663\"}, \"text\": \"\"}, \"zerolinecolor\": \"#E1E5ED\"}, \"yaxis\": {\"anchor\": \"x\", \"domain\": [0.8025, 1.0], \"gridcolor\": \"#E1E5ED\", \"showgrid\": false, \"tickfont\": {\"color\": \"#4D5663\"}, \"title\": {\"font\": {\"color\": \"#4D5663\"}, \"text\": \"\"}, \"zerolinecolor\": \"#E1E5ED\"}, \"yaxis10\": {\"anchor\": \"x10\", \"domain\": [0.2675, 0.465], \"gridcolor\": \"#E1E5ED\", \"showgrid\": false, \"tickfont\": {\"color\": \"#4D5663\"}, \"title\": {\"font\": {\"color\": \"#4D5663\"}, \"text\": \"\"}, \"zerolinecolor\": \"#E1E5ED\"}, \"yaxis11\": {\"anchor\": \"x11\", \"domain\": [0.2675, 0.465], \"gridcolor\": \"#E1E5ED\", \"showgrid\": false, \"tickfont\": {\"color\": \"#4D5663\"}, \"title\": {\"font\": {\"color\": \"#4D5663\"}, \"text\": \"\"}, \"zerolinecolor\": \"#E1E5ED\"}, \"yaxis12\": {\"anchor\": \"x12\", \"domain\": [0.2675, 0.465], \"gridcolor\": \"#E1E5ED\", \"showgrid\": false, \"tickfont\": {\"color\": \"#4D5663\"}, \"title\": {\"font\": {\"color\": \"#4D5663\"}, \"text\": \"\"}, \"zerolinecolor\": \"#E1E5ED\"}, \"yaxis13\": {\"anchor\": \"x13\", \"domain\": [0.0, 0.1975], \"gridcolor\": \"#E1E5ED\", \"showgrid\": false, \"tickfont\": {\"color\": \"#4D5663\"}, \"title\": {\"font\": {\"color\": \"#4D5663\"}, \"text\": \"\"}, \"zerolinecolor\": \"#E1E5ED\"}, \"yaxis14\": {\"anchor\": \"x14\", \"domain\": [0.0, 0.1975], \"gridcolor\": \"#E1E5ED\", \"showgrid\": false, \"tickfont\": {\"color\": \"#4D5663\"}, \"title\": {\"font\": {\"color\": \"#4D5663\"}, \"text\": \"\"}, \"zerolinecolor\": \"#E1E5ED\"}, \"yaxis15\": {\"anchor\": \"x15\", \"domain\": [0.0, 0.1975], \"gridcolor\": \"#E1E5ED\", \"showgrid\": false, \"tickfont\": {\"color\": \"#4D5663\"}, \"title\": {\"font\": {\"color\": \"#4D5663\"}, \"text\": \"\"}, \"zerolinecolor\": \"#E1E5ED\"}, \"yaxis16\": {\"anchor\": \"x16\", \"domain\": [0.0, 0.1975], \"gridcolor\": \"#E1E5ED\", \"showgrid\": false, \"tickfont\": {\"color\": \"#4D5663\"}, \"title\": {\"font\": {\"color\": \"#4D5663\"}, \"text\": \"\"}, \"zerolinecolor\": \"#E1E5ED\"}, \"yaxis2\": {\"anchor\": \"x2\", \"domain\": [0.8025, 1.0], \"gridcolor\": \"#E1E5ED\", \"showgrid\": false, \"tickfont\": {\"color\": \"#4D5663\"}, \"title\": {\"font\": {\"color\": \"#4D5663\"}, \"text\": \"\"}, \"zerolinecolor\": \"#E1E5ED\"}, \"yaxis3\": {\"anchor\": \"x3\", \"domain\": [0.8025, 1.0], \"gridcolor\": \"#E1E5ED\", \"showgrid\": false, \"tickfont\": {\"color\": \"#4D5663\"}, \"title\": {\"font\": {\"color\": \"#4D5663\"}, \"text\": \"\"}, \"zerolinecolor\": \"#E1E5ED\"}, \"yaxis4\": {\"anchor\": \"x4\", \"domain\": [0.8025, 1.0], \"gridcolor\": \"#E1E5ED\", \"showgrid\": false, \"tickfont\": {\"color\": \"#4D5663\"}, \"title\": {\"font\": {\"color\": \"#4D5663\"}, \"text\": \"\"}, \"zerolinecolor\": \"#E1E5ED\"}, \"yaxis5\": {\"anchor\": \"x5\", \"domain\": [0.535, 0.7325], \"gridcolor\": \"#E1E5ED\", \"showgrid\": false, \"tickfont\": {\"color\": \"#4D5663\"}, \"title\": {\"font\": {\"color\": \"#4D5663\"}, \"text\": \"\"}, \"zerolinecolor\": \"#E1E5ED\"}, \"yaxis6\": {\"anchor\": \"x6\", \"domain\": [0.535, 0.7325], \"gridcolor\": \"#E1E5ED\", \"showgrid\": false, \"tickfont\": {\"color\": \"#4D5663\"}, \"title\": {\"font\": {\"color\": \"#4D5663\"}, \"text\": \"\"}, \"zerolinecolor\": \"#E1E5ED\"}, \"yaxis7\": {\"anchor\": \"x7\", \"domain\": [0.535, 0.7325], \"gridcolor\": \"#E1E5ED\", \"showgrid\": false, \"tickfont\": {\"color\": \"#4D5663\"}, \"title\": {\"font\": {\"color\": \"#4D5663\"}, \"text\": \"\"}, \"zerolinecolor\": \"#E1E5ED\"}, \"yaxis8\": {\"anchor\": \"x8\", \"domain\": [0.535, 0.7325], \"gridcolor\": \"#E1E5ED\", \"showgrid\": false, \"tickfont\": {\"color\": \"#4D5663\"}, \"title\": {\"font\": {\"color\": \"#4D5663\"}, \"text\": \"\"}, \"zerolinecolor\": \"#E1E5ED\"}, \"yaxis9\": {\"anchor\": \"x9\", \"domain\": [0.2675, 0.465], \"gridcolor\": \"#E1E5ED\", \"showgrid\": false, \"tickfont\": {\"color\": \"#4D5663\"}, \"title\": {\"font\": {\"color\": \"#4D5663\"}, \"text\": \"\"}, \"zerolinecolor\": \"#E1E5ED\"}},                        {\"showLink\": true, \"linkText\": \"Export to plot.ly\", \"plotlyServerURL\": \"https://plot.ly\", \"responsive\": true}                    ).then(function(){\n",
       "                            \n",
       "var gd = document.getElementById('20bb3475-5cf1-4d8b-a3e2-53354d242036');\n",
       "var x = new MutationObserver(function (mutations, observer) {{\n",
       "        var display = window.getComputedStyle(gd).display;\n",
       "        if (!display || display === 'none') {{\n",
       "            console.log([gd, 'removed!']);\n",
       "            Plotly.purge(gd);\n",
       "            observer.disconnect();\n",
       "        }}\n",
       "}});\n",
       "\n",
       "// Listen for the removal of the full notebook cells\n",
       "var notebookContainer = gd.closest('#notebook-container');\n",
       "if (notebookContainer) {{\n",
       "    x.observe(notebookContainer, {childList: true});\n",
       "}}\n",
       "\n",
       "// Listen for the clearing of the current output cell\n",
       "var outputEl = gd.closest('.output');\n",
       "if (outputEl) {{\n",
       "    x.observe(outputEl, {childList: true});\n",
       "}}\n",
       "\n",
       "                        })                };                });            </script>        </div>"
      ]
     },
     "metadata": {},
     "output_type": "display_data"
    }
   ],
   "source": [
    "df.scatter_matrix()"
   ]
  },
  {
   "cell_type": "code",
   "execution_count": null,
   "metadata": {},
   "outputs": [],
   "source": []
  }
 ],
 "metadata": {
  "kernelspec": {
   "display_name": "Python 3",
   "language": "python",
   "name": "python3"
  },
  "language_info": {
   "codemirror_mode": {
    "name": "ipython",
    "version": 3
   },
   "file_extension": ".py",
   "mimetype": "text/x-python",
   "name": "python",
   "nbconvert_exporter": "python",
   "pygments_lexer": "ipython3",
   "version": "3.8.5"
  }
 },
 "nbformat": 4,
 "nbformat_minor": 1
}
