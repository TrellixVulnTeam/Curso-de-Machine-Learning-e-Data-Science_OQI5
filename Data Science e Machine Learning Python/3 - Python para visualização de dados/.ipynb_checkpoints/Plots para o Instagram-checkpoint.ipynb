{
 "cells": [
  {
   "cell_type": "code",
   "execution_count": 1,
   "metadata": {},
   "outputs": [
    {
     "data": {
      "text/html": [
       "        <script type=\"text/javascript\">\n",
       "        window.PlotlyConfig = {MathJaxConfig: 'local'};\n",
       "        if (window.MathJax) {MathJax.Hub.Config({SVG: {font: \"STIX-Web\"}});}\n",
       "        if (typeof require !== 'undefined') {\n",
       "        require.undef(\"plotly\");\n",
       "        requirejs.config({\n",
       "            paths: {\n",
       "                'plotly': ['https://cdn.plot.ly/plotly-latest.min']\n",
       "            }\n",
       "        });\n",
       "        require(['plotly'], function(Plotly) {\n",
       "            window._Plotly = Plotly;\n",
       "        });\n",
       "        }\n",
       "        </script>\n",
       "        "
      ]
     },
     "metadata": {},
     "output_type": "display_data"
    }
   ],
   "source": [
    "import plotly.graph_objs as go \n",
    "from plotly.offline import init_notebook_mode, iplot, download_plotlyjs, plot\n",
    "import pandas as pd\n",
    "import numpy as np\n",
    "init_notebook_mode(connected=True)\n",
    "%matplotlib inline"
   ]
  },
  {
   "cell_type": "code",
   "execution_count": 2,
   "metadata": {},
   "outputs": [
    {
     "name": "stdout",
     "output_type": "stream",
     "text": [
      "4.14.3\n"
     ]
    },
    {
     "data": {
      "text/html": [
       "        <script type=\"text/javascript\">\n",
       "        window.PlotlyConfig = {MathJaxConfig: 'local'};\n",
       "        if (window.MathJax) {MathJax.Hub.Config({SVG: {font: \"STIX-Web\"}});}\n",
       "        if (typeof require !== 'undefined') {\n",
       "        require.undef(\"plotly\");\n",
       "        requirejs.config({\n",
       "            paths: {\n",
       "                'plotly': ['https://cdn.plot.ly/plotly-latest.min']\n",
       "            }\n",
       "        });\n",
       "        require(['plotly'], function(Plotly) {\n",
       "            window._Plotly = Plotly;\n",
       "        });\n",
       "        }\n",
       "        </script>\n",
       "        "
      ]
     },
     "metadata": {},
     "output_type": "display_data"
    }
   ],
   "source": [
    "from plotly import __version__\n",
    "print(__version__)\n",
    "import cufflinks as cf\n",
    "cf.go_offline()"
   ]
  },
  {
   "cell_type": "code",
   "execution_count": 38,
   "metadata": {},
   "outputs": [],
   "source": [
    "df2 = pd.read_csv('2012_Election_Data')"
   ]
  },
  {
   "cell_type": "code",
   "execution_count": 39,
   "metadata": {},
   "outputs": [
    {
     "data": {
      "text/html": [
       "<div>\n",
       "<style scoped>\n",
       "    .dataframe tbody tr th:only-of-type {\n",
       "        vertical-align: middle;\n",
       "    }\n",
       "\n",
       "    .dataframe tbody tr th {\n",
       "        vertical-align: top;\n",
       "    }\n",
       "\n",
       "    .dataframe thead th {\n",
       "        text-align: right;\n",
       "    }\n",
       "</style>\n",
       "<table border=\"1\" class=\"dataframe\">\n",
       "  <thead>\n",
       "    <tr style=\"text-align: right;\">\n",
       "      <th></th>\n",
       "      <th>Year</th>\n",
       "      <th>ICPSR State Code</th>\n",
       "      <th>Alphanumeric State Code</th>\n",
       "      <th>State</th>\n",
       "      <th>VEP Total Ballots Counted</th>\n",
       "      <th>VEP Highest Office</th>\n",
       "      <th>VAP Highest Office</th>\n",
       "      <th>Total Ballots Counted</th>\n",
       "      <th>Highest Office</th>\n",
       "      <th>Voting-Eligible Population (VEP)</th>\n",
       "      <th>Voting-Age Population (VAP)</th>\n",
       "      <th>% Non-citizen</th>\n",
       "      <th>Prison</th>\n",
       "      <th>Probation</th>\n",
       "      <th>Parole</th>\n",
       "      <th>Total Ineligible Felon</th>\n",
       "      <th>State Abv</th>\n",
       "    </tr>\n",
       "  </thead>\n",
       "  <tbody>\n",
       "    <tr>\n",
       "      <th>0</th>\n",
       "      <td>2012</td>\n",
       "      <td>41</td>\n",
       "      <td>1</td>\n",
       "      <td>Alabama</td>\n",
       "      <td>NaN</td>\n",
       "      <td>58.6%</td>\n",
       "      <td>56.0%</td>\n",
       "      <td>NaN</td>\n",
       "      <td>2,074,338</td>\n",
       "      <td>3,539,217</td>\n",
       "      <td>3707440.0</td>\n",
       "      <td>2.6%</td>\n",
       "      <td>32,232</td>\n",
       "      <td>57,993</td>\n",
       "      <td>8,616</td>\n",
       "      <td>71,584</td>\n",
       "      <td>AL</td>\n",
       "    </tr>\n",
       "    <tr>\n",
       "      <th>1</th>\n",
       "      <td>2012</td>\n",
       "      <td>81</td>\n",
       "      <td>2</td>\n",
       "      <td>Alaska</td>\n",
       "      <td>58.9%</td>\n",
       "      <td>58.7%</td>\n",
       "      <td>55.3%</td>\n",
       "      <td>301,694</td>\n",
       "      <td>300,495</td>\n",
       "      <td>511,792</td>\n",
       "      <td>543763.0</td>\n",
       "      <td>3.8%</td>\n",
       "      <td>5,633</td>\n",
       "      <td>7,173</td>\n",
       "      <td>1,882</td>\n",
       "      <td>11,317</td>\n",
       "      <td>AK</td>\n",
       "    </tr>\n",
       "    <tr>\n",
       "      <th>2</th>\n",
       "      <td>2012</td>\n",
       "      <td>61</td>\n",
       "      <td>3</td>\n",
       "      <td>Arizona</td>\n",
       "      <td>53.0%</td>\n",
       "      <td>52.6%</td>\n",
       "      <td>46.5%</td>\n",
       "      <td>2,323,579</td>\n",
       "      <td>2,306,559</td>\n",
       "      <td>4,387,900</td>\n",
       "      <td>4959270.0</td>\n",
       "      <td>9.9%</td>\n",
       "      <td>35,188</td>\n",
       "      <td>72,452</td>\n",
       "      <td>7,460</td>\n",
       "      <td>81,048</td>\n",
       "      <td>AZ</td>\n",
       "    </tr>\n",
       "    <tr>\n",
       "      <th>3</th>\n",
       "      <td>2012</td>\n",
       "      <td>42</td>\n",
       "      <td>4</td>\n",
       "      <td>Arkansas</td>\n",
       "      <td>51.1%</td>\n",
       "      <td>50.7%</td>\n",
       "      <td>47.7%</td>\n",
       "      <td>1,078,548</td>\n",
       "      <td>1,069,468</td>\n",
       "      <td>2,109,847</td>\n",
       "      <td>2242740.0</td>\n",
       "      <td>3.5%</td>\n",
       "      <td>14,471</td>\n",
       "      <td>30,122</td>\n",
       "      <td>23,372</td>\n",
       "      <td>53,808</td>\n",
       "      <td>AR</td>\n",
       "    </tr>\n",
       "    <tr>\n",
       "      <th>4</th>\n",
       "      <td>2012</td>\n",
       "      <td>71</td>\n",
       "      <td>5</td>\n",
       "      <td>California</td>\n",
       "      <td>55.7%</td>\n",
       "      <td>55.1%</td>\n",
       "      <td>45.1%</td>\n",
       "      <td>13,202,158</td>\n",
       "      <td>13,038,547</td>\n",
       "      <td>23,681,837</td>\n",
       "      <td>28913129.0</td>\n",
       "      <td>17.4%</td>\n",
       "      <td>119,455</td>\n",
       "      <td>0</td>\n",
       "      <td>89,287</td>\n",
       "      <td>208,742</td>\n",
       "      <td>CA</td>\n",
       "    </tr>\n",
       "  </tbody>\n",
       "</table>\n",
       "</div>"
      ],
      "text/plain": [
       "   Year  ICPSR State Code  Alphanumeric State Code       State  \\\n",
       "0  2012                41                        1     Alabama   \n",
       "1  2012                81                        2      Alaska   \n",
       "2  2012                61                        3     Arizona   \n",
       "3  2012                42                        4    Arkansas   \n",
       "4  2012                71                        5  California   \n",
       "\n",
       "  VEP Total Ballots Counted VEP Highest Office VAP Highest Office  \\\n",
       "0                       NaN              58.6%              56.0%   \n",
       "1                     58.9%              58.7%              55.3%   \n",
       "2                     53.0%              52.6%              46.5%   \n",
       "3                     51.1%              50.7%              47.7%   \n",
       "4                     55.7%              55.1%              45.1%   \n",
       "\n",
       "  Total Ballots Counted Highest Office Voting-Eligible Population (VEP)  \\\n",
       "0                   NaN      2,074,338                        3,539,217   \n",
       "1               301,694        300,495                          511,792   \n",
       "2             2,323,579      2,306,559                        4,387,900   \n",
       "3             1,078,548      1,069,468                        2,109,847   \n",
       "4            13,202,158     13,038,547                       23,681,837   \n",
       "\n",
       "   Voting-Age Population (VAP) % Non-citizen   Prison Probation  Parole  \\\n",
       "0                    3707440.0          2.6%   32,232    57,993   8,616   \n",
       "1                     543763.0          3.8%    5,633     7,173   1,882   \n",
       "2                    4959270.0          9.9%   35,188    72,452   7,460   \n",
       "3                    2242740.0          3.5%   14,471    30,122  23,372   \n",
       "4                   28913129.0         17.4%  119,455         0  89,287   \n",
       "\n",
       "  Total Ineligible Felon State Abv  \n",
       "0                 71,584        AL  \n",
       "1                 11,317        AK  \n",
       "2                 81,048        AZ  \n",
       "3                 53,808        AR  \n",
       "4                208,742        CA  "
      ]
     },
     "execution_count": 39,
     "metadata": {},
     "output_type": "execute_result"
    }
   ],
   "source": [
    "df2.head()"
   ]
  },
  {
   "cell_type": "code",
   "execution_count": 40,
   "metadata": {},
   "outputs": [],
   "source": [
    "data1 = dict(\n",
    "        type = 'choropleth',\n",
    "        locations = df2['State Abv'],\n",
    "        colorscale = 'Viridis',\n",
    "        reversescale = True,\n",
    "        z = df2['Voting-Age Population (VAP)'],\n",
    "        locationmode = 'USA-states',\n",
    "        marker = dict(line = dict(color = 'rgb(255,255,255)',width = 1)), \n",
    "        text = df2['State'],\n",
    "        colorbar = {'title': 'Population Voting (VAP)'}) "
   ]
  },
  {
   "cell_type": "code",
   "execution_count": 41,
   "metadata": {},
   "outputs": [],
   "source": [
    "layout1 = dict(title='Dados eleições americanas 2012',\n",
    "              geo = dict(\n",
    "              scope='usa',\n",
    "              showlakes = True,\n",
    "              lakecolor = 'rgb(85,173,240)')\n",
    "              )"
   ]
  },
  {
   "cell_type": "code",
   "execution_count": 42,
   "metadata": {},
   "outputs": [
    {
     "data": {
      "application/vnd.plotly.v1+json": {
       "config": {
        "linkText": "Export to plot.ly",
        "plotlyServerURL": "https://plot.ly",
        "showLink": false
       },
       "data": [
        {
         "colorbar": {
          "title": {
           "text": "Population Voting (VAP)"
          }
         },
         "colorscale": [
          [
           0,
           "#440154"
          ],
          [
           0.1111111111111111,
           "#482878"
          ],
          [
           0.2222222222222222,
           "#3e4989"
          ],
          [
           0.3333333333333333,
           "#31688e"
          ],
          [
           0.4444444444444444,
           "#26828e"
          ],
          [
           0.5555555555555556,
           "#1f9e89"
          ],
          [
           0.6666666666666666,
           "#35b779"
          ],
          [
           0.7777777777777778,
           "#6ece58"
          ],
          [
           0.8888888888888888,
           "#b5de2b"
          ],
          [
           1,
           "#fde725"
          ]
         ],
         "locationmode": "USA-states",
         "locations": [
          "AL",
          "AK",
          "AZ",
          "AR",
          "CA",
          "CO",
          "CT",
          "DE",
          "District of Columbia",
          "FL",
          "GA",
          "HI",
          "ID",
          "IL",
          "IN",
          "IA",
          "KS",
          "KY",
          "LA",
          "ME",
          "MD",
          "MA",
          "MI",
          "MN",
          "MS",
          "MO",
          "MT",
          "NE",
          "NV",
          "NH",
          "NJ",
          "NM",
          "NY",
          "NC",
          "ND",
          "OH",
          "OK",
          "OR",
          "PA",
          "RI",
          "SC",
          "SD",
          "TN",
          "TX",
          "UT",
          "VT",
          "VA",
          "WA",
          "WV",
          "WI",
          "WY"
         ],
         "marker": {
          "line": {
           "color": "rgb(255,255,255)",
           "width": 1
          }
         },
         "reversescale": true,
         "text": [
          "Alabama",
          "Alaska",
          "Arizona",
          "Arkansas",
          "California",
          "Colorado",
          "Connecticut",
          "Delaware",
          "District of Columbia",
          "Florida",
          "Georgia",
          "Hawaii",
          "Idaho",
          "Illinois",
          "Indiana",
          "Iowa",
          "Kansas",
          "Kentucky",
          "Louisiana",
          "Maine",
          "Maryland",
          "Massachusetts",
          "Michigan",
          "Minnesota",
          "Mississippi",
          "Missouri",
          "Montana",
          "Nebraska",
          "Nevada",
          "New Hampshire",
          "New Jersey",
          "New Mexico",
          "New York",
          "North Carolina",
          "North Dakota",
          "Ohio",
          "Oklahoma",
          "Oregon",
          "Pennsylvania",
          "Rhode Island",
          "South Carolina",
          "South Dakota",
          "Tennessee",
          "Texas",
          "Utah",
          "Vermont",
          "Virginia",
          "Washington",
          "West Virginia",
          "Wisconsin",
          "Wyoming"
         ],
         "type": "choropleth",
         "z": [
          3707440,
          543763,
          4959270,
          2242740,
          28913129,
          3981208,
          2801375,
          715708,
          528848,
          15380947,
          7452696,
          1088335,
          1173727,
          9827043,
          4960376,
          2356209,
          2162442,
          3368684,
          3495847,
          1064779,
          4553853,
          5263550,
          7625576,
          4114820,
          2246931,
          4628500,
          785454,
          1396507,
          2105976,
          1047978,
          6847503,
          1573400,
          15344671,
          7496980,
          549955,
          8896930,
          2885093,
          3050747,
          10037099,
          834983,
          3662322,
          631472,
          4976284,
          19185395,
          1978956,
          502242,
          6348827,
          5329782,
          1472642,
          4417273,
          441726
         ]
        }
       ],
       "layout": {
        "geo": {
         "lakecolor": "rgb(85,173,240)",
         "scope": "usa",
         "showlakes": true
        },
        "template": {
         "data": {
          "bar": [
           {
            "error_x": {
             "color": "#2a3f5f"
            },
            "error_y": {
             "color": "#2a3f5f"
            },
            "marker": {
             "line": {
              "color": "#E5ECF6",
              "width": 0.5
             }
            },
            "type": "bar"
           }
          ],
          "barpolar": [
           {
            "marker": {
             "line": {
              "color": "#E5ECF6",
              "width": 0.5
             }
            },
            "type": "barpolar"
           }
          ],
          "carpet": [
           {
            "aaxis": {
             "endlinecolor": "#2a3f5f",
             "gridcolor": "white",
             "linecolor": "white",
             "minorgridcolor": "white",
             "startlinecolor": "#2a3f5f"
            },
            "baxis": {
             "endlinecolor": "#2a3f5f",
             "gridcolor": "white",
             "linecolor": "white",
             "minorgridcolor": "white",
             "startlinecolor": "#2a3f5f"
            },
            "type": "carpet"
           }
          ],
          "choropleth": [
           {
            "colorbar": {
             "outlinewidth": 0,
             "ticks": ""
            },
            "type": "choropleth"
           }
          ],
          "contour": [
           {
            "colorbar": {
             "outlinewidth": 0,
             "ticks": ""
            },
            "colorscale": [
             [
              0,
              "#0d0887"
             ],
             [
              0.1111111111111111,
              "#46039f"
             ],
             [
              0.2222222222222222,
              "#7201a8"
             ],
             [
              0.3333333333333333,
              "#9c179e"
             ],
             [
              0.4444444444444444,
              "#bd3786"
             ],
             [
              0.5555555555555556,
              "#d8576b"
             ],
             [
              0.6666666666666666,
              "#ed7953"
             ],
             [
              0.7777777777777778,
              "#fb9f3a"
             ],
             [
              0.8888888888888888,
              "#fdca26"
             ],
             [
              1,
              "#f0f921"
             ]
            ],
            "type": "contour"
           }
          ],
          "contourcarpet": [
           {
            "colorbar": {
             "outlinewidth": 0,
             "ticks": ""
            },
            "type": "contourcarpet"
           }
          ],
          "heatmap": [
           {
            "colorbar": {
             "outlinewidth": 0,
             "ticks": ""
            },
            "colorscale": [
             [
              0,
              "#0d0887"
             ],
             [
              0.1111111111111111,
              "#46039f"
             ],
             [
              0.2222222222222222,
              "#7201a8"
             ],
             [
              0.3333333333333333,
              "#9c179e"
             ],
             [
              0.4444444444444444,
              "#bd3786"
             ],
             [
              0.5555555555555556,
              "#d8576b"
             ],
             [
              0.6666666666666666,
              "#ed7953"
             ],
             [
              0.7777777777777778,
              "#fb9f3a"
             ],
             [
              0.8888888888888888,
              "#fdca26"
             ],
             [
              1,
              "#f0f921"
             ]
            ],
            "type": "heatmap"
           }
          ],
          "heatmapgl": [
           {
            "colorbar": {
             "outlinewidth": 0,
             "ticks": ""
            },
            "colorscale": [
             [
              0,
              "#0d0887"
             ],
             [
              0.1111111111111111,
              "#46039f"
             ],
             [
              0.2222222222222222,
              "#7201a8"
             ],
             [
              0.3333333333333333,
              "#9c179e"
             ],
             [
              0.4444444444444444,
              "#bd3786"
             ],
             [
              0.5555555555555556,
              "#d8576b"
             ],
             [
              0.6666666666666666,
              "#ed7953"
             ],
             [
              0.7777777777777778,
              "#fb9f3a"
             ],
             [
              0.8888888888888888,
              "#fdca26"
             ],
             [
              1,
              "#f0f921"
             ]
            ],
            "type": "heatmapgl"
           }
          ],
          "histogram": [
           {
            "marker": {
             "colorbar": {
              "outlinewidth": 0,
              "ticks": ""
             }
            },
            "type": "histogram"
           }
          ],
          "histogram2d": [
           {
            "colorbar": {
             "outlinewidth": 0,
             "ticks": ""
            },
            "colorscale": [
             [
              0,
              "#0d0887"
             ],
             [
              0.1111111111111111,
              "#46039f"
             ],
             [
              0.2222222222222222,
              "#7201a8"
             ],
             [
              0.3333333333333333,
              "#9c179e"
             ],
             [
              0.4444444444444444,
              "#bd3786"
             ],
             [
              0.5555555555555556,
              "#d8576b"
             ],
             [
              0.6666666666666666,
              "#ed7953"
             ],
             [
              0.7777777777777778,
              "#fb9f3a"
             ],
             [
              0.8888888888888888,
              "#fdca26"
             ],
             [
              1,
              "#f0f921"
             ]
            ],
            "type": "histogram2d"
           }
          ],
          "histogram2dcontour": [
           {
            "colorbar": {
             "outlinewidth": 0,
             "ticks": ""
            },
            "colorscale": [
             [
              0,
              "#0d0887"
             ],
             [
              0.1111111111111111,
              "#46039f"
             ],
             [
              0.2222222222222222,
              "#7201a8"
             ],
             [
              0.3333333333333333,
              "#9c179e"
             ],
             [
              0.4444444444444444,
              "#bd3786"
             ],
             [
              0.5555555555555556,
              "#d8576b"
             ],
             [
              0.6666666666666666,
              "#ed7953"
             ],
             [
              0.7777777777777778,
              "#fb9f3a"
             ],
             [
              0.8888888888888888,
              "#fdca26"
             ],
             [
              1,
              "#f0f921"
             ]
            ],
            "type": "histogram2dcontour"
           }
          ],
          "mesh3d": [
           {
            "colorbar": {
             "outlinewidth": 0,
             "ticks": ""
            },
            "type": "mesh3d"
           }
          ],
          "parcoords": [
           {
            "line": {
             "colorbar": {
              "outlinewidth": 0,
              "ticks": ""
             }
            },
            "type": "parcoords"
           }
          ],
          "pie": [
           {
            "automargin": true,
            "type": "pie"
           }
          ],
          "scatter": [
           {
            "marker": {
             "colorbar": {
              "outlinewidth": 0,
              "ticks": ""
             }
            },
            "type": "scatter"
           }
          ],
          "scatter3d": [
           {
            "line": {
             "colorbar": {
              "outlinewidth": 0,
              "ticks": ""
             }
            },
            "marker": {
             "colorbar": {
              "outlinewidth": 0,
              "ticks": ""
             }
            },
            "type": "scatter3d"
           }
          ],
          "scattercarpet": [
           {
            "marker": {
             "colorbar": {
              "outlinewidth": 0,
              "ticks": ""
             }
            },
            "type": "scattercarpet"
           }
          ],
          "scattergeo": [
           {
            "marker": {
             "colorbar": {
              "outlinewidth": 0,
              "ticks": ""
             }
            },
            "type": "scattergeo"
           }
          ],
          "scattergl": [
           {
            "marker": {
             "colorbar": {
              "outlinewidth": 0,
              "ticks": ""
             }
            },
            "type": "scattergl"
           }
          ],
          "scattermapbox": [
           {
            "marker": {
             "colorbar": {
              "outlinewidth": 0,
              "ticks": ""
             }
            },
            "type": "scattermapbox"
           }
          ],
          "scatterpolar": [
           {
            "marker": {
             "colorbar": {
              "outlinewidth": 0,
              "ticks": ""
             }
            },
            "type": "scatterpolar"
           }
          ],
          "scatterpolargl": [
           {
            "marker": {
             "colorbar": {
              "outlinewidth": 0,
              "ticks": ""
             }
            },
            "type": "scatterpolargl"
           }
          ],
          "scatterternary": [
           {
            "marker": {
             "colorbar": {
              "outlinewidth": 0,
              "ticks": ""
             }
            },
            "type": "scatterternary"
           }
          ],
          "surface": [
           {
            "colorbar": {
             "outlinewidth": 0,
             "ticks": ""
            },
            "colorscale": [
             [
              0,
              "#0d0887"
             ],
             [
              0.1111111111111111,
              "#46039f"
             ],
             [
              0.2222222222222222,
              "#7201a8"
             ],
             [
              0.3333333333333333,
              "#9c179e"
             ],
             [
              0.4444444444444444,
              "#bd3786"
             ],
             [
              0.5555555555555556,
              "#d8576b"
             ],
             [
              0.6666666666666666,
              "#ed7953"
             ],
             [
              0.7777777777777778,
              "#fb9f3a"
             ],
             [
              0.8888888888888888,
              "#fdca26"
             ],
             [
              1,
              "#f0f921"
             ]
            ],
            "type": "surface"
           }
          ],
          "table": [
           {
            "cells": {
             "fill": {
              "color": "#EBF0F8"
             },
             "line": {
              "color": "white"
             }
            },
            "header": {
             "fill": {
              "color": "#C8D4E3"
             },
             "line": {
              "color": "white"
             }
            },
            "type": "table"
           }
          ]
         },
         "layout": {
          "annotationdefaults": {
           "arrowcolor": "#2a3f5f",
           "arrowhead": 0,
           "arrowwidth": 1
          },
          "autotypenumbers": "strict",
          "coloraxis": {
           "colorbar": {
            "outlinewidth": 0,
            "ticks": ""
           }
          },
          "colorscale": {
           "diverging": [
            [
             0,
             "#8e0152"
            ],
            [
             0.1,
             "#c51b7d"
            ],
            [
             0.2,
             "#de77ae"
            ],
            [
             0.3,
             "#f1b6da"
            ],
            [
             0.4,
             "#fde0ef"
            ],
            [
             0.5,
             "#f7f7f7"
            ],
            [
             0.6,
             "#e6f5d0"
            ],
            [
             0.7,
             "#b8e186"
            ],
            [
             0.8,
             "#7fbc41"
            ],
            [
             0.9,
             "#4d9221"
            ],
            [
             1,
             "#276419"
            ]
           ],
           "sequential": [
            [
             0,
             "#0d0887"
            ],
            [
             0.1111111111111111,
             "#46039f"
            ],
            [
             0.2222222222222222,
             "#7201a8"
            ],
            [
             0.3333333333333333,
             "#9c179e"
            ],
            [
             0.4444444444444444,
             "#bd3786"
            ],
            [
             0.5555555555555556,
             "#d8576b"
            ],
            [
             0.6666666666666666,
             "#ed7953"
            ],
            [
             0.7777777777777778,
             "#fb9f3a"
            ],
            [
             0.8888888888888888,
             "#fdca26"
            ],
            [
             1,
             "#f0f921"
            ]
           ],
           "sequentialminus": [
            [
             0,
             "#0d0887"
            ],
            [
             0.1111111111111111,
             "#46039f"
            ],
            [
             0.2222222222222222,
             "#7201a8"
            ],
            [
             0.3333333333333333,
             "#9c179e"
            ],
            [
             0.4444444444444444,
             "#bd3786"
            ],
            [
             0.5555555555555556,
             "#d8576b"
            ],
            [
             0.6666666666666666,
             "#ed7953"
            ],
            [
             0.7777777777777778,
             "#fb9f3a"
            ],
            [
             0.8888888888888888,
             "#fdca26"
            ],
            [
             1,
             "#f0f921"
            ]
           ]
          },
          "colorway": [
           "#636efa",
           "#EF553B",
           "#00cc96",
           "#ab63fa",
           "#FFA15A",
           "#19d3f3",
           "#FF6692",
           "#B6E880",
           "#FF97FF",
           "#FECB52"
          ],
          "font": {
           "color": "#2a3f5f"
          },
          "geo": {
           "bgcolor": "white",
           "lakecolor": "white",
           "landcolor": "#E5ECF6",
           "showlakes": true,
           "showland": true,
           "subunitcolor": "white"
          },
          "hoverlabel": {
           "align": "left"
          },
          "hovermode": "closest",
          "mapbox": {
           "style": "light"
          },
          "paper_bgcolor": "white",
          "plot_bgcolor": "#E5ECF6",
          "polar": {
           "angularaxis": {
            "gridcolor": "white",
            "linecolor": "white",
            "ticks": ""
           },
           "bgcolor": "#E5ECF6",
           "radialaxis": {
            "gridcolor": "white",
            "linecolor": "white",
            "ticks": ""
           }
          },
          "scene": {
           "xaxis": {
            "backgroundcolor": "#E5ECF6",
            "gridcolor": "white",
            "gridwidth": 2,
            "linecolor": "white",
            "showbackground": true,
            "ticks": "",
            "zerolinecolor": "white"
           },
           "yaxis": {
            "backgroundcolor": "#E5ECF6",
            "gridcolor": "white",
            "gridwidth": 2,
            "linecolor": "white",
            "showbackground": true,
            "ticks": "",
            "zerolinecolor": "white"
           },
           "zaxis": {
            "backgroundcolor": "#E5ECF6",
            "gridcolor": "white",
            "gridwidth": 2,
            "linecolor": "white",
            "showbackground": true,
            "ticks": "",
            "zerolinecolor": "white"
           }
          },
          "shapedefaults": {
           "line": {
            "color": "#2a3f5f"
           }
          },
          "ternary": {
           "aaxis": {
            "gridcolor": "white",
            "linecolor": "white",
            "ticks": ""
           },
           "baxis": {
            "gridcolor": "white",
            "linecolor": "white",
            "ticks": ""
           },
           "bgcolor": "#E5ECF6",
           "caxis": {
            "gridcolor": "white",
            "linecolor": "white",
            "ticks": ""
           }
          },
          "title": {
           "x": 0.05
          },
          "xaxis": {
           "automargin": true,
           "gridcolor": "white",
           "linecolor": "white",
           "ticks": "",
           "title": {
            "standoff": 15
           },
           "zerolinecolor": "white",
           "zerolinewidth": 2
          },
          "yaxis": {
           "automargin": true,
           "gridcolor": "white",
           "linecolor": "white",
           "ticks": "",
           "title": {
            "standoff": 15
           },
           "zerolinecolor": "white",
           "zerolinewidth": 2
          }
         }
        },
        "title": {
         "text": "Dados eleições americanas 2012"
        }
       }
      },
      "text/html": [
       "<div>                            <div id=\"6b95a7aa-cfdd-4e8a-bf5f-d80af33d844f\" class=\"plotly-graph-div\" style=\"height:525px; width:100%;\"></div>            <script type=\"text/javascript\">                require([\"plotly\"], function(Plotly) {                    window.PLOTLYENV=window.PLOTLYENV || {};                                    if (document.getElementById(\"6b95a7aa-cfdd-4e8a-bf5f-d80af33d844f\")) {                    Plotly.newPlot(                        \"6b95a7aa-cfdd-4e8a-bf5f-d80af33d844f\",                        [{\"colorbar\": {\"title\": {\"text\": \"Population Voting (VAP)\"}}, \"colorscale\": [[0.0, \"#440154\"], [0.1111111111111111, \"#482878\"], [0.2222222222222222, \"#3e4989\"], [0.3333333333333333, \"#31688e\"], [0.4444444444444444, \"#26828e\"], [0.5555555555555556, \"#1f9e89\"], [0.6666666666666666, \"#35b779\"], [0.7777777777777778, \"#6ece58\"], [0.8888888888888888, \"#b5de2b\"], [1.0, \"#fde725\"]], \"locationmode\": \"USA-states\", \"locations\": [\"AL\", \"AK\", \"AZ\", \"AR\", \"CA\", \"CO\", \"CT\", \"DE\", \"District of Columbia\", \"FL\", \"GA\", \"HI\", \"ID\", \"IL\", \"IN\", \"IA\", \"KS\", \"KY\", \"LA\", \"ME\", \"MD\", \"MA\", \"MI\", \"MN\", \"MS\", \"MO\", \"MT\", \"NE\", \"NV\", \"NH\", \"NJ\", \"NM\", \"NY\", \"NC\", \"ND\", \"OH\", \"OK\", \"OR\", \"PA\", \"RI\", \"SC\", \"SD\", \"TN\", \"TX\", \"UT\", \"VT\", \"VA\", \"WA\", \"WV\", \"WI\", \"WY\"], \"marker\": {\"line\": {\"color\": \"rgb(255,255,255)\", \"width\": 1}}, \"reversescale\": true, \"text\": [\"Alabama\", \"Alaska\", \"Arizona\", \"Arkansas\", \"California\", \"Colorado\", \"Connecticut\", \"Delaware\", \"District of Columbia\", \"Florida\", \"Georgia\", \"Hawaii\", \"Idaho\", \"Illinois\", \"Indiana\", \"Iowa\", \"Kansas\", \"Kentucky\", \"Louisiana\", \"Maine\", \"Maryland\", \"Massachusetts\", \"Michigan\", \"Minnesota\", \"Mississippi\", \"Missouri\", \"Montana\", \"Nebraska\", \"Nevada\", \"New Hampshire\", \"New Jersey\", \"New Mexico\", \"New York\", \"North Carolina\", \"North Dakota\", \"Ohio\", \"Oklahoma\", \"Oregon\", \"Pennsylvania\", \"Rhode Island\", \"South Carolina\", \"South Dakota\", \"Tennessee\", \"Texas\", \"Utah\", \"Vermont\", \"Virginia\", \"Washington\", \"West Virginia\", \"Wisconsin\", \"Wyoming\"], \"type\": \"choropleth\", \"z\": [3707440.0, 543763.0, 4959270.0, 2242740.0, 28913129.0, 3981208.0, 2801375.0, 715708.0, 528848.0, 15380947.0, 7452696.0, 1088335.0, 1173727.0, 9827043.0, 4960376.0, 2356209.0, 2162442.0, 3368684.0, 3495847.0, 1064779.0, 4553853.0, 5263550.0, 7625576.0, 4114820.0, 2246931.0, 4628500.0, 785454.0, 1396507.0, 2105976.0, 1047978.0, 6847503.0, 1573400.0, 15344671.0, 7496980.0, 549955.0, 8896930.0, 2885093.0, 3050747.0, 10037099.0, 834983.0, 3662322.0, 631472.0, 4976284.0, 19185395.0, 1978956.0, 502242.0, 6348827.0, 5329782.0, 1472642.0, 4417273.0, 441726.0]}],                        {\"geo\": {\"lakecolor\": \"rgb(85,173,240)\", \"scope\": \"usa\", \"showlakes\": true}, \"template\": {\"data\": {\"bar\": [{\"error_x\": {\"color\": \"#2a3f5f\"}, \"error_y\": {\"color\": \"#2a3f5f\"}, \"marker\": {\"line\": {\"color\": \"#E5ECF6\", \"width\": 0.5}}, \"type\": \"bar\"}], \"barpolar\": [{\"marker\": {\"line\": {\"color\": \"#E5ECF6\", \"width\": 0.5}}, \"type\": \"barpolar\"}], \"carpet\": [{\"aaxis\": {\"endlinecolor\": \"#2a3f5f\", \"gridcolor\": \"white\", \"linecolor\": \"white\", \"minorgridcolor\": \"white\", \"startlinecolor\": \"#2a3f5f\"}, \"baxis\": {\"endlinecolor\": \"#2a3f5f\", \"gridcolor\": \"white\", \"linecolor\": \"white\", \"minorgridcolor\": \"white\", \"startlinecolor\": \"#2a3f5f\"}, \"type\": \"carpet\"}], \"choropleth\": [{\"colorbar\": {\"outlinewidth\": 0, \"ticks\": \"\"}, \"type\": \"choropleth\"}], \"contour\": [{\"colorbar\": {\"outlinewidth\": 0, \"ticks\": \"\"}, \"colorscale\": [[0.0, \"#0d0887\"], [0.1111111111111111, \"#46039f\"], [0.2222222222222222, \"#7201a8\"], [0.3333333333333333, \"#9c179e\"], [0.4444444444444444, \"#bd3786\"], [0.5555555555555556, \"#d8576b\"], [0.6666666666666666, \"#ed7953\"], [0.7777777777777778, \"#fb9f3a\"], [0.8888888888888888, \"#fdca26\"], [1.0, \"#f0f921\"]], \"type\": \"contour\"}], \"contourcarpet\": [{\"colorbar\": {\"outlinewidth\": 0, \"ticks\": \"\"}, \"type\": \"contourcarpet\"}], \"heatmap\": [{\"colorbar\": {\"outlinewidth\": 0, \"ticks\": \"\"}, \"colorscale\": [[0.0, \"#0d0887\"], [0.1111111111111111, \"#46039f\"], [0.2222222222222222, \"#7201a8\"], [0.3333333333333333, \"#9c179e\"], [0.4444444444444444, \"#bd3786\"], [0.5555555555555556, \"#d8576b\"], [0.6666666666666666, \"#ed7953\"], [0.7777777777777778, \"#fb9f3a\"], [0.8888888888888888, \"#fdca26\"], [1.0, \"#f0f921\"]], \"type\": \"heatmap\"}], \"heatmapgl\": [{\"colorbar\": {\"outlinewidth\": 0, \"ticks\": \"\"}, \"colorscale\": [[0.0, \"#0d0887\"], [0.1111111111111111, \"#46039f\"], [0.2222222222222222, \"#7201a8\"], [0.3333333333333333, \"#9c179e\"], [0.4444444444444444, \"#bd3786\"], [0.5555555555555556, \"#d8576b\"], [0.6666666666666666, \"#ed7953\"], [0.7777777777777778, \"#fb9f3a\"], [0.8888888888888888, \"#fdca26\"], [1.0, \"#f0f921\"]], \"type\": \"heatmapgl\"}], \"histogram\": [{\"marker\": {\"colorbar\": {\"outlinewidth\": 0, \"ticks\": \"\"}}, \"type\": \"histogram\"}], \"histogram2d\": [{\"colorbar\": {\"outlinewidth\": 0, \"ticks\": \"\"}, \"colorscale\": [[0.0, \"#0d0887\"], [0.1111111111111111, \"#46039f\"], [0.2222222222222222, \"#7201a8\"], [0.3333333333333333, \"#9c179e\"], [0.4444444444444444, \"#bd3786\"], [0.5555555555555556, \"#d8576b\"], [0.6666666666666666, \"#ed7953\"], [0.7777777777777778, \"#fb9f3a\"], [0.8888888888888888, \"#fdca26\"], [1.0, \"#f0f921\"]], \"type\": \"histogram2d\"}], \"histogram2dcontour\": [{\"colorbar\": {\"outlinewidth\": 0, \"ticks\": \"\"}, \"colorscale\": [[0.0, \"#0d0887\"], [0.1111111111111111, \"#46039f\"], [0.2222222222222222, \"#7201a8\"], [0.3333333333333333, \"#9c179e\"], [0.4444444444444444, \"#bd3786\"], [0.5555555555555556, \"#d8576b\"], [0.6666666666666666, \"#ed7953\"], [0.7777777777777778, \"#fb9f3a\"], [0.8888888888888888, \"#fdca26\"], [1.0, \"#f0f921\"]], \"type\": \"histogram2dcontour\"}], \"mesh3d\": [{\"colorbar\": {\"outlinewidth\": 0, \"ticks\": \"\"}, \"type\": \"mesh3d\"}], \"parcoords\": [{\"line\": {\"colorbar\": {\"outlinewidth\": 0, \"ticks\": \"\"}}, \"type\": \"parcoords\"}], \"pie\": [{\"automargin\": true, \"type\": \"pie\"}], \"scatter\": [{\"marker\": {\"colorbar\": {\"outlinewidth\": 0, \"ticks\": \"\"}}, \"type\": \"scatter\"}], \"scatter3d\": [{\"line\": {\"colorbar\": {\"outlinewidth\": 0, \"ticks\": \"\"}}, \"marker\": {\"colorbar\": {\"outlinewidth\": 0, \"ticks\": \"\"}}, \"type\": \"scatter3d\"}], \"scattercarpet\": [{\"marker\": {\"colorbar\": {\"outlinewidth\": 0, \"ticks\": \"\"}}, \"type\": \"scattercarpet\"}], \"scattergeo\": [{\"marker\": {\"colorbar\": {\"outlinewidth\": 0, \"ticks\": \"\"}}, \"type\": \"scattergeo\"}], \"scattergl\": [{\"marker\": {\"colorbar\": {\"outlinewidth\": 0, \"ticks\": \"\"}}, \"type\": \"scattergl\"}], \"scattermapbox\": [{\"marker\": {\"colorbar\": {\"outlinewidth\": 0, \"ticks\": \"\"}}, \"type\": \"scattermapbox\"}], \"scatterpolar\": [{\"marker\": {\"colorbar\": {\"outlinewidth\": 0, \"ticks\": \"\"}}, \"type\": \"scatterpolar\"}], \"scatterpolargl\": [{\"marker\": {\"colorbar\": {\"outlinewidth\": 0, \"ticks\": \"\"}}, \"type\": \"scatterpolargl\"}], \"scatterternary\": [{\"marker\": {\"colorbar\": {\"outlinewidth\": 0, \"ticks\": \"\"}}, \"type\": \"scatterternary\"}], \"surface\": [{\"colorbar\": {\"outlinewidth\": 0, \"ticks\": \"\"}, \"colorscale\": [[0.0, \"#0d0887\"], [0.1111111111111111, \"#46039f\"], [0.2222222222222222, \"#7201a8\"], [0.3333333333333333, \"#9c179e\"], [0.4444444444444444, \"#bd3786\"], [0.5555555555555556, \"#d8576b\"], [0.6666666666666666, \"#ed7953\"], [0.7777777777777778, \"#fb9f3a\"], [0.8888888888888888, \"#fdca26\"], [1.0, \"#f0f921\"]], \"type\": \"surface\"}], \"table\": [{\"cells\": {\"fill\": {\"color\": \"#EBF0F8\"}, \"line\": {\"color\": \"white\"}}, \"header\": {\"fill\": {\"color\": \"#C8D4E3\"}, \"line\": {\"color\": \"white\"}}, \"type\": \"table\"}]}, \"layout\": {\"annotationdefaults\": {\"arrowcolor\": \"#2a3f5f\", \"arrowhead\": 0, \"arrowwidth\": 1}, \"autotypenumbers\": \"strict\", \"coloraxis\": {\"colorbar\": {\"outlinewidth\": 0, \"ticks\": \"\"}}, \"colorscale\": {\"diverging\": [[0, \"#8e0152\"], [0.1, \"#c51b7d\"], [0.2, \"#de77ae\"], [0.3, \"#f1b6da\"], [0.4, \"#fde0ef\"], [0.5, \"#f7f7f7\"], [0.6, \"#e6f5d0\"], [0.7, \"#b8e186\"], [0.8, \"#7fbc41\"], [0.9, \"#4d9221\"], [1, \"#276419\"]], \"sequential\": [[0.0, \"#0d0887\"], [0.1111111111111111, \"#46039f\"], [0.2222222222222222, \"#7201a8\"], [0.3333333333333333, \"#9c179e\"], [0.4444444444444444, \"#bd3786\"], [0.5555555555555556, \"#d8576b\"], [0.6666666666666666, \"#ed7953\"], [0.7777777777777778, \"#fb9f3a\"], [0.8888888888888888, \"#fdca26\"], [1.0, \"#f0f921\"]], \"sequentialminus\": [[0.0, \"#0d0887\"], [0.1111111111111111, \"#46039f\"], [0.2222222222222222, \"#7201a8\"], [0.3333333333333333, \"#9c179e\"], [0.4444444444444444, \"#bd3786\"], [0.5555555555555556, \"#d8576b\"], [0.6666666666666666, \"#ed7953\"], [0.7777777777777778, \"#fb9f3a\"], [0.8888888888888888, \"#fdca26\"], [1.0, \"#f0f921\"]]}, \"colorway\": [\"#636efa\", \"#EF553B\", \"#00cc96\", \"#ab63fa\", \"#FFA15A\", \"#19d3f3\", \"#FF6692\", \"#B6E880\", \"#FF97FF\", \"#FECB52\"], \"font\": {\"color\": \"#2a3f5f\"}, \"geo\": {\"bgcolor\": \"white\", \"lakecolor\": \"white\", \"landcolor\": \"#E5ECF6\", \"showlakes\": true, \"showland\": true, \"subunitcolor\": \"white\"}, \"hoverlabel\": {\"align\": \"left\"}, \"hovermode\": \"closest\", \"mapbox\": {\"style\": \"light\"}, \"paper_bgcolor\": \"white\", \"plot_bgcolor\": \"#E5ECF6\", \"polar\": {\"angularaxis\": {\"gridcolor\": \"white\", \"linecolor\": \"white\", \"ticks\": \"\"}, \"bgcolor\": \"#E5ECF6\", \"radialaxis\": {\"gridcolor\": \"white\", \"linecolor\": \"white\", \"ticks\": \"\"}}, \"scene\": {\"xaxis\": {\"backgroundcolor\": \"#E5ECF6\", \"gridcolor\": \"white\", \"gridwidth\": 2, \"linecolor\": \"white\", \"showbackground\": true, \"ticks\": \"\", \"zerolinecolor\": \"white\"}, \"yaxis\": {\"backgroundcolor\": \"#E5ECF6\", \"gridcolor\": \"white\", \"gridwidth\": 2, \"linecolor\": \"white\", \"showbackground\": true, \"ticks\": \"\", \"zerolinecolor\": \"white\"}, \"zaxis\": {\"backgroundcolor\": \"#E5ECF6\", \"gridcolor\": \"white\", \"gridwidth\": 2, \"linecolor\": \"white\", \"showbackground\": true, \"ticks\": \"\", \"zerolinecolor\": \"white\"}}, \"shapedefaults\": {\"line\": {\"color\": \"#2a3f5f\"}}, \"ternary\": {\"aaxis\": {\"gridcolor\": \"white\", \"linecolor\": \"white\", \"ticks\": \"\"}, \"baxis\": {\"gridcolor\": \"white\", \"linecolor\": \"white\", \"ticks\": \"\"}, \"bgcolor\": \"#E5ECF6\", \"caxis\": {\"gridcolor\": \"white\", \"linecolor\": \"white\", \"ticks\": \"\"}}, \"title\": {\"x\": 0.05}, \"xaxis\": {\"automargin\": true, \"gridcolor\": \"white\", \"linecolor\": \"white\", \"ticks\": \"\", \"title\": {\"standoff\": 15}, \"zerolinecolor\": \"white\", \"zerolinewidth\": 2}, \"yaxis\": {\"automargin\": true, \"gridcolor\": \"white\", \"linecolor\": \"white\", \"ticks\": \"\", \"title\": {\"standoff\": 15}, \"zerolinecolor\": \"white\", \"zerolinewidth\": 2}}}, \"title\": {\"text\": \"Dados elei\\u00e7\\u00f5es americanas 2012\"}},                        {\"responsive\": true}                    ).then(function(){\n",
       "                            \n",
       "var gd = document.getElementById('6b95a7aa-cfdd-4e8a-bf5f-d80af33d844f');\n",
       "var x = new MutationObserver(function (mutations, observer) {{\n",
       "        var display = window.getComputedStyle(gd).display;\n",
       "        if (!display || display === 'none') {{\n",
       "            console.log([gd, 'removed!']);\n",
       "            Plotly.purge(gd);\n",
       "            observer.disconnect();\n",
       "        }}\n",
       "}});\n",
       "\n",
       "// Listen for the removal of the full notebook cells\n",
       "var notebookContainer = gd.closest('#notebook-container');\n",
       "if (notebookContainer) {{\n",
       "    x.observe(notebookContainer, {childList: true});\n",
       "}}\n",
       "\n",
       "// Listen for the clearing of the current output cell\n",
       "var outputEl = gd.closest('.output');\n",
       "if (outputEl) {{\n",
       "    x.observe(outputEl, {childList: true});\n",
       "}}\n",
       "\n",
       "                        })                };                });            </script>        </div>"
      ]
     },
     "metadata": {},
     "output_type": "display_data"
    }
   ],
   "source": [
    "choromap = go.Figure(data = [data1],layout = layout1)\n",
    "iplot(choromap,validate=False)"
   ]
  },
  {
   "cell_type": "code",
   "execution_count": 43,
   "metadata": {},
   "outputs": [
    {
     "data": {
      "text/html": [
       "<div>\n",
       "<style scoped>\n",
       "    .dataframe tbody tr th:only-of-type {\n",
       "        vertical-align: middle;\n",
       "    }\n",
       "\n",
       "    .dataframe tbody tr th {\n",
       "        vertical-align: top;\n",
       "    }\n",
       "\n",
       "    .dataframe thead th {\n",
       "        text-align: right;\n",
       "    }\n",
       "</style>\n",
       "<table border=\"1\" class=\"dataframe\">\n",
       "  <thead>\n",
       "    <tr style=\"text-align: right;\">\n",
       "      <th></th>\n",
       "      <th>COUNTRY</th>\n",
       "      <th>GDP (BILLIONS)</th>\n",
       "      <th>CODE</th>\n",
       "    </tr>\n",
       "  </thead>\n",
       "  <tbody>\n",
       "    <tr>\n",
       "      <th>0</th>\n",
       "      <td>Afghanistan</td>\n",
       "      <td>21.71</td>\n",
       "      <td>AFG</td>\n",
       "    </tr>\n",
       "    <tr>\n",
       "      <th>1</th>\n",
       "      <td>Albania</td>\n",
       "      <td>13.40</td>\n",
       "      <td>ALB</td>\n",
       "    </tr>\n",
       "    <tr>\n",
       "      <th>2</th>\n",
       "      <td>Algeria</td>\n",
       "      <td>227.80</td>\n",
       "      <td>DZA</td>\n",
       "    </tr>\n",
       "    <tr>\n",
       "      <th>3</th>\n",
       "      <td>American Samoa</td>\n",
       "      <td>0.75</td>\n",
       "      <td>ASM</td>\n",
       "    </tr>\n",
       "    <tr>\n",
       "      <th>4</th>\n",
       "      <td>Andorra</td>\n",
       "      <td>4.80</td>\n",
       "      <td>AND</td>\n",
       "    </tr>\n",
       "  </tbody>\n",
       "</table>\n",
       "</div>"
      ],
      "text/plain": [
       "          COUNTRY  GDP (BILLIONS) CODE\n",
       "0     Afghanistan           21.71  AFG\n",
       "1         Albania           13.40  ALB\n",
       "2         Algeria          227.80  DZA\n",
       "3  American Samoa            0.75  ASM\n",
       "4         Andorra            4.80  AND"
      ]
     },
     "execution_count": 43,
     "metadata": {},
     "output_type": "execute_result"
    }
   ],
   "source": [
    "df = pd.read_csv('2014_World_GDP')  # gráfico sobre o PIB mundial em 2014\n",
    "df.head()"
   ]
  },
  {
   "cell_type": "code",
   "execution_count": 16,
   "metadata": {},
   "outputs": [],
   "source": [
    "data = dict(\n",
    "        type = 'choropleth',\n",
    "        locations = df['CODE'],\n",
    "        z = df['GDP (BILLIONS)'],\n",
    "        text = df['COUNTRY'],\n",
    "        colorbar = {'title' : 'GDP Billions US'},\n",
    "      ) "
   ]
  },
  {
   "cell_type": "code",
   "execution_count": 17,
   "metadata": {},
   "outputs": [],
   "source": [
    "layout = dict(\n",
    "    title = '2014 Global GDP',\n",
    "    geo = dict(\n",
    "        showframe = False,\n",
    "        projection = {'type':'natural earth'} # pode substituir esse \"natural earth\" por \"mercator\" tbm\n",
    "    )\n",
    ")"
   ]
  },
  {
   "cell_type": "code",
   "execution_count": 18,
   "metadata": {},
   "outputs": [
    {
     "data": {
      "application/vnd.plotly.v1+json": {
       "config": {
        "linkText": "Export to plot.ly",
        "plotlyServerURL": "https://plot.ly",
        "showLink": false
       },
       "data": [
        {
         "colorbar": {
          "title": {
           "text": "GDP Billions US"
          }
         },
         "locations": [
          "AFG",
          "ALB",
          "DZA",
          "ASM",
          "AND",
          "AGO",
          "AIA",
          "ATG",
          "ARG",
          "ARM",
          "ABW",
          "AUS",
          "AUT",
          "AZE",
          "BHM",
          "BHR",
          "BGD",
          "BRB",
          "BLR",
          "BEL",
          "BLZ",
          "BEN",
          "BMU",
          "BTN",
          "BOL",
          "BIH",
          "BWA",
          "BRA",
          "VGB",
          "BRN",
          "BGR",
          "BFA",
          "MMR",
          "BDI",
          "CPV",
          "KHM",
          "CMR",
          "CAN",
          "CYM",
          "CAF",
          "TCD",
          "CHL",
          "CHN",
          "COL",
          "COM",
          "COD",
          "COG",
          "COK",
          "CRI",
          "CIV",
          "HRV",
          "CUB",
          "CUW",
          "CYP",
          "CZE",
          "DNK",
          "DJI",
          "DMA",
          "DOM",
          "ECU",
          "EGY",
          "SLV",
          "GNQ",
          "ERI",
          "EST",
          "ETH",
          "FLK",
          "FRO",
          "FJI",
          "FIN",
          "FRA",
          "PYF",
          "GAB",
          "GMB",
          "GEO",
          "DEU",
          "GHA",
          "GIB",
          "GRC",
          "GRL",
          "GRD",
          "GUM",
          "GTM",
          "GGY",
          "GNB",
          "GIN",
          "GUY",
          "HTI",
          "HND",
          "HKG",
          "HUN",
          "ISL",
          "IND",
          "IDN",
          "IRN",
          "IRQ",
          "IRL",
          "IMN",
          "ISR",
          "ITA",
          "JAM",
          "JPN",
          "JEY",
          "JOR",
          "KAZ",
          "KEN",
          "KIR",
          "KOR",
          "PRK",
          "KSV",
          "KWT",
          "KGZ",
          "LAO",
          "LVA",
          "LBN",
          "LSO",
          "LBR",
          "LBY",
          "LIE",
          "LTU",
          "LUX",
          "MAC",
          "MKD",
          "MDG",
          "MWI",
          "MYS",
          "MDV",
          "MLI",
          "MLT",
          "MHL",
          "MRT",
          "MUS",
          "MEX",
          "FSM",
          "MDA",
          "MCO",
          "MNG",
          "MNE",
          "MAR",
          "MOZ",
          "NAM",
          "NPL",
          "NLD",
          "NCL",
          "NZL",
          "NIC",
          "NGA",
          "NER",
          "NIU",
          "MNP",
          "NOR",
          "OMN",
          "PAK",
          "PLW",
          "PAN",
          "PNG",
          "PRY",
          "PER",
          "PHL",
          "POL",
          "PRT",
          "PRI",
          "QAT",
          "ROU",
          "RUS",
          "RWA",
          "KNA",
          "LCA",
          "MAF",
          "SPM",
          "VCT",
          "WSM",
          "SMR",
          "STP",
          "SAU",
          "SEN",
          "SRB",
          "SYC",
          "SLE",
          "SGP",
          "SXM",
          "SVK",
          "SVN",
          "SLB",
          "SOM",
          "ZAF",
          "SSD",
          "ESP",
          "LKA",
          "SDN",
          "SUR",
          "SWZ",
          "SWE",
          "CHE",
          "SYR",
          "TWN",
          "TJK",
          "TZA",
          "THA",
          "TLS",
          "TGO",
          "TON",
          "TTO",
          "TUN",
          "TUR",
          "TKM",
          "TUV",
          "UGA",
          "UKR",
          "ARE",
          "GBR",
          "USA",
          "URY",
          "UZB",
          "VUT",
          "VEN",
          "VNM",
          "VGB",
          "WBG",
          "YEM",
          "ZMB",
          "ZWE"
         ],
         "text": [
          "Afghanistan",
          "Albania",
          "Algeria",
          "American Samoa",
          "Andorra",
          "Angola",
          "Anguilla",
          "Antigua and Barbuda",
          "Argentina",
          "Armenia",
          "Aruba",
          "Australia",
          "Austria",
          "Azerbaijan",
          "Bahamas, The",
          "Bahrain",
          "Bangladesh",
          "Barbados",
          "Belarus",
          "Belgium",
          "Belize",
          "Benin",
          "Bermuda",
          "Bhutan",
          "Bolivia",
          "Bosnia and Herzegovina",
          "Botswana",
          "Brazil",
          "British Virgin Islands",
          "Brunei",
          "Bulgaria",
          "Burkina Faso",
          "Burma",
          "Burundi",
          "Cabo Verde",
          "Cambodia",
          "Cameroon",
          "Canada",
          "Cayman Islands",
          "Central African Republic",
          "Chad",
          "Chile",
          "China",
          "Colombia",
          "Comoros",
          "Congo, Democratic Republic of the",
          "Congo, Republic of the",
          "Cook Islands",
          "Costa Rica",
          "Cote d'Ivoire",
          "Croatia",
          "Cuba",
          "Curacao",
          "Cyprus",
          "Czech Republic",
          "Denmark",
          "Djibouti",
          "Dominica",
          "Dominican Republic",
          "Ecuador",
          "Egypt",
          "El Salvador",
          "Equatorial Guinea",
          "Eritrea",
          "Estonia",
          "Ethiopia",
          "Falkland Islands (Islas Malvinas)",
          "Faroe Islands",
          "Fiji",
          "Finland",
          "France",
          "French Polynesia",
          "Gabon",
          "Gambia, The",
          "Georgia",
          "Germany",
          "Ghana",
          "Gibraltar",
          "Greece",
          "Greenland",
          "Grenada",
          "Guam",
          "Guatemala",
          "Guernsey",
          "Guinea-Bissau",
          "Guinea",
          "Guyana",
          "Haiti",
          "Honduras",
          "Hong Kong",
          "Hungary",
          "Iceland",
          "India",
          "Indonesia",
          "Iran",
          "Iraq",
          "Ireland",
          "Isle of Man",
          "Israel",
          "Italy",
          "Jamaica",
          "Japan",
          "Jersey",
          "Jordan",
          "Kazakhstan",
          "Kenya",
          "Kiribati",
          "Korea, North",
          "Korea, South",
          "Kosovo",
          "Kuwait",
          "Kyrgyzstan",
          "Laos",
          "Latvia",
          "Lebanon",
          "Lesotho",
          "Liberia",
          "Libya",
          "Liechtenstein",
          "Lithuania",
          "Luxembourg",
          "Macau",
          "Macedonia",
          "Madagascar",
          "Malawi",
          "Malaysia",
          "Maldives",
          "Mali",
          "Malta",
          "Marshall Islands",
          "Mauritania",
          "Mauritius",
          "Mexico",
          "Micronesia, Federated States of",
          "Moldova",
          "Monaco",
          "Mongolia",
          "Montenegro",
          "Morocco",
          "Mozambique",
          "Namibia",
          "Nepal",
          "Netherlands",
          "New Caledonia",
          "New Zealand",
          "Nicaragua",
          "Nigeria",
          "Niger",
          "Niue",
          "Northern Mariana Islands",
          "Norway",
          "Oman",
          "Pakistan",
          "Palau",
          "Panama",
          "Papua New Guinea",
          "Paraguay",
          "Peru",
          "Philippines",
          "Poland",
          "Portugal",
          "Puerto Rico",
          "Qatar",
          "Romania",
          "Russia",
          "Rwanda",
          "Saint Kitts and Nevis",
          "Saint Lucia",
          "Saint Martin",
          "Saint Pierre and Miquelon",
          "Saint Vincent and the Grenadines",
          "Samoa",
          "San Marino",
          "Sao Tome and Principe",
          "Saudi Arabia",
          "Senegal",
          "Serbia",
          "Seychelles",
          "Sierra Leone",
          "Singapore",
          "Sint Maarten",
          "Slovakia",
          "Slovenia",
          "Solomon Islands",
          "Somalia",
          "South Africa",
          "South Sudan",
          "Spain",
          "Sri Lanka",
          "Sudan",
          "Suriname",
          "Swaziland",
          "Sweden",
          "Switzerland",
          "Syria",
          "Taiwan",
          "Tajikistan",
          "Tanzania",
          "Thailand",
          "Timor-Leste",
          "Togo",
          "Tonga",
          "Trinidad and Tobago",
          "Tunisia",
          "Turkey",
          "Turkmenistan",
          "Tuvalu",
          "Uganda",
          "Ukraine",
          "United Arab Emirates",
          "United Kingdom",
          "United States",
          "Uruguay",
          "Uzbekistan",
          "Vanuatu",
          "Venezuela",
          "Vietnam",
          "Virgin Islands",
          "West Bank",
          "Yemen",
          "Zambia",
          "Zimbabwe"
         ],
         "type": "choropleth",
         "z": [
          21.71,
          13.4,
          227.8,
          0.75,
          4.8,
          131.4,
          0.18,
          1.24,
          536.2,
          10.88,
          2.52,
          1483,
          436.1,
          77.91,
          8.65,
          34.05,
          186.6,
          4.28,
          75.25,
          527.8,
          1.67,
          9.24,
          5.2,
          2.09,
          34.08,
          19.55,
          16.3,
          2244,
          1.1,
          17.43,
          55.08,
          13.38,
          65.29,
          3.04,
          1.98,
          16.9,
          32.16,
          1794,
          2.25,
          1.73,
          15.84,
          264.1,
          10360,
          400.1,
          0.72,
          32.67,
          14.11,
          0.18,
          50.46,
          33.96,
          57.18,
          77.15,
          5.6,
          21.34,
          205.6,
          347.2,
          1.58,
          0.51,
          64.05,
          100.5,
          284.9,
          25.14,
          15.4,
          3.87,
          26.36,
          49.86,
          0.16,
          2.32,
          4.17,
          276.3,
          2902,
          7.15,
          20.68,
          0.92,
          16.13,
          3820,
          35.48,
          1.85,
          246.4,
          2.16,
          0.84,
          4.6,
          58.3,
          2.74,
          1.04,
          6.77,
          3.14,
          8.92,
          19.37,
          292.7,
          129.7,
          16.2,
          2048,
          856.1,
          402.7,
          232.2,
          245.8,
          4.08,
          305,
          2129,
          13.92,
          4770,
          5.77,
          36.55,
          225.6,
          62.72,
          0.16,
          28,
          1410,
          5.99,
          179.3,
          7.65,
          11.71,
          32.82,
          47.5,
          2.46,
          2.07,
          49.34,
          5.11,
          48.72,
          63.93,
          51.68,
          10.92,
          11.19,
          4.41,
          336.9,
          2.41,
          12.04,
          10.57,
          0.18,
          4.29,
          12.72,
          1296,
          0.34,
          7.74,
          6.06,
          11.73,
          4.66,
          112.6,
          16.59,
          13.11,
          19.64,
          880.4,
          11.1,
          201,
          11.85,
          594.3,
          8.29,
          0.01,
          1.23,
          511.6,
          80.54,
          237.5,
          0.65,
          44.69,
          16.1,
          31.3,
          208.2,
          284.6,
          552.2,
          228.2,
          93.52,
          212,
          199,
          2057,
          8,
          0.81,
          1.35,
          0.56,
          0.22,
          0.75,
          0.83,
          1.86,
          0.36,
          777.9,
          15.88,
          42.65,
          1.47,
          5.41,
          307.9,
          304.1,
          99.75,
          49.93,
          1.16,
          2.37,
          341.2,
          11.89,
          1400,
          71.57,
          70.03,
          5.27,
          3.84,
          559.1,
          679,
          64.7,
          529.5,
          9.16,
          36.62,
          373.8,
          4.51,
          4.84,
          0.49,
          29.63,
          49.12,
          813.3,
          43.5,
          0.04,
          26.09,
          134.9,
          416.4,
          2848,
          17420,
          55.6,
          63.08,
          0.82,
          209.2,
          187.8,
          5.08,
          6.64,
          45.45,
          25.61,
          13.74
         ]
        }
       ],
       "layout": {
        "geo": {
         "projection": {
          "type": "natural earth"
         },
         "showframe": false
        },
        "template": {
         "data": {
          "bar": [
           {
            "error_x": {
             "color": "#2a3f5f"
            },
            "error_y": {
             "color": "#2a3f5f"
            },
            "marker": {
             "line": {
              "color": "#E5ECF6",
              "width": 0.5
             }
            },
            "type": "bar"
           }
          ],
          "barpolar": [
           {
            "marker": {
             "line": {
              "color": "#E5ECF6",
              "width": 0.5
             }
            },
            "type": "barpolar"
           }
          ],
          "carpet": [
           {
            "aaxis": {
             "endlinecolor": "#2a3f5f",
             "gridcolor": "white",
             "linecolor": "white",
             "minorgridcolor": "white",
             "startlinecolor": "#2a3f5f"
            },
            "baxis": {
             "endlinecolor": "#2a3f5f",
             "gridcolor": "white",
             "linecolor": "white",
             "minorgridcolor": "white",
             "startlinecolor": "#2a3f5f"
            },
            "type": "carpet"
           }
          ],
          "choropleth": [
           {
            "colorbar": {
             "outlinewidth": 0,
             "ticks": ""
            },
            "type": "choropleth"
           }
          ],
          "contour": [
           {
            "colorbar": {
             "outlinewidth": 0,
             "ticks": ""
            },
            "colorscale": [
             [
              0,
              "#0d0887"
             ],
             [
              0.1111111111111111,
              "#46039f"
             ],
             [
              0.2222222222222222,
              "#7201a8"
             ],
             [
              0.3333333333333333,
              "#9c179e"
             ],
             [
              0.4444444444444444,
              "#bd3786"
             ],
             [
              0.5555555555555556,
              "#d8576b"
             ],
             [
              0.6666666666666666,
              "#ed7953"
             ],
             [
              0.7777777777777778,
              "#fb9f3a"
             ],
             [
              0.8888888888888888,
              "#fdca26"
             ],
             [
              1,
              "#f0f921"
             ]
            ],
            "type": "contour"
           }
          ],
          "contourcarpet": [
           {
            "colorbar": {
             "outlinewidth": 0,
             "ticks": ""
            },
            "type": "contourcarpet"
           }
          ],
          "heatmap": [
           {
            "colorbar": {
             "outlinewidth": 0,
             "ticks": ""
            },
            "colorscale": [
             [
              0,
              "#0d0887"
             ],
             [
              0.1111111111111111,
              "#46039f"
             ],
             [
              0.2222222222222222,
              "#7201a8"
             ],
             [
              0.3333333333333333,
              "#9c179e"
             ],
             [
              0.4444444444444444,
              "#bd3786"
             ],
             [
              0.5555555555555556,
              "#d8576b"
             ],
             [
              0.6666666666666666,
              "#ed7953"
             ],
             [
              0.7777777777777778,
              "#fb9f3a"
             ],
             [
              0.8888888888888888,
              "#fdca26"
             ],
             [
              1,
              "#f0f921"
             ]
            ],
            "type": "heatmap"
           }
          ],
          "heatmapgl": [
           {
            "colorbar": {
             "outlinewidth": 0,
             "ticks": ""
            },
            "colorscale": [
             [
              0,
              "#0d0887"
             ],
             [
              0.1111111111111111,
              "#46039f"
             ],
             [
              0.2222222222222222,
              "#7201a8"
             ],
             [
              0.3333333333333333,
              "#9c179e"
             ],
             [
              0.4444444444444444,
              "#bd3786"
             ],
             [
              0.5555555555555556,
              "#d8576b"
             ],
             [
              0.6666666666666666,
              "#ed7953"
             ],
             [
              0.7777777777777778,
              "#fb9f3a"
             ],
             [
              0.8888888888888888,
              "#fdca26"
             ],
             [
              1,
              "#f0f921"
             ]
            ],
            "type": "heatmapgl"
           }
          ],
          "histogram": [
           {
            "marker": {
             "colorbar": {
              "outlinewidth": 0,
              "ticks": ""
             }
            },
            "type": "histogram"
           }
          ],
          "histogram2d": [
           {
            "colorbar": {
             "outlinewidth": 0,
             "ticks": ""
            },
            "colorscale": [
             [
              0,
              "#0d0887"
             ],
             [
              0.1111111111111111,
              "#46039f"
             ],
             [
              0.2222222222222222,
              "#7201a8"
             ],
             [
              0.3333333333333333,
              "#9c179e"
             ],
             [
              0.4444444444444444,
              "#bd3786"
             ],
             [
              0.5555555555555556,
              "#d8576b"
             ],
             [
              0.6666666666666666,
              "#ed7953"
             ],
             [
              0.7777777777777778,
              "#fb9f3a"
             ],
             [
              0.8888888888888888,
              "#fdca26"
             ],
             [
              1,
              "#f0f921"
             ]
            ],
            "type": "histogram2d"
           }
          ],
          "histogram2dcontour": [
           {
            "colorbar": {
             "outlinewidth": 0,
             "ticks": ""
            },
            "colorscale": [
             [
              0,
              "#0d0887"
             ],
             [
              0.1111111111111111,
              "#46039f"
             ],
             [
              0.2222222222222222,
              "#7201a8"
             ],
             [
              0.3333333333333333,
              "#9c179e"
             ],
             [
              0.4444444444444444,
              "#bd3786"
             ],
             [
              0.5555555555555556,
              "#d8576b"
             ],
             [
              0.6666666666666666,
              "#ed7953"
             ],
             [
              0.7777777777777778,
              "#fb9f3a"
             ],
             [
              0.8888888888888888,
              "#fdca26"
             ],
             [
              1,
              "#f0f921"
             ]
            ],
            "type": "histogram2dcontour"
           }
          ],
          "mesh3d": [
           {
            "colorbar": {
             "outlinewidth": 0,
             "ticks": ""
            },
            "type": "mesh3d"
           }
          ],
          "parcoords": [
           {
            "line": {
             "colorbar": {
              "outlinewidth": 0,
              "ticks": ""
             }
            },
            "type": "parcoords"
           }
          ],
          "pie": [
           {
            "automargin": true,
            "type": "pie"
           }
          ],
          "scatter": [
           {
            "marker": {
             "colorbar": {
              "outlinewidth": 0,
              "ticks": ""
             }
            },
            "type": "scatter"
           }
          ],
          "scatter3d": [
           {
            "line": {
             "colorbar": {
              "outlinewidth": 0,
              "ticks": ""
             }
            },
            "marker": {
             "colorbar": {
              "outlinewidth": 0,
              "ticks": ""
             }
            },
            "type": "scatter3d"
           }
          ],
          "scattercarpet": [
           {
            "marker": {
             "colorbar": {
              "outlinewidth": 0,
              "ticks": ""
             }
            },
            "type": "scattercarpet"
           }
          ],
          "scattergeo": [
           {
            "marker": {
             "colorbar": {
              "outlinewidth": 0,
              "ticks": ""
             }
            },
            "type": "scattergeo"
           }
          ],
          "scattergl": [
           {
            "marker": {
             "colorbar": {
              "outlinewidth": 0,
              "ticks": ""
             }
            },
            "type": "scattergl"
           }
          ],
          "scattermapbox": [
           {
            "marker": {
             "colorbar": {
              "outlinewidth": 0,
              "ticks": ""
             }
            },
            "type": "scattermapbox"
           }
          ],
          "scatterpolar": [
           {
            "marker": {
             "colorbar": {
              "outlinewidth": 0,
              "ticks": ""
             }
            },
            "type": "scatterpolar"
           }
          ],
          "scatterpolargl": [
           {
            "marker": {
             "colorbar": {
              "outlinewidth": 0,
              "ticks": ""
             }
            },
            "type": "scatterpolargl"
           }
          ],
          "scatterternary": [
           {
            "marker": {
             "colorbar": {
              "outlinewidth": 0,
              "ticks": ""
             }
            },
            "type": "scatterternary"
           }
          ],
          "surface": [
           {
            "colorbar": {
             "outlinewidth": 0,
             "ticks": ""
            },
            "colorscale": [
             [
              0,
              "#0d0887"
             ],
             [
              0.1111111111111111,
              "#46039f"
             ],
             [
              0.2222222222222222,
              "#7201a8"
             ],
             [
              0.3333333333333333,
              "#9c179e"
             ],
             [
              0.4444444444444444,
              "#bd3786"
             ],
             [
              0.5555555555555556,
              "#d8576b"
             ],
             [
              0.6666666666666666,
              "#ed7953"
             ],
             [
              0.7777777777777778,
              "#fb9f3a"
             ],
             [
              0.8888888888888888,
              "#fdca26"
             ],
             [
              1,
              "#f0f921"
             ]
            ],
            "type": "surface"
           }
          ],
          "table": [
           {
            "cells": {
             "fill": {
              "color": "#EBF0F8"
             },
             "line": {
              "color": "white"
             }
            },
            "header": {
             "fill": {
              "color": "#C8D4E3"
             },
             "line": {
              "color": "white"
             }
            },
            "type": "table"
           }
          ]
         },
         "layout": {
          "annotationdefaults": {
           "arrowcolor": "#2a3f5f",
           "arrowhead": 0,
           "arrowwidth": 1
          },
          "autotypenumbers": "strict",
          "coloraxis": {
           "colorbar": {
            "outlinewidth": 0,
            "ticks": ""
           }
          },
          "colorscale": {
           "diverging": [
            [
             0,
             "#8e0152"
            ],
            [
             0.1,
             "#c51b7d"
            ],
            [
             0.2,
             "#de77ae"
            ],
            [
             0.3,
             "#f1b6da"
            ],
            [
             0.4,
             "#fde0ef"
            ],
            [
             0.5,
             "#f7f7f7"
            ],
            [
             0.6,
             "#e6f5d0"
            ],
            [
             0.7,
             "#b8e186"
            ],
            [
             0.8,
             "#7fbc41"
            ],
            [
             0.9,
             "#4d9221"
            ],
            [
             1,
             "#276419"
            ]
           ],
           "sequential": [
            [
             0,
             "#0d0887"
            ],
            [
             0.1111111111111111,
             "#46039f"
            ],
            [
             0.2222222222222222,
             "#7201a8"
            ],
            [
             0.3333333333333333,
             "#9c179e"
            ],
            [
             0.4444444444444444,
             "#bd3786"
            ],
            [
             0.5555555555555556,
             "#d8576b"
            ],
            [
             0.6666666666666666,
             "#ed7953"
            ],
            [
             0.7777777777777778,
             "#fb9f3a"
            ],
            [
             0.8888888888888888,
             "#fdca26"
            ],
            [
             1,
             "#f0f921"
            ]
           ],
           "sequentialminus": [
            [
             0,
             "#0d0887"
            ],
            [
             0.1111111111111111,
             "#46039f"
            ],
            [
             0.2222222222222222,
             "#7201a8"
            ],
            [
             0.3333333333333333,
             "#9c179e"
            ],
            [
             0.4444444444444444,
             "#bd3786"
            ],
            [
             0.5555555555555556,
             "#d8576b"
            ],
            [
             0.6666666666666666,
             "#ed7953"
            ],
            [
             0.7777777777777778,
             "#fb9f3a"
            ],
            [
             0.8888888888888888,
             "#fdca26"
            ],
            [
             1,
             "#f0f921"
            ]
           ]
          },
          "colorway": [
           "#636efa",
           "#EF553B",
           "#00cc96",
           "#ab63fa",
           "#FFA15A",
           "#19d3f3",
           "#FF6692",
           "#B6E880",
           "#FF97FF",
           "#FECB52"
          ],
          "font": {
           "color": "#2a3f5f"
          },
          "geo": {
           "bgcolor": "white",
           "lakecolor": "white",
           "landcolor": "#E5ECF6",
           "showlakes": true,
           "showland": true,
           "subunitcolor": "white"
          },
          "hoverlabel": {
           "align": "left"
          },
          "hovermode": "closest",
          "mapbox": {
           "style": "light"
          },
          "paper_bgcolor": "white",
          "plot_bgcolor": "#E5ECF6",
          "polar": {
           "angularaxis": {
            "gridcolor": "white",
            "linecolor": "white",
            "ticks": ""
           },
           "bgcolor": "#E5ECF6",
           "radialaxis": {
            "gridcolor": "white",
            "linecolor": "white",
            "ticks": ""
           }
          },
          "scene": {
           "xaxis": {
            "backgroundcolor": "#E5ECF6",
            "gridcolor": "white",
            "gridwidth": 2,
            "linecolor": "white",
            "showbackground": true,
            "ticks": "",
            "zerolinecolor": "white"
           },
           "yaxis": {
            "backgroundcolor": "#E5ECF6",
            "gridcolor": "white",
            "gridwidth": 2,
            "linecolor": "white",
            "showbackground": true,
            "ticks": "",
            "zerolinecolor": "white"
           },
           "zaxis": {
            "backgroundcolor": "#E5ECF6",
            "gridcolor": "white",
            "gridwidth": 2,
            "linecolor": "white",
            "showbackground": true,
            "ticks": "",
            "zerolinecolor": "white"
           }
          },
          "shapedefaults": {
           "line": {
            "color": "#2a3f5f"
           }
          },
          "ternary": {
           "aaxis": {
            "gridcolor": "white",
            "linecolor": "white",
            "ticks": ""
           },
           "baxis": {
            "gridcolor": "white",
            "linecolor": "white",
            "ticks": ""
           },
           "bgcolor": "#E5ECF6",
           "caxis": {
            "gridcolor": "white",
            "linecolor": "white",
            "ticks": ""
           }
          },
          "title": {
           "x": 0.05
          },
          "xaxis": {
           "automargin": true,
           "gridcolor": "white",
           "linecolor": "white",
           "ticks": "",
           "title": {
            "standoff": 15
           },
           "zerolinecolor": "white",
           "zerolinewidth": 2
          },
          "yaxis": {
           "automargin": true,
           "gridcolor": "white",
           "linecolor": "white",
           "ticks": "",
           "title": {
            "standoff": 15
           },
           "zerolinecolor": "white",
           "zerolinewidth": 2
          }
         }
        },
        "title": {
         "text": "2014 Global GDP"
        }
       }
      },
      "text/html": [
       "<div>                            <div id=\"0c88fe5a-bfba-4b64-84d1-61ace425d146\" class=\"plotly-graph-div\" style=\"height:525px; width:100%;\"></div>            <script type=\"text/javascript\">                require([\"plotly\"], function(Plotly) {                    window.PLOTLYENV=window.PLOTLYENV || {};                                    if (document.getElementById(\"0c88fe5a-bfba-4b64-84d1-61ace425d146\")) {                    Plotly.newPlot(                        \"0c88fe5a-bfba-4b64-84d1-61ace425d146\",                        [{\"colorbar\": {\"title\": {\"text\": \"GDP Billions US\"}}, \"locations\": [\"AFG\", \"ALB\", \"DZA\", \"ASM\", \"AND\", \"AGO\", \"AIA\", \"ATG\", \"ARG\", \"ARM\", \"ABW\", \"AUS\", \"AUT\", \"AZE\", \"BHM\", \"BHR\", \"BGD\", \"BRB\", \"BLR\", \"BEL\", \"BLZ\", \"BEN\", \"BMU\", \"BTN\", \"BOL\", \"BIH\", \"BWA\", \"BRA\", \"VGB\", \"BRN\", \"BGR\", \"BFA\", \"MMR\", \"BDI\", \"CPV\", \"KHM\", \"CMR\", \"CAN\", \"CYM\", \"CAF\", \"TCD\", \"CHL\", \"CHN\", \"COL\", \"COM\", \"COD\", \"COG\", \"COK\", \"CRI\", \"CIV\", \"HRV\", \"CUB\", \"CUW\", \"CYP\", \"CZE\", \"DNK\", \"DJI\", \"DMA\", \"DOM\", \"ECU\", \"EGY\", \"SLV\", \"GNQ\", \"ERI\", \"EST\", \"ETH\", \"FLK\", \"FRO\", \"FJI\", \"FIN\", \"FRA\", \"PYF\", \"GAB\", \"GMB\", \"GEO\", \"DEU\", \"GHA\", \"GIB\", \"GRC\", \"GRL\", \"GRD\", \"GUM\", \"GTM\", \"GGY\", \"GNB\", \"GIN\", \"GUY\", \"HTI\", \"HND\", \"HKG\", \"HUN\", \"ISL\", \"IND\", \"IDN\", \"IRN\", \"IRQ\", \"IRL\", \"IMN\", \"ISR\", \"ITA\", \"JAM\", \"JPN\", \"JEY\", \"JOR\", \"KAZ\", \"KEN\", \"KIR\", \"KOR\", \"PRK\", \"KSV\", \"KWT\", \"KGZ\", \"LAO\", \"LVA\", \"LBN\", \"LSO\", \"LBR\", \"LBY\", \"LIE\", \"LTU\", \"LUX\", \"MAC\", \"MKD\", \"MDG\", \"MWI\", \"MYS\", \"MDV\", \"MLI\", \"MLT\", \"MHL\", \"MRT\", \"MUS\", \"MEX\", \"FSM\", \"MDA\", \"MCO\", \"MNG\", \"MNE\", \"MAR\", \"MOZ\", \"NAM\", \"NPL\", \"NLD\", \"NCL\", \"NZL\", \"NIC\", \"NGA\", \"NER\", \"NIU\", \"MNP\", \"NOR\", \"OMN\", \"PAK\", \"PLW\", \"PAN\", \"PNG\", \"PRY\", \"PER\", \"PHL\", \"POL\", \"PRT\", \"PRI\", \"QAT\", \"ROU\", \"RUS\", \"RWA\", \"KNA\", \"LCA\", \"MAF\", \"SPM\", \"VCT\", \"WSM\", \"SMR\", \"STP\", \"SAU\", \"SEN\", \"SRB\", \"SYC\", \"SLE\", \"SGP\", \"SXM\", \"SVK\", \"SVN\", \"SLB\", \"SOM\", \"ZAF\", \"SSD\", \"ESP\", \"LKA\", \"SDN\", \"SUR\", \"SWZ\", \"SWE\", \"CHE\", \"SYR\", \"TWN\", \"TJK\", \"TZA\", \"THA\", \"TLS\", \"TGO\", \"TON\", \"TTO\", \"TUN\", \"TUR\", \"TKM\", \"TUV\", \"UGA\", \"UKR\", \"ARE\", \"GBR\", \"USA\", \"URY\", \"UZB\", \"VUT\", \"VEN\", \"VNM\", \"VGB\", \"WBG\", \"YEM\", \"ZMB\", \"ZWE\"], \"text\": [\"Afghanistan\", \"Albania\", \"Algeria\", \"American Samoa\", \"Andorra\", \"Angola\", \"Anguilla\", \"Antigua and Barbuda\", \"Argentina\", \"Armenia\", \"Aruba\", \"Australia\", \"Austria\", \"Azerbaijan\", \"Bahamas, The\", \"Bahrain\", \"Bangladesh\", \"Barbados\", \"Belarus\", \"Belgium\", \"Belize\", \"Benin\", \"Bermuda\", \"Bhutan\", \"Bolivia\", \"Bosnia and Herzegovina\", \"Botswana\", \"Brazil\", \"British Virgin Islands\", \"Brunei\", \"Bulgaria\", \"Burkina Faso\", \"Burma\", \"Burundi\", \"Cabo Verde\", \"Cambodia\", \"Cameroon\", \"Canada\", \"Cayman Islands\", \"Central African Republic\", \"Chad\", \"Chile\", \"China\", \"Colombia\", \"Comoros\", \"Congo, Democratic Republic of the\", \"Congo, Republic of the\", \"Cook Islands\", \"Costa Rica\", \"Cote d'Ivoire\", \"Croatia\", \"Cuba\", \"Curacao\", \"Cyprus\", \"Czech Republic\", \"Denmark\", \"Djibouti\", \"Dominica\", \"Dominican Republic\", \"Ecuador\", \"Egypt\", \"El Salvador\", \"Equatorial Guinea\", \"Eritrea\", \"Estonia\", \"Ethiopia\", \"Falkland Islands (Islas Malvinas)\", \"Faroe Islands\", \"Fiji\", \"Finland\", \"France\", \"French Polynesia\", \"Gabon\", \"Gambia, The\", \"Georgia\", \"Germany\", \"Ghana\", \"Gibraltar\", \"Greece\", \"Greenland\", \"Grenada\", \"Guam\", \"Guatemala\", \"Guernsey\", \"Guinea-Bissau\", \"Guinea\", \"Guyana\", \"Haiti\", \"Honduras\", \"Hong Kong\", \"Hungary\", \"Iceland\", \"India\", \"Indonesia\", \"Iran\", \"Iraq\", \"Ireland\", \"Isle of Man\", \"Israel\", \"Italy\", \"Jamaica\", \"Japan\", \"Jersey\", \"Jordan\", \"Kazakhstan\", \"Kenya\", \"Kiribati\", \"Korea, North\", \"Korea, South\", \"Kosovo\", \"Kuwait\", \"Kyrgyzstan\", \"Laos\", \"Latvia\", \"Lebanon\", \"Lesotho\", \"Liberia\", \"Libya\", \"Liechtenstein\", \"Lithuania\", \"Luxembourg\", \"Macau\", \"Macedonia\", \"Madagascar\", \"Malawi\", \"Malaysia\", \"Maldives\", \"Mali\", \"Malta\", \"Marshall Islands\", \"Mauritania\", \"Mauritius\", \"Mexico\", \"Micronesia, Federated States of\", \"Moldova\", \"Monaco\", \"Mongolia\", \"Montenegro\", \"Morocco\", \"Mozambique\", \"Namibia\", \"Nepal\", \"Netherlands\", \"New Caledonia\", \"New Zealand\", \"Nicaragua\", \"Nigeria\", \"Niger\", \"Niue\", \"Northern Mariana Islands\", \"Norway\", \"Oman\", \"Pakistan\", \"Palau\", \"Panama\", \"Papua New Guinea\", \"Paraguay\", \"Peru\", \"Philippines\", \"Poland\", \"Portugal\", \"Puerto Rico\", \"Qatar\", \"Romania\", \"Russia\", \"Rwanda\", \"Saint Kitts and Nevis\", \"Saint Lucia\", \"Saint Martin\", \"Saint Pierre and Miquelon\", \"Saint Vincent and the Grenadines\", \"Samoa\", \"San Marino\", \"Sao Tome and Principe\", \"Saudi Arabia\", \"Senegal\", \"Serbia\", \"Seychelles\", \"Sierra Leone\", \"Singapore\", \"Sint Maarten\", \"Slovakia\", \"Slovenia\", \"Solomon Islands\", \"Somalia\", \"South Africa\", \"South Sudan\", \"Spain\", \"Sri Lanka\", \"Sudan\", \"Suriname\", \"Swaziland\", \"Sweden\", \"Switzerland\", \"Syria\", \"Taiwan\", \"Tajikistan\", \"Tanzania\", \"Thailand\", \"Timor-Leste\", \"Togo\", \"Tonga\", \"Trinidad and Tobago\", \"Tunisia\", \"Turkey\", \"Turkmenistan\", \"Tuvalu\", \"Uganda\", \"Ukraine\", \"United Arab Emirates\", \"United Kingdom\", \"United States\", \"Uruguay\", \"Uzbekistan\", \"Vanuatu\", \"Venezuela\", \"Vietnam\", \"Virgin Islands\", \"West Bank\", \"Yemen\", \"Zambia\", \"Zimbabwe\"], \"type\": \"choropleth\", \"z\": [21.71, 13.4, 227.8, 0.75, 4.8, 131.4, 0.18, 1.24, 536.2, 10.88, 2.52, 1483.0, 436.1, 77.91, 8.65, 34.05, 186.6, 4.28, 75.25, 527.8, 1.67, 9.24, 5.2, 2.09, 34.08, 19.55, 16.3, 2244.0, 1.1, 17.43, 55.08, 13.38, 65.29, 3.04, 1.98, 16.9, 32.16, 1794.0, 2.25, 1.73, 15.84, 264.1, 10360.0, 400.1, 0.72, 32.67, 14.11, 0.18, 50.46, 33.96, 57.18, 77.15, 5.6, 21.34, 205.6, 347.2, 1.58, 0.51, 64.05, 100.5, 284.9, 25.14, 15.4, 3.87, 26.36, 49.86, 0.16, 2.32, 4.17, 276.3, 2902.0, 7.15, 20.68, 0.92, 16.13, 3820.0, 35.48, 1.85, 246.4, 2.16, 0.84, 4.6, 58.3, 2.74, 1.04, 6.77, 3.14, 8.92, 19.37, 292.7, 129.7, 16.2, 2048.0, 856.1, 402.7, 232.2, 245.8, 4.08, 305.0, 2129.0, 13.92, 4770.0, 5.77, 36.55, 225.6, 62.72, 0.16, 28.0, 1410.0, 5.99, 179.3, 7.65, 11.71, 32.82, 47.5, 2.46, 2.07, 49.34, 5.11, 48.72, 63.93, 51.68, 10.92, 11.19, 4.41, 336.9, 2.41, 12.04, 10.57, 0.18, 4.29, 12.72, 1296.0, 0.34, 7.74, 6.06, 11.73, 4.66, 112.6, 16.59, 13.11, 19.64, 880.4, 11.1, 201.0, 11.85, 594.3, 8.29, 0.01, 1.23, 511.6, 80.54, 237.5, 0.65, 44.69, 16.1, 31.3, 208.2, 284.6, 552.2, 228.2, 93.52, 212.0, 199.0, 2057.0, 8.0, 0.81, 1.35, 0.56, 0.22, 0.75, 0.83, 1.86, 0.36, 777.9, 15.88, 42.65, 1.47, 5.41, 307.9, 304.1, 99.75, 49.93, 1.16, 2.37, 341.2, 11.89, 1400.0, 71.57, 70.03, 5.27, 3.84, 559.1, 679.0, 64.7, 529.5, 9.16, 36.62, 373.8, 4.51, 4.84, 0.49, 29.63, 49.12, 813.3, 43.5, 0.04, 26.09, 134.9, 416.4, 2848.0, 17420.0, 55.6, 63.08, 0.82, 209.2, 187.8, 5.08, 6.64, 45.45, 25.61, 13.74]}],                        {\"geo\": {\"projection\": {\"type\": \"natural earth\"}, \"showframe\": false}, \"template\": {\"data\": {\"bar\": [{\"error_x\": {\"color\": \"#2a3f5f\"}, \"error_y\": {\"color\": \"#2a3f5f\"}, \"marker\": {\"line\": {\"color\": \"#E5ECF6\", \"width\": 0.5}}, \"type\": \"bar\"}], \"barpolar\": [{\"marker\": {\"line\": {\"color\": \"#E5ECF6\", \"width\": 0.5}}, \"type\": \"barpolar\"}], \"carpet\": [{\"aaxis\": {\"endlinecolor\": \"#2a3f5f\", \"gridcolor\": \"white\", \"linecolor\": \"white\", \"minorgridcolor\": \"white\", \"startlinecolor\": \"#2a3f5f\"}, \"baxis\": {\"endlinecolor\": \"#2a3f5f\", \"gridcolor\": \"white\", \"linecolor\": \"white\", \"minorgridcolor\": \"white\", \"startlinecolor\": \"#2a3f5f\"}, \"type\": \"carpet\"}], \"choropleth\": [{\"colorbar\": {\"outlinewidth\": 0, \"ticks\": \"\"}, \"type\": \"choropleth\"}], \"contour\": [{\"colorbar\": {\"outlinewidth\": 0, \"ticks\": \"\"}, \"colorscale\": [[0.0, \"#0d0887\"], [0.1111111111111111, \"#46039f\"], [0.2222222222222222, \"#7201a8\"], [0.3333333333333333, \"#9c179e\"], [0.4444444444444444, \"#bd3786\"], [0.5555555555555556, \"#d8576b\"], [0.6666666666666666, \"#ed7953\"], [0.7777777777777778, \"#fb9f3a\"], [0.8888888888888888, \"#fdca26\"], [1.0, \"#f0f921\"]], \"type\": \"contour\"}], \"contourcarpet\": [{\"colorbar\": {\"outlinewidth\": 0, \"ticks\": \"\"}, \"type\": \"contourcarpet\"}], \"heatmap\": [{\"colorbar\": {\"outlinewidth\": 0, \"ticks\": \"\"}, \"colorscale\": [[0.0, \"#0d0887\"], [0.1111111111111111, \"#46039f\"], [0.2222222222222222, \"#7201a8\"], [0.3333333333333333, \"#9c179e\"], [0.4444444444444444, \"#bd3786\"], [0.5555555555555556, \"#d8576b\"], [0.6666666666666666, \"#ed7953\"], [0.7777777777777778, \"#fb9f3a\"], [0.8888888888888888, \"#fdca26\"], [1.0, \"#f0f921\"]], \"type\": \"heatmap\"}], \"heatmapgl\": [{\"colorbar\": {\"outlinewidth\": 0, \"ticks\": \"\"}, \"colorscale\": [[0.0, \"#0d0887\"], [0.1111111111111111, \"#46039f\"], [0.2222222222222222, \"#7201a8\"], [0.3333333333333333, \"#9c179e\"], [0.4444444444444444, \"#bd3786\"], [0.5555555555555556, \"#d8576b\"], [0.6666666666666666, \"#ed7953\"], [0.7777777777777778, \"#fb9f3a\"], [0.8888888888888888, \"#fdca26\"], [1.0, \"#f0f921\"]], \"type\": \"heatmapgl\"}], \"histogram\": [{\"marker\": {\"colorbar\": {\"outlinewidth\": 0, \"ticks\": \"\"}}, \"type\": \"histogram\"}], \"histogram2d\": [{\"colorbar\": {\"outlinewidth\": 0, \"ticks\": \"\"}, \"colorscale\": [[0.0, \"#0d0887\"], [0.1111111111111111, \"#46039f\"], [0.2222222222222222, \"#7201a8\"], [0.3333333333333333, \"#9c179e\"], [0.4444444444444444, \"#bd3786\"], [0.5555555555555556, \"#d8576b\"], [0.6666666666666666, \"#ed7953\"], [0.7777777777777778, \"#fb9f3a\"], [0.8888888888888888, \"#fdca26\"], [1.0, \"#f0f921\"]], \"type\": \"histogram2d\"}], \"histogram2dcontour\": [{\"colorbar\": {\"outlinewidth\": 0, \"ticks\": \"\"}, \"colorscale\": [[0.0, \"#0d0887\"], [0.1111111111111111, \"#46039f\"], [0.2222222222222222, \"#7201a8\"], [0.3333333333333333, \"#9c179e\"], [0.4444444444444444, \"#bd3786\"], [0.5555555555555556, \"#d8576b\"], [0.6666666666666666, \"#ed7953\"], [0.7777777777777778, \"#fb9f3a\"], [0.8888888888888888, \"#fdca26\"], [1.0, \"#f0f921\"]], \"type\": \"histogram2dcontour\"}], \"mesh3d\": [{\"colorbar\": {\"outlinewidth\": 0, \"ticks\": \"\"}, \"type\": \"mesh3d\"}], \"parcoords\": [{\"line\": {\"colorbar\": {\"outlinewidth\": 0, \"ticks\": \"\"}}, \"type\": \"parcoords\"}], \"pie\": [{\"automargin\": true, \"type\": \"pie\"}], \"scatter\": [{\"marker\": {\"colorbar\": {\"outlinewidth\": 0, \"ticks\": \"\"}}, \"type\": \"scatter\"}], \"scatter3d\": [{\"line\": {\"colorbar\": {\"outlinewidth\": 0, \"ticks\": \"\"}}, \"marker\": {\"colorbar\": {\"outlinewidth\": 0, \"ticks\": \"\"}}, \"type\": \"scatter3d\"}], \"scattercarpet\": [{\"marker\": {\"colorbar\": {\"outlinewidth\": 0, \"ticks\": \"\"}}, \"type\": \"scattercarpet\"}], \"scattergeo\": [{\"marker\": {\"colorbar\": {\"outlinewidth\": 0, \"ticks\": \"\"}}, \"type\": \"scattergeo\"}], \"scattergl\": [{\"marker\": {\"colorbar\": {\"outlinewidth\": 0, \"ticks\": \"\"}}, \"type\": \"scattergl\"}], \"scattermapbox\": [{\"marker\": {\"colorbar\": {\"outlinewidth\": 0, \"ticks\": \"\"}}, \"type\": \"scattermapbox\"}], \"scatterpolar\": [{\"marker\": {\"colorbar\": {\"outlinewidth\": 0, \"ticks\": \"\"}}, \"type\": \"scatterpolar\"}], \"scatterpolargl\": [{\"marker\": {\"colorbar\": {\"outlinewidth\": 0, \"ticks\": \"\"}}, \"type\": \"scatterpolargl\"}], \"scatterternary\": [{\"marker\": {\"colorbar\": {\"outlinewidth\": 0, \"ticks\": \"\"}}, \"type\": \"scatterternary\"}], \"surface\": [{\"colorbar\": {\"outlinewidth\": 0, \"ticks\": \"\"}, \"colorscale\": [[0.0, \"#0d0887\"], [0.1111111111111111, \"#46039f\"], [0.2222222222222222, \"#7201a8\"], [0.3333333333333333, \"#9c179e\"], [0.4444444444444444, \"#bd3786\"], [0.5555555555555556, \"#d8576b\"], [0.6666666666666666, \"#ed7953\"], [0.7777777777777778, \"#fb9f3a\"], [0.8888888888888888, \"#fdca26\"], [1.0, \"#f0f921\"]], \"type\": \"surface\"}], \"table\": [{\"cells\": {\"fill\": {\"color\": \"#EBF0F8\"}, \"line\": {\"color\": \"white\"}}, \"header\": {\"fill\": {\"color\": \"#C8D4E3\"}, \"line\": {\"color\": \"white\"}}, \"type\": \"table\"}]}, \"layout\": {\"annotationdefaults\": {\"arrowcolor\": \"#2a3f5f\", \"arrowhead\": 0, \"arrowwidth\": 1}, \"autotypenumbers\": \"strict\", \"coloraxis\": {\"colorbar\": {\"outlinewidth\": 0, \"ticks\": \"\"}}, \"colorscale\": {\"diverging\": [[0, \"#8e0152\"], [0.1, \"#c51b7d\"], [0.2, \"#de77ae\"], [0.3, \"#f1b6da\"], [0.4, \"#fde0ef\"], [0.5, \"#f7f7f7\"], [0.6, \"#e6f5d0\"], [0.7, \"#b8e186\"], [0.8, \"#7fbc41\"], [0.9, \"#4d9221\"], [1, \"#276419\"]], \"sequential\": [[0.0, \"#0d0887\"], [0.1111111111111111, \"#46039f\"], [0.2222222222222222, \"#7201a8\"], [0.3333333333333333, \"#9c179e\"], [0.4444444444444444, \"#bd3786\"], [0.5555555555555556, \"#d8576b\"], [0.6666666666666666, \"#ed7953\"], [0.7777777777777778, \"#fb9f3a\"], [0.8888888888888888, \"#fdca26\"], [1.0, \"#f0f921\"]], \"sequentialminus\": [[0.0, \"#0d0887\"], [0.1111111111111111, \"#46039f\"], [0.2222222222222222, \"#7201a8\"], [0.3333333333333333, \"#9c179e\"], [0.4444444444444444, \"#bd3786\"], [0.5555555555555556, \"#d8576b\"], [0.6666666666666666, \"#ed7953\"], [0.7777777777777778, \"#fb9f3a\"], [0.8888888888888888, \"#fdca26\"], [1.0, \"#f0f921\"]]}, \"colorway\": [\"#636efa\", \"#EF553B\", \"#00cc96\", \"#ab63fa\", \"#FFA15A\", \"#19d3f3\", \"#FF6692\", \"#B6E880\", \"#FF97FF\", \"#FECB52\"], \"font\": {\"color\": \"#2a3f5f\"}, \"geo\": {\"bgcolor\": \"white\", \"lakecolor\": \"white\", \"landcolor\": \"#E5ECF6\", \"showlakes\": true, \"showland\": true, \"subunitcolor\": \"white\"}, \"hoverlabel\": {\"align\": \"left\"}, \"hovermode\": \"closest\", \"mapbox\": {\"style\": \"light\"}, \"paper_bgcolor\": \"white\", \"plot_bgcolor\": \"#E5ECF6\", \"polar\": {\"angularaxis\": {\"gridcolor\": \"white\", \"linecolor\": \"white\", \"ticks\": \"\"}, \"bgcolor\": \"#E5ECF6\", \"radialaxis\": {\"gridcolor\": \"white\", \"linecolor\": \"white\", \"ticks\": \"\"}}, \"scene\": {\"xaxis\": {\"backgroundcolor\": \"#E5ECF6\", \"gridcolor\": \"white\", \"gridwidth\": 2, \"linecolor\": \"white\", \"showbackground\": true, \"ticks\": \"\", \"zerolinecolor\": \"white\"}, \"yaxis\": {\"backgroundcolor\": \"#E5ECF6\", \"gridcolor\": \"white\", \"gridwidth\": 2, \"linecolor\": \"white\", \"showbackground\": true, \"ticks\": \"\", \"zerolinecolor\": \"white\"}, \"zaxis\": {\"backgroundcolor\": \"#E5ECF6\", \"gridcolor\": \"white\", \"gridwidth\": 2, \"linecolor\": \"white\", \"showbackground\": true, \"ticks\": \"\", \"zerolinecolor\": \"white\"}}, \"shapedefaults\": {\"line\": {\"color\": \"#2a3f5f\"}}, \"ternary\": {\"aaxis\": {\"gridcolor\": \"white\", \"linecolor\": \"white\", \"ticks\": \"\"}, \"baxis\": {\"gridcolor\": \"white\", \"linecolor\": \"white\", \"ticks\": \"\"}, \"bgcolor\": \"#E5ECF6\", \"caxis\": {\"gridcolor\": \"white\", \"linecolor\": \"white\", \"ticks\": \"\"}}, \"title\": {\"x\": 0.05}, \"xaxis\": {\"automargin\": true, \"gridcolor\": \"white\", \"linecolor\": \"white\", \"ticks\": \"\", \"title\": {\"standoff\": 15}, \"zerolinecolor\": \"white\", \"zerolinewidth\": 2}, \"yaxis\": {\"automargin\": true, \"gridcolor\": \"white\", \"linecolor\": \"white\", \"ticks\": \"\", \"title\": {\"standoff\": 15}, \"zerolinecolor\": \"white\", \"zerolinewidth\": 2}}}, \"title\": {\"text\": \"2014 Global GDP\"}},                        {\"responsive\": true}                    ).then(function(){\n",
       "                            \n",
       "var gd = document.getElementById('0c88fe5a-bfba-4b64-84d1-61ace425d146');\n",
       "var x = new MutationObserver(function (mutations, observer) {{\n",
       "        var display = window.getComputedStyle(gd).display;\n",
       "        if (!display || display === 'none') {{\n",
       "            console.log([gd, 'removed!']);\n",
       "            Plotly.purge(gd);\n",
       "            observer.disconnect();\n",
       "        }}\n",
       "}});\n",
       "\n",
       "// Listen for the removal of the full notebook cells\n",
       "var notebookContainer = gd.closest('#notebook-container');\n",
       "if (notebookContainer) {{\n",
       "    x.observe(notebookContainer, {childList: true});\n",
       "}}\n",
       "\n",
       "// Listen for the clearing of the current output cell\n",
       "var outputEl = gd.closest('.output');\n",
       "if (outputEl) {{\n",
       "    x.observe(outputEl, {childList: true});\n",
       "}}\n",
       "\n",
       "                        })                };                });            </script>        </div>"
      ]
     },
     "metadata": {},
     "output_type": "display_data"
    }
   ],
   "source": [
    "choromap = go.Figure(data = [data],layout = layout)\n",
    "iplot(choromap)"
   ]
  },
  {
   "cell_type": "code",
   "execution_count": 3,
   "metadata": {},
   "outputs": [
    {
     "data": {
      "application/vnd.plotly.v1+json": {
       "config": {
        "linkText": "Export to plot.ly",
        "plotlyServerURL": "https://plot.ly",
        "showLink": true
       },
       "data": [
        {
         "histfunc": "count",
         "histnorm": "",
         "marker": {
          "color": "rgba(255, 153, 51, 1.0)",
          "line": {
           "color": "#4D5663",
           "width": 1.3
          }
         },
         "name": "A",
         "nbinsx": 10,
         "opacity": 0.8,
         "orientation": "v",
         "type": "histogram",
         "x": [
          -0.1562157680506174,
          -1.4743183396492672,
          0.8174253607848009,
          -0.05071979588371249,
          -0.17883922277148764,
          -0.7651720790330793,
          -1.9212082989298684,
          -0.03291141560317541,
          -0.5285594227423575,
          0.9384209074225683,
          0.12053579898169361,
          0.3543990552464441,
          0.9451320124913716,
          -1.53988087130836,
          1.5136352333156946,
          -0.05703586377575092,
          0.42259146806383674,
          1.0422998417748681,
          -1.2137178408540257,
          -1.2228420816836125,
          -1.6842697657640595,
          0.027377407127000517,
          0.8728739125498687,
          0.400733323829508,
          1.505847690989541,
          2.4094921171123116,
          0.2733148820087171,
          0.5076476481227942,
          0.07507825527940794,
          -0.11581566818277499,
          0.10976999817561314,
          -0.33978939320778784,
          -1.3561753274383268,
          -1.6949992820005702,
          -0.754280422087886,
          -1.8561129918865145,
          -1.5137564329562165,
          1.3239455726344815,
          -1.4152415671682996,
          -1.2310175210894636,
          -0.27113953403866786,
          0.1887942979613161,
          0.39903730368135787,
          1.2007236814299214,
          -1.0492470586883644,
          -0.5756470465370982,
          0.018717093029164814,
          0.5501113954130685,
          0.45065138354598433,
          0.28147906148170476,
          -0.7434683060264415,
          -0.7943208706789614,
          -0.30386762350946966,
          -0.45647583247065754,
          -0.23521898389024445,
          -0.17132848452522814,
          -0.014256328121696454,
          0.09791316526909666,
          0.245414612705241,
          -0.5330802582890434,
          -0.10427715190051172,
          0.8834796921415421,
          0.5033126402688209,
          0.2029458473106213,
          -0.3866167986286724,
          0.4079599144327987,
          -0.5407454908949233,
          -0.47796765106536876,
          0.6494224172798504,
          0.6622646186713247,
          1.1882265481397103,
          -0.2940317882374327,
          -0.3021590900161126,
          -0.12657175971552337,
          -0.2472482143506079,
          0.27612736376591684,
          0.4324893024430906,
          -1.4166021081702316,
          -2.2678431388562865,
          -0.629088023152995,
          0.43845322337204257,
          -0.6475890613579122,
          -0.20020174052331377,
          0.42512150492803447,
          -0.3495887913897167,
          0.17347148161256432,
          -1.7668388042852021,
          0.40677727740251274,
          0.22401269790090117,
          -1.6674395980989138,
          0.2802837122534162,
          -0.60332918748744,
          0.8740083631743834,
          2.1666309669777597,
          1.454692100480719,
          0.9186070389514527,
          -1.9509274095515292,
          0.16829110283638893,
          1.2616362034346793,
          0.021057675215465234
         ],
         "xaxis": "x",
         "yaxis": "y"
        },
        {
         "line": {
          "color": "rgba(128, 128, 128, 1.0)",
          "dash": "solid",
          "shape": "linear",
          "width": 1.3
         },
         "marker": {
          "size": 2,
          "symbol": "circle"
         },
         "mode": "markers",
         "name": "A",
         "text": "",
         "type": "scatter",
         "x": [
          0.6917213637962769,
          -0.5526143151781165,
          0.35293035890183044,
          -1.6582378868339553,
          -1.4407167644878176,
          1.0361532855145303,
          -0.019746846343731226,
          0.23779884114381963,
          -1.137075864821375,
          -1.4523685739760508,
          0.1803908472666222,
          -0.7147860463221315,
          -0.4166734236268579,
          0.619783875546229,
          -1.0369974268876478,
          -0.46665241552368353,
          -0.8891956631891681,
          0.3947293477546675,
          -1.2684798575573688,
          -1.3872662334152484,
          -0.6979495076289601,
          -2.7181451994116768,
          -0.7572163663671609,
          0.5143991930116932,
          -1.9411365050919673,
          0.06106171053000905,
          0.8176745043616885,
          -0.39254521657934427,
          0.16174214698555936,
          -0.04423418480084261,
          0.0556263390593717,
          -0.3045602029159356,
          -0.9860101085845111,
          0.8514469740880347,
          -0.0047581945490319634,
          -0.5186101610554991,
          -1.763672889966365,
          1.981057206811975,
          -1.3827577105450433,
          0.17251607959921,
          -0.1938010476816943,
          0.12573638564474687,
          -1.427358465639623,
          -0.9555619613637081,
          -0.10428451271600765,
          -0.3639492807693481,
          1.9309776228777946,
          0.6350234951198072,
          0.37106933909702366,
          0.14389227590365875,
          -1.0929147633439094,
          1.1936581105769524,
          -0.2316781125386438,
          -0.8525370395991181,
          0.7893215461711095,
          -0.4659389878225684,
          1.217287417694428,
          1.136494361623952,
          -0.3537234642329278,
          -0.356214406193524,
          -1.1182730023274297,
          0.4555210873080179,
          0.5980707553691869,
          -1.7156712739152002,
          -0.24131358563082048,
          1.0129213295531716,
          0.1939123964937125,
          1.8471201514407636,
          -1.3493632026208562,
          -0.30108048037058566,
          1.7316535342280481,
          -0.9181863423771113,
          0.2606558174697534,
          2.5014638272431124,
          -0.6952348011088254,
          -0.8020888731797848,
          -0.23842836168966505,
          1.4332399543255427,
          -0.0656106858450873,
          -1.0810510509303974,
          0.29996504613434377,
          -0.20110139444294162,
          1.544761894012792,
          -0.39743151387602754,
          1.0783986483866481,
          -0.996012645203401,
          -0.10664966517818977,
          -0.7042896624078521,
          -0.07208297710942764,
          -1.9740616766455272,
          0.2336328878300918,
          -1.1470063361444083,
          -2.0043432544146498,
          1.326962716923184,
          0.25781660739645107,
          0.1679845453619694,
          0.1277728648929808,
          -1.5541720352372053,
          2.3519070811198324,
          -0.8544479173116701
         ],
         "xaxis": "x2",
         "y": [
          -0.1562157680506174,
          -1.4743183396492672,
          0.8174253607848009,
          -0.05071979588371249,
          -0.17883922277148764,
          -0.7651720790330793,
          -1.9212082989298684,
          -0.03291141560317541,
          -0.5285594227423575,
          0.9384209074225683,
          0.12053579898169361,
          0.3543990552464441,
          0.9451320124913716,
          -1.53988087130836,
          1.5136352333156946,
          -0.05703586377575092,
          0.42259146806383674,
          1.0422998417748681,
          -1.2137178408540257,
          -1.2228420816836125,
          -1.6842697657640595,
          0.027377407127000517,
          0.8728739125498687,
          0.400733323829508,
          1.505847690989541,
          2.4094921171123116,
          0.2733148820087171,
          0.5076476481227942,
          0.07507825527940794,
          -0.11581566818277499,
          0.10976999817561314,
          -0.33978939320778784,
          -1.3561753274383268,
          -1.6949992820005702,
          -0.754280422087886,
          -1.8561129918865145,
          -1.5137564329562165,
          1.3239455726344815,
          -1.4152415671682996,
          -1.2310175210894636,
          -0.27113953403866786,
          0.1887942979613161,
          0.39903730368135787,
          1.2007236814299214,
          -1.0492470586883644,
          -0.5756470465370982,
          0.018717093029164814,
          0.5501113954130685,
          0.45065138354598433,
          0.28147906148170476,
          -0.7434683060264415,
          -0.7943208706789614,
          -0.30386762350946966,
          -0.45647583247065754,
          -0.23521898389024445,
          -0.17132848452522814,
          -0.014256328121696454,
          0.09791316526909666,
          0.245414612705241,
          -0.5330802582890434,
          -0.10427715190051172,
          0.8834796921415421,
          0.5033126402688209,
          0.2029458473106213,
          -0.3866167986286724,
          0.4079599144327987,
          -0.5407454908949233,
          -0.47796765106536876,
          0.6494224172798504,
          0.6622646186713247,
          1.1882265481397103,
          -0.2940317882374327,
          -0.3021590900161126,
          -0.12657175971552337,
          -0.2472482143506079,
          0.27612736376591684,
          0.4324893024430906,
          -1.4166021081702316,
          -2.2678431388562865,
          -0.629088023152995,
          0.43845322337204257,
          -0.6475890613579122,
          -0.20020174052331377,
          0.42512150492803447,
          -0.3495887913897167,
          0.17347148161256432,
          -1.7668388042852021,
          0.40677727740251274,
          0.22401269790090117,
          -1.6674395980989138,
          0.2802837122534162,
          -0.60332918748744,
          0.8740083631743834,
          2.1666309669777597,
          1.454692100480719,
          0.9186070389514527,
          -1.9509274095515292,
          0.16829110283638893,
          1.2616362034346793,
          0.021057675215465234
         ],
         "yaxis": "y2"
        },
        {
         "line": {
          "color": "rgba(128, 128, 128, 1.0)",
          "dash": "solid",
          "shape": "linear",
          "width": 1.3
         },
         "marker": {
          "size": 2,
          "symbol": "circle"
         },
         "mode": "markers",
         "name": "A",
         "text": "",
         "type": "scatter",
         "x": [
          -0.5444613077121313,
          0.24282026732360593,
          -0.35656512999868456,
          -2.184317090998879,
          0.4426154940144032,
          0.7553842264388909,
          1.0122605994186629,
          1.3946649036822865,
          -1.4263641277884072,
          0.14523131309549792,
          1.2589967814285568,
          -1.1701291056035084,
          -0.22291421332354852,
          -0.7783359760951556,
          -1.8330502523993342,
          -0.5216242194718059,
          -0.8285984564446579,
          0.5968833149870427,
          0.43388199674110106,
          0.027405037181976764,
          0.09066924336364013,
          0.2379682288310394,
          0.37480409777208656,
          -0.6053419910021665,
          -1.4440174863694806,
          0.5356354420622844,
          -1.346479835427754,
          -0.6490992629052273,
          1.9039332137015401,
          0.7986092268817414,
          -0.40087834786147086,
          -0.271787475965091,
          1.1649924348062937,
          0.7689387268325816,
          -0.3591109184121301,
          1.2137675746082375,
          -0.30713255730349576,
          1.4538389212487566,
          0.8462977878958471,
          1.7829519620794587,
          -0.35793487328095697,
          0.37239991133007677,
          -1.107554026204563,
          -1.5299472200361113,
          -0.7501740791988809,
          -0.033203184787304864,
          -0.5553284593627191,
          -0.33994652399196645,
          -2.386641564747908,
          1.0493097498960338,
          -0.7183616105644806,
          1.084854262453599,
          -1.0123596236062506,
          2.2874964362447474,
          -0.6641966760128035,
          0.806932644923215,
          -0.3077338196668659,
          1.49338292950465,
          1.5618086513515261,
          0.2574553131048988,
          2.6052434550270798,
          0.3880348684243134,
          -0.33832993795634553,
          1.0240956944664181,
          -1.566376606714092,
          -0.3366964038743089,
          0.2849792528536192,
          0.6817258669192712,
          0.5102281551885075,
          1.4697219567832973,
          -0.6807320987207326,
          -0.22954901605262046,
          -0.37637707921768376,
          0.6922675900344075,
          0.4142276480203638,
          -1.3474509661446872,
          0.049879177379919655,
          1.4403068630729332,
          0.39491714639388786,
          0.13595348217569306,
          0.05473080369502663,
          -0.6146884123304698,
          -0.6367006986559804,
          0.030354662872443,
          -1.5969158177383382,
          1.8413870934673713,
          1.0991009172646902,
          0.1693877844650046,
          -2.2459940153558855,
          -1.6809020412225755,
          0.6602657483315182,
          -0.491770502197117,
          -0.27866439856982217,
          -0.5733843098118053,
          0.7721267554749521,
          1.3048065236016184,
          0.8675156735300564,
          -2.0281669001153695,
          0.24360773876802302,
          0.3075084140956446
         ],
         "xaxis": "x3",
         "y": [
          -0.1562157680506174,
          -1.4743183396492672,
          0.8174253607848009,
          -0.05071979588371249,
          -0.17883922277148764,
          -0.7651720790330793,
          -1.9212082989298684,
          -0.03291141560317541,
          -0.5285594227423575,
          0.9384209074225683,
          0.12053579898169361,
          0.3543990552464441,
          0.9451320124913716,
          -1.53988087130836,
          1.5136352333156946,
          -0.05703586377575092,
          0.42259146806383674,
          1.0422998417748681,
          -1.2137178408540257,
          -1.2228420816836125,
          -1.6842697657640595,
          0.027377407127000517,
          0.8728739125498687,
          0.400733323829508,
          1.505847690989541,
          2.4094921171123116,
          0.2733148820087171,
          0.5076476481227942,
          0.07507825527940794,
          -0.11581566818277499,
          0.10976999817561314,
          -0.33978939320778784,
          -1.3561753274383268,
          -1.6949992820005702,
          -0.754280422087886,
          -1.8561129918865145,
          -1.5137564329562165,
          1.3239455726344815,
          -1.4152415671682996,
          -1.2310175210894636,
          -0.27113953403866786,
          0.1887942979613161,
          0.39903730368135787,
          1.2007236814299214,
          -1.0492470586883644,
          -0.5756470465370982,
          0.018717093029164814,
          0.5501113954130685,
          0.45065138354598433,
          0.28147906148170476,
          -0.7434683060264415,
          -0.7943208706789614,
          -0.30386762350946966,
          -0.45647583247065754,
          -0.23521898389024445,
          -0.17132848452522814,
          -0.014256328121696454,
          0.09791316526909666,
          0.245414612705241,
          -0.5330802582890434,
          -0.10427715190051172,
          0.8834796921415421,
          0.5033126402688209,
          0.2029458473106213,
          -0.3866167986286724,
          0.4079599144327987,
          -0.5407454908949233,
          -0.47796765106536876,
          0.6494224172798504,
          0.6622646186713247,
          1.1882265481397103,
          -0.2940317882374327,
          -0.3021590900161126,
          -0.12657175971552337,
          -0.2472482143506079,
          0.27612736376591684,
          0.4324893024430906,
          -1.4166021081702316,
          -2.2678431388562865,
          -0.629088023152995,
          0.43845322337204257,
          -0.6475890613579122,
          -0.20020174052331377,
          0.42512150492803447,
          -0.3495887913897167,
          0.17347148161256432,
          -1.7668388042852021,
          0.40677727740251274,
          0.22401269790090117,
          -1.6674395980989138,
          0.2802837122534162,
          -0.60332918748744,
          0.8740083631743834,
          2.1666309669777597,
          1.454692100480719,
          0.9186070389514527,
          -1.9509274095515292,
          0.16829110283638893,
          1.2616362034346793,
          0.021057675215465234
         ],
         "yaxis": "y3"
        },
        {
         "line": {
          "color": "rgba(128, 128, 128, 1.0)",
          "dash": "solid",
          "shape": "linear",
          "width": 1.3
         },
         "marker": {
          "size": 2,
          "symbol": "circle"
         },
         "mode": "markers",
         "name": "A",
         "text": "",
         "type": "scatter",
         "x": [
          -0.3321582334871926,
          -2.0436880414914884,
          1.6901763603945128,
          -1.3027246024372003,
          0.8329045268915205,
          0.9693927526742672,
          0.6381269659537482,
          0.7689714116791412,
          -0.4842799657344476,
          0.9492334369464868,
          1.5847645235316903,
          2.051263678428919,
          0.7631415037907674,
          1.8483505484849265,
          0.5456384224565451,
          -0.057018865516633606,
          2.450753491679219,
          0.2091946357167935,
          -0.7272729704936228,
          -0.22681087836083522,
          -1.5493706620887342,
          -0.3317849747875593,
          -0.5385657576633147,
          -0.5607043862474755,
          0.6996472211087795,
          0.29912366189131345,
          -0.27785445592382846,
          -0.3440492570984598,
          0.09803224857995489,
          -0.47355987989564796,
          0.965605675120281,
          0.279904164888264,
          -0.4897720739128254,
          0.6116238804194486,
          1.0668636873035247,
          0.20072833409905902,
          0.5590676335178563,
          0.3809650688252469,
          -1.1590360047104407,
          1.30908826432782,
          -0.18782092133261538,
          0.9401617936027297,
          -1.159798277832091,
          0.08186562540868922,
          -0.9108085225980124,
          -1.1684219358486414,
          0.019938751283946093,
          1.8064940589369523,
          0.1730971791265535,
          -0.5365484321188417,
          -1.8055142235955877,
          -1.698859385671163,
          0.43728041359384917,
          -0.20569813225914046,
          0.5855035347199206,
          1.0079529404702139,
          -0.32843179749295603,
          1.4285243026618126,
          0.5827722430290192,
          1.3225965879621964,
          1.1561621301676035,
          -1.0266396551128383,
          0.4571635813544492,
          0.9191713280485909,
          -0.42039372609890563,
          0.8730451122476843,
          1.647874233882643,
          0.2844434119935799,
          0.7138039949483197,
          -0.4297588540662532,
          -0.21200951578516913,
          -0.5684920376246261,
          -0.586525163859046,
          -0.805477185851115,
          0.9033148507825743,
          -0.49757280357037414,
          -0.4465187735775768,
          0.18859497662052685,
          -0.7605562414943484,
          -0.27571820758681925,
          1.5892609662512898,
          -0.40677461948907667,
          0.9893469610539058,
          -0.7186138050038005,
          0.31053542547631235,
          -1.005343304844573,
          0.054309179614122606,
          -0.20749947319462886,
          -0.6315889614715412,
          -1.368903978333397,
          1.586481282163813,
          0.5614815639098683,
          -0.15944185783308026,
          0.9804061933646404,
          -1.7344694764805748,
          -0.5463561118119844,
          0.6052526828890784,
          -0.3658218789741722,
          -0.10827769854984465,
          -0.11903177878804401
         ],
         "xaxis": "x4",
         "y": [
          -0.1562157680506174,
          -1.4743183396492672,
          0.8174253607848009,
          -0.05071979588371249,
          -0.17883922277148764,
          -0.7651720790330793,
          -1.9212082989298684,
          -0.03291141560317541,
          -0.5285594227423575,
          0.9384209074225683,
          0.12053579898169361,
          0.3543990552464441,
          0.9451320124913716,
          -1.53988087130836,
          1.5136352333156946,
          -0.05703586377575092,
          0.42259146806383674,
          1.0422998417748681,
          -1.2137178408540257,
          -1.2228420816836125,
          -1.6842697657640595,
          0.027377407127000517,
          0.8728739125498687,
          0.400733323829508,
          1.505847690989541,
          2.4094921171123116,
          0.2733148820087171,
          0.5076476481227942,
          0.07507825527940794,
          -0.11581566818277499,
          0.10976999817561314,
          -0.33978939320778784,
          -1.3561753274383268,
          -1.6949992820005702,
          -0.754280422087886,
          -1.8561129918865145,
          -1.5137564329562165,
          1.3239455726344815,
          -1.4152415671682996,
          -1.2310175210894636,
          -0.27113953403866786,
          0.1887942979613161,
          0.39903730368135787,
          1.2007236814299214,
          -1.0492470586883644,
          -0.5756470465370982,
          0.018717093029164814,
          0.5501113954130685,
          0.45065138354598433,
          0.28147906148170476,
          -0.7434683060264415,
          -0.7943208706789614,
          -0.30386762350946966,
          -0.45647583247065754,
          -0.23521898389024445,
          -0.17132848452522814,
          -0.014256328121696454,
          0.09791316526909666,
          0.245414612705241,
          -0.5330802582890434,
          -0.10427715190051172,
          0.8834796921415421,
          0.5033126402688209,
          0.2029458473106213,
          -0.3866167986286724,
          0.4079599144327987,
          -0.5407454908949233,
          -0.47796765106536876,
          0.6494224172798504,
          0.6622646186713247,
          1.1882265481397103,
          -0.2940317882374327,
          -0.3021590900161126,
          -0.12657175971552337,
          -0.2472482143506079,
          0.27612736376591684,
          0.4324893024430906,
          -1.4166021081702316,
          -2.2678431388562865,
          -0.629088023152995,
          0.43845322337204257,
          -0.6475890613579122,
          -0.20020174052331377,
          0.42512150492803447,
          -0.3495887913897167,
          0.17347148161256432,
          -1.7668388042852021,
          0.40677727740251274,
          0.22401269790090117,
          -1.6674395980989138,
          0.2802837122534162,
          -0.60332918748744,
          0.8740083631743834,
          2.1666309669777597,
          1.454692100480719,
          0.9186070389514527,
          -1.9509274095515292,
          0.16829110283638893,
          1.2616362034346793,
          0.021057675215465234
         ],
         "yaxis": "y4"
        },
        {
         "line": {
          "color": "rgba(128, 128, 128, 1.0)",
          "dash": "solid",
          "shape": "linear",
          "width": 1.3
         },
         "marker": {
          "size": 2,
          "symbol": "circle"
         },
         "mode": "markers",
         "name": "B",
         "text": "",
         "type": "scatter",
         "x": [
          -0.1562157680506174,
          -1.4743183396492672,
          0.8174253607848009,
          -0.05071979588371249,
          -0.17883922277148764,
          -0.7651720790330793,
          -1.9212082989298684,
          -0.03291141560317541,
          -0.5285594227423575,
          0.9384209074225683,
          0.12053579898169361,
          0.3543990552464441,
          0.9451320124913716,
          -1.53988087130836,
          1.5136352333156946,
          -0.05703586377575092,
          0.42259146806383674,
          1.0422998417748681,
          -1.2137178408540257,
          -1.2228420816836125,
          -1.6842697657640595,
          0.027377407127000517,
          0.8728739125498687,
          0.400733323829508,
          1.505847690989541,
          2.4094921171123116,
          0.2733148820087171,
          0.5076476481227942,
          0.07507825527940794,
          -0.11581566818277499,
          0.10976999817561314,
          -0.33978939320778784,
          -1.3561753274383268,
          -1.6949992820005702,
          -0.754280422087886,
          -1.8561129918865145,
          -1.5137564329562165,
          1.3239455726344815,
          -1.4152415671682996,
          -1.2310175210894636,
          -0.27113953403866786,
          0.1887942979613161,
          0.39903730368135787,
          1.2007236814299214,
          -1.0492470586883644,
          -0.5756470465370982,
          0.018717093029164814,
          0.5501113954130685,
          0.45065138354598433,
          0.28147906148170476,
          -0.7434683060264415,
          -0.7943208706789614,
          -0.30386762350946966,
          -0.45647583247065754,
          -0.23521898389024445,
          -0.17132848452522814,
          -0.014256328121696454,
          0.09791316526909666,
          0.245414612705241,
          -0.5330802582890434,
          -0.10427715190051172,
          0.8834796921415421,
          0.5033126402688209,
          0.2029458473106213,
          -0.3866167986286724,
          0.4079599144327987,
          -0.5407454908949233,
          -0.47796765106536876,
          0.6494224172798504,
          0.6622646186713247,
          1.1882265481397103,
          -0.2940317882374327,
          -0.3021590900161126,
          -0.12657175971552337,
          -0.2472482143506079,
          0.27612736376591684,
          0.4324893024430906,
          -1.4166021081702316,
          -2.2678431388562865,
          -0.629088023152995,
          0.43845322337204257,
          -0.6475890613579122,
          -0.20020174052331377,
          0.42512150492803447,
          -0.3495887913897167,
          0.17347148161256432,
          -1.7668388042852021,
          0.40677727740251274,
          0.22401269790090117,
          -1.6674395980989138,
          0.2802837122534162,
          -0.60332918748744,
          0.8740083631743834,
          2.1666309669777597,
          1.454692100480719,
          0.9186070389514527,
          -1.9509274095515292,
          0.16829110283638893,
          1.2616362034346793,
          0.021057675215465234
         ],
         "xaxis": "x5",
         "y": [
          0.6917213637962769,
          -0.5526143151781165,
          0.35293035890183044,
          -1.6582378868339553,
          -1.4407167644878176,
          1.0361532855145303,
          -0.019746846343731226,
          0.23779884114381963,
          -1.137075864821375,
          -1.4523685739760508,
          0.1803908472666222,
          -0.7147860463221315,
          -0.4166734236268579,
          0.619783875546229,
          -1.0369974268876478,
          -0.46665241552368353,
          -0.8891956631891681,
          0.3947293477546675,
          -1.2684798575573688,
          -1.3872662334152484,
          -0.6979495076289601,
          -2.7181451994116768,
          -0.7572163663671609,
          0.5143991930116932,
          -1.9411365050919673,
          0.06106171053000905,
          0.8176745043616885,
          -0.39254521657934427,
          0.16174214698555936,
          -0.04423418480084261,
          0.0556263390593717,
          -0.3045602029159356,
          -0.9860101085845111,
          0.8514469740880347,
          -0.0047581945490319634,
          -0.5186101610554991,
          -1.763672889966365,
          1.981057206811975,
          -1.3827577105450433,
          0.17251607959921,
          -0.1938010476816943,
          0.12573638564474687,
          -1.427358465639623,
          -0.9555619613637081,
          -0.10428451271600765,
          -0.3639492807693481,
          1.9309776228777946,
          0.6350234951198072,
          0.37106933909702366,
          0.14389227590365875,
          -1.0929147633439094,
          1.1936581105769524,
          -0.2316781125386438,
          -0.8525370395991181,
          0.7893215461711095,
          -0.4659389878225684,
          1.217287417694428,
          1.136494361623952,
          -0.3537234642329278,
          -0.356214406193524,
          -1.1182730023274297,
          0.4555210873080179,
          0.5980707553691869,
          -1.7156712739152002,
          -0.24131358563082048,
          1.0129213295531716,
          0.1939123964937125,
          1.8471201514407636,
          -1.3493632026208562,
          -0.30108048037058566,
          1.7316535342280481,
          -0.9181863423771113,
          0.2606558174697534,
          2.5014638272431124,
          -0.6952348011088254,
          -0.8020888731797848,
          -0.23842836168966505,
          1.4332399543255427,
          -0.0656106858450873,
          -1.0810510509303974,
          0.29996504613434377,
          -0.20110139444294162,
          1.544761894012792,
          -0.39743151387602754,
          1.0783986483866481,
          -0.996012645203401,
          -0.10664966517818977,
          -0.7042896624078521,
          -0.07208297710942764,
          -1.9740616766455272,
          0.2336328878300918,
          -1.1470063361444083,
          -2.0043432544146498,
          1.326962716923184,
          0.25781660739645107,
          0.1679845453619694,
          0.1277728648929808,
          -1.5541720352372053,
          2.3519070811198324,
          -0.8544479173116701
         ],
         "yaxis": "y5"
        },
        {
         "histfunc": "count",
         "histnorm": "",
         "marker": {
          "color": "rgba(55, 128, 191, 1.0)",
          "line": {
           "color": "#4D5663",
           "width": 1.3
          }
         },
         "name": "B",
         "nbinsx": 10,
         "opacity": 0.8,
         "orientation": "v",
         "type": "histogram",
         "x": [
          0.6917213637962769,
          -0.5526143151781165,
          0.35293035890183044,
          -1.6582378868339553,
          -1.4407167644878176,
          1.0361532855145303,
          -0.019746846343731226,
          0.23779884114381963,
          -1.137075864821375,
          -1.4523685739760508,
          0.1803908472666222,
          -0.7147860463221315,
          -0.4166734236268579,
          0.619783875546229,
          -1.0369974268876478,
          -0.46665241552368353,
          -0.8891956631891681,
          0.3947293477546675,
          -1.2684798575573688,
          -1.3872662334152484,
          -0.6979495076289601,
          -2.7181451994116768,
          -0.7572163663671609,
          0.5143991930116932,
          -1.9411365050919673,
          0.06106171053000905,
          0.8176745043616885,
          -0.39254521657934427,
          0.16174214698555936,
          -0.04423418480084261,
          0.0556263390593717,
          -0.3045602029159356,
          -0.9860101085845111,
          0.8514469740880347,
          -0.0047581945490319634,
          -0.5186101610554991,
          -1.763672889966365,
          1.981057206811975,
          -1.3827577105450433,
          0.17251607959921,
          -0.1938010476816943,
          0.12573638564474687,
          -1.427358465639623,
          -0.9555619613637081,
          -0.10428451271600765,
          -0.3639492807693481,
          1.9309776228777946,
          0.6350234951198072,
          0.37106933909702366,
          0.14389227590365875,
          -1.0929147633439094,
          1.1936581105769524,
          -0.2316781125386438,
          -0.8525370395991181,
          0.7893215461711095,
          -0.4659389878225684,
          1.217287417694428,
          1.136494361623952,
          -0.3537234642329278,
          -0.356214406193524,
          -1.1182730023274297,
          0.4555210873080179,
          0.5980707553691869,
          -1.7156712739152002,
          -0.24131358563082048,
          1.0129213295531716,
          0.1939123964937125,
          1.8471201514407636,
          -1.3493632026208562,
          -0.30108048037058566,
          1.7316535342280481,
          -0.9181863423771113,
          0.2606558174697534,
          2.5014638272431124,
          -0.6952348011088254,
          -0.8020888731797848,
          -0.23842836168966505,
          1.4332399543255427,
          -0.0656106858450873,
          -1.0810510509303974,
          0.29996504613434377,
          -0.20110139444294162,
          1.544761894012792,
          -0.39743151387602754,
          1.0783986483866481,
          -0.996012645203401,
          -0.10664966517818977,
          -0.7042896624078521,
          -0.07208297710942764,
          -1.9740616766455272,
          0.2336328878300918,
          -1.1470063361444083,
          -2.0043432544146498,
          1.326962716923184,
          0.25781660739645107,
          0.1679845453619694,
          0.1277728648929808,
          -1.5541720352372053,
          2.3519070811198324,
          -0.8544479173116701
         ],
         "xaxis": "x6",
         "yaxis": "y6"
        },
        {
         "line": {
          "color": "rgba(128, 128, 128, 1.0)",
          "dash": "solid",
          "shape": "linear",
          "width": 1.3
         },
         "marker": {
          "size": 2,
          "symbol": "circle"
         },
         "mode": "markers",
         "name": "B",
         "text": "",
         "type": "scatter",
         "x": [
          -0.5444613077121313,
          0.24282026732360593,
          -0.35656512999868456,
          -2.184317090998879,
          0.4426154940144032,
          0.7553842264388909,
          1.0122605994186629,
          1.3946649036822865,
          -1.4263641277884072,
          0.14523131309549792,
          1.2589967814285568,
          -1.1701291056035084,
          -0.22291421332354852,
          -0.7783359760951556,
          -1.8330502523993342,
          -0.5216242194718059,
          -0.8285984564446579,
          0.5968833149870427,
          0.43388199674110106,
          0.027405037181976764,
          0.09066924336364013,
          0.2379682288310394,
          0.37480409777208656,
          -0.6053419910021665,
          -1.4440174863694806,
          0.5356354420622844,
          -1.346479835427754,
          -0.6490992629052273,
          1.9039332137015401,
          0.7986092268817414,
          -0.40087834786147086,
          -0.271787475965091,
          1.1649924348062937,
          0.7689387268325816,
          -0.3591109184121301,
          1.2137675746082375,
          -0.30713255730349576,
          1.4538389212487566,
          0.8462977878958471,
          1.7829519620794587,
          -0.35793487328095697,
          0.37239991133007677,
          -1.107554026204563,
          -1.5299472200361113,
          -0.7501740791988809,
          -0.033203184787304864,
          -0.5553284593627191,
          -0.33994652399196645,
          -2.386641564747908,
          1.0493097498960338,
          -0.7183616105644806,
          1.084854262453599,
          -1.0123596236062506,
          2.2874964362447474,
          -0.6641966760128035,
          0.806932644923215,
          -0.3077338196668659,
          1.49338292950465,
          1.5618086513515261,
          0.2574553131048988,
          2.6052434550270798,
          0.3880348684243134,
          -0.33832993795634553,
          1.0240956944664181,
          -1.566376606714092,
          -0.3366964038743089,
          0.2849792528536192,
          0.6817258669192712,
          0.5102281551885075,
          1.4697219567832973,
          -0.6807320987207326,
          -0.22954901605262046,
          -0.37637707921768376,
          0.6922675900344075,
          0.4142276480203638,
          -1.3474509661446872,
          0.049879177379919655,
          1.4403068630729332,
          0.39491714639388786,
          0.13595348217569306,
          0.05473080369502663,
          -0.6146884123304698,
          -0.6367006986559804,
          0.030354662872443,
          -1.5969158177383382,
          1.8413870934673713,
          1.0991009172646902,
          0.1693877844650046,
          -2.2459940153558855,
          -1.6809020412225755,
          0.6602657483315182,
          -0.491770502197117,
          -0.27866439856982217,
          -0.5733843098118053,
          0.7721267554749521,
          1.3048065236016184,
          0.8675156735300564,
          -2.0281669001153695,
          0.24360773876802302,
          0.3075084140956446
         ],
         "xaxis": "x7",
         "y": [
          0.6917213637962769,
          -0.5526143151781165,
          0.35293035890183044,
          -1.6582378868339553,
          -1.4407167644878176,
          1.0361532855145303,
          -0.019746846343731226,
          0.23779884114381963,
          -1.137075864821375,
          -1.4523685739760508,
          0.1803908472666222,
          -0.7147860463221315,
          -0.4166734236268579,
          0.619783875546229,
          -1.0369974268876478,
          -0.46665241552368353,
          -0.8891956631891681,
          0.3947293477546675,
          -1.2684798575573688,
          -1.3872662334152484,
          -0.6979495076289601,
          -2.7181451994116768,
          -0.7572163663671609,
          0.5143991930116932,
          -1.9411365050919673,
          0.06106171053000905,
          0.8176745043616885,
          -0.39254521657934427,
          0.16174214698555936,
          -0.04423418480084261,
          0.0556263390593717,
          -0.3045602029159356,
          -0.9860101085845111,
          0.8514469740880347,
          -0.0047581945490319634,
          -0.5186101610554991,
          -1.763672889966365,
          1.981057206811975,
          -1.3827577105450433,
          0.17251607959921,
          -0.1938010476816943,
          0.12573638564474687,
          -1.427358465639623,
          -0.9555619613637081,
          -0.10428451271600765,
          -0.3639492807693481,
          1.9309776228777946,
          0.6350234951198072,
          0.37106933909702366,
          0.14389227590365875,
          -1.0929147633439094,
          1.1936581105769524,
          -0.2316781125386438,
          -0.8525370395991181,
          0.7893215461711095,
          -0.4659389878225684,
          1.217287417694428,
          1.136494361623952,
          -0.3537234642329278,
          -0.356214406193524,
          -1.1182730023274297,
          0.4555210873080179,
          0.5980707553691869,
          -1.7156712739152002,
          -0.24131358563082048,
          1.0129213295531716,
          0.1939123964937125,
          1.8471201514407636,
          -1.3493632026208562,
          -0.30108048037058566,
          1.7316535342280481,
          -0.9181863423771113,
          0.2606558174697534,
          2.5014638272431124,
          -0.6952348011088254,
          -0.8020888731797848,
          -0.23842836168966505,
          1.4332399543255427,
          -0.0656106858450873,
          -1.0810510509303974,
          0.29996504613434377,
          -0.20110139444294162,
          1.544761894012792,
          -0.39743151387602754,
          1.0783986483866481,
          -0.996012645203401,
          -0.10664966517818977,
          -0.7042896624078521,
          -0.07208297710942764,
          -1.9740616766455272,
          0.2336328878300918,
          -1.1470063361444083,
          -2.0043432544146498,
          1.326962716923184,
          0.25781660739645107,
          0.1679845453619694,
          0.1277728648929808,
          -1.5541720352372053,
          2.3519070811198324,
          -0.8544479173116701
         ],
         "yaxis": "y7"
        },
        {
         "line": {
          "color": "rgba(128, 128, 128, 1.0)",
          "dash": "solid",
          "shape": "linear",
          "width": 1.3
         },
         "marker": {
          "size": 2,
          "symbol": "circle"
         },
         "mode": "markers",
         "name": "B",
         "text": "",
         "type": "scatter",
         "x": [
          -0.3321582334871926,
          -2.0436880414914884,
          1.6901763603945128,
          -1.3027246024372003,
          0.8329045268915205,
          0.9693927526742672,
          0.6381269659537482,
          0.7689714116791412,
          -0.4842799657344476,
          0.9492334369464868,
          1.5847645235316903,
          2.051263678428919,
          0.7631415037907674,
          1.8483505484849265,
          0.5456384224565451,
          -0.057018865516633606,
          2.450753491679219,
          0.2091946357167935,
          -0.7272729704936228,
          -0.22681087836083522,
          -1.5493706620887342,
          -0.3317849747875593,
          -0.5385657576633147,
          -0.5607043862474755,
          0.6996472211087795,
          0.29912366189131345,
          -0.27785445592382846,
          -0.3440492570984598,
          0.09803224857995489,
          -0.47355987989564796,
          0.965605675120281,
          0.279904164888264,
          -0.4897720739128254,
          0.6116238804194486,
          1.0668636873035247,
          0.20072833409905902,
          0.5590676335178563,
          0.3809650688252469,
          -1.1590360047104407,
          1.30908826432782,
          -0.18782092133261538,
          0.9401617936027297,
          -1.159798277832091,
          0.08186562540868922,
          -0.9108085225980124,
          -1.1684219358486414,
          0.019938751283946093,
          1.8064940589369523,
          0.1730971791265535,
          -0.5365484321188417,
          -1.8055142235955877,
          -1.698859385671163,
          0.43728041359384917,
          -0.20569813225914046,
          0.5855035347199206,
          1.0079529404702139,
          -0.32843179749295603,
          1.4285243026618126,
          0.5827722430290192,
          1.3225965879621964,
          1.1561621301676035,
          -1.0266396551128383,
          0.4571635813544492,
          0.9191713280485909,
          -0.42039372609890563,
          0.8730451122476843,
          1.647874233882643,
          0.2844434119935799,
          0.7138039949483197,
          -0.4297588540662532,
          -0.21200951578516913,
          -0.5684920376246261,
          -0.586525163859046,
          -0.805477185851115,
          0.9033148507825743,
          -0.49757280357037414,
          -0.4465187735775768,
          0.18859497662052685,
          -0.7605562414943484,
          -0.27571820758681925,
          1.5892609662512898,
          -0.40677461948907667,
          0.9893469610539058,
          -0.7186138050038005,
          0.31053542547631235,
          -1.005343304844573,
          0.054309179614122606,
          -0.20749947319462886,
          -0.6315889614715412,
          -1.368903978333397,
          1.586481282163813,
          0.5614815639098683,
          -0.15944185783308026,
          0.9804061933646404,
          -1.7344694764805748,
          -0.5463561118119844,
          0.6052526828890784,
          -0.3658218789741722,
          -0.10827769854984465,
          -0.11903177878804401
         ],
         "xaxis": "x8",
         "y": [
          0.6917213637962769,
          -0.5526143151781165,
          0.35293035890183044,
          -1.6582378868339553,
          -1.4407167644878176,
          1.0361532855145303,
          -0.019746846343731226,
          0.23779884114381963,
          -1.137075864821375,
          -1.4523685739760508,
          0.1803908472666222,
          -0.7147860463221315,
          -0.4166734236268579,
          0.619783875546229,
          -1.0369974268876478,
          -0.46665241552368353,
          -0.8891956631891681,
          0.3947293477546675,
          -1.2684798575573688,
          -1.3872662334152484,
          -0.6979495076289601,
          -2.7181451994116768,
          -0.7572163663671609,
          0.5143991930116932,
          -1.9411365050919673,
          0.06106171053000905,
          0.8176745043616885,
          -0.39254521657934427,
          0.16174214698555936,
          -0.04423418480084261,
          0.0556263390593717,
          -0.3045602029159356,
          -0.9860101085845111,
          0.8514469740880347,
          -0.0047581945490319634,
          -0.5186101610554991,
          -1.763672889966365,
          1.981057206811975,
          -1.3827577105450433,
          0.17251607959921,
          -0.1938010476816943,
          0.12573638564474687,
          -1.427358465639623,
          -0.9555619613637081,
          -0.10428451271600765,
          -0.3639492807693481,
          1.9309776228777946,
          0.6350234951198072,
          0.37106933909702366,
          0.14389227590365875,
          -1.0929147633439094,
          1.1936581105769524,
          -0.2316781125386438,
          -0.8525370395991181,
          0.7893215461711095,
          -0.4659389878225684,
          1.217287417694428,
          1.136494361623952,
          -0.3537234642329278,
          -0.356214406193524,
          -1.1182730023274297,
          0.4555210873080179,
          0.5980707553691869,
          -1.7156712739152002,
          -0.24131358563082048,
          1.0129213295531716,
          0.1939123964937125,
          1.8471201514407636,
          -1.3493632026208562,
          -0.30108048037058566,
          1.7316535342280481,
          -0.9181863423771113,
          0.2606558174697534,
          2.5014638272431124,
          -0.6952348011088254,
          -0.8020888731797848,
          -0.23842836168966505,
          1.4332399543255427,
          -0.0656106858450873,
          -1.0810510509303974,
          0.29996504613434377,
          -0.20110139444294162,
          1.544761894012792,
          -0.39743151387602754,
          1.0783986483866481,
          -0.996012645203401,
          -0.10664966517818977,
          -0.7042896624078521,
          -0.07208297710942764,
          -1.9740616766455272,
          0.2336328878300918,
          -1.1470063361444083,
          -2.0043432544146498,
          1.326962716923184,
          0.25781660739645107,
          0.1679845453619694,
          0.1277728648929808,
          -1.5541720352372053,
          2.3519070811198324,
          -0.8544479173116701
         ],
         "yaxis": "y8"
        },
        {
         "line": {
          "color": "rgba(128, 128, 128, 1.0)",
          "dash": "solid",
          "shape": "linear",
          "width": 1.3
         },
         "marker": {
          "size": 2,
          "symbol": "circle"
         },
         "mode": "markers",
         "name": "C",
         "text": "",
         "type": "scatter",
         "x": [
          -0.1562157680506174,
          -1.4743183396492672,
          0.8174253607848009,
          -0.05071979588371249,
          -0.17883922277148764,
          -0.7651720790330793,
          -1.9212082989298684,
          -0.03291141560317541,
          -0.5285594227423575,
          0.9384209074225683,
          0.12053579898169361,
          0.3543990552464441,
          0.9451320124913716,
          -1.53988087130836,
          1.5136352333156946,
          -0.05703586377575092,
          0.42259146806383674,
          1.0422998417748681,
          -1.2137178408540257,
          -1.2228420816836125,
          -1.6842697657640595,
          0.027377407127000517,
          0.8728739125498687,
          0.400733323829508,
          1.505847690989541,
          2.4094921171123116,
          0.2733148820087171,
          0.5076476481227942,
          0.07507825527940794,
          -0.11581566818277499,
          0.10976999817561314,
          -0.33978939320778784,
          -1.3561753274383268,
          -1.6949992820005702,
          -0.754280422087886,
          -1.8561129918865145,
          -1.5137564329562165,
          1.3239455726344815,
          -1.4152415671682996,
          -1.2310175210894636,
          -0.27113953403866786,
          0.1887942979613161,
          0.39903730368135787,
          1.2007236814299214,
          -1.0492470586883644,
          -0.5756470465370982,
          0.018717093029164814,
          0.5501113954130685,
          0.45065138354598433,
          0.28147906148170476,
          -0.7434683060264415,
          -0.7943208706789614,
          -0.30386762350946966,
          -0.45647583247065754,
          -0.23521898389024445,
          -0.17132848452522814,
          -0.014256328121696454,
          0.09791316526909666,
          0.245414612705241,
          -0.5330802582890434,
          -0.10427715190051172,
          0.8834796921415421,
          0.5033126402688209,
          0.2029458473106213,
          -0.3866167986286724,
          0.4079599144327987,
          -0.5407454908949233,
          -0.47796765106536876,
          0.6494224172798504,
          0.6622646186713247,
          1.1882265481397103,
          -0.2940317882374327,
          -0.3021590900161126,
          -0.12657175971552337,
          -0.2472482143506079,
          0.27612736376591684,
          0.4324893024430906,
          -1.4166021081702316,
          -2.2678431388562865,
          -0.629088023152995,
          0.43845322337204257,
          -0.6475890613579122,
          -0.20020174052331377,
          0.42512150492803447,
          -0.3495887913897167,
          0.17347148161256432,
          -1.7668388042852021,
          0.40677727740251274,
          0.22401269790090117,
          -1.6674395980989138,
          0.2802837122534162,
          -0.60332918748744,
          0.8740083631743834,
          2.1666309669777597,
          1.454692100480719,
          0.9186070389514527,
          -1.9509274095515292,
          0.16829110283638893,
          1.2616362034346793,
          0.021057675215465234
         ],
         "xaxis": "x9",
         "y": [
          -0.5444613077121313,
          0.24282026732360593,
          -0.35656512999868456,
          -2.184317090998879,
          0.4426154940144032,
          0.7553842264388909,
          1.0122605994186629,
          1.3946649036822865,
          -1.4263641277884072,
          0.14523131309549792,
          1.2589967814285568,
          -1.1701291056035084,
          -0.22291421332354852,
          -0.7783359760951556,
          -1.8330502523993342,
          -0.5216242194718059,
          -0.8285984564446579,
          0.5968833149870427,
          0.43388199674110106,
          0.027405037181976764,
          0.09066924336364013,
          0.2379682288310394,
          0.37480409777208656,
          -0.6053419910021665,
          -1.4440174863694806,
          0.5356354420622844,
          -1.346479835427754,
          -0.6490992629052273,
          1.9039332137015401,
          0.7986092268817414,
          -0.40087834786147086,
          -0.271787475965091,
          1.1649924348062937,
          0.7689387268325816,
          -0.3591109184121301,
          1.2137675746082375,
          -0.30713255730349576,
          1.4538389212487566,
          0.8462977878958471,
          1.7829519620794587,
          -0.35793487328095697,
          0.37239991133007677,
          -1.107554026204563,
          -1.5299472200361113,
          -0.7501740791988809,
          -0.033203184787304864,
          -0.5553284593627191,
          -0.33994652399196645,
          -2.386641564747908,
          1.0493097498960338,
          -0.7183616105644806,
          1.084854262453599,
          -1.0123596236062506,
          2.2874964362447474,
          -0.6641966760128035,
          0.806932644923215,
          -0.3077338196668659,
          1.49338292950465,
          1.5618086513515261,
          0.2574553131048988,
          2.6052434550270798,
          0.3880348684243134,
          -0.33832993795634553,
          1.0240956944664181,
          -1.566376606714092,
          -0.3366964038743089,
          0.2849792528536192,
          0.6817258669192712,
          0.5102281551885075,
          1.4697219567832973,
          -0.6807320987207326,
          -0.22954901605262046,
          -0.37637707921768376,
          0.6922675900344075,
          0.4142276480203638,
          -1.3474509661446872,
          0.049879177379919655,
          1.4403068630729332,
          0.39491714639388786,
          0.13595348217569306,
          0.05473080369502663,
          -0.6146884123304698,
          -0.6367006986559804,
          0.030354662872443,
          -1.5969158177383382,
          1.8413870934673713,
          1.0991009172646902,
          0.1693877844650046,
          -2.2459940153558855,
          -1.6809020412225755,
          0.6602657483315182,
          -0.491770502197117,
          -0.27866439856982217,
          -0.5733843098118053,
          0.7721267554749521,
          1.3048065236016184,
          0.8675156735300564,
          -2.0281669001153695,
          0.24360773876802302,
          0.3075084140956446
         ],
         "yaxis": "y9"
        },
        {
         "line": {
          "color": "rgba(128, 128, 128, 1.0)",
          "dash": "solid",
          "shape": "linear",
          "width": 1.3
         },
         "marker": {
          "size": 2,
          "symbol": "circle"
         },
         "mode": "markers",
         "name": "C",
         "text": "",
         "type": "scatter",
         "x": [
          0.6917213637962769,
          -0.5526143151781165,
          0.35293035890183044,
          -1.6582378868339553,
          -1.4407167644878176,
          1.0361532855145303,
          -0.019746846343731226,
          0.23779884114381963,
          -1.137075864821375,
          -1.4523685739760508,
          0.1803908472666222,
          -0.7147860463221315,
          -0.4166734236268579,
          0.619783875546229,
          -1.0369974268876478,
          -0.46665241552368353,
          -0.8891956631891681,
          0.3947293477546675,
          -1.2684798575573688,
          -1.3872662334152484,
          -0.6979495076289601,
          -2.7181451994116768,
          -0.7572163663671609,
          0.5143991930116932,
          -1.9411365050919673,
          0.06106171053000905,
          0.8176745043616885,
          -0.39254521657934427,
          0.16174214698555936,
          -0.04423418480084261,
          0.0556263390593717,
          -0.3045602029159356,
          -0.9860101085845111,
          0.8514469740880347,
          -0.0047581945490319634,
          -0.5186101610554991,
          -1.763672889966365,
          1.981057206811975,
          -1.3827577105450433,
          0.17251607959921,
          -0.1938010476816943,
          0.12573638564474687,
          -1.427358465639623,
          -0.9555619613637081,
          -0.10428451271600765,
          -0.3639492807693481,
          1.9309776228777946,
          0.6350234951198072,
          0.37106933909702366,
          0.14389227590365875,
          -1.0929147633439094,
          1.1936581105769524,
          -0.2316781125386438,
          -0.8525370395991181,
          0.7893215461711095,
          -0.4659389878225684,
          1.217287417694428,
          1.136494361623952,
          -0.3537234642329278,
          -0.356214406193524,
          -1.1182730023274297,
          0.4555210873080179,
          0.5980707553691869,
          -1.7156712739152002,
          -0.24131358563082048,
          1.0129213295531716,
          0.1939123964937125,
          1.8471201514407636,
          -1.3493632026208562,
          -0.30108048037058566,
          1.7316535342280481,
          -0.9181863423771113,
          0.2606558174697534,
          2.5014638272431124,
          -0.6952348011088254,
          -0.8020888731797848,
          -0.23842836168966505,
          1.4332399543255427,
          -0.0656106858450873,
          -1.0810510509303974,
          0.29996504613434377,
          -0.20110139444294162,
          1.544761894012792,
          -0.39743151387602754,
          1.0783986483866481,
          -0.996012645203401,
          -0.10664966517818977,
          -0.7042896624078521,
          -0.07208297710942764,
          -1.9740616766455272,
          0.2336328878300918,
          -1.1470063361444083,
          -2.0043432544146498,
          1.326962716923184,
          0.25781660739645107,
          0.1679845453619694,
          0.1277728648929808,
          -1.5541720352372053,
          2.3519070811198324,
          -0.8544479173116701
         ],
         "xaxis": "x10",
         "y": [
          -0.5444613077121313,
          0.24282026732360593,
          -0.35656512999868456,
          -2.184317090998879,
          0.4426154940144032,
          0.7553842264388909,
          1.0122605994186629,
          1.3946649036822865,
          -1.4263641277884072,
          0.14523131309549792,
          1.2589967814285568,
          -1.1701291056035084,
          -0.22291421332354852,
          -0.7783359760951556,
          -1.8330502523993342,
          -0.5216242194718059,
          -0.8285984564446579,
          0.5968833149870427,
          0.43388199674110106,
          0.027405037181976764,
          0.09066924336364013,
          0.2379682288310394,
          0.37480409777208656,
          -0.6053419910021665,
          -1.4440174863694806,
          0.5356354420622844,
          -1.346479835427754,
          -0.6490992629052273,
          1.9039332137015401,
          0.7986092268817414,
          -0.40087834786147086,
          -0.271787475965091,
          1.1649924348062937,
          0.7689387268325816,
          -0.3591109184121301,
          1.2137675746082375,
          -0.30713255730349576,
          1.4538389212487566,
          0.8462977878958471,
          1.7829519620794587,
          -0.35793487328095697,
          0.37239991133007677,
          -1.107554026204563,
          -1.5299472200361113,
          -0.7501740791988809,
          -0.033203184787304864,
          -0.5553284593627191,
          -0.33994652399196645,
          -2.386641564747908,
          1.0493097498960338,
          -0.7183616105644806,
          1.084854262453599,
          -1.0123596236062506,
          2.2874964362447474,
          -0.6641966760128035,
          0.806932644923215,
          -0.3077338196668659,
          1.49338292950465,
          1.5618086513515261,
          0.2574553131048988,
          2.6052434550270798,
          0.3880348684243134,
          -0.33832993795634553,
          1.0240956944664181,
          -1.566376606714092,
          -0.3366964038743089,
          0.2849792528536192,
          0.6817258669192712,
          0.5102281551885075,
          1.4697219567832973,
          -0.6807320987207326,
          -0.22954901605262046,
          -0.37637707921768376,
          0.6922675900344075,
          0.4142276480203638,
          -1.3474509661446872,
          0.049879177379919655,
          1.4403068630729332,
          0.39491714639388786,
          0.13595348217569306,
          0.05473080369502663,
          -0.6146884123304698,
          -0.6367006986559804,
          0.030354662872443,
          -1.5969158177383382,
          1.8413870934673713,
          1.0991009172646902,
          0.1693877844650046,
          -2.2459940153558855,
          -1.6809020412225755,
          0.6602657483315182,
          -0.491770502197117,
          -0.27866439856982217,
          -0.5733843098118053,
          0.7721267554749521,
          1.3048065236016184,
          0.8675156735300564,
          -2.0281669001153695,
          0.24360773876802302,
          0.3075084140956446
         ],
         "yaxis": "y10"
        },
        {
         "histfunc": "count",
         "histnorm": "",
         "marker": {
          "color": "rgba(50, 171, 96, 1.0)",
          "line": {
           "color": "#4D5663",
           "width": 1.3
          }
         },
         "name": "C",
         "nbinsx": 10,
         "opacity": 0.8,
         "orientation": "v",
         "type": "histogram",
         "x": [
          -0.5444613077121313,
          0.24282026732360593,
          -0.35656512999868456,
          -2.184317090998879,
          0.4426154940144032,
          0.7553842264388909,
          1.0122605994186629,
          1.3946649036822865,
          -1.4263641277884072,
          0.14523131309549792,
          1.2589967814285568,
          -1.1701291056035084,
          -0.22291421332354852,
          -0.7783359760951556,
          -1.8330502523993342,
          -0.5216242194718059,
          -0.8285984564446579,
          0.5968833149870427,
          0.43388199674110106,
          0.027405037181976764,
          0.09066924336364013,
          0.2379682288310394,
          0.37480409777208656,
          -0.6053419910021665,
          -1.4440174863694806,
          0.5356354420622844,
          -1.346479835427754,
          -0.6490992629052273,
          1.9039332137015401,
          0.7986092268817414,
          -0.40087834786147086,
          -0.271787475965091,
          1.1649924348062937,
          0.7689387268325816,
          -0.3591109184121301,
          1.2137675746082375,
          -0.30713255730349576,
          1.4538389212487566,
          0.8462977878958471,
          1.7829519620794587,
          -0.35793487328095697,
          0.37239991133007677,
          -1.107554026204563,
          -1.5299472200361113,
          -0.7501740791988809,
          -0.033203184787304864,
          -0.5553284593627191,
          -0.33994652399196645,
          -2.386641564747908,
          1.0493097498960338,
          -0.7183616105644806,
          1.084854262453599,
          -1.0123596236062506,
          2.2874964362447474,
          -0.6641966760128035,
          0.806932644923215,
          -0.3077338196668659,
          1.49338292950465,
          1.5618086513515261,
          0.2574553131048988,
          2.6052434550270798,
          0.3880348684243134,
          -0.33832993795634553,
          1.0240956944664181,
          -1.566376606714092,
          -0.3366964038743089,
          0.2849792528536192,
          0.6817258669192712,
          0.5102281551885075,
          1.4697219567832973,
          -0.6807320987207326,
          -0.22954901605262046,
          -0.37637707921768376,
          0.6922675900344075,
          0.4142276480203638,
          -1.3474509661446872,
          0.049879177379919655,
          1.4403068630729332,
          0.39491714639388786,
          0.13595348217569306,
          0.05473080369502663,
          -0.6146884123304698,
          -0.6367006986559804,
          0.030354662872443,
          -1.5969158177383382,
          1.8413870934673713,
          1.0991009172646902,
          0.1693877844650046,
          -2.2459940153558855,
          -1.6809020412225755,
          0.6602657483315182,
          -0.491770502197117,
          -0.27866439856982217,
          -0.5733843098118053,
          0.7721267554749521,
          1.3048065236016184,
          0.8675156735300564,
          -2.0281669001153695,
          0.24360773876802302,
          0.3075084140956446
         ],
         "xaxis": "x11",
         "yaxis": "y11"
        },
        {
         "line": {
          "color": "rgba(128, 128, 128, 1.0)",
          "dash": "solid",
          "shape": "linear",
          "width": 1.3
         },
         "marker": {
          "size": 2,
          "symbol": "circle"
         },
         "mode": "markers",
         "name": "C",
         "text": "",
         "type": "scatter",
         "x": [
          -0.3321582334871926,
          -2.0436880414914884,
          1.6901763603945128,
          -1.3027246024372003,
          0.8329045268915205,
          0.9693927526742672,
          0.6381269659537482,
          0.7689714116791412,
          -0.4842799657344476,
          0.9492334369464868,
          1.5847645235316903,
          2.051263678428919,
          0.7631415037907674,
          1.8483505484849265,
          0.5456384224565451,
          -0.057018865516633606,
          2.450753491679219,
          0.2091946357167935,
          -0.7272729704936228,
          -0.22681087836083522,
          -1.5493706620887342,
          -0.3317849747875593,
          -0.5385657576633147,
          -0.5607043862474755,
          0.6996472211087795,
          0.29912366189131345,
          -0.27785445592382846,
          -0.3440492570984598,
          0.09803224857995489,
          -0.47355987989564796,
          0.965605675120281,
          0.279904164888264,
          -0.4897720739128254,
          0.6116238804194486,
          1.0668636873035247,
          0.20072833409905902,
          0.5590676335178563,
          0.3809650688252469,
          -1.1590360047104407,
          1.30908826432782,
          -0.18782092133261538,
          0.9401617936027297,
          -1.159798277832091,
          0.08186562540868922,
          -0.9108085225980124,
          -1.1684219358486414,
          0.019938751283946093,
          1.8064940589369523,
          0.1730971791265535,
          -0.5365484321188417,
          -1.8055142235955877,
          -1.698859385671163,
          0.43728041359384917,
          -0.20569813225914046,
          0.5855035347199206,
          1.0079529404702139,
          -0.32843179749295603,
          1.4285243026618126,
          0.5827722430290192,
          1.3225965879621964,
          1.1561621301676035,
          -1.0266396551128383,
          0.4571635813544492,
          0.9191713280485909,
          -0.42039372609890563,
          0.8730451122476843,
          1.647874233882643,
          0.2844434119935799,
          0.7138039949483197,
          -0.4297588540662532,
          -0.21200951578516913,
          -0.5684920376246261,
          -0.586525163859046,
          -0.805477185851115,
          0.9033148507825743,
          -0.49757280357037414,
          -0.4465187735775768,
          0.18859497662052685,
          -0.7605562414943484,
          -0.27571820758681925,
          1.5892609662512898,
          -0.40677461948907667,
          0.9893469610539058,
          -0.7186138050038005,
          0.31053542547631235,
          -1.005343304844573,
          0.054309179614122606,
          -0.20749947319462886,
          -0.6315889614715412,
          -1.368903978333397,
          1.586481282163813,
          0.5614815639098683,
          -0.15944185783308026,
          0.9804061933646404,
          -1.7344694764805748,
          -0.5463561118119844,
          0.6052526828890784,
          -0.3658218789741722,
          -0.10827769854984465,
          -0.11903177878804401
         ],
         "xaxis": "x12",
         "y": [
          -0.5444613077121313,
          0.24282026732360593,
          -0.35656512999868456,
          -2.184317090998879,
          0.4426154940144032,
          0.7553842264388909,
          1.0122605994186629,
          1.3946649036822865,
          -1.4263641277884072,
          0.14523131309549792,
          1.2589967814285568,
          -1.1701291056035084,
          -0.22291421332354852,
          -0.7783359760951556,
          -1.8330502523993342,
          -0.5216242194718059,
          -0.8285984564446579,
          0.5968833149870427,
          0.43388199674110106,
          0.027405037181976764,
          0.09066924336364013,
          0.2379682288310394,
          0.37480409777208656,
          -0.6053419910021665,
          -1.4440174863694806,
          0.5356354420622844,
          -1.346479835427754,
          -0.6490992629052273,
          1.9039332137015401,
          0.7986092268817414,
          -0.40087834786147086,
          -0.271787475965091,
          1.1649924348062937,
          0.7689387268325816,
          -0.3591109184121301,
          1.2137675746082375,
          -0.30713255730349576,
          1.4538389212487566,
          0.8462977878958471,
          1.7829519620794587,
          -0.35793487328095697,
          0.37239991133007677,
          -1.107554026204563,
          -1.5299472200361113,
          -0.7501740791988809,
          -0.033203184787304864,
          -0.5553284593627191,
          -0.33994652399196645,
          -2.386641564747908,
          1.0493097498960338,
          -0.7183616105644806,
          1.084854262453599,
          -1.0123596236062506,
          2.2874964362447474,
          -0.6641966760128035,
          0.806932644923215,
          -0.3077338196668659,
          1.49338292950465,
          1.5618086513515261,
          0.2574553131048988,
          2.6052434550270798,
          0.3880348684243134,
          -0.33832993795634553,
          1.0240956944664181,
          -1.566376606714092,
          -0.3366964038743089,
          0.2849792528536192,
          0.6817258669192712,
          0.5102281551885075,
          1.4697219567832973,
          -0.6807320987207326,
          -0.22954901605262046,
          -0.37637707921768376,
          0.6922675900344075,
          0.4142276480203638,
          -1.3474509661446872,
          0.049879177379919655,
          1.4403068630729332,
          0.39491714639388786,
          0.13595348217569306,
          0.05473080369502663,
          -0.6146884123304698,
          -0.6367006986559804,
          0.030354662872443,
          -1.5969158177383382,
          1.8413870934673713,
          1.0991009172646902,
          0.1693877844650046,
          -2.2459940153558855,
          -1.6809020412225755,
          0.6602657483315182,
          -0.491770502197117,
          -0.27866439856982217,
          -0.5733843098118053,
          0.7721267554749521,
          1.3048065236016184,
          0.8675156735300564,
          -2.0281669001153695,
          0.24360773876802302,
          0.3075084140956446
         ],
         "yaxis": "y12"
        },
        {
         "line": {
          "color": "rgba(128, 128, 128, 1.0)",
          "dash": "solid",
          "shape": "linear",
          "width": 1.3
         },
         "marker": {
          "size": 2,
          "symbol": "circle"
         },
         "mode": "markers",
         "name": "D",
         "text": "",
         "type": "scatter",
         "x": [
          -0.1562157680506174,
          -1.4743183396492672,
          0.8174253607848009,
          -0.05071979588371249,
          -0.17883922277148764,
          -0.7651720790330793,
          -1.9212082989298684,
          -0.03291141560317541,
          -0.5285594227423575,
          0.9384209074225683,
          0.12053579898169361,
          0.3543990552464441,
          0.9451320124913716,
          -1.53988087130836,
          1.5136352333156946,
          -0.05703586377575092,
          0.42259146806383674,
          1.0422998417748681,
          -1.2137178408540257,
          -1.2228420816836125,
          -1.6842697657640595,
          0.027377407127000517,
          0.8728739125498687,
          0.400733323829508,
          1.505847690989541,
          2.4094921171123116,
          0.2733148820087171,
          0.5076476481227942,
          0.07507825527940794,
          -0.11581566818277499,
          0.10976999817561314,
          -0.33978939320778784,
          -1.3561753274383268,
          -1.6949992820005702,
          -0.754280422087886,
          -1.8561129918865145,
          -1.5137564329562165,
          1.3239455726344815,
          -1.4152415671682996,
          -1.2310175210894636,
          -0.27113953403866786,
          0.1887942979613161,
          0.39903730368135787,
          1.2007236814299214,
          -1.0492470586883644,
          -0.5756470465370982,
          0.018717093029164814,
          0.5501113954130685,
          0.45065138354598433,
          0.28147906148170476,
          -0.7434683060264415,
          -0.7943208706789614,
          -0.30386762350946966,
          -0.45647583247065754,
          -0.23521898389024445,
          -0.17132848452522814,
          -0.014256328121696454,
          0.09791316526909666,
          0.245414612705241,
          -0.5330802582890434,
          -0.10427715190051172,
          0.8834796921415421,
          0.5033126402688209,
          0.2029458473106213,
          -0.3866167986286724,
          0.4079599144327987,
          -0.5407454908949233,
          -0.47796765106536876,
          0.6494224172798504,
          0.6622646186713247,
          1.1882265481397103,
          -0.2940317882374327,
          -0.3021590900161126,
          -0.12657175971552337,
          -0.2472482143506079,
          0.27612736376591684,
          0.4324893024430906,
          -1.4166021081702316,
          -2.2678431388562865,
          -0.629088023152995,
          0.43845322337204257,
          -0.6475890613579122,
          -0.20020174052331377,
          0.42512150492803447,
          -0.3495887913897167,
          0.17347148161256432,
          -1.7668388042852021,
          0.40677727740251274,
          0.22401269790090117,
          -1.6674395980989138,
          0.2802837122534162,
          -0.60332918748744,
          0.8740083631743834,
          2.1666309669777597,
          1.454692100480719,
          0.9186070389514527,
          -1.9509274095515292,
          0.16829110283638893,
          1.2616362034346793,
          0.021057675215465234
         ],
         "xaxis": "x13",
         "y": [
          -0.3321582334871926,
          -2.0436880414914884,
          1.6901763603945128,
          -1.3027246024372003,
          0.8329045268915205,
          0.9693927526742672,
          0.6381269659537482,
          0.7689714116791412,
          -0.4842799657344476,
          0.9492334369464868,
          1.5847645235316903,
          2.051263678428919,
          0.7631415037907674,
          1.8483505484849265,
          0.5456384224565451,
          -0.057018865516633606,
          2.450753491679219,
          0.2091946357167935,
          -0.7272729704936228,
          -0.22681087836083522,
          -1.5493706620887342,
          -0.3317849747875593,
          -0.5385657576633147,
          -0.5607043862474755,
          0.6996472211087795,
          0.29912366189131345,
          -0.27785445592382846,
          -0.3440492570984598,
          0.09803224857995489,
          -0.47355987989564796,
          0.965605675120281,
          0.279904164888264,
          -0.4897720739128254,
          0.6116238804194486,
          1.0668636873035247,
          0.20072833409905902,
          0.5590676335178563,
          0.3809650688252469,
          -1.1590360047104407,
          1.30908826432782,
          -0.18782092133261538,
          0.9401617936027297,
          -1.159798277832091,
          0.08186562540868922,
          -0.9108085225980124,
          -1.1684219358486414,
          0.019938751283946093,
          1.8064940589369523,
          0.1730971791265535,
          -0.5365484321188417,
          -1.8055142235955877,
          -1.698859385671163,
          0.43728041359384917,
          -0.20569813225914046,
          0.5855035347199206,
          1.0079529404702139,
          -0.32843179749295603,
          1.4285243026618126,
          0.5827722430290192,
          1.3225965879621964,
          1.1561621301676035,
          -1.0266396551128383,
          0.4571635813544492,
          0.9191713280485909,
          -0.42039372609890563,
          0.8730451122476843,
          1.647874233882643,
          0.2844434119935799,
          0.7138039949483197,
          -0.4297588540662532,
          -0.21200951578516913,
          -0.5684920376246261,
          -0.586525163859046,
          -0.805477185851115,
          0.9033148507825743,
          -0.49757280357037414,
          -0.4465187735775768,
          0.18859497662052685,
          -0.7605562414943484,
          -0.27571820758681925,
          1.5892609662512898,
          -0.40677461948907667,
          0.9893469610539058,
          -0.7186138050038005,
          0.31053542547631235,
          -1.005343304844573,
          0.054309179614122606,
          -0.20749947319462886,
          -0.6315889614715412,
          -1.368903978333397,
          1.586481282163813,
          0.5614815639098683,
          -0.15944185783308026,
          0.9804061933646404,
          -1.7344694764805748,
          -0.5463561118119844,
          0.6052526828890784,
          -0.3658218789741722,
          -0.10827769854984465,
          -0.11903177878804401
         ],
         "yaxis": "y13"
        },
        {
         "line": {
          "color": "rgba(128, 128, 128, 1.0)",
          "dash": "solid",
          "shape": "linear",
          "width": 1.3
         },
         "marker": {
          "size": 2,
          "symbol": "circle"
         },
         "mode": "markers",
         "name": "D",
         "text": "",
         "type": "scatter",
         "x": [
          0.6917213637962769,
          -0.5526143151781165,
          0.35293035890183044,
          -1.6582378868339553,
          -1.4407167644878176,
          1.0361532855145303,
          -0.019746846343731226,
          0.23779884114381963,
          -1.137075864821375,
          -1.4523685739760508,
          0.1803908472666222,
          -0.7147860463221315,
          -0.4166734236268579,
          0.619783875546229,
          -1.0369974268876478,
          -0.46665241552368353,
          -0.8891956631891681,
          0.3947293477546675,
          -1.2684798575573688,
          -1.3872662334152484,
          -0.6979495076289601,
          -2.7181451994116768,
          -0.7572163663671609,
          0.5143991930116932,
          -1.9411365050919673,
          0.06106171053000905,
          0.8176745043616885,
          -0.39254521657934427,
          0.16174214698555936,
          -0.04423418480084261,
          0.0556263390593717,
          -0.3045602029159356,
          -0.9860101085845111,
          0.8514469740880347,
          -0.0047581945490319634,
          -0.5186101610554991,
          -1.763672889966365,
          1.981057206811975,
          -1.3827577105450433,
          0.17251607959921,
          -0.1938010476816943,
          0.12573638564474687,
          -1.427358465639623,
          -0.9555619613637081,
          -0.10428451271600765,
          -0.3639492807693481,
          1.9309776228777946,
          0.6350234951198072,
          0.37106933909702366,
          0.14389227590365875,
          -1.0929147633439094,
          1.1936581105769524,
          -0.2316781125386438,
          -0.8525370395991181,
          0.7893215461711095,
          -0.4659389878225684,
          1.217287417694428,
          1.136494361623952,
          -0.3537234642329278,
          -0.356214406193524,
          -1.1182730023274297,
          0.4555210873080179,
          0.5980707553691869,
          -1.7156712739152002,
          -0.24131358563082048,
          1.0129213295531716,
          0.1939123964937125,
          1.8471201514407636,
          -1.3493632026208562,
          -0.30108048037058566,
          1.7316535342280481,
          -0.9181863423771113,
          0.2606558174697534,
          2.5014638272431124,
          -0.6952348011088254,
          -0.8020888731797848,
          -0.23842836168966505,
          1.4332399543255427,
          -0.0656106858450873,
          -1.0810510509303974,
          0.29996504613434377,
          -0.20110139444294162,
          1.544761894012792,
          -0.39743151387602754,
          1.0783986483866481,
          -0.996012645203401,
          -0.10664966517818977,
          -0.7042896624078521,
          -0.07208297710942764,
          -1.9740616766455272,
          0.2336328878300918,
          -1.1470063361444083,
          -2.0043432544146498,
          1.326962716923184,
          0.25781660739645107,
          0.1679845453619694,
          0.1277728648929808,
          -1.5541720352372053,
          2.3519070811198324,
          -0.8544479173116701
         ],
         "xaxis": "x14",
         "y": [
          -0.3321582334871926,
          -2.0436880414914884,
          1.6901763603945128,
          -1.3027246024372003,
          0.8329045268915205,
          0.9693927526742672,
          0.6381269659537482,
          0.7689714116791412,
          -0.4842799657344476,
          0.9492334369464868,
          1.5847645235316903,
          2.051263678428919,
          0.7631415037907674,
          1.8483505484849265,
          0.5456384224565451,
          -0.057018865516633606,
          2.450753491679219,
          0.2091946357167935,
          -0.7272729704936228,
          -0.22681087836083522,
          -1.5493706620887342,
          -0.3317849747875593,
          -0.5385657576633147,
          -0.5607043862474755,
          0.6996472211087795,
          0.29912366189131345,
          -0.27785445592382846,
          -0.3440492570984598,
          0.09803224857995489,
          -0.47355987989564796,
          0.965605675120281,
          0.279904164888264,
          -0.4897720739128254,
          0.6116238804194486,
          1.0668636873035247,
          0.20072833409905902,
          0.5590676335178563,
          0.3809650688252469,
          -1.1590360047104407,
          1.30908826432782,
          -0.18782092133261538,
          0.9401617936027297,
          -1.159798277832091,
          0.08186562540868922,
          -0.9108085225980124,
          -1.1684219358486414,
          0.019938751283946093,
          1.8064940589369523,
          0.1730971791265535,
          -0.5365484321188417,
          -1.8055142235955877,
          -1.698859385671163,
          0.43728041359384917,
          -0.20569813225914046,
          0.5855035347199206,
          1.0079529404702139,
          -0.32843179749295603,
          1.4285243026618126,
          0.5827722430290192,
          1.3225965879621964,
          1.1561621301676035,
          -1.0266396551128383,
          0.4571635813544492,
          0.9191713280485909,
          -0.42039372609890563,
          0.8730451122476843,
          1.647874233882643,
          0.2844434119935799,
          0.7138039949483197,
          -0.4297588540662532,
          -0.21200951578516913,
          -0.5684920376246261,
          -0.586525163859046,
          -0.805477185851115,
          0.9033148507825743,
          -0.49757280357037414,
          -0.4465187735775768,
          0.18859497662052685,
          -0.7605562414943484,
          -0.27571820758681925,
          1.5892609662512898,
          -0.40677461948907667,
          0.9893469610539058,
          -0.7186138050038005,
          0.31053542547631235,
          -1.005343304844573,
          0.054309179614122606,
          -0.20749947319462886,
          -0.6315889614715412,
          -1.368903978333397,
          1.586481282163813,
          0.5614815639098683,
          -0.15944185783308026,
          0.9804061933646404,
          -1.7344694764805748,
          -0.5463561118119844,
          0.6052526828890784,
          -0.3658218789741722,
          -0.10827769854984465,
          -0.11903177878804401
         ],
         "yaxis": "y14"
        },
        {
         "line": {
          "color": "rgba(128, 128, 128, 1.0)",
          "dash": "solid",
          "shape": "linear",
          "width": 1.3
         },
         "marker": {
          "size": 2,
          "symbol": "circle"
         },
         "mode": "markers",
         "name": "D",
         "text": "",
         "type": "scatter",
         "x": [
          -0.5444613077121313,
          0.24282026732360593,
          -0.35656512999868456,
          -2.184317090998879,
          0.4426154940144032,
          0.7553842264388909,
          1.0122605994186629,
          1.3946649036822865,
          -1.4263641277884072,
          0.14523131309549792,
          1.2589967814285568,
          -1.1701291056035084,
          -0.22291421332354852,
          -0.7783359760951556,
          -1.8330502523993342,
          -0.5216242194718059,
          -0.8285984564446579,
          0.5968833149870427,
          0.43388199674110106,
          0.027405037181976764,
          0.09066924336364013,
          0.2379682288310394,
          0.37480409777208656,
          -0.6053419910021665,
          -1.4440174863694806,
          0.5356354420622844,
          -1.346479835427754,
          -0.6490992629052273,
          1.9039332137015401,
          0.7986092268817414,
          -0.40087834786147086,
          -0.271787475965091,
          1.1649924348062937,
          0.7689387268325816,
          -0.3591109184121301,
          1.2137675746082375,
          -0.30713255730349576,
          1.4538389212487566,
          0.8462977878958471,
          1.7829519620794587,
          -0.35793487328095697,
          0.37239991133007677,
          -1.107554026204563,
          -1.5299472200361113,
          -0.7501740791988809,
          -0.033203184787304864,
          -0.5553284593627191,
          -0.33994652399196645,
          -2.386641564747908,
          1.0493097498960338,
          -0.7183616105644806,
          1.084854262453599,
          -1.0123596236062506,
          2.2874964362447474,
          -0.6641966760128035,
          0.806932644923215,
          -0.3077338196668659,
          1.49338292950465,
          1.5618086513515261,
          0.2574553131048988,
          2.6052434550270798,
          0.3880348684243134,
          -0.33832993795634553,
          1.0240956944664181,
          -1.566376606714092,
          -0.3366964038743089,
          0.2849792528536192,
          0.6817258669192712,
          0.5102281551885075,
          1.4697219567832973,
          -0.6807320987207326,
          -0.22954901605262046,
          -0.37637707921768376,
          0.6922675900344075,
          0.4142276480203638,
          -1.3474509661446872,
          0.049879177379919655,
          1.4403068630729332,
          0.39491714639388786,
          0.13595348217569306,
          0.05473080369502663,
          -0.6146884123304698,
          -0.6367006986559804,
          0.030354662872443,
          -1.5969158177383382,
          1.8413870934673713,
          1.0991009172646902,
          0.1693877844650046,
          -2.2459940153558855,
          -1.6809020412225755,
          0.6602657483315182,
          -0.491770502197117,
          -0.27866439856982217,
          -0.5733843098118053,
          0.7721267554749521,
          1.3048065236016184,
          0.8675156735300564,
          -2.0281669001153695,
          0.24360773876802302,
          0.3075084140956446
         ],
         "xaxis": "x15",
         "y": [
          -0.3321582334871926,
          -2.0436880414914884,
          1.6901763603945128,
          -1.3027246024372003,
          0.8329045268915205,
          0.9693927526742672,
          0.6381269659537482,
          0.7689714116791412,
          -0.4842799657344476,
          0.9492334369464868,
          1.5847645235316903,
          2.051263678428919,
          0.7631415037907674,
          1.8483505484849265,
          0.5456384224565451,
          -0.057018865516633606,
          2.450753491679219,
          0.2091946357167935,
          -0.7272729704936228,
          -0.22681087836083522,
          -1.5493706620887342,
          -0.3317849747875593,
          -0.5385657576633147,
          -0.5607043862474755,
          0.6996472211087795,
          0.29912366189131345,
          -0.27785445592382846,
          -0.3440492570984598,
          0.09803224857995489,
          -0.47355987989564796,
          0.965605675120281,
          0.279904164888264,
          -0.4897720739128254,
          0.6116238804194486,
          1.0668636873035247,
          0.20072833409905902,
          0.5590676335178563,
          0.3809650688252469,
          -1.1590360047104407,
          1.30908826432782,
          -0.18782092133261538,
          0.9401617936027297,
          -1.159798277832091,
          0.08186562540868922,
          -0.9108085225980124,
          -1.1684219358486414,
          0.019938751283946093,
          1.8064940589369523,
          0.1730971791265535,
          -0.5365484321188417,
          -1.8055142235955877,
          -1.698859385671163,
          0.43728041359384917,
          -0.20569813225914046,
          0.5855035347199206,
          1.0079529404702139,
          -0.32843179749295603,
          1.4285243026618126,
          0.5827722430290192,
          1.3225965879621964,
          1.1561621301676035,
          -1.0266396551128383,
          0.4571635813544492,
          0.9191713280485909,
          -0.42039372609890563,
          0.8730451122476843,
          1.647874233882643,
          0.2844434119935799,
          0.7138039949483197,
          -0.4297588540662532,
          -0.21200951578516913,
          -0.5684920376246261,
          -0.586525163859046,
          -0.805477185851115,
          0.9033148507825743,
          -0.49757280357037414,
          -0.4465187735775768,
          0.18859497662052685,
          -0.7605562414943484,
          -0.27571820758681925,
          1.5892609662512898,
          -0.40677461948907667,
          0.9893469610539058,
          -0.7186138050038005,
          0.31053542547631235,
          -1.005343304844573,
          0.054309179614122606,
          -0.20749947319462886,
          -0.6315889614715412,
          -1.368903978333397,
          1.586481282163813,
          0.5614815639098683,
          -0.15944185783308026,
          0.9804061933646404,
          -1.7344694764805748,
          -0.5463561118119844,
          0.6052526828890784,
          -0.3658218789741722,
          -0.10827769854984465,
          -0.11903177878804401
         ],
         "yaxis": "y15"
        },
        {
         "histfunc": "count",
         "histnorm": "",
         "marker": {
          "color": "rgba(128, 0, 128, 1.0)",
          "line": {
           "color": "#4D5663",
           "width": 1.3
          }
         },
         "name": "D",
         "nbinsx": 10,
         "opacity": 0.8,
         "orientation": "v",
         "type": "histogram",
         "x": [
          -0.3321582334871926,
          -2.0436880414914884,
          1.6901763603945128,
          -1.3027246024372003,
          0.8329045268915205,
          0.9693927526742672,
          0.6381269659537482,
          0.7689714116791412,
          -0.4842799657344476,
          0.9492334369464868,
          1.5847645235316903,
          2.051263678428919,
          0.7631415037907674,
          1.8483505484849265,
          0.5456384224565451,
          -0.057018865516633606,
          2.450753491679219,
          0.2091946357167935,
          -0.7272729704936228,
          -0.22681087836083522,
          -1.5493706620887342,
          -0.3317849747875593,
          -0.5385657576633147,
          -0.5607043862474755,
          0.6996472211087795,
          0.29912366189131345,
          -0.27785445592382846,
          -0.3440492570984598,
          0.09803224857995489,
          -0.47355987989564796,
          0.965605675120281,
          0.279904164888264,
          -0.4897720739128254,
          0.6116238804194486,
          1.0668636873035247,
          0.20072833409905902,
          0.5590676335178563,
          0.3809650688252469,
          -1.1590360047104407,
          1.30908826432782,
          -0.18782092133261538,
          0.9401617936027297,
          -1.159798277832091,
          0.08186562540868922,
          -0.9108085225980124,
          -1.1684219358486414,
          0.019938751283946093,
          1.8064940589369523,
          0.1730971791265535,
          -0.5365484321188417,
          -1.8055142235955877,
          -1.698859385671163,
          0.43728041359384917,
          -0.20569813225914046,
          0.5855035347199206,
          1.0079529404702139,
          -0.32843179749295603,
          1.4285243026618126,
          0.5827722430290192,
          1.3225965879621964,
          1.1561621301676035,
          -1.0266396551128383,
          0.4571635813544492,
          0.9191713280485909,
          -0.42039372609890563,
          0.8730451122476843,
          1.647874233882643,
          0.2844434119935799,
          0.7138039949483197,
          -0.4297588540662532,
          -0.21200951578516913,
          -0.5684920376246261,
          -0.586525163859046,
          -0.805477185851115,
          0.9033148507825743,
          -0.49757280357037414,
          -0.4465187735775768,
          0.18859497662052685,
          -0.7605562414943484,
          -0.27571820758681925,
          1.5892609662512898,
          -0.40677461948907667,
          0.9893469610539058,
          -0.7186138050038005,
          0.31053542547631235,
          -1.005343304844573,
          0.054309179614122606,
          -0.20749947319462886,
          -0.6315889614715412,
          -1.368903978333397,
          1.586481282163813,
          0.5614815639098683,
          -0.15944185783308026,
          0.9804061933646404,
          -1.7344694764805748,
          -0.5463561118119844,
          0.6052526828890784,
          -0.3658218789741722,
          -0.10827769854984465,
          -0.11903177878804401
         ],
         "xaxis": "x16",
         "yaxis": "y16"
        }
       ],
       "layout": {
        "bargap": 0.02,
        "legend": {
         "bgcolor": "#F5F6F9",
         "font": {
          "color": "#4D5663"
         }
        },
        "paper_bgcolor": "#F5F6F9",
        "plot_bgcolor": "#F5F6F9",
        "showlegend": false,
        "template": {
         "data": {
          "bar": [
           {
            "error_x": {
             "color": "#2a3f5f"
            },
            "error_y": {
             "color": "#2a3f5f"
            },
            "marker": {
             "line": {
              "color": "#E5ECF6",
              "width": 0.5
             }
            },
            "type": "bar"
           }
          ],
          "barpolar": [
           {
            "marker": {
             "line": {
              "color": "#E5ECF6",
              "width": 0.5
             }
            },
            "type": "barpolar"
           }
          ],
          "carpet": [
           {
            "aaxis": {
             "endlinecolor": "#2a3f5f",
             "gridcolor": "white",
             "linecolor": "white",
             "minorgridcolor": "white",
             "startlinecolor": "#2a3f5f"
            },
            "baxis": {
             "endlinecolor": "#2a3f5f",
             "gridcolor": "white",
             "linecolor": "white",
             "minorgridcolor": "white",
             "startlinecolor": "#2a3f5f"
            },
            "type": "carpet"
           }
          ],
          "choropleth": [
           {
            "colorbar": {
             "outlinewidth": 0,
             "ticks": ""
            },
            "type": "choropleth"
           }
          ],
          "contour": [
           {
            "colorbar": {
             "outlinewidth": 0,
             "ticks": ""
            },
            "colorscale": [
             [
              0,
              "#0d0887"
             ],
             [
              0.1111111111111111,
              "#46039f"
             ],
             [
              0.2222222222222222,
              "#7201a8"
             ],
             [
              0.3333333333333333,
              "#9c179e"
             ],
             [
              0.4444444444444444,
              "#bd3786"
             ],
             [
              0.5555555555555556,
              "#d8576b"
             ],
             [
              0.6666666666666666,
              "#ed7953"
             ],
             [
              0.7777777777777778,
              "#fb9f3a"
             ],
             [
              0.8888888888888888,
              "#fdca26"
             ],
             [
              1,
              "#f0f921"
             ]
            ],
            "type": "contour"
           }
          ],
          "contourcarpet": [
           {
            "colorbar": {
             "outlinewidth": 0,
             "ticks": ""
            },
            "type": "contourcarpet"
           }
          ],
          "heatmap": [
           {
            "colorbar": {
             "outlinewidth": 0,
             "ticks": ""
            },
            "colorscale": [
             [
              0,
              "#0d0887"
             ],
             [
              0.1111111111111111,
              "#46039f"
             ],
             [
              0.2222222222222222,
              "#7201a8"
             ],
             [
              0.3333333333333333,
              "#9c179e"
             ],
             [
              0.4444444444444444,
              "#bd3786"
             ],
             [
              0.5555555555555556,
              "#d8576b"
             ],
             [
              0.6666666666666666,
              "#ed7953"
             ],
             [
              0.7777777777777778,
              "#fb9f3a"
             ],
             [
              0.8888888888888888,
              "#fdca26"
             ],
             [
              1,
              "#f0f921"
             ]
            ],
            "type": "heatmap"
           }
          ],
          "heatmapgl": [
           {
            "colorbar": {
             "outlinewidth": 0,
             "ticks": ""
            },
            "colorscale": [
             [
              0,
              "#0d0887"
             ],
             [
              0.1111111111111111,
              "#46039f"
             ],
             [
              0.2222222222222222,
              "#7201a8"
             ],
             [
              0.3333333333333333,
              "#9c179e"
             ],
             [
              0.4444444444444444,
              "#bd3786"
             ],
             [
              0.5555555555555556,
              "#d8576b"
             ],
             [
              0.6666666666666666,
              "#ed7953"
             ],
             [
              0.7777777777777778,
              "#fb9f3a"
             ],
             [
              0.8888888888888888,
              "#fdca26"
             ],
             [
              1,
              "#f0f921"
             ]
            ],
            "type": "heatmapgl"
           }
          ],
          "histogram": [
           {
            "marker": {
             "colorbar": {
              "outlinewidth": 0,
              "ticks": ""
             }
            },
            "type": "histogram"
           }
          ],
          "histogram2d": [
           {
            "colorbar": {
             "outlinewidth": 0,
             "ticks": ""
            },
            "colorscale": [
             [
              0,
              "#0d0887"
             ],
             [
              0.1111111111111111,
              "#46039f"
             ],
             [
              0.2222222222222222,
              "#7201a8"
             ],
             [
              0.3333333333333333,
              "#9c179e"
             ],
             [
              0.4444444444444444,
              "#bd3786"
             ],
             [
              0.5555555555555556,
              "#d8576b"
             ],
             [
              0.6666666666666666,
              "#ed7953"
             ],
             [
              0.7777777777777778,
              "#fb9f3a"
             ],
             [
              0.8888888888888888,
              "#fdca26"
             ],
             [
              1,
              "#f0f921"
             ]
            ],
            "type": "histogram2d"
           }
          ],
          "histogram2dcontour": [
           {
            "colorbar": {
             "outlinewidth": 0,
             "ticks": ""
            },
            "colorscale": [
             [
              0,
              "#0d0887"
             ],
             [
              0.1111111111111111,
              "#46039f"
             ],
             [
              0.2222222222222222,
              "#7201a8"
             ],
             [
              0.3333333333333333,
              "#9c179e"
             ],
             [
              0.4444444444444444,
              "#bd3786"
             ],
             [
              0.5555555555555556,
              "#d8576b"
             ],
             [
              0.6666666666666666,
              "#ed7953"
             ],
             [
              0.7777777777777778,
              "#fb9f3a"
             ],
             [
              0.8888888888888888,
              "#fdca26"
             ],
             [
              1,
              "#f0f921"
             ]
            ],
            "type": "histogram2dcontour"
           }
          ],
          "mesh3d": [
           {
            "colorbar": {
             "outlinewidth": 0,
             "ticks": ""
            },
            "type": "mesh3d"
           }
          ],
          "parcoords": [
           {
            "line": {
             "colorbar": {
              "outlinewidth": 0,
              "ticks": ""
             }
            },
            "type": "parcoords"
           }
          ],
          "pie": [
           {
            "automargin": true,
            "type": "pie"
           }
          ],
          "scatter": [
           {
            "marker": {
             "colorbar": {
              "outlinewidth": 0,
              "ticks": ""
             }
            },
            "type": "scatter"
           }
          ],
          "scatter3d": [
           {
            "line": {
             "colorbar": {
              "outlinewidth": 0,
              "ticks": ""
             }
            },
            "marker": {
             "colorbar": {
              "outlinewidth": 0,
              "ticks": ""
             }
            },
            "type": "scatter3d"
           }
          ],
          "scattercarpet": [
           {
            "marker": {
             "colorbar": {
              "outlinewidth": 0,
              "ticks": ""
             }
            },
            "type": "scattercarpet"
           }
          ],
          "scattergeo": [
           {
            "marker": {
             "colorbar": {
              "outlinewidth": 0,
              "ticks": ""
             }
            },
            "type": "scattergeo"
           }
          ],
          "scattergl": [
           {
            "marker": {
             "colorbar": {
              "outlinewidth": 0,
              "ticks": ""
             }
            },
            "type": "scattergl"
           }
          ],
          "scattermapbox": [
           {
            "marker": {
             "colorbar": {
              "outlinewidth": 0,
              "ticks": ""
             }
            },
            "type": "scattermapbox"
           }
          ],
          "scatterpolar": [
           {
            "marker": {
             "colorbar": {
              "outlinewidth": 0,
              "ticks": ""
             }
            },
            "type": "scatterpolar"
           }
          ],
          "scatterpolargl": [
           {
            "marker": {
             "colorbar": {
              "outlinewidth": 0,
              "ticks": ""
             }
            },
            "type": "scatterpolargl"
           }
          ],
          "scatterternary": [
           {
            "marker": {
             "colorbar": {
              "outlinewidth": 0,
              "ticks": ""
             }
            },
            "type": "scatterternary"
           }
          ],
          "surface": [
           {
            "colorbar": {
             "outlinewidth": 0,
             "ticks": ""
            },
            "colorscale": [
             [
              0,
              "#0d0887"
             ],
             [
              0.1111111111111111,
              "#46039f"
             ],
             [
              0.2222222222222222,
              "#7201a8"
             ],
             [
              0.3333333333333333,
              "#9c179e"
             ],
             [
              0.4444444444444444,
              "#bd3786"
             ],
             [
              0.5555555555555556,
              "#d8576b"
             ],
             [
              0.6666666666666666,
              "#ed7953"
             ],
             [
              0.7777777777777778,
              "#fb9f3a"
             ],
             [
              0.8888888888888888,
              "#fdca26"
             ],
             [
              1,
              "#f0f921"
             ]
            ],
            "type": "surface"
           }
          ],
          "table": [
           {
            "cells": {
             "fill": {
              "color": "#EBF0F8"
             },
             "line": {
              "color": "white"
             }
            },
            "header": {
             "fill": {
              "color": "#C8D4E3"
             },
             "line": {
              "color": "white"
             }
            },
            "type": "table"
           }
          ]
         },
         "layout": {
          "annotationdefaults": {
           "arrowcolor": "#2a3f5f",
           "arrowhead": 0,
           "arrowwidth": 1
          },
          "autotypenumbers": "strict",
          "coloraxis": {
           "colorbar": {
            "outlinewidth": 0,
            "ticks": ""
           }
          },
          "colorscale": {
           "diverging": [
            [
             0,
             "#8e0152"
            ],
            [
             0.1,
             "#c51b7d"
            ],
            [
             0.2,
             "#de77ae"
            ],
            [
             0.3,
             "#f1b6da"
            ],
            [
             0.4,
             "#fde0ef"
            ],
            [
             0.5,
             "#f7f7f7"
            ],
            [
             0.6,
             "#e6f5d0"
            ],
            [
             0.7,
             "#b8e186"
            ],
            [
             0.8,
             "#7fbc41"
            ],
            [
             0.9,
             "#4d9221"
            ],
            [
             1,
             "#276419"
            ]
           ],
           "sequential": [
            [
             0,
             "#0d0887"
            ],
            [
             0.1111111111111111,
             "#46039f"
            ],
            [
             0.2222222222222222,
             "#7201a8"
            ],
            [
             0.3333333333333333,
             "#9c179e"
            ],
            [
             0.4444444444444444,
             "#bd3786"
            ],
            [
             0.5555555555555556,
             "#d8576b"
            ],
            [
             0.6666666666666666,
             "#ed7953"
            ],
            [
             0.7777777777777778,
             "#fb9f3a"
            ],
            [
             0.8888888888888888,
             "#fdca26"
            ],
            [
             1,
             "#f0f921"
            ]
           ],
           "sequentialminus": [
            [
             0,
             "#0d0887"
            ],
            [
             0.1111111111111111,
             "#46039f"
            ],
            [
             0.2222222222222222,
             "#7201a8"
            ],
            [
             0.3333333333333333,
             "#9c179e"
            ],
            [
             0.4444444444444444,
             "#bd3786"
            ],
            [
             0.5555555555555556,
             "#d8576b"
            ],
            [
             0.6666666666666666,
             "#ed7953"
            ],
            [
             0.7777777777777778,
             "#fb9f3a"
            ],
            [
             0.8888888888888888,
             "#fdca26"
            ],
            [
             1,
             "#f0f921"
            ]
           ]
          },
          "colorway": [
           "#636efa",
           "#EF553B",
           "#00cc96",
           "#ab63fa",
           "#FFA15A",
           "#19d3f3",
           "#FF6692",
           "#B6E880",
           "#FF97FF",
           "#FECB52"
          ],
          "font": {
           "color": "#2a3f5f"
          },
          "geo": {
           "bgcolor": "white",
           "lakecolor": "white",
           "landcolor": "#E5ECF6",
           "showlakes": true,
           "showland": true,
           "subunitcolor": "white"
          },
          "hoverlabel": {
           "align": "left"
          },
          "hovermode": "closest",
          "mapbox": {
           "style": "light"
          },
          "paper_bgcolor": "white",
          "plot_bgcolor": "#E5ECF6",
          "polar": {
           "angularaxis": {
            "gridcolor": "white",
            "linecolor": "white",
            "ticks": ""
           },
           "bgcolor": "#E5ECF6",
           "radialaxis": {
            "gridcolor": "white",
            "linecolor": "white",
            "ticks": ""
           }
          },
          "scene": {
           "xaxis": {
            "backgroundcolor": "#E5ECF6",
            "gridcolor": "white",
            "gridwidth": 2,
            "linecolor": "white",
            "showbackground": true,
            "ticks": "",
            "zerolinecolor": "white"
           },
           "yaxis": {
            "backgroundcolor": "#E5ECF6",
            "gridcolor": "white",
            "gridwidth": 2,
            "linecolor": "white",
            "showbackground": true,
            "ticks": "",
            "zerolinecolor": "white"
           },
           "zaxis": {
            "backgroundcolor": "#E5ECF6",
            "gridcolor": "white",
            "gridwidth": 2,
            "linecolor": "white",
            "showbackground": true,
            "ticks": "",
            "zerolinecolor": "white"
           }
          },
          "shapedefaults": {
           "line": {
            "color": "#2a3f5f"
           }
          },
          "ternary": {
           "aaxis": {
            "gridcolor": "white",
            "linecolor": "white",
            "ticks": ""
           },
           "baxis": {
            "gridcolor": "white",
            "linecolor": "white",
            "ticks": ""
           },
           "bgcolor": "#E5ECF6",
           "caxis": {
            "gridcolor": "white",
            "linecolor": "white",
            "ticks": ""
           }
          },
          "title": {
           "x": 0.05
          },
          "xaxis": {
           "automargin": true,
           "gridcolor": "white",
           "linecolor": "white",
           "ticks": "",
           "title": {
            "standoff": 15
           },
           "zerolinecolor": "white",
           "zerolinewidth": 2
          },
          "yaxis": {
           "automargin": true,
           "gridcolor": "white",
           "linecolor": "white",
           "ticks": "",
           "title": {
            "standoff": 15
           },
           "zerolinecolor": "white",
           "zerolinewidth": 2
          }
         }
        },
        "title": {
         "font": {
          "color": "#4D5663"
         }
        },
        "xaxis": {
         "anchor": "y",
         "domain": [
          0,
          0.2125
         ],
         "gridcolor": "#E1E5ED",
         "showgrid": false,
         "tickfont": {
          "color": "#4D5663"
         },
         "title": {
          "font": {
           "color": "#4D5663"
          },
          "text": ""
         },
         "zerolinecolor": "#E1E5ED"
        },
        "xaxis10": {
         "anchor": "y10",
         "domain": [
          0.2625,
          0.475
         ],
         "gridcolor": "#E1E5ED",
         "showgrid": false,
         "tickfont": {
          "color": "#4D5663"
         },
         "title": {
          "font": {
           "color": "#4D5663"
          },
          "text": ""
         },
         "zerolinecolor": "#E1E5ED"
        },
        "xaxis11": {
         "anchor": "y11",
         "domain": [
          0.525,
          0.7375
         ],
         "gridcolor": "#E1E5ED",
         "showgrid": false,
         "tickfont": {
          "color": "#4D5663"
         },
         "title": {
          "font": {
           "color": "#4D5663"
          },
          "text": ""
         },
         "zerolinecolor": "#E1E5ED"
        },
        "xaxis12": {
         "anchor": "y12",
         "domain": [
          0.7875,
          1
         ],
         "gridcolor": "#E1E5ED",
         "showgrid": false,
         "tickfont": {
          "color": "#4D5663"
         },
         "title": {
          "font": {
           "color": "#4D5663"
          },
          "text": ""
         },
         "zerolinecolor": "#E1E5ED"
        },
        "xaxis13": {
         "anchor": "y13",
         "domain": [
          0,
          0.2125
         ],
         "gridcolor": "#E1E5ED",
         "showgrid": false,
         "tickfont": {
          "color": "#4D5663"
         },
         "title": {
          "font": {
           "color": "#4D5663"
          },
          "text": ""
         },
         "zerolinecolor": "#E1E5ED"
        },
        "xaxis14": {
         "anchor": "y14",
         "domain": [
          0.2625,
          0.475
         ],
         "gridcolor": "#E1E5ED",
         "showgrid": false,
         "tickfont": {
          "color": "#4D5663"
         },
         "title": {
          "font": {
           "color": "#4D5663"
          },
          "text": ""
         },
         "zerolinecolor": "#E1E5ED"
        },
        "xaxis15": {
         "anchor": "y15",
         "domain": [
          0.525,
          0.7375
         ],
         "gridcolor": "#E1E5ED",
         "showgrid": false,
         "tickfont": {
          "color": "#4D5663"
         },
         "title": {
          "font": {
           "color": "#4D5663"
          },
          "text": ""
         },
         "zerolinecolor": "#E1E5ED"
        },
        "xaxis16": {
         "anchor": "y16",
         "domain": [
          0.7875,
          1
         ],
         "gridcolor": "#E1E5ED",
         "showgrid": false,
         "tickfont": {
          "color": "#4D5663"
         },
         "title": {
          "font": {
           "color": "#4D5663"
          },
          "text": ""
         },
         "zerolinecolor": "#E1E5ED"
        },
        "xaxis2": {
         "anchor": "y2",
         "domain": [
          0.2625,
          0.475
         ],
         "gridcolor": "#E1E5ED",
         "showgrid": false,
         "tickfont": {
          "color": "#4D5663"
         },
         "title": {
          "font": {
           "color": "#4D5663"
          },
          "text": ""
         },
         "zerolinecolor": "#E1E5ED"
        },
        "xaxis3": {
         "anchor": "y3",
         "domain": [
          0.525,
          0.7375
         ],
         "gridcolor": "#E1E5ED",
         "showgrid": false,
         "tickfont": {
          "color": "#4D5663"
         },
         "title": {
          "font": {
           "color": "#4D5663"
          },
          "text": ""
         },
         "zerolinecolor": "#E1E5ED"
        },
        "xaxis4": {
         "anchor": "y4",
         "domain": [
          0.7875,
          1
         ],
         "gridcolor": "#E1E5ED",
         "showgrid": false,
         "tickfont": {
          "color": "#4D5663"
         },
         "title": {
          "font": {
           "color": "#4D5663"
          },
          "text": ""
         },
         "zerolinecolor": "#E1E5ED"
        },
        "xaxis5": {
         "anchor": "y5",
         "domain": [
          0,
          0.2125
         ],
         "gridcolor": "#E1E5ED",
         "showgrid": false,
         "tickfont": {
          "color": "#4D5663"
         },
         "title": {
          "font": {
           "color": "#4D5663"
          },
          "text": ""
         },
         "zerolinecolor": "#E1E5ED"
        },
        "xaxis6": {
         "anchor": "y6",
         "domain": [
          0.2625,
          0.475
         ],
         "gridcolor": "#E1E5ED",
         "showgrid": false,
         "tickfont": {
          "color": "#4D5663"
         },
         "title": {
          "font": {
           "color": "#4D5663"
          },
          "text": ""
         },
         "zerolinecolor": "#E1E5ED"
        },
        "xaxis7": {
         "anchor": "y7",
         "domain": [
          0.525,
          0.7375
         ],
         "gridcolor": "#E1E5ED",
         "showgrid": false,
         "tickfont": {
          "color": "#4D5663"
         },
         "title": {
          "font": {
           "color": "#4D5663"
          },
          "text": ""
         },
         "zerolinecolor": "#E1E5ED"
        },
        "xaxis8": {
         "anchor": "y8",
         "domain": [
          0.7875,
          1
         ],
         "gridcolor": "#E1E5ED",
         "showgrid": false,
         "tickfont": {
          "color": "#4D5663"
         },
         "title": {
          "font": {
           "color": "#4D5663"
          },
          "text": ""
         },
         "zerolinecolor": "#E1E5ED"
        },
        "xaxis9": {
         "anchor": "y9",
         "domain": [
          0,
          0.2125
         ],
         "gridcolor": "#E1E5ED",
         "showgrid": false,
         "tickfont": {
          "color": "#4D5663"
         },
         "title": {
          "font": {
           "color": "#4D5663"
          },
          "text": ""
         },
         "zerolinecolor": "#E1E5ED"
        },
        "yaxis": {
         "anchor": "x",
         "domain": [
          0.8025,
          1
         ],
         "gridcolor": "#E1E5ED",
         "showgrid": false,
         "tickfont": {
          "color": "#4D5663"
         },
         "title": {
          "font": {
           "color": "#4D5663"
          },
          "text": ""
         },
         "zerolinecolor": "#E1E5ED"
        },
        "yaxis10": {
         "anchor": "x10",
         "domain": [
          0.2675,
          0.465
         ],
         "gridcolor": "#E1E5ED",
         "showgrid": false,
         "tickfont": {
          "color": "#4D5663"
         },
         "title": {
          "font": {
           "color": "#4D5663"
          },
          "text": ""
         },
         "zerolinecolor": "#E1E5ED"
        },
        "yaxis11": {
         "anchor": "x11",
         "domain": [
          0.2675,
          0.465
         ],
         "gridcolor": "#E1E5ED",
         "showgrid": false,
         "tickfont": {
          "color": "#4D5663"
         },
         "title": {
          "font": {
           "color": "#4D5663"
          },
          "text": ""
         },
         "zerolinecolor": "#E1E5ED"
        },
        "yaxis12": {
         "anchor": "x12",
         "domain": [
          0.2675,
          0.465
         ],
         "gridcolor": "#E1E5ED",
         "showgrid": false,
         "tickfont": {
          "color": "#4D5663"
         },
         "title": {
          "font": {
           "color": "#4D5663"
          },
          "text": ""
         },
         "zerolinecolor": "#E1E5ED"
        },
        "yaxis13": {
         "anchor": "x13",
         "domain": [
          0,
          0.1975
         ],
         "gridcolor": "#E1E5ED",
         "showgrid": false,
         "tickfont": {
          "color": "#4D5663"
         },
         "title": {
          "font": {
           "color": "#4D5663"
          },
          "text": ""
         },
         "zerolinecolor": "#E1E5ED"
        },
        "yaxis14": {
         "anchor": "x14",
         "domain": [
          0,
          0.1975
         ],
         "gridcolor": "#E1E5ED",
         "showgrid": false,
         "tickfont": {
          "color": "#4D5663"
         },
         "title": {
          "font": {
           "color": "#4D5663"
          },
          "text": ""
         },
         "zerolinecolor": "#E1E5ED"
        },
        "yaxis15": {
         "anchor": "x15",
         "domain": [
          0,
          0.1975
         ],
         "gridcolor": "#E1E5ED",
         "showgrid": false,
         "tickfont": {
          "color": "#4D5663"
         },
         "title": {
          "font": {
           "color": "#4D5663"
          },
          "text": ""
         },
         "zerolinecolor": "#E1E5ED"
        },
        "yaxis16": {
         "anchor": "x16",
         "domain": [
          0,
          0.1975
         ],
         "gridcolor": "#E1E5ED",
         "showgrid": false,
         "tickfont": {
          "color": "#4D5663"
         },
         "title": {
          "font": {
           "color": "#4D5663"
          },
          "text": ""
         },
         "zerolinecolor": "#E1E5ED"
        },
        "yaxis2": {
         "anchor": "x2",
         "domain": [
          0.8025,
          1
         ],
         "gridcolor": "#E1E5ED",
         "showgrid": false,
         "tickfont": {
          "color": "#4D5663"
         },
         "title": {
          "font": {
           "color": "#4D5663"
          },
          "text": ""
         },
         "zerolinecolor": "#E1E5ED"
        },
        "yaxis3": {
         "anchor": "x3",
         "domain": [
          0.8025,
          1
         ],
         "gridcolor": "#E1E5ED",
         "showgrid": false,
         "tickfont": {
          "color": "#4D5663"
         },
         "title": {
          "font": {
           "color": "#4D5663"
          },
          "text": ""
         },
         "zerolinecolor": "#E1E5ED"
        },
        "yaxis4": {
         "anchor": "x4",
         "domain": [
          0.8025,
          1
         ],
         "gridcolor": "#E1E5ED",
         "showgrid": false,
         "tickfont": {
          "color": "#4D5663"
         },
         "title": {
          "font": {
           "color": "#4D5663"
          },
          "text": ""
         },
         "zerolinecolor": "#E1E5ED"
        },
        "yaxis5": {
         "anchor": "x5",
         "domain": [
          0.535,
          0.7325
         ],
         "gridcolor": "#E1E5ED",
         "showgrid": false,
         "tickfont": {
          "color": "#4D5663"
         },
         "title": {
          "font": {
           "color": "#4D5663"
          },
          "text": ""
         },
         "zerolinecolor": "#E1E5ED"
        },
        "yaxis6": {
         "anchor": "x6",
         "domain": [
          0.535,
          0.7325
         ],
         "gridcolor": "#E1E5ED",
         "showgrid": false,
         "tickfont": {
          "color": "#4D5663"
         },
         "title": {
          "font": {
           "color": "#4D5663"
          },
          "text": ""
         },
         "zerolinecolor": "#E1E5ED"
        },
        "yaxis7": {
         "anchor": "x7",
         "domain": [
          0.535,
          0.7325
         ],
         "gridcolor": "#E1E5ED",
         "showgrid": false,
         "tickfont": {
          "color": "#4D5663"
         },
         "title": {
          "font": {
           "color": "#4D5663"
          },
          "text": ""
         },
         "zerolinecolor": "#E1E5ED"
        },
        "yaxis8": {
         "anchor": "x8",
         "domain": [
          0.535,
          0.7325
         ],
         "gridcolor": "#E1E5ED",
         "showgrid": false,
         "tickfont": {
          "color": "#4D5663"
         },
         "title": {
          "font": {
           "color": "#4D5663"
          },
          "text": ""
         },
         "zerolinecolor": "#E1E5ED"
        },
        "yaxis9": {
         "anchor": "x9",
         "domain": [
          0.2675,
          0.465
         ],
         "gridcolor": "#E1E5ED",
         "showgrid": false,
         "tickfont": {
          "color": "#4D5663"
         },
         "title": {
          "font": {
           "color": "#4D5663"
          },
          "text": ""
         },
         "zerolinecolor": "#E1E5ED"
        }
       }
      },
      "text/html": [
       "<div>                            <div id=\"686e706e-274c-4fe0-9115-450646fd3774\" class=\"plotly-graph-div\" style=\"height:525px; width:100%;\"></div>            <script type=\"text/javascript\">                require([\"plotly\"], function(Plotly) {                    window.PLOTLYENV=window.PLOTLYENV || {};\n",
       "                    window.PLOTLYENV.BASE_URL='https://plot.ly';                                    if (document.getElementById(\"686e706e-274c-4fe0-9115-450646fd3774\")) {                    Plotly.newPlot(                        \"686e706e-274c-4fe0-9115-450646fd3774\",                        [{\"histfunc\": \"count\", \"histnorm\": \"\", \"marker\": {\"color\": \"rgba(255, 153, 51, 1.0)\", \"line\": {\"color\": \"#4D5663\", \"width\": 1.3}}, \"name\": \"A\", \"nbinsx\": 10, \"opacity\": 0.8, \"orientation\": \"v\", \"type\": \"histogram\", \"x\": [-0.1562157680506174, -1.4743183396492672, 0.8174253607848009, -0.05071979588371249, -0.17883922277148764, -0.7651720790330793, -1.9212082989298684, -0.03291141560317541, -0.5285594227423575, 0.9384209074225683, 0.12053579898169361, 0.3543990552464441, 0.9451320124913716, -1.53988087130836, 1.5136352333156946, -0.05703586377575092, 0.42259146806383674, 1.0422998417748681, -1.2137178408540257, -1.2228420816836125, -1.6842697657640595, 0.027377407127000517, 0.8728739125498687, 0.400733323829508, 1.505847690989541, 2.4094921171123116, 0.2733148820087171, 0.5076476481227942, 0.07507825527940794, -0.11581566818277499, 0.10976999817561314, -0.33978939320778784, -1.3561753274383268, -1.6949992820005702, -0.754280422087886, -1.8561129918865145, -1.5137564329562165, 1.3239455726344815, -1.4152415671682996, -1.2310175210894636, -0.27113953403866786, 0.1887942979613161, 0.39903730368135787, 1.2007236814299214, -1.0492470586883644, -0.5756470465370982, 0.018717093029164814, 0.5501113954130685, 0.45065138354598433, 0.28147906148170476, -0.7434683060264415, -0.7943208706789614, -0.30386762350946966, -0.45647583247065754, -0.23521898389024445, -0.17132848452522814, -0.014256328121696454, 0.09791316526909666, 0.245414612705241, -0.5330802582890434, -0.10427715190051172, 0.8834796921415421, 0.5033126402688209, 0.2029458473106213, -0.3866167986286724, 0.4079599144327987, -0.5407454908949233, -0.47796765106536876, 0.6494224172798504, 0.6622646186713247, 1.1882265481397103, -0.2940317882374327, -0.3021590900161126, -0.12657175971552337, -0.2472482143506079, 0.27612736376591684, 0.4324893024430906, -1.4166021081702316, -2.2678431388562865, -0.629088023152995, 0.43845322337204257, -0.6475890613579122, -0.20020174052331377, 0.42512150492803447, -0.3495887913897167, 0.17347148161256432, -1.7668388042852021, 0.40677727740251274, 0.22401269790090117, -1.6674395980989138, 0.2802837122534162, -0.60332918748744, 0.8740083631743834, 2.1666309669777597, 1.454692100480719, 0.9186070389514527, -1.9509274095515292, 0.16829110283638893, 1.2616362034346793, 0.021057675215465234], \"xaxis\": \"x\", \"yaxis\": \"y\"}, {\"line\": {\"color\": \"rgba(128, 128, 128, 1.0)\", \"dash\": \"solid\", \"shape\": \"linear\", \"width\": 1.3}, \"marker\": {\"size\": 2, \"symbol\": \"circle\"}, \"mode\": \"markers\", \"name\": \"A\", \"text\": \"\", \"type\": \"scatter\", \"x\": [0.6917213637962769, -0.5526143151781165, 0.35293035890183044, -1.6582378868339553, -1.4407167644878176, 1.0361532855145303, -0.019746846343731226, 0.23779884114381963, -1.137075864821375, -1.4523685739760508, 0.1803908472666222, -0.7147860463221315, -0.4166734236268579, 0.619783875546229, -1.0369974268876478, -0.46665241552368353, -0.8891956631891681, 0.3947293477546675, -1.2684798575573688, -1.3872662334152484, -0.6979495076289601, -2.7181451994116768, -0.7572163663671609, 0.5143991930116932, -1.9411365050919673, 0.06106171053000905, 0.8176745043616885, -0.39254521657934427, 0.16174214698555936, -0.04423418480084261, 0.0556263390593717, -0.3045602029159356, -0.9860101085845111, 0.8514469740880347, -0.0047581945490319634, -0.5186101610554991, -1.763672889966365, 1.981057206811975, -1.3827577105450433, 0.17251607959921, -0.1938010476816943, 0.12573638564474687, -1.427358465639623, -0.9555619613637081, -0.10428451271600765, -0.3639492807693481, 1.9309776228777946, 0.6350234951198072, 0.37106933909702366, 0.14389227590365875, -1.0929147633439094, 1.1936581105769524, -0.2316781125386438, -0.8525370395991181, 0.7893215461711095, -0.4659389878225684, 1.217287417694428, 1.136494361623952, -0.3537234642329278, -0.356214406193524, -1.1182730023274297, 0.4555210873080179, 0.5980707553691869, -1.7156712739152002, -0.24131358563082048, 1.0129213295531716, 0.1939123964937125, 1.8471201514407636, -1.3493632026208562, -0.30108048037058566, 1.7316535342280481, -0.9181863423771113, 0.2606558174697534, 2.5014638272431124, -0.6952348011088254, -0.8020888731797848, -0.23842836168966505, 1.4332399543255427, -0.0656106858450873, -1.0810510509303974, 0.29996504613434377, -0.20110139444294162, 1.544761894012792, -0.39743151387602754, 1.0783986483866481, -0.996012645203401, -0.10664966517818977, -0.7042896624078521, -0.07208297710942764, -1.9740616766455272, 0.2336328878300918, -1.1470063361444083, -2.0043432544146498, 1.326962716923184, 0.25781660739645107, 0.1679845453619694, 0.1277728648929808, -1.5541720352372053, 2.3519070811198324, -0.8544479173116701], \"xaxis\": \"x2\", \"y\": [-0.1562157680506174, -1.4743183396492672, 0.8174253607848009, -0.05071979588371249, -0.17883922277148764, -0.7651720790330793, -1.9212082989298684, -0.03291141560317541, -0.5285594227423575, 0.9384209074225683, 0.12053579898169361, 0.3543990552464441, 0.9451320124913716, -1.53988087130836, 1.5136352333156946, -0.05703586377575092, 0.42259146806383674, 1.0422998417748681, -1.2137178408540257, -1.2228420816836125, -1.6842697657640595, 0.027377407127000517, 0.8728739125498687, 0.400733323829508, 1.505847690989541, 2.4094921171123116, 0.2733148820087171, 0.5076476481227942, 0.07507825527940794, -0.11581566818277499, 0.10976999817561314, -0.33978939320778784, -1.3561753274383268, -1.6949992820005702, -0.754280422087886, -1.8561129918865145, -1.5137564329562165, 1.3239455726344815, -1.4152415671682996, -1.2310175210894636, -0.27113953403866786, 0.1887942979613161, 0.39903730368135787, 1.2007236814299214, -1.0492470586883644, -0.5756470465370982, 0.018717093029164814, 0.5501113954130685, 0.45065138354598433, 0.28147906148170476, -0.7434683060264415, -0.7943208706789614, -0.30386762350946966, -0.45647583247065754, -0.23521898389024445, -0.17132848452522814, -0.014256328121696454, 0.09791316526909666, 0.245414612705241, -0.5330802582890434, -0.10427715190051172, 0.8834796921415421, 0.5033126402688209, 0.2029458473106213, -0.3866167986286724, 0.4079599144327987, -0.5407454908949233, -0.47796765106536876, 0.6494224172798504, 0.6622646186713247, 1.1882265481397103, -0.2940317882374327, -0.3021590900161126, -0.12657175971552337, -0.2472482143506079, 0.27612736376591684, 0.4324893024430906, -1.4166021081702316, -2.2678431388562865, -0.629088023152995, 0.43845322337204257, -0.6475890613579122, -0.20020174052331377, 0.42512150492803447, -0.3495887913897167, 0.17347148161256432, -1.7668388042852021, 0.40677727740251274, 0.22401269790090117, -1.6674395980989138, 0.2802837122534162, -0.60332918748744, 0.8740083631743834, 2.1666309669777597, 1.454692100480719, 0.9186070389514527, -1.9509274095515292, 0.16829110283638893, 1.2616362034346793, 0.021057675215465234], \"yaxis\": \"y2\"}, {\"line\": {\"color\": \"rgba(128, 128, 128, 1.0)\", \"dash\": \"solid\", \"shape\": \"linear\", \"width\": 1.3}, \"marker\": {\"size\": 2, \"symbol\": \"circle\"}, \"mode\": \"markers\", \"name\": \"A\", \"text\": \"\", \"type\": \"scatter\", \"x\": [-0.5444613077121313, 0.24282026732360593, -0.35656512999868456, -2.184317090998879, 0.4426154940144032, 0.7553842264388909, 1.0122605994186629, 1.3946649036822865, -1.4263641277884072, 0.14523131309549792, 1.2589967814285568, -1.1701291056035084, -0.22291421332354852, -0.7783359760951556, -1.8330502523993342, -0.5216242194718059, -0.8285984564446579, 0.5968833149870427, 0.43388199674110106, 0.027405037181976764, 0.09066924336364013, 0.2379682288310394, 0.37480409777208656, -0.6053419910021665, -1.4440174863694806, 0.5356354420622844, -1.346479835427754, -0.6490992629052273, 1.9039332137015401, 0.7986092268817414, -0.40087834786147086, -0.271787475965091, 1.1649924348062937, 0.7689387268325816, -0.3591109184121301, 1.2137675746082375, -0.30713255730349576, 1.4538389212487566, 0.8462977878958471, 1.7829519620794587, -0.35793487328095697, 0.37239991133007677, -1.107554026204563, -1.5299472200361113, -0.7501740791988809, -0.033203184787304864, -0.5553284593627191, -0.33994652399196645, -2.386641564747908, 1.0493097498960338, -0.7183616105644806, 1.084854262453599, -1.0123596236062506, 2.2874964362447474, -0.6641966760128035, 0.806932644923215, -0.3077338196668659, 1.49338292950465, 1.5618086513515261, 0.2574553131048988, 2.6052434550270798, 0.3880348684243134, -0.33832993795634553, 1.0240956944664181, -1.566376606714092, -0.3366964038743089, 0.2849792528536192, 0.6817258669192712, 0.5102281551885075, 1.4697219567832973, -0.6807320987207326, -0.22954901605262046, -0.37637707921768376, 0.6922675900344075, 0.4142276480203638, -1.3474509661446872, 0.049879177379919655, 1.4403068630729332, 0.39491714639388786, 0.13595348217569306, 0.05473080369502663, -0.6146884123304698, -0.6367006986559804, 0.030354662872443, -1.5969158177383382, 1.8413870934673713, 1.0991009172646902, 0.1693877844650046, -2.2459940153558855, -1.6809020412225755, 0.6602657483315182, -0.491770502197117, -0.27866439856982217, -0.5733843098118053, 0.7721267554749521, 1.3048065236016184, 0.8675156735300564, -2.0281669001153695, 0.24360773876802302, 0.3075084140956446], \"xaxis\": \"x3\", \"y\": [-0.1562157680506174, -1.4743183396492672, 0.8174253607848009, -0.05071979588371249, -0.17883922277148764, -0.7651720790330793, -1.9212082989298684, -0.03291141560317541, -0.5285594227423575, 0.9384209074225683, 0.12053579898169361, 0.3543990552464441, 0.9451320124913716, -1.53988087130836, 1.5136352333156946, -0.05703586377575092, 0.42259146806383674, 1.0422998417748681, -1.2137178408540257, -1.2228420816836125, -1.6842697657640595, 0.027377407127000517, 0.8728739125498687, 0.400733323829508, 1.505847690989541, 2.4094921171123116, 0.2733148820087171, 0.5076476481227942, 0.07507825527940794, -0.11581566818277499, 0.10976999817561314, -0.33978939320778784, -1.3561753274383268, -1.6949992820005702, -0.754280422087886, -1.8561129918865145, -1.5137564329562165, 1.3239455726344815, -1.4152415671682996, -1.2310175210894636, -0.27113953403866786, 0.1887942979613161, 0.39903730368135787, 1.2007236814299214, -1.0492470586883644, -0.5756470465370982, 0.018717093029164814, 0.5501113954130685, 0.45065138354598433, 0.28147906148170476, -0.7434683060264415, -0.7943208706789614, -0.30386762350946966, -0.45647583247065754, -0.23521898389024445, -0.17132848452522814, -0.014256328121696454, 0.09791316526909666, 0.245414612705241, -0.5330802582890434, -0.10427715190051172, 0.8834796921415421, 0.5033126402688209, 0.2029458473106213, -0.3866167986286724, 0.4079599144327987, -0.5407454908949233, -0.47796765106536876, 0.6494224172798504, 0.6622646186713247, 1.1882265481397103, -0.2940317882374327, -0.3021590900161126, -0.12657175971552337, -0.2472482143506079, 0.27612736376591684, 0.4324893024430906, -1.4166021081702316, -2.2678431388562865, -0.629088023152995, 0.43845322337204257, -0.6475890613579122, -0.20020174052331377, 0.42512150492803447, -0.3495887913897167, 0.17347148161256432, -1.7668388042852021, 0.40677727740251274, 0.22401269790090117, -1.6674395980989138, 0.2802837122534162, -0.60332918748744, 0.8740083631743834, 2.1666309669777597, 1.454692100480719, 0.9186070389514527, -1.9509274095515292, 0.16829110283638893, 1.2616362034346793, 0.021057675215465234], \"yaxis\": \"y3\"}, {\"line\": {\"color\": \"rgba(128, 128, 128, 1.0)\", \"dash\": \"solid\", \"shape\": \"linear\", \"width\": 1.3}, \"marker\": {\"size\": 2, \"symbol\": \"circle\"}, \"mode\": \"markers\", \"name\": \"A\", \"text\": \"\", \"type\": \"scatter\", \"x\": [-0.3321582334871926, -2.0436880414914884, 1.6901763603945128, -1.3027246024372003, 0.8329045268915205, 0.9693927526742672, 0.6381269659537482, 0.7689714116791412, -0.4842799657344476, 0.9492334369464868, 1.5847645235316903, 2.051263678428919, 0.7631415037907674, 1.8483505484849265, 0.5456384224565451, -0.057018865516633606, 2.450753491679219, 0.2091946357167935, -0.7272729704936228, -0.22681087836083522, -1.5493706620887342, -0.3317849747875593, -0.5385657576633147, -0.5607043862474755, 0.6996472211087795, 0.29912366189131345, -0.27785445592382846, -0.3440492570984598, 0.09803224857995489, -0.47355987989564796, 0.965605675120281, 0.279904164888264, -0.4897720739128254, 0.6116238804194486, 1.0668636873035247, 0.20072833409905902, 0.5590676335178563, 0.3809650688252469, -1.1590360047104407, 1.30908826432782, -0.18782092133261538, 0.9401617936027297, -1.159798277832091, 0.08186562540868922, -0.9108085225980124, -1.1684219358486414, 0.019938751283946093, 1.8064940589369523, 0.1730971791265535, -0.5365484321188417, -1.8055142235955877, -1.698859385671163, 0.43728041359384917, -0.20569813225914046, 0.5855035347199206, 1.0079529404702139, -0.32843179749295603, 1.4285243026618126, 0.5827722430290192, 1.3225965879621964, 1.1561621301676035, -1.0266396551128383, 0.4571635813544492, 0.9191713280485909, -0.42039372609890563, 0.8730451122476843, 1.647874233882643, 0.2844434119935799, 0.7138039949483197, -0.4297588540662532, -0.21200951578516913, -0.5684920376246261, -0.586525163859046, -0.805477185851115, 0.9033148507825743, -0.49757280357037414, -0.4465187735775768, 0.18859497662052685, -0.7605562414943484, -0.27571820758681925, 1.5892609662512898, -0.40677461948907667, 0.9893469610539058, -0.7186138050038005, 0.31053542547631235, -1.005343304844573, 0.054309179614122606, -0.20749947319462886, -0.6315889614715412, -1.368903978333397, 1.586481282163813, 0.5614815639098683, -0.15944185783308026, 0.9804061933646404, -1.7344694764805748, -0.5463561118119844, 0.6052526828890784, -0.3658218789741722, -0.10827769854984465, -0.11903177878804401], \"xaxis\": \"x4\", \"y\": [-0.1562157680506174, -1.4743183396492672, 0.8174253607848009, -0.05071979588371249, -0.17883922277148764, -0.7651720790330793, -1.9212082989298684, -0.03291141560317541, -0.5285594227423575, 0.9384209074225683, 0.12053579898169361, 0.3543990552464441, 0.9451320124913716, -1.53988087130836, 1.5136352333156946, -0.05703586377575092, 0.42259146806383674, 1.0422998417748681, -1.2137178408540257, -1.2228420816836125, -1.6842697657640595, 0.027377407127000517, 0.8728739125498687, 0.400733323829508, 1.505847690989541, 2.4094921171123116, 0.2733148820087171, 0.5076476481227942, 0.07507825527940794, -0.11581566818277499, 0.10976999817561314, -0.33978939320778784, -1.3561753274383268, -1.6949992820005702, -0.754280422087886, -1.8561129918865145, -1.5137564329562165, 1.3239455726344815, -1.4152415671682996, -1.2310175210894636, -0.27113953403866786, 0.1887942979613161, 0.39903730368135787, 1.2007236814299214, -1.0492470586883644, -0.5756470465370982, 0.018717093029164814, 0.5501113954130685, 0.45065138354598433, 0.28147906148170476, -0.7434683060264415, -0.7943208706789614, -0.30386762350946966, -0.45647583247065754, -0.23521898389024445, -0.17132848452522814, -0.014256328121696454, 0.09791316526909666, 0.245414612705241, -0.5330802582890434, -0.10427715190051172, 0.8834796921415421, 0.5033126402688209, 0.2029458473106213, -0.3866167986286724, 0.4079599144327987, -0.5407454908949233, -0.47796765106536876, 0.6494224172798504, 0.6622646186713247, 1.1882265481397103, -0.2940317882374327, -0.3021590900161126, -0.12657175971552337, -0.2472482143506079, 0.27612736376591684, 0.4324893024430906, -1.4166021081702316, -2.2678431388562865, -0.629088023152995, 0.43845322337204257, -0.6475890613579122, -0.20020174052331377, 0.42512150492803447, -0.3495887913897167, 0.17347148161256432, -1.7668388042852021, 0.40677727740251274, 0.22401269790090117, -1.6674395980989138, 0.2802837122534162, -0.60332918748744, 0.8740083631743834, 2.1666309669777597, 1.454692100480719, 0.9186070389514527, -1.9509274095515292, 0.16829110283638893, 1.2616362034346793, 0.021057675215465234], \"yaxis\": \"y4\"}, {\"line\": {\"color\": \"rgba(128, 128, 128, 1.0)\", \"dash\": \"solid\", \"shape\": \"linear\", \"width\": 1.3}, \"marker\": {\"size\": 2, \"symbol\": \"circle\"}, \"mode\": \"markers\", \"name\": \"B\", \"text\": \"\", \"type\": \"scatter\", \"x\": [-0.1562157680506174, -1.4743183396492672, 0.8174253607848009, -0.05071979588371249, -0.17883922277148764, -0.7651720790330793, -1.9212082989298684, -0.03291141560317541, -0.5285594227423575, 0.9384209074225683, 0.12053579898169361, 0.3543990552464441, 0.9451320124913716, -1.53988087130836, 1.5136352333156946, -0.05703586377575092, 0.42259146806383674, 1.0422998417748681, -1.2137178408540257, -1.2228420816836125, -1.6842697657640595, 0.027377407127000517, 0.8728739125498687, 0.400733323829508, 1.505847690989541, 2.4094921171123116, 0.2733148820087171, 0.5076476481227942, 0.07507825527940794, -0.11581566818277499, 0.10976999817561314, -0.33978939320778784, -1.3561753274383268, -1.6949992820005702, -0.754280422087886, -1.8561129918865145, -1.5137564329562165, 1.3239455726344815, -1.4152415671682996, -1.2310175210894636, -0.27113953403866786, 0.1887942979613161, 0.39903730368135787, 1.2007236814299214, -1.0492470586883644, -0.5756470465370982, 0.018717093029164814, 0.5501113954130685, 0.45065138354598433, 0.28147906148170476, -0.7434683060264415, -0.7943208706789614, -0.30386762350946966, -0.45647583247065754, -0.23521898389024445, -0.17132848452522814, -0.014256328121696454, 0.09791316526909666, 0.245414612705241, -0.5330802582890434, -0.10427715190051172, 0.8834796921415421, 0.5033126402688209, 0.2029458473106213, -0.3866167986286724, 0.4079599144327987, -0.5407454908949233, -0.47796765106536876, 0.6494224172798504, 0.6622646186713247, 1.1882265481397103, -0.2940317882374327, -0.3021590900161126, -0.12657175971552337, -0.2472482143506079, 0.27612736376591684, 0.4324893024430906, -1.4166021081702316, -2.2678431388562865, -0.629088023152995, 0.43845322337204257, -0.6475890613579122, -0.20020174052331377, 0.42512150492803447, -0.3495887913897167, 0.17347148161256432, -1.7668388042852021, 0.40677727740251274, 0.22401269790090117, -1.6674395980989138, 0.2802837122534162, -0.60332918748744, 0.8740083631743834, 2.1666309669777597, 1.454692100480719, 0.9186070389514527, -1.9509274095515292, 0.16829110283638893, 1.2616362034346793, 0.021057675215465234], \"xaxis\": \"x5\", \"y\": [0.6917213637962769, -0.5526143151781165, 0.35293035890183044, -1.6582378868339553, -1.4407167644878176, 1.0361532855145303, -0.019746846343731226, 0.23779884114381963, -1.137075864821375, -1.4523685739760508, 0.1803908472666222, -0.7147860463221315, -0.4166734236268579, 0.619783875546229, -1.0369974268876478, -0.46665241552368353, -0.8891956631891681, 0.3947293477546675, -1.2684798575573688, -1.3872662334152484, -0.6979495076289601, -2.7181451994116768, -0.7572163663671609, 0.5143991930116932, -1.9411365050919673, 0.06106171053000905, 0.8176745043616885, -0.39254521657934427, 0.16174214698555936, -0.04423418480084261, 0.0556263390593717, -0.3045602029159356, -0.9860101085845111, 0.8514469740880347, -0.0047581945490319634, -0.5186101610554991, -1.763672889966365, 1.981057206811975, -1.3827577105450433, 0.17251607959921, -0.1938010476816943, 0.12573638564474687, -1.427358465639623, -0.9555619613637081, -0.10428451271600765, -0.3639492807693481, 1.9309776228777946, 0.6350234951198072, 0.37106933909702366, 0.14389227590365875, -1.0929147633439094, 1.1936581105769524, -0.2316781125386438, -0.8525370395991181, 0.7893215461711095, -0.4659389878225684, 1.217287417694428, 1.136494361623952, -0.3537234642329278, -0.356214406193524, -1.1182730023274297, 0.4555210873080179, 0.5980707553691869, -1.7156712739152002, -0.24131358563082048, 1.0129213295531716, 0.1939123964937125, 1.8471201514407636, -1.3493632026208562, -0.30108048037058566, 1.7316535342280481, -0.9181863423771113, 0.2606558174697534, 2.5014638272431124, -0.6952348011088254, -0.8020888731797848, -0.23842836168966505, 1.4332399543255427, -0.0656106858450873, -1.0810510509303974, 0.29996504613434377, -0.20110139444294162, 1.544761894012792, -0.39743151387602754, 1.0783986483866481, -0.996012645203401, -0.10664966517818977, -0.7042896624078521, -0.07208297710942764, -1.9740616766455272, 0.2336328878300918, -1.1470063361444083, -2.0043432544146498, 1.326962716923184, 0.25781660739645107, 0.1679845453619694, 0.1277728648929808, -1.5541720352372053, 2.3519070811198324, -0.8544479173116701], \"yaxis\": \"y5\"}, {\"histfunc\": \"count\", \"histnorm\": \"\", \"marker\": {\"color\": \"rgba(55, 128, 191, 1.0)\", \"line\": {\"color\": \"#4D5663\", \"width\": 1.3}}, \"name\": \"B\", \"nbinsx\": 10, \"opacity\": 0.8, \"orientation\": \"v\", \"type\": \"histogram\", \"x\": [0.6917213637962769, -0.5526143151781165, 0.35293035890183044, -1.6582378868339553, -1.4407167644878176, 1.0361532855145303, -0.019746846343731226, 0.23779884114381963, -1.137075864821375, -1.4523685739760508, 0.1803908472666222, -0.7147860463221315, -0.4166734236268579, 0.619783875546229, -1.0369974268876478, -0.46665241552368353, -0.8891956631891681, 0.3947293477546675, -1.2684798575573688, -1.3872662334152484, -0.6979495076289601, -2.7181451994116768, -0.7572163663671609, 0.5143991930116932, -1.9411365050919673, 0.06106171053000905, 0.8176745043616885, -0.39254521657934427, 0.16174214698555936, -0.04423418480084261, 0.0556263390593717, -0.3045602029159356, -0.9860101085845111, 0.8514469740880347, -0.0047581945490319634, -0.5186101610554991, -1.763672889966365, 1.981057206811975, -1.3827577105450433, 0.17251607959921, -0.1938010476816943, 0.12573638564474687, -1.427358465639623, -0.9555619613637081, -0.10428451271600765, -0.3639492807693481, 1.9309776228777946, 0.6350234951198072, 0.37106933909702366, 0.14389227590365875, -1.0929147633439094, 1.1936581105769524, -0.2316781125386438, -0.8525370395991181, 0.7893215461711095, -0.4659389878225684, 1.217287417694428, 1.136494361623952, -0.3537234642329278, -0.356214406193524, -1.1182730023274297, 0.4555210873080179, 0.5980707553691869, -1.7156712739152002, -0.24131358563082048, 1.0129213295531716, 0.1939123964937125, 1.8471201514407636, -1.3493632026208562, -0.30108048037058566, 1.7316535342280481, -0.9181863423771113, 0.2606558174697534, 2.5014638272431124, -0.6952348011088254, -0.8020888731797848, -0.23842836168966505, 1.4332399543255427, -0.0656106858450873, -1.0810510509303974, 0.29996504613434377, -0.20110139444294162, 1.544761894012792, -0.39743151387602754, 1.0783986483866481, -0.996012645203401, -0.10664966517818977, -0.7042896624078521, -0.07208297710942764, -1.9740616766455272, 0.2336328878300918, -1.1470063361444083, -2.0043432544146498, 1.326962716923184, 0.25781660739645107, 0.1679845453619694, 0.1277728648929808, -1.5541720352372053, 2.3519070811198324, -0.8544479173116701], \"xaxis\": \"x6\", \"yaxis\": \"y6\"}, {\"line\": {\"color\": \"rgba(128, 128, 128, 1.0)\", \"dash\": \"solid\", \"shape\": \"linear\", \"width\": 1.3}, \"marker\": {\"size\": 2, \"symbol\": \"circle\"}, \"mode\": \"markers\", \"name\": \"B\", \"text\": \"\", \"type\": \"scatter\", \"x\": [-0.5444613077121313, 0.24282026732360593, -0.35656512999868456, -2.184317090998879, 0.4426154940144032, 0.7553842264388909, 1.0122605994186629, 1.3946649036822865, -1.4263641277884072, 0.14523131309549792, 1.2589967814285568, -1.1701291056035084, -0.22291421332354852, -0.7783359760951556, -1.8330502523993342, -0.5216242194718059, -0.8285984564446579, 0.5968833149870427, 0.43388199674110106, 0.027405037181976764, 0.09066924336364013, 0.2379682288310394, 0.37480409777208656, -0.6053419910021665, -1.4440174863694806, 0.5356354420622844, -1.346479835427754, -0.6490992629052273, 1.9039332137015401, 0.7986092268817414, -0.40087834786147086, -0.271787475965091, 1.1649924348062937, 0.7689387268325816, -0.3591109184121301, 1.2137675746082375, -0.30713255730349576, 1.4538389212487566, 0.8462977878958471, 1.7829519620794587, -0.35793487328095697, 0.37239991133007677, -1.107554026204563, -1.5299472200361113, -0.7501740791988809, -0.033203184787304864, -0.5553284593627191, -0.33994652399196645, -2.386641564747908, 1.0493097498960338, -0.7183616105644806, 1.084854262453599, -1.0123596236062506, 2.2874964362447474, -0.6641966760128035, 0.806932644923215, -0.3077338196668659, 1.49338292950465, 1.5618086513515261, 0.2574553131048988, 2.6052434550270798, 0.3880348684243134, -0.33832993795634553, 1.0240956944664181, -1.566376606714092, -0.3366964038743089, 0.2849792528536192, 0.6817258669192712, 0.5102281551885075, 1.4697219567832973, -0.6807320987207326, -0.22954901605262046, -0.37637707921768376, 0.6922675900344075, 0.4142276480203638, -1.3474509661446872, 0.049879177379919655, 1.4403068630729332, 0.39491714639388786, 0.13595348217569306, 0.05473080369502663, -0.6146884123304698, -0.6367006986559804, 0.030354662872443, -1.5969158177383382, 1.8413870934673713, 1.0991009172646902, 0.1693877844650046, -2.2459940153558855, -1.6809020412225755, 0.6602657483315182, -0.491770502197117, -0.27866439856982217, -0.5733843098118053, 0.7721267554749521, 1.3048065236016184, 0.8675156735300564, -2.0281669001153695, 0.24360773876802302, 0.3075084140956446], \"xaxis\": \"x7\", \"y\": [0.6917213637962769, -0.5526143151781165, 0.35293035890183044, -1.6582378868339553, -1.4407167644878176, 1.0361532855145303, -0.019746846343731226, 0.23779884114381963, -1.137075864821375, -1.4523685739760508, 0.1803908472666222, -0.7147860463221315, -0.4166734236268579, 0.619783875546229, -1.0369974268876478, -0.46665241552368353, -0.8891956631891681, 0.3947293477546675, -1.2684798575573688, -1.3872662334152484, -0.6979495076289601, -2.7181451994116768, -0.7572163663671609, 0.5143991930116932, -1.9411365050919673, 0.06106171053000905, 0.8176745043616885, -0.39254521657934427, 0.16174214698555936, -0.04423418480084261, 0.0556263390593717, -0.3045602029159356, -0.9860101085845111, 0.8514469740880347, -0.0047581945490319634, -0.5186101610554991, -1.763672889966365, 1.981057206811975, -1.3827577105450433, 0.17251607959921, -0.1938010476816943, 0.12573638564474687, -1.427358465639623, -0.9555619613637081, -0.10428451271600765, -0.3639492807693481, 1.9309776228777946, 0.6350234951198072, 0.37106933909702366, 0.14389227590365875, -1.0929147633439094, 1.1936581105769524, -0.2316781125386438, -0.8525370395991181, 0.7893215461711095, -0.4659389878225684, 1.217287417694428, 1.136494361623952, -0.3537234642329278, -0.356214406193524, -1.1182730023274297, 0.4555210873080179, 0.5980707553691869, -1.7156712739152002, -0.24131358563082048, 1.0129213295531716, 0.1939123964937125, 1.8471201514407636, -1.3493632026208562, -0.30108048037058566, 1.7316535342280481, -0.9181863423771113, 0.2606558174697534, 2.5014638272431124, -0.6952348011088254, -0.8020888731797848, -0.23842836168966505, 1.4332399543255427, -0.0656106858450873, -1.0810510509303974, 0.29996504613434377, -0.20110139444294162, 1.544761894012792, -0.39743151387602754, 1.0783986483866481, -0.996012645203401, -0.10664966517818977, -0.7042896624078521, -0.07208297710942764, -1.9740616766455272, 0.2336328878300918, -1.1470063361444083, -2.0043432544146498, 1.326962716923184, 0.25781660739645107, 0.1679845453619694, 0.1277728648929808, -1.5541720352372053, 2.3519070811198324, -0.8544479173116701], \"yaxis\": \"y7\"}, {\"line\": {\"color\": \"rgba(128, 128, 128, 1.0)\", \"dash\": \"solid\", \"shape\": \"linear\", \"width\": 1.3}, \"marker\": {\"size\": 2, \"symbol\": \"circle\"}, \"mode\": \"markers\", \"name\": \"B\", \"text\": \"\", \"type\": \"scatter\", \"x\": [-0.3321582334871926, -2.0436880414914884, 1.6901763603945128, -1.3027246024372003, 0.8329045268915205, 0.9693927526742672, 0.6381269659537482, 0.7689714116791412, -0.4842799657344476, 0.9492334369464868, 1.5847645235316903, 2.051263678428919, 0.7631415037907674, 1.8483505484849265, 0.5456384224565451, -0.057018865516633606, 2.450753491679219, 0.2091946357167935, -0.7272729704936228, -0.22681087836083522, -1.5493706620887342, -0.3317849747875593, -0.5385657576633147, -0.5607043862474755, 0.6996472211087795, 0.29912366189131345, -0.27785445592382846, -0.3440492570984598, 0.09803224857995489, -0.47355987989564796, 0.965605675120281, 0.279904164888264, -0.4897720739128254, 0.6116238804194486, 1.0668636873035247, 0.20072833409905902, 0.5590676335178563, 0.3809650688252469, -1.1590360047104407, 1.30908826432782, -0.18782092133261538, 0.9401617936027297, -1.159798277832091, 0.08186562540868922, -0.9108085225980124, -1.1684219358486414, 0.019938751283946093, 1.8064940589369523, 0.1730971791265535, -0.5365484321188417, -1.8055142235955877, -1.698859385671163, 0.43728041359384917, -0.20569813225914046, 0.5855035347199206, 1.0079529404702139, -0.32843179749295603, 1.4285243026618126, 0.5827722430290192, 1.3225965879621964, 1.1561621301676035, -1.0266396551128383, 0.4571635813544492, 0.9191713280485909, -0.42039372609890563, 0.8730451122476843, 1.647874233882643, 0.2844434119935799, 0.7138039949483197, -0.4297588540662532, -0.21200951578516913, -0.5684920376246261, -0.586525163859046, -0.805477185851115, 0.9033148507825743, -0.49757280357037414, -0.4465187735775768, 0.18859497662052685, -0.7605562414943484, -0.27571820758681925, 1.5892609662512898, -0.40677461948907667, 0.9893469610539058, -0.7186138050038005, 0.31053542547631235, -1.005343304844573, 0.054309179614122606, -0.20749947319462886, -0.6315889614715412, -1.368903978333397, 1.586481282163813, 0.5614815639098683, -0.15944185783308026, 0.9804061933646404, -1.7344694764805748, -0.5463561118119844, 0.6052526828890784, -0.3658218789741722, -0.10827769854984465, -0.11903177878804401], \"xaxis\": \"x8\", \"y\": [0.6917213637962769, -0.5526143151781165, 0.35293035890183044, -1.6582378868339553, -1.4407167644878176, 1.0361532855145303, -0.019746846343731226, 0.23779884114381963, -1.137075864821375, -1.4523685739760508, 0.1803908472666222, -0.7147860463221315, -0.4166734236268579, 0.619783875546229, -1.0369974268876478, -0.46665241552368353, -0.8891956631891681, 0.3947293477546675, -1.2684798575573688, -1.3872662334152484, -0.6979495076289601, -2.7181451994116768, -0.7572163663671609, 0.5143991930116932, -1.9411365050919673, 0.06106171053000905, 0.8176745043616885, -0.39254521657934427, 0.16174214698555936, -0.04423418480084261, 0.0556263390593717, -0.3045602029159356, -0.9860101085845111, 0.8514469740880347, -0.0047581945490319634, -0.5186101610554991, -1.763672889966365, 1.981057206811975, -1.3827577105450433, 0.17251607959921, -0.1938010476816943, 0.12573638564474687, -1.427358465639623, -0.9555619613637081, -0.10428451271600765, -0.3639492807693481, 1.9309776228777946, 0.6350234951198072, 0.37106933909702366, 0.14389227590365875, -1.0929147633439094, 1.1936581105769524, -0.2316781125386438, -0.8525370395991181, 0.7893215461711095, -0.4659389878225684, 1.217287417694428, 1.136494361623952, -0.3537234642329278, -0.356214406193524, -1.1182730023274297, 0.4555210873080179, 0.5980707553691869, -1.7156712739152002, -0.24131358563082048, 1.0129213295531716, 0.1939123964937125, 1.8471201514407636, -1.3493632026208562, -0.30108048037058566, 1.7316535342280481, -0.9181863423771113, 0.2606558174697534, 2.5014638272431124, -0.6952348011088254, -0.8020888731797848, -0.23842836168966505, 1.4332399543255427, -0.0656106858450873, -1.0810510509303974, 0.29996504613434377, -0.20110139444294162, 1.544761894012792, -0.39743151387602754, 1.0783986483866481, -0.996012645203401, -0.10664966517818977, -0.7042896624078521, -0.07208297710942764, -1.9740616766455272, 0.2336328878300918, -1.1470063361444083, -2.0043432544146498, 1.326962716923184, 0.25781660739645107, 0.1679845453619694, 0.1277728648929808, -1.5541720352372053, 2.3519070811198324, -0.8544479173116701], \"yaxis\": \"y8\"}, {\"line\": {\"color\": \"rgba(128, 128, 128, 1.0)\", \"dash\": \"solid\", \"shape\": \"linear\", \"width\": 1.3}, \"marker\": {\"size\": 2, \"symbol\": \"circle\"}, \"mode\": \"markers\", \"name\": \"C\", \"text\": \"\", \"type\": \"scatter\", \"x\": [-0.1562157680506174, -1.4743183396492672, 0.8174253607848009, -0.05071979588371249, -0.17883922277148764, -0.7651720790330793, -1.9212082989298684, -0.03291141560317541, -0.5285594227423575, 0.9384209074225683, 0.12053579898169361, 0.3543990552464441, 0.9451320124913716, -1.53988087130836, 1.5136352333156946, -0.05703586377575092, 0.42259146806383674, 1.0422998417748681, -1.2137178408540257, -1.2228420816836125, -1.6842697657640595, 0.027377407127000517, 0.8728739125498687, 0.400733323829508, 1.505847690989541, 2.4094921171123116, 0.2733148820087171, 0.5076476481227942, 0.07507825527940794, -0.11581566818277499, 0.10976999817561314, -0.33978939320778784, -1.3561753274383268, -1.6949992820005702, -0.754280422087886, -1.8561129918865145, -1.5137564329562165, 1.3239455726344815, -1.4152415671682996, -1.2310175210894636, -0.27113953403866786, 0.1887942979613161, 0.39903730368135787, 1.2007236814299214, -1.0492470586883644, -0.5756470465370982, 0.018717093029164814, 0.5501113954130685, 0.45065138354598433, 0.28147906148170476, -0.7434683060264415, -0.7943208706789614, -0.30386762350946966, -0.45647583247065754, -0.23521898389024445, -0.17132848452522814, -0.014256328121696454, 0.09791316526909666, 0.245414612705241, -0.5330802582890434, -0.10427715190051172, 0.8834796921415421, 0.5033126402688209, 0.2029458473106213, -0.3866167986286724, 0.4079599144327987, -0.5407454908949233, -0.47796765106536876, 0.6494224172798504, 0.6622646186713247, 1.1882265481397103, -0.2940317882374327, -0.3021590900161126, -0.12657175971552337, -0.2472482143506079, 0.27612736376591684, 0.4324893024430906, -1.4166021081702316, -2.2678431388562865, -0.629088023152995, 0.43845322337204257, -0.6475890613579122, -0.20020174052331377, 0.42512150492803447, -0.3495887913897167, 0.17347148161256432, -1.7668388042852021, 0.40677727740251274, 0.22401269790090117, -1.6674395980989138, 0.2802837122534162, -0.60332918748744, 0.8740083631743834, 2.1666309669777597, 1.454692100480719, 0.9186070389514527, -1.9509274095515292, 0.16829110283638893, 1.2616362034346793, 0.021057675215465234], \"xaxis\": \"x9\", \"y\": [-0.5444613077121313, 0.24282026732360593, -0.35656512999868456, -2.184317090998879, 0.4426154940144032, 0.7553842264388909, 1.0122605994186629, 1.3946649036822865, -1.4263641277884072, 0.14523131309549792, 1.2589967814285568, -1.1701291056035084, -0.22291421332354852, -0.7783359760951556, -1.8330502523993342, -0.5216242194718059, -0.8285984564446579, 0.5968833149870427, 0.43388199674110106, 0.027405037181976764, 0.09066924336364013, 0.2379682288310394, 0.37480409777208656, -0.6053419910021665, -1.4440174863694806, 0.5356354420622844, -1.346479835427754, -0.6490992629052273, 1.9039332137015401, 0.7986092268817414, -0.40087834786147086, -0.271787475965091, 1.1649924348062937, 0.7689387268325816, -0.3591109184121301, 1.2137675746082375, -0.30713255730349576, 1.4538389212487566, 0.8462977878958471, 1.7829519620794587, -0.35793487328095697, 0.37239991133007677, -1.107554026204563, -1.5299472200361113, -0.7501740791988809, -0.033203184787304864, -0.5553284593627191, -0.33994652399196645, -2.386641564747908, 1.0493097498960338, -0.7183616105644806, 1.084854262453599, -1.0123596236062506, 2.2874964362447474, -0.6641966760128035, 0.806932644923215, -0.3077338196668659, 1.49338292950465, 1.5618086513515261, 0.2574553131048988, 2.6052434550270798, 0.3880348684243134, -0.33832993795634553, 1.0240956944664181, -1.566376606714092, -0.3366964038743089, 0.2849792528536192, 0.6817258669192712, 0.5102281551885075, 1.4697219567832973, -0.6807320987207326, -0.22954901605262046, -0.37637707921768376, 0.6922675900344075, 0.4142276480203638, -1.3474509661446872, 0.049879177379919655, 1.4403068630729332, 0.39491714639388786, 0.13595348217569306, 0.05473080369502663, -0.6146884123304698, -0.6367006986559804, 0.030354662872443, -1.5969158177383382, 1.8413870934673713, 1.0991009172646902, 0.1693877844650046, -2.2459940153558855, -1.6809020412225755, 0.6602657483315182, -0.491770502197117, -0.27866439856982217, -0.5733843098118053, 0.7721267554749521, 1.3048065236016184, 0.8675156735300564, -2.0281669001153695, 0.24360773876802302, 0.3075084140956446], \"yaxis\": \"y9\"}, {\"line\": {\"color\": \"rgba(128, 128, 128, 1.0)\", \"dash\": \"solid\", \"shape\": \"linear\", \"width\": 1.3}, \"marker\": {\"size\": 2, \"symbol\": \"circle\"}, \"mode\": \"markers\", \"name\": \"C\", \"text\": \"\", \"type\": \"scatter\", \"x\": [0.6917213637962769, -0.5526143151781165, 0.35293035890183044, -1.6582378868339553, -1.4407167644878176, 1.0361532855145303, -0.019746846343731226, 0.23779884114381963, -1.137075864821375, -1.4523685739760508, 0.1803908472666222, -0.7147860463221315, -0.4166734236268579, 0.619783875546229, -1.0369974268876478, -0.46665241552368353, -0.8891956631891681, 0.3947293477546675, -1.2684798575573688, -1.3872662334152484, -0.6979495076289601, -2.7181451994116768, -0.7572163663671609, 0.5143991930116932, -1.9411365050919673, 0.06106171053000905, 0.8176745043616885, -0.39254521657934427, 0.16174214698555936, -0.04423418480084261, 0.0556263390593717, -0.3045602029159356, -0.9860101085845111, 0.8514469740880347, -0.0047581945490319634, -0.5186101610554991, -1.763672889966365, 1.981057206811975, -1.3827577105450433, 0.17251607959921, -0.1938010476816943, 0.12573638564474687, -1.427358465639623, -0.9555619613637081, -0.10428451271600765, -0.3639492807693481, 1.9309776228777946, 0.6350234951198072, 0.37106933909702366, 0.14389227590365875, -1.0929147633439094, 1.1936581105769524, -0.2316781125386438, -0.8525370395991181, 0.7893215461711095, -0.4659389878225684, 1.217287417694428, 1.136494361623952, -0.3537234642329278, -0.356214406193524, -1.1182730023274297, 0.4555210873080179, 0.5980707553691869, -1.7156712739152002, -0.24131358563082048, 1.0129213295531716, 0.1939123964937125, 1.8471201514407636, -1.3493632026208562, -0.30108048037058566, 1.7316535342280481, -0.9181863423771113, 0.2606558174697534, 2.5014638272431124, -0.6952348011088254, -0.8020888731797848, -0.23842836168966505, 1.4332399543255427, -0.0656106858450873, -1.0810510509303974, 0.29996504613434377, -0.20110139444294162, 1.544761894012792, -0.39743151387602754, 1.0783986483866481, -0.996012645203401, -0.10664966517818977, -0.7042896624078521, -0.07208297710942764, -1.9740616766455272, 0.2336328878300918, -1.1470063361444083, -2.0043432544146498, 1.326962716923184, 0.25781660739645107, 0.1679845453619694, 0.1277728648929808, -1.5541720352372053, 2.3519070811198324, -0.8544479173116701], \"xaxis\": \"x10\", \"y\": [-0.5444613077121313, 0.24282026732360593, -0.35656512999868456, -2.184317090998879, 0.4426154940144032, 0.7553842264388909, 1.0122605994186629, 1.3946649036822865, -1.4263641277884072, 0.14523131309549792, 1.2589967814285568, -1.1701291056035084, -0.22291421332354852, -0.7783359760951556, -1.8330502523993342, -0.5216242194718059, -0.8285984564446579, 0.5968833149870427, 0.43388199674110106, 0.027405037181976764, 0.09066924336364013, 0.2379682288310394, 0.37480409777208656, -0.6053419910021665, -1.4440174863694806, 0.5356354420622844, -1.346479835427754, -0.6490992629052273, 1.9039332137015401, 0.7986092268817414, -0.40087834786147086, -0.271787475965091, 1.1649924348062937, 0.7689387268325816, -0.3591109184121301, 1.2137675746082375, -0.30713255730349576, 1.4538389212487566, 0.8462977878958471, 1.7829519620794587, -0.35793487328095697, 0.37239991133007677, -1.107554026204563, -1.5299472200361113, -0.7501740791988809, -0.033203184787304864, -0.5553284593627191, -0.33994652399196645, -2.386641564747908, 1.0493097498960338, -0.7183616105644806, 1.084854262453599, -1.0123596236062506, 2.2874964362447474, -0.6641966760128035, 0.806932644923215, -0.3077338196668659, 1.49338292950465, 1.5618086513515261, 0.2574553131048988, 2.6052434550270798, 0.3880348684243134, -0.33832993795634553, 1.0240956944664181, -1.566376606714092, -0.3366964038743089, 0.2849792528536192, 0.6817258669192712, 0.5102281551885075, 1.4697219567832973, -0.6807320987207326, -0.22954901605262046, -0.37637707921768376, 0.6922675900344075, 0.4142276480203638, -1.3474509661446872, 0.049879177379919655, 1.4403068630729332, 0.39491714639388786, 0.13595348217569306, 0.05473080369502663, -0.6146884123304698, -0.6367006986559804, 0.030354662872443, -1.5969158177383382, 1.8413870934673713, 1.0991009172646902, 0.1693877844650046, -2.2459940153558855, -1.6809020412225755, 0.6602657483315182, -0.491770502197117, -0.27866439856982217, -0.5733843098118053, 0.7721267554749521, 1.3048065236016184, 0.8675156735300564, -2.0281669001153695, 0.24360773876802302, 0.3075084140956446], \"yaxis\": \"y10\"}, {\"histfunc\": \"count\", \"histnorm\": \"\", \"marker\": {\"color\": \"rgba(50, 171, 96, 1.0)\", \"line\": {\"color\": \"#4D5663\", \"width\": 1.3}}, \"name\": \"C\", \"nbinsx\": 10, \"opacity\": 0.8, \"orientation\": \"v\", \"type\": \"histogram\", \"x\": [-0.5444613077121313, 0.24282026732360593, -0.35656512999868456, -2.184317090998879, 0.4426154940144032, 0.7553842264388909, 1.0122605994186629, 1.3946649036822865, -1.4263641277884072, 0.14523131309549792, 1.2589967814285568, -1.1701291056035084, -0.22291421332354852, -0.7783359760951556, -1.8330502523993342, -0.5216242194718059, -0.8285984564446579, 0.5968833149870427, 0.43388199674110106, 0.027405037181976764, 0.09066924336364013, 0.2379682288310394, 0.37480409777208656, -0.6053419910021665, -1.4440174863694806, 0.5356354420622844, -1.346479835427754, -0.6490992629052273, 1.9039332137015401, 0.7986092268817414, -0.40087834786147086, -0.271787475965091, 1.1649924348062937, 0.7689387268325816, -0.3591109184121301, 1.2137675746082375, -0.30713255730349576, 1.4538389212487566, 0.8462977878958471, 1.7829519620794587, -0.35793487328095697, 0.37239991133007677, -1.107554026204563, -1.5299472200361113, -0.7501740791988809, -0.033203184787304864, -0.5553284593627191, -0.33994652399196645, -2.386641564747908, 1.0493097498960338, -0.7183616105644806, 1.084854262453599, -1.0123596236062506, 2.2874964362447474, -0.6641966760128035, 0.806932644923215, -0.3077338196668659, 1.49338292950465, 1.5618086513515261, 0.2574553131048988, 2.6052434550270798, 0.3880348684243134, -0.33832993795634553, 1.0240956944664181, -1.566376606714092, -0.3366964038743089, 0.2849792528536192, 0.6817258669192712, 0.5102281551885075, 1.4697219567832973, -0.6807320987207326, -0.22954901605262046, -0.37637707921768376, 0.6922675900344075, 0.4142276480203638, -1.3474509661446872, 0.049879177379919655, 1.4403068630729332, 0.39491714639388786, 0.13595348217569306, 0.05473080369502663, -0.6146884123304698, -0.6367006986559804, 0.030354662872443, -1.5969158177383382, 1.8413870934673713, 1.0991009172646902, 0.1693877844650046, -2.2459940153558855, -1.6809020412225755, 0.6602657483315182, -0.491770502197117, -0.27866439856982217, -0.5733843098118053, 0.7721267554749521, 1.3048065236016184, 0.8675156735300564, -2.0281669001153695, 0.24360773876802302, 0.3075084140956446], \"xaxis\": \"x11\", \"yaxis\": \"y11\"}, {\"line\": {\"color\": \"rgba(128, 128, 128, 1.0)\", \"dash\": \"solid\", \"shape\": \"linear\", \"width\": 1.3}, \"marker\": {\"size\": 2, \"symbol\": \"circle\"}, \"mode\": \"markers\", \"name\": \"C\", \"text\": \"\", \"type\": \"scatter\", \"x\": [-0.3321582334871926, -2.0436880414914884, 1.6901763603945128, -1.3027246024372003, 0.8329045268915205, 0.9693927526742672, 0.6381269659537482, 0.7689714116791412, -0.4842799657344476, 0.9492334369464868, 1.5847645235316903, 2.051263678428919, 0.7631415037907674, 1.8483505484849265, 0.5456384224565451, -0.057018865516633606, 2.450753491679219, 0.2091946357167935, -0.7272729704936228, -0.22681087836083522, -1.5493706620887342, -0.3317849747875593, -0.5385657576633147, -0.5607043862474755, 0.6996472211087795, 0.29912366189131345, -0.27785445592382846, -0.3440492570984598, 0.09803224857995489, -0.47355987989564796, 0.965605675120281, 0.279904164888264, -0.4897720739128254, 0.6116238804194486, 1.0668636873035247, 0.20072833409905902, 0.5590676335178563, 0.3809650688252469, -1.1590360047104407, 1.30908826432782, -0.18782092133261538, 0.9401617936027297, -1.159798277832091, 0.08186562540868922, -0.9108085225980124, -1.1684219358486414, 0.019938751283946093, 1.8064940589369523, 0.1730971791265535, -0.5365484321188417, -1.8055142235955877, -1.698859385671163, 0.43728041359384917, -0.20569813225914046, 0.5855035347199206, 1.0079529404702139, -0.32843179749295603, 1.4285243026618126, 0.5827722430290192, 1.3225965879621964, 1.1561621301676035, -1.0266396551128383, 0.4571635813544492, 0.9191713280485909, -0.42039372609890563, 0.8730451122476843, 1.647874233882643, 0.2844434119935799, 0.7138039949483197, -0.4297588540662532, -0.21200951578516913, -0.5684920376246261, -0.586525163859046, -0.805477185851115, 0.9033148507825743, -0.49757280357037414, -0.4465187735775768, 0.18859497662052685, -0.7605562414943484, -0.27571820758681925, 1.5892609662512898, -0.40677461948907667, 0.9893469610539058, -0.7186138050038005, 0.31053542547631235, -1.005343304844573, 0.054309179614122606, -0.20749947319462886, -0.6315889614715412, -1.368903978333397, 1.586481282163813, 0.5614815639098683, -0.15944185783308026, 0.9804061933646404, -1.7344694764805748, -0.5463561118119844, 0.6052526828890784, -0.3658218789741722, -0.10827769854984465, -0.11903177878804401], \"xaxis\": \"x12\", \"y\": [-0.5444613077121313, 0.24282026732360593, -0.35656512999868456, -2.184317090998879, 0.4426154940144032, 0.7553842264388909, 1.0122605994186629, 1.3946649036822865, -1.4263641277884072, 0.14523131309549792, 1.2589967814285568, -1.1701291056035084, -0.22291421332354852, -0.7783359760951556, -1.8330502523993342, -0.5216242194718059, -0.8285984564446579, 0.5968833149870427, 0.43388199674110106, 0.027405037181976764, 0.09066924336364013, 0.2379682288310394, 0.37480409777208656, -0.6053419910021665, -1.4440174863694806, 0.5356354420622844, -1.346479835427754, -0.6490992629052273, 1.9039332137015401, 0.7986092268817414, -0.40087834786147086, -0.271787475965091, 1.1649924348062937, 0.7689387268325816, -0.3591109184121301, 1.2137675746082375, -0.30713255730349576, 1.4538389212487566, 0.8462977878958471, 1.7829519620794587, -0.35793487328095697, 0.37239991133007677, -1.107554026204563, -1.5299472200361113, -0.7501740791988809, -0.033203184787304864, -0.5553284593627191, -0.33994652399196645, -2.386641564747908, 1.0493097498960338, -0.7183616105644806, 1.084854262453599, -1.0123596236062506, 2.2874964362447474, -0.6641966760128035, 0.806932644923215, -0.3077338196668659, 1.49338292950465, 1.5618086513515261, 0.2574553131048988, 2.6052434550270798, 0.3880348684243134, -0.33832993795634553, 1.0240956944664181, -1.566376606714092, -0.3366964038743089, 0.2849792528536192, 0.6817258669192712, 0.5102281551885075, 1.4697219567832973, -0.6807320987207326, -0.22954901605262046, -0.37637707921768376, 0.6922675900344075, 0.4142276480203638, -1.3474509661446872, 0.049879177379919655, 1.4403068630729332, 0.39491714639388786, 0.13595348217569306, 0.05473080369502663, -0.6146884123304698, -0.6367006986559804, 0.030354662872443, -1.5969158177383382, 1.8413870934673713, 1.0991009172646902, 0.1693877844650046, -2.2459940153558855, -1.6809020412225755, 0.6602657483315182, -0.491770502197117, -0.27866439856982217, -0.5733843098118053, 0.7721267554749521, 1.3048065236016184, 0.8675156735300564, -2.0281669001153695, 0.24360773876802302, 0.3075084140956446], \"yaxis\": \"y12\"}, {\"line\": {\"color\": \"rgba(128, 128, 128, 1.0)\", \"dash\": \"solid\", \"shape\": \"linear\", \"width\": 1.3}, \"marker\": {\"size\": 2, \"symbol\": \"circle\"}, \"mode\": \"markers\", \"name\": \"D\", \"text\": \"\", \"type\": \"scatter\", \"x\": [-0.1562157680506174, -1.4743183396492672, 0.8174253607848009, -0.05071979588371249, -0.17883922277148764, -0.7651720790330793, -1.9212082989298684, -0.03291141560317541, -0.5285594227423575, 0.9384209074225683, 0.12053579898169361, 0.3543990552464441, 0.9451320124913716, -1.53988087130836, 1.5136352333156946, -0.05703586377575092, 0.42259146806383674, 1.0422998417748681, -1.2137178408540257, -1.2228420816836125, -1.6842697657640595, 0.027377407127000517, 0.8728739125498687, 0.400733323829508, 1.505847690989541, 2.4094921171123116, 0.2733148820087171, 0.5076476481227942, 0.07507825527940794, -0.11581566818277499, 0.10976999817561314, -0.33978939320778784, -1.3561753274383268, -1.6949992820005702, -0.754280422087886, -1.8561129918865145, -1.5137564329562165, 1.3239455726344815, -1.4152415671682996, -1.2310175210894636, -0.27113953403866786, 0.1887942979613161, 0.39903730368135787, 1.2007236814299214, -1.0492470586883644, -0.5756470465370982, 0.018717093029164814, 0.5501113954130685, 0.45065138354598433, 0.28147906148170476, -0.7434683060264415, -0.7943208706789614, -0.30386762350946966, -0.45647583247065754, -0.23521898389024445, -0.17132848452522814, -0.014256328121696454, 0.09791316526909666, 0.245414612705241, -0.5330802582890434, -0.10427715190051172, 0.8834796921415421, 0.5033126402688209, 0.2029458473106213, -0.3866167986286724, 0.4079599144327987, -0.5407454908949233, -0.47796765106536876, 0.6494224172798504, 0.6622646186713247, 1.1882265481397103, -0.2940317882374327, -0.3021590900161126, -0.12657175971552337, -0.2472482143506079, 0.27612736376591684, 0.4324893024430906, -1.4166021081702316, -2.2678431388562865, -0.629088023152995, 0.43845322337204257, -0.6475890613579122, -0.20020174052331377, 0.42512150492803447, -0.3495887913897167, 0.17347148161256432, -1.7668388042852021, 0.40677727740251274, 0.22401269790090117, -1.6674395980989138, 0.2802837122534162, -0.60332918748744, 0.8740083631743834, 2.1666309669777597, 1.454692100480719, 0.9186070389514527, -1.9509274095515292, 0.16829110283638893, 1.2616362034346793, 0.021057675215465234], \"xaxis\": \"x13\", \"y\": [-0.3321582334871926, -2.0436880414914884, 1.6901763603945128, -1.3027246024372003, 0.8329045268915205, 0.9693927526742672, 0.6381269659537482, 0.7689714116791412, -0.4842799657344476, 0.9492334369464868, 1.5847645235316903, 2.051263678428919, 0.7631415037907674, 1.8483505484849265, 0.5456384224565451, -0.057018865516633606, 2.450753491679219, 0.2091946357167935, -0.7272729704936228, -0.22681087836083522, -1.5493706620887342, -0.3317849747875593, -0.5385657576633147, -0.5607043862474755, 0.6996472211087795, 0.29912366189131345, -0.27785445592382846, -0.3440492570984598, 0.09803224857995489, -0.47355987989564796, 0.965605675120281, 0.279904164888264, -0.4897720739128254, 0.6116238804194486, 1.0668636873035247, 0.20072833409905902, 0.5590676335178563, 0.3809650688252469, -1.1590360047104407, 1.30908826432782, -0.18782092133261538, 0.9401617936027297, -1.159798277832091, 0.08186562540868922, -0.9108085225980124, -1.1684219358486414, 0.019938751283946093, 1.8064940589369523, 0.1730971791265535, -0.5365484321188417, -1.8055142235955877, -1.698859385671163, 0.43728041359384917, -0.20569813225914046, 0.5855035347199206, 1.0079529404702139, -0.32843179749295603, 1.4285243026618126, 0.5827722430290192, 1.3225965879621964, 1.1561621301676035, -1.0266396551128383, 0.4571635813544492, 0.9191713280485909, -0.42039372609890563, 0.8730451122476843, 1.647874233882643, 0.2844434119935799, 0.7138039949483197, -0.4297588540662532, -0.21200951578516913, -0.5684920376246261, -0.586525163859046, -0.805477185851115, 0.9033148507825743, -0.49757280357037414, -0.4465187735775768, 0.18859497662052685, -0.7605562414943484, -0.27571820758681925, 1.5892609662512898, -0.40677461948907667, 0.9893469610539058, -0.7186138050038005, 0.31053542547631235, -1.005343304844573, 0.054309179614122606, -0.20749947319462886, -0.6315889614715412, -1.368903978333397, 1.586481282163813, 0.5614815639098683, -0.15944185783308026, 0.9804061933646404, -1.7344694764805748, -0.5463561118119844, 0.6052526828890784, -0.3658218789741722, -0.10827769854984465, -0.11903177878804401], \"yaxis\": \"y13\"}, {\"line\": {\"color\": \"rgba(128, 128, 128, 1.0)\", \"dash\": \"solid\", \"shape\": \"linear\", \"width\": 1.3}, \"marker\": {\"size\": 2, \"symbol\": \"circle\"}, \"mode\": \"markers\", \"name\": \"D\", \"text\": \"\", \"type\": \"scatter\", \"x\": [0.6917213637962769, -0.5526143151781165, 0.35293035890183044, -1.6582378868339553, -1.4407167644878176, 1.0361532855145303, -0.019746846343731226, 0.23779884114381963, -1.137075864821375, -1.4523685739760508, 0.1803908472666222, -0.7147860463221315, -0.4166734236268579, 0.619783875546229, -1.0369974268876478, -0.46665241552368353, -0.8891956631891681, 0.3947293477546675, -1.2684798575573688, -1.3872662334152484, -0.6979495076289601, -2.7181451994116768, -0.7572163663671609, 0.5143991930116932, -1.9411365050919673, 0.06106171053000905, 0.8176745043616885, -0.39254521657934427, 0.16174214698555936, -0.04423418480084261, 0.0556263390593717, -0.3045602029159356, -0.9860101085845111, 0.8514469740880347, -0.0047581945490319634, -0.5186101610554991, -1.763672889966365, 1.981057206811975, -1.3827577105450433, 0.17251607959921, -0.1938010476816943, 0.12573638564474687, -1.427358465639623, -0.9555619613637081, -0.10428451271600765, -0.3639492807693481, 1.9309776228777946, 0.6350234951198072, 0.37106933909702366, 0.14389227590365875, -1.0929147633439094, 1.1936581105769524, -0.2316781125386438, -0.8525370395991181, 0.7893215461711095, -0.4659389878225684, 1.217287417694428, 1.136494361623952, -0.3537234642329278, -0.356214406193524, -1.1182730023274297, 0.4555210873080179, 0.5980707553691869, -1.7156712739152002, -0.24131358563082048, 1.0129213295531716, 0.1939123964937125, 1.8471201514407636, -1.3493632026208562, -0.30108048037058566, 1.7316535342280481, -0.9181863423771113, 0.2606558174697534, 2.5014638272431124, -0.6952348011088254, -0.8020888731797848, -0.23842836168966505, 1.4332399543255427, -0.0656106858450873, -1.0810510509303974, 0.29996504613434377, -0.20110139444294162, 1.544761894012792, -0.39743151387602754, 1.0783986483866481, -0.996012645203401, -0.10664966517818977, -0.7042896624078521, -0.07208297710942764, -1.9740616766455272, 0.2336328878300918, -1.1470063361444083, -2.0043432544146498, 1.326962716923184, 0.25781660739645107, 0.1679845453619694, 0.1277728648929808, -1.5541720352372053, 2.3519070811198324, -0.8544479173116701], \"xaxis\": \"x14\", \"y\": [-0.3321582334871926, -2.0436880414914884, 1.6901763603945128, -1.3027246024372003, 0.8329045268915205, 0.9693927526742672, 0.6381269659537482, 0.7689714116791412, -0.4842799657344476, 0.9492334369464868, 1.5847645235316903, 2.051263678428919, 0.7631415037907674, 1.8483505484849265, 0.5456384224565451, -0.057018865516633606, 2.450753491679219, 0.2091946357167935, -0.7272729704936228, -0.22681087836083522, -1.5493706620887342, -0.3317849747875593, -0.5385657576633147, -0.5607043862474755, 0.6996472211087795, 0.29912366189131345, -0.27785445592382846, -0.3440492570984598, 0.09803224857995489, -0.47355987989564796, 0.965605675120281, 0.279904164888264, -0.4897720739128254, 0.6116238804194486, 1.0668636873035247, 0.20072833409905902, 0.5590676335178563, 0.3809650688252469, -1.1590360047104407, 1.30908826432782, -0.18782092133261538, 0.9401617936027297, -1.159798277832091, 0.08186562540868922, -0.9108085225980124, -1.1684219358486414, 0.019938751283946093, 1.8064940589369523, 0.1730971791265535, -0.5365484321188417, -1.8055142235955877, -1.698859385671163, 0.43728041359384917, -0.20569813225914046, 0.5855035347199206, 1.0079529404702139, -0.32843179749295603, 1.4285243026618126, 0.5827722430290192, 1.3225965879621964, 1.1561621301676035, -1.0266396551128383, 0.4571635813544492, 0.9191713280485909, -0.42039372609890563, 0.8730451122476843, 1.647874233882643, 0.2844434119935799, 0.7138039949483197, -0.4297588540662532, -0.21200951578516913, -0.5684920376246261, -0.586525163859046, -0.805477185851115, 0.9033148507825743, -0.49757280357037414, -0.4465187735775768, 0.18859497662052685, -0.7605562414943484, -0.27571820758681925, 1.5892609662512898, -0.40677461948907667, 0.9893469610539058, -0.7186138050038005, 0.31053542547631235, -1.005343304844573, 0.054309179614122606, -0.20749947319462886, -0.6315889614715412, -1.368903978333397, 1.586481282163813, 0.5614815639098683, -0.15944185783308026, 0.9804061933646404, -1.7344694764805748, -0.5463561118119844, 0.6052526828890784, -0.3658218789741722, -0.10827769854984465, -0.11903177878804401], \"yaxis\": \"y14\"}, {\"line\": {\"color\": \"rgba(128, 128, 128, 1.0)\", \"dash\": \"solid\", \"shape\": \"linear\", \"width\": 1.3}, \"marker\": {\"size\": 2, \"symbol\": \"circle\"}, \"mode\": \"markers\", \"name\": \"D\", \"text\": \"\", \"type\": \"scatter\", \"x\": [-0.5444613077121313, 0.24282026732360593, -0.35656512999868456, -2.184317090998879, 0.4426154940144032, 0.7553842264388909, 1.0122605994186629, 1.3946649036822865, -1.4263641277884072, 0.14523131309549792, 1.2589967814285568, -1.1701291056035084, -0.22291421332354852, -0.7783359760951556, -1.8330502523993342, -0.5216242194718059, -0.8285984564446579, 0.5968833149870427, 0.43388199674110106, 0.027405037181976764, 0.09066924336364013, 0.2379682288310394, 0.37480409777208656, -0.6053419910021665, -1.4440174863694806, 0.5356354420622844, -1.346479835427754, -0.6490992629052273, 1.9039332137015401, 0.7986092268817414, -0.40087834786147086, -0.271787475965091, 1.1649924348062937, 0.7689387268325816, -0.3591109184121301, 1.2137675746082375, -0.30713255730349576, 1.4538389212487566, 0.8462977878958471, 1.7829519620794587, -0.35793487328095697, 0.37239991133007677, -1.107554026204563, -1.5299472200361113, -0.7501740791988809, -0.033203184787304864, -0.5553284593627191, -0.33994652399196645, -2.386641564747908, 1.0493097498960338, -0.7183616105644806, 1.084854262453599, -1.0123596236062506, 2.2874964362447474, -0.6641966760128035, 0.806932644923215, -0.3077338196668659, 1.49338292950465, 1.5618086513515261, 0.2574553131048988, 2.6052434550270798, 0.3880348684243134, -0.33832993795634553, 1.0240956944664181, -1.566376606714092, -0.3366964038743089, 0.2849792528536192, 0.6817258669192712, 0.5102281551885075, 1.4697219567832973, -0.6807320987207326, -0.22954901605262046, -0.37637707921768376, 0.6922675900344075, 0.4142276480203638, -1.3474509661446872, 0.049879177379919655, 1.4403068630729332, 0.39491714639388786, 0.13595348217569306, 0.05473080369502663, -0.6146884123304698, -0.6367006986559804, 0.030354662872443, -1.5969158177383382, 1.8413870934673713, 1.0991009172646902, 0.1693877844650046, -2.2459940153558855, -1.6809020412225755, 0.6602657483315182, -0.491770502197117, -0.27866439856982217, -0.5733843098118053, 0.7721267554749521, 1.3048065236016184, 0.8675156735300564, -2.0281669001153695, 0.24360773876802302, 0.3075084140956446], \"xaxis\": \"x15\", \"y\": [-0.3321582334871926, -2.0436880414914884, 1.6901763603945128, -1.3027246024372003, 0.8329045268915205, 0.9693927526742672, 0.6381269659537482, 0.7689714116791412, -0.4842799657344476, 0.9492334369464868, 1.5847645235316903, 2.051263678428919, 0.7631415037907674, 1.8483505484849265, 0.5456384224565451, -0.057018865516633606, 2.450753491679219, 0.2091946357167935, -0.7272729704936228, -0.22681087836083522, -1.5493706620887342, -0.3317849747875593, -0.5385657576633147, -0.5607043862474755, 0.6996472211087795, 0.29912366189131345, -0.27785445592382846, -0.3440492570984598, 0.09803224857995489, -0.47355987989564796, 0.965605675120281, 0.279904164888264, -0.4897720739128254, 0.6116238804194486, 1.0668636873035247, 0.20072833409905902, 0.5590676335178563, 0.3809650688252469, -1.1590360047104407, 1.30908826432782, -0.18782092133261538, 0.9401617936027297, -1.159798277832091, 0.08186562540868922, -0.9108085225980124, -1.1684219358486414, 0.019938751283946093, 1.8064940589369523, 0.1730971791265535, -0.5365484321188417, -1.8055142235955877, -1.698859385671163, 0.43728041359384917, -0.20569813225914046, 0.5855035347199206, 1.0079529404702139, -0.32843179749295603, 1.4285243026618126, 0.5827722430290192, 1.3225965879621964, 1.1561621301676035, -1.0266396551128383, 0.4571635813544492, 0.9191713280485909, -0.42039372609890563, 0.8730451122476843, 1.647874233882643, 0.2844434119935799, 0.7138039949483197, -0.4297588540662532, -0.21200951578516913, -0.5684920376246261, -0.586525163859046, -0.805477185851115, 0.9033148507825743, -0.49757280357037414, -0.4465187735775768, 0.18859497662052685, -0.7605562414943484, -0.27571820758681925, 1.5892609662512898, -0.40677461948907667, 0.9893469610539058, -0.7186138050038005, 0.31053542547631235, -1.005343304844573, 0.054309179614122606, -0.20749947319462886, -0.6315889614715412, -1.368903978333397, 1.586481282163813, 0.5614815639098683, -0.15944185783308026, 0.9804061933646404, -1.7344694764805748, -0.5463561118119844, 0.6052526828890784, -0.3658218789741722, -0.10827769854984465, -0.11903177878804401], \"yaxis\": \"y15\"}, {\"histfunc\": \"count\", \"histnorm\": \"\", \"marker\": {\"color\": \"rgba(128, 0, 128, 1.0)\", \"line\": {\"color\": \"#4D5663\", \"width\": 1.3}}, \"name\": \"D\", \"nbinsx\": 10, \"opacity\": 0.8, \"orientation\": \"v\", \"type\": \"histogram\", \"x\": [-0.3321582334871926, -2.0436880414914884, 1.6901763603945128, -1.3027246024372003, 0.8329045268915205, 0.9693927526742672, 0.6381269659537482, 0.7689714116791412, -0.4842799657344476, 0.9492334369464868, 1.5847645235316903, 2.051263678428919, 0.7631415037907674, 1.8483505484849265, 0.5456384224565451, -0.057018865516633606, 2.450753491679219, 0.2091946357167935, -0.7272729704936228, -0.22681087836083522, -1.5493706620887342, -0.3317849747875593, -0.5385657576633147, -0.5607043862474755, 0.6996472211087795, 0.29912366189131345, -0.27785445592382846, -0.3440492570984598, 0.09803224857995489, -0.47355987989564796, 0.965605675120281, 0.279904164888264, -0.4897720739128254, 0.6116238804194486, 1.0668636873035247, 0.20072833409905902, 0.5590676335178563, 0.3809650688252469, -1.1590360047104407, 1.30908826432782, -0.18782092133261538, 0.9401617936027297, -1.159798277832091, 0.08186562540868922, -0.9108085225980124, -1.1684219358486414, 0.019938751283946093, 1.8064940589369523, 0.1730971791265535, -0.5365484321188417, -1.8055142235955877, -1.698859385671163, 0.43728041359384917, -0.20569813225914046, 0.5855035347199206, 1.0079529404702139, -0.32843179749295603, 1.4285243026618126, 0.5827722430290192, 1.3225965879621964, 1.1561621301676035, -1.0266396551128383, 0.4571635813544492, 0.9191713280485909, -0.42039372609890563, 0.8730451122476843, 1.647874233882643, 0.2844434119935799, 0.7138039949483197, -0.4297588540662532, -0.21200951578516913, -0.5684920376246261, -0.586525163859046, -0.805477185851115, 0.9033148507825743, -0.49757280357037414, -0.4465187735775768, 0.18859497662052685, -0.7605562414943484, -0.27571820758681925, 1.5892609662512898, -0.40677461948907667, 0.9893469610539058, -0.7186138050038005, 0.31053542547631235, -1.005343304844573, 0.054309179614122606, -0.20749947319462886, -0.6315889614715412, -1.368903978333397, 1.586481282163813, 0.5614815639098683, -0.15944185783308026, 0.9804061933646404, -1.7344694764805748, -0.5463561118119844, 0.6052526828890784, -0.3658218789741722, -0.10827769854984465, -0.11903177878804401], \"xaxis\": \"x16\", \"yaxis\": \"y16\"}],                        {\"bargap\": 0.02, \"legend\": {\"bgcolor\": \"#F5F6F9\", \"font\": {\"color\": \"#4D5663\"}}, \"paper_bgcolor\": \"#F5F6F9\", \"plot_bgcolor\": \"#F5F6F9\", \"showlegend\": false, \"template\": {\"data\": {\"bar\": [{\"error_x\": {\"color\": \"#2a3f5f\"}, \"error_y\": {\"color\": \"#2a3f5f\"}, \"marker\": {\"line\": {\"color\": \"#E5ECF6\", \"width\": 0.5}}, \"type\": \"bar\"}], \"barpolar\": [{\"marker\": {\"line\": {\"color\": \"#E5ECF6\", \"width\": 0.5}}, \"type\": \"barpolar\"}], \"carpet\": [{\"aaxis\": {\"endlinecolor\": \"#2a3f5f\", \"gridcolor\": \"white\", \"linecolor\": \"white\", \"minorgridcolor\": \"white\", \"startlinecolor\": \"#2a3f5f\"}, \"baxis\": {\"endlinecolor\": \"#2a3f5f\", \"gridcolor\": \"white\", \"linecolor\": \"white\", \"minorgridcolor\": \"white\", \"startlinecolor\": \"#2a3f5f\"}, \"type\": \"carpet\"}], \"choropleth\": [{\"colorbar\": {\"outlinewidth\": 0, \"ticks\": \"\"}, \"type\": \"choropleth\"}], \"contour\": [{\"colorbar\": {\"outlinewidth\": 0, \"ticks\": \"\"}, \"colorscale\": [[0.0, \"#0d0887\"], [0.1111111111111111, \"#46039f\"], [0.2222222222222222, \"#7201a8\"], [0.3333333333333333, \"#9c179e\"], [0.4444444444444444, \"#bd3786\"], [0.5555555555555556, \"#d8576b\"], [0.6666666666666666, \"#ed7953\"], [0.7777777777777778, \"#fb9f3a\"], [0.8888888888888888, \"#fdca26\"], [1.0, \"#f0f921\"]], \"type\": \"contour\"}], \"contourcarpet\": [{\"colorbar\": {\"outlinewidth\": 0, \"ticks\": \"\"}, \"type\": \"contourcarpet\"}], \"heatmap\": [{\"colorbar\": {\"outlinewidth\": 0, \"ticks\": \"\"}, \"colorscale\": [[0.0, \"#0d0887\"], [0.1111111111111111, \"#46039f\"], [0.2222222222222222, \"#7201a8\"], [0.3333333333333333, \"#9c179e\"], [0.4444444444444444, \"#bd3786\"], [0.5555555555555556, \"#d8576b\"], [0.6666666666666666, \"#ed7953\"], [0.7777777777777778, \"#fb9f3a\"], [0.8888888888888888, \"#fdca26\"], [1.0, \"#f0f921\"]], \"type\": \"heatmap\"}], \"heatmapgl\": [{\"colorbar\": {\"outlinewidth\": 0, \"ticks\": \"\"}, \"colorscale\": [[0.0, \"#0d0887\"], [0.1111111111111111, \"#46039f\"], [0.2222222222222222, \"#7201a8\"], [0.3333333333333333, \"#9c179e\"], [0.4444444444444444, \"#bd3786\"], [0.5555555555555556, \"#d8576b\"], [0.6666666666666666, \"#ed7953\"], [0.7777777777777778, \"#fb9f3a\"], [0.8888888888888888, \"#fdca26\"], [1.0, \"#f0f921\"]], \"type\": \"heatmapgl\"}], \"histogram\": [{\"marker\": {\"colorbar\": {\"outlinewidth\": 0, \"ticks\": \"\"}}, \"type\": \"histogram\"}], \"histogram2d\": [{\"colorbar\": {\"outlinewidth\": 0, \"ticks\": \"\"}, \"colorscale\": [[0.0, \"#0d0887\"], [0.1111111111111111, \"#46039f\"], [0.2222222222222222, \"#7201a8\"], [0.3333333333333333, \"#9c179e\"], [0.4444444444444444, \"#bd3786\"], [0.5555555555555556, \"#d8576b\"], [0.6666666666666666, \"#ed7953\"], [0.7777777777777778, \"#fb9f3a\"], [0.8888888888888888, \"#fdca26\"], [1.0, \"#f0f921\"]], \"type\": \"histogram2d\"}], \"histogram2dcontour\": [{\"colorbar\": {\"outlinewidth\": 0, \"ticks\": \"\"}, \"colorscale\": [[0.0, \"#0d0887\"], [0.1111111111111111, \"#46039f\"], [0.2222222222222222, \"#7201a8\"], [0.3333333333333333, \"#9c179e\"], [0.4444444444444444, \"#bd3786\"], [0.5555555555555556, \"#d8576b\"], [0.6666666666666666, \"#ed7953\"], [0.7777777777777778, \"#fb9f3a\"], [0.8888888888888888, \"#fdca26\"], [1.0, \"#f0f921\"]], \"type\": \"histogram2dcontour\"}], \"mesh3d\": [{\"colorbar\": {\"outlinewidth\": 0, \"ticks\": \"\"}, \"type\": \"mesh3d\"}], \"parcoords\": [{\"line\": {\"colorbar\": {\"outlinewidth\": 0, \"ticks\": \"\"}}, \"type\": \"parcoords\"}], \"pie\": [{\"automargin\": true, \"type\": \"pie\"}], \"scatter\": [{\"marker\": {\"colorbar\": {\"outlinewidth\": 0, \"ticks\": \"\"}}, \"type\": \"scatter\"}], \"scatter3d\": [{\"line\": {\"colorbar\": {\"outlinewidth\": 0, \"ticks\": \"\"}}, \"marker\": {\"colorbar\": {\"outlinewidth\": 0, \"ticks\": \"\"}}, \"type\": \"scatter3d\"}], \"scattercarpet\": [{\"marker\": {\"colorbar\": {\"outlinewidth\": 0, \"ticks\": \"\"}}, \"type\": \"scattercarpet\"}], \"scattergeo\": [{\"marker\": {\"colorbar\": {\"outlinewidth\": 0, \"ticks\": \"\"}}, \"type\": \"scattergeo\"}], \"scattergl\": [{\"marker\": {\"colorbar\": {\"outlinewidth\": 0, \"ticks\": \"\"}}, \"type\": \"scattergl\"}], \"scattermapbox\": [{\"marker\": {\"colorbar\": {\"outlinewidth\": 0, \"ticks\": \"\"}}, \"type\": \"scattermapbox\"}], \"scatterpolar\": [{\"marker\": {\"colorbar\": {\"outlinewidth\": 0, \"ticks\": \"\"}}, \"type\": \"scatterpolar\"}], \"scatterpolargl\": [{\"marker\": {\"colorbar\": {\"outlinewidth\": 0, \"ticks\": \"\"}}, \"type\": \"scatterpolargl\"}], \"scatterternary\": [{\"marker\": {\"colorbar\": {\"outlinewidth\": 0, \"ticks\": \"\"}}, \"type\": \"scatterternary\"}], \"surface\": [{\"colorbar\": {\"outlinewidth\": 0, \"ticks\": \"\"}, \"colorscale\": [[0.0, \"#0d0887\"], [0.1111111111111111, \"#46039f\"], [0.2222222222222222, \"#7201a8\"], [0.3333333333333333, \"#9c179e\"], [0.4444444444444444, \"#bd3786\"], [0.5555555555555556, \"#d8576b\"], [0.6666666666666666, \"#ed7953\"], [0.7777777777777778, \"#fb9f3a\"], [0.8888888888888888, \"#fdca26\"], [1.0, \"#f0f921\"]], \"type\": \"surface\"}], \"table\": [{\"cells\": {\"fill\": {\"color\": \"#EBF0F8\"}, \"line\": {\"color\": \"white\"}}, \"header\": {\"fill\": {\"color\": \"#C8D4E3\"}, \"line\": {\"color\": \"white\"}}, \"type\": \"table\"}]}, \"layout\": {\"annotationdefaults\": {\"arrowcolor\": \"#2a3f5f\", \"arrowhead\": 0, \"arrowwidth\": 1}, \"autotypenumbers\": \"strict\", \"coloraxis\": {\"colorbar\": {\"outlinewidth\": 0, \"ticks\": \"\"}}, \"colorscale\": {\"diverging\": [[0, \"#8e0152\"], [0.1, \"#c51b7d\"], [0.2, \"#de77ae\"], [0.3, \"#f1b6da\"], [0.4, \"#fde0ef\"], [0.5, \"#f7f7f7\"], [0.6, \"#e6f5d0\"], [0.7, \"#b8e186\"], [0.8, \"#7fbc41\"], [0.9, \"#4d9221\"], [1, \"#276419\"]], \"sequential\": [[0.0, \"#0d0887\"], [0.1111111111111111, \"#46039f\"], [0.2222222222222222, \"#7201a8\"], [0.3333333333333333, \"#9c179e\"], [0.4444444444444444, \"#bd3786\"], [0.5555555555555556, \"#d8576b\"], [0.6666666666666666, \"#ed7953\"], [0.7777777777777778, \"#fb9f3a\"], [0.8888888888888888, \"#fdca26\"], [1.0, \"#f0f921\"]], \"sequentialminus\": [[0.0, \"#0d0887\"], [0.1111111111111111, \"#46039f\"], [0.2222222222222222, \"#7201a8\"], [0.3333333333333333, \"#9c179e\"], [0.4444444444444444, \"#bd3786\"], [0.5555555555555556, \"#d8576b\"], [0.6666666666666666, \"#ed7953\"], [0.7777777777777778, \"#fb9f3a\"], [0.8888888888888888, \"#fdca26\"], [1.0, \"#f0f921\"]]}, \"colorway\": [\"#636efa\", \"#EF553B\", \"#00cc96\", \"#ab63fa\", \"#FFA15A\", \"#19d3f3\", \"#FF6692\", \"#B6E880\", \"#FF97FF\", \"#FECB52\"], \"font\": {\"color\": \"#2a3f5f\"}, \"geo\": {\"bgcolor\": \"white\", \"lakecolor\": \"white\", \"landcolor\": \"#E5ECF6\", \"showlakes\": true, \"showland\": true, \"subunitcolor\": \"white\"}, \"hoverlabel\": {\"align\": \"left\"}, \"hovermode\": \"closest\", \"mapbox\": {\"style\": \"light\"}, \"paper_bgcolor\": \"white\", \"plot_bgcolor\": \"#E5ECF6\", \"polar\": {\"angularaxis\": {\"gridcolor\": \"white\", \"linecolor\": \"white\", \"ticks\": \"\"}, \"bgcolor\": \"#E5ECF6\", \"radialaxis\": {\"gridcolor\": \"white\", \"linecolor\": \"white\", \"ticks\": \"\"}}, \"scene\": {\"xaxis\": {\"backgroundcolor\": \"#E5ECF6\", \"gridcolor\": \"white\", \"gridwidth\": 2, \"linecolor\": \"white\", \"showbackground\": true, \"ticks\": \"\", \"zerolinecolor\": \"white\"}, \"yaxis\": {\"backgroundcolor\": \"#E5ECF6\", \"gridcolor\": \"white\", \"gridwidth\": 2, \"linecolor\": \"white\", \"showbackground\": true, \"ticks\": \"\", \"zerolinecolor\": \"white\"}, \"zaxis\": {\"backgroundcolor\": \"#E5ECF6\", \"gridcolor\": \"white\", \"gridwidth\": 2, \"linecolor\": \"white\", \"showbackground\": true, \"ticks\": \"\", \"zerolinecolor\": \"white\"}}, \"shapedefaults\": {\"line\": {\"color\": \"#2a3f5f\"}}, \"ternary\": {\"aaxis\": {\"gridcolor\": \"white\", \"linecolor\": \"white\", \"ticks\": \"\"}, \"baxis\": {\"gridcolor\": \"white\", \"linecolor\": \"white\", \"ticks\": \"\"}, \"bgcolor\": \"#E5ECF6\", \"caxis\": {\"gridcolor\": \"white\", \"linecolor\": \"white\", \"ticks\": \"\"}}, \"title\": {\"x\": 0.05}, \"xaxis\": {\"automargin\": true, \"gridcolor\": \"white\", \"linecolor\": \"white\", \"ticks\": \"\", \"title\": {\"standoff\": 15}, \"zerolinecolor\": \"white\", \"zerolinewidth\": 2}, \"yaxis\": {\"automargin\": true, \"gridcolor\": \"white\", \"linecolor\": \"white\", \"ticks\": \"\", \"title\": {\"standoff\": 15}, \"zerolinecolor\": \"white\", \"zerolinewidth\": 2}}}, \"title\": {\"font\": {\"color\": \"#4D5663\"}}, \"xaxis\": {\"anchor\": \"y\", \"domain\": [0.0, 0.2125], \"gridcolor\": \"#E1E5ED\", \"showgrid\": false, \"tickfont\": {\"color\": \"#4D5663\"}, \"title\": {\"font\": {\"color\": \"#4D5663\"}, \"text\": \"\"}, \"zerolinecolor\": \"#E1E5ED\"}, \"xaxis10\": {\"anchor\": \"y10\", \"domain\": [0.2625, 0.475], \"gridcolor\": \"#E1E5ED\", \"showgrid\": false, \"tickfont\": {\"color\": \"#4D5663\"}, \"title\": {\"font\": {\"color\": \"#4D5663\"}, \"text\": \"\"}, \"zerolinecolor\": \"#E1E5ED\"}, \"xaxis11\": {\"anchor\": \"y11\", \"domain\": [0.525, 0.7375], \"gridcolor\": \"#E1E5ED\", \"showgrid\": false, \"tickfont\": {\"color\": \"#4D5663\"}, \"title\": {\"font\": {\"color\": \"#4D5663\"}, \"text\": \"\"}, \"zerolinecolor\": \"#E1E5ED\"}, \"xaxis12\": {\"anchor\": \"y12\", \"domain\": [0.7875, 1.0], \"gridcolor\": \"#E1E5ED\", \"showgrid\": false, \"tickfont\": {\"color\": \"#4D5663\"}, \"title\": {\"font\": {\"color\": \"#4D5663\"}, \"text\": \"\"}, \"zerolinecolor\": \"#E1E5ED\"}, \"xaxis13\": {\"anchor\": \"y13\", \"domain\": [0.0, 0.2125], \"gridcolor\": \"#E1E5ED\", \"showgrid\": false, \"tickfont\": {\"color\": \"#4D5663\"}, \"title\": {\"font\": {\"color\": \"#4D5663\"}, \"text\": \"\"}, \"zerolinecolor\": \"#E1E5ED\"}, \"xaxis14\": {\"anchor\": \"y14\", \"domain\": [0.2625, 0.475], \"gridcolor\": \"#E1E5ED\", \"showgrid\": false, \"tickfont\": {\"color\": \"#4D5663\"}, \"title\": {\"font\": {\"color\": \"#4D5663\"}, \"text\": \"\"}, \"zerolinecolor\": \"#E1E5ED\"}, \"xaxis15\": {\"anchor\": \"y15\", \"domain\": [0.525, 0.7375], \"gridcolor\": \"#E1E5ED\", \"showgrid\": false, \"tickfont\": {\"color\": \"#4D5663\"}, \"title\": {\"font\": {\"color\": \"#4D5663\"}, \"text\": \"\"}, \"zerolinecolor\": \"#E1E5ED\"}, \"xaxis16\": {\"anchor\": \"y16\", \"domain\": [0.7875, 1.0], \"gridcolor\": \"#E1E5ED\", \"showgrid\": false, \"tickfont\": {\"color\": \"#4D5663\"}, \"title\": {\"font\": {\"color\": \"#4D5663\"}, \"text\": \"\"}, \"zerolinecolor\": \"#E1E5ED\"}, \"xaxis2\": {\"anchor\": \"y2\", \"domain\": [0.2625, 0.475], \"gridcolor\": \"#E1E5ED\", \"showgrid\": false, \"tickfont\": {\"color\": \"#4D5663\"}, \"title\": {\"font\": {\"color\": \"#4D5663\"}, \"text\": \"\"}, \"zerolinecolor\": \"#E1E5ED\"}, \"xaxis3\": {\"anchor\": \"y3\", \"domain\": [0.525, 0.7375], \"gridcolor\": \"#E1E5ED\", \"showgrid\": false, \"tickfont\": {\"color\": \"#4D5663\"}, \"title\": {\"font\": {\"color\": \"#4D5663\"}, \"text\": \"\"}, \"zerolinecolor\": \"#E1E5ED\"}, \"xaxis4\": {\"anchor\": \"y4\", \"domain\": [0.7875, 1.0], \"gridcolor\": \"#E1E5ED\", \"showgrid\": false, \"tickfont\": {\"color\": \"#4D5663\"}, \"title\": {\"font\": {\"color\": \"#4D5663\"}, \"text\": \"\"}, \"zerolinecolor\": \"#E1E5ED\"}, \"xaxis5\": {\"anchor\": \"y5\", \"domain\": [0.0, 0.2125], \"gridcolor\": \"#E1E5ED\", \"showgrid\": false, \"tickfont\": {\"color\": \"#4D5663\"}, \"title\": {\"font\": {\"color\": \"#4D5663\"}, \"text\": \"\"}, \"zerolinecolor\": \"#E1E5ED\"}, \"xaxis6\": {\"anchor\": \"y6\", \"domain\": [0.2625, 0.475], \"gridcolor\": \"#E1E5ED\", \"showgrid\": false, \"tickfont\": {\"color\": \"#4D5663\"}, \"title\": {\"font\": {\"color\": \"#4D5663\"}, \"text\": \"\"}, \"zerolinecolor\": \"#E1E5ED\"}, \"xaxis7\": {\"anchor\": \"y7\", \"domain\": [0.525, 0.7375], \"gridcolor\": \"#E1E5ED\", \"showgrid\": false, \"tickfont\": {\"color\": \"#4D5663\"}, \"title\": {\"font\": {\"color\": \"#4D5663\"}, \"text\": \"\"}, \"zerolinecolor\": \"#E1E5ED\"}, \"xaxis8\": {\"anchor\": \"y8\", \"domain\": [0.7875, 1.0], \"gridcolor\": \"#E1E5ED\", \"showgrid\": false, \"tickfont\": {\"color\": \"#4D5663\"}, \"title\": {\"font\": {\"color\": \"#4D5663\"}, \"text\": \"\"}, \"zerolinecolor\": \"#E1E5ED\"}, \"xaxis9\": {\"anchor\": \"y9\", \"domain\": [0.0, 0.2125], \"gridcolor\": \"#E1E5ED\", \"showgrid\": false, \"tickfont\": {\"color\": \"#4D5663\"}, \"title\": {\"font\": {\"color\": \"#4D5663\"}, \"text\": \"\"}, \"zerolinecolor\": \"#E1E5ED\"}, \"yaxis\": {\"anchor\": \"x\", \"domain\": [0.8025, 1.0], \"gridcolor\": \"#E1E5ED\", \"showgrid\": false, \"tickfont\": {\"color\": \"#4D5663\"}, \"title\": {\"font\": {\"color\": \"#4D5663\"}, \"text\": \"\"}, \"zerolinecolor\": \"#E1E5ED\"}, \"yaxis10\": {\"anchor\": \"x10\", \"domain\": [0.2675, 0.465], \"gridcolor\": \"#E1E5ED\", \"showgrid\": false, \"tickfont\": {\"color\": \"#4D5663\"}, \"title\": {\"font\": {\"color\": \"#4D5663\"}, \"text\": \"\"}, \"zerolinecolor\": \"#E1E5ED\"}, \"yaxis11\": {\"anchor\": \"x11\", \"domain\": [0.2675, 0.465], \"gridcolor\": \"#E1E5ED\", \"showgrid\": false, \"tickfont\": {\"color\": \"#4D5663\"}, \"title\": {\"font\": {\"color\": \"#4D5663\"}, \"text\": \"\"}, \"zerolinecolor\": \"#E1E5ED\"}, \"yaxis12\": {\"anchor\": \"x12\", \"domain\": [0.2675, 0.465], \"gridcolor\": \"#E1E5ED\", \"showgrid\": false, \"tickfont\": {\"color\": \"#4D5663\"}, \"title\": {\"font\": {\"color\": \"#4D5663\"}, \"text\": \"\"}, \"zerolinecolor\": \"#E1E5ED\"}, \"yaxis13\": {\"anchor\": \"x13\", \"domain\": [0.0, 0.1975], \"gridcolor\": \"#E1E5ED\", \"showgrid\": false, \"tickfont\": {\"color\": \"#4D5663\"}, \"title\": {\"font\": {\"color\": \"#4D5663\"}, \"text\": \"\"}, \"zerolinecolor\": \"#E1E5ED\"}, \"yaxis14\": {\"anchor\": \"x14\", \"domain\": [0.0, 0.1975], \"gridcolor\": \"#E1E5ED\", \"showgrid\": false, \"tickfont\": {\"color\": \"#4D5663\"}, \"title\": {\"font\": {\"color\": \"#4D5663\"}, \"text\": \"\"}, \"zerolinecolor\": \"#E1E5ED\"}, \"yaxis15\": {\"anchor\": \"x15\", \"domain\": [0.0, 0.1975], \"gridcolor\": \"#E1E5ED\", \"showgrid\": false, \"tickfont\": {\"color\": \"#4D5663\"}, \"title\": {\"font\": {\"color\": \"#4D5663\"}, \"text\": \"\"}, \"zerolinecolor\": \"#E1E5ED\"}, \"yaxis16\": {\"anchor\": \"x16\", \"domain\": [0.0, 0.1975], \"gridcolor\": \"#E1E5ED\", \"showgrid\": false, \"tickfont\": {\"color\": \"#4D5663\"}, \"title\": {\"font\": {\"color\": \"#4D5663\"}, \"text\": \"\"}, \"zerolinecolor\": \"#E1E5ED\"}, \"yaxis2\": {\"anchor\": \"x2\", \"domain\": [0.8025, 1.0], \"gridcolor\": \"#E1E5ED\", \"showgrid\": false, \"tickfont\": {\"color\": \"#4D5663\"}, \"title\": {\"font\": {\"color\": \"#4D5663\"}, \"text\": \"\"}, \"zerolinecolor\": \"#E1E5ED\"}, \"yaxis3\": {\"anchor\": \"x3\", \"domain\": [0.8025, 1.0], \"gridcolor\": \"#E1E5ED\", \"showgrid\": false, \"tickfont\": {\"color\": \"#4D5663\"}, \"title\": {\"font\": {\"color\": \"#4D5663\"}, \"text\": \"\"}, \"zerolinecolor\": \"#E1E5ED\"}, \"yaxis4\": {\"anchor\": \"x4\", \"domain\": [0.8025, 1.0], \"gridcolor\": \"#E1E5ED\", \"showgrid\": false, \"tickfont\": {\"color\": \"#4D5663\"}, \"title\": {\"font\": {\"color\": \"#4D5663\"}, \"text\": \"\"}, \"zerolinecolor\": \"#E1E5ED\"}, \"yaxis5\": {\"anchor\": \"x5\", \"domain\": [0.535, 0.7325], \"gridcolor\": \"#E1E5ED\", \"showgrid\": false, \"tickfont\": {\"color\": \"#4D5663\"}, \"title\": {\"font\": {\"color\": \"#4D5663\"}, \"text\": \"\"}, \"zerolinecolor\": \"#E1E5ED\"}, \"yaxis6\": {\"anchor\": \"x6\", \"domain\": [0.535, 0.7325], \"gridcolor\": \"#E1E5ED\", \"showgrid\": false, \"tickfont\": {\"color\": \"#4D5663\"}, \"title\": {\"font\": {\"color\": \"#4D5663\"}, \"text\": \"\"}, \"zerolinecolor\": \"#E1E5ED\"}, \"yaxis7\": {\"anchor\": \"x7\", \"domain\": [0.535, 0.7325], \"gridcolor\": \"#E1E5ED\", \"showgrid\": false, \"tickfont\": {\"color\": \"#4D5663\"}, \"title\": {\"font\": {\"color\": \"#4D5663\"}, \"text\": \"\"}, \"zerolinecolor\": \"#E1E5ED\"}, \"yaxis8\": {\"anchor\": \"x8\", \"domain\": [0.535, 0.7325], \"gridcolor\": \"#E1E5ED\", \"showgrid\": false, \"tickfont\": {\"color\": \"#4D5663\"}, \"title\": {\"font\": {\"color\": \"#4D5663\"}, \"text\": \"\"}, \"zerolinecolor\": \"#E1E5ED\"}, \"yaxis9\": {\"anchor\": \"x9\", \"domain\": [0.2675, 0.465], \"gridcolor\": \"#E1E5ED\", \"showgrid\": false, \"tickfont\": {\"color\": \"#4D5663\"}, \"title\": {\"font\": {\"color\": \"#4D5663\"}, \"text\": \"\"}, \"zerolinecolor\": \"#E1E5ED\"}},                        {\"showLink\": true, \"linkText\": \"Export to plot.ly\", \"plotlyServerURL\": \"https://plot.ly\", \"responsive\": true}                    ).then(function(){\n",
       "                            \n",
       "var gd = document.getElementById('686e706e-274c-4fe0-9115-450646fd3774');\n",
       "var x = new MutationObserver(function (mutations, observer) {{\n",
       "        var display = window.getComputedStyle(gd).display;\n",
       "        if (!display || display === 'none') {{\n",
       "            console.log([gd, 'removed!']);\n",
       "            Plotly.purge(gd);\n",
       "            observer.disconnect();\n",
       "        }}\n",
       "}});\n",
       "\n",
       "// Listen for the removal of the full notebook cells\n",
       "var notebookContainer = gd.closest('#notebook-container');\n",
       "if (notebookContainer) {{\n",
       "    x.observe(notebookContainer, {childList: true});\n",
       "}}\n",
       "\n",
       "// Listen for the clearing of the current output cell\n",
       "var outputEl = gd.closest('.output');\n",
       "if (outputEl) {{\n",
       "    x.observe(outputEl, {childList: true});\n",
       "}}\n",
       "\n",
       "                        })                };                });            </script>        </div>"
      ]
     },
     "metadata": {},
     "output_type": "display_data"
    }
   ],
   "source": [
    "df1 = pd.DataFrame(np.random.randn(100,4),columns='A B C D'.split())\n",
    "df1.scatter_matrix()"
   ]
  },
  {
   "cell_type": "code",
   "execution_count": 5,
   "metadata": {},
   "outputs": [
    {
     "data": {
      "application/vnd.plotly.v1+json": {
       "config": {
        "linkText": "Export to plot.ly",
        "plotlyServerURL": "https://plot.ly",
        "showLink": true
       },
       "data": [
        {
         "boxpoints": false,
         "line": {
          "width": 1.3
         },
         "marker": {
          "color": "rgba(255, 153, 51, 1.0)"
         },
         "name": "A",
         "orientation": "v",
         "type": "box",
         "y": [
          -0.1562157680506174,
          -1.4743183396492672,
          0.8174253607848009,
          -0.05071979588371249,
          -0.17883922277148764,
          -0.7651720790330793,
          -1.9212082989298684,
          -0.03291141560317541,
          -0.5285594227423575,
          0.9384209074225683,
          0.12053579898169361,
          0.3543990552464441,
          0.9451320124913716,
          -1.53988087130836,
          1.5136352333156946,
          -0.05703586377575092,
          0.42259146806383674,
          1.0422998417748681,
          -1.2137178408540257,
          -1.2228420816836125,
          -1.6842697657640595,
          0.027377407127000517,
          0.8728739125498687,
          0.400733323829508,
          1.505847690989541,
          2.4094921171123116,
          0.2733148820087171,
          0.5076476481227942,
          0.07507825527940794,
          -0.11581566818277499,
          0.10976999817561314,
          -0.33978939320778784,
          -1.3561753274383268,
          -1.6949992820005702,
          -0.754280422087886,
          -1.8561129918865145,
          -1.5137564329562165,
          1.3239455726344815,
          -1.4152415671682996,
          -1.2310175210894636,
          -0.27113953403866786,
          0.1887942979613161,
          0.39903730368135787,
          1.2007236814299214,
          -1.0492470586883644,
          -0.5756470465370982,
          0.018717093029164814,
          0.5501113954130685,
          0.45065138354598433,
          0.28147906148170476,
          -0.7434683060264415,
          -0.7943208706789614,
          -0.30386762350946966,
          -0.45647583247065754,
          -0.23521898389024445,
          -0.17132848452522814,
          -0.014256328121696454,
          0.09791316526909666,
          0.245414612705241,
          -0.5330802582890434,
          -0.10427715190051172,
          0.8834796921415421,
          0.5033126402688209,
          0.2029458473106213,
          -0.3866167986286724,
          0.4079599144327987,
          -0.5407454908949233,
          -0.47796765106536876,
          0.6494224172798504,
          0.6622646186713247,
          1.1882265481397103,
          -0.2940317882374327,
          -0.3021590900161126,
          -0.12657175971552337,
          -0.2472482143506079,
          0.27612736376591684,
          0.4324893024430906,
          -1.4166021081702316,
          -2.2678431388562865,
          -0.629088023152995,
          0.43845322337204257,
          -0.6475890613579122,
          -0.20020174052331377,
          0.42512150492803447,
          -0.3495887913897167,
          0.17347148161256432,
          -1.7668388042852021,
          0.40677727740251274,
          0.22401269790090117,
          -1.6674395980989138,
          0.2802837122534162,
          -0.60332918748744,
          0.8740083631743834,
          2.1666309669777597,
          1.454692100480719,
          0.9186070389514527,
          -1.9509274095515292,
          0.16829110283638893,
          1.2616362034346793,
          0.021057675215465234
         ]
        },
        {
         "boxpoints": false,
         "line": {
          "width": 1.3
         },
         "marker": {
          "color": "rgba(55, 128, 191, 1.0)"
         },
         "name": "B",
         "orientation": "v",
         "type": "box",
         "y": [
          0.6917213637962769,
          -0.5526143151781165,
          0.35293035890183044,
          -1.6582378868339553,
          -1.4407167644878176,
          1.0361532855145303,
          -0.019746846343731226,
          0.23779884114381963,
          -1.137075864821375,
          -1.4523685739760508,
          0.1803908472666222,
          -0.7147860463221315,
          -0.4166734236268579,
          0.619783875546229,
          -1.0369974268876478,
          -0.46665241552368353,
          -0.8891956631891681,
          0.3947293477546675,
          -1.2684798575573688,
          -1.3872662334152484,
          -0.6979495076289601,
          -2.7181451994116768,
          -0.7572163663671609,
          0.5143991930116932,
          -1.9411365050919673,
          0.06106171053000905,
          0.8176745043616885,
          -0.39254521657934427,
          0.16174214698555936,
          -0.04423418480084261,
          0.0556263390593717,
          -0.3045602029159356,
          -0.9860101085845111,
          0.8514469740880347,
          -0.0047581945490319634,
          -0.5186101610554991,
          -1.763672889966365,
          1.981057206811975,
          -1.3827577105450433,
          0.17251607959921,
          -0.1938010476816943,
          0.12573638564474687,
          -1.427358465639623,
          -0.9555619613637081,
          -0.10428451271600765,
          -0.3639492807693481,
          1.9309776228777946,
          0.6350234951198072,
          0.37106933909702366,
          0.14389227590365875,
          -1.0929147633439094,
          1.1936581105769524,
          -0.2316781125386438,
          -0.8525370395991181,
          0.7893215461711095,
          -0.4659389878225684,
          1.217287417694428,
          1.136494361623952,
          -0.3537234642329278,
          -0.356214406193524,
          -1.1182730023274297,
          0.4555210873080179,
          0.5980707553691869,
          -1.7156712739152002,
          -0.24131358563082048,
          1.0129213295531716,
          0.1939123964937125,
          1.8471201514407636,
          -1.3493632026208562,
          -0.30108048037058566,
          1.7316535342280481,
          -0.9181863423771113,
          0.2606558174697534,
          2.5014638272431124,
          -0.6952348011088254,
          -0.8020888731797848,
          -0.23842836168966505,
          1.4332399543255427,
          -0.0656106858450873,
          -1.0810510509303974,
          0.29996504613434377,
          -0.20110139444294162,
          1.544761894012792,
          -0.39743151387602754,
          1.0783986483866481,
          -0.996012645203401,
          -0.10664966517818977,
          -0.7042896624078521,
          -0.07208297710942764,
          -1.9740616766455272,
          0.2336328878300918,
          -1.1470063361444083,
          -2.0043432544146498,
          1.326962716923184,
          0.25781660739645107,
          0.1679845453619694,
          0.1277728648929808,
          -1.5541720352372053,
          2.3519070811198324,
          -0.8544479173116701
         ]
        },
        {
         "boxpoints": false,
         "line": {
          "width": 1.3
         },
         "marker": {
          "color": "rgba(50, 171, 96, 1.0)"
         },
         "name": "C",
         "orientation": "v",
         "type": "box",
         "y": [
          -0.5444613077121313,
          0.24282026732360593,
          -0.35656512999868456,
          -2.184317090998879,
          0.4426154940144032,
          0.7553842264388909,
          1.0122605994186629,
          1.3946649036822865,
          -1.4263641277884072,
          0.14523131309549792,
          1.2589967814285568,
          -1.1701291056035084,
          -0.22291421332354852,
          -0.7783359760951556,
          -1.8330502523993342,
          -0.5216242194718059,
          -0.8285984564446579,
          0.5968833149870427,
          0.43388199674110106,
          0.027405037181976764,
          0.09066924336364013,
          0.2379682288310394,
          0.37480409777208656,
          -0.6053419910021665,
          -1.4440174863694806,
          0.5356354420622844,
          -1.346479835427754,
          -0.6490992629052273,
          1.9039332137015401,
          0.7986092268817414,
          -0.40087834786147086,
          -0.271787475965091,
          1.1649924348062937,
          0.7689387268325816,
          -0.3591109184121301,
          1.2137675746082375,
          -0.30713255730349576,
          1.4538389212487566,
          0.8462977878958471,
          1.7829519620794587,
          -0.35793487328095697,
          0.37239991133007677,
          -1.107554026204563,
          -1.5299472200361113,
          -0.7501740791988809,
          -0.033203184787304864,
          -0.5553284593627191,
          -0.33994652399196645,
          -2.386641564747908,
          1.0493097498960338,
          -0.7183616105644806,
          1.084854262453599,
          -1.0123596236062506,
          2.2874964362447474,
          -0.6641966760128035,
          0.806932644923215,
          -0.3077338196668659,
          1.49338292950465,
          1.5618086513515261,
          0.2574553131048988,
          2.6052434550270798,
          0.3880348684243134,
          -0.33832993795634553,
          1.0240956944664181,
          -1.566376606714092,
          -0.3366964038743089,
          0.2849792528536192,
          0.6817258669192712,
          0.5102281551885075,
          1.4697219567832973,
          -0.6807320987207326,
          -0.22954901605262046,
          -0.37637707921768376,
          0.6922675900344075,
          0.4142276480203638,
          -1.3474509661446872,
          0.049879177379919655,
          1.4403068630729332,
          0.39491714639388786,
          0.13595348217569306,
          0.05473080369502663,
          -0.6146884123304698,
          -0.6367006986559804,
          0.030354662872443,
          -1.5969158177383382,
          1.8413870934673713,
          1.0991009172646902,
          0.1693877844650046,
          -2.2459940153558855,
          -1.6809020412225755,
          0.6602657483315182,
          -0.491770502197117,
          -0.27866439856982217,
          -0.5733843098118053,
          0.7721267554749521,
          1.3048065236016184,
          0.8675156735300564,
          -2.0281669001153695,
          0.24360773876802302,
          0.3075084140956446
         ]
        },
        {
         "boxpoints": false,
         "line": {
          "width": 1.3
         },
         "marker": {
          "color": "rgba(128, 0, 128, 1.0)"
         },
         "name": "D",
         "orientation": "v",
         "type": "box",
         "y": [
          -0.3321582334871926,
          -2.0436880414914884,
          1.6901763603945128,
          -1.3027246024372003,
          0.8329045268915205,
          0.9693927526742672,
          0.6381269659537482,
          0.7689714116791412,
          -0.4842799657344476,
          0.9492334369464868,
          1.5847645235316903,
          2.051263678428919,
          0.7631415037907674,
          1.8483505484849265,
          0.5456384224565451,
          -0.057018865516633606,
          2.450753491679219,
          0.2091946357167935,
          -0.7272729704936228,
          -0.22681087836083522,
          -1.5493706620887342,
          -0.3317849747875593,
          -0.5385657576633147,
          -0.5607043862474755,
          0.6996472211087795,
          0.29912366189131345,
          -0.27785445592382846,
          -0.3440492570984598,
          0.09803224857995489,
          -0.47355987989564796,
          0.965605675120281,
          0.279904164888264,
          -0.4897720739128254,
          0.6116238804194486,
          1.0668636873035247,
          0.20072833409905902,
          0.5590676335178563,
          0.3809650688252469,
          -1.1590360047104407,
          1.30908826432782,
          -0.18782092133261538,
          0.9401617936027297,
          -1.159798277832091,
          0.08186562540868922,
          -0.9108085225980124,
          -1.1684219358486414,
          0.019938751283946093,
          1.8064940589369523,
          0.1730971791265535,
          -0.5365484321188417,
          -1.8055142235955877,
          -1.698859385671163,
          0.43728041359384917,
          -0.20569813225914046,
          0.5855035347199206,
          1.0079529404702139,
          -0.32843179749295603,
          1.4285243026618126,
          0.5827722430290192,
          1.3225965879621964,
          1.1561621301676035,
          -1.0266396551128383,
          0.4571635813544492,
          0.9191713280485909,
          -0.42039372609890563,
          0.8730451122476843,
          1.647874233882643,
          0.2844434119935799,
          0.7138039949483197,
          -0.4297588540662532,
          -0.21200951578516913,
          -0.5684920376246261,
          -0.586525163859046,
          -0.805477185851115,
          0.9033148507825743,
          -0.49757280357037414,
          -0.4465187735775768,
          0.18859497662052685,
          -0.7605562414943484,
          -0.27571820758681925,
          1.5892609662512898,
          -0.40677461948907667,
          0.9893469610539058,
          -0.7186138050038005,
          0.31053542547631235,
          -1.005343304844573,
          0.054309179614122606,
          -0.20749947319462886,
          -0.6315889614715412,
          -1.368903978333397,
          1.586481282163813,
          0.5614815639098683,
          -0.15944185783308026,
          0.9804061933646404,
          -1.7344694764805748,
          -0.5463561118119844,
          0.6052526828890784,
          -0.3658218789741722,
          -0.10827769854984465,
          -0.11903177878804401
         ]
        }
       ],
       "layout": {
        "legend": {
         "bgcolor": "#F5F6F9",
         "font": {
          "color": "#4D5663"
         }
        },
        "paper_bgcolor": "#F5F6F9",
        "plot_bgcolor": "#F5F6F9",
        "template": {
         "data": {
          "bar": [
           {
            "error_x": {
             "color": "#2a3f5f"
            },
            "error_y": {
             "color": "#2a3f5f"
            },
            "marker": {
             "line": {
              "color": "#E5ECF6",
              "width": 0.5
             }
            },
            "type": "bar"
           }
          ],
          "barpolar": [
           {
            "marker": {
             "line": {
              "color": "#E5ECF6",
              "width": 0.5
             }
            },
            "type": "barpolar"
           }
          ],
          "carpet": [
           {
            "aaxis": {
             "endlinecolor": "#2a3f5f",
             "gridcolor": "white",
             "linecolor": "white",
             "minorgridcolor": "white",
             "startlinecolor": "#2a3f5f"
            },
            "baxis": {
             "endlinecolor": "#2a3f5f",
             "gridcolor": "white",
             "linecolor": "white",
             "minorgridcolor": "white",
             "startlinecolor": "#2a3f5f"
            },
            "type": "carpet"
           }
          ],
          "choropleth": [
           {
            "colorbar": {
             "outlinewidth": 0,
             "ticks": ""
            },
            "type": "choropleth"
           }
          ],
          "contour": [
           {
            "colorbar": {
             "outlinewidth": 0,
             "ticks": ""
            },
            "colorscale": [
             [
              0,
              "#0d0887"
             ],
             [
              0.1111111111111111,
              "#46039f"
             ],
             [
              0.2222222222222222,
              "#7201a8"
             ],
             [
              0.3333333333333333,
              "#9c179e"
             ],
             [
              0.4444444444444444,
              "#bd3786"
             ],
             [
              0.5555555555555556,
              "#d8576b"
             ],
             [
              0.6666666666666666,
              "#ed7953"
             ],
             [
              0.7777777777777778,
              "#fb9f3a"
             ],
             [
              0.8888888888888888,
              "#fdca26"
             ],
             [
              1,
              "#f0f921"
             ]
            ],
            "type": "contour"
           }
          ],
          "contourcarpet": [
           {
            "colorbar": {
             "outlinewidth": 0,
             "ticks": ""
            },
            "type": "contourcarpet"
           }
          ],
          "heatmap": [
           {
            "colorbar": {
             "outlinewidth": 0,
             "ticks": ""
            },
            "colorscale": [
             [
              0,
              "#0d0887"
             ],
             [
              0.1111111111111111,
              "#46039f"
             ],
             [
              0.2222222222222222,
              "#7201a8"
             ],
             [
              0.3333333333333333,
              "#9c179e"
             ],
             [
              0.4444444444444444,
              "#bd3786"
             ],
             [
              0.5555555555555556,
              "#d8576b"
             ],
             [
              0.6666666666666666,
              "#ed7953"
             ],
             [
              0.7777777777777778,
              "#fb9f3a"
             ],
             [
              0.8888888888888888,
              "#fdca26"
             ],
             [
              1,
              "#f0f921"
             ]
            ],
            "type": "heatmap"
           }
          ],
          "heatmapgl": [
           {
            "colorbar": {
             "outlinewidth": 0,
             "ticks": ""
            },
            "colorscale": [
             [
              0,
              "#0d0887"
             ],
             [
              0.1111111111111111,
              "#46039f"
             ],
             [
              0.2222222222222222,
              "#7201a8"
             ],
             [
              0.3333333333333333,
              "#9c179e"
             ],
             [
              0.4444444444444444,
              "#bd3786"
             ],
             [
              0.5555555555555556,
              "#d8576b"
             ],
             [
              0.6666666666666666,
              "#ed7953"
             ],
             [
              0.7777777777777778,
              "#fb9f3a"
             ],
             [
              0.8888888888888888,
              "#fdca26"
             ],
             [
              1,
              "#f0f921"
             ]
            ],
            "type": "heatmapgl"
           }
          ],
          "histogram": [
           {
            "marker": {
             "colorbar": {
              "outlinewidth": 0,
              "ticks": ""
             }
            },
            "type": "histogram"
           }
          ],
          "histogram2d": [
           {
            "colorbar": {
             "outlinewidth": 0,
             "ticks": ""
            },
            "colorscale": [
             [
              0,
              "#0d0887"
             ],
             [
              0.1111111111111111,
              "#46039f"
             ],
             [
              0.2222222222222222,
              "#7201a8"
             ],
             [
              0.3333333333333333,
              "#9c179e"
             ],
             [
              0.4444444444444444,
              "#bd3786"
             ],
             [
              0.5555555555555556,
              "#d8576b"
             ],
             [
              0.6666666666666666,
              "#ed7953"
             ],
             [
              0.7777777777777778,
              "#fb9f3a"
             ],
             [
              0.8888888888888888,
              "#fdca26"
             ],
             [
              1,
              "#f0f921"
             ]
            ],
            "type": "histogram2d"
           }
          ],
          "histogram2dcontour": [
           {
            "colorbar": {
             "outlinewidth": 0,
             "ticks": ""
            },
            "colorscale": [
             [
              0,
              "#0d0887"
             ],
             [
              0.1111111111111111,
              "#46039f"
             ],
             [
              0.2222222222222222,
              "#7201a8"
             ],
             [
              0.3333333333333333,
              "#9c179e"
             ],
             [
              0.4444444444444444,
              "#bd3786"
             ],
             [
              0.5555555555555556,
              "#d8576b"
             ],
             [
              0.6666666666666666,
              "#ed7953"
             ],
             [
              0.7777777777777778,
              "#fb9f3a"
             ],
             [
              0.8888888888888888,
              "#fdca26"
             ],
             [
              1,
              "#f0f921"
             ]
            ],
            "type": "histogram2dcontour"
           }
          ],
          "mesh3d": [
           {
            "colorbar": {
             "outlinewidth": 0,
             "ticks": ""
            },
            "type": "mesh3d"
           }
          ],
          "parcoords": [
           {
            "line": {
             "colorbar": {
              "outlinewidth": 0,
              "ticks": ""
             }
            },
            "type": "parcoords"
           }
          ],
          "pie": [
           {
            "automargin": true,
            "type": "pie"
           }
          ],
          "scatter": [
           {
            "marker": {
             "colorbar": {
              "outlinewidth": 0,
              "ticks": ""
             }
            },
            "type": "scatter"
           }
          ],
          "scatter3d": [
           {
            "line": {
             "colorbar": {
              "outlinewidth": 0,
              "ticks": ""
             }
            },
            "marker": {
             "colorbar": {
              "outlinewidth": 0,
              "ticks": ""
             }
            },
            "type": "scatter3d"
           }
          ],
          "scattercarpet": [
           {
            "marker": {
             "colorbar": {
              "outlinewidth": 0,
              "ticks": ""
             }
            },
            "type": "scattercarpet"
           }
          ],
          "scattergeo": [
           {
            "marker": {
             "colorbar": {
              "outlinewidth": 0,
              "ticks": ""
             }
            },
            "type": "scattergeo"
           }
          ],
          "scattergl": [
           {
            "marker": {
             "colorbar": {
              "outlinewidth": 0,
              "ticks": ""
             }
            },
            "type": "scattergl"
           }
          ],
          "scattermapbox": [
           {
            "marker": {
             "colorbar": {
              "outlinewidth": 0,
              "ticks": ""
             }
            },
            "type": "scattermapbox"
           }
          ],
          "scatterpolar": [
           {
            "marker": {
             "colorbar": {
              "outlinewidth": 0,
              "ticks": ""
             }
            },
            "type": "scatterpolar"
           }
          ],
          "scatterpolargl": [
           {
            "marker": {
             "colorbar": {
              "outlinewidth": 0,
              "ticks": ""
             }
            },
            "type": "scatterpolargl"
           }
          ],
          "scatterternary": [
           {
            "marker": {
             "colorbar": {
              "outlinewidth": 0,
              "ticks": ""
             }
            },
            "type": "scatterternary"
           }
          ],
          "surface": [
           {
            "colorbar": {
             "outlinewidth": 0,
             "ticks": ""
            },
            "colorscale": [
             [
              0,
              "#0d0887"
             ],
             [
              0.1111111111111111,
              "#46039f"
             ],
             [
              0.2222222222222222,
              "#7201a8"
             ],
             [
              0.3333333333333333,
              "#9c179e"
             ],
             [
              0.4444444444444444,
              "#bd3786"
             ],
             [
              0.5555555555555556,
              "#d8576b"
             ],
             [
              0.6666666666666666,
              "#ed7953"
             ],
             [
              0.7777777777777778,
              "#fb9f3a"
             ],
             [
              0.8888888888888888,
              "#fdca26"
             ],
             [
              1,
              "#f0f921"
             ]
            ],
            "type": "surface"
           }
          ],
          "table": [
           {
            "cells": {
             "fill": {
              "color": "#EBF0F8"
             },
             "line": {
              "color": "white"
             }
            },
            "header": {
             "fill": {
              "color": "#C8D4E3"
             },
             "line": {
              "color": "white"
             }
            },
            "type": "table"
           }
          ]
         },
         "layout": {
          "annotationdefaults": {
           "arrowcolor": "#2a3f5f",
           "arrowhead": 0,
           "arrowwidth": 1
          },
          "autotypenumbers": "strict",
          "coloraxis": {
           "colorbar": {
            "outlinewidth": 0,
            "ticks": ""
           }
          },
          "colorscale": {
           "diverging": [
            [
             0,
             "#8e0152"
            ],
            [
             0.1,
             "#c51b7d"
            ],
            [
             0.2,
             "#de77ae"
            ],
            [
             0.3,
             "#f1b6da"
            ],
            [
             0.4,
             "#fde0ef"
            ],
            [
             0.5,
             "#f7f7f7"
            ],
            [
             0.6,
             "#e6f5d0"
            ],
            [
             0.7,
             "#b8e186"
            ],
            [
             0.8,
             "#7fbc41"
            ],
            [
             0.9,
             "#4d9221"
            ],
            [
             1,
             "#276419"
            ]
           ],
           "sequential": [
            [
             0,
             "#0d0887"
            ],
            [
             0.1111111111111111,
             "#46039f"
            ],
            [
             0.2222222222222222,
             "#7201a8"
            ],
            [
             0.3333333333333333,
             "#9c179e"
            ],
            [
             0.4444444444444444,
             "#bd3786"
            ],
            [
             0.5555555555555556,
             "#d8576b"
            ],
            [
             0.6666666666666666,
             "#ed7953"
            ],
            [
             0.7777777777777778,
             "#fb9f3a"
            ],
            [
             0.8888888888888888,
             "#fdca26"
            ],
            [
             1,
             "#f0f921"
            ]
           ],
           "sequentialminus": [
            [
             0,
             "#0d0887"
            ],
            [
             0.1111111111111111,
             "#46039f"
            ],
            [
             0.2222222222222222,
             "#7201a8"
            ],
            [
             0.3333333333333333,
             "#9c179e"
            ],
            [
             0.4444444444444444,
             "#bd3786"
            ],
            [
             0.5555555555555556,
             "#d8576b"
            ],
            [
             0.6666666666666666,
             "#ed7953"
            ],
            [
             0.7777777777777778,
             "#fb9f3a"
            ],
            [
             0.8888888888888888,
             "#fdca26"
            ],
            [
             1,
             "#f0f921"
            ]
           ]
          },
          "colorway": [
           "#636efa",
           "#EF553B",
           "#00cc96",
           "#ab63fa",
           "#FFA15A",
           "#19d3f3",
           "#FF6692",
           "#B6E880",
           "#FF97FF",
           "#FECB52"
          ],
          "font": {
           "color": "#2a3f5f"
          },
          "geo": {
           "bgcolor": "white",
           "lakecolor": "white",
           "landcolor": "#E5ECF6",
           "showlakes": true,
           "showland": true,
           "subunitcolor": "white"
          },
          "hoverlabel": {
           "align": "left"
          },
          "hovermode": "closest",
          "mapbox": {
           "style": "light"
          },
          "paper_bgcolor": "white",
          "plot_bgcolor": "#E5ECF6",
          "polar": {
           "angularaxis": {
            "gridcolor": "white",
            "linecolor": "white",
            "ticks": ""
           },
           "bgcolor": "#E5ECF6",
           "radialaxis": {
            "gridcolor": "white",
            "linecolor": "white",
            "ticks": ""
           }
          },
          "scene": {
           "xaxis": {
            "backgroundcolor": "#E5ECF6",
            "gridcolor": "white",
            "gridwidth": 2,
            "linecolor": "white",
            "showbackground": true,
            "ticks": "",
            "zerolinecolor": "white"
           },
           "yaxis": {
            "backgroundcolor": "#E5ECF6",
            "gridcolor": "white",
            "gridwidth": 2,
            "linecolor": "white",
            "showbackground": true,
            "ticks": "",
            "zerolinecolor": "white"
           },
           "zaxis": {
            "backgroundcolor": "#E5ECF6",
            "gridcolor": "white",
            "gridwidth": 2,
            "linecolor": "white",
            "showbackground": true,
            "ticks": "",
            "zerolinecolor": "white"
           }
          },
          "shapedefaults": {
           "line": {
            "color": "#2a3f5f"
           }
          },
          "ternary": {
           "aaxis": {
            "gridcolor": "white",
            "linecolor": "white",
            "ticks": ""
           },
           "baxis": {
            "gridcolor": "white",
            "linecolor": "white",
            "ticks": ""
           },
           "bgcolor": "#E5ECF6",
           "caxis": {
            "gridcolor": "white",
            "linecolor": "white",
            "ticks": ""
           }
          },
          "title": {
           "x": 0.05
          },
          "xaxis": {
           "automargin": true,
           "gridcolor": "white",
           "linecolor": "white",
           "ticks": "",
           "title": {
            "standoff": 15
           },
           "zerolinecolor": "white",
           "zerolinewidth": 2
          },
          "yaxis": {
           "automargin": true,
           "gridcolor": "white",
           "linecolor": "white",
           "ticks": "",
           "title": {
            "standoff": 15
           },
           "zerolinecolor": "white",
           "zerolinewidth": 2
          }
         }
        },
        "title": {
         "font": {
          "color": "#4D5663"
         }
        },
        "xaxis": {
         "gridcolor": "#E1E5ED",
         "showgrid": true,
         "tickfont": {
          "color": "#4D5663"
         },
         "title": {
          "font": {
           "color": "#4D5663"
          },
          "text": ""
         },
         "zerolinecolor": "#E1E5ED"
        },
        "yaxis": {
         "gridcolor": "#E1E5ED",
         "showgrid": true,
         "tickfont": {
          "color": "#4D5663"
         },
         "title": {
          "font": {
           "color": "#4D5663"
          },
          "text": ""
         },
         "zerolinecolor": "#E1E5ED"
        }
       }
      },
      "text/html": [
       "<div>                            <div id=\"6407183c-a332-463f-a04e-58ebddff966b\" class=\"plotly-graph-div\" style=\"height:525px; width:100%;\"></div>            <script type=\"text/javascript\">                require([\"plotly\"], function(Plotly) {                    window.PLOTLYENV=window.PLOTLYENV || {};\n",
       "                    window.PLOTLYENV.BASE_URL='https://plot.ly';                                    if (document.getElementById(\"6407183c-a332-463f-a04e-58ebddff966b\")) {                    Plotly.newPlot(                        \"6407183c-a332-463f-a04e-58ebddff966b\",                        [{\"boxpoints\": false, \"line\": {\"width\": 1.3}, \"marker\": {\"color\": \"rgba(255, 153, 51, 1.0)\"}, \"name\": \"A\", \"orientation\": \"v\", \"type\": \"box\", \"y\": [-0.1562157680506174, -1.4743183396492672, 0.8174253607848009, -0.05071979588371249, -0.17883922277148764, -0.7651720790330793, -1.9212082989298684, -0.03291141560317541, -0.5285594227423575, 0.9384209074225683, 0.12053579898169361, 0.3543990552464441, 0.9451320124913716, -1.53988087130836, 1.5136352333156946, -0.05703586377575092, 0.42259146806383674, 1.0422998417748681, -1.2137178408540257, -1.2228420816836125, -1.6842697657640595, 0.027377407127000517, 0.8728739125498687, 0.400733323829508, 1.505847690989541, 2.4094921171123116, 0.2733148820087171, 0.5076476481227942, 0.07507825527940794, -0.11581566818277499, 0.10976999817561314, -0.33978939320778784, -1.3561753274383268, -1.6949992820005702, -0.754280422087886, -1.8561129918865145, -1.5137564329562165, 1.3239455726344815, -1.4152415671682996, -1.2310175210894636, -0.27113953403866786, 0.1887942979613161, 0.39903730368135787, 1.2007236814299214, -1.0492470586883644, -0.5756470465370982, 0.018717093029164814, 0.5501113954130685, 0.45065138354598433, 0.28147906148170476, -0.7434683060264415, -0.7943208706789614, -0.30386762350946966, -0.45647583247065754, -0.23521898389024445, -0.17132848452522814, -0.014256328121696454, 0.09791316526909666, 0.245414612705241, -0.5330802582890434, -0.10427715190051172, 0.8834796921415421, 0.5033126402688209, 0.2029458473106213, -0.3866167986286724, 0.4079599144327987, -0.5407454908949233, -0.47796765106536876, 0.6494224172798504, 0.6622646186713247, 1.1882265481397103, -0.2940317882374327, -0.3021590900161126, -0.12657175971552337, -0.2472482143506079, 0.27612736376591684, 0.4324893024430906, -1.4166021081702316, -2.2678431388562865, -0.629088023152995, 0.43845322337204257, -0.6475890613579122, -0.20020174052331377, 0.42512150492803447, -0.3495887913897167, 0.17347148161256432, -1.7668388042852021, 0.40677727740251274, 0.22401269790090117, -1.6674395980989138, 0.2802837122534162, -0.60332918748744, 0.8740083631743834, 2.1666309669777597, 1.454692100480719, 0.9186070389514527, -1.9509274095515292, 0.16829110283638893, 1.2616362034346793, 0.021057675215465234]}, {\"boxpoints\": false, \"line\": {\"width\": 1.3}, \"marker\": {\"color\": \"rgba(55, 128, 191, 1.0)\"}, \"name\": \"B\", \"orientation\": \"v\", \"type\": \"box\", \"y\": [0.6917213637962769, -0.5526143151781165, 0.35293035890183044, -1.6582378868339553, -1.4407167644878176, 1.0361532855145303, -0.019746846343731226, 0.23779884114381963, -1.137075864821375, -1.4523685739760508, 0.1803908472666222, -0.7147860463221315, -0.4166734236268579, 0.619783875546229, -1.0369974268876478, -0.46665241552368353, -0.8891956631891681, 0.3947293477546675, -1.2684798575573688, -1.3872662334152484, -0.6979495076289601, -2.7181451994116768, -0.7572163663671609, 0.5143991930116932, -1.9411365050919673, 0.06106171053000905, 0.8176745043616885, -0.39254521657934427, 0.16174214698555936, -0.04423418480084261, 0.0556263390593717, -0.3045602029159356, -0.9860101085845111, 0.8514469740880347, -0.0047581945490319634, -0.5186101610554991, -1.763672889966365, 1.981057206811975, -1.3827577105450433, 0.17251607959921, -0.1938010476816943, 0.12573638564474687, -1.427358465639623, -0.9555619613637081, -0.10428451271600765, -0.3639492807693481, 1.9309776228777946, 0.6350234951198072, 0.37106933909702366, 0.14389227590365875, -1.0929147633439094, 1.1936581105769524, -0.2316781125386438, -0.8525370395991181, 0.7893215461711095, -0.4659389878225684, 1.217287417694428, 1.136494361623952, -0.3537234642329278, -0.356214406193524, -1.1182730023274297, 0.4555210873080179, 0.5980707553691869, -1.7156712739152002, -0.24131358563082048, 1.0129213295531716, 0.1939123964937125, 1.8471201514407636, -1.3493632026208562, -0.30108048037058566, 1.7316535342280481, -0.9181863423771113, 0.2606558174697534, 2.5014638272431124, -0.6952348011088254, -0.8020888731797848, -0.23842836168966505, 1.4332399543255427, -0.0656106858450873, -1.0810510509303974, 0.29996504613434377, -0.20110139444294162, 1.544761894012792, -0.39743151387602754, 1.0783986483866481, -0.996012645203401, -0.10664966517818977, -0.7042896624078521, -0.07208297710942764, -1.9740616766455272, 0.2336328878300918, -1.1470063361444083, -2.0043432544146498, 1.326962716923184, 0.25781660739645107, 0.1679845453619694, 0.1277728648929808, -1.5541720352372053, 2.3519070811198324, -0.8544479173116701]}, {\"boxpoints\": false, \"line\": {\"width\": 1.3}, \"marker\": {\"color\": \"rgba(50, 171, 96, 1.0)\"}, \"name\": \"C\", \"orientation\": \"v\", \"type\": \"box\", \"y\": [-0.5444613077121313, 0.24282026732360593, -0.35656512999868456, -2.184317090998879, 0.4426154940144032, 0.7553842264388909, 1.0122605994186629, 1.3946649036822865, -1.4263641277884072, 0.14523131309549792, 1.2589967814285568, -1.1701291056035084, -0.22291421332354852, -0.7783359760951556, -1.8330502523993342, -0.5216242194718059, -0.8285984564446579, 0.5968833149870427, 0.43388199674110106, 0.027405037181976764, 0.09066924336364013, 0.2379682288310394, 0.37480409777208656, -0.6053419910021665, -1.4440174863694806, 0.5356354420622844, -1.346479835427754, -0.6490992629052273, 1.9039332137015401, 0.7986092268817414, -0.40087834786147086, -0.271787475965091, 1.1649924348062937, 0.7689387268325816, -0.3591109184121301, 1.2137675746082375, -0.30713255730349576, 1.4538389212487566, 0.8462977878958471, 1.7829519620794587, -0.35793487328095697, 0.37239991133007677, -1.107554026204563, -1.5299472200361113, -0.7501740791988809, -0.033203184787304864, -0.5553284593627191, -0.33994652399196645, -2.386641564747908, 1.0493097498960338, -0.7183616105644806, 1.084854262453599, -1.0123596236062506, 2.2874964362447474, -0.6641966760128035, 0.806932644923215, -0.3077338196668659, 1.49338292950465, 1.5618086513515261, 0.2574553131048988, 2.6052434550270798, 0.3880348684243134, -0.33832993795634553, 1.0240956944664181, -1.566376606714092, -0.3366964038743089, 0.2849792528536192, 0.6817258669192712, 0.5102281551885075, 1.4697219567832973, -0.6807320987207326, -0.22954901605262046, -0.37637707921768376, 0.6922675900344075, 0.4142276480203638, -1.3474509661446872, 0.049879177379919655, 1.4403068630729332, 0.39491714639388786, 0.13595348217569306, 0.05473080369502663, -0.6146884123304698, -0.6367006986559804, 0.030354662872443, -1.5969158177383382, 1.8413870934673713, 1.0991009172646902, 0.1693877844650046, -2.2459940153558855, -1.6809020412225755, 0.6602657483315182, -0.491770502197117, -0.27866439856982217, -0.5733843098118053, 0.7721267554749521, 1.3048065236016184, 0.8675156735300564, -2.0281669001153695, 0.24360773876802302, 0.3075084140956446]}, {\"boxpoints\": false, \"line\": {\"width\": 1.3}, \"marker\": {\"color\": \"rgba(128, 0, 128, 1.0)\"}, \"name\": \"D\", \"orientation\": \"v\", \"type\": \"box\", \"y\": [-0.3321582334871926, -2.0436880414914884, 1.6901763603945128, -1.3027246024372003, 0.8329045268915205, 0.9693927526742672, 0.6381269659537482, 0.7689714116791412, -0.4842799657344476, 0.9492334369464868, 1.5847645235316903, 2.051263678428919, 0.7631415037907674, 1.8483505484849265, 0.5456384224565451, -0.057018865516633606, 2.450753491679219, 0.2091946357167935, -0.7272729704936228, -0.22681087836083522, -1.5493706620887342, -0.3317849747875593, -0.5385657576633147, -0.5607043862474755, 0.6996472211087795, 0.29912366189131345, -0.27785445592382846, -0.3440492570984598, 0.09803224857995489, -0.47355987989564796, 0.965605675120281, 0.279904164888264, -0.4897720739128254, 0.6116238804194486, 1.0668636873035247, 0.20072833409905902, 0.5590676335178563, 0.3809650688252469, -1.1590360047104407, 1.30908826432782, -0.18782092133261538, 0.9401617936027297, -1.159798277832091, 0.08186562540868922, -0.9108085225980124, -1.1684219358486414, 0.019938751283946093, 1.8064940589369523, 0.1730971791265535, -0.5365484321188417, -1.8055142235955877, -1.698859385671163, 0.43728041359384917, -0.20569813225914046, 0.5855035347199206, 1.0079529404702139, -0.32843179749295603, 1.4285243026618126, 0.5827722430290192, 1.3225965879621964, 1.1561621301676035, -1.0266396551128383, 0.4571635813544492, 0.9191713280485909, -0.42039372609890563, 0.8730451122476843, 1.647874233882643, 0.2844434119935799, 0.7138039949483197, -0.4297588540662532, -0.21200951578516913, -0.5684920376246261, -0.586525163859046, -0.805477185851115, 0.9033148507825743, -0.49757280357037414, -0.4465187735775768, 0.18859497662052685, -0.7605562414943484, -0.27571820758681925, 1.5892609662512898, -0.40677461948907667, 0.9893469610539058, -0.7186138050038005, 0.31053542547631235, -1.005343304844573, 0.054309179614122606, -0.20749947319462886, -0.6315889614715412, -1.368903978333397, 1.586481282163813, 0.5614815639098683, -0.15944185783308026, 0.9804061933646404, -1.7344694764805748, -0.5463561118119844, 0.6052526828890784, -0.3658218789741722, -0.10827769854984465, -0.11903177878804401]}],                        {\"legend\": {\"bgcolor\": \"#F5F6F9\", \"font\": {\"color\": \"#4D5663\"}}, \"paper_bgcolor\": \"#F5F6F9\", \"plot_bgcolor\": \"#F5F6F9\", \"template\": {\"data\": {\"bar\": [{\"error_x\": {\"color\": \"#2a3f5f\"}, \"error_y\": {\"color\": \"#2a3f5f\"}, \"marker\": {\"line\": {\"color\": \"#E5ECF6\", \"width\": 0.5}}, \"type\": \"bar\"}], \"barpolar\": [{\"marker\": {\"line\": {\"color\": \"#E5ECF6\", \"width\": 0.5}}, \"type\": \"barpolar\"}], \"carpet\": [{\"aaxis\": {\"endlinecolor\": \"#2a3f5f\", \"gridcolor\": \"white\", \"linecolor\": \"white\", \"minorgridcolor\": \"white\", \"startlinecolor\": \"#2a3f5f\"}, \"baxis\": {\"endlinecolor\": \"#2a3f5f\", \"gridcolor\": \"white\", \"linecolor\": \"white\", \"minorgridcolor\": \"white\", \"startlinecolor\": \"#2a3f5f\"}, \"type\": \"carpet\"}], \"choropleth\": [{\"colorbar\": {\"outlinewidth\": 0, \"ticks\": \"\"}, \"type\": \"choropleth\"}], \"contour\": [{\"colorbar\": {\"outlinewidth\": 0, \"ticks\": \"\"}, \"colorscale\": [[0.0, \"#0d0887\"], [0.1111111111111111, \"#46039f\"], [0.2222222222222222, \"#7201a8\"], [0.3333333333333333, \"#9c179e\"], [0.4444444444444444, \"#bd3786\"], [0.5555555555555556, \"#d8576b\"], [0.6666666666666666, \"#ed7953\"], [0.7777777777777778, \"#fb9f3a\"], [0.8888888888888888, \"#fdca26\"], [1.0, \"#f0f921\"]], \"type\": \"contour\"}], \"contourcarpet\": [{\"colorbar\": {\"outlinewidth\": 0, \"ticks\": \"\"}, \"type\": \"contourcarpet\"}], \"heatmap\": [{\"colorbar\": {\"outlinewidth\": 0, \"ticks\": \"\"}, \"colorscale\": [[0.0, \"#0d0887\"], [0.1111111111111111, \"#46039f\"], [0.2222222222222222, \"#7201a8\"], [0.3333333333333333, \"#9c179e\"], [0.4444444444444444, \"#bd3786\"], [0.5555555555555556, \"#d8576b\"], [0.6666666666666666, \"#ed7953\"], [0.7777777777777778, \"#fb9f3a\"], [0.8888888888888888, \"#fdca26\"], [1.0, \"#f0f921\"]], \"type\": \"heatmap\"}], \"heatmapgl\": [{\"colorbar\": {\"outlinewidth\": 0, \"ticks\": \"\"}, \"colorscale\": [[0.0, \"#0d0887\"], [0.1111111111111111, \"#46039f\"], [0.2222222222222222, \"#7201a8\"], [0.3333333333333333, \"#9c179e\"], [0.4444444444444444, \"#bd3786\"], [0.5555555555555556, \"#d8576b\"], [0.6666666666666666, \"#ed7953\"], [0.7777777777777778, \"#fb9f3a\"], [0.8888888888888888, \"#fdca26\"], [1.0, \"#f0f921\"]], \"type\": \"heatmapgl\"}], \"histogram\": [{\"marker\": {\"colorbar\": {\"outlinewidth\": 0, \"ticks\": \"\"}}, \"type\": \"histogram\"}], \"histogram2d\": [{\"colorbar\": {\"outlinewidth\": 0, \"ticks\": \"\"}, \"colorscale\": [[0.0, \"#0d0887\"], [0.1111111111111111, \"#46039f\"], [0.2222222222222222, \"#7201a8\"], [0.3333333333333333, \"#9c179e\"], [0.4444444444444444, \"#bd3786\"], [0.5555555555555556, \"#d8576b\"], [0.6666666666666666, \"#ed7953\"], [0.7777777777777778, \"#fb9f3a\"], [0.8888888888888888, \"#fdca26\"], [1.0, \"#f0f921\"]], \"type\": \"histogram2d\"}], \"histogram2dcontour\": [{\"colorbar\": {\"outlinewidth\": 0, \"ticks\": \"\"}, \"colorscale\": [[0.0, \"#0d0887\"], [0.1111111111111111, \"#46039f\"], [0.2222222222222222, \"#7201a8\"], [0.3333333333333333, \"#9c179e\"], [0.4444444444444444, \"#bd3786\"], [0.5555555555555556, \"#d8576b\"], [0.6666666666666666, \"#ed7953\"], [0.7777777777777778, \"#fb9f3a\"], [0.8888888888888888, \"#fdca26\"], [1.0, \"#f0f921\"]], \"type\": \"histogram2dcontour\"}], \"mesh3d\": [{\"colorbar\": {\"outlinewidth\": 0, \"ticks\": \"\"}, \"type\": \"mesh3d\"}], \"parcoords\": [{\"line\": {\"colorbar\": {\"outlinewidth\": 0, \"ticks\": \"\"}}, \"type\": \"parcoords\"}], \"pie\": [{\"automargin\": true, \"type\": \"pie\"}], \"scatter\": [{\"marker\": {\"colorbar\": {\"outlinewidth\": 0, \"ticks\": \"\"}}, \"type\": \"scatter\"}], \"scatter3d\": [{\"line\": {\"colorbar\": {\"outlinewidth\": 0, \"ticks\": \"\"}}, \"marker\": {\"colorbar\": {\"outlinewidth\": 0, \"ticks\": \"\"}}, \"type\": \"scatter3d\"}], \"scattercarpet\": [{\"marker\": {\"colorbar\": {\"outlinewidth\": 0, \"ticks\": \"\"}}, \"type\": \"scattercarpet\"}], \"scattergeo\": [{\"marker\": {\"colorbar\": {\"outlinewidth\": 0, \"ticks\": \"\"}}, \"type\": \"scattergeo\"}], \"scattergl\": [{\"marker\": {\"colorbar\": {\"outlinewidth\": 0, \"ticks\": \"\"}}, \"type\": \"scattergl\"}], \"scattermapbox\": [{\"marker\": {\"colorbar\": {\"outlinewidth\": 0, \"ticks\": \"\"}}, \"type\": \"scattermapbox\"}], \"scatterpolar\": [{\"marker\": {\"colorbar\": {\"outlinewidth\": 0, \"ticks\": \"\"}}, \"type\": \"scatterpolar\"}], \"scatterpolargl\": [{\"marker\": {\"colorbar\": {\"outlinewidth\": 0, \"ticks\": \"\"}}, \"type\": \"scatterpolargl\"}], \"scatterternary\": [{\"marker\": {\"colorbar\": {\"outlinewidth\": 0, \"ticks\": \"\"}}, \"type\": \"scatterternary\"}], \"surface\": [{\"colorbar\": {\"outlinewidth\": 0, \"ticks\": \"\"}, \"colorscale\": [[0.0, \"#0d0887\"], [0.1111111111111111, \"#46039f\"], [0.2222222222222222, \"#7201a8\"], [0.3333333333333333, \"#9c179e\"], [0.4444444444444444, \"#bd3786\"], [0.5555555555555556, \"#d8576b\"], [0.6666666666666666, \"#ed7953\"], [0.7777777777777778, \"#fb9f3a\"], [0.8888888888888888, \"#fdca26\"], [1.0, \"#f0f921\"]], \"type\": \"surface\"}], \"table\": [{\"cells\": {\"fill\": {\"color\": \"#EBF0F8\"}, \"line\": {\"color\": \"white\"}}, \"header\": {\"fill\": {\"color\": \"#C8D4E3\"}, \"line\": {\"color\": \"white\"}}, \"type\": \"table\"}]}, \"layout\": {\"annotationdefaults\": {\"arrowcolor\": \"#2a3f5f\", \"arrowhead\": 0, \"arrowwidth\": 1}, \"autotypenumbers\": \"strict\", \"coloraxis\": {\"colorbar\": {\"outlinewidth\": 0, \"ticks\": \"\"}}, \"colorscale\": {\"diverging\": [[0, \"#8e0152\"], [0.1, \"#c51b7d\"], [0.2, \"#de77ae\"], [0.3, \"#f1b6da\"], [0.4, \"#fde0ef\"], [0.5, \"#f7f7f7\"], [0.6, \"#e6f5d0\"], [0.7, \"#b8e186\"], [0.8, \"#7fbc41\"], [0.9, \"#4d9221\"], [1, \"#276419\"]], \"sequential\": [[0.0, \"#0d0887\"], [0.1111111111111111, \"#46039f\"], [0.2222222222222222, \"#7201a8\"], [0.3333333333333333, \"#9c179e\"], [0.4444444444444444, \"#bd3786\"], [0.5555555555555556, \"#d8576b\"], [0.6666666666666666, \"#ed7953\"], [0.7777777777777778, \"#fb9f3a\"], [0.8888888888888888, \"#fdca26\"], [1.0, \"#f0f921\"]], \"sequentialminus\": [[0.0, \"#0d0887\"], [0.1111111111111111, \"#46039f\"], [0.2222222222222222, \"#7201a8\"], [0.3333333333333333, \"#9c179e\"], [0.4444444444444444, \"#bd3786\"], [0.5555555555555556, \"#d8576b\"], [0.6666666666666666, \"#ed7953\"], [0.7777777777777778, \"#fb9f3a\"], [0.8888888888888888, \"#fdca26\"], [1.0, \"#f0f921\"]]}, \"colorway\": [\"#636efa\", \"#EF553B\", \"#00cc96\", \"#ab63fa\", \"#FFA15A\", \"#19d3f3\", \"#FF6692\", \"#B6E880\", \"#FF97FF\", \"#FECB52\"], \"font\": {\"color\": \"#2a3f5f\"}, \"geo\": {\"bgcolor\": \"white\", \"lakecolor\": \"white\", \"landcolor\": \"#E5ECF6\", \"showlakes\": true, \"showland\": true, \"subunitcolor\": \"white\"}, \"hoverlabel\": {\"align\": \"left\"}, \"hovermode\": \"closest\", \"mapbox\": {\"style\": \"light\"}, \"paper_bgcolor\": \"white\", \"plot_bgcolor\": \"#E5ECF6\", \"polar\": {\"angularaxis\": {\"gridcolor\": \"white\", \"linecolor\": \"white\", \"ticks\": \"\"}, \"bgcolor\": \"#E5ECF6\", \"radialaxis\": {\"gridcolor\": \"white\", \"linecolor\": \"white\", \"ticks\": \"\"}}, \"scene\": {\"xaxis\": {\"backgroundcolor\": \"#E5ECF6\", \"gridcolor\": \"white\", \"gridwidth\": 2, \"linecolor\": \"white\", \"showbackground\": true, \"ticks\": \"\", \"zerolinecolor\": \"white\"}, \"yaxis\": {\"backgroundcolor\": \"#E5ECF6\", \"gridcolor\": \"white\", \"gridwidth\": 2, \"linecolor\": \"white\", \"showbackground\": true, \"ticks\": \"\", \"zerolinecolor\": \"white\"}, \"zaxis\": {\"backgroundcolor\": \"#E5ECF6\", \"gridcolor\": \"white\", \"gridwidth\": 2, \"linecolor\": \"white\", \"showbackground\": true, \"ticks\": \"\", \"zerolinecolor\": \"white\"}}, \"shapedefaults\": {\"line\": {\"color\": \"#2a3f5f\"}}, \"ternary\": {\"aaxis\": {\"gridcolor\": \"white\", \"linecolor\": \"white\", \"ticks\": \"\"}, \"baxis\": {\"gridcolor\": \"white\", \"linecolor\": \"white\", \"ticks\": \"\"}, \"bgcolor\": \"#E5ECF6\", \"caxis\": {\"gridcolor\": \"white\", \"linecolor\": \"white\", \"ticks\": \"\"}}, \"title\": {\"x\": 0.05}, \"xaxis\": {\"automargin\": true, \"gridcolor\": \"white\", \"linecolor\": \"white\", \"ticks\": \"\", \"title\": {\"standoff\": 15}, \"zerolinecolor\": \"white\", \"zerolinewidth\": 2}, \"yaxis\": {\"automargin\": true, \"gridcolor\": \"white\", \"linecolor\": \"white\", \"ticks\": \"\", \"title\": {\"standoff\": 15}, \"zerolinecolor\": \"white\", \"zerolinewidth\": 2}}}, \"title\": {\"font\": {\"color\": \"#4D5663\"}}, \"xaxis\": {\"gridcolor\": \"#E1E5ED\", \"showgrid\": true, \"tickfont\": {\"color\": \"#4D5663\"}, \"title\": {\"font\": {\"color\": \"#4D5663\"}, \"text\": \"\"}, \"zerolinecolor\": \"#E1E5ED\"}, \"yaxis\": {\"gridcolor\": \"#E1E5ED\", \"showgrid\": true, \"tickfont\": {\"color\": \"#4D5663\"}, \"title\": {\"font\": {\"color\": \"#4D5663\"}, \"text\": \"\"}, \"zerolinecolor\": \"#E1E5ED\"}},                        {\"showLink\": true, \"linkText\": \"Export to plot.ly\", \"plotlyServerURL\": \"https://plot.ly\", \"responsive\": true}                    ).then(function(){\n",
       "                            \n",
       "var gd = document.getElementById('6407183c-a332-463f-a04e-58ebddff966b');\n",
       "var x = new MutationObserver(function (mutations, observer) {{\n",
       "        var display = window.getComputedStyle(gd).display;\n",
       "        if (!display || display === 'none') {{\n",
       "            console.log([gd, 'removed!']);\n",
       "            Plotly.purge(gd);\n",
       "            observer.disconnect();\n",
       "        }}\n",
       "}});\n",
       "\n",
       "// Listen for the removal of the full notebook cells\n",
       "var notebookContainer = gd.closest('#notebook-container');\n",
       "if (notebookContainer) {{\n",
       "    x.observe(notebookContainer, {childList: true});\n",
       "}}\n",
       "\n",
       "// Listen for the clearing of the current output cell\n",
       "var outputEl = gd.closest('.output');\n",
       "if (outputEl) {{\n",
       "    x.observe(outputEl, {childList: true});\n",
       "}}\n",
       "\n",
       "                        })                };                });            </script>        </div>"
      ]
     },
     "metadata": {},
     "output_type": "display_data"
    }
   ],
   "source": [
    "df1.iplot(kind='box')"
   ]
  },
  {
   "cell_type": "code",
   "execution_count": 6,
   "metadata": {},
   "outputs": [
    {
     "data": {
      "application/vnd.plotly.v1+json": {
       "config": {
        "linkText": "Export to plot.ly",
        "plotlyServerURL": "https://plot.ly",
        "showLink": true
       },
       "data": [
        {
         "colorscale": [
          [
           0,
           "rgb(165,0,38)"
          ],
          [
           0.1,
           "rgb(215,48,39)"
          ],
          [
           0.2,
           "rgb(244,109,67)"
          ],
          [
           0.3,
           "rgb(253,174,97)"
          ],
          [
           0.4,
           "rgb(254,224,144)"
          ],
          [
           0.5,
           "rgb(255,255,191)"
          ],
          [
           0.6,
           "rgb(224,243,248)"
          ],
          [
           0.7,
           "rgb(171,217,233)"
          ],
          [
           0.8,
           "rgb(116,173,209)"
          ],
          [
           0.9,
           "rgb(69,117,180)"
          ],
          [
           1,
           "rgb(49,54,149)"
          ]
         ],
         "type": "surface",
         "x": [
          0,
          1,
          2,
          3,
          4,
          5,
          6
         ],
         "y": [
          "x",
          "y",
          "z"
         ],
         "z": [
          [
           1,
           2,
           3,
           4,
           5,
           6,
           7
          ],
          [
           10,
           20,
           30,
           20,
           5,
           10,
           20
          ],
          [
           7,
           6,
           5,
           4,
           3,
           2,
           1
          ]
         ]
        }
       ],
       "layout": {
        "legend": {
         "bgcolor": "#F5F6F9",
         "font": {
          "color": "#4D5663"
         }
        },
        "paper_bgcolor": "#F5F6F9",
        "plot_bgcolor": "#F5F6F9",
        "template": {
         "data": {
          "bar": [
           {
            "error_x": {
             "color": "#2a3f5f"
            },
            "error_y": {
             "color": "#2a3f5f"
            },
            "marker": {
             "line": {
              "color": "#E5ECF6",
              "width": 0.5
             }
            },
            "type": "bar"
           }
          ],
          "barpolar": [
           {
            "marker": {
             "line": {
              "color": "#E5ECF6",
              "width": 0.5
             }
            },
            "type": "barpolar"
           }
          ],
          "carpet": [
           {
            "aaxis": {
             "endlinecolor": "#2a3f5f",
             "gridcolor": "white",
             "linecolor": "white",
             "minorgridcolor": "white",
             "startlinecolor": "#2a3f5f"
            },
            "baxis": {
             "endlinecolor": "#2a3f5f",
             "gridcolor": "white",
             "linecolor": "white",
             "minorgridcolor": "white",
             "startlinecolor": "#2a3f5f"
            },
            "type": "carpet"
           }
          ],
          "choropleth": [
           {
            "colorbar": {
             "outlinewidth": 0,
             "ticks": ""
            },
            "type": "choropleth"
           }
          ],
          "contour": [
           {
            "colorbar": {
             "outlinewidth": 0,
             "ticks": ""
            },
            "colorscale": [
             [
              0,
              "#0d0887"
             ],
             [
              0.1111111111111111,
              "#46039f"
             ],
             [
              0.2222222222222222,
              "#7201a8"
             ],
             [
              0.3333333333333333,
              "#9c179e"
             ],
             [
              0.4444444444444444,
              "#bd3786"
             ],
             [
              0.5555555555555556,
              "#d8576b"
             ],
             [
              0.6666666666666666,
              "#ed7953"
             ],
             [
              0.7777777777777778,
              "#fb9f3a"
             ],
             [
              0.8888888888888888,
              "#fdca26"
             ],
             [
              1,
              "#f0f921"
             ]
            ],
            "type": "contour"
           }
          ],
          "contourcarpet": [
           {
            "colorbar": {
             "outlinewidth": 0,
             "ticks": ""
            },
            "type": "contourcarpet"
           }
          ],
          "heatmap": [
           {
            "colorbar": {
             "outlinewidth": 0,
             "ticks": ""
            },
            "colorscale": [
             [
              0,
              "#0d0887"
             ],
             [
              0.1111111111111111,
              "#46039f"
             ],
             [
              0.2222222222222222,
              "#7201a8"
             ],
             [
              0.3333333333333333,
              "#9c179e"
             ],
             [
              0.4444444444444444,
              "#bd3786"
             ],
             [
              0.5555555555555556,
              "#d8576b"
             ],
             [
              0.6666666666666666,
              "#ed7953"
             ],
             [
              0.7777777777777778,
              "#fb9f3a"
             ],
             [
              0.8888888888888888,
              "#fdca26"
             ],
             [
              1,
              "#f0f921"
             ]
            ],
            "type": "heatmap"
           }
          ],
          "heatmapgl": [
           {
            "colorbar": {
             "outlinewidth": 0,
             "ticks": ""
            },
            "colorscale": [
             [
              0,
              "#0d0887"
             ],
             [
              0.1111111111111111,
              "#46039f"
             ],
             [
              0.2222222222222222,
              "#7201a8"
             ],
             [
              0.3333333333333333,
              "#9c179e"
             ],
             [
              0.4444444444444444,
              "#bd3786"
             ],
             [
              0.5555555555555556,
              "#d8576b"
             ],
             [
              0.6666666666666666,
              "#ed7953"
             ],
             [
              0.7777777777777778,
              "#fb9f3a"
             ],
             [
              0.8888888888888888,
              "#fdca26"
             ],
             [
              1,
              "#f0f921"
             ]
            ],
            "type": "heatmapgl"
           }
          ],
          "histogram": [
           {
            "marker": {
             "colorbar": {
              "outlinewidth": 0,
              "ticks": ""
             }
            },
            "type": "histogram"
           }
          ],
          "histogram2d": [
           {
            "colorbar": {
             "outlinewidth": 0,
             "ticks": ""
            },
            "colorscale": [
             [
              0,
              "#0d0887"
             ],
             [
              0.1111111111111111,
              "#46039f"
             ],
             [
              0.2222222222222222,
              "#7201a8"
             ],
             [
              0.3333333333333333,
              "#9c179e"
             ],
             [
              0.4444444444444444,
              "#bd3786"
             ],
             [
              0.5555555555555556,
              "#d8576b"
             ],
             [
              0.6666666666666666,
              "#ed7953"
             ],
             [
              0.7777777777777778,
              "#fb9f3a"
             ],
             [
              0.8888888888888888,
              "#fdca26"
             ],
             [
              1,
              "#f0f921"
             ]
            ],
            "type": "histogram2d"
           }
          ],
          "histogram2dcontour": [
           {
            "colorbar": {
             "outlinewidth": 0,
             "ticks": ""
            },
            "colorscale": [
             [
              0,
              "#0d0887"
             ],
             [
              0.1111111111111111,
              "#46039f"
             ],
             [
              0.2222222222222222,
              "#7201a8"
             ],
             [
              0.3333333333333333,
              "#9c179e"
             ],
             [
              0.4444444444444444,
              "#bd3786"
             ],
             [
              0.5555555555555556,
              "#d8576b"
             ],
             [
              0.6666666666666666,
              "#ed7953"
             ],
             [
              0.7777777777777778,
              "#fb9f3a"
             ],
             [
              0.8888888888888888,
              "#fdca26"
             ],
             [
              1,
              "#f0f921"
             ]
            ],
            "type": "histogram2dcontour"
           }
          ],
          "mesh3d": [
           {
            "colorbar": {
             "outlinewidth": 0,
             "ticks": ""
            },
            "type": "mesh3d"
           }
          ],
          "parcoords": [
           {
            "line": {
             "colorbar": {
              "outlinewidth": 0,
              "ticks": ""
             }
            },
            "type": "parcoords"
           }
          ],
          "pie": [
           {
            "automargin": true,
            "type": "pie"
           }
          ],
          "scatter": [
           {
            "marker": {
             "colorbar": {
              "outlinewidth": 0,
              "ticks": ""
             }
            },
            "type": "scatter"
           }
          ],
          "scatter3d": [
           {
            "line": {
             "colorbar": {
              "outlinewidth": 0,
              "ticks": ""
             }
            },
            "marker": {
             "colorbar": {
              "outlinewidth": 0,
              "ticks": ""
             }
            },
            "type": "scatter3d"
           }
          ],
          "scattercarpet": [
           {
            "marker": {
             "colorbar": {
              "outlinewidth": 0,
              "ticks": ""
             }
            },
            "type": "scattercarpet"
           }
          ],
          "scattergeo": [
           {
            "marker": {
             "colorbar": {
              "outlinewidth": 0,
              "ticks": ""
             }
            },
            "type": "scattergeo"
           }
          ],
          "scattergl": [
           {
            "marker": {
             "colorbar": {
              "outlinewidth": 0,
              "ticks": ""
             }
            },
            "type": "scattergl"
           }
          ],
          "scattermapbox": [
           {
            "marker": {
             "colorbar": {
              "outlinewidth": 0,
              "ticks": ""
             }
            },
            "type": "scattermapbox"
           }
          ],
          "scatterpolar": [
           {
            "marker": {
             "colorbar": {
              "outlinewidth": 0,
              "ticks": ""
             }
            },
            "type": "scatterpolar"
           }
          ],
          "scatterpolargl": [
           {
            "marker": {
             "colorbar": {
              "outlinewidth": 0,
              "ticks": ""
             }
            },
            "type": "scatterpolargl"
           }
          ],
          "scatterternary": [
           {
            "marker": {
             "colorbar": {
              "outlinewidth": 0,
              "ticks": ""
             }
            },
            "type": "scatterternary"
           }
          ],
          "surface": [
           {
            "colorbar": {
             "outlinewidth": 0,
             "ticks": ""
            },
            "colorscale": [
             [
              0,
              "#0d0887"
             ],
             [
              0.1111111111111111,
              "#46039f"
             ],
             [
              0.2222222222222222,
              "#7201a8"
             ],
             [
              0.3333333333333333,
              "#9c179e"
             ],
             [
              0.4444444444444444,
              "#bd3786"
             ],
             [
              0.5555555555555556,
              "#d8576b"
             ],
             [
              0.6666666666666666,
              "#ed7953"
             ],
             [
              0.7777777777777778,
              "#fb9f3a"
             ],
             [
              0.8888888888888888,
              "#fdca26"
             ],
             [
              1,
              "#f0f921"
             ]
            ],
            "type": "surface"
           }
          ],
          "table": [
           {
            "cells": {
             "fill": {
              "color": "#EBF0F8"
             },
             "line": {
              "color": "white"
             }
            },
            "header": {
             "fill": {
              "color": "#C8D4E3"
             },
             "line": {
              "color": "white"
             }
            },
            "type": "table"
           }
          ]
         },
         "layout": {
          "annotationdefaults": {
           "arrowcolor": "#2a3f5f",
           "arrowhead": 0,
           "arrowwidth": 1
          },
          "autotypenumbers": "strict",
          "coloraxis": {
           "colorbar": {
            "outlinewidth": 0,
            "ticks": ""
           }
          },
          "colorscale": {
           "diverging": [
            [
             0,
             "#8e0152"
            ],
            [
             0.1,
             "#c51b7d"
            ],
            [
             0.2,
             "#de77ae"
            ],
            [
             0.3,
             "#f1b6da"
            ],
            [
             0.4,
             "#fde0ef"
            ],
            [
             0.5,
             "#f7f7f7"
            ],
            [
             0.6,
             "#e6f5d0"
            ],
            [
             0.7,
             "#b8e186"
            ],
            [
             0.8,
             "#7fbc41"
            ],
            [
             0.9,
             "#4d9221"
            ],
            [
             1,
             "#276419"
            ]
           ],
           "sequential": [
            [
             0,
             "#0d0887"
            ],
            [
             0.1111111111111111,
             "#46039f"
            ],
            [
             0.2222222222222222,
             "#7201a8"
            ],
            [
             0.3333333333333333,
             "#9c179e"
            ],
            [
             0.4444444444444444,
             "#bd3786"
            ],
            [
             0.5555555555555556,
             "#d8576b"
            ],
            [
             0.6666666666666666,
             "#ed7953"
            ],
            [
             0.7777777777777778,
             "#fb9f3a"
            ],
            [
             0.8888888888888888,
             "#fdca26"
            ],
            [
             1,
             "#f0f921"
            ]
           ],
           "sequentialminus": [
            [
             0,
             "#0d0887"
            ],
            [
             0.1111111111111111,
             "#46039f"
            ],
            [
             0.2222222222222222,
             "#7201a8"
            ],
            [
             0.3333333333333333,
             "#9c179e"
            ],
            [
             0.4444444444444444,
             "#bd3786"
            ],
            [
             0.5555555555555556,
             "#d8576b"
            ],
            [
             0.6666666666666666,
             "#ed7953"
            ],
            [
             0.7777777777777778,
             "#fb9f3a"
            ],
            [
             0.8888888888888888,
             "#fdca26"
            ],
            [
             1,
             "#f0f921"
            ]
           ]
          },
          "colorway": [
           "#636efa",
           "#EF553B",
           "#00cc96",
           "#ab63fa",
           "#FFA15A",
           "#19d3f3",
           "#FF6692",
           "#B6E880",
           "#FF97FF",
           "#FECB52"
          ],
          "font": {
           "color": "#2a3f5f"
          },
          "geo": {
           "bgcolor": "white",
           "lakecolor": "white",
           "landcolor": "#E5ECF6",
           "showlakes": true,
           "showland": true,
           "subunitcolor": "white"
          },
          "hoverlabel": {
           "align": "left"
          },
          "hovermode": "closest",
          "mapbox": {
           "style": "light"
          },
          "paper_bgcolor": "white",
          "plot_bgcolor": "#E5ECF6",
          "polar": {
           "angularaxis": {
            "gridcolor": "white",
            "linecolor": "white",
            "ticks": ""
           },
           "bgcolor": "#E5ECF6",
           "radialaxis": {
            "gridcolor": "white",
            "linecolor": "white",
            "ticks": ""
           }
          },
          "scene": {
           "xaxis": {
            "backgroundcolor": "#E5ECF6",
            "gridcolor": "white",
            "gridwidth": 2,
            "linecolor": "white",
            "showbackground": true,
            "ticks": "",
            "zerolinecolor": "white"
           },
           "yaxis": {
            "backgroundcolor": "#E5ECF6",
            "gridcolor": "white",
            "gridwidth": 2,
            "linecolor": "white",
            "showbackground": true,
            "ticks": "",
            "zerolinecolor": "white"
           },
           "zaxis": {
            "backgroundcolor": "#E5ECF6",
            "gridcolor": "white",
            "gridwidth": 2,
            "linecolor": "white",
            "showbackground": true,
            "ticks": "",
            "zerolinecolor": "white"
           }
          },
          "shapedefaults": {
           "line": {
            "color": "#2a3f5f"
           }
          },
          "ternary": {
           "aaxis": {
            "gridcolor": "white",
            "linecolor": "white",
            "ticks": ""
           },
           "baxis": {
            "gridcolor": "white",
            "linecolor": "white",
            "ticks": ""
           },
           "bgcolor": "#E5ECF6",
           "caxis": {
            "gridcolor": "white",
            "linecolor": "white",
            "ticks": ""
           }
          },
          "title": {
           "x": 0.05
          },
          "xaxis": {
           "automargin": true,
           "gridcolor": "white",
           "linecolor": "white",
           "ticks": "",
           "title": {
            "standoff": 15
           },
           "zerolinecolor": "white",
           "zerolinewidth": 2
          },
          "yaxis": {
           "automargin": true,
           "gridcolor": "white",
           "linecolor": "white",
           "ticks": "",
           "title": {
            "standoff": 15
           },
           "zerolinecolor": "white",
           "zerolinewidth": 2
          }
         }
        },
        "title": {
         "font": {
          "color": "#4D5663"
         }
        },
        "xaxis": {
         "gridcolor": "#E1E5ED",
         "showgrid": true,
         "tickfont": {
          "color": "#4D5663"
         },
         "title": {
          "font": {
           "color": "#4D5663"
          },
          "text": ""
         },
         "zerolinecolor": "#E1E5ED"
        },
        "yaxis": {
         "gridcolor": "#E1E5ED",
         "showgrid": true,
         "tickfont": {
          "color": "#4D5663"
         },
         "title": {
          "font": {
           "color": "#4D5663"
          },
          "text": ""
         },
         "zerolinecolor": "#E1E5ED"
        }
       }
      },
      "text/html": [
       "<div>                            <div id=\"b34e56c6-1861-46f2-af0d-bdefa9f5be7d\" class=\"plotly-graph-div\" style=\"height:525px; width:100%;\"></div>            <script type=\"text/javascript\">                require([\"plotly\"], function(Plotly) {                    window.PLOTLYENV=window.PLOTLYENV || {};\n",
       "                    window.PLOTLYENV.BASE_URL='https://plot.ly';                                    if (document.getElementById(\"b34e56c6-1861-46f2-af0d-bdefa9f5be7d\")) {                    Plotly.newPlot(                        \"b34e56c6-1861-46f2-af0d-bdefa9f5be7d\",                        [{\"colorscale\": [[0.0, \"rgb(165,0,38)\"], [0.1, \"rgb(215,48,39)\"], [0.2, \"rgb(244,109,67)\"], [0.3, \"rgb(253,174,97)\"], [0.4, \"rgb(254,224,144)\"], [0.5, \"rgb(255,255,191)\"], [0.6, \"rgb(224,243,248)\"], [0.7, \"rgb(171,217,233)\"], [0.8, \"rgb(116,173,209)\"], [0.9, \"rgb(69,117,180)\"], [1.0, \"rgb(49,54,149)\"]], \"type\": \"surface\", \"x\": [0, 1, 2, 3, 4, 5, 6], \"y\": [\"x\", \"y\", \"z\"], \"z\": [[1, 2, 3, 4, 5, 6, 7], [10, 20, 30, 20, 5, 10, 20], [7, 6, 5, 4, 3, 2, 1]]}],                        {\"legend\": {\"bgcolor\": \"#F5F6F9\", \"font\": {\"color\": \"#4D5663\"}}, \"paper_bgcolor\": \"#F5F6F9\", \"plot_bgcolor\": \"#F5F6F9\", \"template\": {\"data\": {\"bar\": [{\"error_x\": {\"color\": \"#2a3f5f\"}, \"error_y\": {\"color\": \"#2a3f5f\"}, \"marker\": {\"line\": {\"color\": \"#E5ECF6\", \"width\": 0.5}}, \"type\": \"bar\"}], \"barpolar\": [{\"marker\": {\"line\": {\"color\": \"#E5ECF6\", \"width\": 0.5}}, \"type\": \"barpolar\"}], \"carpet\": [{\"aaxis\": {\"endlinecolor\": \"#2a3f5f\", \"gridcolor\": \"white\", \"linecolor\": \"white\", \"minorgridcolor\": \"white\", \"startlinecolor\": \"#2a3f5f\"}, \"baxis\": {\"endlinecolor\": \"#2a3f5f\", \"gridcolor\": \"white\", \"linecolor\": \"white\", \"minorgridcolor\": \"white\", \"startlinecolor\": \"#2a3f5f\"}, \"type\": \"carpet\"}], \"choropleth\": [{\"colorbar\": {\"outlinewidth\": 0, \"ticks\": \"\"}, \"type\": \"choropleth\"}], \"contour\": [{\"colorbar\": {\"outlinewidth\": 0, \"ticks\": \"\"}, \"colorscale\": [[0.0, \"#0d0887\"], [0.1111111111111111, \"#46039f\"], [0.2222222222222222, \"#7201a8\"], [0.3333333333333333, \"#9c179e\"], [0.4444444444444444, \"#bd3786\"], [0.5555555555555556, \"#d8576b\"], [0.6666666666666666, \"#ed7953\"], [0.7777777777777778, \"#fb9f3a\"], [0.8888888888888888, \"#fdca26\"], [1.0, \"#f0f921\"]], \"type\": \"contour\"}], \"contourcarpet\": [{\"colorbar\": {\"outlinewidth\": 0, \"ticks\": \"\"}, \"type\": \"contourcarpet\"}], \"heatmap\": [{\"colorbar\": {\"outlinewidth\": 0, \"ticks\": \"\"}, \"colorscale\": [[0.0, \"#0d0887\"], [0.1111111111111111, \"#46039f\"], [0.2222222222222222, \"#7201a8\"], [0.3333333333333333, \"#9c179e\"], [0.4444444444444444, \"#bd3786\"], [0.5555555555555556, \"#d8576b\"], [0.6666666666666666, \"#ed7953\"], [0.7777777777777778, \"#fb9f3a\"], [0.8888888888888888, \"#fdca26\"], [1.0, \"#f0f921\"]], \"type\": \"heatmap\"}], \"heatmapgl\": [{\"colorbar\": {\"outlinewidth\": 0, \"ticks\": \"\"}, \"colorscale\": [[0.0, \"#0d0887\"], [0.1111111111111111, \"#46039f\"], [0.2222222222222222, \"#7201a8\"], [0.3333333333333333, \"#9c179e\"], [0.4444444444444444, \"#bd3786\"], [0.5555555555555556, \"#d8576b\"], [0.6666666666666666, \"#ed7953\"], [0.7777777777777778, \"#fb9f3a\"], [0.8888888888888888, \"#fdca26\"], [1.0, \"#f0f921\"]], \"type\": \"heatmapgl\"}], \"histogram\": [{\"marker\": {\"colorbar\": {\"outlinewidth\": 0, \"ticks\": \"\"}}, \"type\": \"histogram\"}], \"histogram2d\": [{\"colorbar\": {\"outlinewidth\": 0, \"ticks\": \"\"}, \"colorscale\": [[0.0, \"#0d0887\"], [0.1111111111111111, \"#46039f\"], [0.2222222222222222, \"#7201a8\"], [0.3333333333333333, \"#9c179e\"], [0.4444444444444444, \"#bd3786\"], [0.5555555555555556, \"#d8576b\"], [0.6666666666666666, \"#ed7953\"], [0.7777777777777778, \"#fb9f3a\"], [0.8888888888888888, \"#fdca26\"], [1.0, \"#f0f921\"]], \"type\": \"histogram2d\"}], \"histogram2dcontour\": [{\"colorbar\": {\"outlinewidth\": 0, \"ticks\": \"\"}, \"colorscale\": [[0.0, \"#0d0887\"], [0.1111111111111111, \"#46039f\"], [0.2222222222222222, \"#7201a8\"], [0.3333333333333333, \"#9c179e\"], [0.4444444444444444, \"#bd3786\"], [0.5555555555555556, \"#d8576b\"], [0.6666666666666666, \"#ed7953\"], [0.7777777777777778, \"#fb9f3a\"], [0.8888888888888888, \"#fdca26\"], [1.0, \"#f0f921\"]], \"type\": \"histogram2dcontour\"}], \"mesh3d\": [{\"colorbar\": {\"outlinewidth\": 0, \"ticks\": \"\"}, \"type\": \"mesh3d\"}], \"parcoords\": [{\"line\": {\"colorbar\": {\"outlinewidth\": 0, \"ticks\": \"\"}}, \"type\": \"parcoords\"}], \"pie\": [{\"automargin\": true, \"type\": \"pie\"}], \"scatter\": [{\"marker\": {\"colorbar\": {\"outlinewidth\": 0, \"ticks\": \"\"}}, \"type\": \"scatter\"}], \"scatter3d\": [{\"line\": {\"colorbar\": {\"outlinewidth\": 0, \"ticks\": \"\"}}, \"marker\": {\"colorbar\": {\"outlinewidth\": 0, \"ticks\": \"\"}}, \"type\": \"scatter3d\"}], \"scattercarpet\": [{\"marker\": {\"colorbar\": {\"outlinewidth\": 0, \"ticks\": \"\"}}, \"type\": \"scattercarpet\"}], \"scattergeo\": [{\"marker\": {\"colorbar\": {\"outlinewidth\": 0, \"ticks\": \"\"}}, \"type\": \"scattergeo\"}], \"scattergl\": [{\"marker\": {\"colorbar\": {\"outlinewidth\": 0, \"ticks\": \"\"}}, \"type\": \"scattergl\"}], \"scattermapbox\": [{\"marker\": {\"colorbar\": {\"outlinewidth\": 0, \"ticks\": \"\"}}, \"type\": \"scattermapbox\"}], \"scatterpolar\": [{\"marker\": {\"colorbar\": {\"outlinewidth\": 0, \"ticks\": \"\"}}, \"type\": \"scatterpolar\"}], \"scatterpolargl\": [{\"marker\": {\"colorbar\": {\"outlinewidth\": 0, \"ticks\": \"\"}}, \"type\": \"scatterpolargl\"}], \"scatterternary\": [{\"marker\": {\"colorbar\": {\"outlinewidth\": 0, \"ticks\": \"\"}}, \"type\": \"scatterternary\"}], \"surface\": [{\"colorbar\": {\"outlinewidth\": 0, \"ticks\": \"\"}, \"colorscale\": [[0.0, \"#0d0887\"], [0.1111111111111111, \"#46039f\"], [0.2222222222222222, \"#7201a8\"], [0.3333333333333333, \"#9c179e\"], [0.4444444444444444, \"#bd3786\"], [0.5555555555555556, \"#d8576b\"], [0.6666666666666666, \"#ed7953\"], [0.7777777777777778, \"#fb9f3a\"], [0.8888888888888888, \"#fdca26\"], [1.0, \"#f0f921\"]], \"type\": \"surface\"}], \"table\": [{\"cells\": {\"fill\": {\"color\": \"#EBF0F8\"}, \"line\": {\"color\": \"white\"}}, \"header\": {\"fill\": {\"color\": \"#C8D4E3\"}, \"line\": {\"color\": \"white\"}}, \"type\": \"table\"}]}, \"layout\": {\"annotationdefaults\": {\"arrowcolor\": \"#2a3f5f\", \"arrowhead\": 0, \"arrowwidth\": 1}, \"autotypenumbers\": \"strict\", \"coloraxis\": {\"colorbar\": {\"outlinewidth\": 0, \"ticks\": \"\"}}, \"colorscale\": {\"diverging\": [[0, \"#8e0152\"], [0.1, \"#c51b7d\"], [0.2, \"#de77ae\"], [0.3, \"#f1b6da\"], [0.4, \"#fde0ef\"], [0.5, \"#f7f7f7\"], [0.6, \"#e6f5d0\"], [0.7, \"#b8e186\"], [0.8, \"#7fbc41\"], [0.9, \"#4d9221\"], [1, \"#276419\"]], \"sequential\": [[0.0, \"#0d0887\"], [0.1111111111111111, \"#46039f\"], [0.2222222222222222, \"#7201a8\"], [0.3333333333333333, \"#9c179e\"], [0.4444444444444444, \"#bd3786\"], [0.5555555555555556, \"#d8576b\"], [0.6666666666666666, \"#ed7953\"], [0.7777777777777778, \"#fb9f3a\"], [0.8888888888888888, \"#fdca26\"], [1.0, \"#f0f921\"]], \"sequentialminus\": [[0.0, \"#0d0887\"], [0.1111111111111111, \"#46039f\"], [0.2222222222222222, \"#7201a8\"], [0.3333333333333333, \"#9c179e\"], [0.4444444444444444, \"#bd3786\"], [0.5555555555555556, \"#d8576b\"], [0.6666666666666666, \"#ed7953\"], [0.7777777777777778, \"#fb9f3a\"], [0.8888888888888888, \"#fdca26\"], [1.0, \"#f0f921\"]]}, \"colorway\": [\"#636efa\", \"#EF553B\", \"#00cc96\", \"#ab63fa\", \"#FFA15A\", \"#19d3f3\", \"#FF6692\", \"#B6E880\", \"#FF97FF\", \"#FECB52\"], \"font\": {\"color\": \"#2a3f5f\"}, \"geo\": {\"bgcolor\": \"white\", \"lakecolor\": \"white\", \"landcolor\": \"#E5ECF6\", \"showlakes\": true, \"showland\": true, \"subunitcolor\": \"white\"}, \"hoverlabel\": {\"align\": \"left\"}, \"hovermode\": \"closest\", \"mapbox\": {\"style\": \"light\"}, \"paper_bgcolor\": \"white\", \"plot_bgcolor\": \"#E5ECF6\", \"polar\": {\"angularaxis\": {\"gridcolor\": \"white\", \"linecolor\": \"white\", \"ticks\": \"\"}, \"bgcolor\": \"#E5ECF6\", \"radialaxis\": {\"gridcolor\": \"white\", \"linecolor\": \"white\", \"ticks\": \"\"}}, \"scene\": {\"xaxis\": {\"backgroundcolor\": \"#E5ECF6\", \"gridcolor\": \"white\", \"gridwidth\": 2, \"linecolor\": \"white\", \"showbackground\": true, \"ticks\": \"\", \"zerolinecolor\": \"white\"}, \"yaxis\": {\"backgroundcolor\": \"#E5ECF6\", \"gridcolor\": \"white\", \"gridwidth\": 2, \"linecolor\": \"white\", \"showbackground\": true, \"ticks\": \"\", \"zerolinecolor\": \"white\"}, \"zaxis\": {\"backgroundcolor\": \"#E5ECF6\", \"gridcolor\": \"white\", \"gridwidth\": 2, \"linecolor\": \"white\", \"showbackground\": true, \"ticks\": \"\", \"zerolinecolor\": \"white\"}}, \"shapedefaults\": {\"line\": {\"color\": \"#2a3f5f\"}}, \"ternary\": {\"aaxis\": {\"gridcolor\": \"white\", \"linecolor\": \"white\", \"ticks\": \"\"}, \"baxis\": {\"gridcolor\": \"white\", \"linecolor\": \"white\", \"ticks\": \"\"}, \"bgcolor\": \"#E5ECF6\", \"caxis\": {\"gridcolor\": \"white\", \"linecolor\": \"white\", \"ticks\": \"\"}}, \"title\": {\"x\": 0.05}, \"xaxis\": {\"automargin\": true, \"gridcolor\": \"white\", \"linecolor\": \"white\", \"ticks\": \"\", \"title\": {\"standoff\": 15}, \"zerolinecolor\": \"white\", \"zerolinewidth\": 2}, \"yaxis\": {\"automargin\": true, \"gridcolor\": \"white\", \"linecolor\": \"white\", \"ticks\": \"\", \"title\": {\"standoff\": 15}, \"zerolinecolor\": \"white\", \"zerolinewidth\": 2}}}, \"title\": {\"font\": {\"color\": \"#4D5663\"}}, \"xaxis\": {\"gridcolor\": \"#E1E5ED\", \"showgrid\": true, \"tickfont\": {\"color\": \"#4D5663\"}, \"title\": {\"font\": {\"color\": \"#4D5663\"}, \"text\": \"\"}, \"zerolinecolor\": \"#E1E5ED\"}, \"yaxis\": {\"gridcolor\": \"#E1E5ED\", \"showgrid\": true, \"tickfont\": {\"color\": \"#4D5663\"}, \"title\": {\"font\": {\"color\": \"#4D5663\"}, \"text\": \"\"}, \"zerolinecolor\": \"#E1E5ED\"}},                        {\"showLink\": true, \"linkText\": \"Export to plot.ly\", \"plotlyServerURL\": \"https://plot.ly\", \"responsive\": true}                    ).then(function(){\n",
       "                            \n",
       "var gd = document.getElementById('b34e56c6-1861-46f2-af0d-bdefa9f5be7d');\n",
       "var x = new MutationObserver(function (mutations, observer) {{\n",
       "        var display = window.getComputedStyle(gd).display;\n",
       "        if (!display || display === 'none') {{\n",
       "            console.log([gd, 'removed!']);\n",
       "            Plotly.purge(gd);\n",
       "            observer.disconnect();\n",
       "        }}\n",
       "}});\n",
       "\n",
       "// Listen for the removal of the full notebook cells\n",
       "var notebookContainer = gd.closest('#notebook-container');\n",
       "if (notebookContainer) {{\n",
       "    x.observe(notebookContainer, {childList: true});\n",
       "}}\n",
       "\n",
       "// Listen for the clearing of the current output cell\n",
       "var outputEl = gd.closest('.output');\n",
       "if (outputEl) {{\n",
       "    x.observe(outputEl, {childList: true});\n",
       "}}\n",
       "\n",
       "                        })                };                });            </script>        </div>"
      ]
     },
     "metadata": {},
     "output_type": "display_data"
    }
   ],
   "source": [
    "df3 = pd.DataFrame({'x':[1,2,3,4,5,6,7],'y':[10,20,30,20,5,10,20],'z':[7,6,5,4,3,2,1]})\n",
    "df3.iplot(kind='surface',colorscale='rdylbu')"
   ]
  },
  {
   "cell_type": "code",
   "execution_count": null,
   "metadata": {},
   "outputs": [],
   "source": []
  }
 ],
 "metadata": {
  "kernelspec": {
   "display_name": "Python 3",
   "language": "python",
   "name": "python3"
  },
  "language_info": {
   "codemirror_mode": {
    "name": "ipython",
    "version": 3
   },
   "file_extension": ".py",
   "mimetype": "text/x-python",
   "name": "python",
   "nbconvert_exporter": "python",
   "pygments_lexer": "ipython3",
   "version": "3.8.5"
  }
 },
 "nbformat": 4,
 "nbformat_minor": 4
}
