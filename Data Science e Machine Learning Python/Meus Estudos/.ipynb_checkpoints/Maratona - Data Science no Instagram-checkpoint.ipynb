{
 "cells": [
  {
   "cell_type": "markdown",
   "metadata": {},
   "source": [
    "Data Analyst -- Analisar, interpretar dados, retirados de bancos de dados por exemplo o Sql, e usar Excel\n",
    "\n",
    "Data Scientist -- Consegue resolver problemas oriantadas a dados, reunir, interpretar e comunicar estes dados, focar também em modelagem preditiva (Machine Learning, Deep Learn, Tableau, Power BI, SQL, Big Data)\n",
    "\n",
    "Data Engineer -- Focar em lidar com bancos de dados, criá-los, monitorar, gerenciar e administrar esses dados. Dominar Data warehouse, Big Data e ferramentas em clound (Python, Java e escala))\n",
    "\n",
    "Analista BI -- Criar dashboards, storytelling, Power BI, Tableau, Sql, Python e R, muito Excel\n",
    "\n",
    "Machine Learning Engineer -- Engenheiro de software de Ml E Deep Learning. Ele cria e imprementa aplicações para o ML.(ML, DL, Python, Java, Nuvem, Java Scrypt)"
   ]
  },
  {
   "cell_type": "markdown",
   "metadata": {},
   "source": [
    "POO         -- Ex: PessoaA(classe)\n",
    "\n",
    "               Nome(parâmetro)\n",
    "               Sobrenome(parâmetro)\n",
    "               Peso(parâmetro)\n",
    "               Idade(parâmetro)"
   ]
  },
  {
   "cell_type": "markdown",
   "metadata": {},
   "source": [
    "****** Faça um Github"
   ]
  },
  {
   "cell_type": "code",
   "execution_count": null,
   "metadata": {},
   "outputs": [],
   "source": []
  }
 ],
 "metadata": {
  "kernelspec": {
   "display_name": "Python 3",
   "language": "python",
   "name": "python3"
  },
  "language_info": {
   "codemirror_mode": {
    "name": "ipython",
    "version": 3
   },
   "file_extension": ".py",
   "mimetype": "text/x-python",
   "name": "python",
   "nbconvert_exporter": "python",
   "pygments_lexer": "ipython3",
   "version": "3.8.5"
  }
 },
 "nbformat": 4,
 "nbformat_minor": 4
}
