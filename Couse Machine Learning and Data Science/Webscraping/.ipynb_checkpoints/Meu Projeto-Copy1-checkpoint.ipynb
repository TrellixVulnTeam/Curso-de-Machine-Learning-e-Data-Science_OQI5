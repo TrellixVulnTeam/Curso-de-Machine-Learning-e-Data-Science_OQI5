{
 "cells": [
  {
   "cell_type": "code",
   "execution_count": 33,
   "metadata": {},
   "outputs": [
    {
     "name": "stdout",
     "output_type": "stream",
     "text": [
      "Requirement already satisfied: selenium in d:\\jupyter\\lib\\site-packages (3.141.0)\n",
      "Requirement already satisfied: urllib3 in d:\\jupyter\\lib\\site-packages (from selenium) (1.25.11)\n"
     ]
    }
   ],
   "source": [
    "!pip install selenium\n",
    "import selenium\n",
    "from selenium.common.exceptions import StaleElementReferenceException\n",
    "from selenium import webdriver\n",
    "from selenium.webdriver.support.ui import WebDriverWait # available since 2.4.0\n",
    "from selenium.webdriver.support import expected_conditions as EC\n",
    "from selenium.webdriver.common.by import By\n",
    "import time\n",
    "from selenium.webdriver import Chrome\n",
    "\n",
    "\n",
    "\n",
    "driver = selenium.webdriver.Chrome(executable_path=r\"C:/Users/Asus/Documents/Couse Machine Learning and Data Science/webscraping/chromedriver.exe\")\n",
    "\n",
    "\n",
    "driver.get(\"http://www.instagram.com\")\n",
    "\n",
    "username = WebDriverWait(driver, 10).until(EC.element_to_be_clickable((By.CSS_SELECTOR, \"input[name='username']\")))\n",
    "password = WebDriverWait(driver, 10).until(EC.element_to_be_clickable((By.CSS_SELECTOR, \"input[name='password']\")))\n",
    "\n",
    "\n",
    "username.clear()\n",
    "username.send_keys(\"python_overview\")\n",
    "password.clear()\n",
    "password.send_keys(\"1424738wsE\")\n",
    "\n",
    "button = WebDriverWait(driver, 2).until(EC.element_to_be_clickable((By.CSS_SELECTOR, \"button[type='submit']\"))).click()"
   ]
  },
  {
   "cell_type": "code",
   "execution_count": 34,
   "metadata": {},
   "outputs": [],
   "source": [
    "time.sleep(5)\n",
    "alert = WebDriverWait(driver, 15).until(EC.element_to_be_clickable((By.XPATH, '//button[contains(text(), \"Agora não\")]'))).click()\n",
    "alert2 = WebDriverWait(driver, 15).until(EC.element_to_be_clickable((By.XPATH, '//button[contains(text(), \"Agora não\")]'))).click()"
   ]
  },
  {
   "cell_type": "code",
   "execution_count": 35,
   "metadata": {},
   "outputs": [],
   "source": [
    "\n",
    "searchbox = WebDriverWait(driver, 10).until(EC.element_to_be_clickable((By.XPATH, \"//input[@placeholder='Pesquisar']\")))\n",
    "searchbox.clear()\n",
    "\n",
    "#search for the hashtag \n",
    "keyword = \"mateusvdcastro\"\n",
    "searchbox.send_keys(keyword)\n",
    " \n",
    "\n",
    "my_link = WebDriverWait(driver, 10).until(EC.element_to_be_clickable((By.XPATH, \"//a[contains(@href, '/\" + keyword + \"/')]\")))\n",
    "my_link.click()"
   ]
  },
  {
   "cell_type": "code",
   "execution_count": 36,
   "metadata": {},
   "outputs": [],
   "source": [
    "n_scrolls = 1\n",
    "for j in range(0, n_scrolls):\n",
    "    driver.execute_script(\"window.scrollTo(0, document.body.scrollHeight);\")\n",
    "    time.sleep(2)"
   ]
  },
  {
   "cell_type": "code",
   "execution_count": 37,
   "metadata": {},
   "outputs": [
    {
     "name": "stdout",
     "output_type": "stream",
     "text": [
      "Encontrei 6 links de imagens\n"
     ]
    },
    {
     "data": {
      "text/plain": [
       "['https://www.instagram.com/p/CIv-kWpByuQ/',\n",
       " 'https://www.instagram.com/p/CGik34mBnNG/',\n",
       " 'https://www.instagram.com/p/CD18xLLhjCS/',\n",
       " 'https://www.instagram.com/p/B6gqzd7BuPC/',\n",
       " 'https://www.instagram.com/p/B574jIKBbVX/',\n",
       " 'https://www.instagram.com/p/BqLVaOJhsPM/']"
      ]
     },
     "execution_count": 37,
     "metadata": {},
     "output_type": "execute_result"
    }
   ],
   "source": [
    "anchors = driver.find_elements_by_tag_name('a')\n",
    "anchors = [a.get_attribute('href') for a in anchors]\n",
    "#narrow down all links to image links only\n",
    "anchors = [a for a in anchors if str(a).startswith(\"https://www.instagram.com/p/\")]\n",
    "\n",
    "print('Encontrei ' + str(len(anchors)) + ' links de imagens')\n",
    "anchors"
   ]
  },
  {
   "cell_type": "code",
   "execution_count": 89,
   "metadata": {},
   "outputs": [
    {
     "name": "stdout",
     "output_type": "stream",
     "text": [
      "[['madu__santtos', 'ayumi.isa_', 'arelipinheirof', 'moisespereiraz', 'pejosescj', 'eduardacristo25', 'afonsomessias', 'julia_soares2002', 'kaah_tex', 'nobre_isaa', '_gustav02']]\n",
      "1\n"
     ]
    }
   ],
   "source": [
    "users = []\n",
    "lista = []\n",
    "\n",
    "driver.get(anchors[1])\n",
    "time.sleep(3)\n",
    "try:\n",
    "    driver.find_element_by_xpath('//*[@id=\"react-root\"]/section/main/div/div[1]/article/div[3]/section[2]/div/div[2]/a').click()\n",
    "except Exception:\n",
    "    pass\n",
    "\n",
    "time.sleep(2)\n",
    "elems = driver.find_elements_by_xpath(\"//a[@class='FPmhX notranslate MBL3Z']\")\n",
    "time.sleep(3)\n",
    "elems = driver.find_elements_by_xpath(\"//a[@class='FPmhX notranslate MBL3Z']\")\n",
    "\n",
    "for elem in elems:\n",
    "    users.append(elem.get_attribute('textContent'))\n",
    "    time.sleep(3)\n",
    "    driver.execute_script(\"return arguments[0].scrollIntoView();\", elem)\n",
    "lista.append(users[:])\n",
    "\n",
    "\n",
    "print(lista)\n",
    "print(len(lista))"
   ]
  },
  {
   "cell_type": "code",
   "execution_count": 82,
   "metadata": {},
   "outputs": [
    {
     "name": "stdout",
     "output_type": "stream",
     "text": [
      "11\n"
     ]
    }
   ],
   "source": [
    "print(len(users))"
   ]
  },
  {
   "cell_type": "code",
   "execution_count": 43,
   "metadata": {},
   "outputs": [
    {
     "name": "stdout",
     "output_type": "stream",
     "text": [
      "['madu__santtos', 'arelipinheirof', 'afonsomessias', 'gabriel_dias_332', 'gustavoo.campos_', 'deivysson.ws', 'carlamariafferreira', 'vanderson.nunes19', 'teones_ferreira', 'dannyel_allan', 'erikabrenaa']\n",
      "11\n"
     ]
    }
   ],
   "source": [
    "users = []\n",
    "driver.get(anchors[2])\n",
    "time.sleep(3)\n",
    "try:\n",
    "    driver.find_element_by_xpath('//*[@id=\"react-root\"]/section/main/div/div[1]/article/div[3]/section[2]/div/div[2]/a').click()\n",
    "except Exception:\n",
    "    pass\n",
    "time.sleep(2)\n",
    "elems = driver.find_elements_by_xpath(\"//a[@class='FPmhX notranslate MBL3Z']\")\n",
    "time.sleep(3)\n",
    "elems = driver.find_elements_by_xpath(\"//a[@class='FPmhX notranslate MBL3Z']\")\n",
    "\n",
    "\n",
    "for elem in elems:\n",
    "    users.append(elem.get_attribute('title'))\n",
    "\n",
    "print(users)\n",
    "print(len(users))"
   ]
  },
  {
   "cell_type": "code",
   "execution_count": 82,
   "metadata": {},
   "outputs": [
    {
     "name": "stdout",
     "output_type": "stream",
     "text": [
      "0\n"
     ]
    }
   ],
   "source": [
    "users = []\n",
    "for a in anchors:\n",
    "    driver.get(a)\n",
    "    time.sleep(3)\n",
    "    elems = driver.find_elements_by_xpath(\"//a[@class='FPmhX notranslate MBL3Z']\")\n",
    "    for elem in elems:\n",
    "        users.append(elem.get_attribute('title'))\n",
    "\n",
    "print(len(users))"
   ]
  },
  {
   "cell_type": "code",
   "execution_count": 72,
   "metadata": {
    "scrolled": true
   },
   "outputs": [
    {
     "name": "stdout",
     "output_type": "stream",
     "text": [
      "[[], [], [], [], [], [], [], [], [], [], [], [], [], [], [], [], [], []]\n",
      "0\n"
     ]
    }
   ],
   "source": [
    "users = []\n",
    "for a in images:\n",
    "    driver.get(a)\n",
    "    time.sleep(5)\n",
    "    elems = driver.find_elements_by_xpath(\"//a[@class='FPmhX notranslate MBL3Z']\")\n",
    "    elems = [nome.get_attribute('title') for nome in elems]\n",
    "    users.append()\n",
    "    \n",
    "    img = driver.find_elements_by_tag_name('img')\n",
    "    img = [i.get_attribute('src') for i in img]\n",
    "    images.append(img[1])\n",
    "    \n",
    "print(users)\n",
    "print(len(elems))"
   ]
  },
  {
   "cell_type": "code",
   "execution_count": 148,
   "metadata": {},
   "outputs": [
    {
     "name": "stdout",
     "output_type": "stream",
     "text": [
      "Encontrei 18 links de imagens\n"
     ]
    },
    {
     "data": {
      "text/plain": [
       "['https://www.instagram.com/p/CMpgv9zsSWz/',\n",
       " 'https://www.instagram.com/p/CMpdZvfsOxU/',\n",
       " 'https://www.instagram.com/p/CMhRJ__HX0S/',\n",
       " 'https://www.instagram.com/p/CMfqVjMMQKZ/',\n",
       " 'https://www.instagram.com/p/CMfFLSyMkjc/']"
      ]
     },
     "execution_count": 148,
     "metadata": {},
     "output_type": "execute_result"
    }
   ],
   "source": [
    "anchors = [a for a in anchors if str(a).startswith(\"https://www.instagram.com/p/\")]\n",
    "print('Encontrei ' + str(len(anchors)) + ' links de imagens')\n",
    "anchors[:5]"
   ]
  },
  {
   "cell_type": "code",
   "execution_count": 149,
   "metadata": {},
   "outputs": [
    {
     "data": {
      "text/plain": [
       "['https://instagram.fgru8-1.fna.fbcdn.net/v/t51.2885-15/e35/162947344_1741552879338110_5185035269253775680_n.jpg?tp=1&_nc_ht=instagram.fgru8-1.fna.fbcdn.net&_nc_cat=102&_nc_ohc=pbe6na9qNSsAX-FlEXU&ccb=7-4&oh=f60fd27e520de4aa57056100e14a9d86&oe=60816205&_nc_sid=86f79a',\n",
       " 'https://instagram.fgru8-1.fna.fbcdn.net/v/t51.2885-15/e35/163663949_1748041408733563_2531018329921638081_n.jpg?tp=1&_nc_ht=instagram.fgru8-1.fna.fbcdn.net&_nc_cat=107&_nc_ohc=LEO3Jf5UuTEAX_UV2Qu&ccb=7-4&oh=6cbb046d0ab1c86d09e893e50e343f26&oe=60834254&_nc_sid=86f79a',\n",
       " 'https://instagram.fgru8-1.fna.fbcdn.net/v/t51.2885-19/s150x150/155031531_707111426584102_6189884766584675361_n.jpg?tp=1&_nc_ht=instagram.fgru8-1.fna.fbcdn.net&_nc_ohc=GoKtAx0X0xAAX99VeRf&ccb=7-4&oh=0fdb1f48ddcd492e738587a1c4ae96d4&oe=608139F3&_nc_sid=48a2a6',\n",
       " 'https://instagram.fgru8-1.fna.fbcdn.net/v/t51.2885-15/e35/160525098_135526318489336_3752201113435884104_n.jpg?tp=1&_nc_ht=instagram.fgru8-1.fna.fbcdn.net&_nc_cat=104&_nc_ohc=JIIHSiw5VK4AX954EbZ&ccb=7-4&oh=babcd276990df4802bb8d58a2660ed71&oe=608455D0&_nc_sid=86f79a',\n",
       " 'https://instagram.fgru8-1.fna.fbcdn.net/v/t51.2885-15/e35/160537880_909455806473701_7045265961784128188_n.jpg?tp=1&_nc_ht=instagram.fgru8-1.fna.fbcdn.net&_nc_cat=105&_nc_ohc=XS6hzbJcSowAX-48TI8&ccb=7-4&oh=52885211bc5a270d20013e29d13affda&oe=60817D3D&_nc_sid=86f79a']"
      ]
     },
     "execution_count": 149,
     "metadata": {},
     "output_type": "execute_result"
    }
   ],
   "source": [
    "images = []\n",
    "\n",
    "#follow each image link and extract only image at index=1\n",
    "for a in anchors:\n",
    "    driver.get(a)\n",
    "    time.sleep(5)\n",
    "    img = driver.find_elements_by_tag_name('img')\n",
    "    img = [i.get_attribute('src') for i in img]\n",
    "    images.append(img[1])\n",
    "    \n",
    "images[:5]"
   ]
  },
  {
   "cell_type": "code",
   "execution_count": 150,
   "metadata": {},
   "outputs": [
    {
     "name": "stdout",
     "output_type": "stream",
     "text": [
      "Requirement already satisfied: wget in d:\\jupyter\\lib\\site-packages (3.2)\n"
     ]
    },
    {
     "data": {
      "text/plain": [
       "'C:\\\\Users\\\\Asus\\\\Documents\\\\Couse Machine Learning and Data Science\\\\webscraping\\\\ngenharia_deprods'"
      ]
     },
     "execution_count": 150,
     "metadata": {},
     "output_type": "execute_result"
    }
   ],
   "source": [
    "import os\n",
    "!pip install wget\n",
    "import wget\n",
    "\n",
    "path = os.getcwd()\n",
    "path = os.path.join(path, keyword[1:] + \"s\")\n",
    "\n",
    "#create the directory\n",
    "os.mkdir(path)\n",
    "path"
   ]
  },
  {
   "cell_type": "code",
   "execution_count": 151,
   "metadata": {},
   "outputs": [
    {
     "name": "stdout",
     "output_type": "stream",
     "text": [
      "100% [................................................................................] 8482 / 8482"
     ]
    }
   ],
   "source": [
    "#download images\n",
    "counter = 0\n",
    "for image in images:\n",
    "    save_as = os.path.join(path, keyword[1:] + str(counter) + '.jpg')\n",
    "    wget.download(image, save_as)\n",
    "    counter += 1"
   ]
  },
  {
   "cell_type": "code",
   "execution_count": null,
   "metadata": {},
   "outputs": [],
   "source": [
    "'''def getPosts():\n",
    "    hrefs_in_view = driver.find_elements_by_tag_name('a')\n",
    "    # finding relevant hrefs\n",
    "    hrefs_in_view = [elem.get_attribute('href') for elem in hrefs_in_view\n",
    "         if '.com/p/' in elem.get_attribute('href')]\n",
    "    \n",
    "    return hrefs_in_view;\n",
    "\n",
    "def getLikers(username,limit,post=1):\n",
    "    driver.get('https://www.instagram.com/' + username)\n",
    "    time.sleep(1)\n",
    "    users=[]\n",
    "\n",
    "    #Get Latest Post\n",
    "    driver.get(getPosts()[post])\n",
    "    \n",
    "    time.sleep(2)\n",
    "    #Open Dialog\n",
    "    followersLinkX = driver.find_element_by_xpath('//button[@class=\"sqdOP yWX7d     _8A5w5    \"]')\n",
    "    #<div class=\"Nm9Fw\">Curtido por <a \n",
    "    followersLinkX.click()\n",
    "    time.sleep(1)\n",
    "    #Get Dialog\n",
    "    xxx = driver.find_element_by_xpath('//div[@role=\"dialog\"]/div[1]/div[2]/div[1]/div[1]')\n",
    "    #Focus on and Scroll\n",
    "    xxx.click()\n",
    "    # step 3\n",
    "    actionChain = webdriver.ActionChains(driver)\n",
    "\n",
    "  \n",
    "\n",
    "    count = 0\n",
    "    \n",
    "    while(count < limit):\n",
    "        for i in range(1,1000):\n",
    "            try:\n",
    "                users.append(\"https://www.instagram.com/\" + driver.find_element_by_xpath('//div[@role=\"dialog\"]/div[1]/div[2]/div[1]/div[1]/div['+ str(i) +']/div[2]/div[1]/div[1]').text) \n",
    "                count+=1\n",
    "            except:\n",
    "                break\n",
    "        actionChain.key_down(Keys.SPACE).key_up(Keys.SPACE).perform()\n",
    "        time.sleep(0.5)  \n",
    "\n",
    "    return users \n",
    "likers = getLikers(\"python_overview\",100,1)\n",
    "likers'''"
   ]
  },
  {
   "cell_type": "code",
   "execution_count": 158,
   "metadata": {},
   "outputs": [
    {
     "ename": "AttributeError",
     "evalue": "'list' object has no attribute 'click'",
     "output_type": "error",
     "traceback": [
      "\u001b[1;31m---------------------------------------------------------------------------\u001b[0m",
      "\u001b[1;31mAttributeError\u001b[0m                            Traceback (most recent call last)",
      "\u001b[1;32m<ipython-input-158-74eb532e953c>\u001b[0m in \u001b[0;36m<module>\u001b[1;34m\u001b[0m\n\u001b[1;32m----> 1\u001b[1;33m \u001b[0muserid_element\u001b[0m \u001b[1;33m=\u001b[0m \u001b[0mdriver\u001b[0m\u001b[1;33m.\u001b[0m\u001b[0mfind_elements_by_xpath\u001b[0m\u001b[1;33m(\u001b[0m\u001b[1;34m'//*[@id=\"react-root\"]/section/main/div/div/article/div[2]/section[2]/div/div/a'\u001b[0m\u001b[1;33m)\u001b[0m\u001b[1;33m.\u001b[0m\u001b[0mclick\u001b[0m\u001b[1;33m(\u001b[0m\u001b[1;33m)\u001b[0m\u001b[1;33m\u001b[0m\u001b[1;33m\u001b[0m\u001b[0m\n\u001b[0m\u001b[0;32m      2\u001b[0m \u001b[0muserid_element\u001b[0m\u001b[1;33m\u001b[0m\u001b[1;33m\u001b[0m\u001b[0m\n",
      "\u001b[1;31mAttributeError\u001b[0m: 'list' object has no attribute 'click'"
     ]
    }
   ],
   "source": [
    "userid_element = driver.find_elements_by_xpath('//*[@id=\"react-root\"]/section/main/div/div/article/div[2]/section[2]/div/div/a').click()\n",
    "userid_element"
   ]
  },
  {
   "cell_type": "code",
   "execution_count": null,
   "metadata": {},
   "outputs": [],
   "source": []
  }
 ],
 "metadata": {
  "kernelspec": {
   "display_name": "Python 3",
   "language": "python",
   "name": "python3"
  },
  "language_info": {
   "codemirror_mode": {
    "name": "ipython",
    "version": 3
   },
   "file_extension": ".py",
   "mimetype": "text/x-python",
   "name": "python",
   "nbconvert_exporter": "python",
   "pygments_lexer": "ipython3",
   "version": "3.8.5"
  }
 },
 "nbformat": 4,
 "nbformat_minor": 4
}
