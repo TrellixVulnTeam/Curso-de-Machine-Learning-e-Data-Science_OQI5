{
 "cells": [
  {
   "cell_type": "code",
   "execution_count": 185,
   "id": "cf70afd8",
   "metadata": {},
   "outputs": [],
   "source": [
    "x <- 10"
   ]
  },
  {
   "cell_type": "code",
   "execution_count": 186,
   "id": "424f2857",
   "metadata": {},
   "outputs": [
    {
     "data": {
      "text/html": [
       "10"
      ],
      "text/latex": [
       "10"
      ],
      "text/markdown": [
       "10"
      ],
      "text/plain": [
       "[1] 10"
      ]
     },
     "metadata": {},
     "output_type": "display_data"
    }
   ],
   "source": [
    "x"
   ]
  },
  {
   "cell_type": "code",
   "execution_count": 187,
   "id": "a115caa4",
   "metadata": {},
   "outputs": [
    {
     "data": {
      "text/html": [
       "8"
      ],
      "text/latex": [
       "8"
      ],
      "text/markdown": [
       "8"
      ],
      "text/plain": [
       "[1] 8"
      ]
     },
     "metadata": {},
     "output_type": "display_data"
    }
   ],
   "source": [
    "2**3"
   ]
  },
  {
   "cell_type": "code",
   "execution_count": 188,
   "id": "e940f033",
   "metadata": {},
   "outputs": [],
   "source": [
    "library()"
   ]
  },
  {
   "cell_type": "code",
   "execution_count": 189,
   "id": "9a83d3c4",
   "metadata": {},
   "outputs": [],
   "source": [
    "library(dplyr)"
   ]
  },
  {
   "cell_type": "code",
   "execution_count": 190,
   "id": "9ab83060",
   "metadata": {},
   "outputs": [],
   "source": [
    "?dplyr"
   ]
  },
  {
   "cell_type": "code",
   "execution_count": 191,
   "id": "464d9a5b",
   "metadata": {},
   "outputs": [],
   "source": [
    "v1 <- c(1, 3 , 6)"
   ]
  },
  {
   "cell_type": "code",
   "execution_count": 192,
   "id": "b03c4ac1",
   "metadata": {},
   "outputs": [],
   "source": [
    "v1[2] <- 10"
   ]
  },
  {
   "cell_type": "code",
   "execution_count": 193,
   "id": "fd3b47b7",
   "metadata": {},
   "outputs": [
    {
     "data": {
      "text/html": [
       "<ol class=list-inline>\n",
       "\t<li>1</li>\n",
       "\t<li>10</li>\n",
       "\t<li>6</li>\n",
       "</ol>\n"
      ],
      "text/latex": [
       "\\begin{enumerate*}\n",
       "\\item 1\n",
       "\\item 10\n",
       "\\item 6\n",
       "\\end{enumerate*}\n"
      ],
      "text/markdown": [
       "1. 1\n",
       "2. 10\n",
       "3. 6\n",
       "\n",
       "\n"
      ],
      "text/plain": [
       "[1]  1 10  6"
      ]
     },
     "metadata": {},
     "output_type": "display_data"
    }
   ],
   "source": [
    "v1"
   ]
  },
  {
   "cell_type": "code",
   "execution_count": 194,
   "id": "c79e581f",
   "metadata": {},
   "outputs": [],
   "source": [
    "v2 <- seq(0, 1, by=0.1)"
   ]
  },
  {
   "cell_type": "code",
   "execution_count": 195,
   "id": "e6092da5",
   "metadata": {},
   "outputs": [
    {
     "data": {
      "text/html": [
       "<ol class=list-inline>\n",
       "\t<li>0</li>\n",
       "\t<li>0.1</li>\n",
       "\t<li>0.2</li>\n",
       "\t<li>0.3</li>\n",
       "\t<li>0.4</li>\n",
       "\t<li>0.5</li>\n",
       "\t<li>0.6</li>\n",
       "\t<li>0.7</li>\n",
       "\t<li>0.8</li>\n",
       "\t<li>0.9</li>\n",
       "\t<li>1</li>\n",
       "</ol>\n"
      ],
      "text/latex": [
       "\\begin{enumerate*}\n",
       "\\item 0\n",
       "\\item 0.1\n",
       "\\item 0.2\n",
       "\\item 0.3\n",
       "\\item 0.4\n",
       "\\item 0.5\n",
       "\\item 0.6\n",
       "\\item 0.7\n",
       "\\item 0.8\n",
       "\\item 0.9\n",
       "\\item 1\n",
       "\\end{enumerate*}\n"
      ],
      "text/markdown": [
       "1. 0\n",
       "2. 0.1\n",
       "3. 0.2\n",
       "4. 0.3\n",
       "5. 0.4\n",
       "6. 0.5\n",
       "7. 0.6\n",
       "8. 0.7\n",
       "9. 0.8\n",
       "10. 0.9\n",
       "11. 1\n",
       "\n",
       "\n"
      ],
      "text/plain": [
       " [1] 0.0 0.1 0.2 0.3 0.4 0.5 0.6 0.7 0.8 0.9 1.0"
      ]
     },
     "metadata": {},
     "output_type": "display_data"
    }
   ],
   "source": [
    "v2"
   ]
  },
  {
   "cell_type": "code",
   "execution_count": 196,
   "id": "0a5933c3",
   "metadata": {},
   "outputs": [],
   "source": [
    "m1 <- matrix(1:9, byrow = T, nrow = 3)"
   ]
  },
  {
   "cell_type": "code",
   "execution_count": 197,
   "id": "7b0c2e8a",
   "metadata": {},
   "outputs": [
    {
     "data": {
      "text/html": [
       "<table>\n",
       "<tbody>\n",
       "\t<tr><td>1</td><td>2</td><td>3</td></tr>\n",
       "\t<tr><td>4</td><td>5</td><td>6</td></tr>\n",
       "\t<tr><td>7</td><td>8</td><td>9</td></tr>\n",
       "</tbody>\n",
       "</table>\n"
      ],
      "text/latex": [
       "\\begin{tabular}{lll}\n",
       "\t 1 & 2 & 3\\\\\n",
       "\t 4 & 5 & 6\\\\\n",
       "\t 7 & 8 & 9\\\\\n",
       "\\end{tabular}\n"
      ],
      "text/markdown": [
       "\n",
       "| 1 | 2 | 3 |\n",
       "| 4 | 5 | 6 |\n",
       "| 7 | 8 | 9 |\n",
       "\n"
      ],
      "text/plain": [
       "     [,1] [,2] [,3]\n",
       "[1,] 1    2    3   \n",
       "[2,] 4    5    6   \n",
       "[3,] 7    8    9   "
      ]
     },
     "metadata": {},
     "output_type": "display_data"
    }
   ],
   "source": [
    "m1"
   ]
  },
  {
   "cell_type": "code",
   "execution_count": 198,
   "id": "272c1cb7",
   "metadata": {},
   "outputs": [],
   "source": [
    "m2 <- matrix(1:9, byrow = T, nrow = 3)"
   ]
  },
  {
   "cell_type": "code",
   "execution_count": 199,
   "id": "a827c4da",
   "metadata": {},
   "outputs": [
    {
     "data": {
      "text/html": [
       "<table>\n",
       "<tbody>\n",
       "\t<tr><td>1</td><td>2</td><td>3</td></tr>\n",
       "\t<tr><td>4</td><td>5</td><td>6</td></tr>\n",
       "\t<tr><td>7</td><td>8</td><td>9</td></tr>\n",
       "</tbody>\n",
       "</table>\n"
      ],
      "text/latex": [
       "\\begin{tabular}{lll}\n",
       "\t 1 & 2 & 3\\\\\n",
       "\t 4 & 5 & 6\\\\\n",
       "\t 7 & 8 & 9\\\\\n",
       "\\end{tabular}\n"
      ],
      "text/markdown": [
       "\n",
       "| 1 | 2 | 3 |\n",
       "| 4 | 5 | 6 |\n",
       "| 7 | 8 | 9 |\n",
       "\n"
      ],
      "text/plain": [
       "     [,1] [,2] [,3]\n",
       "[1,] 1    2    3   \n",
       "[2,] 4    5    6   \n",
       "[3,] 7    8    9   "
      ]
     },
     "metadata": {},
     "output_type": "display_data"
    }
   ],
   "source": [
    "m2"
   ]
  },
  {
   "cell_type": "code",
   "execution_count": 200,
   "id": "61c048a8",
   "metadata": {},
   "outputs": [
    {
     "data": {
      "text/html": [
       "<table>\n",
       "<tbody>\n",
       "\t<tr><td> 30</td><td> 36</td><td> 42</td></tr>\n",
       "\t<tr><td> 66</td><td> 81</td><td> 96</td></tr>\n",
       "\t<tr><td>102</td><td>126</td><td>150</td></tr>\n",
       "</tbody>\n",
       "</table>\n"
      ],
      "text/latex": [
       "\\begin{tabular}{lll}\n",
       "\t  30 &  36 &  42\\\\\n",
       "\t  66 &  81 &  96\\\\\n",
       "\t 102 & 126 & 150\\\\\n",
       "\\end{tabular}\n"
      ],
      "text/markdown": [
       "\n",
       "|  30 |  36 |  42 |\n",
       "|  66 |  81 |  96 |\n",
       "| 102 | 126 | 150 |\n",
       "\n"
      ],
      "text/plain": [
       "     [,1] [,2] [,3]\n",
       "[1,]  30   36   42 \n",
       "[2,]  66   81   96 \n",
       "[3,] 102  126  150 "
      ]
     },
     "metadata": {},
     "output_type": "display_data"
    }
   ],
   "source": [
    "m1%*%m2"
   ]
  },
  {
   "cell_type": "code",
   "execution_count": 201,
   "id": "94b27045",
   "metadata": {},
   "outputs": [],
   "source": [
    "df <- read.csv(\"dados_pe.csv\", head=T, sep=\";\")"
   ]
  },
  {
   "cell_type": "code",
   "execution_count": 202,
   "id": "42793e46",
   "metadata": {},
   "outputs": [
    {
     "data": {
      "text/html": [
       "<table>\n",
       "<thead><tr><th scope=col>funcionario</th><th scope=col>est_civil</th><th scope=col>instrucao</th><th scope=col>sexo</th><th scope=col>filhos</th><th scope=col>idade_ano</th><th scope=col>idade_mes</th><th scope=col>procedencia</th><th scope=col>salario</th></tr></thead>\n",
       "<tbody>\n",
       "\t<tr><td> 1         </td><td>solteiro   </td><td>fundamental</td><td>masculino  </td><td>NA         </td><td>26         </td><td> 3         </td><td>interior   </td><td>4          </td></tr>\n",
       "\t<tr><td> 2         </td><td>casado     </td><td>fundamental</td><td>feminino   </td><td> 1         </td><td>32         </td><td>10         </td><td>capital    </td><td>4,56       </td></tr>\n",
       "\t<tr><td> 3         </td><td>casado     </td><td>fundamental</td><td>feminino   </td><td> 2         </td><td>36         </td><td> 5         </td><td>capital    </td><td>5,25       </td></tr>\n",
       "\t<tr><td> 4         </td><td>solteiro   </td><td>medio      </td><td>masculino  </td><td>NA         </td><td>20         </td><td>10         </td><td>outra      </td><td>5,73       </td></tr>\n",
       "\t<tr><td> 5         </td><td>solteiro   </td><td>fundamental</td><td>feminino   </td><td>NA         </td><td>40         </td><td> 7         </td><td>outra      </td><td>6,26       </td></tr>\n",
       "\t<tr><td> 6         </td><td>casado     </td><td>fundamental</td><td>masculino  </td><td> 0         </td><td>28         </td><td> 0         </td><td>interior   </td><td>6,66       </td></tr>\n",
       "\t<tr><td> 7         </td><td>solteiro   </td><td>fundamental</td><td>feminino   </td><td>NA         </td><td>41         </td><td> 0         </td><td>interior   </td><td>6,86       </td></tr>\n",
       "\t<tr><td> 8         </td><td>solteiro   </td><td>fundamental</td><td>feminino   </td><td>NA         </td><td>43         </td><td> 4         </td><td>capital    </td><td>7,39       </td></tr>\n",
       "\t<tr><td> 9         </td><td>casado     </td><td>medio      </td><td>masculino  </td><td> 1         </td><td>34         </td><td>10         </td><td>capital    </td><td>7,59       </td></tr>\n",
       "\t<tr><td>10         </td><td>solteiro   </td><td>medio      </td><td>feminino   </td><td>NA         </td><td>23         </td><td> 6         </td><td>outra      </td><td>7,44       </td></tr>\n",
       "\t<tr><td>11         </td><td>casado     </td><td>medio      </td><td>masculino  </td><td> 2         </td><td>33         </td><td> 6         </td><td>interior   </td><td>8,12       </td></tr>\n",
       "\t<tr><td>12         </td><td>solteiro   </td><td>fundamental</td><td>masculino  </td><td>NA         </td><td>27         </td><td>11         </td><td>capital    </td><td>8,46       </td></tr>\n",
       "\t<tr><td>13         </td><td>solteiro   </td><td>medio      </td><td>feminino   </td><td>NA         </td><td>37         </td><td> 5         </td><td>outra      </td><td>8,74       </td></tr>\n",
       "\t<tr><td>14         </td><td>casado     </td><td>fundamental</td><td>feminino   </td><td> 3         </td><td>44         </td><td> 2         </td><td>outra      </td><td>8,95       </td></tr>\n",
       "\t<tr><td>15         </td><td>casado     </td><td>medio      </td><td>feminino   </td><td> 0         </td><td>30         </td><td> 5         </td><td>interior   </td><td>9,13       </td></tr>\n",
       "\t<tr><td>16         </td><td>solteiro   </td><td>medio      </td><td>masculino  </td><td>NA         </td><td>38         </td><td> 8         </td><td>outra      </td><td>9,35       </td></tr>\n",
       "\t<tr><td>17         </td><td>casado     </td><td>medio      </td><td>feminino   </td><td> 1         </td><td>31         </td><td> 7         </td><td>capital    </td><td>9,77       </td></tr>\n",
       "\t<tr><td>18         </td><td>casado     </td><td>fundamental</td><td>feminino   </td><td> 2         </td><td>39         </td><td> 7         </td><td>outra      </td><td>9,8        </td></tr>\n",
       "\t<tr><td>19         </td><td>solteiro   </td><td>superior   </td><td>masculino  </td><td>NA         </td><td>25         </td><td> 8         </td><td>interior   </td><td>10,53      </td></tr>\n",
       "\t<tr><td>20         </td><td>solteiro   </td><td>medio      </td><td>feminino   </td><td>NA         </td><td>37         </td><td> 4         </td><td>interior   </td><td>10,76      </td></tr>\n",
       "\t<tr><td>21         </td><td>casado     </td><td>medio      </td><td>feminino   </td><td> 1         </td><td>30         </td><td> 9         </td><td>outra      </td><td>11,06      </td></tr>\n",
       "\t<tr><td>22         </td><td>solteiro   </td><td>medio      </td><td>feminino   </td><td>NA         </td><td>34         </td><td> 2         </td><td>capital    </td><td>11,59      </td></tr>\n",
       "\t<tr><td>23         </td><td>solteiro   </td><td>fundamental</td><td>masculino  </td><td>NA         </td><td>41         </td><td> 0         </td><td>outra      </td><td>12         </td></tr>\n",
       "\t<tr><td>24         </td><td>casado     </td><td>superior   </td><td>masculino  </td><td> 0         </td><td>26         </td><td> 1         </td><td>outra      </td><td>12,79      </td></tr>\n",
       "\t<tr><td>25         </td><td>casado     </td><td>medio      </td><td>feminino   </td><td> 2         </td><td>32         </td><td> 5         </td><td>interior   </td><td>13,23      </td></tr>\n",
       "\t<tr><td>26         </td><td>casado     </td><td>medio      </td><td>feminino   </td><td> 2         </td><td>35         </td><td> 0         </td><td>outra      </td><td>13,6       </td></tr>\n",
       "\t<tr><td>27         </td><td>solteiro   </td><td>fundamental</td><td>feminino   </td><td>NA         </td><td>46         </td><td> 7         </td><td>outra      </td><td>13,85      </td></tr>\n",
       "\t<tr><td>28         </td><td>casado     </td><td>medio      </td><td>feminino   </td><td> 0         </td><td>29         </td><td> 8         </td><td>interior   </td><td>14,69      </td></tr>\n",
       "\t<tr><td>29         </td><td>casado     </td><td>medio      </td><td>masculino  </td><td> 5         </td><td>40         </td><td> 6         </td><td>interior   </td><td>14,71      </td></tr>\n",
       "\t<tr><td>30         </td><td>casado     </td><td>medio      </td><td>feminino   </td><td> 2         </td><td>35         </td><td>10         </td><td>capital    </td><td>15,99      </td></tr>\n",
       "\t<tr><td>31         </td><td>solteiro   </td><td>superior   </td><td>feminino   </td><td>NA         </td><td>31         </td><td> 5         </td><td>outra      </td><td>16,22      </td></tr>\n",
       "\t<tr><td>32         </td><td>casado     </td><td>medio      </td><td>feminino   </td><td> 1         </td><td>36         </td><td> 4         </td><td>interior   </td><td>16,61      </td></tr>\n",
       "\t<tr><td>33         </td><td>casado     </td><td>superior   </td><td>masculino  </td><td> 3         </td><td>43         </td><td> 7         </td><td>capital    </td><td>17,26      </td></tr>\n",
       "\t<tr><td>34         </td><td>solteiro   </td><td>superior   </td><td>masculino  </td><td>NA         </td><td>33         </td><td> 7         </td><td>capital    </td><td>18,75      </td></tr>\n",
       "\t<tr><td>35         </td><td>casado     </td><td>medio      </td><td>masculino  </td><td> 2         </td><td>48         </td><td>11         </td><td>capital    </td><td>19,4       </td></tr>\n",
       "\t<tr><td>36         </td><td>casado     </td><td>superior   </td><td>feminino   </td><td> 3         </td><td>42         </td><td> 2         </td><td>interior   </td><td>23,3       </td></tr>\n",
       "</tbody>\n",
       "</table>\n"
      ],
      "text/latex": [
       "\\begin{tabular}{r|lllllllll}\n",
       " funcionario & est\\_civil & instrucao & sexo & filhos & idade\\_ano & idade\\_mes & procedencia & salario\\\\\n",
       "\\hline\n",
       "\t  1          & solteiro    & fundamental & masculino   & NA          & 26          &  3          & interior    & 4          \\\\\n",
       "\t  2          & casado      & fundamental & feminino    &  1          & 32          & 10          & capital     & 4,56       \\\\\n",
       "\t  3          & casado      & fundamental & feminino    &  2          & 36          &  5          & capital     & 5,25       \\\\\n",
       "\t  4          & solteiro    & medio       & masculino   & NA          & 20          & 10          & outra       & 5,73       \\\\\n",
       "\t  5          & solteiro    & fundamental & feminino    & NA          & 40          &  7          & outra       & 6,26       \\\\\n",
       "\t  6          & casado      & fundamental & masculino   &  0          & 28          &  0          & interior    & 6,66       \\\\\n",
       "\t  7          & solteiro    & fundamental & feminino    & NA          & 41          &  0          & interior    & 6,86       \\\\\n",
       "\t  8          & solteiro    & fundamental & feminino    & NA          & 43          &  4          & capital     & 7,39       \\\\\n",
       "\t  9          & casado      & medio       & masculino   &  1          & 34          & 10          & capital     & 7,59       \\\\\n",
       "\t 10          & solteiro    & medio       & feminino    & NA          & 23          &  6          & outra       & 7,44       \\\\\n",
       "\t 11          & casado      & medio       & masculino   &  2          & 33          &  6          & interior    & 8,12       \\\\\n",
       "\t 12          & solteiro    & fundamental & masculino   & NA          & 27          & 11          & capital     & 8,46       \\\\\n",
       "\t 13          & solteiro    & medio       & feminino    & NA          & 37          &  5          & outra       & 8,74       \\\\\n",
       "\t 14          & casado      & fundamental & feminino    &  3          & 44          &  2          & outra       & 8,95       \\\\\n",
       "\t 15          & casado      & medio       & feminino    &  0          & 30          &  5          & interior    & 9,13       \\\\\n",
       "\t 16          & solteiro    & medio       & masculino   & NA          & 38          &  8          & outra       & 9,35       \\\\\n",
       "\t 17          & casado      & medio       & feminino    &  1          & 31          &  7          & capital     & 9,77       \\\\\n",
       "\t 18          & casado      & fundamental & feminino    &  2          & 39          &  7          & outra       & 9,8        \\\\\n",
       "\t 19          & solteiro    & superior    & masculino   & NA          & 25          &  8          & interior    & 10,53      \\\\\n",
       "\t 20          & solteiro    & medio       & feminino    & NA          & 37          &  4          & interior    & 10,76      \\\\\n",
       "\t 21          & casado      & medio       & feminino    &  1          & 30          &  9          & outra       & 11,06      \\\\\n",
       "\t 22          & solteiro    & medio       & feminino    & NA          & 34          &  2          & capital     & 11,59      \\\\\n",
       "\t 23          & solteiro    & fundamental & masculino   & NA          & 41          &  0          & outra       & 12         \\\\\n",
       "\t 24          & casado      & superior    & masculino   &  0          & 26          &  1          & outra       & 12,79      \\\\\n",
       "\t 25          & casado      & medio       & feminino    &  2          & 32          &  5          & interior    & 13,23      \\\\\n",
       "\t 26          & casado      & medio       & feminino    &  2          & 35          &  0          & outra       & 13,6       \\\\\n",
       "\t 27          & solteiro    & fundamental & feminino    & NA          & 46          &  7          & outra       & 13,85      \\\\\n",
       "\t 28          & casado      & medio       & feminino    &  0          & 29          &  8          & interior    & 14,69      \\\\\n",
       "\t 29          & casado      & medio       & masculino   &  5          & 40          &  6          & interior    & 14,71      \\\\\n",
       "\t 30          & casado      & medio       & feminino    &  2          & 35          & 10          & capital     & 15,99      \\\\\n",
       "\t 31          & solteiro    & superior    & feminino    & NA          & 31          &  5          & outra       & 16,22      \\\\\n",
       "\t 32          & casado      & medio       & feminino    &  1          & 36          &  4          & interior    & 16,61      \\\\\n",
       "\t 33          & casado      & superior    & masculino   &  3          & 43          &  7          & capital     & 17,26      \\\\\n",
       "\t 34          & solteiro    & superior    & masculino   & NA          & 33          &  7          & capital     & 18,75      \\\\\n",
       "\t 35          & casado      & medio       & masculino   &  2          & 48          & 11          & capital     & 19,4       \\\\\n",
       "\t 36          & casado      & superior    & feminino    &  3          & 42          &  2          & interior    & 23,3       \\\\\n",
       "\\end{tabular}\n"
      ],
      "text/markdown": [
       "\n",
       "| funcionario | est_civil | instrucao | sexo | filhos | idade_ano | idade_mes | procedencia | salario |\n",
       "|---|---|---|---|---|---|---|---|---|\n",
       "|  1          | solteiro    | fundamental | masculino   | NA          | 26          |  3          | interior    | 4           |\n",
       "|  2          | casado      | fundamental | feminino    |  1          | 32          | 10          | capital     | 4,56        |\n",
       "|  3          | casado      | fundamental | feminino    |  2          | 36          |  5          | capital     | 5,25        |\n",
       "|  4          | solteiro    | medio       | masculino   | NA          | 20          | 10          | outra       | 5,73        |\n",
       "|  5          | solteiro    | fundamental | feminino    | NA          | 40          |  7          | outra       | 6,26        |\n",
       "|  6          | casado      | fundamental | masculino   |  0          | 28          |  0          | interior    | 6,66        |\n",
       "|  7          | solteiro    | fundamental | feminino    | NA          | 41          |  0          | interior    | 6,86        |\n",
       "|  8          | solteiro    | fundamental | feminino    | NA          | 43          |  4          | capital     | 7,39        |\n",
       "|  9          | casado      | medio       | masculino   |  1          | 34          | 10          | capital     | 7,59        |\n",
       "| 10          | solteiro    | medio       | feminino    | NA          | 23          |  6          | outra       | 7,44        |\n",
       "| 11          | casado      | medio       | masculino   |  2          | 33          |  6          | interior    | 8,12        |\n",
       "| 12          | solteiro    | fundamental | masculino   | NA          | 27          | 11          | capital     | 8,46        |\n",
       "| 13          | solteiro    | medio       | feminino    | NA          | 37          |  5          | outra       | 8,74        |\n",
       "| 14          | casado      | fundamental | feminino    |  3          | 44          |  2          | outra       | 8,95        |\n",
       "| 15          | casado      | medio       | feminino    |  0          | 30          |  5          | interior    | 9,13        |\n",
       "| 16          | solteiro    | medio       | masculino   | NA          | 38          |  8          | outra       | 9,35        |\n",
       "| 17          | casado      | medio       | feminino    |  1          | 31          |  7          | capital     | 9,77        |\n",
       "| 18          | casado      | fundamental | feminino    |  2          | 39          |  7          | outra       | 9,8         |\n",
       "| 19          | solteiro    | superior    | masculino   | NA          | 25          |  8          | interior    | 10,53       |\n",
       "| 20          | solteiro    | medio       | feminino    | NA          | 37          |  4          | interior    | 10,76       |\n",
       "| 21          | casado      | medio       | feminino    |  1          | 30          |  9          | outra       | 11,06       |\n",
       "| 22          | solteiro    | medio       | feminino    | NA          | 34          |  2          | capital     | 11,59       |\n",
       "| 23          | solteiro    | fundamental | masculino   | NA          | 41          |  0          | outra       | 12          |\n",
       "| 24          | casado      | superior    | masculino   |  0          | 26          |  1          | outra       | 12,79       |\n",
       "| 25          | casado      | medio       | feminino    |  2          | 32          |  5          | interior    | 13,23       |\n",
       "| 26          | casado      | medio       | feminino    |  2          | 35          |  0          | outra       | 13,6        |\n",
       "| 27          | solteiro    | fundamental | feminino    | NA          | 46          |  7          | outra       | 13,85       |\n",
       "| 28          | casado      | medio       | feminino    |  0          | 29          |  8          | interior    | 14,69       |\n",
       "| 29          | casado      | medio       | masculino   |  5          | 40          |  6          | interior    | 14,71       |\n",
       "| 30          | casado      | medio       | feminino    |  2          | 35          | 10          | capital     | 15,99       |\n",
       "| 31          | solteiro    | superior    | feminino    | NA          | 31          |  5          | outra       | 16,22       |\n",
       "| 32          | casado      | medio       | feminino    |  1          | 36          |  4          | interior    | 16,61       |\n",
       "| 33          | casado      | superior    | masculino   |  3          | 43          |  7          | capital     | 17,26       |\n",
       "| 34          | solteiro    | superior    | masculino   | NA          | 33          |  7          | capital     | 18,75       |\n",
       "| 35          | casado      | medio       | masculino   |  2          | 48          | 11          | capital     | 19,4        |\n",
       "| 36          | casado      | superior    | feminino    |  3          | 42          |  2          | interior    | 23,3        |\n",
       "\n"
      ],
      "text/plain": [
       "   funcionario est_civil instrucao   sexo      filhos idade_ano idade_mes\n",
       "1   1          solteiro  fundamental masculino NA     26         3       \n",
       "2   2          casado    fundamental feminino   1     32        10       \n",
       "3   3          casado    fundamental feminino   2     36         5       \n",
       "4   4          solteiro  medio       masculino NA     20        10       \n",
       "5   5          solteiro  fundamental feminino  NA     40         7       \n",
       "6   6          casado    fundamental masculino  0     28         0       \n",
       "7   7          solteiro  fundamental feminino  NA     41         0       \n",
       "8   8          solteiro  fundamental feminino  NA     43         4       \n",
       "9   9          casado    medio       masculino  1     34        10       \n",
       "10 10          solteiro  medio       feminino  NA     23         6       \n",
       "11 11          casado    medio       masculino  2     33         6       \n",
       "12 12          solteiro  fundamental masculino NA     27        11       \n",
       "13 13          solteiro  medio       feminino  NA     37         5       \n",
       "14 14          casado    fundamental feminino   3     44         2       \n",
       "15 15          casado    medio       feminino   0     30         5       \n",
       "16 16          solteiro  medio       masculino NA     38         8       \n",
       "17 17          casado    medio       feminino   1     31         7       \n",
       "18 18          casado    fundamental feminino   2     39         7       \n",
       "19 19          solteiro  superior    masculino NA     25         8       \n",
       "20 20          solteiro  medio       feminino  NA     37         4       \n",
       "21 21          casado    medio       feminino   1     30         9       \n",
       "22 22          solteiro  medio       feminino  NA     34         2       \n",
       "23 23          solteiro  fundamental masculino NA     41         0       \n",
       "24 24          casado    superior    masculino  0     26         1       \n",
       "25 25          casado    medio       feminino   2     32         5       \n",
       "26 26          casado    medio       feminino   2     35         0       \n",
       "27 27          solteiro  fundamental feminino  NA     46         7       \n",
       "28 28          casado    medio       feminino   0     29         8       \n",
       "29 29          casado    medio       masculino  5     40         6       \n",
       "30 30          casado    medio       feminino   2     35        10       \n",
       "31 31          solteiro  superior    feminino  NA     31         5       \n",
       "32 32          casado    medio       feminino   1     36         4       \n",
       "33 33          casado    superior    masculino  3     43         7       \n",
       "34 34          solteiro  superior    masculino NA     33         7       \n",
       "35 35          casado    medio       masculino  2     48        11       \n",
       "36 36          casado    superior    feminino   3     42         2       \n",
       "   procedencia salario\n",
       "1  interior    4      \n",
       "2  capital     4,56   \n",
       "3  capital     5,25   \n",
       "4  outra       5,73   \n",
       "5  outra       6,26   \n",
       "6  interior    6,66   \n",
       "7  interior    6,86   \n",
       "8  capital     7,39   \n",
       "9  capital     7,59   \n",
       "10 outra       7,44   \n",
       "11 interior    8,12   \n",
       "12 capital     8,46   \n",
       "13 outra       8,74   \n",
       "14 outra       8,95   \n",
       "15 interior    9,13   \n",
       "16 outra       9,35   \n",
       "17 capital     9,77   \n",
       "18 outra       9,8    \n",
       "19 interior    10,53  \n",
       "20 interior    10,76  \n",
       "21 outra       11,06  \n",
       "22 capital     11,59  \n",
       "23 outra       12     \n",
       "24 outra       12,79  \n",
       "25 interior    13,23  \n",
       "26 outra       13,6   \n",
       "27 outra       13,85  \n",
       "28 interior    14,69  \n",
       "29 interior    14,71  \n",
       "30 capital     15,99  \n",
       "31 outra       16,22  \n",
       "32 interior    16,61  \n",
       "33 capital     17,26  \n",
       "34 capital     18,75  \n",
       "35 capital     19,4   \n",
       "36 interior    23,3   "
      ]
     },
     "metadata": {},
     "output_type": "display_data"
    }
   ],
   "source": [
    "df"
   ]
  },
  {
   "cell_type": "code",
   "execution_count": 203,
   "id": "c4470414",
   "metadata": {},
   "outputs": [
    {
     "data": {
      "text/plain": [
       "  funcionario       est_civil        instrucao         sexo        filhos    \n",
       " Min.   : 1.00   casado  :20   fundamental:12   feminino :22   Min.   :0.00  \n",
       " 1st Qu.: 9.75   solteiro:16   medio      :18   masculino:14   1st Qu.:1.00  \n",
       " Median :18.50                 superior   : 6                  Median :2.00  \n",
       " Mean   :18.50                                                 Mean   :1.65  \n",
       " 3rd Qu.:27.25                                                 3rd Qu.:2.00  \n",
       " Max.   :36.00                                                 Max.   :5.00  \n",
       "                                                               NA's   :16    \n",
       "   idade_ano       idade_mes        procedencia    salario  \n",
       " Min.   :20.00   Min.   : 0.000   capital :11   10,53  : 1  \n",
       " 1st Qu.:30.00   1st Qu.: 3.750   interior:12   10,76  : 1  \n",
       " Median :34.50   Median : 6.000   outra   :13   11,06  : 1  \n",
       " Mean   :34.58   Mean   : 5.611                 11,59  : 1  \n",
       " 3rd Qu.:40.00   3rd Qu.: 8.000                 12     : 1  \n",
       " Max.   :48.00   Max.   :11.000                 12,79  : 1  \n",
       "                                                (Other):30  "
      ]
     },
     "metadata": {},
     "output_type": "display_data"
    }
   ],
   "source": [
    "summary(df)"
   ]
  },
  {
   "cell_type": "code",
   "execution_count": 204,
   "id": "b8dc5ba8",
   "metadata": {},
   "outputs": [
    {
     "data": {
      "text/html": [
       "<ol class=list-inline>\n",
       "\t<li>'funcionario'</li>\n",
       "\t<li>'est_civil'</li>\n",
       "\t<li>'instrucao'</li>\n",
       "\t<li>'sexo'</li>\n",
       "\t<li>'filhos'</li>\n",
       "\t<li>'idade_ano'</li>\n",
       "\t<li>'idade_mes'</li>\n",
       "\t<li>'procedencia'</li>\n",
       "\t<li>'salario'</li>\n",
       "</ol>\n"
      ],
      "text/latex": [
       "\\begin{enumerate*}\n",
       "\\item 'funcionario'\n",
       "\\item 'est\\_civil'\n",
       "\\item 'instrucao'\n",
       "\\item 'sexo'\n",
       "\\item 'filhos'\n",
       "\\item 'idade\\_ano'\n",
       "\\item 'idade\\_mes'\n",
       "\\item 'procedencia'\n",
       "\\item 'salario'\n",
       "\\end{enumerate*}\n"
      ],
      "text/markdown": [
       "1. 'funcionario'\n",
       "2. 'est_civil'\n",
       "3. 'instrucao'\n",
       "4. 'sexo'\n",
       "5. 'filhos'\n",
       "6. 'idade_ano'\n",
       "7. 'idade_mes'\n",
       "8. 'procedencia'\n",
       "9. 'salario'\n",
       "\n",
       "\n"
      ],
      "text/plain": [
       "[1] \"funcionario\" \"est_civil\"   \"instrucao\"   \"sexo\"        \"filhos\"     \n",
       "[6] \"idade_ano\"   \"idade_mes\"   \"procedencia\" \"salario\"    "
      ]
     },
     "metadata": {},
     "output_type": "display_data"
    }
   ],
   "source": [
    "names(df)"
   ]
  },
  {
   "cell_type": "code",
   "execution_count": 205,
   "id": "65b25c26",
   "metadata": {},
   "outputs": [],
   "source": [
    "fa <- table(df$est_civil)  # frequência absoluta"
   ]
  },
  {
   "cell_type": "code",
   "execution_count": 206,
   "id": "1f87fb7e",
   "metadata": {},
   "outputs": [
    {
     "data": {
      "text/plain": [
       "\n",
       "  casado solteiro \n",
       "      20       16 "
      ]
     },
     "metadata": {},
     "output_type": "display_data"
    }
   ],
   "source": [
    "fa"
   ]
  },
  {
   "cell_type": "code",
   "execution_count": 207,
   "id": "ea084f92",
   "metadata": {},
   "outputs": [],
   "source": [
    "fr <- prop.table(fa)"
   ]
  },
  {
   "cell_type": "code",
   "execution_count": 208,
   "id": "4e60a943",
   "metadata": {},
   "outputs": [
    {
     "data": {
      "text/plain": [
       "\n",
       "   casado  solteiro \n",
       "0.5555556 0.4444444 "
      ]
     },
     "metadata": {},
     "output_type": "display_data"
    }
   ],
   "source": [
    "fr"
   ]
  },
  {
   "cell_type": "code",
   "execution_count": 209,
   "id": "7edafd7d",
   "metadata": {},
   "outputs": [],
   "source": [
    "fac <- cumsum(fr)"
   ]
  },
  {
   "cell_type": "code",
   "execution_count": 210,
   "id": "a7322bd8",
   "metadata": {},
   "outputs": [
    {
     "data": {
      "text/html": [
       "<dl class=dl-horizontal>\n",
       "\t<dt>casado</dt>\n",
       "\t\t<dd>0.555555555555556</dd>\n",
       "\t<dt>solteiro</dt>\n",
       "\t\t<dd>1</dd>\n",
       "</dl>\n"
      ],
      "text/latex": [
       "\\begin{description*}\n",
       "\\item[casado] 0.555555555555556\n",
       "\\item[solteiro] 1\n",
       "\\end{description*}\n"
      ],
      "text/markdown": [
       "casado\n",
       ":   0.555555555555556solteiro\n",
       ":   1\n",
       "\n"
      ],
      "text/plain": [
       "   casado  solteiro \n",
       "0.5555556 1.0000000 "
      ]
     },
     "metadata": {},
     "output_type": "display_data"
    }
   ],
   "source": [
    "fac"
   ]
  },
  {
   "cell_type": "code",
   "execution_count": 211,
   "id": "59cc11e1",
   "metadata": {},
   "outputs": [],
   "source": [
    "tabela <- cbind(fa, fr, fac, 100*fr)"
   ]
  },
  {
   "cell_type": "code",
   "execution_count": 212,
   "id": "d1b95e08",
   "metadata": {},
   "outputs": [
    {
     "data": {
      "text/html": [
       "<table>\n",
       "<thead><tr><th></th><th scope=col>fa</th><th scope=col>fr</th><th scope=col>fac</th><th scope=col></th></tr></thead>\n",
       "<tbody>\n",
       "\t<tr><th scope=row>casado</th><td>20       </td><td>0.5555556</td><td>0.5555556</td><td>55.55556 </td></tr>\n",
       "\t<tr><th scope=row>solteiro</th><td>16       </td><td>0.4444444</td><td>1.0000000</td><td>44.44444 </td></tr>\n",
       "</tbody>\n",
       "</table>\n"
      ],
      "text/latex": [
       "\\begin{tabular}{r|llll}\n",
       "  & fa & fr & fac & \\\\\n",
       "\\hline\n",
       "\tcasado & 20        & 0.5555556 & 0.5555556 & 55.55556 \\\\\n",
       "\tsolteiro & 16        & 0.4444444 & 1.0000000 & 44.44444 \\\\\n",
       "\\end{tabular}\n"
      ],
      "text/markdown": [
       "\n",
       "| <!--/--> | fa | fr | fac |  |\n",
       "|---|---|---|---|---|\n",
       "| casado | 20        | 0.5555556 | 0.5555556 | 55.55556  |\n",
       "| solteiro | 16        | 0.4444444 | 1.0000000 | 44.44444  |\n",
       "\n"
      ],
      "text/plain": [
       "         fa fr        fac               \n",
       "casado   20 0.5555556 0.5555556 55.55556\n",
       "solteiro 16 0.4444444 1.0000000 44.44444"
      ]
     },
     "metadata": {},
     "output_type": "display_data"
    }
   ],
   "source": [
    "tabela"
   ]
  },
  {
   "cell_type": "code",
   "execution_count": 213,
   "id": "b03cd830",
   "metadata": {},
   "outputs": [
    {
     "data": {
      "text/html": [
       "<table>\n",
       "<thead><tr><th></th><th scope=col>fa2</th><th scope=col>fr2</th><th scope=col>fac2</th><th scope=col></th></tr></thead>\n",
       "<tbody>\n",
       "\t<tr><th scope=row>fundamental</th><td>12       </td><td>0.3333333</td><td>0.3333333</td><td>33.33333 </td></tr>\n",
       "\t<tr><th scope=row>medio</th><td>18       </td><td>0.5000000</td><td>0.8333333</td><td>50.00000 </td></tr>\n",
       "\t<tr><th scope=row>superior</th><td> 6       </td><td>0.1666667</td><td>1.0000000</td><td>16.66667 </td></tr>\n",
       "</tbody>\n",
       "</table>\n"
      ],
      "text/latex": [
       "\\begin{tabular}{r|llll}\n",
       "  & fa2 & fr2 & fac2 & \\\\\n",
       "\\hline\n",
       "\tfundamental & 12        & 0.3333333 & 0.3333333 & 33.33333 \\\\\n",
       "\tmedio & 18        & 0.5000000 & 0.8333333 & 50.00000 \\\\\n",
       "\tsuperior &  6        & 0.1666667 & 1.0000000 & 16.66667 \\\\\n",
       "\\end{tabular}\n"
      ],
      "text/markdown": [
       "\n",
       "| <!--/--> | fa2 | fr2 | fac2 |  |\n",
       "|---|---|---|---|---|\n",
       "| fundamental | 12        | 0.3333333 | 0.3333333 | 33.33333  |\n",
       "| medio | 18        | 0.5000000 | 0.8333333 | 50.00000  |\n",
       "| superior |  6        | 0.1666667 | 1.0000000 | 16.66667  |\n",
       "\n"
      ],
      "text/plain": [
       "            fa2 fr2       fac2              \n",
       "fundamental 12  0.3333333 0.3333333 33.33333\n",
       "medio       18  0.5000000 0.8333333 50.00000\n",
       "superior     6  0.1666667 1.0000000 16.66667"
      ]
     },
     "metadata": {},
     "output_type": "display_data"
    }
   ],
   "source": [
    "fa2 <- table(df$instrucao)\n",
    "\n",
    "fr2 <- prop.table(fa2)\n",
    "\n",
    "fac2 <- cumsum(fr2)\n",
    "\n",
    "tabela2 <- cbind(fa2, fr2, fac2, 100*fr2)\n",
    "\n",
    "tabela2"
   ]
  },
  {
   "cell_type": "code",
   "execution_count": 214,
   "id": "185f00a5",
   "metadata": {},
   "outputs": [
    {
     "data": {
      "text/html": [
       "<table>\n",
       "<thead><tr><th></th><th scope=col>fa3</th><th scope=col>fr3</th><th scope=col>fac3</th><th scope=col></th></tr></thead>\n",
       "<tbody>\n",
       "\t<tr><th scope=row>0</th><td>4   </td><td>0.20</td><td>0.20</td><td>20  </td></tr>\n",
       "\t<tr><th scope=row>1</th><td>5   </td><td>0.25</td><td>0.45</td><td>25  </td></tr>\n",
       "\t<tr><th scope=row>2</th><td>7   </td><td>0.35</td><td>0.80</td><td>35  </td></tr>\n",
       "\t<tr><th scope=row>3</th><td>3   </td><td>0.15</td><td>0.95</td><td>15  </td></tr>\n",
       "\t<tr><th scope=row>5</th><td>1   </td><td>0.05</td><td>1.00</td><td> 5  </td></tr>\n",
       "</tbody>\n",
       "</table>\n"
      ],
      "text/latex": [
       "\\begin{tabular}{r|llll}\n",
       "  & fa3 & fr3 & fac3 & \\\\\n",
       "\\hline\n",
       "\t0 & 4    & 0.20 & 0.20 & 20  \\\\\n",
       "\t1 & 5    & 0.25 & 0.45 & 25  \\\\\n",
       "\t2 & 7    & 0.35 & 0.80 & 35  \\\\\n",
       "\t3 & 3    & 0.15 & 0.95 & 15  \\\\\n",
       "\t5 & 1    & 0.05 & 1.00 &  5  \\\\\n",
       "\\end{tabular}\n"
      ],
      "text/markdown": [
       "\n",
       "| <!--/--> | fa3 | fr3 | fac3 |  |\n",
       "|---|---|---|---|---|\n",
       "| 0 | 4    | 0.20 | 0.20 | 20   |\n",
       "| 1 | 5    | 0.25 | 0.45 | 25   |\n",
       "| 2 | 7    | 0.35 | 0.80 | 35   |\n",
       "| 3 | 3    | 0.15 | 0.95 | 15   |\n",
       "| 5 | 1    | 0.05 | 1.00 |  5   |\n",
       "\n"
      ],
      "text/plain": [
       "  fa3 fr3  fac3   \n",
       "0 4   0.20 0.20 20\n",
       "1 5   0.25 0.45 25\n",
       "2 7   0.35 0.80 35\n",
       "3 3   0.15 0.95 15\n",
       "5 1   0.05 1.00  5"
      ]
     },
     "metadata": {},
     "output_type": "display_data"
    }
   ],
   "source": [
    "fa3 <- table(df$filhos)\n",
    "\n",
    "fr3 <- prop.table(fa3)\n",
    "\n",
    "fac3 <- cumsum(fr3)\n",
    "\n",
    "tabela3 <- cbind(fa3, fr3, fac3, 100*fr3)\n",
    "\n",
    "tabela3"
   ]
  },
  {
   "cell_type": "code",
   "execution_count": 215,
   "id": "25706657",
   "metadata": {},
   "outputs": [
    {
     "data": {
      "text/html": [
       "<table>\n",
       "<thead><tr><th></th><th scope=col>fa4</th><th scope=col>fr4</th><th scope=col>fac4</th><th scope=col></th></tr></thead>\n",
       "<tbody>\n",
       "\t<tr><th scope=row>10,53</th><td>1         </td><td>0.02777778</td><td>0.02777778</td><td>2.777778  </td></tr>\n",
       "\t<tr><th scope=row>10,76</th><td>1         </td><td>0.02777778</td><td>0.05555556</td><td>2.777778  </td></tr>\n",
       "\t<tr><th scope=row>11,06</th><td>1         </td><td>0.02777778</td><td>0.08333333</td><td>2.777778  </td></tr>\n",
       "\t<tr><th scope=row>11,59</th><td>1         </td><td>0.02777778</td><td>0.11111111</td><td>2.777778  </td></tr>\n",
       "\t<tr><th scope=row>12</th><td>1         </td><td>0.02777778</td><td>0.13888889</td><td>2.777778  </td></tr>\n",
       "\t<tr><th scope=row>12,79</th><td>1         </td><td>0.02777778</td><td>0.16666667</td><td>2.777778  </td></tr>\n",
       "\t<tr><th scope=row>13,23</th><td>1         </td><td>0.02777778</td><td>0.19444444</td><td>2.777778  </td></tr>\n",
       "\t<tr><th scope=row>13,6</th><td>1         </td><td>0.02777778</td><td>0.22222222</td><td>2.777778  </td></tr>\n",
       "\t<tr><th scope=row>13,85</th><td>1         </td><td>0.02777778</td><td>0.25000000</td><td>2.777778  </td></tr>\n",
       "\t<tr><th scope=row>14,69</th><td>1         </td><td>0.02777778</td><td>0.27777778</td><td>2.777778  </td></tr>\n",
       "\t<tr><th scope=row>14,71</th><td>1         </td><td>0.02777778</td><td>0.30555556</td><td>2.777778  </td></tr>\n",
       "\t<tr><th scope=row>15,99</th><td>1         </td><td>0.02777778</td><td>0.33333333</td><td>2.777778  </td></tr>\n",
       "\t<tr><th scope=row>16,22</th><td>1         </td><td>0.02777778</td><td>0.36111111</td><td>2.777778  </td></tr>\n",
       "\t<tr><th scope=row>16,61</th><td>1         </td><td>0.02777778</td><td>0.38888889</td><td>2.777778  </td></tr>\n",
       "\t<tr><th scope=row>17,26</th><td>1         </td><td>0.02777778</td><td>0.41666667</td><td>2.777778  </td></tr>\n",
       "\t<tr><th scope=row>18,75</th><td>1         </td><td>0.02777778</td><td>0.44444444</td><td>2.777778  </td></tr>\n",
       "\t<tr><th scope=row>19,4</th><td>1         </td><td>0.02777778</td><td>0.47222222</td><td>2.777778  </td></tr>\n",
       "\t<tr><th scope=row>23,3</th><td>1         </td><td>0.02777778</td><td>0.50000000</td><td>2.777778  </td></tr>\n",
       "\t<tr><th scope=row>4</th><td>1         </td><td>0.02777778</td><td>0.52777778</td><td>2.777778  </td></tr>\n",
       "\t<tr><th scope=row>4,56</th><td>1         </td><td>0.02777778</td><td>0.55555556</td><td>2.777778  </td></tr>\n",
       "\t<tr><th scope=row>5,25</th><td>1         </td><td>0.02777778</td><td>0.58333333</td><td>2.777778  </td></tr>\n",
       "\t<tr><th scope=row>5,73</th><td>1         </td><td>0.02777778</td><td>0.61111111</td><td>2.777778  </td></tr>\n",
       "\t<tr><th scope=row>6,26</th><td>1         </td><td>0.02777778</td><td>0.63888889</td><td>2.777778  </td></tr>\n",
       "\t<tr><th scope=row>6,66</th><td>1         </td><td>0.02777778</td><td>0.66666667</td><td>2.777778  </td></tr>\n",
       "\t<tr><th scope=row>6,86</th><td>1         </td><td>0.02777778</td><td>0.69444444</td><td>2.777778  </td></tr>\n",
       "\t<tr><th scope=row>7,39</th><td>1         </td><td>0.02777778</td><td>0.72222222</td><td>2.777778  </td></tr>\n",
       "\t<tr><th scope=row>7,44</th><td>1         </td><td>0.02777778</td><td>0.75000000</td><td>2.777778  </td></tr>\n",
       "\t<tr><th scope=row>7,59</th><td>1         </td><td>0.02777778</td><td>0.77777778</td><td>2.777778  </td></tr>\n",
       "\t<tr><th scope=row>8,12</th><td>1         </td><td>0.02777778</td><td>0.80555556</td><td>2.777778  </td></tr>\n",
       "\t<tr><th scope=row>8,46</th><td>1         </td><td>0.02777778</td><td>0.83333333</td><td>2.777778  </td></tr>\n",
       "\t<tr><th scope=row>8,74</th><td>1         </td><td>0.02777778</td><td>0.86111111</td><td>2.777778  </td></tr>\n",
       "\t<tr><th scope=row>8,95</th><td>1         </td><td>0.02777778</td><td>0.88888889</td><td>2.777778  </td></tr>\n",
       "\t<tr><th scope=row>9,13</th><td>1         </td><td>0.02777778</td><td>0.91666667</td><td>2.777778  </td></tr>\n",
       "\t<tr><th scope=row>9,35</th><td>1         </td><td>0.02777778</td><td>0.94444444</td><td>2.777778  </td></tr>\n",
       "\t<tr><th scope=row>9,77</th><td>1         </td><td>0.02777778</td><td>0.97222222</td><td>2.777778  </td></tr>\n",
       "\t<tr><th scope=row>9,8</th><td>1         </td><td>0.02777778</td><td>1.00000000</td><td>2.777778  </td></tr>\n",
       "</tbody>\n",
       "</table>\n"
      ],
      "text/latex": [
       "\\begin{tabular}{r|llll}\n",
       "  & fa4 & fr4 & fac4 & \\\\\n",
       "\\hline\n",
       "\t10,53 & 1          & 0.02777778 & 0.02777778 & 2.777778  \\\\\n",
       "\t10,76 & 1          & 0.02777778 & 0.05555556 & 2.777778  \\\\\n",
       "\t11,06 & 1          & 0.02777778 & 0.08333333 & 2.777778  \\\\\n",
       "\t11,59 & 1          & 0.02777778 & 0.11111111 & 2.777778  \\\\\n",
       "\t12 & 1          & 0.02777778 & 0.13888889 & 2.777778  \\\\\n",
       "\t12,79 & 1          & 0.02777778 & 0.16666667 & 2.777778  \\\\\n",
       "\t13,23 & 1          & 0.02777778 & 0.19444444 & 2.777778  \\\\\n",
       "\t13,6 & 1          & 0.02777778 & 0.22222222 & 2.777778  \\\\\n",
       "\t13,85 & 1          & 0.02777778 & 0.25000000 & 2.777778  \\\\\n",
       "\t14,69 & 1          & 0.02777778 & 0.27777778 & 2.777778  \\\\\n",
       "\t14,71 & 1          & 0.02777778 & 0.30555556 & 2.777778  \\\\\n",
       "\t15,99 & 1          & 0.02777778 & 0.33333333 & 2.777778  \\\\\n",
       "\t16,22 & 1          & 0.02777778 & 0.36111111 & 2.777778  \\\\\n",
       "\t16,61 & 1          & 0.02777778 & 0.38888889 & 2.777778  \\\\\n",
       "\t17,26 & 1          & 0.02777778 & 0.41666667 & 2.777778  \\\\\n",
       "\t18,75 & 1          & 0.02777778 & 0.44444444 & 2.777778  \\\\\n",
       "\t19,4 & 1          & 0.02777778 & 0.47222222 & 2.777778  \\\\\n",
       "\t23,3 & 1          & 0.02777778 & 0.50000000 & 2.777778  \\\\\n",
       "\t4 & 1          & 0.02777778 & 0.52777778 & 2.777778  \\\\\n",
       "\t4,56 & 1          & 0.02777778 & 0.55555556 & 2.777778  \\\\\n",
       "\t5,25 & 1          & 0.02777778 & 0.58333333 & 2.777778  \\\\\n",
       "\t5,73 & 1          & 0.02777778 & 0.61111111 & 2.777778  \\\\\n",
       "\t6,26 & 1          & 0.02777778 & 0.63888889 & 2.777778  \\\\\n",
       "\t6,66 & 1          & 0.02777778 & 0.66666667 & 2.777778  \\\\\n",
       "\t6,86 & 1          & 0.02777778 & 0.69444444 & 2.777778  \\\\\n",
       "\t7,39 & 1          & 0.02777778 & 0.72222222 & 2.777778  \\\\\n",
       "\t7,44 & 1          & 0.02777778 & 0.75000000 & 2.777778  \\\\\n",
       "\t7,59 & 1          & 0.02777778 & 0.77777778 & 2.777778  \\\\\n",
       "\t8,12 & 1          & 0.02777778 & 0.80555556 & 2.777778  \\\\\n",
       "\t8,46 & 1          & 0.02777778 & 0.83333333 & 2.777778  \\\\\n",
       "\t8,74 & 1          & 0.02777778 & 0.86111111 & 2.777778  \\\\\n",
       "\t8,95 & 1          & 0.02777778 & 0.88888889 & 2.777778  \\\\\n",
       "\t9,13 & 1          & 0.02777778 & 0.91666667 & 2.777778  \\\\\n",
       "\t9,35 & 1          & 0.02777778 & 0.94444444 & 2.777778  \\\\\n",
       "\t9,77 & 1          & 0.02777778 & 0.97222222 & 2.777778  \\\\\n",
       "\t9,8 & 1          & 0.02777778 & 1.00000000 & 2.777778  \\\\\n",
       "\\end{tabular}\n"
      ],
      "text/markdown": [
       "\n",
       "| <!--/--> | fa4 | fr4 | fac4 |  |\n",
       "|---|---|---|---|---|\n",
       "| 10,53 | 1          | 0.02777778 | 0.02777778 | 2.777778   |\n",
       "| 10,76 | 1          | 0.02777778 | 0.05555556 | 2.777778   |\n",
       "| 11,06 | 1          | 0.02777778 | 0.08333333 | 2.777778   |\n",
       "| 11,59 | 1          | 0.02777778 | 0.11111111 | 2.777778   |\n",
       "| 12 | 1          | 0.02777778 | 0.13888889 | 2.777778   |\n",
       "| 12,79 | 1          | 0.02777778 | 0.16666667 | 2.777778   |\n",
       "| 13,23 | 1          | 0.02777778 | 0.19444444 | 2.777778   |\n",
       "| 13,6 | 1          | 0.02777778 | 0.22222222 | 2.777778   |\n",
       "| 13,85 | 1          | 0.02777778 | 0.25000000 | 2.777778   |\n",
       "| 14,69 | 1          | 0.02777778 | 0.27777778 | 2.777778   |\n",
       "| 14,71 | 1          | 0.02777778 | 0.30555556 | 2.777778   |\n",
       "| 15,99 | 1          | 0.02777778 | 0.33333333 | 2.777778   |\n",
       "| 16,22 | 1          | 0.02777778 | 0.36111111 | 2.777778   |\n",
       "| 16,61 | 1          | 0.02777778 | 0.38888889 | 2.777778   |\n",
       "| 17,26 | 1          | 0.02777778 | 0.41666667 | 2.777778   |\n",
       "| 18,75 | 1          | 0.02777778 | 0.44444444 | 2.777778   |\n",
       "| 19,4 | 1          | 0.02777778 | 0.47222222 | 2.777778   |\n",
       "| 23,3 | 1          | 0.02777778 | 0.50000000 | 2.777778   |\n",
       "| 4 | 1          | 0.02777778 | 0.52777778 | 2.777778   |\n",
       "| 4,56 | 1          | 0.02777778 | 0.55555556 | 2.777778   |\n",
       "| 5,25 | 1          | 0.02777778 | 0.58333333 | 2.777778   |\n",
       "| 5,73 | 1          | 0.02777778 | 0.61111111 | 2.777778   |\n",
       "| 6,26 | 1          | 0.02777778 | 0.63888889 | 2.777778   |\n",
       "| 6,66 | 1          | 0.02777778 | 0.66666667 | 2.777778   |\n",
       "| 6,86 | 1          | 0.02777778 | 0.69444444 | 2.777778   |\n",
       "| 7,39 | 1          | 0.02777778 | 0.72222222 | 2.777778   |\n",
       "| 7,44 | 1          | 0.02777778 | 0.75000000 | 2.777778   |\n",
       "| 7,59 | 1          | 0.02777778 | 0.77777778 | 2.777778   |\n",
       "| 8,12 | 1          | 0.02777778 | 0.80555556 | 2.777778   |\n",
       "| 8,46 | 1          | 0.02777778 | 0.83333333 | 2.777778   |\n",
       "| 8,74 | 1          | 0.02777778 | 0.86111111 | 2.777778   |\n",
       "| 8,95 | 1          | 0.02777778 | 0.88888889 | 2.777778   |\n",
       "| 9,13 | 1          | 0.02777778 | 0.91666667 | 2.777778   |\n",
       "| 9,35 | 1          | 0.02777778 | 0.94444444 | 2.777778   |\n",
       "| 9,77 | 1          | 0.02777778 | 0.97222222 | 2.777778   |\n",
       "| 9,8 | 1          | 0.02777778 | 1.00000000 | 2.777778   |\n",
       "\n"
      ],
      "text/plain": [
       "      fa4 fr4        fac4               \n",
       "10,53 1   0.02777778 0.02777778 2.777778\n",
       "10,76 1   0.02777778 0.05555556 2.777778\n",
       "11,06 1   0.02777778 0.08333333 2.777778\n",
       "11,59 1   0.02777778 0.11111111 2.777778\n",
       "12    1   0.02777778 0.13888889 2.777778\n",
       "12,79 1   0.02777778 0.16666667 2.777778\n",
       "13,23 1   0.02777778 0.19444444 2.777778\n",
       "13,6  1   0.02777778 0.22222222 2.777778\n",
       "13,85 1   0.02777778 0.25000000 2.777778\n",
       "14,69 1   0.02777778 0.27777778 2.777778\n",
       "14,71 1   0.02777778 0.30555556 2.777778\n",
       "15,99 1   0.02777778 0.33333333 2.777778\n",
       "16,22 1   0.02777778 0.36111111 2.777778\n",
       "16,61 1   0.02777778 0.38888889 2.777778\n",
       "17,26 1   0.02777778 0.41666667 2.777778\n",
       "18,75 1   0.02777778 0.44444444 2.777778\n",
       "19,4  1   0.02777778 0.47222222 2.777778\n",
       "23,3  1   0.02777778 0.50000000 2.777778\n",
       "4     1   0.02777778 0.52777778 2.777778\n",
       "4,56  1   0.02777778 0.55555556 2.777778\n",
       "5,25  1   0.02777778 0.58333333 2.777778\n",
       "5,73  1   0.02777778 0.61111111 2.777778\n",
       "6,26  1   0.02777778 0.63888889 2.777778\n",
       "6,66  1   0.02777778 0.66666667 2.777778\n",
       "6,86  1   0.02777778 0.69444444 2.777778\n",
       "7,39  1   0.02777778 0.72222222 2.777778\n",
       "7,44  1   0.02777778 0.75000000 2.777778\n",
       "7,59  1   0.02777778 0.77777778 2.777778\n",
       "8,12  1   0.02777778 0.80555556 2.777778\n",
       "8,46  1   0.02777778 0.83333333 2.777778\n",
       "8,74  1   0.02777778 0.86111111 2.777778\n",
       "8,95  1   0.02777778 0.88888889 2.777778\n",
       "9,13  1   0.02777778 0.91666667 2.777778\n",
       "9,35  1   0.02777778 0.94444444 2.777778\n",
       "9,77  1   0.02777778 0.97222222 2.777778\n",
       "9,8   1   0.02777778 1.00000000 2.777778"
      ]
     },
     "metadata": {},
     "output_type": "display_data"
    }
   ],
   "source": [
    "fa4 <- table(df$salario)\n",
    "\n",
    "fr4 <- prop.table(fa4)\n",
    "\n",
    "fac4 <- cumsum(fr4)\n",
    "\n",
    "tabela4 <- cbind(fa4, fr4, fac4, 100*fr4)\n",
    "\n",
    "tabela4"
   ]
  },
  {
   "cell_type": "code",
   "execution_count": 216,
   "id": "239ece27",
   "metadata": {},
   "outputs": [
    {
     "ename": "ERROR",
     "evalue": "Error in Summary.factor(structure(c(19L, 20L, 21L, 22L, 23L, 24L, 25L, : 'range' not meaningful for factors\n",
     "output_type": "error",
     "traceback": [
      "Error in Summary.factor(structure(c(19L, 20L, 21L, 22L, 23L, 24L, 25L, : 'range' not meaningful for factors\nTraceback:\n",
      "1. Summary.factor(structure(c(19L, 20L, 21L, 22L, 23L, 24L, 25L, \n . 26L, 28L, 27L, 29L, 30L, 31L, 32L, 33L, 34L, 35L, 36L, 1L, 2L, \n . 3L, 4L, 5L, 6L, 7L, 8L, 9L, 10L, 11L, 12L, 13L, 14L, 15L, 16L, \n . 17L, 18L), .Label = c(\"10,53\", \"10,76\", \"11,06\", \"11,59\", \"12\", \n . \"12,79\", \"13,23\", \"13,6\", \"13,85\", \"14,69\", \"14,71\", \"15,99\", \n . \"16,22\", \"16,61\", \"17,26\", \"18,75\", \"19,4\", \"23,3\", \"4\", \"4,56\", \n . \"5,25\", \"5,73\", \"6,26\", \"6,66\", \"6,86\", \"7,39\", \"7,44\", \"7,59\", \n . \"8,12\", \"8,46\", \"8,74\", \"8,95\", \"9,13\", \"9,35\", \"9,77\", \"9,8\"\n . ), class = \"factor\"), na.rm = FALSE)",
      "2. stop(gettextf(\"%s not meaningful for factors\", sQuote(.Generic)))"
     ]
    }
   ],
   "source": [
    "range(df$salario)\n",
    "nclass.Sturges(df$salario)\n",
    "fa6 <- table(cut(df$salario, seq(3.9,23.30, l=7)))\n",
    "fa6\n",
    "\n",
    "fa6 <- table(df$salario)\n",
    "\n",
    "fr6 <- prop.table(fa6)\n",
    "\n",
    "fac6 <- cumsum(fr6)\n",
    "\n",
    "tabela6 <- cbind(fa6, fr6, fac6, 100*fr6)\n",
    "\n",
    "tabela6"
   ]
  },
  {
   "cell_type": "code",
   "execution_count": 218,
   "id": "f7f978c3",
   "metadata": {},
   "outputs": [
    {
     "data": {
      "text/plain": [
       "             \n",
       "              feminino masculino\n",
       "  fundamental        8         4\n",
       "  medio             12         6\n",
       "  superior           2         4"
      ]
     },
     "metadata": {},
     "output_type": "display_data"
    },
    {
     "data": {
      "image/png": "[encoded data removed]",
      "text/plain": [
       "Plot with title \" \""
      ]
     },
     "metadata": {},
     "output_type": "display_data"
    }
   ],
   "source": [
    "tcont <- table(df$instrucao, df$sexo)\n",
    "tcont\n",
    "\n",
    "barplot(table(df$instrucao), main=\" \", col=\"red\")"
   ]
  },
  {
   "cell_type": "code",
   "execution_count": 219,
   "id": "101163f0",
   "metadata": {},
   "outputs": [
    {
     "data": {
      "image/png": "[encoded data removed]",
      "text/plain": [
       "Plot with title \"Escolaridade\""
      ]
     },
     "metadata": {},
     "output_type": "display_data"
    }
   ],
   "source": [
    "pie(table(df$instrucao), main= \"Escolaridade\")"
   ]
  },
  {
   "cell_type": "code",
   "execution_count": 220,
   "id": "6dd9ffac",
   "metadata": {},
   "outputs": [
    {
     "ename": "ERROR",
     "evalue": "Error in hist.default(df$salario): 'x' must be numeric\n",
     "output_type": "error",
     "traceback": [
      "Error in hist.default(df$salario): 'x' must be numeric\nTraceback:\n",
      "1. hist(df$salario)",
      "2. hist.default(df$salario)",
      "3. stop(\"'x' must be numeric\")"
     ]
    }
   ],
   "source": [
    "hist(df$salario)\n",
    "hist(df$salario, nclass=5)\n",
    "hist(df$salario, nclass=5, freq=F)"
   ]
  },
  {
   "cell_type": "code",
   "execution_count": 221,
   "id": "00e7221b",
   "metadata": {},
   "outputs": [
    {
     "ename": "ERROR",
     "evalue": "Error in oldClass(stats) <- cl: adicionando classe \"factor\" a um objeto inválido\n",
     "output_type": "error",
     "traceback": [
      "Error in oldClass(stats) <- cl: adicionando classe \"factor\" a um objeto inválido\nTraceback:\n",
      "1. boxplot(df$salario)",
      "2. boxplot.default(df$salario)"
     ]
    }
   ],
   "source": [
    "boxplot(df$salario)"
   ]
  },
  {
   "cell_type": "code",
   "execution_count": null,
   "id": "7747e51e",
   "metadata": {},
   "outputs": [],
   "source": []
  }
 ],
 "metadata": {
  "kernelspec": {
   "display_name": "R",
   "language": "R",
   "name": "ir"
  },
  "language_info": {
   "codemirror_mode": "r",
   "file_extension": ".r",
   "mimetype": "text/x-r-source",
   "name": "R",
   "pygments_lexer": "r",
   "version": "3.6.1"
  }
 },
 "nbformat": 4,
 "nbformat_minor": 5
}
