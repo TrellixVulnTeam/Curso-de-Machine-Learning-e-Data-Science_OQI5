{
 "cells": [
  {
   "cell_type": "markdown",
   "metadata": {
    "colab_type": "text",
    "id": "WvMflodMjQKe"
   },
   "source": [
    "***\n",
    "# <font color=green size=10>CURSO DE ESTATÍSTICA - PARTE 1</font>\n",
    "***"
   ]
  },
  {
   "cell_type": "markdown",
   "metadata": {
    "colab_type": "text",
    "id": "cVgsZ_E3jQKg"
   },
   "source": [
    "# <font color=green>1 CONHECENDO OS DADOS</font>\n",
    "***"
   ]
  },
  {
   "cell_type": "markdown",
   "metadata": {
    "colab_type": "text",
    "id": "TDjqYYNojQKh"
   },
   "source": [
    "## <font color=green>1.1 Dataset do projeto</font>\n",
    "***"
   ]
  },
  {
   "cell_type": "markdown",
   "metadata": {
    "colab_type": "text",
    "id": "iN1gIbaKjQKh"
   },
   "source": [
    "### Pesquisa Nacional por Amostra de Domicílios - 2015\n",
    "\n",
    "A <b>Pesquisa Nacional por Amostra de Domicílios - PNAD</b> investiga anualmente, de forma permanente, características gerais da população, de educação, trabalho, rendimento e habitação e outras, com periodicidade variável, de acordo com as necessidades de informação para o país, como as características sobre migração, fecundidade, nupcialidade, saúde, segurança alimentar, entre outros temas. O levantamento dessas estatísticas constitui, ao longo dos 49 anos de realização da pesquisa, um importante instrumento para formulação, validação e avaliação de políticas orientadas para o desenvolvimento socioeconômico e a melhoria das condições de vida no Brasil."
   ]
  },
  {
   "cell_type": "markdown",
   "metadata": {
    "colab_type": "text",
    "id": "U6V7br1RjQKi"
   },
   "source": [
    "### Fonte dos Dados\n",
    "\n",
    "https://ww2.ibge.gov.br/home/estatistica/populacao/trabalhoerendimento/pnad2015/microdados.shtm"
   ]
  },
  {
   "cell_type": "markdown",
   "metadata": {
    "colab_type": "text",
    "id": "r0Fe_qnzjQKj"
   },
   "source": [
    "### Variáveis utilizadas\n",
    "\n",
    "> ### Renda\n",
    "> ***\n",
    "\n",
    "Rendimento mensal do trabalho principal para pessoas de 10 anos ou mais de idade.\n",
    "\n",
    "> ### Idade\n",
    "> ***\n",
    "\n",
    "Idade do morador na data de referência em anos.\n",
    "\n",
    "> ### Altura (elaboração própria)\n",
    "> ***\n",
    "\n",
    "Altura do morador em metros.\n",
    "\n",
    "> ### UF\n",
    "> ***\n",
    "\n",
    "|Código|Descrição|\n",
    "|---|---|\n",
    "|11|Rondônia|\n",
    "|12|Acre|\n",
    "|13|Amazonas|\n",
    "|14|Roraima|\n",
    "|15|Pará|\n",
    "|16|Amapá|\n",
    "|17|Tocantins|\n",
    "|21|Maranhão|\n",
    "|22|Piauí|\n",
    "|23|Ceará|\n",
    "|24|Rio Grande do Norte|\n",
    "|25|Paraíba|\n",
    "|26|Pernambuco|\n",
    "|27|Alagoas|\n",
    "|28|Sergipe|\n",
    "|29|Bahia|\n",
    "|31|Minas Gerais|\n",
    "|32|Espírito Santo|\n",
    "|33|Rio de Janeiro|\n",
    "|35|São Paulo|\n",
    "|41|Paraná|\n",
    "|42|Santa Catarina|\n",
    "|43|Rio Grande do Sul|\n",
    "|50|Mato Grosso do Sul|\n",
    "|51|Mato Grosso|\n",
    "|52|Goiás|\n",
    "|53|Distrito Federal|\n",
    "\n",
    "> ### Sexo\t\n",
    "> ***\n",
    "\n",
    "|Código|Descrição|\n",
    "|---|---|\n",
    "|0|Masculino|\n",
    "|1|Feminino|\n",
    "\n",
    "> ### Anos de Estudo\n",
    "> ***\n",
    "\n",
    "|Código|Descrição|\n",
    "|---|---|\n",
    "|1|Sem instrução e menos de 1 ano|\n",
    "|2|1 ano|\n",
    "|3|2 anos|\n",
    "|4|3 anos|\n",
    "|5|4 anos|\n",
    "|6|5 anos|\n",
    "|7|6 anos|\n",
    "|8|7 anos|\n",
    "|9|8 anos|\n",
    "|10|9 anos|\n",
    "|11|10 anos|\n",
    "|12|11 anos|\n",
    "|13|12 anos|\n",
    "|14|13 anos|\n",
    "|15|14 anos|\n",
    "|16|15 anos ou mais|\n",
    "|17|Não determinados| \n",
    "||Não aplicável|\n",
    "\n",
    "> ### Cor\n",
    "> ***\n",
    "\n",
    "|Código|Descrição|\n",
    "|---|---|\n",
    "|0|Indígena|\n",
    "|2|Branca|\n",
    "|4|Preta|\n",
    "|6|Amarela|\n",
    "|8|Parda|\n",
    "|9|Sem declaração|"
   ]
  },
  {
   "cell_type": "markdown",
   "metadata": {
    "colab_type": "text",
    "id": "OK1IQH5cX7Gb"
   },
   "source": [
    "#### <font color='red'>Observação</font>\n",
    "***\n",
    "> Os seguintes tratamentos foram realizados nos dados originais:\n",
    "> 1. Foram eliminados os registros onde a <b>Renda</b> era inválida (999 999 999 999);\n",
    "> 2. Foram eliminados os registros onde a <b>Renda</b> era missing;\n",
    "> 3. Foram considerados somente os registros das <b>Pessoas de Referência</b> de cada domicílio (responsável pelo domicílio)."
   ]
  },
  {
   "cell_type": "markdown",
   "metadata": {},
   "source": [
    "### R (informações básicas)"
   ]
  },
  {
   "cell_type": "code",
   "execution_count": 2,
   "metadata": {},
   "outputs": [
    {
     "data": {
      "text/plain": [
       "R version 3.6.1 (2019-07-05)\n",
       "Platform: x86_64-w64-mingw32/x64 (64-bit)\n",
       "Running under: Windows 10 x64 (build 22000)\n",
       "\n",
       "Matrix products: default\n",
       "\n",
       "locale:\n",
       "[1] LC_COLLATE=Portuguese_Brazil.1252  LC_CTYPE=Portuguese_Brazil.1252   \n",
       "[3] LC_MONETARY=Portuguese_Brazil.1252 LC_NUMERIC=C                      \n",
       "[5] LC_TIME=Portuguese_Brazil.1252    \n",
       "\n",
       "attached base packages:\n",
       "[1] stats     graphics  grDevices utils     datasets  methods   base     \n",
       "\n",
       "loaded via a namespace (and not attached):\n",
       " [1] compiler_3.6.1  IRdisplay_0.7.0 pbdZMQ_0.3-3    tools_3.6.1    \n",
       " [5] htmltools_0.3.6 base64enc_0.1-3 crayon_1.3.4    Rcpp_1.0.1     \n",
       " [9] uuid_0.1-2      IRkernel_0.8.15 jsonlite_1.6    digest_0.6.18  \n",
       "[13] repr_0.19.2     evaluate_0.13  "
      ]
     },
     "metadata": {},
     "output_type": "display_data"
    }
   ],
   "source": [
    "sessionInfo() # Print version information about R, the OS and attached or loaded packages."
   ]
  },
  {
   "cell_type": "markdown",
   "metadata": {},
   "source": [
    "### Importando bibliotecas \n",
    "#### A bilioteca dplyr\n",
    "https://www.rdocumentation.org/packages/dplyr"
   ]
  },
  {
   "cell_type": "code",
   "execution_count": 3,
   "metadata": {
    "scrolled": false
   },
   "outputs": [],
   "source": [
    "library() # In R, a package is a collection of R functions, data and compiled code. The location where the packages are stored is called the library. If there is a particular functionality that you require, you can download the package from the appropriate site and it will be stored in your library."
   ]
  },
  {
   "cell_type": "code",
   "execution_count": 4,
   "metadata": {},
   "outputs": [
    {
     "name": "stderr",
     "output_type": "stream",
     "text": [
      "\n",
      "Attaching package: 'dplyr'\n",
      "\n",
      "The following objects are masked from 'package:stats':\n",
      "\n",
      "    filter, lag\n",
      "\n",
      "The following objects are masked from 'package:base':\n",
      "\n",
      "    intersect, setdiff, setequal, union\n",
      "\n"
     ]
    }
   ],
   "source": [
    "library(dplyr)"
   ]
  },
  {
   "cell_type": "markdown",
   "metadata": {},
   "source": [
    "### <font color=red>Documentações:\n",
    "\n",
    "- [**select**](https://www.rdocumentation.org/packages/dplyr/versions/0.7.8/topics/select)\n",
    "- [**arrange**](https://www.rdocumentation.org/packages/dplyr/versions/0.7.8/topics/arrange)\n",
    "- [**read.csv**](https://www.rdocumentation.org/packages/utils/versions/3.6.1/topics/read.table)\n",
    "- [**head**](https://www.rdocumentation.org/packages/utils/versions/3.6.1/topics/head)"
   ]
  },
  {
   "cell_type": "markdown",
   "metadata": {},
   "source": [
    "### Acessando a ajuda"
   ]
  },
  {
   "cell_type": "code",
   "execution_count": 5,
   "metadata": {},
   "outputs": [],
   "source": [
    "?select"
   ]
  },
  {
   "cell_type": "code",
   "execution_count": 6,
   "metadata": {},
   "outputs": [],
   "source": [
    "?arrange"
   ]
  },
  {
   "cell_type": "markdown",
   "metadata": {
    "colab_type": "text",
    "id": "8Rw70V6ojQKk"
   },
   "source": [
    "---\n",
    "### Importando o dataset do projeto"
   ]
  },
  {
   "cell_type": "code",
   "execution_count": 7,
   "metadata": {
    "colab": {},
    "colab_type": "code",
    "id": "8QgOpE-wjQKl"
   },
   "outputs": [],
   "source": [
    "dados <- read.csv(\"dados.csv\")"
   ]
  },
  {
   "cell_type": "code",
   "execution_count": 8,
   "metadata": {
    "colab": {},
    "colab_type": "code",
    "id": "ufRZ7TLwjQKo",
    "scrolled": true
   },
   "outputs": [
    {
     "data": {
      "text/html": [
       "<table>\n",
       "<thead><tr><th scope=col>UF</th><th scope=col>Sexo</th><th scope=col>Idade</th><th scope=col>Cor</th><th scope=col>Anos.de.Estudo</th><th scope=col>Renda</th><th scope=col>Altura</th></tr></thead>\n",
       "<tbody>\n",
       "\t<tr><td>11      </td><td>0       </td><td>23      </td><td>8       </td><td>12      </td><td> 800    </td><td>1.603808</td></tr>\n",
       "\t<tr><td>11      </td><td>1       </td><td>23      </td><td>2       </td><td>12      </td><td>1150    </td><td>1.739790</td></tr>\n",
       "\t<tr><td>11      </td><td>1       </td><td>35      </td><td>8       </td><td>15      </td><td> 880    </td><td>1.760444</td></tr>\n",
       "\t<tr><td>11      </td><td>0       </td><td>46      </td><td>2       </td><td> 6      </td><td>3500    </td><td>1.783158</td></tr>\n",
       "\t<tr><td>11      </td><td>1       </td><td>47      </td><td>8       </td><td> 9      </td><td> 150    </td><td>1.690631</td></tr>\n",
       "\t<tr><td>11      </td><td>1       </td><td>34      </td><td>8       </td><td>12      </td><td> 790    </td><td>1.637906</td></tr>\n",
       "\t<tr><td>11      </td><td>0       </td><td>57      </td><td>8       </td><td>12      </td><td>3150    </td><td>1.570078</td></tr>\n",
       "\t<tr><td>11      </td><td>1       </td><td>60      </td><td>8       </td><td>12      </td><td>1700    </td><td>1.608495</td></tr>\n",
       "\t<tr><td>11      </td><td>1       </td><td>50      </td><td>4       </td><td>14      </td><td>1800    </td><td>1.780329</td></tr>\n",
       "\t<tr><td>11      </td><td>0       </td><td>26      </td><td>8       </td><td>12      </td><td>1150    </td><td>1.793203</td></tr>\n",
       "\t<tr><td>11      </td><td>1       </td><td>46      </td><td>8       </td><td>12      </td><td>3000    </td><td>1.787003</td></tr>\n",
       "\t<tr><td>11      </td><td>1       </td><td>49      </td><td>8       </td><td> 6      </td><td>2500    </td><td>1.712912</td></tr>\n",
       "\t<tr><td>11      </td><td>1       </td><td>52      </td><td>2       </td><td> 6      </td><td>1200    </td><td>1.736442</td></tr>\n",
       "\t<tr><td>11      </td><td>0       </td><td>38      </td><td>8       </td><td>12      </td><td>2000    </td><td>1.750827</td></tr>\n",
       "\t<tr><td>11      </td><td>0       </td><td>45      </td><td>2       </td><td>12      </td><td>2000    </td><td>1.780450</td></tr>\n",
       "\t<tr><td>11      </td><td>0       </td><td>34      </td><td>2       </td><td>16      </td><td>6000    </td><td>1.711825</td></tr>\n",
       "\t<tr><td>11      </td><td>1       </td><td>43      </td><td>8       </td><td>10      </td><td>1050    </td><td>1.789012</td></tr>\n",
       "\t<tr><td>11      </td><td>0       </td><td>53      </td><td>8       </td><td>16      </td><td>7000    </td><td>1.673665</td></tr>\n",
       "\t<tr><td>11      </td><td>0       </td><td>57      </td><td>2       </td><td>12      </td><td>2000    </td><td>1.715138</td></tr>\n",
       "\t<tr><td>11      </td><td>1       </td><td>62      </td><td>8       </td><td>12      </td><td>1150    </td><td>1.765973</td></tr>\n",
       "\t<tr><td>11      </td><td>0       </td><td>69      </td><td>8       </td><td> 1      </td><td>3030    </td><td>1.746351</td></tr>\n",
       "\t<tr><td>11      </td><td>1       </td><td>41      </td><td>8       </td><td>16      </td><td>4000    </td><td>1.660873</td></tr>\n",
       "\t<tr><td>11      </td><td>0       </td><td>34      </td><td>8       </td><td> 5      </td><td> 788    </td><td>1.746048</td></tr>\n",
       "\t<tr><td>11      </td><td>0       </td><td>25      </td><td>8       </td><td>12      </td><td>1000    </td><td>1.726496</td></tr>\n",
       "\t<tr><td>11      </td><td>0       </td><td>33      </td><td>8       </td><td> 9      </td><td> 800    </td><td>1.778914</td></tr>\n",
       "\t<tr><td>11      </td><td>1       </td><td>44      </td><td>8       </td><td> 5      </td><td> 788    </td><td>1.668638</td></tr>\n",
       "\t<tr><td>11      </td><td>0       </td><td>33      </td><td>2       </td><td>16      </td><td>1600    </td><td>1.783771</td></tr>\n",
       "\t<tr><td>11      </td><td>0       </td><td>65      </td><td>2       </td><td>12      </td><td>1700    </td><td>1.873445</td></tr>\n",
       "\t<tr><td>11      </td><td>0       </td><td>33      </td><td>8       </td><td>14      </td><td>2000    </td><td>1.890250</td></tr>\n",
       "\t<tr><td>11      </td><td>0       </td><td>32      </td><td>8       </td><td>12      </td><td>2400    </td><td>1.660204</td></tr>\n",
       "\t<tr><td>...</td><td>...</td><td>...</td><td>...</td><td>...</td><td>...</td><td>...</td></tr>\n",
       "\t<tr><td>53      </td><td>0       </td><td>34      </td><td>4       </td><td>12      </td><td> 2500   </td><td>1.802241</td></tr>\n",
       "\t<tr><td>53      </td><td>1       </td><td>57      </td><td>2       </td><td>11      </td><td> 1000   </td><td>1.823047</td></tr>\n",
       "\t<tr><td>53      </td><td>1       </td><td>32      </td><td>4       </td><td>12      </td><td>  788   </td><td>1.681405</td></tr>\n",
       "\t<tr><td>53      </td><td>0       </td><td>35      </td><td>4       </td><td> 9      </td><td> 2100   </td><td>1.671112</td></tr>\n",
       "\t<tr><td>53      </td><td>1       </td><td>49      </td><td>8       </td><td>12      </td><td> 5260   </td><td>1.799319</td></tr>\n",
       "\t<tr><td>53      </td><td>0       </td><td>51      </td><td>8       </td><td> 1      </td><td> 5000   </td><td>1.599400</td></tr>\n",
       "\t<tr><td>53      </td><td>0       </td><td>37      </td><td>8       </td><td>12      </td><td>  950   </td><td>1.620497</td></tr>\n",
       "\t<tr><td>53      </td><td>0       </td><td>47      </td><td>8       </td><td>12      </td><td> 1109   </td><td>1.920274</td></tr>\n",
       "\t<tr><td>53      </td><td>0       </td><td>27      </td><td>8       </td><td>10      </td><td>  850   </td><td>1.793074</td></tr>\n",
       "\t<tr><td>53      </td><td>1       </td><td>49      </td><td>8       </td><td> 9      </td><td>  788   </td><td>1.695710</td></tr>\n",
       "\t<tr><td>53      </td><td>1       </td><td>27      </td><td>8       </td><td>12      </td><td>  866   </td><td>1.729035</td></tr>\n",
       "\t<tr><td>53      </td><td>0       </td><td>20      </td><td>2       </td><td> 8      </td><td> 1300   </td><td>1.660409</td></tr>\n",
       "\t<tr><td>53      </td><td>0       </td><td>49      </td><td>8       </td><td>12      </td><td> 8700   </td><td>1.775182</td></tr>\n",
       "\t<tr><td>53      </td><td>0       </td><td>43      </td><td>8       </td><td>10      </td><td> 5000   </td><td>1.584493</td></tr>\n",
       "\t<tr><td>53      </td><td>0       </td><td>64      </td><td>2       </td><td>12      </td><td> 5000   </td><td>1.717452</td></tr>\n",
       "\t<tr><td>53      </td><td>0       </td><td>55      </td><td>2       </td><td>16      </td><td>13000   </td><td>1.729995</td></tr>\n",
       "\t<tr><td>53      </td><td>0       </td><td>39      </td><td>2       </td><td>12      </td><td> 6000   </td><td>1.739046</td></tr>\n",
       "\t<tr><td>53      </td><td>1       </td><td>41      </td><td>2       </td><td>16      </td><td>10000   </td><td>1.696208</td></tr>\n",
       "\t<tr><td>53      </td><td>0       </td><td>62      </td><td>2       </td><td>16      </td><td>10000   </td><td>1.817097</td></tr>\n",
       "\t<tr><td>53      </td><td>0       </td><td>42      </td><td>8       </td><td>12      </td><td>32000   </td><td>1.788923</td></tr>\n",
       "\t<tr><td>53      </td><td>0       </td><td>62      </td><td>2       </td><td>16      </td><td> 3500   </td><td>1.725379</td></tr>\n",
       "\t<tr><td>53      </td><td>1       </td><td>44      </td><td>2       </td><td>16      </td><td>30000   </td><td>1.783962</td></tr>\n",
       "\t<tr><td>53      </td><td>1       </td><td>49      </td><td>2       </td><td>12      </td><td> 5000   </td><td>1.757146</td></tr>\n",
       "\t<tr><td>53      </td><td>0       </td><td>30      </td><td>4       </td><td> 6      </td><td> 1900   </td><td>1.662560</td></tr>\n",
       "\t<tr><td>53      </td><td>1       </td><td>35      </td><td>4       </td><td> 1      </td><td> 1100   </td><td>1.741089</td></tr>\n",
       "\t<tr><td>53      </td><td>1       </td><td>46      </td><td>2       </td><td>11      </td><td>  812   </td><td>1.687030</td></tr>\n",
       "\t<tr><td>53      </td><td>0       </td><td>30      </td><td>4       </td><td> 7      </td><td> 1500   </td><td>1.792934</td></tr>\n",
       "\t<tr><td>53      </td><td>0       </td><td>32      </td><td>8       </td><td>12      </td><td> 1300   </td><td>1.830587</td></tr>\n",
       "\t<tr><td>53      </td><td>0       </td><td>57      </td><td>8       </td><td> 4      </td><td> 1500   </td><td>1.726344</td></tr>\n",
       "\t<tr><td>53      </td><td>0       </td><td>38      </td><td>8       </td><td> 4      </td><td>  900   </td><td>1.658305</td></tr>\n",
       "</tbody>\n",
       "</table>\n"
      ],
      "text/latex": [
       "\\begin{tabular}{r|lllllll}\n",
       " UF & Sexo & Idade & Cor & Anos.de.Estudo & Renda & Altura\\\\\n",
       "\\hline\n",
       "\t 11       & 0        & 23       & 8        & 12       &  800     & 1.603808\\\\\n",
       "\t 11       & 1        & 23       & 2        & 12       & 1150     & 1.739790\\\\\n",
       "\t 11       & 1        & 35       & 8        & 15       &  880     & 1.760444\\\\\n",
       "\t 11       & 0        & 46       & 2        &  6       & 3500     & 1.783158\\\\\n",
       "\t 11       & 1        & 47       & 8        &  9       &  150     & 1.690631\\\\\n",
       "\t 11       & 1        & 34       & 8        & 12       &  790     & 1.637906\\\\\n",
       "\t 11       & 0        & 57       & 8        & 12       & 3150     & 1.570078\\\\\n",
       "\t 11       & 1        & 60       & 8        & 12       & 1700     & 1.608495\\\\\n",
       "\t 11       & 1        & 50       & 4        & 14       & 1800     & 1.780329\\\\\n",
       "\t 11       & 0        & 26       & 8        & 12       & 1150     & 1.793203\\\\\n",
       "\t 11       & 1        & 46       & 8        & 12       & 3000     & 1.787003\\\\\n",
       "\t 11       & 1        & 49       & 8        &  6       & 2500     & 1.712912\\\\\n",
       "\t 11       & 1        & 52       & 2        &  6       & 1200     & 1.736442\\\\\n",
       "\t 11       & 0        & 38       & 8        & 12       & 2000     & 1.750827\\\\\n",
       "\t 11       & 0        & 45       & 2        & 12       & 2000     & 1.780450\\\\\n",
       "\t 11       & 0        & 34       & 2        & 16       & 6000     & 1.711825\\\\\n",
       "\t 11       & 1        & 43       & 8        & 10       & 1050     & 1.789012\\\\\n",
       "\t 11       & 0        & 53       & 8        & 16       & 7000     & 1.673665\\\\\n",
       "\t 11       & 0        & 57       & 2        & 12       & 2000     & 1.715138\\\\\n",
       "\t 11       & 1        & 62       & 8        & 12       & 1150     & 1.765973\\\\\n",
       "\t 11       & 0        & 69       & 8        &  1       & 3030     & 1.746351\\\\\n",
       "\t 11       & 1        & 41       & 8        & 16       & 4000     & 1.660873\\\\\n",
       "\t 11       & 0        & 34       & 8        &  5       &  788     & 1.746048\\\\\n",
       "\t 11       & 0        & 25       & 8        & 12       & 1000     & 1.726496\\\\\n",
       "\t 11       & 0        & 33       & 8        &  9       &  800     & 1.778914\\\\\n",
       "\t 11       & 1        & 44       & 8        &  5       &  788     & 1.668638\\\\\n",
       "\t 11       & 0        & 33       & 2        & 16       & 1600     & 1.783771\\\\\n",
       "\t 11       & 0        & 65       & 2        & 12       & 1700     & 1.873445\\\\\n",
       "\t 11       & 0        & 33       & 8        & 14       & 2000     & 1.890250\\\\\n",
       "\t 11       & 0        & 32       & 8        & 12       & 2400     & 1.660204\\\\\n",
       "\t ... & ... & ... & ... & ... & ... & ...\\\\\n",
       "\t 53       & 0        & 34       & 4        & 12       &  2500    & 1.802241\\\\\n",
       "\t 53       & 1        & 57       & 2        & 11       &  1000    & 1.823047\\\\\n",
       "\t 53       & 1        & 32       & 4        & 12       &   788    & 1.681405\\\\\n",
       "\t 53       & 0        & 35       & 4        &  9       &  2100    & 1.671112\\\\\n",
       "\t 53       & 1        & 49       & 8        & 12       &  5260    & 1.799319\\\\\n",
       "\t 53       & 0        & 51       & 8        &  1       &  5000    & 1.599400\\\\\n",
       "\t 53       & 0        & 37       & 8        & 12       &   950    & 1.620497\\\\\n",
       "\t 53       & 0        & 47       & 8        & 12       &  1109    & 1.920274\\\\\n",
       "\t 53       & 0        & 27       & 8        & 10       &   850    & 1.793074\\\\\n",
       "\t 53       & 1        & 49       & 8        &  9       &   788    & 1.695710\\\\\n",
       "\t 53       & 1        & 27       & 8        & 12       &   866    & 1.729035\\\\\n",
       "\t 53       & 0        & 20       & 2        &  8       &  1300    & 1.660409\\\\\n",
       "\t 53       & 0        & 49       & 8        & 12       &  8700    & 1.775182\\\\\n",
       "\t 53       & 0        & 43       & 8        & 10       &  5000    & 1.584493\\\\\n",
       "\t 53       & 0        & 64       & 2        & 12       &  5000    & 1.717452\\\\\n",
       "\t 53       & 0        & 55       & 2        & 16       & 13000    & 1.729995\\\\\n",
       "\t 53       & 0        & 39       & 2        & 12       &  6000    & 1.739046\\\\\n",
       "\t 53       & 1        & 41       & 2        & 16       & 10000    & 1.696208\\\\\n",
       "\t 53       & 0        & 62       & 2        & 16       & 10000    & 1.817097\\\\\n",
       "\t 53       & 0        & 42       & 8        & 12       & 32000    & 1.788923\\\\\n",
       "\t 53       & 0        & 62       & 2        & 16       &  3500    & 1.725379\\\\\n",
       "\t 53       & 1        & 44       & 2        & 16       & 30000    & 1.783962\\\\\n",
       "\t 53       & 1        & 49       & 2        & 12       &  5000    & 1.757146\\\\\n",
       "\t 53       & 0        & 30       & 4        &  6       &  1900    & 1.662560\\\\\n",
       "\t 53       & 1        & 35       & 4        &  1       &  1100    & 1.741089\\\\\n",
       "\t 53       & 1        & 46       & 2        & 11       &   812    & 1.687030\\\\\n",
       "\t 53       & 0        & 30       & 4        &  7       &  1500    & 1.792934\\\\\n",
       "\t 53       & 0        & 32       & 8        & 12       &  1300    & 1.830587\\\\\n",
       "\t 53       & 0        & 57       & 8        &  4       &  1500    & 1.726344\\\\\n",
       "\t 53       & 0        & 38       & 8        &  4       &   900    & 1.658305\\\\\n",
       "\\end{tabular}\n"
      ],
      "text/markdown": [
       "\n",
       "| UF | Sexo | Idade | Cor | Anos.de.Estudo | Renda | Altura |\n",
       "|---|---|---|---|---|---|---|\n",
       "| 11       | 0        | 23       | 8        | 12       |  800     | 1.603808 |\n",
       "| 11       | 1        | 23       | 2        | 12       | 1150     | 1.739790 |\n",
       "| 11       | 1        | 35       | 8        | 15       |  880     | 1.760444 |\n",
       "| 11       | 0        | 46       | 2        |  6       | 3500     | 1.783158 |\n",
       "| 11       | 1        | 47       | 8        |  9       |  150     | 1.690631 |\n",
       "| 11       | 1        | 34       | 8        | 12       |  790     | 1.637906 |\n",
       "| 11       | 0        | 57       | 8        | 12       | 3150     | 1.570078 |\n",
       "| 11       | 1        | 60       | 8        | 12       | 1700     | 1.608495 |\n",
       "| 11       | 1        | 50       | 4        | 14       | 1800     | 1.780329 |\n",
       "| 11       | 0        | 26       | 8        | 12       | 1150     | 1.793203 |\n",
       "| 11       | 1        | 46       | 8        | 12       | 3000     | 1.787003 |\n",
       "| 11       | 1        | 49       | 8        |  6       | 2500     | 1.712912 |\n",
       "| 11       | 1        | 52       | 2        |  6       | 1200     | 1.736442 |\n",
       "| 11       | 0        | 38       | 8        | 12       | 2000     | 1.750827 |\n",
       "| 11       | 0        | 45       | 2        | 12       | 2000     | 1.780450 |\n",
       "| 11       | 0        | 34       | 2        | 16       | 6000     | 1.711825 |\n",
       "| 11       | 1        | 43       | 8        | 10       | 1050     | 1.789012 |\n",
       "| 11       | 0        | 53       | 8        | 16       | 7000     | 1.673665 |\n",
       "| 11       | 0        | 57       | 2        | 12       | 2000     | 1.715138 |\n",
       "| 11       | 1        | 62       | 8        | 12       | 1150     | 1.765973 |\n",
       "| 11       | 0        | 69       | 8        |  1       | 3030     | 1.746351 |\n",
       "| 11       | 1        | 41       | 8        | 16       | 4000     | 1.660873 |\n",
       "| 11       | 0        | 34       | 8        |  5       |  788     | 1.746048 |\n",
       "| 11       | 0        | 25       | 8        | 12       | 1000     | 1.726496 |\n",
       "| 11       | 0        | 33       | 8        |  9       |  800     | 1.778914 |\n",
       "| 11       | 1        | 44       | 8        |  5       |  788     | 1.668638 |\n",
       "| 11       | 0        | 33       | 2        | 16       | 1600     | 1.783771 |\n",
       "| 11       | 0        | 65       | 2        | 12       | 1700     | 1.873445 |\n",
       "| 11       | 0        | 33       | 8        | 14       | 2000     | 1.890250 |\n",
       "| 11       | 0        | 32       | 8        | 12       | 2400     | 1.660204 |\n",
       "| ... | ... | ... | ... | ... | ... | ... |\n",
       "| 53       | 0        | 34       | 4        | 12       |  2500    | 1.802241 |\n",
       "| 53       | 1        | 57       | 2        | 11       |  1000    | 1.823047 |\n",
       "| 53       | 1        | 32       | 4        | 12       |   788    | 1.681405 |\n",
       "| 53       | 0        | 35       | 4        |  9       |  2100    | 1.671112 |\n",
       "| 53       | 1        | 49       | 8        | 12       |  5260    | 1.799319 |\n",
       "| 53       | 0        | 51       | 8        |  1       |  5000    | 1.599400 |\n",
       "| 53       | 0        | 37       | 8        | 12       |   950    | 1.620497 |\n",
       "| 53       | 0        | 47       | 8        | 12       |  1109    | 1.920274 |\n",
       "| 53       | 0        | 27       | 8        | 10       |   850    | 1.793074 |\n",
       "| 53       | 1        | 49       | 8        |  9       |   788    | 1.695710 |\n",
       "| 53       | 1        | 27       | 8        | 12       |   866    | 1.729035 |\n",
       "| 53       | 0        | 20       | 2        |  8       |  1300    | 1.660409 |\n",
       "| 53       | 0        | 49       | 8        | 12       |  8700    | 1.775182 |\n",
       "| 53       | 0        | 43       | 8        | 10       |  5000    | 1.584493 |\n",
       "| 53       | 0        | 64       | 2        | 12       |  5000    | 1.717452 |\n",
       "| 53       | 0        | 55       | 2        | 16       | 13000    | 1.729995 |\n",
       "| 53       | 0        | 39       | 2        | 12       |  6000    | 1.739046 |\n",
       "| 53       | 1        | 41       | 2        | 16       | 10000    | 1.696208 |\n",
       "| 53       | 0        | 62       | 2        | 16       | 10000    | 1.817097 |\n",
       "| 53       | 0        | 42       | 8        | 12       | 32000    | 1.788923 |\n",
       "| 53       | 0        | 62       | 2        | 16       |  3500    | 1.725379 |\n",
       "| 53       | 1        | 44       | 2        | 16       | 30000    | 1.783962 |\n",
       "| 53       | 1        | 49       | 2        | 12       |  5000    | 1.757146 |\n",
       "| 53       | 0        | 30       | 4        |  6       |  1900    | 1.662560 |\n",
       "| 53       | 1        | 35       | 4        |  1       |  1100    | 1.741089 |\n",
       "| 53       | 1        | 46       | 2        | 11       |   812    | 1.687030 |\n",
       "| 53       | 0        | 30       | 4        |  7       |  1500    | 1.792934 |\n",
       "| 53       | 0        | 32       | 8        | 12       |  1300    | 1.830587 |\n",
       "| 53       | 0        | 57       | 8        |  4       |  1500    | 1.726344 |\n",
       "| 53       | 0        | 38       | 8        |  4       |   900    | 1.658305 |\n",
       "\n"
      ],
      "text/plain": [
       "      UF  Sexo Idade Cor Anos.de.Estudo Renda Altura  \n",
       "1     11  0    23    8   12              800  1.603808\n",
       "2     11  1    23    2   12             1150  1.739790\n",
       "3     11  1    35    8   15              880  1.760444\n",
       "4     11  0    46    2    6             3500  1.783158\n",
       "5     11  1    47    8    9              150  1.690631\n",
       "6     11  1    34    8   12              790  1.637906\n",
       "7     11  0    57    8   12             3150  1.570078\n",
       "8     11  1    60    8   12             1700  1.608495\n",
       "9     11  1    50    4   14             1800  1.780329\n",
       "10    11  0    26    8   12             1150  1.793203\n",
       "11    11  1    46    8   12             3000  1.787003\n",
       "12    11  1    49    8    6             2500  1.712912\n",
       "13    11  1    52    2    6             1200  1.736442\n",
       "14    11  0    38    8   12             2000  1.750827\n",
       "15    11  0    45    2   12             2000  1.780450\n",
       "16    11  0    34    2   16             6000  1.711825\n",
       "17    11  1    43    8   10             1050  1.789012\n",
       "18    11  0    53    8   16             7000  1.673665\n",
       "19    11  0    57    2   12             2000  1.715138\n",
       "20    11  1    62    8   12             1150  1.765973\n",
       "21    11  0    69    8    1             3030  1.746351\n",
       "22    11  1    41    8   16             4000  1.660873\n",
       "23    11  0    34    8    5              788  1.746048\n",
       "24    11  0    25    8   12             1000  1.726496\n",
       "25    11  0    33    8    9              800  1.778914\n",
       "26    11  1    44    8    5              788  1.668638\n",
       "27    11  0    33    2   16             1600  1.783771\n",
       "28    11  0    65    2   12             1700  1.873445\n",
       "29    11  0    33    8   14             2000  1.890250\n",
       "30    11  0    32    8   12             2400  1.660204\n",
       "...   ... ...  ...   ... ...            ...   ...     \n",
       "76811 53  0    34    4   12              2500 1.802241\n",
       "76812 53  1    57    2   11              1000 1.823047\n",
       "76813 53  1    32    4   12               788 1.681405\n",
       "76814 53  0    35    4    9              2100 1.671112\n",
       "76815 53  1    49    8   12              5260 1.799319\n",
       "76816 53  0    51    8    1              5000 1.599400\n",
       "76817 53  0    37    8   12               950 1.620497\n",
       "76818 53  0    47    8   12              1109 1.920274\n",
       "76819 53  0    27    8   10               850 1.793074\n",
       "76820 53  1    49    8    9               788 1.695710\n",
       "76821 53  1    27    8   12               866 1.729035\n",
       "76822 53  0    20    2    8              1300 1.660409\n",
       "76823 53  0    49    8   12              8700 1.775182\n",
       "76824 53  0    43    8   10              5000 1.584493\n",
       "76825 53  0    64    2   12              5000 1.717452\n",
       "76826 53  0    55    2   16             13000 1.729995\n",
       "76827 53  0    39    2   12              6000 1.739046\n",
       "76828 53  1    41    2   16             10000 1.696208\n",
       "76829 53  0    62    2   16             10000 1.817097\n",
       "76830 53  0    42    8   12             32000 1.788923\n",
       "76831 53  0    62    2   16              3500 1.725379\n",
       "76832 53  1    44    2   16             30000 1.783962\n",
       "76833 53  1    49    2   12              5000 1.757146\n",
       "76834 53  0    30    4    6              1900 1.662560\n",
       "76835 53  1    35    4    1              1100 1.741089\n",
       "76836 53  1    46    2   11               812 1.687030\n",
       "76837 53  0    30    4    7              1500 1.792934\n",
       "76838 53  0    32    8   12              1300 1.830587\n",
       "76839 53  0    57    8    4              1500 1.726344\n",
       "76840 53  0    38    8    4               900 1.658305"
      ]
     },
     "metadata": {},
     "output_type": "display_data"
    }
   ],
   "source": [
    "dados"
   ]
  },
  {
   "cell_type": "code",
   "execution_count": 9,
   "metadata": {
    "colab": {
     "base_uri": "https://localhost:8080/",
     "height": 204
    },
    "colab_type": "code",
    "id": "GsC_WhLFjQKq",
    "outputId": "5eef662c-f904-4e46-ee7a-159616d06554",
    "scrolled": false
   },
   "outputs": [
    {
     "data": {
      "text/html": [
       "<table>\n",
       "<thead><tr><th scope=col>UF</th><th scope=col>Sexo</th><th scope=col>Idade</th><th scope=col>Cor</th><th scope=col>Anos.de.Estudo</th><th scope=col>Renda</th><th scope=col>Altura</th></tr></thead>\n",
       "<tbody>\n",
       "\t<tr><td>11      </td><td>0       </td><td>23      </td><td>8       </td><td>12      </td><td> 800    </td><td>1.603808</td></tr>\n",
       "\t<tr><td>11      </td><td>1       </td><td>23      </td><td>2       </td><td>12      </td><td>1150    </td><td>1.739790</td></tr>\n",
       "\t<tr><td>11      </td><td>1       </td><td>35      </td><td>8       </td><td>15      </td><td> 880    </td><td>1.760444</td></tr>\n",
       "\t<tr><td>11      </td><td>0       </td><td>46      </td><td>2       </td><td> 6      </td><td>3500    </td><td>1.783158</td></tr>\n",
       "\t<tr><td>11      </td><td>1       </td><td>47      </td><td>8       </td><td> 9      </td><td> 150    </td><td>1.690631</td></tr>\n",
       "</tbody>\n",
       "</table>\n"
      ],
      "text/latex": [
       "\\begin{tabular}{r|lllllll}\n",
       " UF & Sexo & Idade & Cor & Anos.de.Estudo & Renda & Altura\\\\\n",
       "\\hline\n",
       "\t 11       & 0        & 23       & 8        & 12       &  800     & 1.603808\\\\\n",
       "\t 11       & 1        & 23       & 2        & 12       & 1150     & 1.739790\\\\\n",
       "\t 11       & 1        & 35       & 8        & 15       &  880     & 1.760444\\\\\n",
       "\t 11       & 0        & 46       & 2        &  6       & 3500     & 1.783158\\\\\n",
       "\t 11       & 1        & 47       & 8        &  9       &  150     & 1.690631\\\\\n",
       "\\end{tabular}\n"
      ],
      "text/markdown": [
       "\n",
       "| UF | Sexo | Idade | Cor | Anos.de.Estudo | Renda | Altura |\n",
       "|---|---|---|---|---|---|---|\n",
       "| 11       | 0        | 23       | 8        | 12       |  800     | 1.603808 |\n",
       "| 11       | 1        | 23       | 2        | 12       | 1150     | 1.739790 |\n",
       "| 11       | 1        | 35       | 8        | 15       |  880     | 1.760444 |\n",
       "| 11       | 0        | 46       | 2        |  6       | 3500     | 1.783158 |\n",
       "| 11       | 1        | 47       | 8        |  9       |  150     | 1.690631 |\n",
       "\n"
      ],
      "text/plain": [
       "  UF Sexo Idade Cor Anos.de.Estudo Renda Altura  \n",
       "1 11 0    23    8   12              800  1.603808\n",
       "2 11 1    23    2   12             1150  1.739790\n",
       "3 11 1    35    8   15              880  1.760444\n",
       "4 11 0    46    2    6             3500  1.783158\n",
       "5 11 1    47    8    9              150  1.690631"
      ]
     },
     "metadata": {},
     "output_type": "display_data"
    }
   ],
   "source": [
    "head(dados, 5)"
   ]
  },
  {
   "cell_type": "markdown",
   "metadata": {
    "colab_type": "text",
    "id": "E3Mx0tVqjQKs"
   },
   "source": [
    "## <font color=green>1.2 Tipos de dados</font>\n",
    "***"
   ]
  },
  {
   "cell_type": "markdown",
   "metadata": {
    "colab_type": "text",
    "id": "oB4TCBFojQKt"
   },
   "source": [
    "### Variáveis qualitativas ordinais\n",
    "\n",
    "► Variáveis que podem ser ordenadas ou hierarquizardas"
   ]
  },
  {
   "cell_type": "markdown",
   "metadata": {
    "colab_type": "text",
    "id": "oB4TCBFojQKt"
   },
   "source": [
    "### <font color=red>Documentações:\n",
    "\n",
    "- [**select**](https://www.rdocumentation.org/packages/dplyr/versions/0.7.8/topics/select)\n",
    "- [**unique**](https://www.rdocumentation.org/packages/base/versions/3.6.1/topics/unique)\n",
    "- [**arrange**](https://www.rdocumentation.org/packages/dplyr/versions/0.7.8/topics/arrange)\n",
    "- [**c**](https://www.rdocumentation.org/packages/base/versions/3.6.1/topics/c)\n",
    "- [**sprintf**](https://www.rdocumentation.org/packages/base/versions/3.6.1/topics/sprintf)\n",
    "- [**glue**](https://www.rdocumentation.org/packages/glue/versions/1.3.1/topics/glue)\n",
    "- [**min e max**](https://www.rdocumentation.org/packages/base/versions/3.6.1/topics/Extremes)"
   ]
  },
  {
   "cell_type": "code",
   "execution_count": 10,
   "metadata": {
    "scrolled": true
   },
   "outputs": [
    {
     "data": {
      "text/html": [
       "<table>\n",
       "<thead><tr><th scope=col>Anos.de.Estudo</th></tr></thead>\n",
       "<tbody>\n",
       "\t<tr><td>12</td></tr>\n",
       "\t<tr><td>12</td></tr>\n",
       "\t<tr><td>15</td></tr>\n",
       "\t<tr><td> 6</td></tr>\n",
       "\t<tr><td> 9</td></tr>\n",
       "\t<tr><td>12</td></tr>\n",
       "\t<tr><td>12</td></tr>\n",
       "\t<tr><td>12</td></tr>\n",
       "\t<tr><td>14</td></tr>\n",
       "\t<tr><td>12</td></tr>\n",
       "\t<tr><td>12</td></tr>\n",
       "\t<tr><td> 6</td></tr>\n",
       "\t<tr><td> 6</td></tr>\n",
       "\t<tr><td>12</td></tr>\n",
       "\t<tr><td>12</td></tr>\n",
       "\t<tr><td>16</td></tr>\n",
       "\t<tr><td>10</td></tr>\n",
       "\t<tr><td>16</td></tr>\n",
       "\t<tr><td>12</td></tr>\n",
       "\t<tr><td>12</td></tr>\n",
       "\t<tr><td> 1</td></tr>\n",
       "\t<tr><td>16</td></tr>\n",
       "\t<tr><td> 5</td></tr>\n",
       "\t<tr><td>12</td></tr>\n",
       "\t<tr><td> 9</td></tr>\n",
       "\t<tr><td> 5</td></tr>\n",
       "\t<tr><td>16</td></tr>\n",
       "\t<tr><td>12</td></tr>\n",
       "\t<tr><td>14</td></tr>\n",
       "\t<tr><td>12</td></tr>\n",
       "\t<tr><td>...</td></tr>\n",
       "\t<tr><td>12</td></tr>\n",
       "\t<tr><td>11</td></tr>\n",
       "\t<tr><td>12</td></tr>\n",
       "\t<tr><td> 9</td></tr>\n",
       "\t<tr><td>12</td></tr>\n",
       "\t<tr><td> 1</td></tr>\n",
       "\t<tr><td>12</td></tr>\n",
       "\t<tr><td>12</td></tr>\n",
       "\t<tr><td>10</td></tr>\n",
       "\t<tr><td> 9</td></tr>\n",
       "\t<tr><td>12</td></tr>\n",
       "\t<tr><td> 8</td></tr>\n",
       "\t<tr><td>12</td></tr>\n",
       "\t<tr><td>10</td></tr>\n",
       "\t<tr><td>12</td></tr>\n",
       "\t<tr><td>16</td></tr>\n",
       "\t<tr><td>12</td></tr>\n",
       "\t<tr><td>16</td></tr>\n",
       "\t<tr><td>16</td></tr>\n",
       "\t<tr><td>12</td></tr>\n",
       "\t<tr><td>16</td></tr>\n",
       "\t<tr><td>16</td></tr>\n",
       "\t<tr><td>12</td></tr>\n",
       "\t<tr><td> 6</td></tr>\n",
       "\t<tr><td> 1</td></tr>\n",
       "\t<tr><td>11</td></tr>\n",
       "\t<tr><td> 7</td></tr>\n",
       "\t<tr><td>12</td></tr>\n",
       "\t<tr><td> 4</td></tr>\n",
       "\t<tr><td> 4</td></tr>\n",
       "</tbody>\n",
       "</table>\n"
      ],
      "text/latex": [
       "\\begin{tabular}{r|l}\n",
       " Anos.de.Estudo\\\\\n",
       "\\hline\n",
       "\t 12\\\\\n",
       "\t 12\\\\\n",
       "\t 15\\\\\n",
       "\t  6\\\\\n",
       "\t  9\\\\\n",
       "\t 12\\\\\n",
       "\t 12\\\\\n",
       "\t 12\\\\\n",
       "\t 14\\\\\n",
       "\t 12\\\\\n",
       "\t 12\\\\\n",
       "\t  6\\\\\n",
       "\t  6\\\\\n",
       "\t 12\\\\\n",
       "\t 12\\\\\n",
       "\t 16\\\\\n",
       "\t 10\\\\\n",
       "\t 16\\\\\n",
       "\t 12\\\\\n",
       "\t 12\\\\\n",
       "\t  1\\\\\n",
       "\t 16\\\\\n",
       "\t  5\\\\\n",
       "\t 12\\\\\n",
       "\t  9\\\\\n",
       "\t  5\\\\\n",
       "\t 16\\\\\n",
       "\t 12\\\\\n",
       "\t 14\\\\\n",
       "\t 12\\\\\n",
       "\t ...\\\\\n",
       "\t 12\\\\\n",
       "\t 11\\\\\n",
       "\t 12\\\\\n",
       "\t  9\\\\\n",
       "\t 12\\\\\n",
       "\t  1\\\\\n",
       "\t 12\\\\\n",
       "\t 12\\\\\n",
       "\t 10\\\\\n",
       "\t  9\\\\\n",
       "\t 12\\\\\n",
       "\t  8\\\\\n",
       "\t 12\\\\\n",
       "\t 10\\\\\n",
       "\t 12\\\\\n",
       "\t 16\\\\\n",
       "\t 12\\\\\n",
       "\t 16\\\\\n",
       "\t 16\\\\\n",
       "\t 12\\\\\n",
       "\t 16\\\\\n",
       "\t 16\\\\\n",
       "\t 12\\\\\n",
       "\t  6\\\\\n",
       "\t  1\\\\\n",
       "\t 11\\\\\n",
       "\t  7\\\\\n",
       "\t 12\\\\\n",
       "\t  4\\\\\n",
       "\t  4\\\\\n",
       "\\end{tabular}\n"
      ],
      "text/markdown": [
       "\n",
       "| Anos.de.Estudo |\n",
       "|---|\n",
       "| 12 |\n",
       "| 12 |\n",
       "| 15 |\n",
       "|  6 |\n",
       "|  9 |\n",
       "| 12 |\n",
       "| 12 |\n",
       "| 12 |\n",
       "| 14 |\n",
       "| 12 |\n",
       "| 12 |\n",
       "|  6 |\n",
       "|  6 |\n",
       "| 12 |\n",
       "| 12 |\n",
       "| 16 |\n",
       "| 10 |\n",
       "| 16 |\n",
       "| 12 |\n",
       "| 12 |\n",
       "|  1 |\n",
       "| 16 |\n",
       "|  5 |\n",
       "| 12 |\n",
       "|  9 |\n",
       "|  5 |\n",
       "| 16 |\n",
       "| 12 |\n",
       "| 14 |\n",
       "| 12 |\n",
       "| ... |\n",
       "| 12 |\n",
       "| 11 |\n",
       "| 12 |\n",
       "|  9 |\n",
       "| 12 |\n",
       "|  1 |\n",
       "| 12 |\n",
       "| 12 |\n",
       "| 10 |\n",
       "|  9 |\n",
       "| 12 |\n",
       "|  8 |\n",
       "| 12 |\n",
       "| 10 |\n",
       "| 12 |\n",
       "| 16 |\n",
       "| 12 |\n",
       "| 16 |\n",
       "| 16 |\n",
       "| 12 |\n",
       "| 16 |\n",
       "| 16 |\n",
       "| 12 |\n",
       "|  6 |\n",
       "|  1 |\n",
       "| 11 |\n",
       "|  7 |\n",
       "| 12 |\n",
       "|  4 |\n",
       "|  4 |\n",
       "\n"
      ],
      "text/plain": [
       "      Anos.de.Estudo\n",
       "1     12            \n",
       "2     12            \n",
       "3     15            \n",
       "4      6            \n",
       "5      9            \n",
       "6     12            \n",
       "7     12            \n",
       "8     12            \n",
       "9     14            \n",
       "10    12            \n",
       "11    12            \n",
       "12     6            \n",
       "13     6            \n",
       "14    12            \n",
       "15    12            \n",
       "16    16            \n",
       "17    10            \n",
       "18    16            \n",
       "19    12            \n",
       "20    12            \n",
       "21     1            \n",
       "22    16            \n",
       "23     5            \n",
       "24    12            \n",
       "25     9            \n",
       "26     5            \n",
       "27    16            \n",
       "28    12            \n",
       "29    14            \n",
       "30    12            \n",
       "...   ...           \n",
       "76811 12            \n",
       "76812 11            \n",
       "76813 12            \n",
       "76814  9            \n",
       "76815 12            \n",
       "76816  1            \n",
       "76817 12            \n",
       "76818 12            \n",
       "76819 10            \n",
       "76820  9            \n",
       "76821 12            \n",
       "76822  8            \n",
       "76823 12            \n",
       "76824 10            \n",
       "76825 12            \n",
       "76826 16            \n",
       "76827 12            \n",
       "76828 16            \n",
       "76829 16            \n",
       "76830 12            \n",
       "76831 16            \n",
       "76832 16            \n",
       "76833 12            \n",
       "76834  6            \n",
       "76835  1            \n",
       "76836 11            \n",
       "76837  7            \n",
       "76838 12            \n",
       "76839  4            \n",
       "76840  4            "
      ]
     },
     "metadata": {},
     "output_type": "display_data"
    }
   ],
   "source": [
    "select(dados, Anos.de.Estudo) # select() keeps only the variables you mention; rename() keeps all variables."
   ]
  },
  {
   "cell_type": "code",
   "execution_count": 11,
   "metadata": {
    "scrolled": true
   },
   "outputs": [
    {
     "data": {
      "text/html": [
       "<table>\n",
       "<thead><tr><th></th><th scope=col>Anos.de.Estudo</th></tr></thead>\n",
       "<tbody>\n",
       "\t<tr><th scope=row>1</th><td>12</td></tr>\n",
       "\t<tr><th scope=row>3</th><td>15</td></tr>\n",
       "\t<tr><th scope=row>4</th><td> 6</td></tr>\n",
       "\t<tr><th scope=row>5</th><td> 9</td></tr>\n",
       "\t<tr><th scope=row>9</th><td>14</td></tr>\n",
       "\t<tr><th scope=row>16</th><td>16</td></tr>\n",
       "\t<tr><th scope=row>17</th><td>10</td></tr>\n",
       "\t<tr><th scope=row>21</th><td> 1</td></tr>\n",
       "\t<tr><th scope=row>23</th><td> 5</td></tr>\n",
       "\t<tr><th scope=row>37</th><td> 7</td></tr>\n",
       "\t<tr><th scope=row>38</th><td> 3</td></tr>\n",
       "\t<tr><th scope=row>44</th><td> 2</td></tr>\n",
       "\t<tr><th scope=row>50</th><td> 4</td></tr>\n",
       "\t<tr><th scope=row>51</th><td> 8</td></tr>\n",
       "\t<tr><th scope=row>63</th><td>11</td></tr>\n",
       "\t<tr><th scope=row>75</th><td>17</td></tr>\n",
       "\t<tr><th scope=row>161</th><td>13</td></tr>\n",
       "</tbody>\n",
       "</table>\n"
      ],
      "text/latex": [
       "\\begin{tabular}{r|l}\n",
       "  & Anos.de.Estudo\\\\\n",
       "\\hline\n",
       "\t1 & 12\\\\\n",
       "\t3 & 15\\\\\n",
       "\t4 &  6\\\\\n",
       "\t5 &  9\\\\\n",
       "\t9 & 14\\\\\n",
       "\t16 & 16\\\\\n",
       "\t17 & 10\\\\\n",
       "\t21 &  1\\\\\n",
       "\t23 &  5\\\\\n",
       "\t37 &  7\\\\\n",
       "\t38 &  3\\\\\n",
       "\t44 &  2\\\\\n",
       "\t50 &  4\\\\\n",
       "\t51 &  8\\\\\n",
       "\t63 & 11\\\\\n",
       "\t75 & 17\\\\\n",
       "\t161 & 13\\\\\n",
       "\\end{tabular}\n"
      ],
      "text/markdown": [
       "\n",
       "| <!--/--> | Anos.de.Estudo |\n",
       "|---|---|\n",
       "| 1 | 12 |\n",
       "| 3 | 15 |\n",
       "| 4 |  6 |\n",
       "| 5 |  9 |\n",
       "| 9 | 14 |\n",
       "| 16 | 16 |\n",
       "| 17 | 10 |\n",
       "| 21 |  1 |\n",
       "| 23 |  5 |\n",
       "| 37 |  7 |\n",
       "| 38 |  3 |\n",
       "| 44 |  2 |\n",
       "| 50 |  4 |\n",
       "| 51 |  8 |\n",
       "| 63 | 11 |\n",
       "| 75 | 17 |\n",
       "| 161 | 13 |\n",
       "\n"
      ],
      "text/plain": [
       "    Anos.de.Estudo\n",
       "1   12            \n",
       "3   15            \n",
       "4    6            \n",
       "5    9            \n",
       "9   14            \n",
       "16  16            \n",
       "17  10            \n",
       "21   1            \n",
       "23   5            \n",
       "37   7            \n",
       "38   3            \n",
       "44   2            \n",
       "50   4            \n",
       "51   8            \n",
       "63  11            \n",
       "75  17            \n",
       "161 13            "
      ]
     },
     "metadata": {},
     "output_type": "display_data"
    }
   ],
   "source": [
    "unique(select(dados, Anos.de.Estudo)) # unique returns a vector, data frame or array like x but with duplicate elements/rows removed."
   ]
  },
  {
   "cell_type": "code",
   "execution_count": 12,
   "metadata": {
    "scrolled": true
   },
   "outputs": [
    {
     "data": {
      "text/html": [
       "<table>\n",
       "<thead><tr><th scope=col>Anos.de.Estudo</th></tr></thead>\n",
       "<tbody>\n",
       "\t<tr><td> 1</td></tr>\n",
       "\t<tr><td> 2</td></tr>\n",
       "\t<tr><td> 3</td></tr>\n",
       "\t<tr><td> 4</td></tr>\n",
       "\t<tr><td> 5</td></tr>\n",
       "\t<tr><td> 6</td></tr>\n",
       "\t<tr><td> 7</td></tr>\n",
       "\t<tr><td> 8</td></tr>\n",
       "\t<tr><td> 9</td></tr>\n",
       "\t<tr><td>10</td></tr>\n",
       "\t<tr><td>11</td></tr>\n",
       "\t<tr><td>12</td></tr>\n",
       "\t<tr><td>13</td></tr>\n",
       "\t<tr><td>14</td></tr>\n",
       "\t<tr><td>15</td></tr>\n",
       "\t<tr><td>16</td></tr>\n",
       "\t<tr><td>17</td></tr>\n",
       "</tbody>\n",
       "</table>\n"
      ],
      "text/latex": [
       "\\begin{tabular}{r|l}\n",
       " Anos.de.Estudo\\\\\n",
       "\\hline\n",
       "\t  1\\\\\n",
       "\t  2\\\\\n",
       "\t  3\\\\\n",
       "\t  4\\\\\n",
       "\t  5\\\\\n",
       "\t  6\\\\\n",
       "\t  7\\\\\n",
       "\t  8\\\\\n",
       "\t  9\\\\\n",
       "\t 10\\\\\n",
       "\t 11\\\\\n",
       "\t 12\\\\\n",
       "\t 13\\\\\n",
       "\t 14\\\\\n",
       "\t 15\\\\\n",
       "\t 16\\\\\n",
       "\t 17\\\\\n",
       "\\end{tabular}\n"
      ],
      "text/markdown": [
       "\n",
       "| Anos.de.Estudo |\n",
       "|---|\n",
       "|  1 |\n",
       "|  2 |\n",
       "|  3 |\n",
       "|  4 |\n",
       "|  5 |\n",
       "|  6 |\n",
       "|  7 |\n",
       "|  8 |\n",
       "|  9 |\n",
       "| 10 |\n",
       "| 11 |\n",
       "| 12 |\n",
       "| 13 |\n",
       "| 14 |\n",
       "| 15 |\n",
       "| 16 |\n",
       "| 17 |\n",
       "\n"
      ],
      "text/plain": [
       "   Anos.de.Estudo\n",
       "1   1            \n",
       "2   2            \n",
       "3   3            \n",
       "4   4            \n",
       "5   5            \n",
       "6   6            \n",
       "7   7            \n",
       "8   8            \n",
       "9   9            \n",
       "10 10            \n",
       "11 11            \n",
       "12 12            \n",
       "13 13            \n",
       "14 14            \n",
       "15 15            \n",
       "16 16            \n",
       "17 17            "
      ]
     },
     "metadata": {},
     "output_type": "display_data"
    }
   ],
   "source": [
    "arrange(unique(select(dados, Anos.de.Estudo)), Anos.de.Estudo) # Arrange rows by variables"
   ]
  },
  {
   "cell_type": "code",
   "execution_count": 13,
   "metadata": {
    "scrolled": true
   },
   "outputs": [
    {
     "data": {
      "text/html": [
       "<strong>$Anos.de.Estudo</strong> = <ol class=list-inline>\n",
       "\t<li>1</li>\n",
       "\t<li>2</li>\n",
       "\t<li>3</li>\n",
       "\t<li>4</li>\n",
       "\t<li>5</li>\n",
       "\t<li>6</li>\n",
       "\t<li>7</li>\n",
       "\t<li>8</li>\n",
       "\t<li>9</li>\n",
       "\t<li>10</li>\n",
       "\t<li>11</li>\n",
       "\t<li>12</li>\n",
       "\t<li>13</li>\n",
       "\t<li>14</li>\n",
       "\t<li>15</li>\n",
       "\t<li>16</li>\n",
       "\t<li>17</li>\n",
       "</ol>\n"
      ],
      "text/latex": [
       "\\textbf{\\$Anos.de.Estudo} = \\begin{enumerate*}\n",
       "\\item 1\n",
       "\\item 2\n",
       "\\item 3\n",
       "\\item 4\n",
       "\\item 5\n",
       "\\item 6\n",
       "\\item 7\n",
       "\\item 8\n",
       "\\item 9\n",
       "\\item 10\n",
       "\\item 11\n",
       "\\item 12\n",
       "\\item 13\n",
       "\\item 14\n",
       "\\item 15\n",
       "\\item 16\n",
       "\\item 17\n",
       "\\end{enumerate*}\n"
      ],
      "text/markdown": [
       "**$Anos.de.Estudo** = 1. 1\n",
       "2. 2\n",
       "3. 3\n",
       "4. 4\n",
       "5. 5\n",
       "6. 6\n",
       "7. 7\n",
       "8. 8\n",
       "9. 9\n",
       "10. 10\n",
       "11. 11\n",
       "12. 12\n",
       "13. 13\n",
       "14. 14\n",
       "15. 15\n",
       "16. 16\n",
       "17. 17\n",
       "\n",
       "\n"
      ],
      "text/plain": [
       "$Anos.de.Estudo\n",
       " [1]  1  2  3  4  5  6  7  8  9 10 11 12 13 14 15 16 17\n"
      ]
     },
     "metadata": {},
     "output_type": "display_data"
    }
   ],
   "source": [
    "c(arrange(unique(select(dados, Anos.de.Estudo)), Anos.de.Estudo)) # Combine Values into a Vector or List"
   ]
  },
  {
   "cell_type": "markdown",
   "metadata": {
    "colab_type": "text",
    "id": "i2mCIMyojQKv"
   },
   "source": [
    "### Variáveis qualitativas nominais\n",
    "\n",
    "► Variáveis que não podem ser ordenadas ou hierarquizardas"
   ]
  },
  {
   "cell_type": "code",
   "execution_count": 14,
   "metadata": {
    "scrolled": true
   },
   "outputs": [
    {
     "data": {
      "text/html": [
       "<strong>$UF</strong> = <ol class=list-inline>\n",
       "\t<li>11</li>\n",
       "\t<li>12</li>\n",
       "\t<li>13</li>\n",
       "\t<li>14</li>\n",
       "\t<li>15</li>\n",
       "\t<li>16</li>\n",
       "\t<li>17</li>\n",
       "\t<li>21</li>\n",
       "\t<li>22</li>\n",
       "\t<li>23</li>\n",
       "\t<li>24</li>\n",
       "\t<li>25</li>\n",
       "\t<li>26</li>\n",
       "\t<li>27</li>\n",
       "\t<li>28</li>\n",
       "\t<li>29</li>\n",
       "\t<li>31</li>\n",
       "\t<li>32</li>\n",
       "\t<li>33</li>\n",
       "\t<li>35</li>\n",
       "\t<li>41</li>\n",
       "\t<li>42</li>\n",
       "\t<li>43</li>\n",
       "\t<li>50</li>\n",
       "\t<li>51</li>\n",
       "\t<li>52</li>\n",
       "\t<li>53</li>\n",
       "</ol>\n"
      ],
      "text/latex": [
       "\\textbf{\\$UF} = \\begin{enumerate*}\n",
       "\\item 11\n",
       "\\item 12\n",
       "\\item 13\n",
       "\\item 14\n",
       "\\item 15\n",
       "\\item 16\n",
       "\\item 17\n",
       "\\item 21\n",
       "\\item 22\n",
       "\\item 23\n",
       "\\item 24\n",
       "\\item 25\n",
       "\\item 26\n",
       "\\item 27\n",
       "\\item 28\n",
       "\\item 29\n",
       "\\item 31\n",
       "\\item 32\n",
       "\\item 33\n",
       "\\item 35\n",
       "\\item 41\n",
       "\\item 42\n",
       "\\item 43\n",
       "\\item 50\n",
       "\\item 51\n",
       "\\item 52\n",
       "\\item 53\n",
       "\\end{enumerate*}\n"
      ],
      "text/markdown": [
       "**$UF** = 1. 11\n",
       "2. 12\n",
       "3. 13\n",
       "4. 14\n",
       "5. 15\n",
       "6. 16\n",
       "7. 17\n",
       "8. 21\n",
       "9. 22\n",
       "10. 23\n",
       "11. 24\n",
       "12. 25\n",
       "13. 26\n",
       "14. 27\n",
       "15. 28\n",
       "16. 29\n",
       "17. 31\n",
       "18. 32\n",
       "19. 33\n",
       "20. 35\n",
       "21. 41\n",
       "22. 42\n",
       "23. 43\n",
       "24. 50\n",
       "25. 51\n",
       "26. 52\n",
       "27. 53\n",
       "\n",
       "\n"
      ],
      "text/plain": [
       "$UF\n",
       " [1] 11 12 13 14 15 16 17 21 22 23 24 25 26 27 28 29 31 32 33 35 41 42 43 50 51\n",
       "[26] 52 53\n"
      ]
     },
     "metadata": {},
     "output_type": "display_data"
    }
   ],
   "source": [
    "c(arrange(unique(select(dados, UF)), UF))"
   ]
  },
  {
   "cell_type": "code",
   "execution_count": 15,
   "metadata": {},
   "outputs": [
    {
     "data": {
      "text/html": [
       "<strong>$Sexo</strong> = <ol class=list-inline>\n",
       "\t<li>0</li>\n",
       "\t<li>1</li>\n",
       "</ol>\n"
      ],
      "text/latex": [
       "\\textbf{\\$Sexo} = \\begin{enumerate*}\n",
       "\\item 0\n",
       "\\item 1\n",
       "\\end{enumerate*}\n"
      ],
      "text/markdown": [
       "**$Sexo** = 1. 0\n",
       "2. 1\n",
       "\n",
       "\n"
      ],
      "text/plain": [
       "$Sexo\n",
       "[1] 0 1\n"
      ]
     },
     "metadata": {},
     "output_type": "display_data"
    }
   ],
   "source": [
    "c(arrange(unique(select(dados, Sexo)), Sexo))"
   ]
  },
  {
   "cell_type": "code",
   "execution_count": 16,
   "metadata": {},
   "outputs": [
    {
     "data": {
      "text/html": [
       "<strong>$Cor</strong> = <ol class=list-inline>\n",
       "\t<li>0</li>\n",
       "\t<li>2</li>\n",
       "\t<li>4</li>\n",
       "\t<li>6</li>\n",
       "\t<li>8</li>\n",
       "</ol>\n"
      ],
      "text/latex": [
       "\\textbf{\\$Cor} = \\begin{enumerate*}\n",
       "\\item 0\n",
       "\\item 2\n",
       "\\item 4\n",
       "\\item 6\n",
       "\\item 8\n",
       "\\end{enumerate*}\n"
      ],
      "text/markdown": [
       "**$Cor** = 1. 0\n",
       "2. 2\n",
       "3. 4\n",
       "4. 6\n",
       "5. 8\n",
       "\n",
       "\n"
      ],
      "text/plain": [
       "$Cor\n",
       "[1] 0 2 4 6 8\n"
      ]
     },
     "metadata": {},
     "output_type": "display_data"
    }
   ],
   "source": [
    "c(arrange(unique(select(dados, Cor)), Cor))"
   ]
  },
  {
   "cell_type": "markdown",
   "metadata": {
    "colab_type": "text",
    "id": "FQhi81LsjQK5"
   },
   "source": [
    "### Variáveis quantitativas discretas\n",
    "\n",
    "► Variáveis que representam uma contagem onde os valores possíveis formam um conjunto finito ou enumerável."
   ]
  },
  {
   "cell_type": "code",
   "execution_count": 17,
   "metadata": {},
   "outputs": [
    {
     "data": {
      "text/html": [
       "'De 13 até 99 anos'"
      ],
      "text/latex": [
       "'De 13 até 99 anos'"
      ],
      "text/markdown": [
       "'De 13 até 99 anos'"
      ],
      "text/plain": [
       "[1] \"De 13 até 99 anos\""
      ]
     },
     "metadata": {},
     "output_type": "display_data"
    }
   ],
   "source": [
    "sprintf('De %s até %s anos', min(dados$Idade), max(dados$Idade)) # sprintf Use C-style String Formatting Commands\n",
    "# within this dataset we have people from 13 to 99 years old at most"
   ]
  },
  {
   "cell_type": "code",
   "execution_count": 18,
   "metadata": {},
   "outputs": [
    {
     "name": "stderr",
     "output_type": "stream",
     "text": [
      "\n",
      "Attaching package: 'glue'\n",
      "\n",
      "The following object is masked from 'package:dplyr':\n",
      "\n",
      "    collapse\n",
      "\n"
     ]
    }
   ],
   "source": [
    "library(glue) # Format and interpolate a string"
   ]
  },
  {
   "cell_type": "code",
   "execution_count": 19,
   "metadata": {},
   "outputs": [
    {
     "data": {
      "text/html": [
       "'De 13 até 99 anos'"
      ],
      "text/latex": [
       "'De 13 até 99 anos'"
      ],
      "text/markdown": [
       "'De 13 até 99 anos'"
      ],
      "text/plain": [
       "De 13 até 99 anos"
      ]
     },
     "metadata": {},
     "output_type": "display_data"
    }
   ],
   "source": [
    "glue('De {min(dados$Idade)} até {max(dados$Idade)} anos') # an alternative way to sprintf"
   ]
  },
  {
   "cell_type": "markdown",
   "metadata": {
    "colab_type": "text",
    "id": "7mMXLTukjQK-"
   },
   "source": [
    "#### <font color='red'>Observação</font>\n",
    "***\n",
    "> A variável idade pode ser classificada de três formas distintas:\n",
    "> 1. <b>QUANTITATIVA DISCRETA</b> - quando representa anos completos (números inteiros);\n",
    "> 2. <b>QUANTITATIVA CONTÍNUA</b> - quando representa a idade exata, sendo representado por frações de anos; e\n",
    "> 3. <b>QUALITATIVA ORDINAL</b> - quando representa faixas de idade."
   ]
  },
  {
   "cell_type": "markdown",
   "metadata": {
    "colab_type": "text",
    "id": "J0L2OkaQjQK7"
   },
   "source": [
    "### Variáveis quantitativas contínuas\n",
    "\n",
    "► Variáveis que representam uma contagem ou mensuração que assumem valores em uma escala contínua (números reais)."
   ]
  },
  {
   "cell_type": "code",
   "execution_count": 20,
   "metadata": {},
   "outputs": [
    {
     "data": {
      "text/html": [
       "'De 1.339244614 até 2.028496765 metros'"
      ],
      "text/latex": [
       "'De 1.339244614 até 2.028496765 metros'"
      ],
      "text/markdown": [
       "'De 1.339244614 até 2.028496765 metros'"
      ],
      "text/plain": [
       "De 1.339244614 até 2.028496765 metros"
      ]
     },
     "metadata": {},
     "output_type": "display_data"
    }
   ],
   "source": [
    "glue('De {min(dados$Altura)} até {max(dados$Altura)} metros')"
   ]
  },
  {
   "cell_type": "markdown",
   "metadata": {
    "colab_type": "text",
    "id": "d_LW5gMIjQK_"
   },
   "source": [
    "### Classificação de uma variável\n",
    "<img src='https://caelum-online-public.s3.amazonaws.com/1177-estatistica-parte1/01/img001.png' width='70%'>"
   ]
  },
  {
   "cell_type": "markdown",
   "metadata": {
    "colab_type": "text",
    "id": "PNIg_4VEjQK_"
   },
   "source": [
    "# <font color=green>2 DISTRIBUIÇÃO DE FREQUÊNCIAS</font>\n",
    "***\n",
    "\n",
    "O primeiro passo em um trabalho de análise é o conhecimento do comportamento das variáveis envolvidas no estudo. Utilizando técnicas estatísticas como as análises das <b>DISTRIBUIÇÕES DE FREQUÊNCIAS</b> e <b>HISTOGRAMAS</b> podemos avaliar melhor a forma como os fenômenos em estudo se distribuem."
   ]
  },
  {
   "cell_type": "markdown",
   "metadata": {
    "colab_type": "text",
    "id": "JhpyjkEFjQLA"
   },
   "source": [
    "## <font color=green>2.1 Distribuição de frequências para variáveis qualitativas</font>\n",
    "***"
   ]
  },
  {
   "cell_type": "markdown",
   "metadata": {
    "colab_type": "text",
    "id": "SsN3ikjqjQLB"
   },
   "source": [
    "### Método 1"
   ]
  },
  {
   "cell_type": "markdown",
   "metadata": {
    "colab_type": "text",
    "id": "SsN3ikjqjQLB"
   },
   "source": [
    "### <font color=red>Documentações:\n",
    "\n",
    "- [**table**](https://www.rdocumentation.org/packages/base/versions/3.6.1/topics/table)\n",
    "- [**prop.table**](https://www.rdocumentation.org/packages/base/versions/3.6.1/topics/prop.table)\n",
    "- [**cbind**](https://www.rdocumentation.org/packages/base/versions/3.6.1/topics/cbind)\n",
    "- [**row+colnames**](https://www.rdocumentation.org/packages/base/versions/3.6.1/topics/row%2Bcolnames)"
   ]
  },
  {
   "cell_type": "code",
   "execution_count": 21,
   "metadata": {},
   "outputs": [
    {
     "data": {
      "text/plain": [
       "\n",
       "    0     1 \n",
       "53250 23590 "
      ]
     },
     "metadata": {},
     "output_type": "display_data"
    }
   ],
   "source": [
    "table(dados$Sexo)  # table Cross Tabulation and Table Creation, table uses the cross-classifying factors to build a contingency table of the counts at each combination of factor levels.\n",
    "# there are 53250 men in this dataset and 23590 women"
   ]
  },
  {
   "cell_type": "markdown",
   "metadata": {},
   "source": [
    "As stated in the observations about the treatment of the database, we chose only managerial positions \"Reference persons\". For that reason, we have more men here than women."
   ]
  },
  {
   "cell_type": "code",
   "execution_count": 22,
   "metadata": {},
   "outputs": [
    {
     "data": {
      "text/html": [
       "<table>\n",
       "<thead><tr><th></th><th scope=col>frenq</th><th scope=col>porcent</th></tr></thead>\n",
       "<tbody>\n",
       "\t<tr><th scope=row>0</th><td>53250   </td><td>69.29984</td></tr>\n",
       "\t<tr><th scope=row>1</th><td>23590   </td><td>30.70016</td></tr>\n",
       "</tbody>\n",
       "</table>\n"
      ],
      "text/latex": [
       "\\begin{tabular}{r|ll}\n",
       "  & frenq & porcent\\\\\n",
       "\\hline\n",
       "\t0 & 53250    & 69.29984\\\\\n",
       "\t1 & 23590    & 30.70016\\\\\n",
       "\\end{tabular}\n"
      ],
      "text/markdown": [
       "\n",
       "| <!--/--> | frenq | porcent |\n",
       "|---|---|---|\n",
       "| 0 | 53250    | 69.29984 |\n",
       "| 1 | 23590    | 30.70016 |\n",
       "\n"
      ],
      "text/plain": [
       "  frenq porcent \n",
       "0 53250 69.29984\n",
       "1 23590 30.70016"
      ]
     },
     "metadata": {},
     "output_type": "display_data"
    }
   ],
   "source": [
    "dist_freq_qualitativa <- cbind(frenq = table(dados$Sexo), porcent = prop.table(table(dados$Sexo)) * 100)\n",
    "dist_freq_qualitativa  # Thus, 69% are men and 30% women"
   ]
  },
  {
   "cell_type": "code",
   "execution_count": 23,
   "metadata": {},
   "outputs": [
    {
     "data": {
      "text/html": [
       "<table>\n",
       "<thead><tr><th></th><th scope=col>Frequência</th><th scope=col>Porcentagem (%)</th></tr></thead>\n",
       "<tbody>\n",
       "\t<tr><th scope=row>0</th><td>53250   </td><td>69.29984</td></tr>\n",
       "\t<tr><th scope=row>1</th><td>23590   </td><td>30.70016</td></tr>\n",
       "</tbody>\n",
       "</table>\n"
      ],
      "text/latex": [
       "\\begin{tabular}{r|ll}\n",
       "  & Frequência & Porcentagem (\\%)\\\\\n",
       "\\hline\n",
       "\t0 & 53250    & 69.29984\\\\\n",
       "\t1 & 23590    & 30.70016\\\\\n",
       "\\end{tabular}\n"
      ],
      "text/markdown": [
       "\n",
       "| <!--/--> | Frequência | Porcentagem (%) |\n",
       "|---|---|---|\n",
       "| 0 | 53250    | 69.29984 |\n",
       "| 1 | 23590    | 30.70016 |\n",
       "\n"
      ],
      "text/plain": [
       "  Frequência Porcentagem (%)\n",
       "0 53250      69.29984       \n",
       "1 23590      30.70016       "
      ]
     },
     "metadata": {},
     "output_type": "display_data"
    }
   ],
   "source": [
    "colnames(dist_freq_qualitativa) <- c('Frequência', 'Porcentagem (%)') # Retrieve or set the row or column names of a matrix-like object.\n",
    "dist_freq_qualitativa"
   ]
  },
  {
   "cell_type": "code",
   "execution_count": 24,
   "metadata": {},
   "outputs": [
    {
     "data": {
      "text/html": [
       "<table>\n",
       "<thead><tr><th></th><th scope=col>Frequência</th><th scope=col>Porcentagem (%)</th></tr></thead>\n",
       "<tbody>\n",
       "\t<tr><th scope=row>Masculino</th><td>53250   </td><td>69.29984</td></tr>\n",
       "\t<tr><th scope=row>Feminino</th><td>23590   </td><td>30.70016</td></tr>\n",
       "</tbody>\n",
       "</table>\n"
      ],
      "text/latex": [
       "\\begin{tabular}{r|ll}\n",
       "  & Frequência & Porcentagem (\\%)\\\\\n",
       "\\hline\n",
       "\tMasculino & 53250    & 69.29984\\\\\n",
       "\tFeminino & 23590    & 30.70016\\\\\n",
       "\\end{tabular}\n"
      ],
      "text/markdown": [
       "\n",
       "| <!--/--> | Frequência | Porcentagem (%) |\n",
       "|---|---|---|\n",
       "| Masculino | 53250    | 69.29984 |\n",
       "| Feminino | 23590    | 30.70016 |\n",
       "\n"
      ],
      "text/plain": [
       "          Frequência Porcentagem (%)\n",
       "Masculino 53250      69.29984       \n",
       "Feminino  23590      30.70016       "
      ]
     },
     "metadata": {},
     "output_type": "display_data"
    }
   ],
   "source": [
    "rownames(dist_freq_qualitativa) <- c('Masculino', 'Feminino')\n",
    "dist_freq_qualitativa"
   ]
  },
  {
   "cell_type": "markdown",
   "metadata": {},
   "source": [
    "A numeração abaixo representa as seguintes profissões:\n",
    "\n",
    "1: Estatístico\n",
    "\n",
    "2: Cientista de Dados\n",
    "\n",
    "3: Programador R"
   ]
  },
  {
   "cell_type": "code",
   "execution_count": 25,
   "metadata": {},
   "outputs": [],
   "source": [
    "prof <- c(1, 2, 3, 1, 2, 2, 2, 3, 3, 2, 1, 3)"
   ]
  },
  {
   "cell_type": "code",
   "execution_count": 26,
   "metadata": {},
   "outputs": [
    {
     "data": {
      "text/html": [
       "<table>\n",
       "<thead><tr><th></th><th scope=col>Frequência</th><th scope=col>Porcentagem (%)</th></tr></thead>\n",
       "<tbody>\n",
       "\t<tr><th scope=row>Estatístico</th><td>3       </td><td>25.00000</td></tr>\n",
       "\t<tr><th scope=row>Cientista de Dados</th><td>5       </td><td>41.66667</td></tr>\n",
       "\t<tr><th scope=row>Programador R</th><td>4       </td><td>33.33333</td></tr>\n",
       "</tbody>\n",
       "</table>\n"
      ],
      "text/latex": [
       "\\begin{tabular}{r|ll}\n",
       "  & Frequência & Porcentagem (\\%)\\\\\n",
       "\\hline\n",
       "\tEstatístico & 3        & 25.00000\\\\\n",
       "\tCientista de Dados & 5        & 41.66667\\\\\n",
       "\tProgramador R & 4        & 33.33333\\\\\n",
       "\\end{tabular}\n"
      ],
      "text/markdown": [
       "\n",
       "| <!--/--> | Frequência | Porcentagem (%) |\n",
       "|---|---|---|\n",
       "| Estatístico | 3        | 25.00000 |\n",
       "| Cientista de Dados | 5        | 41.66667 |\n",
       "| Programador R | 4        | 33.33333 |\n",
       "\n"
      ],
      "text/plain": [
       "                   Frequência Porcentagem (%)\n",
       "Estatístico        3          25.00000       \n",
       "Cientista de Dados 5          41.66667       \n",
       "Programador R      4          33.33333       "
      ]
     },
     "metadata": {},
     "output_type": "display_data"
    }
   ],
   "source": [
    "dist_freq <- cbind(\"Frequência\" = table(prof), \"Porcentagem (%)\" = prop.table(table(prof)) * 100)\n",
    "rownames(dist_freq) <- c(\"Estatístico\", \"Cientista de Dados\", \"Programador R\")\n",
    "dist_freq"
   ]
  },
  {
   "cell_type": "markdown",
   "metadata": {
    "colab_type": "text",
    "id": "D82ocp_djQLR"
   },
   "source": [
    "### Método 2"
   ]
  },
  {
   "cell_type": "markdown",
   "metadata": {
    "colab_type": "text",
    "id": "D82ocp_djQLR"
   },
   "source": [
    "### <font color=red>Documentações:\n",
    "\n",
    "- [**tapply**](https://www.rdocumentation.org/packages/base/versions/3.6.1/topics/tapply)"
   ]
  },
  {
   "cell_type": "code",
   "execution_count": 27,
   "metadata": {},
   "outputs": [
    {
     "data": {
      "text/plain": [
       "   \n",
       "        0     2     4     6     8\n",
       "  0   256 22194  5502   235 25063\n",
       "  1   101  9621  2889   117 10862"
      ]
     },
     "metadata": {},
     "output_type": "display_data"
    }
   ],
   "source": [
    "frequencia <- table(dados$Sexo, dados$Cor)\n",
    "frequencia"
   ]
  },
  {
   "cell_type": "code",
   "execution_count": 28,
   "metadata": {
    "colab": {},
    "colab_type": "code",
    "id": "d8XMZiEfjQLS"
   },
   "outputs": [
    {
     "data": {
      "text/html": [
       "<table>\n",
       "<thead><tr><th></th><th scope=col>Indígena</th><th scope=col>Branca</th><th scope=col>Preta</th><th scope=col>Amarela</th><th scope=col>Parda</th></tr></thead>\n",
       "<tbody>\n",
       "\t<tr><th scope=row>Masculino</th><td>256  </td><td>22194</td><td>5502 </td><td>235  </td><td>25063</td></tr>\n",
       "\t<tr><th scope=row>Feminino</th><td>101  </td><td> 9621</td><td>2889 </td><td>117  </td><td>10862</td></tr>\n",
       "</tbody>\n",
       "</table>\n"
      ],
      "text/latex": [
       "\\begin{tabular}{r|lllll}\n",
       "  & Indígena & Branca & Preta & Amarela & Parda\\\\\n",
       "\\hline\n",
       "\tMasculino & 256   & 22194 & 5502  & 235   & 25063\\\\\n",
       "\tFeminino & 101   &  9621 & 2889  & 117   & 10862\\\\\n",
       "\\end{tabular}\n"
      ],
      "text/markdown": [
       "\n",
       "| <!--/--> | Indígena | Branca | Preta | Amarela | Parda |\n",
       "|---|---|---|---|---|---|\n",
       "| Masculino | 256   | 22194 | 5502  | 235   | 25063 |\n",
       "| Feminino | 101   |  9621 | 2889  | 117   | 10862 |\n",
       "\n"
      ],
      "text/plain": [
       "          Indígena Branca Preta Amarela Parda\n",
       "Masculino 256      22194  5502  235     25063\n",
       "Feminino  101       9621  2889  117     10862"
      ]
     },
     "metadata": {},
     "output_type": "display_data"
    }
   ],
   "source": [
    "rownames(frequencia) <- c('Masculino', 'Feminino')\n",
    "colnames(frequencia) <- c('Indígena', 'Branca', 'Preta', 'Amarela', 'Parda')\n",
    "frequencia <- cbind(frequencia)\n",
    "frequencia"
   ]
  },
  {
   "cell_type": "code",
   "execution_count": 29,
   "metadata": {
    "colab": {
     "base_uri": "https://localhost:8080/",
     "height": 142
    },
    "colab_type": "code",
    "id": "YLCyOKYcjQLU",
    "outputId": "7edebb2b-4a25-4b77-f78a-f47adbc8b3d9"
   },
   "outputs": [
    {
     "data": {
      "text/html": [
       "<table>\n",
       "<thead><tr><th></th><th scope=col>Indígena</th><th scope=col>Branca</th><th scope=col>Preta</th><th scope=col>Amarela</th><th scope=col>Parda</th></tr></thead>\n",
       "<tbody>\n",
       "\t<tr><th scope=row>Masculino</th><td>0.3331598</td><td>28.88339 </td><td>7.160333 </td><td>0.3058303</td><td>32.61713 </td></tr>\n",
       "\t<tr><th scope=row>Feminino</th><td>0.1314420</td><td>12.52082 </td><td>3.759761 </td><td>0.1522644</td><td>14.13587 </td></tr>\n",
       "</tbody>\n",
       "</table>\n"
      ],
      "text/latex": [
       "\\begin{tabular}{r|lllll}\n",
       "  & Indígena & Branca & Preta & Amarela & Parda\\\\\n",
       "\\hline\n",
       "\tMasculino & 0.3331598 & 28.88339  & 7.160333  & 0.3058303 & 32.61713 \\\\\n",
       "\tFeminino & 0.1314420 & 12.52082  & 3.759761  & 0.1522644 & 14.13587 \\\\\n",
       "\\end{tabular}\n"
      ],
      "text/markdown": [
       "\n",
       "| <!--/--> | Indígena | Branca | Preta | Amarela | Parda |\n",
       "|---|---|---|---|---|---|\n",
       "| Masculino | 0.3331598 | 28.88339  | 7.160333  | 0.3058303 | 32.61713  |\n",
       "| Feminino | 0.1314420 | 12.52082  | 3.759761  | 0.1522644 | 14.13587  |\n",
       "\n"
      ],
      "text/plain": [
       "          Indígena  Branca   Preta    Amarela   Parda   \n",
       "Masculino 0.3331598 28.88339 7.160333 0.3058303 32.61713\n",
       "Feminino  0.1314420 12.52082 3.759761 0.1522644 14.13587"
      ]
     },
     "metadata": {},
     "output_type": "display_data"
    }
   ],
   "source": [
    "porcent <- prop.table(frequencia) * 100\n",
    "porcent"
   ]
  },
  {
   "cell_type": "code",
   "execution_count": 30,
   "metadata": {},
   "outputs": [
    {
     "data": {
      "text/html": [
       "<table>\n",
       "<thead><tr><th></th><th scope=col>Indígena</th><th scope=col>Branca</th><th scope=col>Preta</th><th scope=col>Amarela</th><th scope=col>Parda</th></tr></thead>\n",
       "<tbody>\n",
       "\t<tr><th scope=row>Masculino</th><td>1081.711</td><td>2925.744</td><td>1603.862</td><td>4758.251</td><td>1659.577</td></tr>\n",
       "\t<tr><th scope=row>Feminino</th><td>2464.386</td><td>2109.867</td><td>1134.596</td><td>3027.342</td><td>1176.759</td></tr>\n",
       "</tbody>\n",
       "</table>\n"
      ],
      "text/latex": [
       "\\begin{tabular}{r|lllll}\n",
       "  & Indígena & Branca & Preta & Amarela & Parda\\\\\n",
       "\\hline\n",
       "\tMasculino & 1081.711 & 2925.744 & 1603.862 & 4758.251 & 1659.577\\\\\n",
       "\tFeminino & 2464.386 & 2109.867 & 1134.596 & 3027.342 & 1176.759\\\\\n",
       "\\end{tabular}\n"
      ],
      "text/markdown": [
       "\n",
       "| <!--/--> | Indígena | Branca | Preta | Amarela | Parda |\n",
       "|---|---|---|---|---|---|\n",
       "| Masculino | 1081.711 | 2925.744 | 1603.862 | 4758.251 | 1659.577 |\n",
       "| Feminino | 2464.386 | 2109.867 | 1134.596 | 3027.342 | 1176.759 |\n",
       "\n"
      ],
      "text/plain": [
       "          Indígena Branca   Preta    Amarela  Parda   \n",
       "Masculino 1081.711 2925.744 1603.862 4758.251 1659.577\n",
       "Feminino  2464.386 2109.867 1134.596 3027.342 1176.759"
      ]
     },
     "metadata": {},
     "output_type": "display_data"
    }
   ],
   "source": [
    "medias <- tapply(dados$Renda, list(dados$Sexo, dados$Cor), mean)\n",
    "rownames(medias) <- c('Masculino', 'Feminino')\n",
    "colnames(medias) <- c('Indígena', 'Branca', 'Preta', 'Amarela', 'Parda')\n",
    "medias"
   ]
  },
  {
   "cell_type": "markdown",
   "metadata": {
    "colab_type": "text",
    "id": "eaXQUxnXjQLa"
   },
   "source": [
    "## <font color=green>2.2 Distribuição de frequências para variáveis quantitativas (classes personalizadas)</font>\n",
    "***"
   ]
  },
  {
   "cell_type": "markdown",
   "metadata": {
    "colab_type": "text",
    "id": "eaXQUxnXjQLa"
   },
   "source": [
    "### <font color=red>Documentações:\n",
    "\n",
    "- [**cut**](https://www.rdocumentation.org/packages/base/versions/3.6.1/topics/cut)\n",
    "- [**order**](https://www.rdocumentation.org/packages/base/versions/3.6.1/topics/order)\n",
    "- [**row.names**](https://www.rdocumentation.org/packages/base/versions/3.6.1/topics/row.names)"
   ]
  },
  {
   "cell_type": "markdown",
   "metadata": {
    "colab_type": "text",
    "id": "wxsSD-VVjQLb"
   },
   "source": [
    "### Passo 1 - Especificar os limites de cada classe\n",
    "\n",
    "Utilizar a seguinte classificação:\n",
    "\n",
    "<b>A</b> ► Acima de 20 SM\n",
    "\n",
    "<b>B</b> ► De 10 a 20 SM\n",
    "\n",
    "<b>C</b> ► De 4 a 10 SM\n",
    "\n",
    "<b>D</b> ► De 2 a 4 SM\n",
    "\n",
    "<b>E</b> ► Até 2 SM\n",
    "\n",
    "onde <b>SM</b> é o valor do salário mínimo na época. Em nosso caso <b>R$ 788,00</b> (2015):\n",
    "\n",
    "<b>A</b> ► Acima de 15.760\n",
    "\n",
    "<b>B</b> ► De 7.880 a 15.760\n",
    "\n",
    "<b>C</b> ► De 3.152 a 7.880\n",
    "\n",
    "<b>D</b> ► De 1.576 a 3.152\n",
    "\n",
    "<b>E</b> ► Até 1.576\n"
   ]
  },
  {
   "cell_type": "code",
   "execution_count": 31,
   "metadata": {
    "colab": {
     "base_uri": "https://localhost:8080/",
     "height": 35
    },
    "colab_type": "code",
    "id": "Z08790GUjQLc",
    "outputId": "4a7bafb3-8440-42ee-fc60-a29080527059"
   },
   "outputs": [
    {
     "data": {
      "text/html": [
       "0"
      ],
      "text/latex": [
       "0"
      ],
      "text/markdown": [
       "0"
      ],
      "text/plain": [
       "[1] 0"
      ]
     },
     "metadata": {},
     "output_type": "display_data"
    }
   ],
   "source": [
    "min(dados$Renda)"
   ]
  },
  {
   "cell_type": "code",
   "execution_count": 37,
   "metadata": {
    "colab": {
     "base_uri": "https://localhost:8080/",
     "height": 35
    },
    "colab_type": "code",
    "id": "5q2V5-0FjQLe",
    "outputId": "4d3c65eb-f1b0-454d-eb93-09c82314e311"
   },
   "outputs": [
    {
     "data": {
      "text/html": [
       "200000"
      ],
      "text/latex": [
       "200000"
      ],
      "text/markdown": [
       "200000"
      ],
      "text/plain": [
       "[1] 200000"
      ]
     },
     "metadata": {},
     "output_type": "display_data"
    }
   ],
   "source": [
    "max(dados$Renda)"
   ]
  },
  {
   "cell_type": "code",
   "execution_count": 38,
   "metadata": {
    "colab": {},
    "colab_type": "code",
    "id": "Qt5F5w2UjQLg"
   },
   "outputs": [],
   "source": [
    "classes <- c(0, 1576, 3152, 7880, 15760, 200000)"
   ]
  },
  {
   "cell_type": "code",
   "execution_count": 39,
   "metadata": {
    "colab": {},
    "colab_type": "code",
    "id": "DKPIGOLLjQLi"
   },
   "outputs": [],
   "source": [
    "labels <- c('E', 'D', 'C', 'B', 'A')"
   ]
  },
  {
   "cell_type": "markdown",
   "metadata": {
    "colab_type": "text",
    "id": "IQhlvrQUjQLk"
   },
   "source": [
    "### Passo 2 - Criar a tabela de frequências"
   ]
  },
  {
   "cell_type": "code",
   "execution_count": null,
   "metadata": {},
   "outputs": [],
   "source": []
  },
  {
   "cell_type": "code",
   "execution_count": null,
   "metadata": {
    "colab": {
     "base_uri": "https://localhost:8080/",
     "height": 125
    },
    "colab_type": "code",
    "id": "WrZ2m2GajQLo",
    "outputId": "363ba010-04c1-4f23-a08a-f5431372fcf4"
   },
   "outputs": [],
   "source": []
  },
  {
   "cell_type": "code",
   "execution_count": null,
   "metadata": {
    "colab": {
     "base_uri": "https://localhost:8080/",
     "height": 204
    },
    "colab_type": "code",
    "id": "btKoxJDujQLp",
    "outputId": "849e9644-dcf1-4c0f-88c8-9bd00f24a53b"
   },
   "outputs": [],
   "source": []
  },
  {
   "cell_type": "code",
   "execution_count": null,
   "metadata": {
    "colab": {
     "base_uri": "https://localhost:8080/",
     "height": 204
    },
    "colab_type": "code",
    "id": "uTMEJXUHjQLs",
    "outputId": "ce17e408-9d56-44b2-fb26-a4037df3af00"
   },
   "outputs": [],
   "source": []
  },
  {
   "cell_type": "markdown",
   "metadata": {},
   "source": [
    "Outro exemplo"
   ]
  },
  {
   "cell_type": "code",
   "execution_count": 41,
   "metadata": {},
   "outputs": [
    {
     "data": {
      "text/html": [
       "<table>\n",
       "<thead><tr><th></th><th scope=col>Frequência</th><th scope=col>Porcentagem (%)</th></tr></thead>\n",
       "<tbody>\n",
       "\t<tr><th scope=row>1 - Baixa</th><td>20529   </td><td>26.71655</td></tr>\n",
       "\t<tr><th scope=row>2 - Média</th><td>36162   </td><td>47.06143</td></tr>\n",
       "\t<tr><th scope=row>3 - Alta</th><td>20149   </td><td>26.22202</td></tr>\n",
       "</tbody>\n",
       "</table>\n"
      ],
      "text/latex": [
       "\\begin{tabular}{r|ll}\n",
       "  & Frequência & Porcentagem (\\%)\\\\\n",
       "\\hline\n",
       "\t1 - Baixa & 20529    & 26.71655\\\\\n",
       "\t2 - Média & 36162    & 47.06143\\\\\n",
       "\t3 - Alta & 20149    & 26.22202\\\\\n",
       "\\end{tabular}\n"
      ],
      "text/markdown": [
       "\n",
       "| <!--/--> | Frequência | Porcentagem (%) |\n",
       "|---|---|---|\n",
       "| 1 - Baixa | 20529    | 26.71655 |\n",
       "| 2 - Média | 36162    | 47.06143 |\n",
       "| 3 - Alta | 20149    | 26.22202 |\n",
       "\n"
      ],
      "text/plain": [
       "          Frequência Porcentagem (%)\n",
       "1 - Baixa 20529      26.71655       \n",
       "2 - Média 36162      47.06143       \n",
       "3 - Alta  20149      26.22202       "
      ]
     },
     "metadata": {},
     "output_type": "display_data"
    }
   ],
   "source": [
    "classes <- c(min(dados$Altura), 1.65, 1.75, max(dados$Altura))\n",
    "\n",
    "labels <- c('1 - Baixa', '2 - Média', '3 - Alta')\n",
    "\n",
    "frequencia <- table(\n",
    "    cut(\n",
    "        x = dados$Altura,\n",
    "        breaks = classes,\n",
    "        labels = labels,\n",
    "        include.lowest = TRUE\n",
    "    )\n",
    ")\n",
    "\n",
    "percentual <- prop.table(frequencia) * 100\n",
    "\n",
    "dist_freq_altura <- cbind('Frequência' = frequencia, 'Porcentagem (%)' = percentual)\n",
    "\n",
    "dist_freq_altura[\n",
    "    order(row.names(dist_freq_altura)),\n",
    "]"
   ]
  },
  {
   "cell_type": "markdown",
   "metadata": {
    "colab_type": "text",
    "id": "ViJYvvjujQLu"
   },
   "source": [
    "## <font color=green>2.3 Distribuição de frequências para variáveis quantitativas (classes de amplitude fixa)</font>\n",
    "***"
   ]
  },
  {
   "cell_type": "markdown",
   "metadata": {
    "colab_type": "text",
    "id": "ViJYvvjujQLu"
   },
   "source": [
    "### <font color=red>Documentações:\n",
    "\n",
    "- [**nrow**](https://www.rdocumentation.org/packages/base/versions/3.6.1/topics/nrow)\n",
    "- [**log**](https://www.rdocumentation.org/packages/base/versions/3.6.1/topics/log)\n",
    "- [**round**](https://www.rdocumentation.org/packages/base/versions/3.6.1/topics/Round)"
   ]
  },
  {
   "cell_type": "markdown",
   "metadata": {
    "colab_type": "text",
    "id": "s9UGNaMzjQLy"
   },
   "source": [
    "### Passo 1 - Definindo o número de classes"
   ]
  },
  {
   "cell_type": "markdown",
   "metadata": {
    "colab_type": "text",
    "id": "p268tvNHjQLy"
   },
   "source": [
    "#### Regra de Sturges\n",
    "\n",
    "# $$k = 1 + \\frac {10}{3}\\log_{10}n$$"
   ]
  },
  {
   "cell_type": "code",
   "execution_count": null,
   "metadata": {
    "colab": {
     "base_uri": "https://localhost:8080/",
     "height": 35
    },
    "colab_type": "code",
    "id": "wgLH6gGqjQLz",
    "outputId": "0cac691b-d35f-40a2-e1e7-31cfa0a5698a"
   },
   "outputs": [],
   "source": []
  },
  {
   "cell_type": "code",
   "execution_count": null,
   "metadata": {
    "colab": {},
    "colab_type": "code",
    "id": "uTuVep-8jQL0"
   },
   "outputs": [],
   "source": []
  },
  {
   "cell_type": "code",
   "execution_count": null,
   "metadata": {
    "colab": {
     "base_uri": "https://localhost:8080/",
     "height": 35
    },
    "colab_type": "code",
    "id": "B_Y66_KFjQL4",
    "outputId": "b93f7e32-c1f3-46b0-86d2-4575bab25906"
   },
   "outputs": [],
   "source": []
  },
  {
   "cell_type": "markdown",
   "metadata": {
    "colab_type": "text",
    "id": "5eO-RhaljQL6"
   },
   "source": [
    "### Passo 2 - Criar a tabela de frequências"
   ]
  },
  {
   "cell_type": "code",
   "execution_count": 34,
   "metadata": {},
   "outputs": [],
   "source": [
    "labels <- c(\n",
    "    '      0.00 |—|  11,764.70', \n",
    "    ' 11,764.70  —|  23,529.40', \n",
    "    ' 23,529.40  —|  35,294.10', \n",
    "    ' 35,294.10  —|  47,058.80', \n",
    "    ' 47,058.80  —|  58,823.50', \n",
    "    ' 58,823.50  —|  70,588.20', \n",
    "    ' 70,588.20  —|  82,352.90', \n",
    "    ' 82,352.90  —|  94,117.60', \n",
    "    ' 94,117.60  —| 105,882.00', \n",
    "    '105,882.00  —| 117,647.00', \n",
    "    '117,647.00  —| 129,412.00', \n",
    "    '129,412.00  —| 141,176.00', \n",
    "    '141,176.00  —| 152,941.00', \n",
    "    '152,941.00  —| 164,706.00', \n",
    "    '164,706.00  —| 176,471.00', \n",
    "    '176,471.00  —| 188,235.00', \n",
    "    '188,235.00  —| 200,000.00'\n",
    ")"
   ]
  },
  {
   "cell_type": "code",
   "execution_count": null,
   "metadata": {
    "colab": {},
    "colab_type": "code",
    "id": "sVVA-jvDjQL7"
   },
   "outputs": [],
   "source": []
  },
  {
   "cell_type": "code",
   "execution_count": null,
   "metadata": {
    "colab": {
     "base_uri": "https://localhost:8080/",
     "height": 341
    },
    "colab_type": "code",
    "id": "-ylxSip1jQL9",
    "outputId": "d362e353-a3c9-4721-efd3-2a8ff7c85ab5"
   },
   "outputs": [],
   "source": []
  },
  {
   "cell_type": "code",
   "execution_count": null,
   "metadata": {
    "colab": {
     "base_uri": "https://localhost:8080/",
     "height": 576
    },
    "colab_type": "code",
    "id": "n9kkJ0WTjQL_",
    "outputId": "994669b3-9a10-424c-adab-6f934f87fd45"
   },
   "outputs": [],
   "source": []
  },
  {
   "cell_type": "markdown",
   "metadata": {
    "colab_type": "text",
    "id": "Js9iLwNkjQME"
   },
   "source": [
    "## <font color=green>2.4 Histograma</font>\n",
    "***\n",
    "\n",
    "O <b>HISTOGRAMA</b> é a representação gráfica de uma distribuição de frequências. É um gráfico formado por um conjunto de retângulos colocados lado a lado, onde a área de cada retângulo é proporcional à frequência da classe que ele representa."
   ]
  },
  {
   "cell_type": "markdown",
   "metadata": {
    "colab_type": "text",
    "id": "Js9iLwNkjQME"
   },
   "source": [
    "### <font color=red>Documentações:\n",
    "\n",
    "- [***package* graphics**](https://www.rdocumentation.org/packages/graphics)\n",
    "- [**hist**](https://www.rdocumentation.org/packages/graphics/versions/3.6.1/topics/hist)\n",
    "- [***package* ggplot2**](https://www.rdocumentation.org/packages/ggplot2)\n",
    "- [**data.frame**](https://www.rdocumentation.org/packages/base/versions/3.6.1/topics/data.frame)"
   ]
  },
  {
   "cell_type": "code",
   "execution_count": null,
   "metadata": {},
   "outputs": [],
   "source": []
  },
  {
   "cell_type": "code",
   "execution_count": null,
   "metadata": {
    "colab": {},
    "colab_type": "code",
    "id": "PYRaBCnxjQME"
   },
   "outputs": [],
   "source": []
  },
  {
   "cell_type": "code",
   "execution_count": 35,
   "metadata": {},
   "outputs": [
    {
     "data": {
      "image/png": "[encoded data removed]",
      "text/plain": [
       "Plot with title \"Histograma das Alturas\""
      ]
     },
     "metadata": {},
     "output_type": "display_data"
    }
   ],
   "source": [
    "hist(\n",
    "    x = dados$Altura,\n",
    "    breaks = 'Sturges',\n",
    "    col = 'lightblue',\n",
    "    main = 'Histograma das Alturas',\n",
    "    xlab = 'Altura',\n",
    "    ylab = 'Frequências',\n",
    "    prob = TRUE,\n",
    "    las = 1\n",
    ")"
   ]
  },
  {
   "cell_type": "code",
   "execution_count": null,
   "metadata": {},
   "outputs": [],
   "source": []
  },
  {
   "cell_type": "code",
   "execution_count": 36,
   "metadata": {},
   "outputs": [
    {
     "ename": "ERROR",
     "evalue": "Error in parse(text = x, srcfile = src): <text>:13:0: unexpected end of input\n11:         axis.text.x = element_text(size = 10)\n12:     )\n   ^\n",
     "output_type": "error",
     "traceback": [
      "Error in parse(text = x, srcfile = src): <text>:13:0: unexpected end of input\n11:         axis.text.x = element_text(size = 10)\n12:     )\n   ^\nTraceback:\n"
     ]
    }
   ],
   "source": [
    "ggplot(\"#\", aes(x = \"#\") + \n",
    "    geom_histogram(binwidth = 0.02, color = \"black\", alpha = 0.9) + \n",
    "    ylab(\"Frequência\") + \n",
    "    xlab(\"Alturas\") + \n",
    "    ggtitle('Histograma das Alturas') +\n",
    "    theme(\n",
    "        plot.title = element_text(size = 14, hjust = 0.5),\n",
    "        axis.title.y = element_text(size = 12, vjust = +0.2),\n",
    "        axis.title.x = element_text(size = 12, vjust = -0.2),\n",
    "        axis.text.y = element_text(size = 10),\n",
    "        axis.text.x = element_text(size = 10)\n",
    "    )"
   ]
  },
  {
   "cell_type": "code",
   "execution_count": null,
   "metadata": {},
   "outputs": [],
   "source": []
  },
  {
   "cell_type": "code",
   "execution_count": null,
   "metadata": {},
   "outputs": [],
   "source": [
    "ggplot(\"#\", aes(x = \"#\", y = \"#\")) + \n",
    "    geom_histogram(binwidth = 0.02, color = \"black\", alpha = 0.9) + \n",
    "    geom_density(color = 'green') +\n",
    "    ylab(\"Frequência\") + \n",
    "    xlab(\"Alturas\") + \n",
    "    ggtitle('Histograma das Alturas') +\n",
    "    formatos"
   ]
  },
  {
   "cell_type": "code",
   "execution_count": null,
   "metadata": {
    "colab": {
     "base_uri": "https://localhost:8080/",
     "height": 204
    },
    "colab_type": "code",
    "id": "0HcLhLYtjQMM",
    "outputId": "45a291b3-4b7a-4ea8-c135-a873ad231c02"
   },
   "outputs": [],
   "source": []
  },
  {
   "cell_type": "code",
   "execution_count": null,
   "metadata": {},
   "outputs": [],
   "source": [
    "ggplot(\"#\", aes(x = \"#\", y = \"#\")) + \n",
    "    geom_bar(stat = \"identity\") + \n",
    "    ylab(\"Frequência\") + \n",
    "    xlab(\"Classes de Renda\") + \n",
    "    ggtitle('Gráfico Classes de Renda') +\n",
    "    formatos"
   ]
  },
  {
   "cell_type": "markdown",
   "metadata": {
    "colab_type": "text",
    "id": "uIb17Es3jQMP"
   },
   "source": [
    "# <font color=green>3 MEDIDAS DE TENDÊNCIA CENTRAL</font>\n",
    "***"
   ]
  },
  {
   "cell_type": "markdown",
   "metadata": {
    "colab_type": "text",
    "id": "Wrya4suEX7H-"
   },
   "source": [
    "## DataFrame de exemplo"
   ]
  },
  {
   "cell_type": "code",
   "execution_count": null,
   "metadata": {},
   "outputs": [],
   "source": [
    "materias <- c('Matemática', 'Português', 'Inglês', 'Geografia', 'História', 'Física', 'Química')\n",
    "Fulano <- c(8, 10, 4, 8, 6, 10, 8)\n",
    "Beltrano <- c(10, 2, 0.5, 1, 3, 9.5, 10)\n",
    "Sicrano <- c(7.5, 8, 7, 8, 8, 8.5, 7)"
   ]
  },
  {
   "cell_type": "code",
   "execution_count": null,
   "metadata": {},
   "outputs": [],
   "source": []
  },
  {
   "cell_type": "markdown",
   "metadata": {
    "colab_type": "text",
    "id": "kcHJFW-YjQMP"
   },
   "source": [
    "## <font color=green>3.1 Média aritmética</font>\n",
    "***\n",
    "\n",
    "É representada por $\\mu$ quando se refere à população e por $\\bar{X}$ quando se refere à amostra\n",
    "\n",
    "# $$\\mu = \\frac 1n\\sum_{i=1}^{n}X_i$$\n",
    "\n",
    "onde \n",
    "\n",
    "$n$ = número de observações (registros)\n",
    "\n",
    "$X_i$ = valor da i-ésima observação (registro)"
   ]
  },
  {
   "cell_type": "markdown",
   "metadata": {
    "colab_type": "text",
    "id": "kcHJFW-YjQMP"
   },
   "source": [
    "### <font color=red>Documentações:\n",
    "\n",
    "- [**mean**](https://www.rdocumentation.org/packages/base/versions/3.6.1/topics/mean)\n",
    "- [**aggregate**](https://www.rdocumentation.org/packages/stats/versions/3.6.1/topics/aggregate)\n",
    "- [**list**](https://www.rdocumentation.org/packages/base/versions/3.6.1/topics/list)"
   ]
  },
  {
   "cell_type": "code",
   "execution_count": null,
   "metadata": {
    "colab": {
     "base_uri": "https://localhost:8080/",
     "height": 35
    },
    "colab_type": "code",
    "id": "QW4JPcBmX7IA",
    "outputId": "45810cfa-fba2-4bf3-b571-eddd9d8ebd09"
   },
   "outputs": [],
   "source": []
  },
  {
   "cell_type": "code",
   "execution_count": null,
   "metadata": {
    "colab": {
     "base_uri": "https://localhost:8080/",
     "height": 35
    },
    "colab_type": "code",
    "id": "LuT8WNy5X7IB",
    "outputId": "1fde4b44-b250-41d9-ff02-70c9a0e05aca"
   },
   "outputs": [],
   "source": []
  },
  {
   "cell_type": "code",
   "execution_count": null,
   "metadata": {},
   "outputs": [],
   "source": []
  },
  {
   "cell_type": "code",
   "execution_count": null,
   "metadata": {},
   "outputs": [],
   "source": []
  },
  {
   "cell_type": "markdown",
   "metadata": {
    "colab_type": "text",
    "id": "9geu3UcKjQMS"
   },
   "source": [
    "## <font color=green>3.2 Mediana</font>\n",
    "***\n",
    "\n",
    "Para obtermos a mediana de uma conjunto de dados devemos proceder da seguinte maneira:\n",
    "1. Ordenar o conjunto de dados;\n",
    "2. Identificar o número de observações (registros) do conjunto de dados ($n$);\n",
    "3. Identicar o elemento mediano:\n",
    "\n",
    "> Quando $n$ for ímpar, a posição do elemento mediano será obtida da seguinte forma:\n",
    "\n",
    "\n",
    "# $$Elemento_{Md} = \\frac{n+1}2$$\n",
    "\n",
    "> Quando $n$ for par, a posição do elemento mediano será obtida da seguinte forma:\n",
    "\n",
    "\n",
    "# $$Elemento_{Md} = \\frac{n}2$$\n",
    "\n",
    "4. Obter a mediana:\n",
    "\n",
    "> Quando $n$ for ímpar:\n",
    "\n",
    "\n",
    "# $$Md = X_{Elemento_{Md}}$$\n",
    "\n",
    "> Quando $n$ for par:\n",
    "\n",
    "\n",
    "# $$Md = \\frac{X_{Elemento_{Md}} + X_{Elemento_{Md}+1}}2$$\n",
    "***"
   ]
  },
  {
   "cell_type": "markdown",
   "metadata": {
    "colab_type": "text",
    "id": "9geu3UcKjQMS"
   },
   "source": [
    "### <font color=red>Documentações:\n",
    "\n",
    "- [**median**](https://www.rdocumentation.org/packages/stats/versions/3.6.1/topics/median)\n",
    "- [**set.seed**](https://www.rdocumentation.org/packages/simEd/versions/1.0.3/topics/set.seed)\n",
    "- [**sample**](https://www.rdocumentation.org/packages/base/versions/3.6.1/topics/sample)"
   ]
  },
  {
   "cell_type": "markdown",
   "metadata": {
    "colab_type": "text",
    "id": "e0IuYdJFjQMT"
   },
   "source": [
    "### Exemplo 1 - n ímpar\n",
    "\n",
    "<img src='https://caelum-online-public.s3.amazonaws.com/1177-estatistica-parte1/01/img002.png' width='40%' style=\"float:left\">"
   ]
  },
  {
   "cell_type": "code",
   "execution_count": null,
   "metadata": {},
   "outputs": [],
   "source": []
  },
  {
   "cell_type": "code",
   "execution_count": null,
   "metadata": {},
   "outputs": [],
   "source": []
  },
  {
   "cell_type": "code",
   "execution_count": null,
   "metadata": {},
   "outputs": [],
   "source": []
  },
  {
   "cell_type": "code",
   "execution_count": null,
   "metadata": {
    "colab": {
     "base_uri": "https://localhost:8080/",
     "height": 35
    },
    "colab_type": "code",
    "id": "trC12MHxjQMY",
    "outputId": "917c6720-daa2-45be-a72d-3e0d63c67fd0"
   },
   "outputs": [],
   "source": []
  },
  {
   "cell_type": "code",
   "execution_count": null,
   "metadata": {
    "colab": {
     "base_uri": "https://localhost:8080/",
     "height": 71
    },
    "colab_type": "code",
    "id": "NKccffcLjQMZ",
    "outputId": "46c1c33a-100b-4aca-e876-f3589b699b48"
   },
   "outputs": [],
   "source": []
  },
  {
   "cell_type": "code",
   "execution_count": null,
   "metadata": {
    "colab": {
     "base_uri": "https://localhost:8080/",
     "height": 53
    },
    "colab_type": "code",
    "id": "ody5mfXLjQMb",
    "outputId": "d43b24b8-1d80-4780-a059-720cdc073353"
   },
   "outputs": [],
   "source": []
  },
  {
   "cell_type": "markdown",
   "metadata": {
    "colab_type": "text",
    "id": "hQHyjfLkjQMe"
   },
   "source": [
    "### Exemplo 2 - n par\n",
    "\n",
    "<img src='https://caelum-online-public.s3.amazonaws.com/1177-estatistica-parte1/01/img003.png' width='50%' style=\"float:left\">"
   ]
  },
  {
   "cell_type": "markdown",
   "metadata": {},
   "source": [
    "### Obtendo uma amostra aleatória dos dados"
   ]
  },
  {
   "cell_type": "code",
   "execution_count": null,
   "metadata": {},
   "outputs": [],
   "source": []
  },
  {
   "cell_type": "code",
   "execution_count": null,
   "metadata": {},
   "outputs": [],
   "source": []
  },
  {
   "cell_type": "code",
   "execution_count": null,
   "metadata": {},
   "outputs": [],
   "source": []
  },
  {
   "cell_type": "code",
   "execution_count": null,
   "metadata": {},
   "outputs": [],
   "source": []
  },
  {
   "cell_type": "code",
   "execution_count": null,
   "metadata": {
    "colab": {
     "base_uri": "https://localhost:8080/",
     "height": 35
    },
    "colab_type": "code",
    "id": "6wB1UztBjQMf",
    "outputId": "cbb15019-56a3-4c87-8b77-6e04371c3182"
   },
   "outputs": [],
   "source": []
  },
  {
   "cell_type": "code",
   "execution_count": null,
   "metadata": {
    "colab": {
     "base_uri": "https://localhost:8080/",
     "height": 35
    },
    "colab_type": "code",
    "id": "tEBVXl7CjQMh",
    "outputId": "499b28c7-6de7-40f4-cdd9-5fef5c5c084a"
   },
   "outputs": [],
   "source": []
  },
  {
   "cell_type": "code",
   "execution_count": null,
   "metadata": {},
   "outputs": [],
   "source": []
  },
  {
   "cell_type": "code",
   "execution_count": null,
   "metadata": {
    "colab": {
     "base_uri": "https://localhost:8080/",
     "height": 53
    },
    "colab_type": "code",
    "id": "IevBBtrRjQMj",
    "outputId": "6f299f8c-f0c1-4e44-9a0f-cd72834145ba"
   },
   "outputs": [],
   "source": []
  },
  {
   "cell_type": "markdown",
   "metadata": {
    "colab_type": "text",
    "id": "nK27TxrkjQMl"
   },
   "source": [
    "### Obtendo a mediana em nosso dataset"
   ]
  },
  {
   "cell_type": "code",
   "execution_count": null,
   "metadata": {
    "colab": {
     "base_uri": "https://localhost:8080/",
     "height": 35
    },
    "colab_type": "code",
    "id": "dJznpnjUjQMl",
    "outputId": "f4728447-b763-4116-9076-9ac9c4d19d75"
   },
   "outputs": [],
   "source": []
  },
  {
   "cell_type": "markdown",
   "metadata": {
    "colab_type": "text",
    "id": "CmCu6BXQjQMo"
   },
   "source": [
    "## <font color=green>3.3 Moda</font>\n",
    "***\n",
    "\n",
    "Pode-se definir a moda como sendo o valor mais frequente de um conjunto de dados. A moda é bastante utilizada para dados qualitativos."
   ]
  },
  {
   "cell_type": "markdown",
   "metadata": {
    "colab_type": "text",
    "id": "CmCu6BXQjQMo"
   },
   "source": [
    "### <font color=red>Documentações:\n",
    "\n",
    "- [**function**](https://www.rdocumentation.org/packages/base/versions/3.6.1/topics/function)"
   ]
  },
  {
   "cell_type": "code",
   "execution_count": null,
   "metadata": {
    "colab": {
     "base_uri": "https://localhost:8080/",
     "height": 266
    },
    "colab_type": "code",
    "id": "BHibMzw8X7Id",
    "outputId": "6b9375f3-1c22-4866-a40b-c28be3a01047"
   },
   "outputs": [],
   "source": []
  },
  {
   "cell_type": "code",
   "execution_count": null,
   "metadata": {},
   "outputs": [],
   "source": []
  },
  {
   "cell_type": "code",
   "execution_count": null,
   "metadata": {},
   "outputs": [],
   "source": []
  },
  {
   "cell_type": "code",
   "execution_count": null,
   "metadata": {},
   "outputs": [],
   "source": []
  },
  {
   "cell_type": "code",
   "execution_count": null,
   "metadata": {},
   "outputs": [],
   "source": []
  },
  {
   "cell_type": "code",
   "execution_count": null,
   "metadata": {},
   "outputs": [],
   "source": []
  },
  {
   "cell_type": "code",
   "execution_count": null,
   "metadata": {},
   "outputs": [],
   "source": []
  },
  {
   "cell_type": "code",
   "execution_count": null,
   "metadata": {},
   "outputs": [],
   "source": []
  },
  {
   "cell_type": "code",
   "execution_count": null,
   "metadata": {},
   "outputs": [],
   "source": []
  },
  {
   "cell_type": "code",
   "execution_count": null,
   "metadata": {},
   "outputs": [],
   "source": []
  },
  {
   "cell_type": "markdown",
   "metadata": {
    "colab_type": "text",
    "id": "YwhBwz-JjQMr"
   },
   "source": [
    "### Obtendo a moda em nosso dataset"
   ]
  },
  {
   "cell_type": "code",
   "execution_count": null,
   "metadata": {},
   "outputs": [],
   "source": []
  },
  {
   "cell_type": "code",
   "execution_count": null,
   "metadata": {},
   "outputs": [],
   "source": []
  },
  {
   "cell_type": "markdown",
   "metadata": {
    "colab_type": "text",
    "id": "_-0gjQWFjQMu"
   },
   "source": [
    "## <font color=green>3.4 Relação entre média, mediana e moda</font>\n",
    "***"
   ]
  },
  {
   "cell_type": "markdown",
   "metadata": {
    "colab_type": "text",
    "id": "0S7pa_jLjQMu"
   },
   "source": [
    "<img src='https://caelum-online-public.s3.amazonaws.com/1177-estatistica-parte1/01/img004.png' width='80%'>"
   ]
  },
  {
   "cell_type": "markdown",
   "metadata": {},
   "source": [
    "### <font color=red>Documentações:\n",
    "    \n",
    "- [**as.numeric**](https://www.rdocumentation.org/packages/base/versions/3.6.1/topics/numeric)"
   ]
  },
  {
   "cell_type": "markdown",
   "metadata": {
    "colab_type": "text",
    "id": "b7ZchyFsjQMu"
   },
   "source": [
    "### Avaliando a variável RENDA"
   ]
  },
  {
   "cell_type": "code",
   "execution_count": null,
   "metadata": {},
   "outputs": [],
   "source": [
    "ggplot(dados[dados$Renda < 20000, ], aes(x = Renda, y = ..density..)) + \n",
    "    geom_histogram(binwidth = 500) + \n",
    "    geom_density(color = 'green')"
   ]
  },
  {
   "cell_type": "code",
   "execution_count": null,
   "metadata": {},
   "outputs": [],
   "source": [
    "moda <- as.numeric(Moda(dados$Renda))\n",
    "moda"
   ]
  },
  {
   "cell_type": "code",
   "execution_count": null,
   "metadata": {},
   "outputs": [],
   "source": [
    "mediana <- median(dados$Renda)\n",
    "mediana"
   ]
  },
  {
   "cell_type": "code",
   "execution_count": null,
   "metadata": {},
   "outputs": [],
   "source": [
    "media <- mean(dados$Renda)\n",
    "media"
   ]
  },
  {
   "cell_type": "code",
   "execution_count": null,
   "metadata": {
    "colab": {
     "base_uri": "https://localhost:8080/",
     "height": 35
    },
    "colab_type": "code",
    "id": "nX6lnCBujQM0",
    "outputId": "d4bd80b4-9eee-4ad2-f41d-29c12362580e"
   },
   "outputs": [],
   "source": []
  },
  {
   "cell_type": "markdown",
   "metadata": {
    "colab_type": "text",
    "id": "FnLQAxSijQM1"
   },
   "source": [
    "***"
   ]
  },
  {
   "cell_type": "markdown",
   "metadata": {
    "colab_type": "text",
    "id": "WazchssNjQM1"
   },
   "source": [
    "### Avaliando a variável ALTURA"
   ]
  },
  {
   "cell_type": "code",
   "execution_count": null,
   "metadata": {
    "colab": {
     "base_uri": "https://localhost:8080/",
     "height": 406
    },
    "colab_type": "code",
    "id": "41uJsCk9jQM2",
    "outputId": "3f7aec0c-e6b0-4629-d235-8061ce3b25c4"
   },
   "outputs": [],
   "source": [
    "ggplot(dados, aes(x = Altura, y = ..density..)) + \n",
    "    geom_histogram() + \n",
    "    geom_density(color = 'green')"
   ]
  },
  {
   "cell_type": "code",
   "execution_count": null,
   "metadata": {
    "colab": {
     "base_uri": "https://localhost:8080/",
     "height": 197
    },
    "colab_type": "code",
    "id": "EkgerGuXjQM3",
    "outputId": "2966d112-76a5-4286-923c-bb01f02c6acf"
   },
   "outputs": [],
   "source": [
    "moda <- as.numeric(Moda(dados$Altura))\n",
    "moda"
   ]
  },
  {
   "cell_type": "code",
   "execution_count": null,
   "metadata": {
    "colab": {
     "base_uri": "https://localhost:8080/",
     "height": 35
    },
    "colab_type": "code",
    "id": "Jj6MFUXbjQM4",
    "outputId": "ef153a71-fa7b-4165-b23c-136157955825"
   },
   "outputs": [],
   "source": [
    "mediana <- median(dados$Altura)\n",
    "mediana"
   ]
  },
  {
   "cell_type": "code",
   "execution_count": null,
   "metadata": {
    "colab": {
     "base_uri": "https://localhost:8080/",
     "height": 35
    },
    "colab_type": "code",
    "id": "84X-3AzvjQM5",
    "outputId": "c2b94040-6ef1-46d1-cac1-58c8f6ba0d53"
   },
   "outputs": [],
   "source": [
    "media <- mean(dados$Altura)\n",
    "media"
   ]
  },
  {
   "cell_type": "markdown",
   "metadata": {
    "colab_type": "text",
    "id": "PJIMB8i8jQM6"
   },
   "source": [
    "***"
   ]
  },
  {
   "cell_type": "markdown",
   "metadata": {
    "colab_type": "text",
    "id": "eS4I2H7jjQM7"
   },
   "source": [
    "### Avaliando a variável ANOS DE ESTUDO"
   ]
  },
  {
   "cell_type": "code",
   "execution_count": null,
   "metadata": {
    "colab": {
     "base_uri": "https://localhost:8080/",
     "height": 407
    },
    "colab_type": "code",
    "id": "NPCcjXqPjQM8",
    "outputId": "e811449e-866e-4986-a20b-8f2d44ddb437"
   },
   "outputs": [],
   "source": [
    "ggplot(dados, aes(x = Anos.de.Estudo, y = ..density..)) + \n",
    "    geom_histogram() + \n",
    "    geom_density(color = 'green')"
   ]
  },
  {
   "cell_type": "code",
   "execution_count": null,
   "metadata": {
    "colab": {
     "base_uri": "https://localhost:8080/",
     "height": 35
    },
    "colab_type": "code",
    "id": "PjfvPYUajQM9",
    "outputId": "477cf5fc-d11a-4e6f-dc45-dade49eff315"
   },
   "outputs": [],
   "source": [
    "moda <- as.numeric(Moda(dados$Anos.de.Estudo))\n",
    "moda"
   ]
  },
  {
   "cell_type": "code",
   "execution_count": null,
   "metadata": {
    "colab": {
     "base_uri": "https://localhost:8080/",
     "height": 35
    },
    "colab_type": "code",
    "id": "VF_Bj8x2jQM-",
    "outputId": "70b0abb2-902e-4f80-b8c7-fe0f8c0e3140"
   },
   "outputs": [],
   "source": [
    "mediana <- median(dados$Anos.de.Estudo)\n",
    "mediana"
   ]
  },
  {
   "cell_type": "code",
   "execution_count": null,
   "metadata": {
    "colab": {
     "base_uri": "https://localhost:8080/",
     "height": 35
    },
    "colab_type": "code",
    "id": "ohqUZ5RsjQNA",
    "outputId": "286e2b23-ef56-453f-e92a-2c73887c1af4"
   },
   "outputs": [],
   "source": [
    "media = mean(dados$Anos.de.Estudo)\n",
    "media"
   ]
  },
  {
   "cell_type": "code",
   "execution_count": null,
   "metadata": {
    "colab": {
     "base_uri": "https://localhost:8080/",
     "height": 35
    },
    "colab_type": "code",
    "id": "AwM8UvApjQNC",
    "outputId": "91f0c84b-13ff-43e1-cac0-46ce0527ddec"
   },
   "outputs": [],
   "source": []
  },
  {
   "cell_type": "markdown",
   "metadata": {
    "colab_type": "text",
    "id": "vcaIo45UjQND"
   },
   "source": [
    "# <font color=green>4 MEDIDAS SEPARATRIZES</font>\n",
    "***"
   ]
  },
  {
   "cell_type": "markdown",
   "metadata": {
    "colab_type": "text",
    "id": "f4XrApNxjQNE"
   },
   "source": [
    "## <font color=green>4.1 Quartis, decis e percentis</font>\n",
    "***\n",
    "\n",
    "Há uma série de medidas de posição semelhantes na sua concepção à mediana, embora não sejam medidas de tendência central. Como se sabe, a mediana divide a distribuição em duas partes iguais quanto ao número de elementos de cada parte. Já os quartis permitem dividir a distribuição em quatro partes iguais quanto ao número de elementos de cada uma; os decis em dez partes e os centis em cem partes iguais."
   ]
  },
  {
   "cell_type": "markdown",
   "metadata": {
    "colab_type": "text",
    "id": "f4XrApNxjQNE"
   },
   "source": [
    "### <font color=red>Documentações:\n",
    "\n",
    "- [**quantile**](https://www.rdocumentation.org/packages/stats/versions/3.6.1/topics/quantile)\n",
    "- [**for**](https://www.rdocumentation.org/packages/base/versions/3.6.1/topics/Control)\n",
    "- [**length**](https://www.rdocumentation.org/packages/base/versions/3.6.1/topics/length)"
   ]
  },
  {
   "cell_type": "code",
   "execution_count": null,
   "metadata": {
    "colab": {
     "base_uri": "https://localhost:8080/",
     "height": 89
    },
    "colab_type": "code",
    "id": "VmbdUO-ujQNE",
    "outputId": "d7a091db-3901-45ae-95c9-2d1a6b840cb6"
   },
   "outputs": [],
   "source": []
  },
  {
   "cell_type": "code",
   "execution_count": null,
   "metadata": {},
   "outputs": [],
   "source": []
  },
  {
   "cell_type": "code",
   "execution_count": null,
   "metadata": {
    "colab": {
     "base_uri": "https://localhost:8080/",
     "height": 197
    },
    "colab_type": "code",
    "id": "EpRKboV5jQNG",
    "outputId": "dfe7892e-35d2-4b99-a635-68a04967b84f"
   },
   "outputs": [],
   "source": []
  },
  {
   "cell_type": "code",
   "execution_count": null,
   "metadata": {},
   "outputs": [],
   "source": []
  },
  {
   "cell_type": "code",
   "execution_count": null,
   "metadata": {},
   "outputs": [],
   "source": [
    "ggplot(data = \"#\", aes(x = \"#\")) + \n",
    "    geom_histogram(\n",
    "        aes(y = \"#\"), \n",
    "        bins = 10\n",
    "    ) + \n",
    "    geom_freqpoly(\n",
    "        aes(y = \"#\"), \n",
    "        color = 'green'\n",
    "    )"
   ]
  },
  {
   "cell_type": "code",
   "execution_count": null,
   "metadata": {},
   "outputs": [],
   "source": []
  },
  {
   "cell_type": "markdown",
   "metadata": {},
   "source": [
    "### Classificação percentual"
   ]
  },
  {
   "cell_type": "code",
   "execution_count": null,
   "metadata": {},
   "outputs": [],
   "source": []
  },
  {
   "cell_type": "markdown",
   "metadata": {
    "colab_type": "text",
    "id": "6gIeZO_CjQNJ"
   },
   "source": [
    "## <font color=green>4.2 Box-plot</font>\n",
    "***\n",
    "\n",
    "O box plot dá uma idéia da posição, dispersão, assimetria, caudas e dados discrepantes (outliers). A posição central é dada pela mediana e a dispersão por $IIQ$. As posições relativas de $Q1$, $Mediana$ e $Q3$ dão uma noção da simetria da distribuição. Os comprimentos das cauda são dados pelas linhas que vão do retângulo aos valores remotos e pelos valores atípicos."
   ]
  },
  {
   "cell_type": "markdown",
   "metadata": {
    "colab_type": "text",
    "id": "6gIeZO_CjQNJ"
   },
   "source": [
    "#### <font color=red>Documentações:\n",
    "\n",
    "- [**geom_boxplot**](https://www.rdocumentation.org/packages/ggplot2/versions/3.2.1/topics/geom_boxplot)\n",
    "- [**factor**](https://www.rdocumentation.org/packages/base/versions/3.6.1/topics/factor)"
   ]
  },
  {
   "cell_type": "markdown",
   "metadata": {
    "colab_type": "text",
    "id": "VeiTE_gvjQNK"
   },
   "source": [
    "<img src='https://caelum-online-public.s3.amazonaws.com/1177-estatistica-parte1/01/img005.png' width='65%'>"
   ]
  },
  {
   "cell_type": "code",
   "execution_count": null,
   "metadata": {},
   "outputs": [],
   "source": [
    "sexo = c(\n",
    "    'Masculino', \n",
    "    'Feminino'\n",
    ")\n",
    "cor = c(\n",
    "    'Indígena', \n",
    "    'Branca', \n",
    "    'Preta', \n",
    "    'Amarela', \n",
    "    'Parda'\n",
    ")\n",
    "anos_de_estudo = c(\n",
    "    'Sem instrução e menos de 1 ano', \n",
    "    '1 ano', \n",
    "    '2 anos', \n",
    "    '3 anos', \n",
    "    '4 anos', \n",
    "    '5 anos', \n",
    "    '6 anos', \n",
    "    '7 anos', \n",
    "    '8 anos', \n",
    "    '9 anos', \n",
    "    '10 anos', \n",
    "    '11 anos', \n",
    "    '12 anos', \n",
    "    '13 anos', \n",
    "    '14 anos', \n",
    "    '15 anos ou mais', \n",
    "    'Não determinados'\n",
    ")"
   ]
  },
  {
   "cell_type": "code",
   "execution_count": null,
   "metadata": {},
   "outputs": [],
   "source": [
    "ggplot(data = \"#\", aes(x = \"#\", y = \"#\")) + \n",
    "    stat_boxplot(geom ='errorbar', width = 0.4) + \n",
    "    geom_boxplot(fill = '#3274A1') + \n",
    "    coord_flip() +\n",
    "    ylab(\"Metros\") + \n",
    "    xlab(\"\") + \n",
    "    ggtitle('Box-plot Alturas') +\n",
    "    formatos"
   ]
  },
  {
   "cell_type": "code",
   "execution_count": null,
   "metadata": {},
   "outputs": [],
   "source": [
    "ggplot(data = \"#\", aes(x = \"#\", y = \"#\", group = \"#\")) + \n",
    "    stat_boxplot(geom ='errorbar', width = 0.4) + \n",
    "    geom_boxplot(fill = c('#3274A1', \"orange\")) + \n",
    "    coord_flip() +\n",
    "    ylab(\"Metros\") + \n",
    "    xlab(\"Sexo\") + \n",
    "    ggtitle('Box-plot Alturas X Sexo') +\n",
    "    formatos"
   ]
  },
  {
   "cell_type": "code",
   "execution_count": null,
   "metadata": {},
   "outputs": [],
   "source": []
  },
  {
   "cell_type": "code",
   "execution_count": null,
   "metadata": {},
   "outputs": [],
   "source": []
  },
  {
   "cell_type": "code",
   "execution_count": null,
   "metadata": {},
   "outputs": [],
   "source": [
    "ggplot(data = \"#\", aes(x = \"#\", y = \"#\")) + \n",
    "    stat_boxplot(geom ='errorbar', width = 0.4) + \n",
    "    geom_boxplot(fill = c('#3274A1', \"orange\")) + \n",
    "    coord_flip() +\n",
    "    ylab(\"Metros\") + \n",
    "    xlab(\"Sexo\") + \n",
    "    ggtitle('Box-plot Alturas X Sexo') +\n",
    "    formatos"
   ]
  },
  {
   "cell_type": "code",
   "execution_count": null,
   "metadata": {},
   "outputs": [],
   "source": [
    "ggplot(data = \"#\", aes(x = \"#\", y = \"#\")) + \n",
    "    stat_boxplot(geom ='errorbar', width = 0.4) + \n",
    "    geom_boxplot(fill = '#3274A1') + \n",
    "    coord_flip() +\n",
    "    ylab(\"R$\") + \n",
    "    xlab(\"\") + \n",
    "    ggtitle('Box-plot Renda') +\n",
    "    formatos"
   ]
  },
  {
   "cell_type": "code",
   "execution_count": null,
   "metadata": {},
   "outputs": [],
   "source": [
    "ggplot(data = \"#\", aes(x = \"#\", y = \"#\")) + \n",
    "    stat_boxplot(geom ='errorbar', width = 0.4) + \n",
    "    geom_boxplot(fill = c('#3274A1', \"orange\")) + \n",
    "    coord_flip() +\n",
    "    ylab(\"R$\") + \n",
    "    xlab(\"Sexo\") + \n",
    "    ggtitle('Box-plot Renda X Sexo') +\n",
    "    formatos"
   ]
  },
  {
   "cell_type": "code",
   "execution_count": null,
   "metadata": {},
   "outputs": [],
   "source": []
  },
  {
   "cell_type": "code",
   "execution_count": null,
   "metadata": {},
   "outputs": [],
   "source": []
  },
  {
   "cell_type": "code",
   "execution_count": null,
   "metadata": {},
   "outputs": [],
   "source": [
    "ggplot(data = \"#\", aes(x = \"#\", y = \"#\")) + \n",
    "    stat_boxplot(geom ='errorbar', width = 0.4) + \n",
    "    geom_boxplot(fill = '#3274A1') + \n",
    "    coord_flip() +\n",
    "    ylab(\"Anos\") + \n",
    "    xlab(\"\") + \n",
    "    ggtitle('Box-plot Anos de Estudo') +\n",
    "    formatos"
   ]
  },
  {
   "cell_type": "code",
   "execution_count": null,
   "metadata": {},
   "outputs": [],
   "source": [
    "ggplot(data = \"#\", aes(x = \"#\", y = \"#\")) + \n",
    "    stat_boxplot(geom ='errorbar', width = 0.4) + \n",
    "    geom_boxplot(fill = c('#3274A1', \"orange\")) + \n",
    "    coord_flip() +\n",
    "    ylab(\"Anos\") + \n",
    "    xlab(\"Sexo\") + \n",
    "    ggtitle('Box-plot Anos de Estudo X Sexo') +\n",
    "    formatos"
   ]
  },
  {
   "cell_type": "markdown",
   "metadata": {
    "colab_type": "text",
    "id": "amloMZwVjQNN"
   },
   "source": [
    "<img src='https://caelum-online-public.s3.amazonaws.com/1177-estatistica-parte1/01/img006.png' width='80%'>"
   ]
  },
  {
   "cell_type": "markdown",
   "metadata": {
    "colab_type": "text",
    "id": "aJ6v_NI9jQNN"
   },
   "source": [
    "# <font color=green>5 MEDIDAS DE DISPERSÃO</font>\n",
    "***\n",
    "\n",
    "Embora as medidas de posição forneçam uma sumarização bastante importante dos dados, elas podem não ser suficientes para caracterizar conjuntos distintos, especialmente quando as observações de determinada distribuição apresentarem dados muito dispersos."
   ]
  },
  {
   "cell_type": "markdown",
   "metadata": {
    "colab_type": "text",
    "id": "D6xVxAQ7jQNO"
   },
   "source": [
    "## <font color=green>5.1 Desvio médio absoluto</font>\n",
    "***\n",
    "\n",
    "\n",
    "# $$DM = \\frac 1n\\sum_{i=1}^{n}|X_i-\\bar{X}|$$"
   ]
  },
  {
   "cell_type": "markdown",
   "metadata": {
    "colab_type": "text",
    "id": "D6xVxAQ7jQNO"
   },
   "source": [
    "### <font color=red>Documentações:\n",
    "\n",
    "- [**sum**](https://www.rdocumentation.org/packages/base/versions/3.6.1/topics/sum)\n",
    "- [**abs**](https://www.rdocumentation.org/packages/base/versions/3.6.1/topics/MathFun)\n",
    "- [**DescTools**](https://www.rdocumentation.org/packages/DescTools/versions/0.99.30)\n",
    "- [**MeanAD**](https://www.rdocumentation.org/packages/DescTools/versions/0.99.30/topics/MeanAD)"
   ]
  },
  {
   "cell_type": "code",
   "execution_count": null,
   "metadata": {
    "colab": {
     "base_uri": "https://localhost:8080/",
     "height": 266
    },
    "colab_type": "code",
    "id": "0sL31blV7nz3",
    "outputId": "5f44f5d3-88b4-40e2-810c-7e1e1a9bace0"
   },
   "outputs": [],
   "source": []
  },
  {
   "cell_type": "code",
   "execution_count": null,
   "metadata": {},
   "outputs": [],
   "source": []
  },
  {
   "cell_type": "code",
   "execution_count": null,
   "metadata": {
    "colab": {
     "base_uri": "https://localhost:8080/",
     "height": 35
    },
    "colab_type": "code",
    "id": "8_Q2tOTmjQNO",
    "outputId": "5c0d8214-aa63-4d0f-cfb1-f61bc171195f"
   },
   "outputs": [],
   "source": []
  },
  {
   "cell_type": "code",
   "execution_count": null,
   "metadata": {},
   "outputs": [],
   "source": []
  },
  {
   "cell_type": "code",
   "execution_count": null,
   "metadata": {
    "colab": {
     "base_uri": "https://localhost:8080/",
     "height": 35
    },
    "colab_type": "code",
    "id": "OiWDTw0ljQNQ",
    "outputId": "0123646d-ad0d-457e-cc5a-035bd6a843ec"
   },
   "outputs": [],
   "source": []
  },
  {
   "cell_type": "code",
   "execution_count": null,
   "metadata": {
    "colab": {
     "base_uri": "https://localhost:8080/",
     "height": 266
    },
    "colab_type": "code",
    "id": "qQbjktz5jQNR",
    "outputId": "d3649964-e345-457c-859c-e179e57e1468"
   },
   "outputs": [],
   "source": []
  },
  {
   "cell_type": "code",
   "execution_count": null,
   "metadata": {},
   "outputs": [],
   "source": [
    "ggplot(data = notas_fulano, aes(x = row.names(notas_fulano), y = Fulano)) + \n",
    "    geom_point() + \n",
    "    geom_hline(yintercept = mean(notas_fulano$Fulano), color = 'red') + \n",
    "    geom_segment(aes(x = 1, y = 10, xend = 1, yend = mean(notas_fulano$Fulano))) + \n",
    "    geom_segment(aes(x = 2, y = 8, xend = 2, yend = mean(notas_fulano$Fulano))) + \n",
    "    geom_segment(aes(x = 3, y = 6, xend = 3, yend = mean(notas_fulano$Fulano))) + \n",
    "    geom_segment(aes(x = 4, y = 4, xend = 4, yend = mean(notas_fulano$Fulano))) + \n",
    "    geom_segment(aes(x = 5, y = 8, xend = 5, yend = mean(notas_fulano$Fulano))) + \n",
    "    geom_segment(aes(x = 6, y = 10, xend = 6, yend = mean(notas_fulano$Fulano))) + \n",
    "    geom_segment(aes(x = 7, y = 8, xend = 7, yend = mean(notas_fulano$Fulano)))"
   ]
  },
  {
   "cell_type": "code",
   "execution_count": null,
   "metadata": {
    "colab": {
     "base_uri": "https://localhost:8080/",
     "height": 35
    },
    "colab_type": "code",
    "id": "m4buiQWF01xt",
    "outputId": "e166623b-e7a4-44f6-ecb1-2cfc0bc43ab1"
   },
   "outputs": [],
   "source": []
  },
  {
   "cell_type": "markdown",
   "metadata": {},
   "source": [
    "### Instalando o pacote DescTools"
   ]
  },
  {
   "cell_type": "code",
   "execution_count": null,
   "metadata": {},
   "outputs": [],
   "source": []
  },
  {
   "cell_type": "code",
   "execution_count": null,
   "metadata": {},
   "outputs": [],
   "source": []
  },
  {
   "cell_type": "code",
   "execution_count": null,
   "metadata": {
    "colab": {
     "base_uri": "https://localhost:8080/",
     "height": 35
    },
    "colab_type": "code",
    "id": "1PEJ_LUn01eV",
    "outputId": "ff37d20d-b3d1-408a-c300-79b81dafb398"
   },
   "outputs": [],
   "source": []
  },
  {
   "cell_type": "markdown",
   "metadata": {
    "colab_type": "text",
    "id": "jSKfnKwEjQNW"
   },
   "source": [
    "## <font color=green>5.2 Variância</font>\n",
    "***"
   ]
  },
  {
   "cell_type": "markdown",
   "metadata": {
    "colab_type": "text",
    "id": "tHD3yNqzjQNW"
   },
   "source": [
    "### Variância\n",
    "\n",
    "A variância é construída a partir das diferenças entre cada observação e a média dos dados, ou seja, o desvio em torno da média. No cálculo da variância, os desvios em torno da média são elevados ao quadrado."
   ]
  },
  {
   "cell_type": "markdown",
   "metadata": {
    "colab_type": "text",
    "id": "WrCn9hw0jQNX"
   },
   "source": [
    "### Variância populacional\n",
    "\n",
    "# $$\\sigma^2 = \\frac 1n\\sum_{i=1}^{n}(X_i-\\mu)^2$$"
   ]
  },
  {
   "cell_type": "markdown",
   "metadata": {
    "colab_type": "text",
    "id": "jV5mQT_djQNX"
   },
   "source": [
    "### Variância amostral\n",
    "\n",
    "# $$S^2 = \\frac 1{n-1}\\sum_{i=1}^{n}(X_i-\\bar{X})^2$$"
   ]
  },
  {
   "cell_type": "markdown",
   "metadata": {},
   "source": [
    "### <font color=red>Documentações:\n",
    "\n",
    "- [**var**](https://www.rdocumentation.org/packages/stats/versions/3.6.1/topics/cor)"
   ]
  },
  {
   "cell_type": "code",
   "execution_count": null,
   "metadata": {
    "colab": {
     "base_uri": "https://localhost:8080/",
     "height": 266
    },
    "colab_type": "code",
    "id": "4tlbCQeujQNZ",
    "outputId": "21e4a6b5-8a87-4338-8f94-b02ef2ea9e07"
   },
   "outputs": [],
   "source": []
  },
  {
   "cell_type": "code",
   "execution_count": null,
   "metadata": {
    "colab": {
     "base_uri": "https://localhost:8080/",
     "height": 35
    },
    "colab_type": "code",
    "id": "oCcAfoIOjQNa",
    "outputId": "e55249a4-6d91-4776-d89f-428f067a87ae"
   },
   "outputs": [],
   "source": []
  },
  {
   "cell_type": "code",
   "execution_count": null,
   "metadata": {
    "colab": {
     "base_uri": "https://localhost:8080/",
     "height": 35
    },
    "colab_type": "code",
    "id": "EyrfPHLtjQNb",
    "outputId": "a024839f-1c4a-4a91-b892-3966d7cc8f95"
   },
   "outputs": [],
   "source": []
  },
  {
   "cell_type": "markdown",
   "metadata": {
    "colab_type": "text",
    "id": "wQl_CsytjQNg"
   },
   "source": [
    "## <font color=green>5.3 Desvio padrão</font>\n",
    "***\n",
    "\n",
    "Uma das restrições da variância é o fato de fornecer medidas em quadrados das unidades originais - a variância de medidas de comprimento, por exemplo, é em unidades de área. Logo, o fato de as unidades serem diferentes dificulta a comparação da dispersão com as variáveis que a definem. Um modo de eliminar essa dificuldade é considerar sua raiz quadrada."
   ]
  },
  {
   "cell_type": "markdown",
   "metadata": {
    "colab_type": "text",
    "id": "X9w1Iqt3jQNg"
   },
   "source": [
    "### Desvio padrão populacional\n",
    "\n",
    "# $$\\sigma = \\sqrt{\\frac 1n\\sum_{i=1}^{n}(X_i-\\mu)^2} \\Longrightarrow \\sigma = \\sqrt{\\sigma^2}$$"
   ]
  },
  {
   "cell_type": "markdown",
   "metadata": {
    "colab_type": "text",
    "id": "D3J4MvMpjQNg"
   },
   "source": [
    "### Desvio padrão amostral\n",
    "\n",
    "# $$S = \\sqrt{\\frac 1{n-1}\\sum_{i=1}^{n}(X_i-\\bar{X})^2} \\Longrightarrow S = \\sqrt{S^2}$$"
   ]
  },
  {
   "cell_type": "markdown",
   "metadata": {},
   "source": [
    "### <font color=red>Documentações:\n",
    "\n",
    "- [**sd**](https://www.rdocumentation.org/packages/stats/versions/3.6.1/topics/sd)\n",
    "- [**summary**](https://www.rdocumentation.org/packages/base/versions/3.6.1/topics/summary)"
   ]
  },
  {
   "cell_type": "code",
   "execution_count": null,
   "metadata": {
    "colab": {
     "base_uri": "https://localhost:8080/",
     "height": 35
    },
    "colab_type": "code",
    "id": "2di6iLFaSPda",
    "outputId": "d4b3d928-0ef9-4412-8b97-a16724770f84"
   },
   "outputs": [],
   "source": []
  },
  {
   "cell_type": "code",
   "execution_count": null,
   "metadata": {
    "colab": {
     "base_uri": "https://localhost:8080/",
     "height": 35
    },
    "colab_type": "code",
    "id": "BMTx9yKHSPON",
    "outputId": "2a045e01-b0a6-4c42-96e8-18708617687d"
   },
   "outputs": [],
   "source": []
  },
  {
   "cell_type": "code",
   "execution_count": null,
   "metadata": {
    "colab": {
     "base_uri": "https://localhost:8080/",
     "height": 266
    },
    "colab_type": "code",
    "id": "_PeQtqbdjQNh",
    "outputId": "dd38bbe1-9fbc-4be6-85a5-8e481520bf85"
   },
   "outputs": [],
   "source": []
  },
  {
   "cell_type": "code",
   "execution_count": null,
   "metadata": {
    "colab": {
     "base_uri": "https://localhost:8080/",
     "height": 107
    },
    "colab_type": "code",
    "id": "5LYOKy25jQNi",
    "outputId": "c263cc75-8407-4546-ef00-64a6abd9a6a7"
   },
   "outputs": [],
   "source": []
  },
  {
   "cell_type": "code",
   "execution_count": null,
   "metadata": {
    "colab": {
     "base_uri": "https://localhost:8080/",
     "height": 80
    },
    "colab_type": "code",
    "id": "G8vorygCjQNk",
    "outputId": "39af6a22-deed-47eb-eeee-17e48ccf9a7f"
   },
   "outputs": [],
   "source": []
  },
  {
   "cell_type": "code",
   "execution_count": null,
   "metadata": {
    "colab": {
     "base_uri": "https://localhost:8080/",
     "height": 107
    },
    "colab_type": "code",
    "id": "01op3BEvjQNl",
    "outputId": "5b427605-ac79-4071-8b6f-4eee089337a0"
   },
   "outputs": [],
   "source": []
  },
  {
   "cell_type": "code",
   "execution_count": null,
   "metadata": {
    "colab": {},
    "colab_type": "code",
    "id": "aiUvZluhUx-0"
   },
   "outputs": [],
   "source": []
  }
 ],
 "metadata": {
  "colab": {
   "name": "Curso_de_Estatística_Parte_1.ipynb",
   "provenance": [],
   "toc_visible": true,
   "version": "0.3.2"
  },
  "kernelspec": {
   "display_name": "R",
   "language": "R",
   "name": "ir"
  },
  "language_info": {
   "codemirror_mode": "r",
   "file_extension": ".r",
   "mimetype": "text/x-r-source",
   "name": "R",
   "pygments_lexer": "r",
   "version": "3.6.1"
  }
 },
 "nbformat": 4,
 "nbformat_minor": 1
}
